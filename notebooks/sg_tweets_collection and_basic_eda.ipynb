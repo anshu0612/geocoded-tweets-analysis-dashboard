{
 "cells": [
  {
   "cell_type": "markdown",
   "id": "62a16bcf-34a8-41d2-b778-c98fc45d347b",
   "metadata": {},
   "source": [
    "# Filtering and analysing Singapore-based tweets - exploratory data analysis"
   ]
  },
  {
   "cell_type": "markdown",
   "id": "8904b41d-2c11-4612-bea9-3c8c110b4791",
   "metadata": {},
   "source": [
    "### Introduction\n",
    "**Challenge**: Collecting tweets by ***Singapore-based users*** from streaming Twitter data.\n",
    "\n",
    "Previous research works relied on relaxed and limited heuristics resulting in noisy data containing false positives of Singapore-based users' tweets. \n",
    "This challenging problem is addressed with the help of plausible heuristics to gather Singapore-based users' tweets. \n",
    "The data analyses suggest that curated tweets give credible insights about Singapore. \n",
    "\n",
    "First, the Twitter streaming data is ingested into MongoDB, data wrangling is performed to curate Singapore-based tweets based on heuristics. \n",
    "Exploratory data analysis is then performed on the curated tweets. \n",
    "\n",
    "**Factual**: \n",
    "- Less than 0.01% of Twitter users will push tweets with their GPS locations.\n",
    "- Estimated Singapore Twitter Users 1.7M [(Source)](https://www.statista.com/statistics/490600/twitter-users-singapore/#:~:text=Number%20of%20Twitter%20users%20in%20Singapore%202019%2D2021&text=In%202021%2C%20there%20were%20over,between%2025%2D34%20years%20old)\n",
    "- Tweets grabbed from streaming data will have 0 favorites or retweets, since the tweets are already captured even before others react :D \n",
    "\n",
    "Check out the [Twitter streaming API response](https://developer.twitter.com/en/docs/twitter-api/v1/data-dictionary/object-model/tweet) for a better understanding of the notebooks. "
   ]
  },
  {
   "cell_type": "markdown",
   "id": "717583b8-ee5b-4e26-9f70-3b22c4e2586e",
   "metadata": {},
   "source": [
    "### [Table of Contents](#cell2)\n",
    "\n",
    "* 1\\. [Heuristics for filtering Singapore-based users' tweets from streaming twitter API](#cell1)\n",
    "* 2\\.     [Loading the data (csv files)](#cell2)\n",
    "* 3\\. [Cleaning and processing the data](#cell3)\n",
    "    * 3.1. [Datetime cleanup and formatting](#cell31)\n",
    "    * 3.2. [Geocoding fixes](#cell32)\n",
    "<!--         * 3.2.1 [Replacing nan with 'Unknown'](#cell321)\n",
    "        * 3.2.2 [Replacing nan with 'Unknown'](#cell321)\n",
    "        * 3.2.3 [Replacing nan with 'Unknown'](#cell321)\n",
    "        * 3.2.4 [Replacing nan with 'Unknown'](#cell321) -->\n",
    "    * 3.3. [Filtering out non-Singapore accounts - reducing false positives and false negatives](#cell33)\n",
    "    * 3.4. [Processing the tweets and quoted tweets](#cell34)\n",
    "* 4\\. [Exploratory data analysis of Singapore geo-coded tweets](#cell4) \n",
    "    * 4.1. [Basics](#cell41)\n",
    "    * 4.2. [Sentiment analysis of tweets and quoted tweets](#cell42) \n",
    "    * 4.3. [Analysing Singapore users](#cell43)\n",
    "    * 4.4. [Analysing potentially sensitive tweets (PST) with links](#cell44)\n",
    "    * 4.5. [Popular hashtags](#cell45)\n",
    "    * 4.6. [Popular mentions](#cell46)\n",
    "    * 4.7. [Regional analysis](#cell47)\n",
    "    * 4.8. [Others](#cell48)"
   ]
  },
  {
   "cell_type": "code",
   "execution_count": 118,
   "id": "28fe7b97-7308-46b1-834e-da49b0f08168",
   "metadata": {},
   "outputs": [],
   "source": [
    "import re\n",
    "import sys\n",
    "import os\n",
    "import time\n",
    "import glob \n",
    "import json\n",
    "import random\n",
    "from datetime import datetime  as dt\n",
    "\n",
    "import collections as col\n",
    "\n",
    "import numpy as np\n",
    "import pandas as pd\n",
    "\n",
    "# import functools as ft\n",
    "import itertools as it\n",
    "\n",
    "# visualizations\n",
    "import plotly.express as px\n",
    "import matplotlib.pyplot as plt"
   ]
  },
  {
   "cell_type": "code",
   "execution_count": 119,
   "id": "9a156939-63a6-4e30-9ca5-4900406138cc",
   "metadata": {},
   "outputs": [],
   "source": [
    "import warnings\n",
    "warnings.filterwarnings(\"ignore\")"
   ]
  },
  {
   "cell_type": "code",
   "execution_count": 120,
   "id": "552e43b4-03c5-4d0e-9525-0531c072b86e",
   "metadata": {},
   "outputs": [],
   "source": [
    "# to import the desired function from the module hierarchy\n",
    "module_path = os.path.abspath(os.path.join('..'))\n",
    "if module_path not in sys.path:\n",
    "    sys.path.append(module_path)"
   ]
  },
  {
   "cell_type": "markdown",
   "id": "46078cec-c69d-4046-8fbb-6b3738c7fe2a",
   "metadata": {},
   "source": [
    "# 1. Heuristics for filtering Singapore-based users' tweets from streaming twitter API <a id=\"cell1\"></a>\n",
    "\n",
    "##### Tweets from the streaming twitter API are first ingested into MongoDB. The below heuristics are then applied on the collected tweets to fetch Singapore-based users' tweets:   \n",
    "\n",
    "**Step 1 -  Collection of potential Singapore-based twitter users:** Users who follow at least 2 of the Singapore based twitter accounts listed below: \n",
    "\n",
    "`Singapore based twitter handles\n",
    "'mindefsg', 'MOEsg', 'sporeMOH', 'LTAsg', 'SMRT_Singapore', 'SBSTransit_Ltd', 'SingaporeHDB', 'MNDSingapore', 'mhasingapore', 'SingaporePolice', 'URAsg',  'MAS_sg', 'MOFsg', 'ICASingapore', 'SingaporeMCI', 'nlbsingapore', 'IMDAsg',  'NEAsg', 'nparksbuzz', 'SGSportsHub', 'govsingapore', 'SingaporeCAAS', 'MFAsg',\n",
    " ‘iremembersg', 'youthsg', 'NUSingapore', 'NTUsg', 'sgSMU', 'sutdsg', 'SGRedCross',  'STcom', 'ChannelNewsAsia', 'TODAYonline', 'asiaonecom', 'thenewpaper', 'MothershipSG', 'Singtel', 'StarHub', 'MyRepublicSG', 'M1Singapore', 'temasekpoly', 'singaporetech','SingaporePoly', 'PUBsingapore', 'NgeeAnnNP', 'ITESpore', 'mediacorp', 'YahooSG',  'TimeOutSG', 'VisitSingapore', 'stb_sg', 'GovTechSG', 'SGmagazine', 'mySingapore',  'sgelection', 'SGAG_SG', 'TEDxSingapore', 'STATravelSG', 'STPix'`\n",
    " \n",
    "##### Collected users count: 888739\n",
    "\n",
    "The file `get_sg_users.py` contains the code for Step 2.\n",
    "\n",
    "The file `/data/min_2_following_users.txt` contains the list of collected twitter user ids.\n",
    "\n",
    "**Step 2 - Filtering users' tweets:** Tweets from a user whose:\n",
    "1. **Twitter user id** in the collected ids as mentioned above OR\n",
    "2. **Place** is set to Singapore OR\n",
    "3. **Location** containing `'sg', 'spore', 'singapore', 'singapura'`\n",
    "4. **Description** containing `'spore', 'singapore', 'singapura'`\n",
    "\n",
    "The file `get_sg_tweets.py` contains the code for Step 2.\n",
    "\n",
    "**Step 3 - Filtering tweets with geocoded country as 'Singapore'**\n"
   ]
  },
  {
   "cell_type": "markdown",
   "id": "5d1baef7-10fa-468d-9220-05a5ffaef242",
   "metadata": {},
   "source": [
    "# 2. Loading the data (csv files) <a id=\"cell2\"></a>\n",
    "##### Loading and merging the fragmented csvs files. The files contain the collected Singapore-based tweets."
   ]
  },
  {
   "cell_type": "code",
   "execution_count": null,
   "id": "45f199cb-49f6-4f71-986d-11e0fa8c6b3c",
   "metadata": {},
   "outputs": [],
   "source": [
    "BASE_PATH = '../data/'\n",
    "SG_TWEETS_PATH = 'fragmented_data/tweets_sg/'\n",
    "SG_TWEETS_ENGAGEMENTS_PATH = 'fragmented_data/tweets_engagements_sg/'"
   ]
  },
  {
   "cell_type": "code",
   "execution_count": null,
   "id": "d4a43588-401d-4b4d-a35f-34a31f3e362f",
   "metadata": {},
   "outputs": [],
   "source": [
    "# csvs containing users and tweets specific data\n",
    "tw_data = pd.concat([pd.read_csv(csv_file, index_col=0, header=0, engine='python') for csv_file in glob.glob(\n",
    "            os.path.join(BASE_PATH, SG_TWEETS_PATH, \"*.csv\"))], axis=0, ignore_index=True)\n",
    "\n",
    "# csvs containing the collected tweets' engagement data - retweets, replies and quoted tweets\n",
    "tw_eng_data = pd.concat([pd.read_csv(csv_file, index_col=0, header=0, engine='python') for csv_file in glob.glob(\n",
    "            os.path.join(BASE_PATH, SG_TWEETS_ENGAGEMENTS_PATH, \"*.csv\"))], axis=0, ignore_index=True)"
   ]
  },
  {
   "cell_type": "code",
   "execution_count": 123,
   "id": "1f0da77c-8a8d-478d-a9f5-a9566af3ebca",
   "metadata": {},
   "outputs": [
    {
     "data": {
      "text/html": [
       "<div>\n",
       "<style scoped>\n",
       "    .dataframe tbody tr th:only-of-type {\n",
       "        vertical-align: middle;\n",
       "    }\n",
       "\n",
       "    .dataframe tbody tr th {\n",
       "        vertical-align: top;\n",
       "    }\n",
       "\n",
       "    .dataframe thead th {\n",
       "        text-align: right;\n",
       "    }\n",
       "</style>\n",
       "<table border=\"1\" class=\"dataframe\">\n",
       "  <thead>\n",
       "    <tr style=\"text-align: right;\">\n",
       "      <th></th>\n",
       "      <th>tweet_text</th>\n",
       "      <th>tweet_time</th>\n",
       "      <th>tweet_id</th>\n",
       "      <th>tweet_lang</th>\n",
       "      <th>tweet_possibly_sensitive</th>\n",
       "      <th>entity_image_url</th>\n",
       "      <th>entity_mentions</th>\n",
       "      <th>entity_hashtags</th>\n",
       "      <th>entity_link_url</th>\n",
       "      <th>user_id</th>\n",
       "      <th>user_name</th>\n",
       "      <th>user_screenname</th>\n",
       "      <th>user_friends_count</th>\n",
       "      <th>user_followers_count</th>\n",
       "      <th>user_verified</th>\n",
       "      <th>user_location</th>\n",
       "      <th>user_desc</th>\n",
       "      <th>user_geo_coding</th>\n",
       "      <th>user_geo_tagging</th>\n",
       "    </tr>\n",
       "  </thead>\n",
       "  <tbody>\n",
       "    <tr>\n",
       "      <th>0</th>\n",
       "      <td>RT @NickHudsonCT: Read the replies! People see...</td>\n",
       "      <td>Fri Aug 06 04:50:47 +0000 2021</td>\n",
       "      <td>1423506816089133057</td>\n",
       "      <td>en</td>\n",
       "      <td>NaN</td>\n",
       "      <td>NaN</td>\n",
       "      <td>NickHudsonCT</td>\n",
       "      <td>NaN</td>\n",
       "      <td>NaN</td>\n",
       "      <td>1223307253236817922</td>\n",
       "      <td>Coronavirus</td>\n",
       "      <td>JayChance12</td>\n",
       "      <td>4299.0</td>\n",
       "      <td>450</td>\n",
       "      <td>False</td>\n",
       "      <td>ElysiumTimeIn fr all on Earth</td>\n",
       "      <td>#biotechnology #policy #risk #prevention #miti...</td>\n",
       "      <td>NaN</td>\n",
       "      <td>NaN</td>\n",
       "    </tr>\n",
       "    <tr>\n",
       "      <th>1</th>\n",
       "      <td>RT @Simple_Peasant1: I hope Dr. Kumar clarifie...</td>\n",
       "      <td>Fri Aug 06 04:50:51 +0000 2021</td>\n",
       "      <td>1423506836423020548</td>\n",
       "      <td>en</td>\n",
       "      <td>NaN</td>\n",
       "      <td>NaN</td>\n",
       "      <td>Simple_Peasant1</td>\n",
       "      <td>NaN</td>\n",
       "      <td>NaN</td>\n",
       "      <td>117753607</td>\n",
       "      <td>Timbalan Pengarah J-KOM</td>\n",
       "      <td>fakrul07</td>\n",
       "      <td>2978.0</td>\n",
       "      <td>1194</td>\n",
       "      <td>False</td>\n",
       "      <td>Kuala Lumpur Federal Territory</td>\n",
       "      <td>I've heard that evil come disguised</td>\n",
       "      <td>Malaysia|MY</td>\n",
       "      <td>NaN</td>\n",
       "    </tr>\n",
       "    <tr>\n",
       "      <th>2</th>\n",
       "      <td>RT @jenniferatntd: The world is totally differ...</td>\n",
       "      <td>Fri Aug 06 04:50:55 +0000 2021</td>\n",
       "      <td>1423506851417640960</td>\n",
       "      <td>en</td>\n",
       "      <td>NaN</td>\n",
       "      <td>NaN</td>\n",
       "      <td>jenniferatntd</td>\n",
       "      <td>CCP</td>\n",
       "      <td>NaN</td>\n",
       "      <td>2310110660</td>\n",
       "      <td>Journey Home to Singapore</td>\n",
       "      <td>journeyhometosg</td>\n",
       "      <td>266.0</td>\n",
       "      <td>407</td>\n",
       "      <td>False</td>\n",
       "      <td>Singapore</td>\n",
       "      <td>Loves traveling. Dislikes the China Communist ...</td>\n",
       "      <td>Singapore|SG</td>\n",
       "      <td>NaN</td>\n",
       "    </tr>\n",
       "    <tr>\n",
       "      <th>3</th>\n",
       "      <td>RT @emma_ducros: Chiche.</td>\n",
       "      <td>Fri Aug 06 04:50:57 +0000 2021</td>\n",
       "      <td>1423506861001748482</td>\n",
       "      <td>en</td>\n",
       "      <td>NaN</td>\n",
       "      <td>NaN</td>\n",
       "      <td>emma_ducros</td>\n",
       "      <td>NaN</td>\n",
       "      <td>NaN</td>\n",
       "      <td>456050432</td>\n",
       "      <td>Nathalie Gourd</td>\n",
       "      <td>NGourd</td>\n",
       "      <td>2540.0</td>\n",
       "      <td>7413</td>\n",
       "      <td>False</td>\n",
       "      <td>Provence-Alpes-Côte d'Azur, France</td>\n",
       "      <td>Comité de soutien @NicolasSarkozy #MerciNS ❤️ ...</td>\n",
       "      <td>France|FR</td>\n",
       "      <td>NaN</td>\n",
       "    </tr>\n",
       "    <tr>\n",
       "      <th>4</th>\n",
       "      <td>RT @nralyysa: day by day , students are exhaus...</td>\n",
       "      <td>Fri Aug 06 04:51:00 +0000 2021</td>\n",
       "      <td>1423506872175251459</td>\n",
       "      <td>en</td>\n",
       "      <td>NaN</td>\n",
       "      <td>NaN</td>\n",
       "      <td>nralyysa</td>\n",
       "      <td>NaN</td>\n",
       "      <td>NaN</td>\n",
       "      <td>1202498293252546560</td>\n",
       "      <td>mahisha</td>\n",
       "      <td>corgisha</td>\n",
       "      <td>72.0</td>\n",
       "      <td>26</td>\n",
       "      <td>False</td>\n",
       "      <td>Singapore</td>\n",
       "      <td>um let’s just see how this twitter thing works...</td>\n",
       "      <td>Singapore|SG</td>\n",
       "      <td>NaN</td>\n",
       "    </tr>\n",
       "  </tbody>\n",
       "</table>\n",
       "</div>"
      ],
      "text/plain": [
       "                                          tweet_text  \\\n",
       "0  RT @NickHudsonCT: Read the replies! People see...   \n",
       "1  RT @Simple_Peasant1: I hope Dr. Kumar clarifie...   \n",
       "2  RT @jenniferatntd: The world is totally differ...   \n",
       "3                           RT @emma_ducros: Chiche.   \n",
       "4  RT @nralyysa: day by day , students are exhaus...   \n",
       "\n",
       "                       tweet_time             tweet_id tweet_lang  \\\n",
       "0  Fri Aug 06 04:50:47 +0000 2021  1423506816089133057         en   \n",
       "1  Fri Aug 06 04:50:51 +0000 2021  1423506836423020548         en   \n",
       "2  Fri Aug 06 04:50:55 +0000 2021  1423506851417640960         en   \n",
       "3  Fri Aug 06 04:50:57 +0000 2021  1423506861001748482         en   \n",
       "4  Fri Aug 06 04:51:00 +0000 2021  1423506872175251459         en   \n",
       "\n",
       "  tweet_possibly_sensitive entity_image_url  entity_mentions entity_hashtags  \\\n",
       "0                      NaN              NaN     NickHudsonCT             NaN   \n",
       "1                      NaN              NaN  Simple_Peasant1             NaN   \n",
       "2                      NaN              NaN    jenniferatntd             CCP   \n",
       "3                      NaN              NaN      emma_ducros             NaN   \n",
       "4                      NaN              NaN         nralyysa             NaN   \n",
       "\n",
       "  entity_link_url              user_id                  user_name  \\\n",
       "0             NaN  1223307253236817922                Coronavirus   \n",
       "1             NaN            117753607    Timbalan Pengarah J-KOM   \n",
       "2             NaN           2310110660  Journey Home to Singapore   \n",
       "3             NaN            456050432             Nathalie Gourd   \n",
       "4             NaN  1202498293252546560                    mahisha   \n",
       "\n",
       "   user_screenname  user_friends_count user_followers_count user_verified  \\\n",
       "0      JayChance12              4299.0                  450         False   \n",
       "1         fakrul07              2978.0                 1194         False   \n",
       "2  journeyhometosg               266.0                  407         False   \n",
       "3           NGourd              2540.0                 7413         False   \n",
       "4         corgisha                72.0                   26         False   \n",
       "\n",
       "                        user_location  \\\n",
       "0       ElysiumTimeIn fr all on Earth   \n",
       "1      Kuala Lumpur Federal Territory   \n",
       "2                           Singapore   \n",
       "3  Provence-Alpes-Côte d'Azur, France   \n",
       "4                           Singapore   \n",
       "\n",
       "                                           user_desc user_geo_coding  \\\n",
       "0  #biotechnology #policy #risk #prevention #miti...             NaN   \n",
       "1                I've heard that evil come disguised     Malaysia|MY   \n",
       "2  Loves traveling. Dislikes the China Communist ...    Singapore|SG   \n",
       "3  Comité de soutien @NicolasSarkozy #MerciNS ❤️ ...       France|FR   \n",
       "4  um let’s just see how this twitter thing works...    Singapore|SG   \n",
       "\n",
       "  user_geo_tagging  \n",
       "0              NaN  \n",
       "1              NaN  \n",
       "2              NaN  \n",
       "3              NaN  \n",
       "4              NaN  "
      ]
     },
     "execution_count": 123,
     "metadata": {},
     "output_type": "execute_result"
    }
   ],
   "source": [
    "tw_data.head(5)"
   ]
  },
  {
   "cell_type": "code",
   "execution_count": 124,
   "id": "fa06d886-9fc0-4569-a6d5-23b50a915205",
   "metadata": {},
   "outputs": [
    {
     "data": {
      "text/html": [
       "<div>\n",
       "<style scoped>\n",
       "    .dataframe tbody tr th:only-of-type {\n",
       "        vertical-align: middle;\n",
       "    }\n",
       "\n",
       "    .dataframe tbody tr th {\n",
       "        vertical-align: top;\n",
       "    }\n",
       "\n",
       "    .dataframe thead th {\n",
       "        text-align: right;\n",
       "    }\n",
       "</style>\n",
       "<table border=\"1\" class=\"dataframe\">\n",
       "  <thead>\n",
       "    <tr style=\"text-align: right;\">\n",
       "      <th></th>\n",
       "      <th>user_id</th>\n",
       "      <th>user_name</th>\n",
       "      <th>user_screenname</th>\n",
       "      <th>tweet_id</th>\n",
       "      <th>tweet_enagagement_type</th>\n",
       "      <th>replied_to_tweet_id</th>\n",
       "      <th>replied_to_user_id</th>\n",
       "      <th>replied_to_user_screenname</th>\n",
       "      <th>retweeted_tweet_id</th>\n",
       "      <th>retweeted_tweet_time</th>\n",
       "      <th>...</th>\n",
       "      <th>quoted_tweet_id</th>\n",
       "      <th>quoted_tweet_time</th>\n",
       "      <th>quoted_user_id</th>\n",
       "      <th>quoted_user_name</th>\n",
       "      <th>quoted_user_verified</th>\n",
       "      <th>quoted_user_screenname</th>\n",
       "      <th>quoted_user_geo_coding</th>\n",
       "      <th>quoted_user_geo_coding_type</th>\n",
       "      <th>quoted_retweet_count</th>\n",
       "      <th>quoted_favorite_count</th>\n",
       "    </tr>\n",
       "  </thead>\n",
       "  <tbody>\n",
       "    <tr>\n",
       "      <th>0</th>\n",
       "      <td>1.223307e+18</td>\n",
       "      <td>Coronavirus</td>\n",
       "      <td>JayChance12</td>\n",
       "      <td>1423506816089133057</td>\n",
       "      <td>Quote</td>\n",
       "      <td>NaN</td>\n",
       "      <td>NaN</td>\n",
       "      <td>NaN</td>\n",
       "      <td>NaN</td>\n",
       "      <td>NaN</td>\n",
       "      <td>...</td>\n",
       "      <td>1.423391e+18</td>\n",
       "      <td>Thu Aug 05 21:09:49 +0000 2021</td>\n",
       "      <td>1.898686e+08</td>\n",
       "      <td>Tedros Adhanom Ghebreyesus</td>\n",
       "      <td>True</td>\n",
       "      <td>DrTedros</td>\n",
       "      <td>Switzerland|CH</td>\n",
       "      <td>Location</td>\n",
       "      <td>164.0</td>\n",
       "      <td>890.0</td>\n",
       "    </tr>\n",
       "    <tr>\n",
       "      <th>1</th>\n",
       "      <td>1.177536e+08</td>\n",
       "      <td>Timbalan Pengarah J-KOM</td>\n",
       "      <td>fakrul07</td>\n",
       "      <td>1423506836423020548</td>\n",
       "      <td>Quote</td>\n",
       "      <td>NaN</td>\n",
       "      <td>NaN</td>\n",
       "      <td>NaN</td>\n",
       "      <td>NaN</td>\n",
       "      <td>NaN</td>\n",
       "      <td>...</td>\n",
       "      <td>1.423460e+18</td>\n",
       "      <td>Fri Aug 06 01:46:11 +0000 2021</td>\n",
       "      <td>1.314752e+08</td>\n",
       "      <td>Dr. Kumar (PSM)</td>\n",
       "      <td>False</td>\n",
       "      <td>kumarPsm</td>\n",
       "      <td>NaN</td>\n",
       "      <td>NaN</td>\n",
       "      <td>43.0</td>\n",
       "      <td>112.0</td>\n",
       "    </tr>\n",
       "    <tr>\n",
       "      <th>2</th>\n",
       "      <td>2.310111e+09</td>\n",
       "      <td>Journey Home to Singapore</td>\n",
       "      <td>journeyhometosg</td>\n",
       "      <td>1423506851417640960</td>\n",
       "      <td>Quote</td>\n",
       "      <td>NaN</td>\n",
       "      <td>NaN</td>\n",
       "      <td>NaN</td>\n",
       "      <td>NaN</td>\n",
       "      <td>NaN</td>\n",
       "      <td>...</td>\n",
       "      <td>1.423352e+18</td>\n",
       "      <td>Thu Aug 05 18:34:12 +0000 2021</td>\n",
       "      <td>2.313028e+09</td>\n",
       "      <td>Jennifer Zeng 曾錚</td>\n",
       "      <td>False</td>\n",
       "      <td>jenniferatntd</td>\n",
       "      <td>United States|US</td>\n",
       "      <td>Location</td>\n",
       "      <td>33.0</td>\n",
       "      <td>146.0</td>\n",
       "    </tr>\n",
       "    <tr>\n",
       "      <th>3</th>\n",
       "      <td>4.560504e+08</td>\n",
       "      <td>Nathalie Gourd</td>\n",
       "      <td>NGourd</td>\n",
       "      <td>1423506861001748482</td>\n",
       "      <td>Quote</td>\n",
       "      <td>NaN</td>\n",
       "      <td>NaN</td>\n",
       "      <td>NaN</td>\n",
       "      <td>NaN</td>\n",
       "      <td>NaN</td>\n",
       "      <td>...</td>\n",
       "      <td>1.423294e+18</td>\n",
       "      <td>Thu Aug 05 14:44:02 +0000 2021</td>\n",
       "      <td>3.839512e+07</td>\n",
       "      <td>franceinfo</td>\n",
       "      <td>True</td>\n",
       "      <td>franceinfo</td>\n",
       "      <td>France|FR</td>\n",
       "      <td>Location</td>\n",
       "      <td>240.0</td>\n",
       "      <td>696.0</td>\n",
       "    </tr>\n",
       "    <tr>\n",
       "      <th>4</th>\n",
       "      <td>1.202498e+18</td>\n",
       "      <td>mahisha</td>\n",
       "      <td>corgisha</td>\n",
       "      <td>1423506872175251459</td>\n",
       "      <td>Retweet</td>\n",
       "      <td>NaN</td>\n",
       "      <td>NaN</td>\n",
       "      <td>NaN</td>\n",
       "      <td>1.423205e+18</td>\n",
       "      <td>Thu Aug 05 08:51:15 +0000 2021</td>\n",
       "      <td>...</td>\n",
       "      <td>NaN</td>\n",
       "      <td>NaN</td>\n",
       "      <td>NaN</td>\n",
       "      <td>NaN</td>\n",
       "      <td>NaN</td>\n",
       "      <td>NaN</td>\n",
       "      <td>NaN</td>\n",
       "      <td>NaN</td>\n",
       "      <td>NaN</td>\n",
       "      <td>NaN</td>\n",
       "    </tr>\n",
       "  </tbody>\n",
       "</table>\n",
       "<p>5 rows × 29 columns</p>\n",
       "</div>"
      ],
      "text/plain": [
       "        user_id                  user_name  user_screenname  \\\n",
       "0  1.223307e+18                Coronavirus      JayChance12   \n",
       "1  1.177536e+08    Timbalan Pengarah J-KOM         fakrul07   \n",
       "2  2.310111e+09  Journey Home to Singapore  journeyhometosg   \n",
       "3  4.560504e+08             Nathalie Gourd           NGourd   \n",
       "4  1.202498e+18                    mahisha         corgisha   \n",
       "\n",
       "              tweet_id tweet_enagagement_type replied_to_tweet_id  \\\n",
       "0  1423506816089133057                  Quote                 NaN   \n",
       "1  1423506836423020548                  Quote                 NaN   \n",
       "2  1423506851417640960                  Quote                 NaN   \n",
       "3  1423506861001748482                  Quote                 NaN   \n",
       "4  1423506872175251459                Retweet                 NaN   \n",
       "\n",
       "  replied_to_user_id replied_to_user_screenname  retweeted_tweet_id  \\\n",
       "0                NaN                        NaN                 NaN   \n",
       "1                NaN                        NaN                 NaN   \n",
       "2                NaN                        NaN                 NaN   \n",
       "3                NaN                        NaN                 NaN   \n",
       "4                NaN                        NaN        1.423205e+18   \n",
       "\n",
       "             retweeted_tweet_time  ...  quoted_tweet_id  \\\n",
       "0                             NaN  ...     1.423391e+18   \n",
       "1                             NaN  ...     1.423460e+18   \n",
       "2                             NaN  ...     1.423352e+18   \n",
       "3                             NaN  ...     1.423294e+18   \n",
       "4  Thu Aug 05 08:51:15 +0000 2021  ...              NaN   \n",
       "\n",
       "                quoted_tweet_time quoted_user_id            quoted_user_name  \\\n",
       "0  Thu Aug 05 21:09:49 +0000 2021   1.898686e+08  Tedros Adhanom Ghebreyesus   \n",
       "1  Fri Aug 06 01:46:11 +0000 2021   1.314752e+08             Dr. Kumar (PSM)   \n",
       "2  Thu Aug 05 18:34:12 +0000 2021   2.313028e+09            Jennifer Zeng 曾錚   \n",
       "3  Thu Aug 05 14:44:02 +0000 2021   3.839512e+07                  franceinfo   \n",
       "4                             NaN            NaN                         NaN   \n",
       "\n",
       "  quoted_user_verified quoted_user_screenname  quoted_user_geo_coding  \\\n",
       "0                 True               DrTedros          Switzerland|CH   \n",
       "1                False               kumarPsm                     NaN   \n",
       "2                False          jenniferatntd        United States|US   \n",
       "3                 True             franceinfo               France|FR   \n",
       "4                  NaN                    NaN                     NaN   \n",
       "\n",
       "   quoted_user_geo_coding_type quoted_retweet_count  quoted_favorite_count  \n",
       "0                     Location                164.0                  890.0  \n",
       "1                          NaN                 43.0                  112.0  \n",
       "2                     Location                 33.0                  146.0  \n",
       "3                     Location                240.0                  696.0  \n",
       "4                          NaN                  NaN                    NaN  \n",
       "\n",
       "[5 rows x 29 columns]"
      ]
     },
     "execution_count": 124,
     "metadata": {},
     "output_type": "execute_result"
    }
   ],
   "source": [
    "tw_eng_data.head(5)"
   ]
  },
  {
   "cell_type": "markdown",
   "id": "5fc0a7f8-282e-44d6-b761-e85620f3a35b",
   "metadata": {},
   "source": [
    "##### Inner join of tweets and related engagement data "
   ]
  },
  {
   "cell_type": "code",
   "execution_count": 125,
   "id": "69b68f52-ec20-40c4-915a-9ee04ee581c8",
   "metadata": {},
   "outputs": [
    {
     "data": {
      "text/plain": [
       "(429877, 47)"
      ]
     },
     "execution_count": 125,
     "metadata": {},
     "output_type": "execute_result"
    }
   ],
   "source": [
    "tweets_data = tw_data.merge(tw_eng_data, on=\"tweet_id\", how = 'inner')\n",
    "tweets_data.shape"
   ]
  },
  {
   "cell_type": "markdown",
   "id": "924d9e93-8dcd-4b71-aab2-3b52f62a7b46",
   "metadata": {},
   "source": [
    "# 3. Cleaning and processing the data <a id=\"cell3\"></a>"
   ]
  },
  {
   "cell_type": "code",
   "execution_count": 126,
   "id": "8232e606-e859-444d-9b6b-e90cfda12c26",
   "metadata": {},
   "outputs": [
    {
     "data": {
      "text/plain": [
       "Index(['tweet_text', 'tweet_time', 'tweet_id', 'tweet_lang',\n",
       "       'tweet_possibly_sensitive', 'entity_image_url', 'entity_mentions',\n",
       "       'entity_hashtags', 'entity_link_url', 'user_id_x', 'user_name_x',\n",
       "       'user_screenname_x', 'user_friends_count', 'user_followers_count',\n",
       "       'user_verified', 'user_location', 'user_desc', 'user_geo_coding',\n",
       "       'user_geo_tagging', 'user_id_y', 'user_name_y', 'user_screenname_y',\n",
       "       'tweet_enagagement_type', 'replied_to_tweet_id', 'replied_to_user_id',\n",
       "       'replied_to_user_screenname', 'retweeted_tweet_id',\n",
       "       'retweeted_tweet_time', 'retweeted_user_id', 'retweeted_user_name',\n",
       "       'retweeted_user_verified', 'retweeted_user_screenname',\n",
       "       'retweeted_user_geo_coding', 'retweeted_user_geo_coding_type',\n",
       "       'retweeted_retweet_count', 'retweeted_favorite_count',\n",
       "       'quoted_tweet_text', 'quoted_tweet_id', 'quoted_tweet_time',\n",
       "       'quoted_user_id', 'quoted_user_name', 'quoted_user_verified',\n",
       "       'quoted_user_screenname', 'quoted_user_geo_coding',\n",
       "       'quoted_user_geo_coding_type', 'quoted_retweet_count',\n",
       "       'quoted_favorite_count'],\n",
       "      dtype='object')"
      ]
     },
     "execution_count": 126,
     "metadata": {},
     "output_type": "execute_result"
    }
   ],
   "source": [
    "tweets_data.columns"
   ]
  },
  {
   "cell_type": "markdown",
   "id": "2fe64ed0-fca7-4502-9133-0aa5d75cae7a",
   "metadata": {},
   "source": [
    "### 3.1. Datetime cleanup and formatting <a id=\"cell31\"></a>"
   ]
  },
  {
   "cell_type": "markdown",
   "id": "834d6cb6-7e3e-4770-a5ca-ac6c499cc6e7",
   "metadata": {},
   "source": [
    "##### Converting to pandas datetime and dropping tweets with improper datetime e.g., string type"
   ]
  },
  {
   "cell_type": "code",
   "execution_count": 127,
   "id": "5ac6102e-1c15-4dab-83b9-533338191746",
   "metadata": {},
   "outputs": [],
   "source": [
    "tweets_data['tweet_time'] = pd.to_datetime(tweets_data['tweet_time'], errors='coerce')\n",
    "tweets_data = tweets_data.dropna(subset=['tweet_time'])"
   ]
  },
  {
   "cell_type": "markdown",
   "id": "1b9c1928-61d4-4875-8b4c-ff26cb87710b",
   "metadata": {},
   "source": [
    "##### Adding columns `tweet_datetime` and `tweet_date` for further analyses"
   ]
  },
  {
   "cell_type": "code",
   "execution_count": 128,
   "id": "8ff5d4e6-df69-4393-bf31-94791fb468a1",
   "metadata": {},
   "outputs": [],
   "source": [
    "tweets_data['tweet_datetime'] = tweets_data.tweet_time.dt.strftime('%Y-%m-%d %H')\n",
    "tweets_data['tweet_date'] = tweets_data.tweet_time.dt.strftime('%Y-%m-%d')"
   ]
  },
  {
   "cell_type": "markdown",
   "id": "9bf6839d-23a1-4fc2-b1be-29ef7c82ffb5",
   "metadata": {},
   "source": [
    "### 3.2. Geocoding fixes <a id=\"cell32\"></a>"
   ]
  },
  {
   "cell_type": "markdown",
   "id": "4208a9da-cb04-457f-905e-135806bed212",
   "metadata": {},
   "source": [
    "#### What is **geocoding** here? \n",
    "Inferring a user's country. \n",
    "\n",
    "#### How is geocoding done during data collection?\n",
    "1. **Coordinate**: If not nullable, latitude, longitude data in `coordinates` object are used to fetch the country using the [Geocoder library] (https://geocoder.readthedocs.io/), ELSE\n",
    "2. **Place**: If not nullable, Twitter API provides a user's country in the `place` object, ELSE\n",
    "3. **User-defined location**: (1) [spaCy](https://github.com/explosion/spaCy) to process any place entity in the `location` string (2) Geocoder to fetch the country, ELSE\n",
    "4. **User-defined description**: (1) [spaCy](https://github.com/explosion/spaCy) to process any place entity in the `description` string (2) Geocoder to fetch the country\n",
    "\n",
    "Tweets that are not geocoded are rejected. "
   ]
  },
  {
   "cell_type": "markdown",
   "id": "5c60f5c1-5826-4126-bd78-9bd808089512",
   "metadata": {},
   "source": [
    "#### 3.2.1. Replacing nan with 'Unknown' "
   ]
  },
  {
   "cell_type": "code",
   "execution_count": 129,
   "id": "6d1a82aa-4617-4f34-8a60-57aea4736109",
   "metadata": {},
   "outputs": [],
   "source": [
    "tweets_data['quoted_user_geo_coding'].fillna(value='Unknown', inplace=True)\n",
    "tweets_data['retweeted_user_geo_coding'].fillna(value='Unknown', inplace=True)\n",
    "tweets_data['user_geo_coding'].fillna(value='Unknown', inplace=True)"
   ]
  },
  {
   "cell_type": "markdown",
   "id": "485b7b30-e2d6-43c0-9951-e6d699ae8584",
   "metadata": {},
   "source": [
    "##### Visualizing the distribution of geocoded tweets "
   ]
  },
  {
   "cell_type": "code",
   "execution_count": 130,
   "id": "d8f8a454-760d-4b9e-8622-41fa167521f6",
   "metadata": {},
   "outputs": [
    {
     "data": {
      "image/png": "[encoded data removed]",
      "text/plain": [
       "<Figure size 432x288 with 1 Axes>"
      ]
     },
     "metadata": {
      "needs_background": "light"
     },
     "output_type": "display_data"
    }
   ],
   "source": [
    "geocoded_tw_data = tweets_data['user_geo_coding']\n",
    "\n",
    "count_geocoded_tw_data = col.Counter(geocoded_tw_data)\n",
    "count_geocoded_tw_data = count_geocoded_tw_data.most_common()\n",
    "\n",
    "# top X countries\n",
    "TOP_X = 15\n",
    "countries = [c[0].split('|')[0] for c in count_geocoded_tw_data[:TOP_X]]\n",
    "counts = [c[1] for c in count_geocoded_tw_data[:TOP_X]]\n",
    "\n",
    "plt.barh(countries[::-1], counts[::-1])\n",
    " \n",
    "plt.ylabel(\"Country\")\n",
    "plt.xlabel(\"Tweets Count\")\n",
    "plt.xticks(rotation=45)\n",
    "plt.title(\"Distribution of tweets geocoded country\")\n",
    "plt.show()"
   ]
  },
  {
   "cell_type": "markdown",
   "id": "f25647c0-27cc-4c37-8ed8-3ded4aaee9e6",
   "metadata": {},
   "source": [
    "#### **Bug fixing**: Users whose location contains a `specific region in Singapore` (e.g., West Singpore, North-east regions) are erroneously coded as `Uganda`"
   ]
  },
  {
   "cell_type": "markdown",
   "id": "464776dd-5bff-4441-8b31-d42cc5aa9aea",
   "metadata": {},
   "source": [
    "##### Looking for random examples with this error"
   ]
  },
  {
   "cell_type": "code",
   "execution_count": 131,
   "id": "1f79564b-ad0f-45fd-a06b-5db673dd4064",
   "metadata": {},
   "outputs": [
    {
     "name": "stdout",
     "output_type": "stream",
     "text": [
      "https://twitter.com/xotxfx99\n",
      "https://twitter.com/fancybootsx\n",
      "https://twitter.com/nrklshhh\n",
      "https://twitter.com/hziqvzmn\n",
      "https://twitter.com/gazzangief\n"
     ]
    }
   ],
   "source": [
    "wrong_geocoded_uganda_users  = list(tweets_data[tweets_data['user_geo_coding'] == 'Uganda|UG']['user_screenname_x'].unique())\n",
    "for _ in range(5):\n",
    "    print(\"https://twitter.com/\" + random.choice(wrong_geocoded_uganda_users))"
   ]
  },
  {
   "cell_type": "code",
   "execution_count": 132,
   "id": "fec53061-38e3-420e-a824-274bb6d294e1",
   "metadata": {},
   "outputs": [
    {
     "name": "stdout",
     "output_type": "stream",
     "text": [
      "641\n",
      "22\n",
      "78\n"
     ]
    }
   ],
   "source": [
    "print(tweets_data[tweets_data['user_geo_coding'] == 'Uganda|UG']['user_screenname_x'].nunique())\n",
    "print(tweets_data[tweets_data['quoted_user_geo_coding'] == 'Uganda|UG']['user_screenname_x'].nunique())\n",
    "print(tweets_data[tweets_data['retweeted_user_geo_coding'] == 'Uganda|UG']['user_screenname_x'].nunique())"
   ]
  },
  {
   "cell_type": "markdown",
   "id": "4f37a813-ee75-493f-8e67-970433876080",
   "metadata": {},
   "source": [
    "#### 3.2.2. Replacing \"Uganda|UG\" with \"Singapore|SG\""
   ]
  },
  {
   "cell_type": "code",
   "execution_count": 133,
   "id": "e43034af-f314-463e-ab94-3523bbe1715e",
   "metadata": {},
   "outputs": [],
   "source": [
    "tweets_data['user_geo_coding'].replace(['Uganda|UG'], 'Singapore|SG', inplace=True)\n",
    "tweets_data['retweeted_user_geo_coding'].replace(['Uganda|UG'], 'Singapore|SG', inplace=True)\n",
    "tweets_data['quoted_user_geo_coding'].replace(['Uganda|UG'], 'Singapore|SG', inplace=True)"
   ]
  },
  {
   "cell_type": "markdown",
   "id": "83b156bd-1c27-470e-ae64-f9c4ff55826b",
   "metadata": {},
   "source": [
    "#### 3.2.3. Remove the country code from the data (not required)"
   ]
  },
  {
   "cell_type": "code",
   "execution_count": 134,
   "id": "9cb79927-7b3f-43b3-9f82-6e082037e2f9",
   "metadata": {},
   "outputs": [],
   "source": [
    "tweets_data['quoted_user_geo_coding'] = [c.split('|')[0] for c in tweets_data['quoted_user_geo_coding']]\n",
    "tweets_data['retweeted_user_geo_coding'] = [c.split('|')[0] for c in tweets_data['retweeted_user_geo_coding']]\n",
    "tweets_data['user_geo_coding'] = [c.split('|')[0] for c in tweets_data['user_geo_coding']]"
   ]
  },
  {
   "cell_type": "markdown",
   "id": "15be51c0-016a-4573-bb11-707cc2087bc6",
   "metadata": {},
   "source": [
    "#### 3.2.4. Fixing **users with multiple geocoded countries**   \n",
    "\n",
    "TODO: Fix this during data collection with the help of memoization\n",
    "\n",
    "1. Geocoded countries is ``greater than 2`` \n",
    "    - Highly errorneos, set 'Unknown'\n",
    "2. Geocoded countries count ``is 2`` \n",
    "    - If one of the geocodings is 'Unknown' then set the 'other' known location|\n",
    "    -  If both the geocodings != 'Unknown' then set both to 'Unknown' (dubious case) "
   ]
  },
  {
   "cell_type": "code",
   "execution_count": 135,
   "id": "52ef2dea-2193-41c9-a1d4-e88dc0f370b0",
   "metadata": {},
   "outputs": [],
   "source": [
    "# getting count of users' decoded locations \n",
    "# -- TODO what about quoted_user_screenname retweeted_user_screenname\n",
    "users_geocode_country_count = tweets_data.groupby('user_screenname_x')['user_geo_coding'].nunique().reset_index(name='count')\n",
    "# users_geocode_country_count[users_geocode_country_count['count'] > 1].sort_values(by='count', ascending=False)"
   ]
  },
  {
   "cell_type": "code",
   "execution_count": 136,
   "id": "c743a466-10c9-4781-a96b-d36e56e8b5da",
   "metadata": {},
   "outputs": [],
   "source": [
    "# list of countries with geocoding > 2\n",
    "users_geocode_country_count_gtr_2 = users_geocode_country_count[users_geocode_country_count['count'] > 2]['user_screenname_x'].unique()\n",
    "\n",
    "# Setting location to 'Unknown'\n",
    "tweets_data.loc[tweets_data['user_screenname_x'].isin(users_geocode_country_count_gtr_2), 'user_geo_coding'] = 'Unknown'\n",
    "tweets_data.loc[tweets_data['user_screenname_x'].isin(users_geocode_country_count_gtr_2), 'retweeted_user_geo_coding'] = 'Unknown'\n",
    "tweets_data.loc[tweets_data['user_screenname_x'].isin(users_geocode_country_count_gtr_2), 'retweeted_user_geo_coding'] = 'Unknown'"
   ]
  },
  {
   "cell_type": "code",
   "execution_count": 137,
   "id": "426b498d-0830-4304-9bc3-cec3d6e01da4",
   "metadata": {},
   "outputs": [
    {
     "data": {
      "text/plain": [
       "1437"
      ]
     },
     "execution_count": 137,
     "metadata": {},
     "output_type": "execute_result"
    }
   ],
   "source": [
    "# TODO: Fix this elegantly\n",
    "users_geocode_country_count_eq_2 = users_geocode_country_count[users_geocode_country_count['count'] == 2]['user_screenname_x']#.unique()\n",
    "len(users_geocode_country_count_eq_2)"
   ]
  },
  {
   "cell_type": "markdown",
   "id": "59921755-6949-44ae-bb5d-d99b098edf82",
   "metadata": {},
   "source": [
    "##### Distribution of geo-coded tweets after corrections"
   ]
  },
  {
   "cell_type": "code",
   "execution_count": 138,
   "id": "77727c97-5de9-4c8d-9c30-c01742985a99",
   "metadata": {},
   "outputs": [],
   "source": [
    "geocoded_tw_data = tweets_data['user_geo_coding']\n",
    "\n",
    "count_geocoded_tw_data = col.Counter(geocoded_tw_data)\n",
    "count_geocoded_tw_data = count_geocoded_tw_data.most_common()"
   ]
  },
  {
   "cell_type": "code",
   "execution_count": 139,
   "id": "3eff2945-04ca-4180-bee4-779a4bb79be6",
   "metadata": {},
   "outputs": [
    {
     "data": {
      "image/png": "[encoded data removed]",
      "text/plain": [
       "<Figure size 432x288 with 1 Axes>"
      ]
     },
     "metadata": {
      "needs_background": "light"
     },
     "output_type": "display_data"
    }
   ],
   "source": [
    "# top X countries\n",
    "TOP_X = 15\n",
    "countries = [c[0].split('|')[0] for c in count_geocoded_tw_data[:TOP_X]]\n",
    "counts = [c[1] for c in count_geocoded_tw_data[:TOP_X]]\n",
    "\n",
    "plt.barh(countries[::-1], counts[::-1])\n",
    " \n",
    "plt.ylabel(\"Country\")\n",
    "plt.xlabel(\"Tweets Count\")\n",
    "plt.xticks(rotation=45)\n",
    "plt.title(\"Distribution of tweets location using geo coding\")\n",
    "plt.show()"
   ]
  },
  {
   "cell_type": "markdown",
   "id": "a78aaaf8-43c4-4327-9a1e-b8080e366bbf",
   "metadata": {},
   "source": [
    "### 3.3. Filtering out non-Singapore accounts - reducing false positives and false negatives <a id=\"cell33\"></a>"
   ]
  },
  {
   "cell_type": "code",
   "execution_count": 140,
   "id": "4fc3287c-9b9f-4269-b6c5-1e21847f9603",
   "metadata": {},
   "outputs": [
    {
     "data": {
      "text/plain": [
       "(181423, 49)"
      ]
     },
     "execution_count": 140,
     "metadata": {},
     "output_type": "execute_result"
    }
   ],
   "source": [
    "sg_tweets = tweets_data[\n",
    "                    # 1. geo coded as Singapore\n",
    "                    (tweets_data['user_geo_coding'] == 'Singapore') | \n",
    "                    # 2. user location contains {sg, spore, singapore, singapura}\n",
    "                    (tweets_data['user_location'].str.contains('sg|spore|singapore|singapura', regex=True, case=False)) |\n",
    "                    # 3. user description contains {spore, singapore, singapura}\n",
    "                    (tweets_data['user_desc'].str.contains('spore|singapore|singapura', regex=True, case=False)) |\n",
    "                     # 4. Quoted tweets by Singaporean and \n",
    "                    ((tweets_data['quoted_user_geo_coding'] == 'Singapore') & (tweets_data['user_geo_coding'].isna())) |\n",
    "                    ((tweets_data['retweeted_user_geo_coding'] == 'Singapore') & (tweets_data['user_geo_coding'].isna()))\n",
    "            ]\n",
    "sg_tweets.shape"
   ]
  },
  {
   "cell_type": "code",
   "execution_count": 141,
   "id": "0ddf1cc0-6af3-49fc-b6c3-d10faff8a65f",
   "metadata": {},
   "outputs": [
    {
     "data": {
      "text/plain": [
       "Index(['tweet_text', 'tweet_time', 'tweet_id', 'tweet_lang',\n",
       "       'tweet_possibly_sensitive', 'entity_image_url', 'entity_mentions',\n",
       "       'entity_hashtags', 'entity_link_url', 'user_id_x', 'user_name_x',\n",
       "       'user_screenname_x', 'user_friends_count', 'user_followers_count',\n",
       "       'user_verified', 'user_location', 'user_desc', 'user_geo_coding',\n",
       "       'user_geo_tagging', 'user_id_y', 'user_name_y', 'user_screenname_y',\n",
       "       'tweet_enagagement_type', 'replied_to_tweet_id', 'replied_to_user_id',\n",
       "       'replied_to_user_screenname', 'retweeted_tweet_id',\n",
       "       'retweeted_tweet_time', 'retweeted_user_id', 'retweeted_user_name',\n",
       "       'retweeted_user_verified', 'retweeted_user_screenname',\n",
       "       'retweeted_user_geo_coding', 'retweeted_user_geo_coding_type',\n",
       "       'retweeted_retweet_count', 'retweeted_favorite_count',\n",
       "       'quoted_tweet_text', 'quoted_tweet_id', 'quoted_tweet_time',\n",
       "       'quoted_user_id', 'quoted_user_name', 'quoted_user_verified',\n",
       "       'quoted_user_screenname', 'quoted_user_geo_coding',\n",
       "       'quoted_user_geo_coding_type', 'quoted_retweet_count',\n",
       "       'quoted_favorite_count', 'tweet_datetime', 'tweet_date'],\n",
       "      dtype='object')"
      ]
     },
     "execution_count": 141,
     "metadata": {},
     "output_type": "execute_result"
    }
   ],
   "source": [
    "sg_tweets.columns"
   ]
  },
  {
   "cell_type": "markdown",
   "id": "7cf1b89b-a30d-4d1e-8c60-0c40a0a33b7b",
   "metadata": {},
   "source": [
    "### 3.4. Processing the tweets and quoted tweets <a id=\"cell34\"></a>"
   ]
  },
  {
   "cell_type": "code",
   "execution_count": 142,
   "id": "4bbe3e64-960e-4aef-8d25-8d24a2f05d81",
   "metadata": {},
   "outputs": [],
   "source": [
    "sg_tweets['tweet_text'] = [txt.replace('&amp;', '&') if isinstance(txt, str) else '' for txt in sg_tweets['tweet_text']]\n",
    "sg_tweets['quoted_tweet_text'] = [ txt.replace('&amp;', '&') if isinstance(txt, str) else '' for txt in sg_tweets['quoted_tweet_text']]"
   ]
  },
  {
   "cell_type": "markdown",
   "id": "7a5643d1-f596-434d-bd1d-f2b793440f97",
   "metadata": {},
   "source": [
    "##### Processing tweets and quoted tweets"
   ]
  },
  {
   "cell_type": "code",
   "execution_count": 143,
   "id": "634388bd-ec0e-4837-be6c-a0e1ca50ccb5",
   "metadata": {},
   "outputs": [],
   "source": [
    "from utils.process_text import TwitterDataProcessing\n",
    "pre = TwitterDataProcessing()"
   ]
  },
  {
   "cell_type": "markdown",
   "id": "82d7cbf5-9b65-4077-a4ae-69de7e1755b1",
   "metadata": {},
   "source": [
    "### 3.5. Predicting sentiment of tweets and quoted tweets <a id=\"cell35\"></a>"
   ]
  },
  {
   "cell_type": "code",
   "execution_count": 144,
   "id": "531b44fe-a831-4cd2-bee2-b09642601623",
   "metadata": {},
   "outputs": [],
   "source": [
    "processed_tweets = [pre.clean_text(text) for text in sg_tweets['tweet_text']]\n",
    "sg_tweets['processed_tweet_text'] = processed_tweets\n",
    "\n",
    "processed_quoted_tweets = [pre.clean_text(text) if isinstance(text, str) == True else '' for text in sg_tweets['quoted_tweet_text']]\n",
    "sg_tweets['processed_quoted_tweet_text'] = processed_quoted_tweets"
   ]
  },
  {
   "cell_type": "markdown",
   "id": "102debbb-2182-41f2-9153-e822c6909154",
   "metadata": {},
   "source": [
    "##### Adding predicted sentiment for tweets and quoted tweets using off the shelf VADER"
   ]
  },
  {
   "cell_type": "markdown",
   "id": "02d341db-6f13-4e4f-b53a-7730feb9577c",
   "metadata": {},
   "source": [
    "Predicting tweets and quoted tweets sentiments"
   ]
  },
  {
   "cell_type": "code",
   "execution_count": 145,
   "id": "c626cac8-c3d9-4a7e-b574-b8d375d17fca",
   "metadata": {},
   "outputs": [],
   "source": [
    "from vaderSentiment.vaderSentiment import SentimentIntensityAnalyzer\n",
    "\n",
    "analyzer = SentimentIntensityAnalyzer()\n",
    "def get_sentiment(doc):\n",
    "    score = analyzer.polarity_scores(doc)['compound']\n",
    "    # As per vader's repo : https://github.com/cjhutto/vaderSentiment\n",
    "    if score >= 0.05:\n",
    "        sentiment = \"positive\"\n",
    "    elif score <= -0.05:\n",
    "\n",
    "        sentiment = \"negative\"\n",
    "    else:\n",
    "        sentiment = \"neutral\"\n",
    "    return sentiment"
   ]
  },
  {
   "cell_type": "code",
   "execution_count": 146,
   "id": "b8f79374-76e1-40c3-ad82-b61a26234001",
   "metadata": {},
   "outputs": [],
   "source": [
    "tw_sentiment = [get_sentiment(text) for text in sg_tweets['processed_tweet_text']]\n",
    "sg_tweets['tweet_sentiment'] = tw_sentiment\n",
    "\n",
    "quoted_tw_sentiment = [get_sentiment(text) if text != '' else None for text in sg_tweets['processed_quoted_tweet_text']]\n",
    "sg_tweets['quoted_tweet_sentiment'] = quoted_tw_sentiment"
   ]
  },
  {
   "cell_type": "code",
   "execution_count": 147,
   "id": "ea982645-57e5-4959-b540-c8c8c621f1d9",
   "metadata": {},
   "outputs": [
    {
     "ename": "NameError",
     "evalue": "name 'df_sentiments' is not defined",
     "output_type": "error",
     "traceback": [
      "\u001b[0;31m---------------------------------------------------------------------------\u001b[0m",
      "\u001b[0;31mNameError\u001b[0m                                 Traceback (most recent call last)",
      "\u001b[0;32m/var/folders/mv/c151lb7j7xx6ff_q9_85p_pc0000gn/T/ipykernel_3845/2742785253.py\u001b[0m in \u001b[0;36m<module>\u001b[0;34m\u001b[0m\n\u001b[1;32m      1\u001b[0m \u001b[0;31m# df_hashtags_data = pd.DataFrame(data=hashtags_data)\u001b[0m\u001b[0;34m\u001b[0m\u001b[0;34m\u001b[0m\u001b[0;34m\u001b[0m\u001b[0m\n\u001b[0;32m----> 2\u001b[0;31m \u001b[0mpd\u001b[0m\u001b[0;34m.\u001b[0m\u001b[0mDataFrame\u001b[0m\u001b[0;34m.\u001b[0m\u001b[0mto_csv\u001b[0m\u001b[0;34m(\u001b[0m\u001b[0mdf_sentiments\u001b[0m\u001b[0;34m,\u001b[0m \u001b[0;34m\"data/output/basics/sentiments.csv\"\u001b[0m\u001b[0;34m)\u001b[0m\u001b[0;34m\u001b[0m\u001b[0;34m\u001b[0m\u001b[0m\n\u001b[0m",
      "\u001b[0;31mNameError\u001b[0m: name 'df_sentiments' is not defined"
     ]
    }
   ],
   "source": [
    "# df_hashtags_data = pd.DataFrame(data=hashtags_data)\n",
    "pd.DataFrame.to_csv(df_sentiments, \"data/output/basics/sentiments.csv\")"
   ]
  },
  {
   "cell_type": "code",
   "execution_count": null,
   "id": "a635ddf6-45df-4a65-a583-20f22a785d5b",
   "metadata": {},
   "outputs": [],
   "source": [
    "print(\"---- Duration ---\")\n",
    "print(\"From {} to {} \\n\".format(sg_tweets['tweet_date'].min(), sg_tweets['tweet_date'].max()))\n",
    "\n",
    "print(\"---- Tweets count---\")\n",
    "print(sg_tweets.shape[0], '\\n')\n",
    "\n",
    "print(\"---- Attributes---\")\n",
    "sg_tweets.columns"
   ]
  },
  {
   "cell_type": "markdown",
   "id": "d745fc3a-d0f2-4dcb-85c5-91c6d408fff9",
   "metadata": {},
   "source": [
    "#### Saving the final data with curated sg-tweets for analysis"
   ]
  },
  {
   "cell_type": "code",
   "execution_count": null,
   "id": "fc36772d-6bc0-4534-ab71-5a448b9f4d40",
   "metadata": {},
   "outputs": [],
   "source": [
    "sg_tweets = sg_tweets.loc[:, ~sg_tweets.columns.str.contains('^Unnamed')]\n",
    "pd.DataFrame.to_csv(sg_tweets, BASE_PATH + \"sg.csv\")"
   ]
  },
  {
   "cell_type": "markdown",
   "id": "042e8ccb-804e-4a05-8e9f-af7d8c5573bd",
   "metadata": {},
   "source": [
    "## 4. Exploratory data analysis of Singapore geo-coded tweets <a id=\"cell4\"></a>"
   ]
  },
  {
   "cell_type": "markdown",
   "id": "d20684b6-926e-48eb-8e62-3121c9ecc6a7",
   "metadata": {},
   "source": [
    "### 4.1. Basics <a id=\"cell41\"></a>"
   ]
  },
  {
   "cell_type": "code",
   "execution_count": null,
   "id": "62288fad-722a-475e-9e0e-17f7ead789ef",
   "metadata": {},
   "outputs": [],
   "source": [
    "sg_tweets.shape"
   ]
  },
  {
   "cell_type": "code",
   "execution_count": null,
   "id": "79ed1b07-7e25-4ff6-ae68-801b5b5a0295",
   "metadata": {},
   "outputs": [],
   "source": [
    "total_tweets = len(sg_tweets)\n",
    "total_tweets"
   ]
  },
  {
   "cell_type": "markdown",
   "id": "2c346f63-0308-47cd-87b9-f5526dd39f36",
   "metadata": {},
   "source": [
    "#### Duration"
   ]
  },
  {
   "cell_type": "code",
   "execution_count": null,
   "id": "612b5da9-d2c0-44ea-a725-edd851be0ffa",
   "metadata": {},
   "outputs": [],
   "source": [
    "MAX_DATE = sg_tweets['tweet_date'].max()\n",
    "MIN_DATE = sg_tweets['tweet_date'].min()\n",
    "MAX_DATE, MIN_DATE"
   ]
  },
  {
   "cell_type": "markdown",
   "id": "08bf74dc-1a88-4d8c-b540-9a6c94cf7d20",
   "metadata": {},
   "source": [
    "#### Average tweets per day"
   ]
  },
  {
   "cell_type": "code",
   "execution_count": null,
   "id": "a33f1f64-dac3-4f7e-b8d8-83032b4b67a2",
   "metadata": {},
   "outputs": [],
   "source": [
    "daily_tweets  = sg_tweets.groupby('tweet_date')['tweet_id'].count().reset_index(name='count')\n",
    "avg_tweets = sum(daily_tweets['count'][:-1])/ len(daily_tweets['count'][:-1])\n",
    "avg_tweets"
   ]
  },
  {
   "cell_type": "markdown",
   "id": "d6c2cfd0-1a16-4b97-a011-086f1039659e",
   "metadata": {},
   "source": [
    "### 4.2. Sentiment analysis of tweets and quoted tweets  <a id=\"cell42\"></a>"
   ]
  },
  {
   "cell_type": "markdown",
   "id": "728e6d67-bb70-48b6-b554-60011c40334b",
   "metadata": {},
   "source": [
    "##### Distribution of **tweets** sentiments"
   ]
  },
  {
   "cell_type": "code",
   "execution_count": null,
   "id": "6b53f7b1-1654-4697-8ada-a4790ef9711f",
   "metadata": {},
   "outputs": [],
   "source": [
    "df_sentiments = sg_tweets.value_counts(subset=['tweet_sentiment']).reset_index(name='count').sort_values(['count'], ascending=False)\n",
    "\n",
    "fig = px.bar(df_sentiments, x=\"count\", y=\"tweet_sentiment\", orientation='h', template=\"plotly_white\", color=\"tweet_sentiment\")\n",
    "fig.show()"
   ]
  },
  {
   "cell_type": "markdown",
   "id": "65b5de84-8383-49cb-8d9b-78edbf8b48f6",
   "metadata": {},
   "source": [
    "##### Distribution of **quoted tweets** sentiments"
   ]
  },
  {
   "cell_type": "code",
   "execution_count": null,
   "id": "e4f6661b-8382-4335-b859-55f34f8de54b",
   "metadata": {},
   "outputs": [],
   "source": [
    "df_quoted_sentiments = sg_tweets.value_counts(subset=['quoted_tweet_sentiment']).reset_index(name='count').sort_values(['count'], ascending=False)"
   ]
  },
  {
   "cell_type": "code",
   "execution_count": null,
   "id": "4586f598-cbe0-4015-b8f5-0987a873e0a9",
   "metadata": {},
   "outputs": [],
   "source": [
    "fig = px.bar(df_quoted_sentiments, x=\"count\", y=\"quoted_tweet_sentiment\", orientation='h', template=\"plotly_white\", color=\"quoted_tweet_sentiment\")\n",
    "fig.show()"
   ]
  },
  {
   "cell_type": "markdown",
   "id": "1434bc4f-9603-469e-8837-ab5c2ecd478b",
   "metadata": {},
   "source": [
    "##### Reaction on the quoted tweets through sentiment analysis"
   ]
  },
  {
   "cell_type": "code",
   "execution_count": null,
   "id": "8b7a5e83-a391-464a-b7cc-36b3cb389915",
   "metadata": {},
   "outputs": [],
   "source": [
    "quoted_tweets_with_sentiment = sg_tweets[(sg_tweets['tweet_enagagement_type'] == 'Quote') & (sg_tweets['quoted_tweet_sentiment'].notna())]"
   ]
  },
  {
   "cell_type": "code",
   "execution_count": null,
   "id": "f15adf7e-3a8a-4163-a954-22acd8e911dd",
   "metadata": {},
   "outputs": [],
   "source": [
    "sentiments = ['positive', 'negative', 'neutral']\n",
    "sentiments_comb = it.product(sentiments, sentiments)\n",
    "sentiments_comb = list(sentiments_comb)\n",
    "sentiments_comb"
   ]
  },
  {
   "cell_type": "code",
   "execution_count": null,
   "id": "0d60ec7d-25c3-49c9-bcc6-2baa57ddd6ba",
   "metadata": {},
   "outputs": [],
   "source": [
    "for s1, s2 in sentiments_comb:\n",
    "    sc.append('{}_{}'.format(s1, s2))\n",
    "    print(\"Tweet: {} | Quoted: {} - {}\".format(s1, s2, len(sg_tweets[(sg_tweets['tweet_sentiment'] == s1) &  (sg_tweets['quoted_tweet_sentiment'] == s2)])))"
   ]
  },
  {
   "cell_type": "code",
   "execution_count": null,
   "id": "5b5b4e41-deff-4dcb-9cdf-678dfa3e0200",
   "metadata": {},
   "outputs": [],
   "source": [
    "sc = []\n",
    "sc_count = []\n",
    "colors = []\n",
    "for s1, s2 in sentiments_comb:\n",
    "    sc.append('{}_{}'.format(s1, s2))\n",
    "    if s2 == 'negative': colors.append('red') \n",
    "    elif s2 == 'neutral': colors.append('#FFFF00')\n",
    "    else: colors.append('green')\n",
    "    sc_count.append( len(sg_tweets[(sg_tweets['tweet_sentiment'] == s1) &  (sg_tweets['quoted_tweet_sentiment'] == s2)]))\n",
    "    \n",
    "sentiment_count = {\n",
    "    'sentiment_trans': sc,\n",
    "    'sentiment_trans_count': sc_count\n",
    "}\n",
    "sentiment_count\n",
    "\n",
    "fig = px.bar(sentiment_count, x=\"sentiment_trans_count\", y=\"sentiment_trans\", template='plotly_white', color=colors, \n",
    "             height=400)\n",
    "fig.update_layout(showlegend=False, title=\"Sentiment propagation - count of (root tweet sentiment, quoted tweet sentiment)\")\n",
    "fig.show()"
   ]
  },
  {
   "cell_type": "code",
   "execution_count": null,
   "id": "5f6e087c-71c2-4cfe-b1a8-42c2b93fc92d",
   "metadata": {},
   "outputs": [],
   "source": [
    "FROM_SENTIMENT = 'negative'\n",
    "TO_SENTIMENT = 'positive'\n",
    "\n",
    "sg_tweets[(sg_tweets[\"tweet_sentiment\"] == FROM_SENTIMENT) & \\\n",
    "          (sg_tweets[\"quoted_tweet_sentiment\"] == TO_SENTIMENT)][['tweet_text', 'quoted_tweet_text']]"
   ]
  },
  {
   "cell_type": "markdown",
   "id": "6efad78d-62f8-41fd-acd1-4879d90ee858",
   "metadata": {},
   "source": [
    "### 4.3. Analysing Singapore users  <a id=\"cell43\"></a>"
   ]
  },
  {
   "cell_type": "code",
   "execution_count": null,
   "id": "51ee2d7c-c0b7-48f5-9545-9cd881493ae9",
   "metadata": {},
   "outputs": [],
   "source": [
    "print( \"# of unique Singapore users:\", sg_tweets['user_id_x'].nunique())\n",
    "print( \"# of verified Singapore users:\", sg_tweets[sg_tweets['user_verified'] == True]['user_id_x'].nunique())"
   ]
  },
  {
   "cell_type": "code",
   "execution_count": null,
   "id": "f6fef2d3-5d7f-41d2-970e-6458a98cb860",
   "metadata": {},
   "outputs": [],
   "source": [
    "# Saving data for the dashboard\n",
    "basic_data = {\n",
    "    'total_tweets': total_tweets,\n",
    "    'min_date': MIN_DATE,\n",
    "    'max_date': MAX_DATE,\n",
    "    'avg_tweets': int(avg_tweets)\n",
    "\n",
    "}\n",
    "\n",
    "with open('data/output/basics/basic.json', 'w') as fp:\n",
    "    json.dump(basic_data, fp)"
   ]
  },
  {
   "cell_type": "markdown",
   "id": "5e12eea5-b714-4656-9a3d-d6dcecafa547",
   "metadata": {},
   "source": [
    "#### Users with high number of followers"
   ]
  },
  {
   "cell_type": "code",
   "execution_count": null,
   "id": "957380c4-8dbc-4a65-b1fc-f97f0c08eaac",
   "metadata": {},
   "outputs": [],
   "source": [
    "MIN_FOLLOWERS = 10000\n",
    "sg_tweets['user_followers_count'] = sg_tweets['user_followers_count'].astype(int)\n",
    "sg_users_high_followers = sg_tweets[sg_tweets['user_followers_count'] >= MIN_FOLLOWERS].groupby('user_screenname_x') \\\n",
    "[['user_desc', 'user_verified', 'user_followers_count']].nth(0).sort_values(by='user_followers_count', ascending=False)\n",
    "sg_users_high_followers.head(10)"
   ]
  },
  {
   "cell_type": "code",
   "execution_count": null,
   "id": "099a4c2f-99da-41cb-9d37-b34d7e316af7",
   "metadata": {},
   "outputs": [],
   "source": [
    "print(\"Count of users >= {} followers\". format(MIN_FOLLOWERS, len(sg_users_high_followers[sg_users_high_followers['user_verified'] == True])))\n",
    "print(\"Count of verified user with {} followers is {}\". format(MIN_FOLLOWERS, len(sg_users_high_followers[sg_users_high_followers['user_verified'] == True])))\n",
    "print(\"Count of unverified user with {} followers is {}\". format(MIN_FOLLOWERS, len(sg_users_high_followers[sg_users_high_followers['user_verified'] == False])))"
   ]
  },
  {
   "cell_type": "markdown",
   "id": "f65d8a94-b6a1-4387-a5f0-4e331c704be6",
   "metadata": {},
   "source": [
    "### 4.4. Potentially sensitive tweets (PST) with links - marked by twitter <a id=\"cell44\"></a>"
   ]
  },
  {
   "cell_type": "code",
   "execution_count": null,
   "id": "df79e3be-341b-4007-9822-c884b5408a39",
   "metadata": {},
   "outputs": [],
   "source": [
    "sg_tweets_pst = sg_tweets[sg_tweets['tweet_possibly_sensitive'] == True]\n",
    "\n",
    "print(\"Total possibily sensitive tweets {}\".format(len(sg_tweets_pst)))\n",
    "print(\"% possibily sensitive tweets {}\".format(len(sg_tweets_pst)/len(sg_tweets)*100))"
   ]
  },
  {
   "cell_type": "code",
   "execution_count": null,
   "id": "75ed4eca-37c1-4de9-afde-99b1a1bb859d",
   "metadata": {},
   "outputs": [],
   "source": [
    "PST_THRESHOLD = 400 # random high threshold to visualize unusal number of PSTs\n",
    "c_sg_tweets_pst = sg_tweets_pst.value_counts(subset=['tweet_date']).reset_index(name='count') \\\n",
    "                                                .sort_values(['tweet_date'], ascending=False)\n",
    "\n",
    "print(\"Average number of Potentially sensitive tweets: \", sum(c_sg_tweets_pst['count'])/len(c_sg_tweets_pst))"
   ]
  },
  {
   "cell_type": "code",
   "execution_count": null,
   "id": "b826b7d1-3259-4e4f-81c9-edd4e0d363b4",
   "metadata": {},
   "outputs": [],
   "source": [
    "colors = [\"red\" if cc > PST_THRESHOLD else \"green\" for cc in c_sg_tweets_pst['count']]\n",
    "fig = px.bar(c_sg_tweets_pst, x=\"tweet_date\", y=\"count\", template='plotly_white', color=colors,\n",
    "             height = PST_THRESHOLD)\n",
    "fig.update_layout(showlegend=False)\n",
    "fig.show()"
   ]
  },
  {
   "cell_type": "markdown",
   "id": "328c3b30-4ae9-4696-a644-d7c53f29d47a",
   "metadata": {},
   "source": [
    "##### Dates with high PSTs"
   ]
  },
  {
   "cell_type": "code",
   "execution_count": null,
   "id": "6dd36ff9-5970-4314-b531-cadc183e3f13",
   "metadata": {},
   "outputs": [],
   "source": [
    "tweet_date_high_pst = c_sg_tweets_pst[c_sg_tweets_pst['count'] > PST_THRESHOLD]['tweet_date']\n",
    "list(tweet_date_high_pst)"
   ]
  },
  {
   "cell_type": "markdown",
   "id": "6c429375-78ac-4001-92cd-296d19e74777",
   "metadata": {},
   "source": [
    "### 4.5.  Popular hashtags <a id=\"cell45\"></a>"
   ]
  },
  {
   "cell_type": "code",
   "execution_count": null,
   "id": "3a40c86f-aac8-45fa-b96e-c0904d213887",
   "metadata": {},
   "outputs": [],
   "source": [
    "sg_tweets_hashtags = sg_tweets[sg_tweets['entity_hashtags'].notna()]['entity_hashtags']\n",
    "\n",
    "print(\"Count of tweets with hashtags {}\".format(len(sg_tweets_hashtags)))\n",
    "print(\"% of tweets with hashtags {}\".format(len(sg_tweets_hashtags)/len(sg_tweets)*100))"
   ]
  },
  {
   "cell_type": "code",
   "execution_count": null,
   "id": "02889521-0b40-4d15-9094-d047594273fa",
   "metadata": {},
   "outputs": [],
   "source": [
    "hashtags = []\n",
    "\n",
    "for h in sg_tweets_hashtags:\n",
    "    h_list = [hh for hh in h.split('|') if hh not in ['Singapore', 'singapore', 'sg']]\n",
    "    hashtags.extend(h_list)\n",
    "\n",
    "print(\"Total hashtags:\", len(hashtags))\n",
    "print(\"Total unique hashtags:\", len(set(hashtags)))"
   ]
  },
  {
   "cell_type": "code",
   "execution_count": null,
   "id": "38b15c96-04bf-42c2-b7ed-3004dee810e5",
   "metadata": {},
   "outputs": [],
   "source": [
    "count_hashtags = col.Counter(hashtags).most_common()\n",
    "\n",
    "TOP_X = 20\n",
    "hashtags = [c[0] for c in count_hashtags[:TOP_X]]\n",
    "counts = [c[1] for c in count_hashtags[:TOP_X]]\n",
    "\n",
    "# count_hashtags\n",
    "plt.barh(hashtags[::-1], counts[::-1])\n",
    " \n",
    "plt.ylabel(\"hashtags\")\n",
    "plt.xlabel(\"Count\")\n",
    "plt.xticks(rotation=45)\n",
    "plt.title(\"Distribution of hashtags\")\n",
    "plt.show()"
   ]
  },
  {
   "cell_type": "code",
   "execution_count": null,
   "id": "b4544162-3114-42b2-b778-4f018577d401",
   "metadata": {},
   "outputs": [],
   "source": [
    "# Saving data for the dashboard\n",
    "hashtags_data = {\n",
    "    \"counts\": counts[::-1],\n",
    "    \"hashtag\": hashtags[::-1]\n",
    "}\n",
    "\n",
    "df_hashtags_data = pd.DataFrame(data=hashtags_data)\n",
    "pd.DataFrame.to_csv(df_hashtags_data, \"data/output/basics/hashtags.csv\")"
   ]
  },
  {
   "cell_type": "markdown",
   "id": "755c1b68-a5ee-4224-87dc-8626bfa8bfdf",
   "metadata": {},
   "source": [
    "### 4.6. Popular mentions <a id=\"cell46\"></a>"
   ]
  },
  {
   "cell_type": "code",
   "execution_count": null,
   "id": "9c85f898-5a09-4c2b-bd4c-f8325b3bb7c9",
   "metadata": {},
   "outputs": [],
   "source": [
    "sg_tweets_mentions = sg_tweets[sg_tweets['entity_mentions'].notna()]['entity_mentions']\n",
    "\n",
    "print(\"Count of tweets with mentions {}\".format(len(sg_tweets_mentions)))\n",
    "print(\"% tweets with mentions {}\".format(len(sg_tweets_mentions)/len(sg_tweets)*100))"
   ]
  },
  {
   "cell_type": "code",
   "execution_count": null,
   "id": "f2212bfb-ec32-4b1d-859a-b3c2b659f510",
   "metadata": {},
   "outputs": [],
   "source": [
    "mentions = []\n",
    "\n",
    "for m in sg_tweets_mentions:\n",
    "    m_list = [mm for mm in m.split('|')]\n",
    "    mentions.extend(m_list)\n",
    "\n",
    "print(\"Total mentions:\", len(mentions))\n",
    "print(\"Total unique mentions:\", len(set(mentions)))"
   ]
  },
  {
   "cell_type": "code",
   "execution_count": null,
   "id": "6d208f4f-2fba-4462-be53-64cef2029b40",
   "metadata": {},
   "outputs": [],
   "source": [
    "count_mentions = col.Counter(mentions).most_common()\n",
    "\n",
    "TOP_X = 20\n",
    "mentions = [c[0] for c in count_mentions[:TOP_X]]\n",
    "counts = [c[1] for c in count_mentions[:TOP_X]]\n",
    "\n",
    "# count_mentions\n",
    "plt.barh(mentions[::-1], counts[::-1])\n",
    " \n",
    "plt.ylabel(\"Screen_name\")\n",
    "plt.xlabel(\"Count\")\n",
    "plt.xticks(rotation=45)\n",
    "plt.title(\"Distribution of mentions\")\n",
    "plt.show()"
   ]
  },
  {
   "cell_type": "code",
   "execution_count": null,
   "id": "e6ff0106-b335-469a-ab74-209d6f7e9dd3",
   "metadata": {},
   "outputs": [],
   "source": [
    "# Saving data for the dashboard\n",
    "mentions_data = {\n",
    "    \"counts\": counts[::-1],\n",
    "    \"mention\": mentions[::-1]\n",
    "}\n",
    "\n",
    "df_mentions_data = pd.DataFrame(data=mentions_data)\n",
    "pd.DataFrame.to_csv(df_mentions_data, \"data/output/basics/mentions.csv\")\n",
    "df_mentions_data"
   ]
  },
  {
   "cell_type": "markdown",
   "id": "b009f2ef-329a-4acc-9efc-91dd8fb3a6c2",
   "metadata": {},
   "source": [
    "### 4.7. Regional analysis  <a id=\"cell47\"></a>\n",
    "\n",
    "Singapore is divided in 5 regions.Checking the distribution of tweets at regional level. \n",
    "**Only a subset of tweets is taken containing regional information in the location description**\n",
    "\n",
    "**Factual**:Population by region:\n",
    "- **Central Region**\t922,580\n",
    "\n",
    "- **East Region** 685,890\n",
    "\n",
    "- **North Region** 582,330 \n",
    "\n",
    "- **North-East Region** 930,910 \n",
    "\n",
    "- **West Region** 922,540 "
   ]
  },
  {
   "cell_type": "code",
   "execution_count": null,
   "id": "f21a77ee-581a-40e5-8782-5f3b428d6210",
   "metadata": {},
   "outputs": [],
   "source": [
    "tw_user_location_containing_place = list(sg_tweets[sg_tweets['user_geo_tagging'].str.contains('PLACE', na=False, regex=True)]['user_geo_tagging'])\n",
    "len(tw_user_location_containing_place)"
   ]
  },
  {
   "cell_type": "code",
   "execution_count": null,
   "id": "60d18fbd-4e3e-4e28-a3c1-56c5b0212c35",
   "metadata": {},
   "outputs": [],
   "source": [
    "print(\"Number of tweets from Central: \", sum('Central' in s for s in tw_user_location_containing_place))\n",
    "print(\"Number of tweets from West: \", sum('West' in s for s in tw_user_location_containing_place))\n",
    "print(\"Number of tweets from East: \", sum('East ' in s for s in tw_user_location_containing_place))\n",
    "print(\"Number of tweets from North-East: \", sum('North-East' in s for s in tw_user_location_containing_place))\n",
    "print(\"Number of tweets from North: \", sum('North ' in s for s in tw_user_location_containing_place))\n",
    "print(\"-\"*10)\n",
    "print(\"% of tweets from Central: \", sum('Central' in s for s in tw_user_location)/len(tw_user_location_containing_place)*100)\n",
    "print(\"% of tweets from West: \", sum('West' in s for s in tw_user_location)/len(tw_user_location_containing_place)*100)\n",
    "print(\"% of tweets from North-East: \", sum('North-East' in s for s in tw_user_location)/len(tw_user_location_containing_place)*100)\n",
    "print(\"% of tweets from North: \", sum('North ' in s for s in tw_user_location)/len(tw_user_location_containing_place)*100)\n",
    "print(\"% of tweets from East: \", sum('East ' in s for s in tw_user_location)/len(tw_user_location_containing_place)*100)"
   ]
  },
  {
   "cell_type": "markdown",
   "id": "586479f0-8830-43ec-a4dc-437b8a6cae27",
   "metadata": {},
   "source": [
    "### 4.8. Others <a id=\"cell48\"></a>"
   ]
  },
  {
   "cell_type": "markdown",
   "id": "a954accb-9196-4a65-ad22-a9200ee05dc7",
   "metadata": {},
   "source": [
    "#### Fake news"
   ]
  },
  {
   "cell_type": "code",
   "execution_count": null,
   "id": "f8b754be-107f-4088-9c4f-f6114da55b60",
   "metadata": {},
   "outputs": [],
   "source": [
    "fake_news_sources = []\n",
    "with open(\"../data/fake_news_sources.txt\", 'r') as f:\n",
    "    for line in f:\n",
    "        fake_news_sources.append(line.strip('\\n'))\n",
    "\n",
    "fake_news_sources_reg = '|'.join(fake_news_sources)"
   ]
  },
  {
   "cell_type": "code",
   "execution_count": null,
   "id": "e5961c0e-168d-4f50-be16-677c7a2e626f",
   "metadata": {},
   "outputs": [],
   "source": [
    "len(fake_news_sources)"
   ]
  },
  {
   "cell_type": "code",
   "execution_count": null,
   "id": "31b0b990-b5d6-4111-a00c-dea7ddc464fa",
   "metadata": {},
   "outputs": [],
   "source": [
    "sg_fake_news = sg_tweets[sg_tweets['entity_link_url'].str.lower().str.contains(fake_news_sources_reg, na=False, regex=True, case=False)]"
   ]
  },
  {
   "cell_type": "code",
   "execution_count": null,
   "id": "f71d3d8f-9deb-47ca-9215-10818881d080",
   "metadata": {},
   "outputs": [],
   "source": [
    "sg_fake_news"
   ]
  },
  {
   "cell_type": "markdown",
   "id": "d249cbf4-9ad0-4c94-80aa-3a26d516ae41",
   "metadata": {},
   "source": [
    "#### Images shared on twitter "
   ]
  },
  {
   "cell_type": "code",
   "execution_count": null,
   "id": "6c506988-4305-41ab-ba3a-b18c5b548eed",
   "metadata": {},
   "outputs": [],
   "source": [
    "imgs_sg_tweets = sg_tweets[(sg_tweets['entity_image_url'].notna())]\n",
    "imgs_sg_tweets['entity_image_url']"
   ]
  },
  {
   "cell_type": "markdown",
   "id": "0c4f1fb2-958c-4b34-84ca-49e336b460a7",
   "metadata": {},
   "source": [
    "#### Listing tweets with random hate words"
   ]
  },
  {
   "cell_type": "code",
   "execution_count": null,
   "id": "835e3bec-2c4f-4a4f-bc0a-11519a35f153",
   "metadata": {},
   "outputs": [],
   "source": [
    "hate_sg_tweets = sg_tweets[(sg_tweets['tweet_text'].str.contains('racism|racist|xeno', case=False, regex=True))]\n",
    "hate_sg_tweets.shape"
   ]
  },
  {
   "cell_type": "code",
   "execution_count": null,
   "id": "9619de7d-e4e8-4975-b3c0-bdacc24779fa",
   "metadata": {},
   "outputs": [],
   "source": [
    "list(hate_sg_tweets['tweet_text'])[:10]"
   ]
  },
  {
   "cell_type": "markdown",
   "id": "aa2cf481-3c6c-4a31-a8ef-41dba9b51c3b",
   "metadata": {},
   "source": [
    "#### Local news Singapore reporters "
   ]
  },
  {
   "cell_type": "code",
   "execution_count": null,
   "id": "6b38249c-7cd8-49d7-afd7-da8ebb3a9893",
   "metadata": {},
   "outputs": [],
   "source": [
    "sg_tweets[sg_tweets['user_screenname_x'].isin(['stompsingapore'])]['tweet_text']"
   ]
  }
 ],
 "metadata": {
  "kernelspec": {
   "display_name": "Python 3 (ipykernel)",
   "language": "python",
   "name": "python3"
  },
  "language_info": {
   "codemirror_mode": {
    "name": "ipython",
    "version": 3
   },
   "file_extension": ".py",
   "mimetype": "text/x-python",
   "name": "python",
   "nbconvert_exporter": "python",
   "pygments_lexer": "ipython3",
   "version": "3.8.11"
  }
 },
 "nbformat": 4,
 "nbformat_minor": 5
}
