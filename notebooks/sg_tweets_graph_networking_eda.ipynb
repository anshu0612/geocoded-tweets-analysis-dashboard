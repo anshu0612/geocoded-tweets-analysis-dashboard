{
 "cells": [
  {
   "cell_type": "markdown",
   "id": "743a8e48-846a-430c-b6e1-6dc0e102430e",
   "metadata": {},
   "source": [
    "# Networking graph analysis among twitter users \n",
    "\n",
    "Twitter users usually interact through replies, retweets, and quoted tweets. These interactions between the users are used for inferring the influential users and for community detection.  "
   ]
  },
  {
   "cell_type": "markdown",
   "id": "bd855e50-284e-427c-9a8a-847b73c7db46",
   "metadata": {},
   "source": [
    "### Table of Contents\n",
    "\n",
    "* 1\\. [Creating interactions graph](#cell1)\n",
    "* 2\\. [Influential users using PageRank algorithm](#cell2)\n",
    "    * 2.1. [Visualizing the interactions graph](#cell21)\n",
    "* 3\\. [Community detection using Louvain algorithm](#cell3)\n",
    "    * 3.1. [Visualizing communities](#cell31)"
   ]
  },
  {
   "cell_type": "code",
   "execution_count": 1,
   "id": "4311e468-ab7a-47ea-8365-d8077c8ccfba",
   "metadata": {},
   "outputs": [],
   "source": [
    "import collections as col\n",
    "\n",
    "import numpy as np\n",
    "import pandas as pd\n",
    "\n",
    "# visualizations\n",
    "import plotly.express as px\n",
    "import plotly.graph_objects as go\n",
    "import matplotlib.pyplot as plt\n",
    "from plotly.offline import iplot, plot\n",
    "import matplotlib.cm as cm\n",
    "\n",
    "# graph analysis\n",
    "import networkx as nx\n",
    "import community as community_louvain"
   ]
  },
  {
   "cell_type": "code",
   "execution_count": 2,
   "id": "94837649-288a-4a66-ac24-62724757df73",
   "metadata": {},
   "outputs": [],
   "source": [
    "import warnings\n",
    "warnings.filterwarnings(\"ignore\")"
   ]
  },
  {
   "cell_type": "code",
   "execution_count": 3,
   "id": "aeada019-ac50-4db4-a97e-8370fa9177e9",
   "metadata": {},
   "outputs": [],
   "source": [
    "DATA_PATH = '../data/'"
   ]
  },
  {
   "cell_type": "markdown",
   "id": "ab333f05-6885-4fdc-abed-12ab8cc15509",
   "metadata": {},
   "source": [
    "##### Loading the processed Singapore-based data "
   ]
  },
  {
   "cell_type": "code",
   "execution_count": 4,
   "id": "c52b00bd-6486-47fe-b1db-0db57c9a4758",
   "metadata": {},
   "outputs": [
    {
     "data": {
      "text/plain": [
       "(181423, 54)"
      ]
     },
     "execution_count": 4,
     "metadata": {},
     "output_type": "execute_result"
    }
   ],
   "source": [
    "tweets = pd.read_csv(DATA_PATH + \"sg.csv\")\n",
    "tweets.shape"
   ]
  },
  {
   "cell_type": "markdown",
   "id": "e68c2ac2-2ca3-4399-b1f7-8f5a08d28d12",
   "metadata": {},
   "source": [
    "## 1. Creating interactions graph  <a id=\"cell1\"></a>\n",
    "##### A directed weighted graph of interactions - replies, retweets, and quoted tweets between the users. \n",
    "##### The weights denote the number of interactions between two users.\n",
    "\n",
    "### Creating directed graph with nodes, edges and weights \n",
    "\n",
    "Graph: Users' interaction through replies, retweets and quotes\n",
    "- Nodes: Username\n",
    "- Edge: From a user replying/retweeting/quoting to the author of the replied/retweeted/quoted tweet\n",
    "- Weight: Number of interactions between any two users "
   ]
  },
  {
   "cell_type": "code",
   "execution_count": 5,
   "id": "964d9cbf-9a4f-42ee-915c-83f1640ed1ce",
   "metadata": {},
   "outputs": [],
   "source": [
    "def get_all_interacting_users():\n",
    "    sg_users = set() \n",
    "    retweeted_users = set()\n",
    "    quoted_users = set()\n",
    "    replied_users = set()\n",
    "\n",
    "    for u in tweets['user_screenname_x']: # merged csvs created user_screenname_x and user_screenname_y\n",
    "        sg_users.add(u)\n",
    "    print(\"Count unique SG users: \", len(sg_users))\n",
    "\n",
    "    for u in tweets[tweets['replied_to_user_screenname'].notna()]['replied_to_user_screenname']: \n",
    "        if u == u:  replied_users.add(u)\n",
    "    print(\"Count unique replied users: \", len(replied_users))\n",
    "\n",
    "    for u in tweets[tweets['retweeted_user_screenname'].notna()]['retweeted_user_screenname']: \n",
    "        if u == u: retweeted_users.add(u)\n",
    "    print(\"Count unique retweeted users: \", len(retweeted_users))\n",
    "\n",
    "    for u in tweets[tweets['quoted_user_screenname'].notna()]['quoted_user_screenname']: \n",
    "        if u == u:  quoted_users.add(u)\n",
    "    print(\"Count unique quoted users: \", len(quoted_users))\n",
    "    \n",
    "    common_interacting_users = set.intersection(sg_users, replied_users, retweeted_users, quoted_users)\n",
    "    print(\"{} total unique common interacting users\".format(len(common_interacting_users)))\n",
    "    \n",
    "    return set.union(sg_users, replied_users, retweeted_users, quoted_users)\n",
    "\n",
    "\n",
    "def get_weighted_interacting_edges():\n",
    "    interacting_edges = dict() # try set as well\n",
    "\n",
    "    # replies interaction\n",
    "    replies_sg = tweets[tweets['tweet_enagagement_type'] == 'Reply'][['user_screenname_x', 'replied_to_user_screenname']]\n",
    "    for user, iuser in zip(replies_sg['user_screenname_x'], replies_sg['replied_to_user_screenname']):\n",
    "        if user and iuser and (user != iuser): \n",
    "            if (user, iuser,) in interacting_edges:\n",
    "                interacting_edges[(user, iuser,)] += 1\n",
    "            else:\n",
    "                interacting_edges[(user, iuser,)] = 1\n",
    "\n",
    "    # retweets interaction\n",
    "    retweets_sg = tweets[tweets['tweet_enagagement_type'] == 'Retweet'][['user_screenname_x', 'retweeted_user_screenname']]\n",
    "    for user, iuser in zip(retweets_sg['user_screenname_x'], retweets_sg['retweeted_user_screenname']):\n",
    "        if user and iuser and (user != iuser):  \n",
    "            if (user, iuser,) in interacting_edges:\n",
    "                interacting_edges[(user, iuser,)] += 1\n",
    "            else:\n",
    "                interacting_edges[(user, iuser,)] = 1\n",
    "\n",
    "    # quotes interaction\n",
    "    quotes_sg = tweets[tweets['tweet_enagagement_type'] == 'Quote'][['user_screenname_x', 'quoted_user_screenname']]\n",
    "    for user, iuser in zip(quotes_sg['user_screenname_x'], quotes_sg['quoted_user_screenname']):\n",
    "        if user and iuser and (user != iuser):  \n",
    "            if (user, iuser,) in interacting_edges:\n",
    "                interacting_edges[(user, iuser,)] += 1\n",
    "            else:\n",
    "                interacting_edges[(user, iuser,)] = 1\n",
    "\n",
    "    weighted_interacting_edges_ = set()\n",
    "    for k, v in interacting_edges.items():\n",
    "        weighted_interacting_edges_.add(k + (v,))\n",
    "        \n",
    "    return weighted_interacting_edges_\n",
    "\n",
    "def create_weighted_directed_graph(nodes, edges):\n",
    "    G = nx.MultiDiGraph()\n",
    "    G.add_nodes_from(nodes)\n",
    "    G.add_weighted_edges_from(edges)\n",
    "    return G\n",
    "\n",
    "def graph_details(G):\n",
    "    degrees = [val for (node, val) in G.degree()]\n",
    "    print(\"The maximum degree of the graph is \" + str(np.max(degrees))) \n",
    "    print(\"The minimum degree of the graph is \" + str(np.min(degrees)))\n",
    "    print(\"There are \" + str(G.number_of_nodes()) + \" nodes and \" + str(G.number_of_edges()) + \" edges present in the graph\")\n",
    "    print(\"The average degree of the nodes in the graph is \" + str(np.mean(degrees)))"
   ]
  },
  {
   "cell_type": "code",
   "execution_count": 6,
   "id": "c7d30f4e-971e-4b1a-8951-2d5ef05f5652",
   "metadata": {},
   "outputs": [
    {
     "name": "stdout",
     "output_type": "stream",
     "text": [
      "Count unique SG users:  22531\n",
      "Count unique replied users:  10458\n",
      "Count unique retweeted users:  16999\n",
      "Count unique quoted users:  7647\n",
      "273 total unique common interacting users\n",
      "49459 total unique interacting users\n"
     ]
    }
   ],
   "source": [
    "all_interacting_users = get_all_interacting_users()\n",
    "print(\"{} total unique interacting users\".format(len(all_interacting_users)))\n",
    "weighted_interacting_edges = get_weighted_interacting_edges()"
   ]
  },
  {
   "cell_type": "code",
   "execution_count": 7,
   "id": "27d2112f-8c48-4e5e-8ab4-ce247e7ca3a2",
   "metadata": {},
   "outputs": [
    {
     "name": "stdout",
     "output_type": "stream",
     "text": [
      "The maximum degree of the graph is 1350\n",
      "The minimum degree of the graph is 0\n",
      "There are 49460 nodes and 72608 edges present in the graph\n",
      "The average degree of the nodes in the graph is 2.936029114435908\n"
     ]
    }
   ],
   "source": [
    "G = create_weighted_directed_graph(all_interacting_users, weighted_interacting_edges)\n",
    "graph_details(G)"
   ]
  },
  {
   "cell_type": "markdown",
   "id": "86779bd1-acf0-445a-8c1e-7ee0d6a94e96",
   "metadata": {},
   "source": [
    "## 2. Influential users using PageRank algorithm <a id=\"cell2\"></a>\n",
    "#### Applied PageRanking on interactions graph to get the top 50 users"
   ]
  },
  {
   "cell_type": "code",
   "execution_count": 8,
   "id": "fd81ee07-f3d2-4189-88cb-2db67660492d",
   "metadata": {},
   "outputs": [],
   "source": [
    "def get_top_ranked_users(G, top_users_count=50):\n",
    "    ranked_users = nx.pagerank(G, 0.9)\n",
    "    ranked_users = dict(sorted(ranked_users.items(), key=lambda item: item[1], reverse=True))\n",
    "    \n",
    "    return list(ranked_users)[:top_users_count]"
   ]
  },
  {
   "cell_type": "markdown",
   "id": "f8f6015d-c597-4949-ac14-585c6516277e",
   "metadata": {},
   "source": [
    "##### Top influential users "
   ]
  },
  {
   "cell_type": "code",
   "execution_count": 9,
   "id": "10704971-831f-495f-885c-0a24aa396012",
   "metadata": {},
   "outputs": [
    {
     "data": {
      "text/plain": [
       "['ChannelNewsAsia',\n",
       " 'MothershipSG',\n",
       " 'straits_times',\n",
       " 'TODAYonline',\n",
       " 'STForeignDesk',\n",
       " 'JustinOngTODAY',\n",
       " 'leehsienloong',\n",
       " 'VP',\n",
       " 'MatthewMohanCNA',\n",
       " 'CherylLinCNA']"
      ]
     },
     "execution_count": 9,
     "metadata": {},
     "output_type": "execute_result"
    }
   ],
   "source": [
    "top_ranking = get_top_ranked_users(G)\n",
    "top_ranking[:10]"
   ]
  },
  {
   "cell_type": "markdown",
   "id": "b0e465f7-6db1-43dc-b0d0-a6c07e93f89e",
   "metadata": {},
   "source": [
    "#### Quality check of the ranking algorithm\n",
    "\n",
    "The number of verified users in the top X rankings as the quality check of the ranking algo.\n"
   ]
  },
  {
   "cell_type": "code",
   "execution_count": 10,
   "id": "5d2faa39-a72b-46fb-95cd-d18927705e91",
   "metadata": {},
   "outputs": [],
   "source": [
    "def quality_check_pagerank(top_ranking, top_x=50):\n",
    "    sg_verified_users =  tweets[tweets['user_verified'] == True]['user_screenname_x']\n",
    "    rt_verified_users = tweets[(tweets['tweet_enagagement_type'] == 'Retweet') & (tweets['retweeted_user_verified'] == True)]['retweeted_user_screenname']\n",
    "    q_verified_users = tweets[(tweets['tweet_enagagement_type'] == 'Quote') & (tweets['quoted_user_verified'] == True)]['quoted_user_screenname']    \n",
    "\n",
    "    all_verified_users = set(list(sg_verified_users) + list(rt_verified_users) + list(q_verified_users))\n",
    "    z = set(top_ranking).intersection(all_verified_users)\n",
    "    print(\"The number of verified users in the top {} rankings - {}%\".format( top_x, len(z)/top_x*100))\n",
    "    return len(z)/top_x*100\n",
    "    "
   ]
  },
  {
   "cell_type": "code",
   "execution_count": 11,
   "id": "088af3ff-29f5-46d9-86b2-35dedebbbe94",
   "metadata": {},
   "outputs": [
    {
     "name": "stdout",
     "output_type": "stream",
     "text": [
      "The number of verified users in the top 50 rankings - 70.0%\n"
     ]
    },
    {
     "data": {
      "text/plain": [
       "70.0"
      ]
     },
     "execution_count": 11,
     "metadata": {},
     "output_type": "execute_result"
    }
   ],
   "source": [
    "quality_check_pagerank(top_ranking)"
   ]
  },
  {
   "cell_type": "code",
   "execution_count": 12,
   "id": "6eeefa8c-9f04-4e12-b17d-a1304f7eb6f5",
   "metadata": {},
   "outputs": [],
   "source": [
    "def generate_dash_influential_users(top_ranking, influential_users_save_path):\n",
    "    # TODO: Can add followers counts but missing for retweeted_user_screenname and quoted_user_screenname\n",
    "    normal_users = tweets[tweets['user_screenname_x'].isin(top_ranking)][['user_screenname_x', 'user_geo_coding', 'user_verified']]\n",
    "    normal_users.rename(columns = {'user_screenname_x':'user_screenname'}, inplace = True)\n",
    "\n",
    "    rts_users = tweets[tweets['retweeted_user_screenname'].isin(top_ranking)][['retweeted_user_screenname', 'retweeted_user_geo_coding', 'retweeted_user_verified']]\n",
    "    rts_users.rename(columns = {'retweeted_user_screenname':'user_screenname',\n",
    "                                'retweeted_user_geo_coding': 'user_geo_coding',\n",
    "                                'retweeted_user_verified': 'user_verified'}, inplace = True)\n",
    "\n",
    "    quoted_users = tweets[tweets['quoted_user_screenname'].isin(top_ranking)][['quoted_user_screenname', 'quoted_user_geo_coding', 'quoted_user_verified']]\n",
    "    quoted_users.rename(columns = {'quoted_user_screenname':'user_screenname',\n",
    "                                    'quoted_user_geo_coding': 'user_geo_coding',\n",
    "                                    'quoted_user_verified': 'user_verified'}, inplace = True)\n",
    "\n",
    "    influential_users =pd.concat([normal_users, rts_users, quoted_users]).drop_duplicates().reset_index(drop=True)\n",
    "    pd.DataFrame.to_csv(influential_users, influential_users_save_path)\n",
    "    \n",
    "    print(top_ranking)\n",
    "    \n",
    "def generate_dash_influential_users_tweets(top_ranking, influential_users_tweets_save_path):\n",
    "    # TODO: Can add followers counts but missing for retweeted_user_screenname and quoted_user_screenname\n",
    "    normal_users = tweets[tweets['user_screenname_x'].isin(top_ranking)][['user_screenname_x', 'tweet_text']]\n",
    "    normal_users.rename(columns = {'user_screenname_x':'user_screenname'}, inplace = True)\n",
    "\n",
    "    rts_users = tweets[tweets['retweeted_user_screenname'].isin(top_ranking)][['retweeted_user_screenname', 'tweet_text']]\n",
    "    rts_users.rename(columns = {'retweeted_user_screenname':'user_screenname'}, inplace = True)\n",
    "\n",
    "    quoted_users = tweets[tweets['quoted_user_screenname'].isin(top_ranking)][['quoted_user_screenname', 'quoted_tweet_text']]\n",
    "    quoted_users.rename(columns = {'quoted_user_screenname':'user_screenname',\n",
    "                                    'quoted_tweet_text': 'tweet_text'}, inplace = True)\n",
    "\n",
    "    influential_users_tweets = pd.concat([normal_users, rts_users, quoted_users]).reset_index(drop=True)\n",
    "    pd.DataFrame.to_csv(influential_users_tweets, influential_users_tweets_save_path)    "
   ]
  },
  {
   "cell_type": "code",
   "execution_count": 13,
   "id": "934276e8-79a6-458d-b90b-1e5ee3c6895f",
   "metadata": {},
   "outputs": [
    {
     "name": "stdout",
     "output_type": "stream",
     "text": [
      "['ChannelNewsAsia', 'MothershipSG', 'straits_times', 'TODAYonline', 'STForeignDesk', 'JustinOngTODAY', 'leehsienloong', 'VP', 'MatthewMohanCNA', 'CherylLinCNA', 'AqilHaziqCNA', 'gayaCNA', 'historyogi', 'AlifAmsyarCNA', 'LinXuelingCNA', 'PichayadaCNA', 'in_transitiverb', 'sporeMOH', 'HweeMinCNA', 'lustfuldesirer', 'muttons', 'Tan_Hui_Yee', 'LeongWaiKitCNA', 'asonofapeach', 'VivianBala', 'kixes', 'SaveMM99', 'GlblCtznImpact', 'Shoon_Naing', 'STopinion', 'IrrawaddyNews', 'spring21MM', 'mrbrown', 'DrSasa22222', 'karmanomad', 'stbusinessdesk', 'JoakimGomez', 'business', 'lioncitysailors', 'hahazebr4', 'minlawsg', 'xavierlur', 'cnnphilippines', 'nypost', 'cz_binance', 'KKMPutrajaya', 'Reuters', 'raaaaachel', 'DGHisham', 'shafiur']\n"
     ]
    }
   ],
   "source": [
    "influential_users_save_path = DATA_PATH + \"output/influencers/top_users.csv\"\n",
    "influential_users_tweets_save_path = DATA_PATH + \"output/influencers/top_users_tweets.csv\"\n",
    "\n",
    "generate_dash_influential_users(top_ranking, influential_users_save_path)\n",
    "generate_dash_influential_users_tweets(top_ranking, influential_users_tweets_save_path)"
   ]
  },
  {
   "cell_type": "markdown",
   "id": "bb70df7a-e74c-40e6-aa49-bea9ebf6c2e1",
   "metadata": {},
   "source": [
    "### 2.1. Visualizing the interactions graph  <a id=\"cell21\"></a>"
   ]
  },
  {
   "cell_type": "markdown",
   "id": "22c0c6c0-e163-4c28-aed6-e536830bd406",
   "metadata": {},
   "source": [
    "#### Pruning the graph with low degree - Users who recieve low number of interactions "
   ]
  },
  {
   "cell_type": "markdown",
   "id": "f13b37e8-f5ee-40c7-9589-aa12d12d8482",
   "metadata": {},
   "source": [
    "#### Plotting the interactions graph with the Fruchterman-Reingold layout algorithm. "
   ]
  },
  {
   "cell_type": "code",
   "execution_count": null,
   "id": "f74e8f92-476b-4927-a65f-d38f226e7869",
   "metadata": {},
   "outputs": [],
   "source": [
    "pos = nx.draw_kamada_kawai(G)"
   ]
  },
  {
   "cell_type": "code",
   "execution_count": null,
   "id": "81aa3f3c-c80c-42b3-920f-114229a04194",
   "metadata": {},
   "outputs": [],
   "source": [
    "edge_x = []\n",
    "edge_y = []\n",
    "names = []\n",
    "for edge in G.edges():\n",
    "    x_gen_pos = pos[edge[0]]\n",
    "    y_gen_pos = pos[edge[1]]\n",
    "    edge_x.extend([x_gen_pos[0], y_gen_pos[0], None])\n",
    "    edge_y.extend([x_gen_pos[1], y_gen_pos[1], None])\n",
    "    \n",
    "node_x = []\n",
    "node_y = []\n",
    "\n",
    "for node in G.nodes():\n",
    "    gen_pos = pos[node]\n",
    "    node_x.append(gen_pos[0])\n",
    "    node_y.append(gen_pos[1])\n",
    "    names.append(node)\n",
    "    \n",
    "trace_nodes=dict(type=\"scatter\",\n",
    "                 x=node_x, \n",
    "                 y=node_y,\n",
    "                 mode=\"markers\",\n",
    "                 marker=dict(size=5, colorscale='YlGnBu'),\n",
    "                 text=names,\n",
    "                 hoverinfo=\"text\")\n",
    "\n",
    "trace_edges=dict(type=\"scatter\",                  \n",
    "                 mode=\"lines\",                  \n",
    "                 x=edge_x,                  \n",
    "                 y=edge_y,                 \n",
    "                 line=dict(width=0.5, color='grey'), hoverinfo=\"none\")\n",
    "\n",
    "axis=dict(showline=False, \n",
    "          zeroline=False,\n",
    "          showgrid=False,\n",
    "          showticklabels=False,\n",
    "          title=\"\"\n",
    "          )\n",
    "\n",
    "node_trace = go.Scatter(\n",
    "    x=node_x, y=node_y,\n",
    "    mode='markers',\n",
    "    hoverinfo='text',\n",
    "    marker=dict(\n",
    "        showscale=True,\n",
    "        # colorscale options\n",
    "        #'Greys' | 'YlGnBu' | 'Greens' | 'YlOrRd' | 'Bluered' | 'RdBu' |\n",
    "        #'Reds' | 'Blues' | 'Picnic' | 'Rainbow' | 'Portland' | 'Jet' |\n",
    "        #'Hot' | 'Blackbody' | 'Earth' | 'Electric' | 'Viridis' |\n",
    "        colorscale='YlGnBu',\n",
    "        reversescale=True,\n",
    "        color=[],\n",
    "        size=10,\n",
    "        colorbar=dict(\n",
    "            thickness=15,\n",
    "            title='Node Connections',\n",
    "            xanchor='left',\n",
    "            titleside='right'\n",
    "        ),\n",
    "        line_width=2))\n",
    "\n",
    "layout=dict(title= \"Interactions graph\",  \n",
    "             font= dict(family=\"Balto\"),\n",
    "             width=600,\n",
    "             height=600,\n",
    "             autosize=False,\n",
    "             showlegend=False,\n",
    "             xaxis=axis,\n",
    "             yaxis=axis,\n",
    "             margin=dict(\n",
    "             l=40,\n",
    "             r=40,\n",
    "             b=85,\n",
    "             t=100,\n",
    "             pad=0,   \n",
    "     ),\n",
    "     hovermode=\"closest\",\n",
    "     plot_bgcolor=\"#EFECEA\", #set background color            \n",
    "     )\n",
    "\n",
    "fig = dict(data=[trace_edges, trace_nodes], layout=layout)\n",
    "\n",
    "node_adjacencies = []\n",
    "node_text = []\n",
    "for node, adjacencies in enumerate(G.adjacency()):\n",
    "    node_adjacencies.append(len(adjacencies[1]))\n",
    "    node_text.append('# of connections: '+str(len(adjacencies[1])))\n",
    "\n",
    "node_trace.marker.color = node_adjacencies\n",
    "node_trace.text = node_text\n",
    "\n",
    "iplot(fig)"
   ]
  },
  {
   "cell_type": "markdown",
   "id": "b3905458-b160-48e8-82e4-3dc2f40f5e37",
   "metadata": {},
   "source": [
    "## 3. Community detection using Louvain algorithm (modularity/partition) <a id=\"cell3\"></a>"
   ]
  },
  {
   "cell_type": "code",
   "execution_count": 14,
   "id": "447a0f23-7ea8-4be1-829b-3ea683931137",
   "metadata": {},
   "outputs": [],
   "source": [
    "def get_graph_details(G):\n",
    "    degrees = [val for (node, val) in G.degree()]\n",
    "    print(\"The maximum degree of the graph is \" + str(np.max(degrees))) \n",
    "    print(\"The minimum degree of the graph is \" + str(np.min(degrees)))\n",
    "    print(\"There are \" + str(G.number_of_nodes()) + \" nodes and \" + str(G.number_of_edges()) + \" edges present in the graph\")\n",
    "    print(\"The average degree of the nodes in the graph is \" + str(np.mean(degrees)))"
   ]
  },
  {
   "cell_type": "code",
   "execution_count": 24,
   "id": "5bc00f21-f863-47ee-9e54-b006d1c15c68",
   "metadata": {},
   "outputs": [
    {
     "name": "stdout",
     "output_type": "stream",
     "text": [
      "The maximum degree of the graph is 1350\n",
      "The minimum degree of the graph is 0\n",
      "There are 49460 nodes and 72608 edges present in the graph\n",
      "The average degree of the nodes in the graph is 2.936029114435908\n"
     ]
    }
   ],
   "source": [
    "get_graph_details(G)"
   ]
  },
  {
   "cell_type": "markdown",
   "id": "23f38589-001b-46f0-91fd-e09ff2f7a53b",
   "metadata": {},
   "source": [
    "### 3.1. Visualizing communities <a id=\"cell31\"></a>"
   ]
  },
  {
   "cell_type": "code",
   "execution_count": 70,
   "id": "9b297c79-8923-4060-810c-c311b1107bc6",
   "metadata": {},
   "outputs": [],
   "source": [
    "import json\n",
    "MIN_DEGREE_TO_HAVE = 40\n",
    "\n",
    "\n",
    "def get_min_graph_degree(Graph):\n",
    "    degrees = [val for (node, val) in Graph.degree()]\n",
    "    print(\"The minimum degree of the graph is \" + str(np.min(degrees)))\n",
    "    return np.min(degrees)\n",
    "\n",
    "def remove_low_degree_edges(G, min_degree=MIN_DEGREE_TO_HAVE):\n",
    "    G_pruned = G.copy()\n",
    "    low_degree_nodes = [node for node, degree in dict(G_pruned.degree()).items() if degree < 10]\n",
    "    print(\"Number of users to be removed with degree less than {}: {}\".format( min_degree, len(low_degree_nodes)))\n",
    "    G_pruned.remove_nodes_from(low_degree_nodes)\n",
    "    \n",
    "    print(\"New graph:\", G_pruned.size(), G_pruned.order())\n",
    "    return G_pruned\n",
    "\n",
    "def get_communities(G_pruned, communities_save_path, communities_plot_save_path, user_to_community_save_path):\n",
    "    G_pruned = G_pruned.to_undirected()\n",
    "    communities = community_louvain.best_partition(G_pruned)\n",
    "    communities_plot = nx.spring_layout(G_pruned) #nx.spring_layout(G2)\n",
    "        \n",
    "    cmap = cm.get_cmap('viridis', max(communities.values()) + 1)\n",
    "    nx.draw_networkx_nodes(G_pruned, communities_plot, communities.keys(), node_size=40,\n",
    "                           cmap=cmap, node_color=list(communities.values()))\n",
    "    nx.draw_networkx_edges(G_pruned, communities_plot, alpha=0.5)\n",
    "    plt.show()\n",
    "    \n",
    "    plt.savefig(communities_plot_save_path, bbox_inches='tight')\n",
    "    \n",
    "    communities_grouped = col.defaultdict(list)\n",
    "    print(communities)\n",
    "    for k, v in communities.items():\n",
    "        communities_grouped[v].append(k)\n",
    "\n",
    "    with open(user_to_community_save_path, 'w') as f:\n",
    "        json.dump(communities, f)\n",
    "    \n",
    "    with open(communities_save_path, 'w') as f:\n",
    "        json.dump(communities_grouped, f)\n",
    "    \n",
    "    print(\"number of clusters created:\", len(communities_grouped))\n",
    "    return communities_grouped"
   ]
  },
  {
   "cell_type": "code",
   "execution_count": 71,
   "id": "c7202e87-7028-4eb2-bd73-7bec66b68c92",
   "metadata": {},
   "outputs": [],
   "source": [
    "# from networkx.algorithms.connectivity import minimum_st_edge_cut\n",
    "# G_pruned = minimum_cut(G)"
   ]
  },
  {
   "cell_type": "code",
   "execution_count": 72,
   "id": "83ca104e-c4d4-4172-ab5e-2a5214a2069a",
   "metadata": {},
   "outputs": [
    {
     "name": "stdout",
     "output_type": "stream",
     "text": [
      "The minimum degree of the graph is 0\n",
      "Number of users to be removed with degree less than 40: 47216\n",
      "New graph: 18834 2244\n",
      "The minimum degree of the graph is 0\n",
      "Number of users to be removed with degree less than 40: 1162\n",
      "New graph: 14285 1082\n",
      "The minimum degree of the graph is 2\n",
      "Number of users to be removed with degree less than 40: 232\n",
      "New graph: 12765 850\n",
      "The minimum degree of the graph is 4\n",
      "Number of users to be removed with degree less than 40: 77\n",
      "New graph: 12191 773\n",
      "The minimum degree of the graph is 5\n"
     ]
    }
   ],
   "source": [
    "G_pruned = G\n",
    "while get_min_graph_degree(G_pruned) < 5:\n",
    "    G_pruned = remove_low_degree_edges(G_pruned)\n",
    "    "
   ]
  },
  {
   "cell_type": "code",
   "execution_count": 73,
   "id": "5abbec99-ff9d-4eb9-acb2-730b16117e23",
   "metadata": {},
   "outputs": [
    {
     "data": {
      "image/png": "[encoded data removed]",
      "text/plain": [
       "<Figure size 432x288 with 1 Axes>"
      ]
     },
     "metadata": {},
     "output_type": "display_data"
    },
    {
     "name": "stdout",
     "output_type": "stream",
     "text": [
      "{'ThetThetZaw9': 0, 'bernamadotcom': 1, 'BukanPengkhian1': 1, 'TDH20603555': 2, 'LeeDam_3': 2, 'Hana_Poeei': 0, 'wafeeqahhh': 1, 'htarhtarmedlar': 2, 'Imsexyandiknwt': 1, 'phayhtone': 0, 'historyogi': 1, 'pedoqpop': 1, 'poppymcp': 0, 'YahooSG': 1, 'ThuraMaung5249': 2, 'Dragon56454849': 0, 'HtinAun07527764': 0, 'MayKhin16914875': 0, 'NadiaDaeng': 1, 'Thida58432345': 2, 'HninZar3': 0, 'Htethte41756250': 0, 'syeebae': 1, 'DoublePPK': 0, 'SAdamsR2P': 0, 'Snow28122015': 2, 'kshonnvix': 0, 'k_nana0813': 0, 'ZengLoungLoung': 0, 'afimahiro': 1, 'sudhirtv': 1, '__mnamin': 1, 'khaing_ei': 0, 'ABayyy9': 0, 'MichelleYesudas': 1, 'Muhaaiimin': 1, 'mm93564973': 0, 'exo_mess': 0, 'sarahcoldheart': 1, 'hidzdotfm': 1, 'walone4': 0, 'sarahrxdriguez': 1, 'Julia17550969': 0, 'steelbiimu_': 1, 'leehsienloong': 1, 'SonEGoldenstar4': 2, 'theintthan2000': 0, 'ThaimtThaimt': 0, 'val80387638': 0, 'Phu_twt_mm': 0, 'tuesdayswavery': 1, 'NewsPamphlet': 0, 'DeputySecState': 0, 'lcsmxms': 1, 'ShweSinTun99': 2, 'Shoon_Naing': 0, 'kixes': 1, 'KKKTWMyanmar': 0, 'RavennaBlair': 0, 'KK_YE26': 0, 'don_msi': 2, 'jdeamattson': 1, 'suilee': 1, 'bryancsk': 1, 'markonahajis': 1, 'Poeei150799': 0, 'MuggletoPure': 2, 'iliyaizzudin': 1, 'ActivismCrisis': 1, 'home_migrantssg': 1, '_Neshlatinos_': 1, 'azyintl': 1, 'nik_nold': 0, 'HtetMyatHW': 2, 'nwayoochocho': 0, '_Xin_Er_': 0, 'WyneLay': 0, 'hmetromy': 1, 'lupcheong': 1, 'SyedSaddiq': 1, 'malaysiakini': 1, 'minmyatnaing13': 2, 'redzuanNewsMPB': 1, 'MyoMyo46458616': 0, 'aymangee_': 1, 'ei_deputy': 0, 'ochamyanmar': 0, 'thehill': 1, 'PartnersRelief': 0, 'Khuppi25053655': 0, 'ShweNadi99': 0, 'IrrawaddyNews': 0, 'WyneWyn94707881': 0, 'Thinzar49417548': 0, 'shineemywangjas': 1, 'singnoname': 1, 'MayWongCNA': 0, 'dogsisuehtemorp': 2, 'wine222021': 0, 'khinyadanarhtet': 0, 'MayThazinWin95': 2, 'sehof': 1, 'faizalpahmee': 1, 'Paing02504861': 0, 'KunoyaUchiha': 0, 'NangHlaing4': 0, 'mahninpwint': 0, 'jshison_ismine': 0, 'upshotme': 1, 'latt_chaw': 0, 'MTKKO04': 0, 'HWaiaye': 2, 'MiniKhaing': 2, 'HaseenahKoya': 1, 'yimon16100': 0, 'kuaijishi17': 1, '0764mg': 1, 'media_chin': 0, 'April66988439': 2, 'wali_talks': 1, '_duhmichelle': 1, 'MinThur79469249': 2, 'yuxuan_tay': 1, 'Asuka_SGP2': 1, 'nnxsri': 1, 'HarryScoffin': 1, 'ArnanTharpa': 2, 'MichellesDude': 1, 'harishpillay': 1, 'IsabelleLimCNA': 1, 'b3rry_y': 2, 'govsingapore': 1, 'Anohito01': 0, 'NeilHumphreys': 1, 'HeyMaliniK': 1, 'JonahBlank': 1, 'ShweyiWinHtet7': 0, 'KTK_1983': 0, 'H0NEYBIX': 1, 'Thant_TSP': 0, 'nslwin': 0, 'ChawsuAK': 0, 'Miller07495210': 0, 'ElmiraStarshine': 1, 'the_petshopboy': 1, 'mannymaung': 2, 'ShanHeraldNews': 0, 'DrEricDing': 1, 'Tan_Hui_Yee': 0, 'ChongJaIan': 1, 'hazsunny': 1, 'AHACentre': 2, 'timg33': 1, 'ChindwinNews': 0, 'SCMPNews': 1, 'torealfreedom': 0, 'ddeiblue': 1, 'jon_y_huang': 1, 'IZZXTXLFYXN': 1, 'MoepapaAung15': 0, 'sanifoo': 1, 'cnnphilippines': 1, 'dauzslmn': 1, 'NweNiWi59823330': 0, 'Rdllilyn': 1, 'MayYaminThu21': 0, 'meccaelbernardi': 1, 'soezeya': 0, 'mrknowiteyal': 1, 'kylemalinda': 1, 'aungtunlinn1992': 2, 'zappyzac': 1, 'TUTU49995195': 2, 'maria_n_kir4': 0, 'yes_im_ywun': 0, 'Theint20163359': 0, 'SiapaDillah': 1, 'Oliva61898665': 0, 'NEWWIEE_always': 2, 'foreheadfatty': 1, 'mintea': 1, 'spring21MM': 0, 'MKThar23': 0, 'PositivelyWeird': 1, '4Astan': 1, 'NyanHtooPaing2': 0, 'EthanTheGoondu': 1, 'Shafffffy': 1, 'santhiReads': 1, 'acertainjolene': 1, 'hmone_naing': 0, 'BuatDemokrasi': 1, 'ppearl28': 0, 'Daniel78037553': 0, 'Yadanar96289678': 0, 'Katsu50053805': 2, 'lifeswhatyousay': 1, 'minkhantck': 0, 'disclosetv': 1, 'mdzulkar9': 1, 'JusticeMyanmar': 0, 'lilyxxamirah': 1, 'HENSELY1485': 2, 'AGLeight': 2, 'MayHwaGong1': 0, 'JoakimGomez': 1, 'MothershipSG': 1, 'HtayWar': 0, 'KKKha505': 2, 'Kurore7202': 0, 'ZtYeollie': 0, 'JJ_Angelus': 1, 'mayistitch': 0, 'MattersMohinga': 0, 'OCHAAsiaPac': 0, 'Poe_PPTH': 0, 'NuNuWai60494935': 0, 'moniza_hossain': 1, 'LwinMarAye14': 0, 'ILKJ93': 1, 'LunnWai': 0, 'nandar19944352': 0, 'may_next': 0, 'tjc_singapore': 1, 'DDGaddis': 1, 'StefiYoung': 0, 'benedictjt': 1, 'xavierlur': 1, 'huangsmori': 2, 'PyaeHlyanHtun1': 0, 'ComradeTovarich': 1, 'VauzyVengeance': 1, 'Pmo28825245': 0, 'soeaung1812': 0, 'ant3225': 2, 'TharHtutSan': 0, 'NyeinCh57046133': 2, '_MuhdAlifff': 1, 'songboh': 1, 'tdsoe__exol': 0, 'HtetMya58925530': 0, 'Hopeily': 1, '_ayeechann_': 1, 'Myanmar_Now_Eng': 0, 'f15teen15': 1, 'AdDien90': 1, 'HeinHte40522222': 2, 'CNN': 1, 'jwlltn': 1, 'aainaahtn': 1, 'TOakkar': 2, 'ThangDeihTuang': 0, 'aungnaingthu25': 2, 'Ngu23878257': 0, 'ZunPwintOo2': 2, 'YeMyatA59003250': 0, 'ChaSena10': 2, 'mirlafiq': 1, 'vargaseous': 1, 'awkwardamirul': 1, 'CarmelitaAbby': 1, 'ewnupdates': 1, 'withlovejoonie': 1, 'Trade_Haven': 1, 'Reuters': 1, 'joleeqh': 1, 'nanthandar16': 0, 'ctsarahaishah': 1, 'mya_myinzu': 0, 'kokomdy': 0, 'AyeChitHsu2': 0, 'AudiKhalid': 1, 'TeAsAn2004': 0, 'KenRoth': 0, 'mryap': 1, 'TostevinM': 0, 'May25495288': 0, 'mtdh98': 0, 'MatthewK12321': 2, 'hidyeyat': 1, 'SpringBago': 2, 'therecount': 1, 'ThetHtarThet1': 2, 'FortifyRights': 0, 'hsu_2021': 0, 'MaxAdamsishere': 2, 'KyawKyawAung93': 0, 'YuYuThant1': 0, 'pauriahcarey': 1, 'MeMeMyanmar1': 0, 'MyatNP3': 0, 'shirinklmddn': 1, 'a60718330_aung': 0, 'ellie_jellies': 1, 'ofmeowandbake': 1, 'chinhon': 1, 'USEmbassyBurma': 0, 'weirbarra': 1, 'Dan112505': 0, 'spring_2021': 2, 'AhtarSpring': 0, 'KnorionNoe': 0, 'Sandy_Khin': 0, 'Doris09796790': 0, 'kzy_linn': 0, 'UN_HRC': 0, 'Mmzhang_1': 0, 'tangenghui': 1, 'WineLay05995114': 0, 'ShahulH97101748': 1, 'ZinMoeADO1': 2, 'CingHsian': 1, 'randallbreanna': 0, 'ElvinOngPolSci': 1, 'aishahazaha': 1, 'DrSasa22222': 0, 'mrbrown': 1, 'suthetnway231': 0, 'Tiffanyfrost765': 0, 'Clara2654061431': 0, 'bernamaradio': 1, 'bobateaa25': 0, 'nypost': 1, 'UN': 0, 'KhinThi53075258': 2, 'PortiaPortiahmh': 0, 'mpress71086245': 0, 'nuriwa_J': 1, 'MayLay_87': 0, 'theViscountBP': 1, 'NwayEi78844242': 2, 'nanda14092161': 0, 'prasadhemant': 1, 'draensaari': 1, 'Sulinaism': 1, 'thantmyintu': 0, 'Pont92112340': 0, 'bewithviolet': 1, 'EricssenWen': 1, 'lukeyism': 1, 'axzrule': 1, '10minus6cosm': 1, 'margherita27117': 1, 'asyieqharis': 1, 'PoliticsForAlI': 1, 'MarkHlaing': 2, 'HpPyae112': 0, '_Ghost_twitch': 1, '501Awani': 1, 'teo_kai_xiang': 1, 'hninthetthetwin': 2, 'fdbckfdfwd': 1, 'LiamCypress': 0, 'dodziiee': 1, 'diamdante': 1, 'lisaeihsu': 0, 'MyanmarWitness': 0, 'KyawtKay22222': 0, 'fizoto': 1, 'mmmmozez': 2, 'ToxicConsort': 1, 'saltyqueen18': 1, 'afromedwoman': 1, 'jbhavan': 1, 'PaiHeinKyaw6': 0, 'fmtoday': 1, 'ko_mhoe': 0, 'intewig': 1, 'hninyadanazaw': 0, 'Iamcoralinebae': 0, 'EiThetMonMyint2': 2, 'ThinzarZun': 0, 'V6699IxH5G49Ilf': 2, 'LyaHaru': 0, 'moethinzar2188': 0, 'cutestcupcake01': 0, 'CNBC': 1, 'XiuKhine': 0, 'Nano_lazy': 0, 'NaomiThiri': 0, 'khairilanuarr': 1, 'KK_397': 0, 'KhaingPhuThwe1': 2, 'koncavechest': 1, 'anaqiasya': 1, 'h4kymm': 1, 'tanhuiyi': 1, 'winhtaynaing': 0, 'icantcycle': 1, 'Anfrel': 0, 'guanyinmiao': 1, 'rileyysuu_': 2, 'clubcasket': 1, 'bordeauxblack': 1, 'aurorastacy': 0, 'shakiraIaw': 1, 'Alexand96403667': 2, 'Khairykj': 1, 'rinfujimatsu': 0, 'Reaproy': 0, 'ttw54641338': 0, 'hwsoh': 1, 'kyawwin78': 0, 'syiraaaah': 1, 'RvlMustSucceed': 0, 'billm9': 1, 'RFABurmese': 0, 'DrAlexArifianto': 1, 'RvlBurma2': 2, 'DeparCho94': 2, 'FreeBurmaRangrs': 0, 'sdotcoms': 0, 'AyamInevitable': 1, 'jiyongjiyonggd': 0, 'speechleyish': 1, 'ANachemson': 0, 'YinYinLae2': 0, 'MiSoeThant1': 0, 'RadioFreeAsia': 0, 'eieimon113': 0, 'KCS122021': 0, 'ZawLinn47245614': 0, 'AyeMyatMoeSwe1': 2, 'EricTopol': 1, 'athiriee': 2, '_AzraiAbdullah': 1, 'kylegriffin1': 1, 'rosse_kay': 2, 'Sumoenaing3': 0, 'g33k5p34k': 1, 'cape_diamond': 0, 'zaw94871098': 0, 'nytimes': 1, 'petero_ro': 2, 'MyoThuraKhrael': 0, 'dweenzers': 1, 'yishkabob': 1, 'marzzorella': 1, 'antonioguterres': 0, 'YeeMonAye8': 0, 'IamAjak': 1, 'bhonekhant247': 2, 'STELLALM2': 0, 'graceadampr': 1, 'NweNiTu27413807': 0, 'jennyteo': 1, 'KaungMyetMin': 2, 'stephdogfoot': 1, 'nuarroslizi': 1, 'SOE98788651': 2, 'aeriL_09': 0, 'mdotcoms': 2, 'aemieruls_': 1, 'KgThantHein2003': 2, 'ValTreasure': 2, 'DisukeS': 0, 'shafiur': 0, 'c4rmenk4ss': 1, 'Hlaing68558321': 0, 'TODAYonline': 1, 'AurienneLuna': 0, 'raynerkjtan': 1, 'catzuhasleaves': 1, 'Khaingmyatks': 0, 'BBCWorld': 1, 'DrTomFrieden': 1, 'dragonmama79': 1, 'JulyNgeNge_Yma': 0, 'Mufasa3333': 0, 'KhinChoChoKhant': 2, 'verypretenti0us': 1, 'heymysara': 1, 'judacris': 1, 'sharanvkaur': 1, 'SheinThuHan': 0, 'Thinzar28351047': 0, 'GraceYeohCNA': 1, 'SweZinHtet11': 2, 'klatpri': 0, 'kyawhsanhlaing1': 0, 'AungMin27528780': 0, 'FaithHi32980027': 0, 'anafabulic': 1, 'AlexHien1': 2, '2021Revtweets': 2, 'spiderbabat': 1, 'HafizThor': 1, 'omyhangu': 1, 'katycho22222': 0, 'MichaelNgKT1': 1, 'NICKIMINAJ': 1, 'laminmaungmaun8': 2, 'myatminnnn': 0, 'HURFOM': 0, 'cheryltans': 1, 'MizzimaNews': 0, 'ConnellyAL': 1, 'NawSayMoothaw1': 0, 'MyatThe00093611': 0, 'Htut_Reminder': 0, 'Crystal303121': 2, 'sohkamyung': 1, 'aapp_burma': 0, 'MilkTeaMM_MTAM': 0, 'FrontierMM': 0, 'man4Rev': 2, 'hasoethi': 0, 'VivianBala': 1, 'fidgetings': 1, 'ChawKalayarKya1': 0, 'NyiNyiAung86': 0, 'ChannelNewsAsia': 1, '11Tommie': 0, 'KokoeThura': 0, 'Norah1485': 0, 'MyaMoe18': 0, 'MyintMyatNaing7': 0, 'laminmyozaw': 0, 'Chanapai247': 0, 'MayLayAungTZL': 0, 'straits_times': 1, 'audreytrp': 1, 'DGHisham': 1, 'ShuneLeiMay2': 0, 'monohtet90': 0, 'Ciciyanni1': 0, 'Mary81184161': 0, 'Icemanzzzz': 1, 'icedwater': 1, 'Khant247': 0, 'EIMonThaw8': 0, 'formerforceuser': 1, 'dollylama__': 1, 'Turbot98682672': 0, 'namilo1312': 1, 'anygalien': 1, 'miyagi': 1, 'Theingiay': 0, 'Zarchi9991': 0, 'septian': 1, 'SpringRev21': 0, 'Noesi8': 0, 'Akari77376578': 0, 'rvlmustsucceed1': 0, 'six_htetnaing24': 0, 'avelokiteshvara': 1, 'kish_kebab': 1, 'rileyhtar_': 0, 'sggrvlyouth': 2, 'ChoKhine': 2, 'NatxnB': 1, 'malachips': 1, 'thevibesnews': 1, 'Pluviophile__h': 0, 'LorettaTay': 1, 'kay_aprilnyein': 0, 'sporeMOH': 1, 'hndp_Yde_Rev21Y': 0, 'MeidasTouch': 1, 'NurLiyanaLeman': 1, 'CiTyJayZee': 1, 'AthenaZaw': 0, 'shewhoguides': 1, 'formerlyashley': 1, 'ThingyanMay5': 0, 'daintyqueen14': 1, 'nrlsyirahfaisal': 1, 'superfinefeline': 1, 'KoXin90': 2, 'CallmeHsu': 0, 'YeHein77541096': 2, 'TIME': 0, 'Phyo_Pm3': 0, 'TehAisBatu': 1, 'eXAKR': 1, 'AimanZainul': 1, 'b4nurekha': 1, 'digitalmozart': 1, 'NwayCin': 0, 'StateDeptSpox': 0, 'matthewfsmith': 0, 'Katycho2021': 2, 'MinHeinHtike8': 0, 'xinghui_kok': 1, 'javatweet21': 0, 'Catrier3': 0, 'Ardam430': 0, 'awarenews': 1, 'joannamont': 1, 'noviazarchi': 0, 'ZinWar17': 2, 'ElinaJK4': 0, 'LeeDam18102': 2, 'womenofburma': 0, 'YaminTri': 0, 'ArvinTunas': 1, 'marqisezech': 1, 'KhaingWuttYee9': 0, 'royngerng': 1, 'jackmtchia': 1, 'Jeon_Shin_': 0, 'KyawSwar1986': 0, 'safeinknjsheart': 0, 'KyiPhyu86006785': 2, 'MapleHotcakes': 1, 'nuruljpg': 1, 'aizatontweet': 1, 'kennedesng': 1, 'loan_light_1619': 0, 'muhdsyaf_': 1, 'ActivistLittle': 2, 'OliviaParamour': 1, 'KKMPutrajaya': 1, 'UNHCR_BGD': 2, 'khonyin10': 0, 'Aluvrendar': 1, 'DVB_English': 0, 'PVamplify': 0, 'ChinHumanRights': 0, 'RedWhiteBlueDot': 1, 'KhinDeparCho': 2, 'ThinHlaing87': 0, 'EmilyFishbein11': 0, 'raygondra': 1, 'iMadeSatanCum': 1, 'LorenzoZanirato': 1, 'Hartonope': 1, 'eaint_m_win': 0, 'nrsbrnsff': 1, 'nisharai_': 1, 'bintmohari': 1, 'ZMHFuQing': 0, 'NewsBFM': 1, 'MayKyawtPhu': 0, 'tasha_en': 1, 'qazimzim': 1, 'DoctorsRights': 0, 'Amo36692881': 0, 'UNinMyanmar': 0, 'muhdadil': 1, 'Booonwwww': 0, 'YunYunSan0468': 0, 'happentobeshort': 1, 'deweysim': 1, 'tracyinyourarea': 0, 'ppppppsgsg03': 1, 'pinochioPPK': 2, 'nzherald': 1, 'syafique': 1, 'AlexMyanmar13': 2, 'ThazinWai_TZW': 0, 'mgerrydoyle': 1, 'HausofHilton': 1, 'JustinOngTODAY': 1, 'stephendziedzic': 1, 'thinzashunleiyi': 0, 'At_Rin20': 0, 'MayRe29816722': 0, 'Usuqi': 1, 'Haruonchill': 2, 'yaledailynews': 1, '2002sandarW': 0, 'exxonmobil_sg': 1, 'HsuHtetHtetAun5': 0, 'timebendtowards': 1, 'akkk_ayar': 0, 'huangsizzie': 0, 'Koe606408661': 0, 'SaveMM99': 0, 'Kayar01MM': 0, 'VP': 1, 'MayNyeinChan14': 2, '099Kira': 2, 'cvdom2021': 0, 'SyedAkramin': 1, 'wikanghimagsik': 1, 'QayyumMD': 1, 'salaissk': 0, 'staronline': 1, 'SpecialCouncil': 0, 'wethecitizenssg': 1, 'business': 1, 'ZweLwinMyanmar': 0, 'HuaMoii_1': 2, 'Monjuly267': 0, 'stbusinessdesk': 1, 'asonofapeach': 1, '94zNoona': 0, 'elroomi': 1, 'EngEongOoi': 1, 'Kokilaparvathi': 1, 'WinPa40773369': 2, 'sulubhtarlinn': 0, 'asiaonecom': 1, 'moondotcoms': 0, 'nicshields': 1, 'jolovanwham': 1, 'Yato97482839': 0, 'CharlotteMoe296': 0, 'PuanHannah': 1, 'karenwomenorg': 0, 'hazirahnaomi': 1, 'afgalnlh': 0, 'kosherjellyfish': 1, 'Tom26486229': 0, 'wakeupsg': 1, 'NDBurma': 0, 'syzzlyn': 1, 'jeveuxrien95': 1, 'intanina_': 1, 'LividEye': 1, 'Deborah_Khin37': 0, 'Mavumavu91': 1, 'dwallbank': 1, 'dk': 1, 'waiwainu': 2, 'ekzgguk20': 0, 'fuhduhduhh': 1, 'PhyuSinn2': 0, 'barisanhantu': 1, 'lameer96': 1, 'frhn': 1, 'CallyInDaValley': 1, 'emilyyy56999581': 0, 'STForeignDesk': 1, 'KaungKhantHto10': 2, 'interstellar_ar': 0, 'MailOnline': 1, 'Thandarpusi19': 0, 'uscb': 0, 'WFP': 0, 'US_FDA': 1, 'LeongWaiKitCNA': 0, 'ElleYvaine': 0, 'sherries9': 1, 'WaiWaiK55433923': 0, 'ASEANMP': 0, 'hahazebr4': 1, 'jeffery_zwe': 0, 'KantarawaddyTim': 0, 'gabriellamarrie': 1, 'kmhtun6': 0, 'AP': 1, 'tzehern_': 1, 'NBCNews': 1, 'agonyoferos': 1, 'multichromatix_': 1, 'heartforpcy': 0, 'PhyoeZawZaw': 0, 'swezinhtet1111': 2, 'KayKa25890783': 0, 'yoongkhean': 1, 'jolantru': 1, 'Honey38025997': 0, 'muttons': 1, 'Ko_Phyo99': 0, 'MaySabaiNaing': 2, 'CxoKh': 0, 'ira_andreanna': 1, 'LailaseriHazlan': 1, 'lim_jialiang': 1, 'Lana87278630': 0, 'Mamblek_': 1, 'HLH19307051': 0, 'dvdty': 1, 'sandarkim': 0, 'fizli83': 1, 'OfficialariffiN': 1, 'WhyWherever': 1, 'LwinMarAye15': 0, 'krazy8yo': 1, 'wengkiong': 1, 'TangoHotelAlpha': 2}\n",
      "number of clusters created: 3\n"
     ]
    },
    {
     "data": {
      "text/plain": [
       "<Figure size 432x288 with 0 Axes>"
      ]
     },
     "metadata": {},
     "output_type": "display_data"
    }
   ],
   "source": [
    "communities_plot_save_path = DATA_PATH + \"output/networking/clusters\"\n",
    "communities_save_path = DATA_PATH + \"output/networking/clusters.json\"\n",
    "user_to_community_save_path = DATA_PATH + \"output/networking/user_to_cluster.json\"\n",
    "\n",
    "communities_grouped = get_communities(G_pruned, communities_save_path, communities_plot_save_path, user_to_community_save_path)"
   ]
  },
  {
   "cell_type": "code",
   "execution_count": 74,
   "id": "d3bd2529-8ae0-4159-9be2-bd63f3c6f114",
   "metadata": {},
   "outputs": [
    {
     "name": "stdout",
     "output_type": "stream",
     "text": [
      "Number of users to be removed with degree less than 40: 47216\n",
      "New graph: 18834 2244\n",
      "The maximum degree of the graph is 341\n",
      "The minimum degree of the graph is 0\n",
      "There are 2244 nodes and 18834 edges present in the graph\n",
      "The average degree of the nodes in the graph is 16.78609625668449\n",
      "Number of users to be removed with degree less than 0: 102\n",
      "**********\n",
      "The minimum degree of the graph is 1\n"
     ]
    },
    {
     "data": {
      "text/plain": [
       "1"
      ]
     },
     "execution_count": 74,
     "metadata": {},
     "output_type": "execute_result"
    }
   ],
   "source": [
    "\n",
    "\n",
    "G_pruned = remove_low_degree_edges(G, 40)\n",
    "get_graph_details(G_pruned)\n",
    "\n",
    "\n",
    "low_degree_nodes = [node for node, degree in dict(G_pruned.degree()).items() if degree == 0]\n",
    "print(\"Number of users to be removed with degree less than {}: {}\".format( 0, len(low_degree_nodes)))\n",
    "G_pruned.remove_nodes_from(low_degree_nodes)\n",
    "\n",
    "print(\"*\"*10)\n",
    "get_min_graph_degree(G_pruned)\n",
    "# "
   ]
  },
  {
   "cell_type": "code",
   "execution_count": null,
   "id": "4b8e1ce3-754b-4625-9328-0d1c47b0c3c4",
   "metadata": {},
   "outputs": [],
   "source": [
    "G_pruned_pos = nx.spring_layout(G_pruned)"
   ]
  },
  {
   "cell_type": "code",
   "execution_count": null,
   "id": "e7032061-e21e-45d1-a63a-cff93790a630",
   "metadata": {},
   "outputs": [],
   "source": [
    "communities_plot['LyaHaru']"
   ]
  },
  {
   "cell_type": "code",
   "execution_count": null,
   "id": "1eeaa89c-2b8a-4cd5-a9d1-557148c8818e",
   "metadata": {},
   "outputs": [],
   "source": [
    "cyto_data = []"
   ]
  },
  {
   "cell_type": "code",
   "execution_count": null,
   "id": "746a76e7-d60e-4024-86e6-6fe819faaa86",
   "metadata": {},
   "outputs": [],
   "source": [
    "for node in G_pruned.nodes:\n",
    "    node_data = {'data': {'id': node, 'label': node}, 'position': {'x': G_pruned_pos[node][0], 'y': G_pruned_pos[node][1]}}\n",
    "    cyto_data.append(node_data)"
   ]
  },
  {
   "cell_type": "code",
   "execution_count": 79,
   "id": "ce6aec6a-1d8c-41c5-8c50-85669fec5987",
   "metadata": {},
   "outputs": [
    {
     "data": {
      "text/plain": [
       "Index(['Unnamed: 0', 'tweet_text', 'tweet_time', 'tweet_id', 'tweet_lang',\n",
       "       'tweet_possibly_sensitive', 'entity_image_url', 'entity_mentions',\n",
       "       'entity_hashtags', 'entity_link_url', 'user_id_x', 'user_name_x',\n",
       "       'user_screenname_x', 'user_friends_count', 'user_followers_count',\n",
       "       'user_verified', 'user_location', 'user_desc', 'user_geo_coding',\n",
       "       'user_geo_tagging', 'user_id_y', 'user_name_y', 'user_screenname_y',\n",
       "       'tweet_enagagement_type', 'replied_to_tweet_id', 'replied_to_user_id',\n",
       "       'replied_to_user_screenname', 'retweeted_tweet_id',\n",
       "       'retweeted_tweet_time', 'retweeted_user_id', 'retweeted_user_name',\n",
       "       'retweeted_user_verified', 'retweeted_user_screenname',\n",
       "       'retweeted_user_geo_coding', 'retweeted_user_geo_coding_type',\n",
       "       'retweeted_retweet_count', 'retweeted_favorite_count',\n",
       "       'quoted_tweet_text', 'quoted_tweet_id', 'quoted_tweet_time',\n",
       "       'quoted_user_id', 'quoted_user_name', 'quoted_user_verified',\n",
       "       'quoted_user_screenname', 'quoted_user_geo_coding',\n",
       "       'quoted_user_geo_coding_type', 'quoted_retweet_count',\n",
       "       'quoted_favorite_count', 'tweet_datetime', 'tweet_date',\n",
       "       'processed_tweet_text', 'processed_quoted_tweet_text',\n",
       "       'tweet_sentiment', 'quoted_tweet_sentiment'],\n",
       "      dtype='object')"
      ]
     },
     "execution_count": 79,
     "metadata": {},
     "output_type": "execute_result"
    }
   ],
   "source": [
    "# [print(x) for x in cyto_data] \n",
    "tweets.columns"
   ]
  },
  {
   "cell_type": "code",
   "execution_count": 85,
   "id": "90e0cba2-3707-4a79-a176-5eb24b25854a",
   "metadata": {},
   "outputs": [
    {
     "ename": "KeyError",
     "evalue": "('user_id_x', 'user_verified')",
     "output_type": "error",
     "traceback": [
      "\u001b[0;31m---------------------------------------------------------------------------\u001b[0m",
      "\u001b[0;31mKeyError\u001b[0m                                  Traceback (most recent call last)",
      "\u001b[0;32m~/opt/anaconda3/lib/python3.8/site-packages/pandas/core/indexes/base.py\u001b[0m in \u001b[0;36mget_loc\u001b[0;34m(self, key, method, tolerance)\u001b[0m\n\u001b[1;32m   3360\u001b[0m             \u001b[0;32mtry\u001b[0m\u001b[0;34m:\u001b[0m\u001b[0;34m\u001b[0m\u001b[0;34m\u001b[0m\u001b[0m\n\u001b[0;32m-> 3361\u001b[0;31m                 \u001b[0;32mreturn\u001b[0m \u001b[0mself\u001b[0m\u001b[0;34m.\u001b[0m\u001b[0m_engine\u001b[0m\u001b[0;34m.\u001b[0m\u001b[0mget_loc\u001b[0m\u001b[0;34m(\u001b[0m\u001b[0mcasted_key\u001b[0m\u001b[0;34m)\u001b[0m\u001b[0;34m\u001b[0m\u001b[0;34m\u001b[0m\u001b[0m\n\u001b[0m\u001b[1;32m   3362\u001b[0m             \u001b[0;32mexcept\u001b[0m \u001b[0mKeyError\u001b[0m \u001b[0;32mas\u001b[0m \u001b[0merr\u001b[0m\u001b[0;34m:\u001b[0m\u001b[0;34m\u001b[0m\u001b[0;34m\u001b[0m\u001b[0m\n",
      "\u001b[0;32m~/opt/anaconda3/lib/python3.8/site-packages/pandas/_libs/index.pyx\u001b[0m in \u001b[0;36mpandas._libs.index.IndexEngine.get_loc\u001b[0;34m()\u001b[0m\n",
      "\u001b[0;32m~/opt/anaconda3/lib/python3.8/site-packages/pandas/_libs/index.pyx\u001b[0m in \u001b[0;36mpandas._libs.index.IndexEngine.get_loc\u001b[0;34m()\u001b[0m\n",
      "\u001b[0;32mpandas/_libs/hashtable_class_helper.pxi\u001b[0m in \u001b[0;36mpandas._libs.hashtable.PyObjectHashTable.get_item\u001b[0;34m()\u001b[0m\n",
      "\u001b[0;32mpandas/_libs/hashtable_class_helper.pxi\u001b[0m in \u001b[0;36mpandas._libs.hashtable.PyObjectHashTable.get_item\u001b[0;34m()\u001b[0m\n",
      "\u001b[0;31mKeyError\u001b[0m: ('user_id_x', 'user_verified')",
      "\nThe above exception was the direct cause of the following exception:\n",
      "\u001b[0;31mKeyError\u001b[0m                                  Traceback (most recent call last)",
      "\u001b[0;32m/var/folders/mv/c151lb7j7xx6ff_q9_85p_pc0000gn/T/ipykernel_15834/710471857.py\u001b[0m in \u001b[0;36m<module>\u001b[0;34m\u001b[0m\n\u001b[0;32m----> 1\u001b[0;31m \u001b[0mtweets\u001b[0m\u001b[0;34m[\u001b[0m\u001b[0mtweets\u001b[0m\u001b[0;34m[\u001b[0m\u001b[0;34m'user_id_x'\u001b[0m\u001b[0;34m,\u001b[0m \u001b[0;34m'user_verified'\u001b[0m\u001b[0;34m]\u001b[0m\u001b[0;34m]\u001b[0m\u001b[0;34m.\u001b[0m\u001b[0munique\u001b[0m\u001b[0;34m(\u001b[0m\u001b[0;34m)\u001b[0m\u001b[0;34m\u001b[0m\u001b[0;34m\u001b[0m\u001b[0m\n\u001b[0m",
      "\u001b[0;32m~/opt/anaconda3/lib/python3.8/site-packages/pandas/core/frame.py\u001b[0m in \u001b[0;36m__getitem__\u001b[0;34m(self, key)\u001b[0m\n\u001b[1;32m   3456\u001b[0m             \u001b[0;32mif\u001b[0m \u001b[0mself\u001b[0m\u001b[0;34m.\u001b[0m\u001b[0mcolumns\u001b[0m\u001b[0;34m.\u001b[0m\u001b[0mnlevels\u001b[0m \u001b[0;34m>\u001b[0m \u001b[0;36m1\u001b[0m\u001b[0;34m:\u001b[0m\u001b[0;34m\u001b[0m\u001b[0;34m\u001b[0m\u001b[0m\n\u001b[1;32m   3457\u001b[0m                 \u001b[0;32mreturn\u001b[0m \u001b[0mself\u001b[0m\u001b[0;34m.\u001b[0m\u001b[0m_getitem_multilevel\u001b[0m\u001b[0;34m(\u001b[0m\u001b[0mkey\u001b[0m\u001b[0;34m)\u001b[0m\u001b[0;34m\u001b[0m\u001b[0;34m\u001b[0m\u001b[0m\n\u001b[0;32m-> 3458\u001b[0;31m             \u001b[0mindexer\u001b[0m \u001b[0;34m=\u001b[0m \u001b[0mself\u001b[0m\u001b[0;34m.\u001b[0m\u001b[0mcolumns\u001b[0m\u001b[0;34m.\u001b[0m\u001b[0mget_loc\u001b[0m\u001b[0;34m(\u001b[0m\u001b[0mkey\u001b[0m\u001b[0;34m)\u001b[0m\u001b[0;34m\u001b[0m\u001b[0;34m\u001b[0m\u001b[0m\n\u001b[0m\u001b[1;32m   3459\u001b[0m             \u001b[0;32mif\u001b[0m \u001b[0mis_integer\u001b[0m\u001b[0;34m(\u001b[0m\u001b[0mindexer\u001b[0m\u001b[0;34m)\u001b[0m\u001b[0;34m:\u001b[0m\u001b[0;34m\u001b[0m\u001b[0;34m\u001b[0m\u001b[0m\n\u001b[1;32m   3460\u001b[0m                 \u001b[0mindexer\u001b[0m \u001b[0;34m=\u001b[0m \u001b[0;34m[\u001b[0m\u001b[0mindexer\u001b[0m\u001b[0;34m]\u001b[0m\u001b[0;34m\u001b[0m\u001b[0;34m\u001b[0m\u001b[0m\n",
      "\u001b[0;32m~/opt/anaconda3/lib/python3.8/site-packages/pandas/core/indexes/base.py\u001b[0m in \u001b[0;36mget_loc\u001b[0;34m(self, key, method, tolerance)\u001b[0m\n\u001b[1;32m   3361\u001b[0m                 \u001b[0;32mreturn\u001b[0m \u001b[0mself\u001b[0m\u001b[0;34m.\u001b[0m\u001b[0m_engine\u001b[0m\u001b[0;34m.\u001b[0m\u001b[0mget_loc\u001b[0m\u001b[0;34m(\u001b[0m\u001b[0mcasted_key\u001b[0m\u001b[0;34m)\u001b[0m\u001b[0;34m\u001b[0m\u001b[0;34m\u001b[0m\u001b[0m\n\u001b[1;32m   3362\u001b[0m             \u001b[0;32mexcept\u001b[0m \u001b[0mKeyError\u001b[0m \u001b[0;32mas\u001b[0m \u001b[0merr\u001b[0m\u001b[0;34m:\u001b[0m\u001b[0;34m\u001b[0m\u001b[0;34m\u001b[0m\u001b[0m\n\u001b[0;32m-> 3363\u001b[0;31m                 \u001b[0;32mraise\u001b[0m \u001b[0mKeyError\u001b[0m\u001b[0;34m(\u001b[0m\u001b[0mkey\u001b[0m\u001b[0;34m)\u001b[0m \u001b[0;32mfrom\u001b[0m \u001b[0merr\u001b[0m\u001b[0;34m\u001b[0m\u001b[0;34m\u001b[0m\u001b[0m\n\u001b[0m\u001b[1;32m   3364\u001b[0m \u001b[0;34m\u001b[0m\u001b[0m\n\u001b[1;32m   3365\u001b[0m         \u001b[0;32mif\u001b[0m \u001b[0mis_scalar\u001b[0m\u001b[0;34m(\u001b[0m\u001b[0mkey\u001b[0m\u001b[0;34m)\u001b[0m \u001b[0;32mand\u001b[0m \u001b[0misna\u001b[0m\u001b[0;34m(\u001b[0m\u001b[0mkey\u001b[0m\u001b[0;34m)\u001b[0m \u001b[0;32mand\u001b[0m \u001b[0;32mnot\u001b[0m \u001b[0mself\u001b[0m\u001b[0;34m.\u001b[0m\u001b[0mhasnans\u001b[0m\u001b[0;34m:\u001b[0m\u001b[0;34m\u001b[0m\u001b[0;34m\u001b[0m\u001b[0m\n",
      "\u001b[0;31mKeyError\u001b[0m: ('user_id_x', 'user_verified')"
     ]
    }
   ],
   "source": [
    "tweets[tweets['user_id_x', 'user_verified']].unique()"
   ]
  },
  {
   "cell_type": "code",
   "execution_count": null,
   "id": "eb075d24-5ecb-447e-8e54-36990d4e34a8",
   "metadata": {},
   "outputs": [],
   "source": []
  }
 ],
 "metadata": {
  "kernelspec": {
   "display_name": "Python 3 (ipykernel)",
   "language": "python",
   "name": "python3"
  },
  "language_info": {
   "codemirror_mode": {
    "name": "ipython",
    "version": 3
   },
   "file_extension": ".py",
   "mimetype": "text/x-python",
   "name": "python",
   "nbconvert_exporter": "python",
   "pygments_lexer": "ipython3",
   "version": "3.8.11"
  }
 },
 "nbformat": 4,
 "nbformat_minor": 5
}
