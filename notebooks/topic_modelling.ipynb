{
 "cells": [
  {
   "cell_type": "code",
   "execution_count": 33,
   "metadata": {},
   "outputs": [],
   "source": [
    "import re\n",
    "import numpy as np\n",
    "import pandas as pd\n",
    "import spacy"
   ]
  },
  {
   "cell_type": "code",
   "execution_count": 34,
   "metadata": {},
   "outputs": [],
   "source": [
    "# # Gensim\n",
    "import gensim\n",
    "import gensim.corpora as corpora\n",
    "from gensim.utils import simple_preprocess\n",
    "from gensim.models import CoherenceModel"
   ]
  },
  {
   "cell_type": "code",
   "execution_count": 35,
   "metadata": {},
   "outputs": [],
   "source": [
    "# Plotting tools\n",
    "gensim\n",
    "from tqdm import tqdm\n",
    "import pyLDAvis\n",
    "# import pyLDAvis.gensim  # don't skip this\n",
    "import pyLDAvis.gensim_models as gensimvis\n",
    "import matplotlib.pyplot as plt\n",
    "%matplotlib inline"
   ]
  },
  {
   "cell_type": "code",
   "execution_count": 36,
   "metadata": {},
   "outputs": [],
   "source": [
    "import warnings\n",
    "warnings.filterwarnings(\"ignore\",category=DeprecationWarning)"
   ]
  },
  {
   "cell_type": "code",
   "execution_count": 37,
   "metadata": {},
   "outputs": [
    {
     "name": "stderr",
     "output_type": "stream",
     "text": [
      "[nltk_data] Downloading package stopwords to /Users/anshu/nltk_data...\n",
      "[nltk_data]   Package stopwords is already up-to-date!\n"
     ]
    },
    {
     "data": {
      "text/plain": [
       "True"
      ]
     },
     "execution_count": 37,
     "metadata": {},
     "output_type": "execute_result"
    }
   ],
   "source": [
    "import nltk\n",
    "nltk.download('stopwords')"
   ]
  },
  {
   "cell_type": "code",
   "execution_count": 38,
   "metadata": {},
   "outputs": [],
   "source": [
    "# NLTK Stop words\n",
    "from nltk.corpus import stopwords\n",
    "stop_words = stopwords.words('english')\n",
    "stop_words.extend(['from', 'subject', 're', 'edu', 'use', 'covid', 'vaccine', 'vaccination'])"
   ]
  },
  {
   "cell_type": "code",
   "execution_count": 39,
   "metadata": {},
   "outputs": [],
   "source": [
    "stop_words.extend(tw_stopwords)"
   ]
  },
  {
   "cell_type": "code",
   "execution_count": 40,
   "metadata": {},
   "outputs": [
    {
     "data": {
      "text/plain": [
       "187"
      ]
     },
     "execution_count": 40,
     "metadata": {},
     "output_type": "execute_result"
    }
   ],
   "source": [
    "len(stop_words)"
   ]
  },
  {
   "cell_type": "code",
   "execution_count": 43,
   "metadata": {},
   "outputs": [],
   "source": [
    "tw_stopwords = []\n",
    "f = open('../data/stopwords.txt', 'r')\n",
    "for line in f.readlines():\n",
    "    tw_stopwords.append(line.rstrip('\\n'))\n",
    "\n",
    "f.close()"
   ]
  },
  {
   "cell_type": "code",
   "execution_count": 44,
   "metadata": {},
   "outputs": [],
   "source": [
    "import pandas as pd"
   ]
  },
  {
   "cell_type": "code",
   "execution_count": 45,
   "metadata": {},
   "outputs": [],
   "source": [
    "DATA_PATH = '../data/'\n",
    "\n",
    "sg_tweets = pd.read_csv(DATA_PATH + \"sg.csv\")"
   ]
  },
  {
   "cell_type": "code",
   "execution_count": 46,
   "metadata": {},
   "outputs": [
    {
     "data": {
      "text/plain": [
       "Index(['Unnamed: 0', 'tweet_text', 'tweet_time', 'tweet_id', 'tweet_lang',\n",
       "       'tweet_possibly_sensitive', 'entity_image_url', 'entity_mentions',\n",
       "       'entity_hashtags', 'entity_link_url', 'user_id_x', 'user_name_x',\n",
       "       'user_screenname_x', 'user_friends_count', 'user_followers_count',\n",
       "       'user_verified', 'user_location', 'user_desc', 'user_geo_coding',\n",
       "       'user_geo_tagging', 'user_id_y', 'user_name_y', 'user_screenname_y',\n",
       "       'tweet_enagagement_type', 'replied_to_tweet_id', 'replied_to_user_id',\n",
       "       'replied_to_user_screenname', 'retweeted_tweet_id',\n",
       "       'retweeted_tweet_time', 'retweeted_user_id', 'retweeted_user_name',\n",
       "       'retweeted_user_verified', 'retweeted_user_screenname',\n",
       "       'retweeted_user_geo_coding', 'retweeted_user_geo_coding_type',\n",
       "       'retweeted_retweet_count', 'retweeted_favorite_count',\n",
       "       'quoted_tweet_text', 'quoted_tweet_id', 'quoted_tweet_time',\n",
       "       'quoted_user_id', 'quoted_user_name', 'quoted_user_verified',\n",
       "       'quoted_user_screenname', 'quoted_user_geo_coding',\n",
       "       'quoted_user_geo_coding_type', 'quoted_retweet_count',\n",
       "       'quoted_favorite_count', 'tweet_datetime', 'tweet_date',\n",
       "       'processed_tweet_text', 'processed_quoted_tweet_text',\n",
       "       'tweet_sentiment', 'quoted_tweet_sentiment'],\n",
       "      dtype='object')"
      ]
     },
     "execution_count": 46,
     "metadata": {},
     "output_type": "execute_result"
    }
   ],
   "source": [
    "sg_tweets.columns"
   ]
  },
  {
   "cell_type": "code",
   "execution_count": 47,
   "metadata": {},
   "outputs": [
    {
     "data": {
      "text/plain": [
       "(181423, 54)"
      ]
     },
     "execution_count": 47,
     "metadata": {},
     "output_type": "execute_result"
    }
   ],
   "source": [
    "sg_tweets.shape"
   ]
  },
  {
   "cell_type": "code",
   "execution_count": null,
   "metadata": {},
   "outputs": [],
   "source": []
  },
  {
   "cell_type": "code",
   "execution_count": 238,
   "metadata": {},
   "outputs": [],
   "source": [
    "# influential \n",
    "\n",
    "top_50 = [\n",
    "     'ChannelNewsAsia',\n",
    "     'MothershipSG',\n",
    "     'straits_times',\n",
    "     'TODAYonline',\n",
    "     'STForeignDesk',\n",
    "     'JustinOngTODAY',\n",
    "     'leehsienloong',\n",
    "     'kixes',\n",
    "     'lustfuldesirer',\n",
    "     'historyogi',\n",
    "     'CherylLinCNA',\n",
    "     'sporeMOH',\n",
    "     'Tan_Hui_Yee',\n",
    "     'VivianBala',\n",
    "     'VP',\n",
    "     'muttons',\n",
    "     'AqilHaziqCNA',\n",
    "     'LinXuelingCNA',\n",
    "     'AlifAmsyarCNA',\n",
    "     'gayaCNA',\n",
    "     'PichayadaCNA',\n",
    "     'HweeMinCNA',\n",
    "     'DrSasa22222',\n",
    "     'JoakimGomez',\n",
    "     'xavierlur',\n",
    "     'raaaaachel',\n",
    "     'audreytrp',\n",
    "     'LeongWaiKitCNA'\n",
    "]\n",
    "#  'business',\n",
    "#  'GraceYeohCNA',\n",
    "#  'tzehern_',\n",
    "#  'in_transitiverb',\n",
    "#  'sushibeepbeep',\n",
    "#  'gabriellamarrie',\n",
    "#  'TostevinM',\n",
    "#  'brian2grimey',\n",
    "#  'ialsocruise',\n",
    "#  '0764mg',\n",
    "#  '2021Revtweets',\n",
    "#  'jwlltn',\n",
    "#  'RvlBurma2',\n",
    "#  'cryptocom',\n",
    "#  'mrbrown',\n",
    "#  'shafiur',\n",
    "#  'EdgeFunManager',\n",
    "#  'govsingapore',\n",
    "#  'IrrawaddyNews',\n",
    "#  'EricTopol',\n",
    "#  'deweysim',\n",
    "#  'OutWithMehh',\n",
    "#  'shakiraIaw',\n",
    "#  'jbhavan',\n",
    "#  'DGHisham',\n",
    "#  'SaveMM99',\n",
    "#  'lukeyism',\n",
    "#  'cz_binance',\n",
    "#  'AlifSykes_',\n",
    "#  'STopinion',\n",
    "#  'joannamont',\n",
    "#  'Myanmar_Now_Eng',\n",
    "#  'Monsta_Infinite',\n",
    "#  'foreheadfatty',\n",
    "#  'hidzdotfm',\n",
    "#  'lim_jialiang',\n",
    "#  'march_cmu1',\n",
    "#  'rohini_mohan',\n",
    "#  'Vishalsiddu1',\n",
    "#  'Reuters',\n",
    "#  'thinzashunleiyi',\n",
    "#  'narendramodi',\n",
    "#  'aemieruls_',\n",
    "#  'YahooSG',\n",
    "#  'Kokilaparvathi',\n",
    "#  'soompi',\n",
    "#  'teamsamgaypore',\n",
    "#  'LeeDam18102',\n",
    "#  'stbusinessdesk',\n",
    "#  'muftimenk',\n",
    "#  'seehaojun',\n",
    "#  'hahazebr4',\n",
    "#  'NadiaDaeng',\n",
    "#  'AfifahShameemah',\n",
    "#  'trixieaaang',\n",
    "#  'TaufiqHanafi91',\n",
    "#  'shairacagulada',\n",
    "#  'acertainjolene',\n",
    "#  'Jaarfuckingvis',\n",
    "#  'asonofapeach',\n",
    "#  'PostCultRev',\n",
    "#  'HausofHilton',\n",
    "#  'H0NEYBIX',\n",
    "#  'iwanqais',\n",
    "#  'RedWhiteBlueDot',\n",
    "#  'spring21MM',\n",
    "#  'IamAjak',\n",
    "#  'DrEricDing',\n",
    "#  'nuffsaidny',\n",
    "#  'heybentan',\n",
    "#  'awarenews',\n",
    "#  'Josh12549585',\n",
    "#  'sgcafeevents',\n",
    "#  'iraadnan_',\n",
    "#  'bewithviolet',\n",
    "#  'ActivismCrisis',\n",
    "#  'SCMPNews',\n",
    "#  'STsportsdesk',\n",
    "#  'MayWongCNA',\n",
    "#  'hotgirlzizek',\n",
    "#  'jalaladdinnush',\n",
    "#  'malissaali',\n",
    "#  'maxy_chan16',\n",
    "#  'ST_LifeTweets',\n",
    "#  'WuBlockchain',\n",
    "#  'LyaHaru',\n",
    "#  'cuckaru',\n",
    "#  'KenRoth',\n",
    "#  'BusinessTimes',\n",
    "#  'MizzimaNews',\n",
    "#  'ahbejeremy_',\n",
    "#  'KKMPutrajaya',\n",
    "#  'BBCWorld',\n",
    "#  'TwitterSG',\n",
    "#  'ExathAIO',\n",
    "#  'samaritansofsg',\n",
    "#  'Varanussalvator',\n",
    "#  'sadtextforyou',\n",
    "#  'agonyoferos',\n",
    "#  'lupcheong',\n",
    "#  'JaniceLimTODAY',\n",
    "#  'bhonekhant247',\n",
    "#  'MoreDaysWithU',\n",
    "#  'SenToday',\n",
    "#  'teo_kai_xiang',\n",
    "#  'ConorHaloReach',\n",
    "#  'NDBurma',\n",
    "#  'sgxposed',\n",
    "#  'AdamMGrant',\n",
    "#  'vitariesocks',\n",
    "#  'cvdom2021',\n",
    "#  'speechleyish',\n",
    "#  'afa_singapore',\n",
    "#  'deannagmcdonald',\n",
    "#  'coinhako',\n",
    "#  'HeyMaliniK',\n",
    "#  'nytimes',\n",
    "#  'CyberCSIS',\n",
    "#  'eos_geodesy',\n",
    "#  'SG_Internet',\n",
    "#  'morningKall',\n",
    "#  'princejetsy',\n",
    "#  'NTUsg',\n",
    "#  'muhdnajib103',\n",
    "#  'syoogas',\n",
    "#  'samdylanfinch',\n",
    "#  'eos_rs',\n",
    "#  'AudiKhalid',\n",
    "#  'dk',\n",
    "#  'b3rry_y',\n",
    "#  'roadscholarz',\n",
    "#  'theshadowskank',\n",
    "#  'GermanyinSGP',\n",
    "#  'mdzulkar9',\n",
    "#  'marzzorella',\n",
    "#  'sabrinaamorenoo',\n",
    "#  'zaobaosg',\n",
    "#  'c4rmenk4ss',\n",
    "#  'restofworld',\n",
    "#  'therosesloves',\n",
    "#  'DeputySecState',\n",
    "#  'moniza_hossain',\n",
    "#  'AtinSingapore00',\n",
    "#  'blxcknicotine',\n",
    "#  'MohanadElshieky',\n",
    "#  'BriPyon',\n",
    "#  'baddanadanabad',\n",
    "#  'MattersMohinga',\n",
    "#  'tisthedamnperry',\n",
    "#  'juswanafeelgood',\n",
    "#  'beyrima',\n",
    "#  'DarcyDs',\n",
    "#  'JusticeMyanmar',\n",
    "#  'minnnnnnnim',\n",
    "#  'daraobien',\n",
    "#  'shurikeygear',\n",
    "#  'sgmelbboi',\n",
    "#  '6yearswithikon',\n",
    "#  'NikkeiAsia',\n",
    "#  'RealRoopii',\n",
    "#  'UN_News_Centre',\n",
    "#  'xinghui_kok',\n",
    "#  'HURFOM',\n",
    "#  'lamkiduad',\n",
    "#  'anandmahindra',\n",
    "#  'wkeaii',\n",
    "#  'RWMaloneMD',\n",
    "#  'sarahrxdriguez',\n",
    "#  'ulat_bulu_bulu',\n",
    "#  'KodaiAIO',\n",
    "#  'Sci_Phile',\n",
    "#  'lioncitysailors']\n",
    "\n",
    "\n",
    "\n"
   ]
  },
  {
   "cell_type": "code",
   "execution_count": 249,
   "metadata": {},
   "outputs": [
    {
     "data": {
      "text/plain": [
       "Index(['Unnamed: 0', 'tweet_text', 'tweet_time', 'tweet_id', 'tweet_lang',\n",
       "       'tweet_possibly_sensitive', 'entity_image_url', 'entity_mentions',\n",
       "       'entity_hashtags', 'entity_link_url', 'user_id_x', 'user_name_x',\n",
       "       'user_screenname_x', 'user_friends_count', 'user_followers_count',\n",
       "       'user_verified', 'user_location', 'user_desc', 'user_geo_coding',\n",
       "       'user_geo_tagging', 'user_id_y', 'user_name_y', 'user_screenname_y',\n",
       "       'tweet_enagagement_type', 'replied_to_tweet_id', 'replied_to_user_id',\n",
       "       'replied_to_user_screenname', 'retweeted_tweet_id',\n",
       "       'retweeted_tweet_time', 'retweeted_user_id', 'retweeted_user_name',\n",
       "       'retweeted_user_verified', 'retweeted_user_screenname',\n",
       "       'retweeted_user_geo_coding', 'retweeted_user_geo_coding_type',\n",
       "       'retweeted_retweet_count', 'retweeted_favorite_count',\n",
       "       'quoted_tweet_text', 'quoted_tweet_id', 'quoted_tweet_time',\n",
       "       'quoted_user_id', 'quoted_user_name', 'quoted_user_verified',\n",
       "       'quoted_user_screenname', 'quoted_user_geo_coding',\n",
       "       'quoted_user_geo_coding_type', 'quoted_retweet_count',\n",
       "       'quoted_favorite_count', 'tweet_datetime', 'tweet_date',\n",
       "       'processed_tweet_text', 'processed_quoted_tweet_text',\n",
       "       'tweet_sentiment', 'quoted_tweet_sentiment'],\n",
       "      dtype='object')"
      ]
     },
     "execution_count": 249,
     "metadata": {},
     "output_type": "execute_result"
    }
   ],
   "source": [
    "sg_tweets.columns"
   ]
  },
  {
   "cell_type": "code",
   "execution_count": 250,
   "metadata": {},
   "outputs": [
    {
     "data": {
      "text/plain": [
       "158949"
      ]
     },
     "execution_count": 250,
     "metadata": {},
     "output_type": "execute_result"
    }
   ],
   "source": [
    "len(sg_tweets)"
   ]
  },
  {
   "cell_type": "code",
   "execution_count": 251,
   "metadata": {},
   "outputs": [
    {
     "data": {
      "text/plain": [
       "(139304, 54)"
      ]
     },
     "execution_count": 251,
     "metadata": {},
     "output_type": "execute_result"
    }
   ],
   "source": [
    "non_sg_tweets = sg_tweets[(sg_tweets['retweeted_user_geo_coding'] != 'Singapore|SG')  & (sg_tweets['quoted_user_geo_coding']   != 'Singapore|SG') ]\n",
    "\n",
    "\n",
    "non_sg_tweets.shape"
   ]
  },
  {
   "cell_type": "code",
   "execution_count": 252,
   "metadata": {},
   "outputs": [
    {
     "data": {
      "text/plain": [
       "150061"
      ]
     },
     "execution_count": 252,
     "metadata": {},
     "output_type": "execute_result"
    }
   ],
   "source": [
    "sg_non_verified = sg_tweets[(sg_tweets['user_geo_coding'] == 'Singapore|SG') & (sg_tweets['user_verified'] == False)]\n",
    "len(sg_non_verified)\n",
    "\n",
    "# list(sg_non_verified['tweet_text'])"
   ]
  },
  {
   "cell_type": "code",
   "execution_count": 253,
   "metadata": {},
   "outputs": [
    {
     "data": {
      "text/plain": [
       "150061"
      ]
     },
     "execution_count": 253,
     "metadata": {},
     "output_type": "execute_result"
    }
   ],
   "source": [
    "sg_verified = sg_tweets[(sg_tweets['user_geo_coding'] == 'Singapore|SG') & (sg_tweets['user_verified'] == True)]\n",
    "len(sg_non_verified)\n",
    "\n",
    "# list(sg_non_verified['tweet_text'])"
   ]
  },
  {
   "cell_type": "code",
   "execution_count": 264,
   "metadata": {},
   "outputs": [
    {
     "data": {
      "text/plain": [
       "Index(['Unnamed: 0', 'tweet_text', 'tweet_time', 'tweet_id', 'tweet_lang',\n",
       "       'tweet_possibly_sensitive', 'entity_image_url', 'entity_mentions',\n",
       "       'entity_hashtags', 'entity_link_url', 'user_id_x', 'user_name_x',\n",
       "       'user_screenname_x', 'user_friends_count', 'user_followers_count',\n",
       "       'user_verified', 'user_location', 'user_desc', 'user_geo_coding',\n",
       "       'user_geo_tagging', 'user_id_y', 'user_name_y', 'user_screenname_y',\n",
       "       'tweet_enagagement_type', 'replied_to_tweet_id', 'replied_to_user_id',\n",
       "       'replied_to_user_screenname', 'retweeted_tweet_id',\n",
       "       'retweeted_tweet_time', 'retweeted_user_id', 'retweeted_user_name',\n",
       "       'retweeted_user_verified', 'retweeted_user_screenname',\n",
       "       'retweeted_user_geo_coding', 'retweeted_user_geo_coding_type',\n",
       "       'retweeted_retweet_count', 'retweeted_favorite_count',\n",
       "       'quoted_tweet_text', 'quoted_tweet_id', 'quoted_tweet_time',\n",
       "       'quoted_user_id', 'quoted_user_name', 'quoted_user_verified',\n",
       "       'quoted_user_screenname', 'quoted_user_geo_coding',\n",
       "       'quoted_user_geo_coding_type', 'quoted_retweet_count',\n",
       "       'quoted_favorite_count', 'tweet_datetime', 'tweet_date',\n",
       "       'processed_tweet_text', 'processed_quoted_tweet_text',\n",
       "       'tweet_sentiment', 'quoted_tweet_sentiment'],\n",
       "      dtype='object')"
      ]
     },
     "execution_count": 264,
     "metadata": {},
     "output_type": "execute_result"
    }
   ],
   "source": [
    "sg_tweets.columns"
   ]
  },
  {
   "cell_type": "code",
   "execution_count": 266,
   "metadata": {},
   "outputs": [
    {
     "data": {
      "text/plain": [
       "0         Unknown\n",
       "1         Unknown\n",
       "2         Unknown\n",
       "3         Unknown\n",
       "4         Unknown\n",
       "           ...   \n",
       "158944    Unknown\n",
       "158945    Unknown\n",
       "158946    Unknown\n",
       "158947    Unknown\n",
       "158948    Unknown\n",
       "Name: retweeted_user_geo_coding, Length: 158949, dtype: object"
      ]
     },
     "execution_count": 266,
     "metadata": {},
     "output_type": "execute_result"
    }
   ],
   "source": [
    "sg_tweets['retweeted_user_geo_coding']"
   ]
  },
  {
   "cell_type": "code",
   "execution_count": 444,
   "metadata": {},
   "outputs": [],
   "source": [
    "myanmar_tweets = sg_tweets[sg_tweets['retweeted_user_geo_coding'] == 'Myanmar']"
   ]
  },
  {
   "cell_type": "code",
   "execution_count": 445,
   "metadata": {},
   "outputs": [
    {
     "data": {
      "text/plain": [
       "(16910, 54)"
      ]
     },
     "execution_count": 445,
     "metadata": {},
     "output_type": "execute_result"
    }
   ],
   "source": [
    "# sg_tweets_influential = sg_tweets[((sg_tweets['user_screenname_x'].isin(top_50)) & (sg_tweets['user_geo_coding']   != 'Singapore|SG')) | \n",
    "#                                   ((sg_tweets['retweeted_user_screenname'].isin(top_50))  & (sg_tweets['retweeted_user_geo_coding']   != 'Singapore|SG') ) |\n",
    "#                                   ((sg_tweets['quoted_user_screenname'].isin(top_50))  & (sg_tweets['quoted_user_geo_coding']   != 'Singapore|SG') )]\n",
    "# sg_tweets_influential.shape\n",
    "\n",
    "sg_tweets_influential = sg_tweets[((sg_tweets['user_screenname_x'].isin(top_50))) | \n",
    "                                  ((sg_tweets['retweeted_user_screenname'].isin(top_50)) ) |\n",
    "                                  ((sg_tweets['quoted_user_screenname'].isin(top_50)))]\n",
    "sg_tweets_influential.shape"
   ]
  },
  {
   "cell_type": "code",
   "execution_count": 446,
   "metadata": {},
   "outputs": [
    {
     "data": {
      "text/plain": [
       "(9770, 54)"
      ]
     },
     "execution_count": 446,
     "metadata": {},
     "output_type": "execute_result"
    }
   ],
   "source": [
    "# verified \n",
    "sg_tweets_verified = sg_tweets[sg_tweets['user_verified'] == True]\n",
    "sg_tweets_verified.shape"
   ]
  },
  {
   "cell_type": "code",
   "execution_count": 256,
   "metadata": {},
   "outputs": [],
   "source": [
    "sg_tweets_negative = sg_tweets[sg_tweets['tweet_sentiment'] == 'negative']\n"
   ]
  },
  {
   "cell_type": "code",
   "execution_count": 257,
   "metadata": {},
   "outputs": [
    {
     "ename": "NameError",
     "evalue": "name 'tw_by_time_data' is not defined",
     "output_type": "error",
     "traceback": [
      "\u001b[0;31m---------------------------------------------------------------------------\u001b[0m",
      "\u001b[0;31mNameError\u001b[0m                                 Traceback (most recent call last)",
      "\u001b[0;32m/var/folders/mv/c151lb7j7xx6ff_q9_85p_pc0000gn/T/ipykernel_98437/2998094168.py\u001b[0m in \u001b[0;36m<module>\u001b[0;34m\u001b[0m\n\u001b[0;32m----> 1\u001b[0;31m \u001b[0mtw_by_time_data\u001b[0m\u001b[0;34m.\u001b[0m\u001b[0mloc\u001b[0m\u001b[0;34m[\u001b[0m\u001b[0mtw_by_time_data\u001b[0m\u001b[0;34m[\u001b[0m\u001b[0;34m'count'\u001b[0m\u001b[0;34m]\u001b[0m\u001b[0;34m.\u001b[0m\u001b[0midxmax\u001b[0m\u001b[0;34m(\u001b[0m\u001b[0;34m)\u001b[0m\u001b[0;34m]\u001b[0m\u001b[0;34m\u001b[0m\u001b[0;34m\u001b[0m\u001b[0m\n\u001b[0m",
      "\u001b[0;31mNameError\u001b[0m: name 'tw_by_time_data' is not defined"
     ]
    }
   ],
   "source": [
    "tw_by_time_data.loc[tw_by_time_data['count'].idxmax()]"
   ]
  },
  {
   "cell_type": "code",
   "execution_count": null,
   "metadata": {},
   "outputs": [],
   "source": [
    "# %matplotlib inline \n",
    "\n",
    "# plt.rcParams['figure.figsize'] = [25, 25]\n",
    "# plt.plot(tw_by_time_data['date'], tw_by_time_data['count'])\n",
    "# plt.xticks(tw_by_time_data['date'], tw_by_time_data['date'], rotation='vertical')\n"
   ]
  },
  {
   "cell_type": "code",
   "execution_count": 608,
   "metadata": {
    "tags": []
   },
   "outputs": [
    {
     "name": "stdout",
     "output_type": "stream",
     "text": [
      "(1292,)\n"
     ]
    }
   ],
   "source": [
    "# myanmar_tweets['tweet_text']\n",
    "\n",
    "maynmar_tweets = sg_tweets[(sg_tweets['retweeted_user_geo_coding'] == 'India') &\n",
    "                           (sg_tweets['tweet_text'].notna())\n",
    "                          ]['tweet_text'].unique()#.head(50)\n",
    "print(maynmar_tweets.shape)\n",
    "\n",
    "# maynmar_tweets = [re.sub(\"RT @[A-Z_a-z_0-9:]+\",\"\", txt).strip() for txt in maynmar_tweets ]"
   ]
  },
  {
   "cell_type": "code",
   "execution_count": 609,
   "metadata": {},
   "outputs": [],
   "source": []
  },
  {
   "cell_type": "code",
   "execution_count": 610,
   "metadata": {},
   "outputs": [],
   "source": []
  },
  {
   "cell_type": "code",
   "execution_count": 611,
   "metadata": {},
   "outputs": [],
   "source": [
    "# sg_tweets.columns"
   ]
  },
  {
   "cell_type": "code",
   "execution_count": 612,
   "metadata": {},
   "outputs": [],
   "source": []
  },
  {
   "cell_type": "code",
   "execution_count": 613,
   "metadata": {},
   "outputs": [
    {
     "data": {
      "text/plain": [
       "143       delta variant spreads sydney australia widens ...\n",
       "150                       cats changed pandemic home boys *\n",
       "176       media intelligence agency commissioned crowdfu...\n",
       "184       mans huge regret elderly parents covid convinc...\n",
       "230       know difficult play balestier home ground sail...\n",
       "                                ...                        \n",
       "181349                     magnesium supplements help sleep\n",
       "181372    thundery showers mainly northern eastern singa...\n",
       "181380                hanois tiny balconies refuge lockdown\n",
       "181392          morning briefing stories straits times sept\n",
       "181394    silicon valleys billionaires want hack ageing ...\n",
       "Name: processed_tweet_text, Length: 5395, dtype: object"
      ]
     },
     "execution_count": 613,
     "metadata": {},
     "output_type": "execute_result"
    }
   ],
   "source": [
    "country_influential_users_tweets"
   ]
  },
  {
   "cell_type": "markdown",
   "metadata": {
    "tags": []
   },
   "source": [
    "maynmar_tweets\n"
   ]
  },
  {
   "cell_type": "code",
   "execution_count": 614,
   "metadata": {},
   "outputs": [
    {
     "name": "stderr",
     "output_type": "stream",
     "text": [
      "100%|██████████████████████████████████████████████████████████████████████████████████████████████████████████████████████████████████████████| 5395/5395 [00:00<00:00, 535478.96it/s]\n"
     ]
    }
   ],
   "source": []
  },
  {
   "cell_type": "code",
   "execution_count": 615,
   "metadata": {},
   "outputs": [],
   "source": [
    "# maynmar_tweets"
   ]
  },
  {
   "cell_type": "code",
   "execution_count": 48,
   "metadata": {},
   "outputs": [],
   "source": [
    "from os import path, getcwd\n",
    "from wordcloud import WordCloud, STOPWORDS"
   ]
  },
  {
   "cell_type": "code",
   "execution_count": 617,
   "metadata": {},
   "outputs": [],
   "source": [
    "# # complaints_text = list(df['processed'])\n",
    "\n",
    "# COUNTRY = 'Singapore'\n",
    "# maynmar_tweets = sg_tweets[(sg_tweets['retweeted_user_geo_coding'] == COUNTRY) &\n",
    "#                            (sg_tweets['processed_tweet_text'].notna())\n",
    "#                           ]['processed_tweet_text'].unique()#.head(50)\n",
    "\n",
    "# # join all documents in corpus\n",
    "# text = \" \".join(list(maynmar_tweets))\n",
    "# # print(\"Complaints received\")\n",
    "# # print(len(complaints_text))\n",
    "\n",
    "# # d = getcwd()\n",
    "# # mask = np.array(Image.open(path.join(d, \"thumbs-down.png\")))\n",
    "\n",
    "# # STOPWORDS.add(\"singapore\")\n",
    "# # STOPWORDS.add(\"covid\")\n",
    "# # STOPWORDS.add(\"vaccine\")\n",
    "# # STOPWORDS.add(\"vaccination\")\n",
    "# # # # TODO exclude name of all banks here\n",
    "# # STOPWORDS.add(\"waste\")\n",
    "# # STOPWORDS.add(\"fargo\")\n",
    "\n",
    "# STOPWORDS.update([COUNTRY, 'chinese', 'singapore', 'covid', 'vaccine', 'vaccination', 'vaccinated'])\n",
    "\n",
    "# wc = WordCloud(\n",
    "#     background_color=\"white\",\n",
    "#     stopwords=STOPWORDS,\n",
    "#     max_words=1000,\n",
    "#     # mask=mask,\n",
    "#     max_font_size=90,\n",
    "#     random_state=42,\n",
    "#     contour_width=1,\n",
    "#     contour_color=\"black\",\n",
    "# )\n",
    "# wc.generate(text)\n",
    "# print(\"**\", type(wc))\n",
    "# import matplotlib.pyplot as plt\n",
    "# # create wordcloud shape from image\n",
    "# plt.figure(figsize=[8, 8])\n",
    "# # plt.imshow(wc.recolor(), interpolation=\"bilinear\")\n",
    "# plt.axis(\"off\")\n",
    "\n",
    "# #wordcloud = WordCloud(max_font_size=40).generate(text)\n",
    "# #plt.figure()\n",
    "# plt.imshow(wc, interpolation=\"bilinear\")\n",
    "# #plt.axis(\"off\")\n",
    "# #plt.imshow()\n",
    "# # print(type(STOPWORDS))"
   ]
  },
  {
   "cell_type": "code",
   "execution_count": 672,
   "metadata": {},
   "outputs": [],
   "source": [
    "# influential_users\n",
    "influential_users = pd.read_csv(\n",
    "    'data/output/influencers/top_users.csv')"
   ]
  },
  {
   "cell_type": "code",
   "execution_count": 739,
   "metadata": {},
   "outputs": [
    {
     "data": {
      "text/plain": [
       "(2,)"
      ]
     },
     "execution_count": 739,
     "metadata": {},
     "output_type": "execute_result"
    }
   ],
   "source": [
    "country_influential_users = influential_users[influential_users['user_geo_coding'] == 'India']['user_screenname']\n",
    "country_influential_users_tweets = sg_tweets[(sg_tweets['user_screenname_x'].isin(country_influential_users)) | sg_tweets['retweeted_user_screenname'] \\\n",
    "          .isin(country_influential_users)]#['']\n",
    "\n",
    "country_influential_users_tweets = country_influential_users_tweets['processed_tweet_text']\n",
    "# print(country_influential_users_tweets.shape)\n",
    "# country_influential_users\n",
    "# list(country_influential_users_tweets)\n",
    "# country_influential_users_tweets\n",
    "\n",
    "country_influential_users_tweets.shape\n"
   ]
  },
  {
   "cell_type": "code",
   "execution_count": 24,
   "metadata": {},
   "outputs": [],
   "source": [
    "# sg_tweets.columns"
   ]
  },
  {
   "cell_type": "code",
   "execution_count": 61,
   "metadata": {},
   "outputs": [],
   "source": [
    "tweets_tm =  sg_tweets[sg_tweets['user_screenname_x'] == 'YahooSG']['processed_tweet_text']"
   ]
  },
  {
   "cell_type": "code",
   "execution_count": 62,
   "metadata": {},
   "outputs": [
    {
     "name": "stderr",
     "output_type": "stream",
     "text": [
      "100%|███████████████████████████████████████████████████████████████████████████████████████████████████████████████████████████| 558/558 [00:00<00:00, 344230.27it/s]\n"
     ]
    }
   ],
   "source": [
    "tokenized_tweets = []\n",
    "for tw in tqdm(tweets_tm):\n",
    "    try:\n",
    "        tokenized_tweets.append(tw.split(' '))\n",
    "    except Exception as e:\n",
    "        pass\n",
    "#         print(e)\n",
    "\n",
    "# Build the bigram and trigram models\n",
    "bigram = gensim.models.Phrases(tokenized_tweets, min_count=2, threshold=50) # higher threshold fewer phrases.\n",
    "trigram = gensim.models.Phrases(bigram[tokenized_tweets], threshold=50)  \n",
    "\n",
    "# Faster way to get a sentence clubbed as a trigram/bigram\n",
    "bigram_mod = gensim.models.phrases.Phraser(bigram)\n",
    "trigram_mod = gensim.models.phrases.Phraser(trigram)\n",
    "\n",
    "# See trigram example\n",
    "# print(bigram_mod[tokenized_tweets[0]])"
   ]
  },
  {
   "cell_type": "code",
   "execution_count": 63,
   "metadata": {},
   "outputs": [],
   "source": [
    "# Define functions for stopwords, bigrams, trigrams and lemmatization\n",
    "\n",
    "nlp = spacy.load('en')\n",
    "def remove_stopwords(texts):\n",
    "    return [[word for word in simple_preprocess(str(doc)) if word not in stop_words] for doc in texts]\n",
    "\n",
    "def make_bigrams(texts):\n",
    "    return [bigram_mod[doc] for doc in texts]\n",
    "\n",
    "def make_trigrams(texts):\n",
    "    return [trigram_mod[bigram_mod[doc]] for doc in texts]\n",
    "\n",
    "def lemmatization(texts, allowed_postags=['NOUN', 'ADJ', 'VERB', 'ADV']):\n",
    "    \"\"\"https://spacy.io/api/annotation\"\"\"\n",
    "    texts_out = []\n",
    "    for sent in texts:\n",
    "        doc = nlp(\" \".join(sent)) \n",
    "        texts_out.append([token.lemma_ for token in doc if token.pos_ in allowed_postags])\n",
    "    return texts_out\n",
    "\n",
    "# Remove Stop Words\n",
    "data_words_nostops = remove_stopwords(tokenized_tweets)\n",
    "\n",
    "# Form Bigrams\n",
    "data_words_bigrams = make_bigrams(data_words_nostops)\n",
    "data_lemmatized = lemmatization(data_words_bigrams, allowed_postags=['NOUN', 'ADJ', 'VERB', 'ADV'])\n",
    "\n",
    "# Create Dictionary\n",
    "id2word = corpora.Dictionary(data_words_bigrams)\n",
    "\n",
    "# Create Corpus\n",
    "texts = data_lemmatized\n",
    "\n",
    "# Term Document Frequency\n",
    "corpus = [id2word.doc2bow(text) for text in texts]\n",
    "# [[(id2word[id], freq) for id, freq in cp] for cp in corpus[:50]]"
   ]
  },
  {
   "cell_type": "code",
   "execution_count": 64,
   "metadata": {},
   "outputs": [],
   "source": [
    "lda_model = gensim.models.ldamodel.LdaModel(corpus=corpus,\n",
    "                                           id2word=id2word,\n",
    "                                           num_topics=5, \n",
    "                                           random_state=10,\n",
    "                                           update_every=0,\n",
    "#                                            chunksize=10,\n",
    "                                           passes=10,\n",
    "                                           alpha='auto',\n",
    "                                           per_word_topics=False)"
   ]
  },
  {
   "cell_type": "code",
   "execution_count": 65,
   "metadata": {},
   "outputs": [
    {
     "name": "stderr",
     "output_type": "stream",
     "text": [
      "/Users/anshu/opt/anaconda3/lib/python3.8/site-packages/pyLDAvis/_prepare.py:246: FutureWarning: In a future version of pandas all arguments of DataFrame.drop except for the argument 'labels' will be keyword-only\n",
      "  default_term_info = default_term_info.sort_values(\n"
     ]
    },
    {
     "data": {
      "text/html": [
       "\n",
       "<link rel=\"stylesheet\" type=\"text/css\" href=\"https://cdn.jsdelivr.net/gh/bmabey/pyLDAvis@3.3.1/pyLDAvis/js/ldavis.v1.0.0.css\">\n",
       "\n",
       "\n",
       "<div id=\"ldavis_el6895140727092591408729014922\"></div>\n",
       "<script type=\"text/javascript\">\n",
       "\n",
       "var ldavis_el6895140727092591408729014922_data = {\"mdsDat\": {\"x\": [-0.10296655516334634, -0.021536374225667128, 0.031661298541894894, 0.04536190802912248, 0.047479722817995985], \"y\": [-0.03985760563351828, 0.08523219009643151, 0.015268897277892797, -0.060201006324067385, -0.0004424754167388126], \"topics\": [1, 2, 3, 4, 5], \"cluster\": [1, 1, 1, 1, 1], \"Freq\": [26.176474828311225, 20.61120854911022, 18.770302596641315, 17.857621789954056, 16.584392235983177]}, \"tinfo\": {\"Term\": [\"new\", \"case\", \"people\", \"cluster\", \"die\", \"look\", \"report\", \"woman\", \"month\", \"year\", \"unlinked\", \"body\", \"expert\", \"chinese\", \"watch\", \"ban\", \"cause\", \"update\", \"singapore\", \"comment\", \"start\", \"right\", \"include\", \"study\", \"high\", \"official\", \"find\", \"develop\", \"share\", \"need\", \"cluster\", \"die\", \"report\", \"far\", \"sexual\", \"typical\", \"care\", \"order\", \"soon\", \"update\", \"share\", \"door\", \"rich\", \"couple\", \"related\", \"multiple\", \"freedom\", \"earth\", \"rape\", \"furious\", \"regulatory\", \"inform\", \"condition\", \"attack\", \"unafraid\", \"indian\", \"refuse\", \"unmasked\", \"legal\", \"drink\", \"case\", \"new\", \"include\", \"official\", \"day\", \"infection\", \"death\", \"strike\", \"hit\", \"man\", \"dog\", \"staff\", \"spread\", \"rule\", \"join\", \"daily\", \"explosion\", \"record\", \"leave\", \"public\", \"work\", \"time\", \"week\", \"find\", \"force\", \"woman\", \"people\", \"dose\", \"cause\", \"dead\", \"low\", \"private\", \"challenge\", \"asset\", \"half\", \"husband\", \"research\", \"unlinked\", \"isiss\", \"lineage\", \"confirm\", \"prove\", \"gun\", \"language\", \"fatality\", \"card\", \"isolate\", \"directly\", \"unclear\", \"exclusively\", \"outbreak\", \"cases_singapore\", \"develop\", \"maintain\", \"disease\", \"sell\", \"plane\", \"water\", \"study\", \"body\", \"issue\", \"fire\", \"new\", \"find\", \"large\", \"film\", \"mutation\", \"want\", \"year\", \"home\", \"help\", \"country\", \"allow\", \"people\", \"life\", \"high\", \"work\", \"woman\", \"time\", \"know\", \"case\", \"block\", \"human\", \"increase\", \"version\", \"developer\", \"interest\", \"particular\", \"parliament\", \"weibo\", \"protect\", \"corruption\", \"murder\", \"menu\", \"drive\", \"eat\", \"bird\", \"eligible\", \"right\", \"reduce\", \"period\", \"chinese\", \"kill\", \"pigeon\", \"smoothie\", \"cocoa\", \"refusal\", \"bath\", \"pre\", \"dish\", \"hop\", \"month\", \"woman\", \"fear\", \"lead\", \"spend\", \"real\", \"drug\", \"focus\", \"high\", \"set\", \"trial\", \"scientist\", \"singapore\", \"world\", \"video\", \"pass\", \"risk\", \"help\", \"time\", \"new\", \"death\", \"day\", \"official\", \"airline\", \"look\", \"remain\", \"business\", \"spokesman\", \"stage\", \"pose\", \"airport\", \"touch\", \"internet\", \"warning\", \"tourist\", \"cybersecurity\", \"shortly\", \"immunity\", \"flight\", \"male\", \"church\", \"informal\", \"wife\", \"powerful\", \"vaccinated\", \"ban\", \"food\", \"fan\", \"plan\", \"previous\", \"level\", \"outside\", \"multi\", \"genital\", \"potential\", \"jump\", \"tennis\", \"read\", \"stellar\", \"watch\", \"need\", \"people\", \"choice\", \"career\", \"mild\", \"singapore\", \"good\", \"year\", \"end\", \"dose\", \"start\", \"find\", \"come\", \"infection\", \"hold\", \"life\", \"week\", \"world\", \"month\", \"case\", \"force\", \"officer\", \"sale\", \"status\", \"foreign\", \"accept\", \"wildlife\", \"unit\", \"fentanyl\", \"intelligence\", \"overall\", \"investor\", \"decade\", \"coinbase\", \"generation\", \"transmission\", \"exercise\", \"operation\", \"job\", \"expert\", \"conversation\", \"look\", \"comment\", \"family\", \"meet\", \"netease\", \"commonly\", \"communicable\", \"train\", \"unearth\", \"tencent\", \"shed\", \"cabin\", \"vaccinate\", \"land\", \"attorney\", \"girl\", \"leader\", \"community\", \"domestic\", \"provide\", \"try\", \"start\", \"pandemic\", \"know\", \"year\", \"active\", \"thing\", \"world\", \"online\", \"receive\", \"base\", \"traffic\", \"likely\"], \"Freq\": [21.0, 12.0, 11.0, 5.0, 5.0, 4.0, 5.0, 8.0, 6.0, 7.0, 3.0, 4.0, 3.0, 4.0, 4.0, 3.0, 2.0, 4.0, 3.0, 2.0, 4.0, 2.0, 4.0, 3.0, 6.0, 6.0, 8.0, 2.0, 3.0, 3.0, 5.460719467017769, 5.3657455171279915, 4.700467472432084, 2.2501040165112247, 1.7204071915933175, 1.7204041942269928, 1.7204002976507706, 1.7202634678780502, 1.7202520778860164, 3.6711841657472317, 2.7886830869273007, 1.18274516540427, 1.1827417184329967, 1.1827404445523086, 1.1827402946839924, 1.1827398450790436, 1.1827281553503775, 1.1827274060087964, 1.1827272561404802, 1.1827268814696896, 1.182726581733057, 1.1827216360786215, 1.1827173648316087, 1.1827141426628098, 1.1827100962182715, 1.1827036518806735, 1.1826935357693278, 1.182693011230221, 1.1826870914317298, 1.1825945477464561, 9.746399397978692, 13.2461506954704, 3.333715187303728, 3.837883892839491, 4.3276793276386325, 4.429620955286704, 3.231540364555598, 1.4685498893245286, 2.2586174360831444, 2.2500073514472545, 1.7204962133731596, 1.7205270862463036, 1.720402995280463, 2.7968691940965678, 1.7204651906316994, 1.720465490368332, 1.7160560647681309, 2.2607238352677963, 2.2586877243234578, 2.2575965331129666, 2.7969099582785835, 2.7962310548060487, 2.258300464594312, 2.4117025258555524, 2.0661144313801376, 2.2581612369285318, 2.2583682050732494, 1.7216232231112303, 2.4934944467997933, 1.5344445504789292, 1.5344159931560608, 1.5325107949010606, 1.530177472813967, 1.5301904534152708, 1.5297822725069992, 1.5302092162844283, 1.4903677386971717, 2.9324445724020367, 1.0549097488620531, 1.0549016064848715, 1.0548966502552828, 1.054894880173287, 1.0548933461022236, 1.0548873278234374, 1.0548850857195757, 1.0548826076047815, 1.0548829616211806, 1.0548803655009198, 1.054865024790288, 1.0545381496483648, 1.0540583394219893, 1.0500103979081288, 2.0140125116318632, 0.9935526886027954, 1.5295749369025373, 1.5343558103681978, 1.5344891565452279, 1.5344064347132826, 2.4936077320475354, 2.9625192095573722, 1.5343672568984383, 1.5344460845499925, 6.637000327513686, 2.8162042317701315, 1.534534824660724, 1.5346543641981854, 1.5344795981024495, 1.4836166459645255, 2.414954492572814, 1.5344158751505945, 2.0140903952396862, 2.015658215866254, 1.5346179005090683, 2.014047441249917, 1.5345478052620278, 1.5445074666260434, 1.5345285703710048, 1.534443606435198, 1.5342481893828426, 1.534184348425521, 1.5340682310465852, 1.4647672920438288, 1.4607346409999549, 1.0070150271070968, 1.0070092239583595, 1.0070096538212288, 1.0070093314240767, 1.0070059999868386, 1.0069978325923195, 1.0069953608808202, 1.0069935339636251, 1.0069918145121473, 1.0069879457463224, 1.0069694616429368, 1.0069708586972625, 1.0069648406170904, 0.9997082180524645, 0.9974223147785339, 1.9226087535259684, 1.4647996392247538, 1.464672614746836, 2.8381270390112543, 1.4641501164290396, 0.5492462661827502, 0.5492459437855981, 0.5492446541969898, 0.549244600464131, 0.5492445467312724, 0.5492440094026856, 0.5492440094026856, 0.5492431496769468, 3.737581563997242, 4.211290875975935, 1.0070221198444425, 1.0070192182700737, 1.0070168540242919, 1.0070089015612074, 1.007015994298553, 1.0070043880010782, 2.8048803700320866, 1.4649005495333534, 1.4648004989504926, 1.4606422204830267, 1.464694752684612, 1.8728532010462031, 1.4648742204326004, 1.4551713557437453, 1.464818338259574, 1.4647513871176598, 1.4647885702558658, 1.41004338451915, 1.078497353528079, 1.0654517677007909, 1.0108446754108806, 1.0092968466837677, 1.0071052983096778, 1.0070659658571246, 1.0070585507226268, 1.0070389919620677, 1.0070348007990908, 1.4266194914315469, 1.4265898417326905, 0.980788727368602, 0.9807863758407617, 0.9807826951884898, 0.98077114202997, 0.980765825532244, 0.9807449685027038, 0.9807404699277048, 0.9796553931899052, 0.9795132791160768, 0.9793746412138383, 0.9782154402288981, 0.9749931314052638, 0.9173073929928374, 1.4266408596627915, 2.314393126114649, 1.4266409619031324, 1.424625089101927, 1.4266911619105065, 1.426579004256557, 1.4208500689954748, 0.5349417070914566, 0.5349405824477069, 0.5349393044434458, 0.534939099962764, 0.5349389977224231, 0.534938742121571, 0.534938742121571, 0.534938282040037, 2.732345300746426, 1.8724594571251714, 6.324751071616336, 0.9808275786981379, 0.9808005872481445, 0.9807998715657583, 1.8522727152597134, 1.4265985321616657, 3.2100504112429586, 1.82006455411314, 2.317959269204675, 1.8724829724035745, 2.3088449517762495, 1.4266022128139375, 1.8763118731696722, 1.4137728903591584, 1.4266143794145028, 1.4265906596554176, 1.4265714384713315, 1.4305250724533074, 0.9844574175205348, 0.9815780228002248, 0.9813459372264186, 0.9808566149549488, 1.3686101723127795, 1.3685936508887746, 1.3685899478109806, 0.9409092447224869, 0.9408996547005072, 0.9408986102426679, 0.9408971859819778, 0.9408970910312651, 0.9408926283477695, 0.94088446258648, 0.9408818989172378, 0.9408805696072604, 0.9408753473180635, 0.9407932149516035, 0.9404508226817135, 0.9381382031239096, 2.2238349444142336, 0.9319326992973257, 3.0556628164558246, 1.796309295839531, 1.3686557486548612, 1.3686285927510375, 0.5131894694157294, 0.5131886148593153, 0.5131883300071773, 0.5131882350564647, 0.5131879027289703, 0.5131877603029014, 0.5131876178768323, 0.5131871905986253, 1.3686274533424854, 0.9409096245253377, 0.9409077255110843, 0.9409000345033579, 0.9408879757628488, 1.3686213764968744, 0.9413463978036222, 0.9409075356096589, 1.3686697064096238, 1.796364936957156, 1.3686062793335598, 1.3686296372088769, 1.4386422098514968, 0.947973292893038, 0.9409437118311863, 0.9409169357302133, 0.9409139922581204, 0.9409098144267629, 0.9409063962011068, 0.9409049719404168, 0.9409036426304394], \"Total\": [21.0, 12.0, 11.0, 5.0, 5.0, 4.0, 5.0, 8.0, 6.0, 7.0, 3.0, 4.0, 3.0, 4.0, 4.0, 3.0, 2.0, 4.0, 3.0, 2.0, 4.0, 2.0, 4.0, 3.0, 6.0, 6.0, 8.0, 2.0, 3.0, 3.0, 5.843043404802209, 5.82326725208837, 5.271920784238682, 2.6189117262329056, 2.0826179744488313, 2.0826170752760746, 2.082615741510093, 2.0825782982648007, 2.08257659921739, 4.690939995187623, 3.6363533478634573, 1.5449483578807077, 1.5449465183150521, 1.5449467487781134, 1.5449465669317806, 1.5449466591086827, 1.5449421198892974, 1.544942100024528, 1.5449424574883996, 1.5449426240721207, 1.5449430080692468, 1.5449411180765413, 1.5449392747300692, 1.5449387344556398, 1.5449357733204065, 1.5449359043922444, 1.5449333247213635, 1.5449328617763562, 1.544931385715785, 1.5449007505007106, 12.92931036449619, 21.91462848746377, 4.99683034781445, 6.102168711006228, 7.078750968491229, 7.922153655958333, 5.502132662374956, 2.0310535888109884, 3.5574905229374933, 3.5779047003230464, 2.528405405311717, 2.5403250614454667, 2.5403071837542264, 4.935119019326851, 2.56171984365519, 2.562080963647798, 2.5611130506689688, 3.9400163966384647, 3.9515028369352025, 4.057809309602204, 6.3555736741704605, 6.861454997197162, 4.813194067230886, 8.199769077278528, 4.889312518048883, 8.178750641169232, 11.635828890131615, 5.676782523045155, 2.8673726770246066, 1.9082813333062123, 1.9082771834470773, 1.9081364274074193, 1.9078103776333448, 1.9079691056590526, 1.908117207807366, 1.9087793214062474, 1.9052085515483288, 3.887236416937662, 1.428732278887021, 1.4287305355927356, 1.4287285975584434, 1.428729572883147, 1.4287287138735458, 1.4287275809844593, 1.4287271523726432, 1.4287262382145174, 1.4287267734008469, 1.4287263249954123, 1.4287222102346688, 1.4286915374212747, 1.428637927555939, 1.4285897926959412, 2.8336060758812316, 1.4243646695548022, 2.335787570331095, 2.3540423930443914, 2.365977300982985, 2.365971535413889, 3.8755112162539, 4.9571120443358945, 2.365945208465892, 2.445833974440758, 21.91462848746377, 8.199769077278528, 2.781713329669312, 2.8915647869975776, 2.9035348969941612, 2.7762180635643112, 7.262880550192935, 2.9835012359517243, 5.263992747334639, 5.771432549481816, 3.6852739132861188, 11.635828890131615, 4.748668297917403, 6.162118338826702, 6.3555736741704605, 8.178750641169232, 6.861454997197162, 5.0782884429412825, 12.92931036449619, 1.8429708831091354, 1.842701737077185, 1.3851946062556841, 1.3851937571225457, 1.385194361615731, 1.3851944525485287, 1.3851936570850265, 1.3851923920676905, 1.3851927005273819, 1.3851927047261436, 1.3851916384932283, 1.3851915064110192, 1.3851875971358074, 1.3851900329186022, 1.385188475073182, 1.385531260111348, 1.3856404828610362, 2.7465206359675682, 2.2887489875913962, 2.2887375707629976, 4.535589056207697, 2.380491907236928, 0.9274116013657551, 0.9274117180229866, 0.9274111717709704, 0.9274113514205611, 0.9274113224745779, 0.9274109137008947, 0.9274113455638497, 0.9274104284321775, 6.428949101755784, 8.178750641169232, 1.8128479692518318, 1.8128464084586118, 1.812844430337516, 1.812844422418054, 1.8309677331740986, 1.830970229528117, 6.162118338826702, 2.8599561487245384, 3.2721516894987412, 3.3974270076086173, 3.627739229073944, 5.998692370838874, 3.733393589244309, 3.825808105781304, 4.121279345788028, 5.263992747334639, 6.861454997197162, 21.91462848746377, 5.502132662374956, 7.078750968491229, 6.102168711006228, 2.2768894967955373, 4.380175932007445, 2.8298643059841044, 2.7961845221681108, 1.9227123854323551, 1.9227314359215062, 1.8072048247400756, 1.8072038953751206, 1.3613511259112008, 1.3613512003827137, 1.3613493864169475, 1.3613504055972188, 1.3613492902099156, 1.361347652358001, 1.3613448965963015, 1.3613741218430058, 1.3613965318583299, 1.3616328453279318, 1.3614179132437556, 1.3623243615167722, 1.3629836381947418, 2.2348573510929173, 3.658215358718912, 2.2648995423481777, 2.2649923492703734, 2.344717104232621, 2.344766937416956, 2.3451564170530848, 0.9154918102653171, 0.9154917500584894, 0.9154911537728609, 0.9154915912907184, 0.9154915067358484, 0.9154912708290084, 0.9154913009906818, 0.9154910772859481, 4.678835585690092, 3.2182725277691526, 11.635828890131615, 1.7889983418473192, 1.7890040184156204, 1.7890033130432654, 3.627739229073944, 2.76622339869106, 7.262880550192935, 3.751768757850797, 5.676782523045155, 4.980880473754759, 8.199769077278528, 3.3619099592118125, 7.922153655958333, 3.681301936930925, 4.748668297917403, 4.813194067230886, 5.998692370838874, 6.428949101755784, 12.92931036449619, 4.889312518048883, 1.8190275294794997, 1.840791144150967, 1.7528183577474286, 1.7528185425700116, 1.7528174477544571, 1.3250954355995486, 1.3250945450035707, 1.3250946895592346, 1.325095117096311, 1.3250952058108938, 1.3250937550099673, 1.3250939246571862, 1.3250939641168558, 1.3250932462803158, 1.3250929737007033, 1.3250987264042495, 1.3251815712010135, 1.325143005271424, 3.145849905131307, 1.3256990437083893, 4.380175932007445, 2.626315225070913, 2.1985870106479517, 2.2322663100425264, 0.8973662712917617, 0.897366327743023, 0.8973658351274887, 0.8973663342267432, 0.8973662093426942, 0.8973662693861422, 0.8973661727868284, 0.8973655838901491, 2.678048621424566, 1.7827854184284098, 1.7827883471930424, 1.782790800061325, 1.7827894920166991, 2.748074939207692, 1.8044982769968194, 1.80455148661153, 3.1820048362553273, 4.980880473754759, 4.177408423757258, 5.0782884429412825, 7.262880550192935, 2.3984866605532202, 2.2503164091458734, 5.998692370838874, 2.2622445545826, 2.708023812626391, 1.862618807314595, 1.804557019571679, 2.2622485154765246], \"Category\": [\"Default\", \"Default\", \"Default\", \"Default\", \"Default\", \"Default\", \"Default\", \"Default\", \"Default\", \"Default\", \"Default\", \"Default\", \"Default\", \"Default\", \"Default\", \"Default\", \"Default\", \"Default\", \"Default\", \"Default\", \"Default\", \"Default\", \"Default\", \"Default\", \"Default\", \"Default\", \"Default\", \"Default\", \"Default\", \"Default\", \"Topic1\", \"Topic1\", \"Topic1\", \"Topic1\", \"Topic1\", \"Topic1\", \"Topic1\", \"Topic1\", \"Topic1\", \"Topic1\", \"Topic1\", \"Topic1\", \"Topic1\", \"Topic1\", \"Topic1\", \"Topic1\", \"Topic1\", \"Topic1\", \"Topic1\", \"Topic1\", \"Topic1\", \"Topic1\", \"Topic1\", \"Topic1\", \"Topic1\", \"Topic1\", \"Topic1\", \"Topic1\", \"Topic1\", \"Topic1\", \"Topic1\", \"Topic1\", \"Topic1\", \"Topic1\", \"Topic1\", \"Topic1\", \"Topic1\", \"Topic1\", \"Topic1\", \"Topic1\", \"Topic1\", \"Topic1\", \"Topic1\", \"Topic1\", \"Topic1\", \"Topic1\", \"Topic1\", \"Topic1\", \"Topic1\", \"Topic1\", \"Topic1\", \"Topic1\", \"Topic1\", \"Topic1\", \"Topic1\", \"Topic1\", \"Topic1\", \"Topic1\", \"Topic2\", \"Topic2\", \"Topic2\", \"Topic2\", \"Topic2\", \"Topic2\", \"Topic2\", \"Topic2\", \"Topic2\", \"Topic2\", \"Topic2\", \"Topic2\", \"Topic2\", \"Topic2\", \"Topic2\", \"Topic2\", \"Topic2\", \"Topic2\", \"Topic2\", \"Topic2\", \"Topic2\", \"Topic2\", \"Topic2\", \"Topic2\", \"Topic2\", \"Topic2\", \"Topic2\", \"Topic2\", \"Topic2\", \"Topic2\", \"Topic2\", \"Topic2\", \"Topic2\", \"Topic2\", \"Topic2\", \"Topic2\", \"Topic2\", \"Topic2\", \"Topic2\", \"Topic2\", \"Topic2\", \"Topic2\", \"Topic2\", \"Topic2\", \"Topic2\", \"Topic2\", \"Topic2\", \"Topic2\", \"Topic2\", \"Topic2\", \"Topic2\", \"Topic2\", \"Topic2\", \"Topic3\", \"Topic3\", \"Topic3\", \"Topic3\", \"Topic3\", \"Topic3\", \"Topic3\", \"Topic3\", \"Topic3\", \"Topic3\", \"Topic3\", \"Topic3\", \"Topic3\", \"Topic3\", \"Topic3\", \"Topic3\", \"Topic3\", \"Topic3\", \"Topic3\", \"Topic3\", \"Topic3\", \"Topic3\", \"Topic3\", \"Topic3\", \"Topic3\", \"Topic3\", \"Topic3\", \"Topic3\", \"Topic3\", \"Topic3\", \"Topic3\", \"Topic3\", \"Topic3\", \"Topic3\", \"Topic3\", \"Topic3\", \"Topic3\", \"Topic3\", \"Topic3\", \"Topic3\", \"Topic3\", \"Topic3\", \"Topic3\", \"Topic3\", \"Topic3\", \"Topic3\", \"Topic3\", \"Topic3\", \"Topic3\", \"Topic3\", \"Topic3\", \"Topic3\", \"Topic3\", \"Topic3\", \"Topic3\", \"Topic3\", \"Topic3\", \"Topic3\", \"Topic3\", \"Topic4\", \"Topic4\", \"Topic4\", \"Topic4\", \"Topic4\", \"Topic4\", \"Topic4\", \"Topic4\", \"Topic4\", \"Topic4\", \"Topic4\", \"Topic4\", \"Topic4\", \"Topic4\", \"Topic4\", \"Topic4\", \"Topic4\", \"Topic4\", \"Topic4\", \"Topic4\", \"Topic4\", \"Topic4\", \"Topic4\", \"Topic4\", \"Topic4\", \"Topic4\", \"Topic4\", \"Topic4\", \"Topic4\", \"Topic4\", \"Topic4\", \"Topic4\", \"Topic4\", \"Topic4\", \"Topic4\", \"Topic4\", \"Topic4\", \"Topic4\", \"Topic4\", \"Topic4\", \"Topic4\", \"Topic4\", \"Topic4\", \"Topic4\", \"Topic4\", \"Topic4\", \"Topic4\", \"Topic4\", \"Topic4\", \"Topic4\", \"Topic4\", \"Topic4\", \"Topic4\", \"Topic4\", \"Topic5\", \"Topic5\", \"Topic5\", \"Topic5\", \"Topic5\", \"Topic5\", \"Topic5\", \"Topic5\", \"Topic5\", \"Topic5\", \"Topic5\", \"Topic5\", \"Topic5\", \"Topic5\", \"Topic5\", \"Topic5\", \"Topic5\", \"Topic5\", \"Topic5\", \"Topic5\", \"Topic5\", \"Topic5\", \"Topic5\", \"Topic5\", \"Topic5\", \"Topic5\", \"Topic5\", \"Topic5\", \"Topic5\", \"Topic5\", \"Topic5\", \"Topic5\", \"Topic5\", \"Topic5\", \"Topic5\", \"Topic5\", \"Topic5\", \"Topic5\", \"Topic5\", \"Topic5\", \"Topic5\", \"Topic5\", \"Topic5\", \"Topic5\", \"Topic5\", \"Topic5\", \"Topic5\", \"Topic5\", \"Topic5\", \"Topic5\", \"Topic5\"], \"logprob\": [30.0, 29.0, 28.0, 27.0, 26.0, 25.0, 24.0, 23.0, 22.0, 21.0, 20.0, 19.0, 18.0, 17.0, 16.0, 15.0, 14.0, 13.0, 12.0, 11.0, 10.0, 9.0, 8.0, 7.0, 6.0, 5.0, 4.0, 3.0, 2.0, 1.0, -4.7696, -4.7872, -4.9195, -5.6562, -5.9246, -5.9246, -5.9246, -5.9247, -5.9247, -5.1667, -5.4416, -6.2994, -6.2994, -6.2994, -6.2994, -6.2994, -6.2994, -6.2994, -6.2994, -6.2994, -6.2994, -6.2994, -6.2994, -6.2994, -6.2994, -6.2994, -6.2994, -6.2994, -6.2994, -6.2995, -4.1903, -3.8835, -5.2631, -5.1223, -5.0022, -4.9789, -5.2942, -6.0829, -5.6524, -5.6563, -5.9246, -5.9246, -5.9246, -5.4387, -5.9246, -5.9246, -5.9272, -5.6515, -5.6524, -5.6529, -5.4387, -5.4389, -5.6526, -5.5869, -5.7415, -5.6527, -5.6526, -5.9239, -5.3145, -5.8, -5.8, -5.8013, -5.8028, -5.8028, -5.803, -5.8028, -5.8292, -5.1523, -6.1747, -6.1747, -6.1747, -6.1747, -6.1747, -6.1747, -6.1747, -6.1747, -6.1747, -6.1747, -6.1748, -6.1751, -6.1755, -6.1794, -5.528, -6.2346, -5.8032, -5.8001, -5.8, -5.8, -5.3144, -5.1421, -5.8001, -5.8, -4.3355, -5.1928, -5.7999, -5.7999, -5.8, -5.8337, -5.3465, -5.8, -5.528, -5.5272, -5.7999, -5.528, -5.7999, -5.7935, -5.8, -5.8, -5.8001, -5.8002, -5.8003, -5.7529, -5.7557, -6.1276, -6.1276, -6.1276, -6.1276, -6.1276, -6.1276, -6.1276, -6.1276, -6.1276, -6.1277, -6.1277, -6.1277, -6.1277, -6.1349, -6.1372, -5.4809, -5.7529, -5.753, -5.0915, -5.7533, -6.7338, -6.7338, -6.7338, -6.7338, -6.7338, -6.7338, -6.7338, -6.7338, -4.8162, -4.6968, -6.1276, -6.1276, -6.1276, -6.1276, -6.1276, -6.1276, -5.1033, -5.7528, -5.7529, -5.7557, -5.753, -5.5072, -5.7528, -5.7595, -5.7529, -5.7529, -5.7529, -5.791, -6.059, -6.0712, -6.1238, -6.1254, -6.1275, -6.1276, -6.1276, -6.1276, -6.1276, -5.7295, -5.7295, -6.1042, -6.1042, -6.1042, -6.1042, -6.1042, -6.1042, -6.1042, -6.1053, -6.1055, -6.1056, -6.1068, -6.1101, -6.1711, -5.7294, -5.2456, -5.7294, -5.7309, -5.7294, -5.7295, -5.7335, -6.7104, -6.7104, -6.7104, -6.7104, -6.7104, -6.7104, -6.7104, -6.7104, -5.0796, -5.4575, -4.2403, -6.1041, -6.1042, -6.1042, -5.4684, -5.7295, -4.9185, -5.4859, -5.2441, -5.4575, -5.248, -5.7295, -5.4555, -5.7385, -5.7295, -5.7295, -5.7295, -5.7267, -6.1004, -6.1034, -6.1036, -6.1041, -5.697, -5.697, -5.697, -6.0717, -6.0717, -6.0717, -6.0717, -6.0717, -6.0717, -6.0717, -6.0717, -6.0717, -6.0717, -6.0718, -6.0722, -6.0747, -5.2116, -6.0813, -4.8938, -5.4251, -5.697, -5.697, -6.6779, -6.6779, -6.6779, -6.6779, -6.6779, -6.6779, -6.6779, -6.6779, -5.697, -6.0717, -6.0717, -6.0717, -6.0717, -5.697, -6.0712, -6.0717, -5.697, -5.425, -5.697, -5.697, -5.6471, -6.0642, -6.0717, -6.0717, -6.0717, -6.0717, -6.0717, -6.0717, -6.0717], \"loglift\": [30.0, 29.0, 28.0, 27.0, 26.0, 25.0, 24.0, 23.0, 22.0, 21.0, 20.0, 19.0, 18.0, 17.0, 16.0, 15.0, 14.0, 13.0, 12.0, 11.0, 10.0, 9.0, 8.0, 7.0, 6.0, 5.0, 4.0, 3.0, 2.0, 1.0, 1.2726, 1.2585, 1.2256, 1.1885, 1.1492, 1.1492, 1.1492, 1.1492, 1.1492, 1.0952, 1.0749, 1.0732, 1.0732, 1.0732, 1.0732, 1.0732, 1.0731, 1.0731, 1.0731, 1.0731, 1.0731, 1.0731, 1.0731, 1.0731, 1.0731, 1.0731, 1.0731, 1.0731, 1.0731, 1.0731, 1.0577, 0.8369, 0.9356, 0.8766, 0.8482, 0.759, 0.8081, 1.016, 0.886, 0.8765, 0.9553, 0.9506, 0.9506, 0.7724, 0.9422, 0.9421, 0.9399, 0.7848, 0.781, 0.754, 0.5195, 0.4427, 0.5836, 0.1165, 0.4789, 0.0533, -0.2991, 0.1472, 1.4396, 1.3613, 1.3613, 1.3601, 1.3588, 1.3587, 1.3583, 1.3583, 1.3338, 1.2975, 1.276, 1.276, 1.276, 1.276, 1.276, 1.276, 1.276, 1.276, 1.276, 1.276, 1.276, 1.2757, 1.2753, 1.2714, 1.2379, 1.2191, 1.156, 1.1513, 1.1463, 1.1463, 1.1384, 1.0646, 1.1463, 1.1131, 0.3848, 0.5106, 0.9845, 0.9458, 0.9416, 0.9527, 0.4782, 0.9144, 0.6186, 0.5274, 0.7033, -0.1746, 0.4497, 0.1956, 0.1582, -0.094, 0.0815, 0.3824, -0.5522, 1.4432, 1.4406, 1.354, 1.354, 1.354, 1.354, 1.354, 1.354, 1.354, 1.354, 1.354, 1.354, 1.354, 1.354, 1.354, 1.3465, 1.3442, 1.3162, 1.2266, 1.2265, 1.2041, 1.1869, 1.149, 1.149, 1.149, 1.149, 1.149, 1.149, 1.149, 1.149, 1.1305, 1.0091, 1.085, 1.085, 1.085, 1.085, 1.075, 1.075, 0.8858, 1.0039, 0.8692, 0.8288, 0.7659, 0.5088, 0.7373, 0.7062, 0.6385, 0.3937, 0.1287, -1.0706, 0.0433, -0.2208, -0.125, 0.8593, 0.2029, 0.6397, 0.6517, 1.0262, 1.0262, 1.4863, 1.4862, 1.3949, 1.3949, 1.3949, 1.3948, 1.3948, 1.3948, 1.3948, 1.3937, 1.3935, 1.3932, 1.3922, 1.3882, 1.3268, 1.2739, 1.2649, 1.2605, 1.2591, 1.2259, 1.2258, 1.2216, 1.1854, 1.1854, 1.1854, 1.1854, 1.1854, 1.1854, 1.1854, 1.1854, 1.1849, 1.1811, 1.1131, 1.1217, 1.1217, 1.1217, 1.0505, 1.0605, 0.9062, 0.9994, 0.827, 0.7444, 0.4554, 0.8655, 0.2824, 0.7657, 0.5202, 0.5067, 0.2865, 0.22, -0.8524, 0.1171, 1.1056, 1.0932, 1.5493, 1.5493, 1.5493, 1.4543, 1.4543, 1.4543, 1.4543, 1.4543, 1.4543, 1.4543, 1.4543, 1.4543, 1.4543, 1.4542, 1.4538, 1.4513, 1.4499, 1.4443, 1.4366, 1.4169, 1.3227, 1.3075, 1.2379, 1.2379, 1.2379, 1.2379, 1.2379, 1.2379, 1.2379, 1.2379, 1.1254, 1.1576, 1.1576, 1.1576, 1.1576, 1.0996, 1.146, 1.1455, 0.953, 0.7769, 0.6808, 0.4855, 0.1776, 0.8684, 0.9248, -0.0557, 0.9194, 0.7396, 1.1138, 1.1455, 0.9194]}, \"token.table\": {\"Topic\": [5, 1, 5, 3, 4, 4, 2, 3, 4, 5, 2, 1, 3, 5, 2, 4, 1, 5, 3, 3, 3, 1, 2, 1, 3, 4, 5, 5, 2, 1, 4, 5, 1, 2, 3, 4, 2, 2, 2, 3, 4, 5, 4, 5, 4, 1, 3, 5, 1, 2, 4, 4, 5, 5, 5, 1, 3, 5, 1, 2, 5, 3, 1, 2, 3, 5, 1, 4, 1, 2, 1, 2, 3, 4, 2, 1, 2, 3, 5, 5, 2, 4, 3, 1, 2, 2, 5, 3, 1, 4, 2, 5, 1, 1, 2, 3, 4, 5, 1, 3, 3, 4, 1, 3, 3, 1, 4, 5, 2, 5, 1, 5, 1, 2, 4, 5, 3, 4, 1, 2, 3, 5, 5, 1, 2, 4, 1, 2, 3, 4, 1, 2, 4, 3, 4, 3, 4, 1, 2, 3, 4, 5, 1, 1, 5, 4, 3, 5, 2, 4, 2, 2, 1, 2, 3, 5, 1, 2, 3, 5, 1, 2, 3, 2, 3, 4, 1, 2, 3, 3, 2, 4, 1, 4, 5, 3, 1, 1, 2, 3, 4, 5, 1, 4, 5, 3, 4, 5, 2, 2, 2, 3, 5, 1, 2, 4, 1, 3, 1, 2, 3, 4, 5, 3, 5, 2, 2, 4, 5, 3, 5, 3, 5, 1, 3, 4, 5, 1, 1, 4, 1, 2, 4, 5, 2, 3, 5, 2, 3, 5, 2, 2, 4, 1, 2, 2, 5, 3, 4, 5, 2, 3, 4, 4, 1, 3, 1, 2, 3, 1, 4, 5, 5, 1, 2, 3, 5, 3, 4, 1, 2, 3, 2, 3, 5, 5, 1, 2, 4, 5, 1, 3, 4, 5, 3, 3, 1, 2, 3, 5, 1, 2, 4, 5, 3, 4, 3, 1, 4, 2, 3, 4, 4, 4, 3, 1, 4, 2, 3, 2, 2, 5, 1, 2, 1, 4, 3, 5, 2, 3, 4, 5, 1, 4, 5, 3, 4, 3, 1, 1, 1, 1, 2, 3, 5, 1, 2, 1, 3, 4, 2, 3, 4, 5, 1, 3, 4, 5, 2, 4, 1, 2, 3, 2, 4, 1, 2, 3, 1, 1, 2, 5, 4, 3, 4, 3, 1, 3, 5, 1, 3, 1, 3, 1, 3, 1, 3, 1, 2, 4, 5, 5, 4, 1, 1, 2, 5, 4, 2, 4, 5, 1, 2, 3, 4, 4, 4, 2, 5, 5, 5, 1, 3, 4, 1, 4, 5, 1, 1, 2, 5, 5, 1, 2, 1, 1, 2, 2, 4, 5, 4, 5, 3, 1, 2, 3, 4, 5, 2, 4, 5, 4, 1, 3, 4, 2, 3, 1, 4, 5, 3, 4, 5, 1, 2, 3, 1, 2, 3, 4, 5, 1, 2, 3, 4, 5, 2, 4, 5], \"Freq\": [0.5705100672526422, 0.41692956498217343, 0.41692956498217343, 0.4391956664596091, 0.4391956664596091, 0.5533409940954285, 0.5427005012543618, 0.2713502506271809, 0.2713502506271809, 0.2713502506271809, 1.0482350023739813, 0.6472748580236424, 0.5609190802567653, 0.5609190802567653, 0.2733573346404064, 0.5467146692808128, 0.5368785046478384, 0.5368785046478384, 1.0782702084461686, 0.7217448128305926, 0.5426021697711124, 0.4034607211037814, 0.6051910816556721, 0.35763018930689816, 0.35763018930689816, 0.35763018930689816, 0.35763018930689816, 1.1143730247207864, 0.6999241514943425, 0.9603307802474456, 0.5589702369062429, 0.5589702369062429, 0.7734364570178422, 0.15468729140356843, 0.07734364570178422, 0.07734364570178422, 0.699991001694661, 0.6975026357841091, 1.048322214538437, 0.6614355848429452, 0.22047852828098174, 0.22047852828098174, 0.5589720105427265, 0.5589720105427265, 0.7344123663227019, 0.8557184421889902, 1.0782703836642544, 0.7546634631804973, 0.29744996508902527, 0.29744996508902527, 0.29744996508902527, 0.3807616048728496, 0.7615232097456992, 1.114372100984792, 1.114372712727502, 0.36389109544746034, 0.36389109544746034, 0.36389109544746034, 0.6472746316677848, 0.6999229956682477, 0.7543190173862473, 0.7219217703968899, 0.346534414610731, 0.346534414610731, 0.1732672073053655, 0.1732672073053655, 0.6472715003225142, 0.7345653368988082, 0.7806154560988082, 0.3903077280494041, 0.5650714395526424, 0.1412678598881606, 0.1412678598881606, 0.1412678598881606, 1.0480634930987245, 0.5452431237281493, 0.1817477079093831, 0.1817477079093831, 0.1817477079093831, 0.7546634856534483, 0.7058144097810116, 0.3529072048905058, 0.7219203511870861, 0.8586245115586743, 0.6999241089809212, 0.8562422479697083, 0.42812112398485414, 1.0782701816010432, 0.7910123889936187, 0.39550619449680935, 0.5541706593725734, 0.5541706593725734, 0.6472708261729577, 0.3523122458683083, 0.17615612293415414, 0.17615612293415414, 0.3523122458683083, 0.17615612293415414, 0.6472907723527835, 0.7219226071768615, 0.5461592697029328, 0.5461592697029328, 0.6472734479720137, 0.7219234190835786, 0.7216879214839513, 0.26654094762835295, 0.5330818952567059, 0.26654094762835295, 0.699941151611324, 0.7546607509868881, 0.31787912016045794, 0.6357582403209159, 0.7809104715145609, 0.39045523575728047, 0.45483758211838393, 0.45483758211838393, 0.4415025950626862, 0.4415025950626862, 0.7636759879940053, 0.6999237036542147, 0.5516182365875409, 0.5516182365875409, 0.7546630500289978, 0.34583351011074465, 0.6916670202214893, 0.34583351011074465, 0.2439093078294093, 0.36586396174411395, 0.12195465391470466, 0.2439093078294093, 0.4088584958955159, 0.8177169917910319, 0.7345519383358166, 0.546158525066638, 0.546158525066638, 0.44152068615071155, 0.44152068615071155, 0.40905546385447966, 0.20452773192723983, 0.20452773192723983, 0.20452773192723983, 0.5705097109103966, 0.6472734396494121, 0.6472732284155804, 0.7546638720007903, 1.0923098446979709, 0.5609183085113529, 0.5609183085113529, 0.3615037022943218, 0.3615037022943218, 0.6999229386863909, 1.0481536416194355, 0.18996986660103937, 0.37993973320207874, 0.18996986660103937, 0.18996986660103937, 0.16228185585127938, 0.32456371170255877, 0.4868455675538381, 0.16228185585127938, 0.5621940486150779, 0.28109702430753897, 0.28109702430753897, 0.271643026606422, 0.271643026606422, 0.271643026606422, 0.335176666913967, 0.670353333827934, 1.0782712479204466, 0.5426814225432692, 1.047790060155591, 0.7345677076398839, 0.6003805995358962, 0.20012686651196537, 0.20012686651196537, 0.7219202236883504, 0.6472760437225942, 0.5049132058921325, 0.12622830147303313, 0.12622830147303313, 0.25245660294606626, 0.12622830147303313, 0.6472738593720675, 0.7345283107208203, 0.7546628065397344, 0.7219203037957346, 0.7345643061973076, 0.754663582270432, 0.6999211922187393, 0.6999238893099665, 0.845328113619683, 0.4226640568098415, 0.7546355344457135, 0.7807254977368252, 0.3903627488684126, 1.0923094235635933, 0.420081243275771, 0.420081243275771, 0.19691673902256962, 0.39383347804513924, 0.19691673902256962, 0.19691673902256962, 0.19691673902256962, 0.5609200017361239, 0.5609200017361239, 0.6999234936802674, 0.7189813481742773, 0.35949067408713864, 0.35949067408713864, 0.5516187115102921, 0.5516187115102921, 0.5609187200608837, 0.5609187200608837, 0.5061365466590949, 0.25306827332954746, 0.25306827332954746, 0.25306827332954746, 0.6472779369011836, 0.42641078979993857, 0.42641078979993857, 0.2105853551486349, 0.4211707102972698, 0.2105853551486349, 0.2105853551486349, 0.44203808430364155, 0.44203808430364155, 0.44203808430364155, 0.6999220462416528, 0.22830133207496478, 0.6849039962248943, 1.0480657722832678, 0.7020673998552343, 0.7345398468402021, 0.5589863810009869, 0.2794931905004934, 0.44797522387951516, 0.44797522387951516, 0.7219238766414954, 0.558970457298318, 0.558970457298318, 0.1555464173338834, 0.6221856693355337, 0.1555464173338834, 1.0923091332457244, 0.6472715378904565, 0.7219218392343191, 0.34440777723568405, 0.6888155544713681, 0.34440777723568405, 0.31072570497725427, 0.6214514099545085, 0.31072570497725427, 1.1143721710873942, 0.5932110602484834, 0.31942134013379875, 0.045631620019114104, 0.045631620019114104, 0.5497442912731189, 0.5497442912731189, 0.6555046557112336, 0.1638761639278084, 0.1638761639278084, 0.44203885825443257, 0.44203885825443257, 0.44203885825443257, 0.754613572760221, 0.9603480462974167, 0.6999674170143046, 1.0923090614106004, 0.7546627560153677, 0.23938286577700169, 0.23938286577700169, 0.23938286577700169, 0.23938286577700169, 0.7219213776559154, 0.7219207183668309, 0.2613826863111266, 0.2613826863111266, 0.2613826863111266, 0.2613826863111266, 0.17188289883638685, 0.17188289883638685, 0.5156486965091606, 0.08594144941819343, 0.4369220887419738, 0.4369220887419738, 1.0782698841887977, 0.42649068333012397, 0.42649068333012397, 0.8453166474458848, 0.4226583237229424, 0.553340709536799, 1.0923093226778153, 0.7336845226729868, 1.0782706837139038, 0.42648161915043925, 0.42648161915043925, 1.0481430841490698, 0.7219212147075975, 0.6999225178646092, 0.5541543189093127, 0.5541543189093127, 0.4928767833587686, 0.4928767833587686, 0.6472732982079422, 1.0923096690464111, 0.5516193158297361, 0.5516193158297361, 0.3692729714330484, 0.3692729714330484, 0.3692729714330484, 0.3692729714330484, 0.5076121007278944, 0.2538060503639472, 0.2538060503639472, 0.4369199092698964, 0.4369199092698964, 1.0782701747916406, 0.6472771245195031, 0.6472730675351737, 0.6472715765089347, 0.3533738341747956, 0.3533738341747956, 0.3533738341747956, 0.3533738341747956, 0.9484209275200728, 0.5248769218400358, 0.6472715968774239, 0.728194055347202, 0.364097027673601, 0.24264310086672625, 0.24264310086672625, 0.24264310086672625, 0.24264310086672625, 0.6078880748876446, 0.20262935829588155, 0.20262935829588155, 0.20262935829588155, 0.5432446821452048, 0.5432446821452048, 0.2943403928209426, 0.2943403928209426, 0.2943403928209426, 0.8496023716095774, 0.4248011858047887, 0.3496557107863253, 0.3496557107863253, 0.3496557107863253, 0.9603297506011892, 0.8250023342100824, 0.2750007780700275, 1.1143722934133293, 0.7345662206622181, 0.27565377135866265, 0.5513075427173253, 1.0782697485554245, 0.960348829786899, 0.5516193134199715, 0.5516193134199715, 0.5200985896677067, 0.5200985896677067, 0.7873063591641204, 0.3936531795820602, 0.7873008184480071, 0.3936504092240036, 0.5200934365130045, 0.5200934365130045, 0.20076771672582733, 0.20076771672582733, 0.40153543345165466, 0.40153543345165466, 0.5705097710667031, 1.0923099359576347, 0.4923553004750683, 0.2580304750005621, 0.5160609500011242, 1.1143721734538408, 1.0923097050335238, 0.44438195266040764, 0.44438195266040764, 0.44438195266040764, 0.4372250493846379, 0.2914833662564253, 0.14574168312821265, 0.14574168312821265, 0.7345643463810003, 0.7345647350516668, 0.5541526198143383, 0.5541526198143383, 1.114372092933145, 0.7546640272396979, 0.3056093038746591, 0.3056093038746591, 0.3056093038746591, 0.3142672784799498, 0.3142672784799498, 0.3142672784799498, 0.960330165224866, 0.6472760986372788, 0.699926124782332, 1.114372248017321, 0.7546631323558164, 0.25725216908412096, 0.771756507252363, 0.6472773184785551, 0.8527075605536524, 0.2131768901384131, 0.3734062152568605, 0.3734062152568605, 0.3734062152568605, 0.4474558519410502, 0.4474558519410502, 0.7219206662303285, 0.26785281971901975, 0.26785281971901975, 0.26785281971901975, 0.26785281971901975, 0.26785281971901975, 0.36020225252627563, 0.36020225252627563, 0.36020225252627563, 0.7345652849868218, 0.2137283906830224, 0.2137283906830224, 0.6411851720490672, 0.8453187073741071, 0.42265935368705354, 0.4155244879105061, 0.20776224395525306, 0.20776224395525306, 0.7219212168958672, 0.7340395784206848, 0.7546626251471036, 0.24453612632871277, 0.24453612632871277, 0.48907225265742554, 0.472026626359825, 0.31468441757321663, 0.15734220878660832, 0.15734220878660832, 0.15734220878660832, 0.1667029976168218, 0.1667029976168218, 0.3334059952336436, 0.1667029976168218, 0.1667029976168218, 0.2753728339848397, 0.4130592509772595, 0.13768641699241985], \"Term\": [\"accept\", \"active\", \"active\", \"airline\", \"airline\", \"airport\", \"allow\", \"allow\", \"allow\", \"allow\", \"asset\", \"attack\", \"attorney\", \"attorney\", \"ban\", \"ban\", \"base\", \"base\", \"bath\", \"bird\", \"block\", \"body\", \"body\", \"business\", \"business\", \"business\", \"business\", \"cabin\", \"card\", \"care\", \"career\", \"career\", \"case\", \"case\", \"case\", \"case\", \"cases_singapore\", \"cause\", \"challenge\", \"chinese\", \"chinese\", \"chinese\", \"choice\", \"choice\", \"church\", \"cluster\", \"cocoa\", \"coinbase\", \"come\", \"come\", \"come\", \"comment\", \"comment\", \"commonly\", \"communicable\", \"community\", \"community\", \"community\", \"condition\", \"confirm\", \"conversation\", \"corruption\", \"country\", \"country\", \"country\", \"country\", \"couple\", \"cybersecurity\", \"daily\", \"daily\", \"day\", \"day\", \"day\", \"day\", \"dead\", \"death\", \"death\", \"death\", \"death\", \"decade\", \"develop\", \"develop\", \"developer\", \"die\", \"directly\", \"disease\", \"disease\", \"dish\", \"dog\", \"dog\", \"domestic\", \"domestic\", \"door\", \"dose\", \"dose\", \"dose\", \"dose\", \"dose\", \"drink\", \"drive\", \"drug\", \"drug\", \"earth\", \"eat\", \"eligible\", \"end\", \"end\", \"end\", \"exclusively\", \"exercise\", \"expert\", \"expert\", \"explosion\", \"explosion\", \"family\", \"family\", \"fan\", \"fan\", \"far\", \"fatality\", \"fear\", \"fear\", \"fentanyl\", \"film\", \"film\", \"film\", \"find\", \"find\", \"find\", \"find\", \"fire\", \"fire\", \"flight\", \"focus\", \"focus\", \"food\", \"food\", \"force\", \"force\", \"force\", \"force\", \"foreign\", \"freedom\", \"furious\", \"generation\", \"genital\", \"girl\", \"girl\", \"good\", \"good\", \"gun\", \"half\", \"help\", \"help\", \"help\", \"help\", \"high\", \"high\", \"high\", \"high\", \"hit\", \"hit\", \"hit\", \"hold\", \"hold\", \"hold\", \"home\", \"home\", \"hop\", \"human\", \"husband\", \"immunity\", \"include\", \"include\", \"include\", \"increase\", \"indian\", \"infection\", \"infection\", \"infection\", \"infection\", \"infection\", \"inform\", \"informal\", \"intelligence\", \"interest\", \"internet\", \"investor\", \"isiss\", \"isolate\", \"issue\", \"issue\", \"job\", \"join\", \"join\", \"jump\", \"kill\", \"kill\", \"know\", \"know\", \"know\", \"know\", \"know\", \"land\", \"land\", \"language\", \"large\", \"large\", \"large\", \"lead\", \"lead\", \"leader\", \"leader\", \"leave\", \"leave\", \"leave\", \"leave\", \"legal\", \"level\", \"level\", \"life\", \"life\", \"life\", \"life\", \"likely\", \"likely\", \"likely\", \"lineage\", \"look\", \"look\", \"low\", \"maintain\", \"male\", \"man\", \"man\", \"meet\", \"meet\", \"menu\", \"mild\", \"mild\", \"month\", \"month\", \"month\", \"multi\", \"multiple\", \"murder\", \"mutation\", \"mutation\", \"mutation\", \"need\", \"need\", \"need\", \"netease\", \"new\", \"new\", \"new\", \"new\", \"officer\", \"officer\", \"official\", \"official\", \"official\", \"online\", \"online\", \"online\", \"operation\", \"order\", \"outbreak\", \"outside\", \"overall\", \"pandemic\", \"pandemic\", \"pandemic\", \"pandemic\", \"parliament\", \"particular\", \"pass\", \"pass\", \"pass\", \"pass\", \"people\", \"people\", \"people\", \"people\", \"period\", \"period\", \"pigeon\", \"plan\", \"plan\", \"plane\", \"plane\", \"pose\", \"potential\", \"powerful\", \"pre\", \"previous\", \"previous\", \"private\", \"protect\", \"prove\", \"provide\", \"provide\", \"public\", \"public\", \"rape\", \"read\", \"real\", \"real\", \"receive\", \"receive\", \"receive\", \"receive\", \"record\", \"record\", \"record\", \"reduce\", \"reduce\", \"refusal\", \"refuse\", \"regulatory\", \"related\", \"remain\", \"remain\", \"remain\", \"remain\", \"report\", \"research\", \"rich\", \"right\", \"right\", \"risk\", \"risk\", \"risk\", \"risk\", \"rule\", \"rule\", \"rule\", \"rule\", \"sale\", \"sale\", \"scientist\", \"scientist\", \"scientist\", \"sell\", \"sell\", \"set\", \"set\", \"set\", \"sexual\", \"share\", \"share\", \"shed\", \"shortly\", \"singapore\", \"singapore\", \"smoothie\", \"soon\", \"spend\", \"spend\", \"spokesman\", \"spokesman\", \"spread\", \"spread\", \"staff\", \"staff\", \"stage\", \"stage\", \"start\", \"start\", \"start\", \"start\", \"status\", \"stellar\", \"strike\", \"study\", \"study\", \"tencent\", \"tennis\", \"thing\", \"thing\", \"thing\", \"time\", \"time\", \"time\", \"time\", \"touch\", \"tourist\", \"traffic\", \"traffic\", \"train\", \"transmission\", \"trial\", \"trial\", \"trial\", \"try\", \"try\", \"try\", \"typical\", \"unafraid\", \"unclear\", \"unearth\", \"unit\", \"unlinked\", \"unlinked\", \"unmasked\", \"update\", \"update\", \"vaccinate\", \"vaccinate\", \"vaccinate\", \"vaccinated\", \"vaccinated\", \"version\", \"video\", \"video\", \"video\", \"video\", \"video\", \"want\", \"want\", \"want\", \"warning\", \"watch\", \"watch\", \"watch\", \"water\", \"water\", \"week\", \"week\", \"week\", \"weibo\", \"wife\", \"wildlife\", \"woman\", \"woman\", \"woman\", \"work\", \"work\", \"work\", \"work\", \"work\", \"world\", \"world\", \"world\", \"world\", \"world\", \"year\", \"year\", \"year\"]}, \"R\": 30, \"lambda.step\": 0.01, \"plot.opts\": {\"xlab\": \"PC1\", \"ylab\": \"PC2\"}, \"topic.order\": [4, 3, 1, 5, 2]};\n",
       "\n",
       "function LDAvis_load_lib(url, callback){\n",
       "  var s = document.createElement('script');\n",
       "  s.src = url;\n",
       "  s.async = true;\n",
       "  s.onreadystatechange = s.onload = callback;\n",
       "  s.onerror = function(){console.warn(\"failed to load library \" + url);};\n",
       "  document.getElementsByTagName(\"head\")[0].appendChild(s);\n",
       "}\n",
       "\n",
       "if(typeof(LDAvis) !== \"undefined\"){\n",
       "   // already loaded: just create the visualization\n",
       "   !function(LDAvis){\n",
       "       new LDAvis(\"#\" + \"ldavis_el6895140727092591408729014922\", ldavis_el6895140727092591408729014922_data);\n",
       "   }(LDAvis);\n",
       "}else if(typeof define === \"function\" && define.amd){\n",
       "   // require.js is available: use it to load d3/LDAvis\n",
       "   require.config({paths: {d3: \"https://d3js.org/d3.v5\"}});\n",
       "   require([\"d3\"], function(d3){\n",
       "      window.d3 = d3;\n",
       "      LDAvis_load_lib(\"https://cdn.jsdelivr.net/gh/bmabey/pyLDAvis@3.3.1/pyLDAvis/js/ldavis.v3.0.0.js\", function(){\n",
       "        new LDAvis(\"#\" + \"ldavis_el6895140727092591408729014922\", ldavis_el6895140727092591408729014922_data);\n",
       "      });\n",
       "    });\n",
       "}else{\n",
       "    // require.js not available: dynamically load d3 & LDAvis\n",
       "    LDAvis_load_lib(\"https://d3js.org/d3.v5.js\", function(){\n",
       "         LDAvis_load_lib(\"https://cdn.jsdelivr.net/gh/bmabey/pyLDAvis@3.3.1/pyLDAvis/js/ldavis.v3.0.0.js\", function(){\n",
       "                 new LDAvis(\"#\" + \"ldavis_el6895140727092591408729014922\", ldavis_el6895140727092591408729014922_data);\n",
       "            })\n",
       "         });\n",
       "}\n",
       "</script>"
      ],
      "text/plain": [
       "PreparedData(topic_coordinates=              x         y  topics  cluster       Freq\n",
       "topic                                                \n",
       "3     -0.102967 -0.039858       1        1  26.176475\n",
       "2     -0.021536  0.085232       2        1  20.611209\n",
       "0      0.031661  0.015269       3        1  18.770303\n",
       "4      0.045362 -0.060201       4        1  17.857622\n",
       "1      0.047480 -0.000442       5        1  16.584392, topic_info=         Term       Freq      Total Category  logprob  loglift\n",
       "62        new  21.000000  21.000000  Default  30.0000  30.0000\n",
       "1308     case  12.000000  12.000000  Default  29.0000  29.0000\n",
       "370    people  11.000000  11.000000  Default  28.0000  28.0000\n",
       "1108  cluster   5.000000   5.000000  Default  27.0000  27.0000\n",
       "2368      die   5.000000   5.000000  Default  26.0000  26.0000\n",
       "...       ...        ...        ...      ...      ...      ...\n",
       "112    online   0.940914   2.262245   Topic5  -6.0717   0.9194\n",
       "838   receive   0.940910   2.708024   Topic5  -6.0717   0.7396\n",
       "2723     base   0.940906   1.862619   Topic5  -6.0717   1.1138\n",
       "508   traffic   0.940905   1.804557   Topic5  -6.0717   1.1455\n",
       "942    likely   0.940904   2.262249   Topic5  -6.0717   0.9194\n",
       "\n",
       "[305 rows x 6 columns], token_table=      Topic      Freq     Term\n",
       "term                          \n",
       "1776      5  0.570510   accept\n",
       "1136      1  0.416930   active\n",
       "1136      5  0.416930   active\n",
       "1558      3  0.439196  airline\n",
       "1558      4  0.439196  airline\n",
       "...     ...       ...      ...\n",
       "510       4  0.166703    world\n",
       "510       5  0.166703    world\n",
       "220       2  0.275373     year\n",
       "220       4  0.413059     year\n",
       "220       5  0.137686     year\n",
       "\n",
       "[449 rows x 3 columns], R=30, lambda_step=0.01, plot_opts={'xlab': 'PC1', 'ylab': 'PC2'}, topic_order=[4, 3, 1, 5, 2])"
      ]
     },
     "execution_count": 65,
     "metadata": {},
     "output_type": "execute_result"
    },
    {
     "name": "stderr",
     "output_type": "stream",
     "text": [
      "/Users/anshu/opt/anaconda3/lib/python3.8/site-packages/past/builtins/misc.py:45: DeprecationWarning: the imp module is deprecated in favour of importlib; see the module's documentation for alternative uses\n",
      "  from imp import reload\n",
      "/Users/anshu/opt/anaconda3/lib/python3.8/site-packages/past/builtins/misc.py:45: DeprecationWarning: the imp module is deprecated in favour of importlib; see the module's documentation for alternative uses\n",
      "  from imp import reload\n",
      "/Users/anshu/opt/anaconda3/lib/python3.8/site-packages/past/builtins/misc.py:45: DeprecationWarning: the imp module is deprecated in favour of importlib; see the module's documentation for alternative uses\n",
      "  from imp import reload\n",
      "/Users/anshu/opt/anaconda3/lib/python3.8/site-packages/past/builtins/misc.py:45: DeprecationWarning: the imp module is deprecated in favour of importlib; see the module's documentation for alternative uses\n",
      "  from imp import reload\n",
      "/Users/anshu/opt/anaconda3/lib/python3.8/site-packages/past/builtins/misc.py:45: DeprecationWarning: the imp module is deprecated in favour of importlib; see the module's documentation for alternative uses\n",
      "  from imp import reload\n",
      "/Users/anshu/opt/anaconda3/lib/python3.8/site-packages/past/builtins/misc.py:45: DeprecationWarning: the imp module is deprecated in favour of importlib; see the module's documentation for alternative uses\n",
      "  from imp import reload\n",
      "/Users/anshu/opt/anaconda3/lib/python3.8/site-packages/past/builtins/misc.py:45: DeprecationWarning: the imp module is deprecated in favour of importlib; see the module's documentation for alternative uses\n",
      "  from imp import reload\n",
      "/Users/anshu/opt/anaconda3/lib/python3.8/site-packages/past/builtins/misc.py:45: DeprecationWarning: the imp module is deprecated in favour of importlib; see the module's documentation for alternative uses\n",
      "  from imp import reload\n"
     ]
    }
   ],
   "source": [
    "pyLDAvis.enable_notebook()\n",
    "vis = gensimvis.prepare(lda_model, corpus, id2word)\n",
    "vis"
   ]
  },
  {
   "cell_type": "code",
   "execution_count": 60,
   "metadata": {},
   "outputs": [
    {
     "name": "stdout",
     "output_type": "stream",
     "text": [
      "[['case', 'new', 'report', 'cluster', 'surge', 'infection', 'local', 'death', 'link', 'include'], ['pandemic', 'case', 'rise', 'people', 'visit', 'home', 'state', 'allow', 'risk', 'start'], ['case', 'travel', 'lockdown', 'test', 'new', 'time', 'positive', 'football', 'rise', 'week'], ['new', 'report', 'case', 'infection', 'test', 'defend', 'pandemic', 'backstroke', 'crown', 'cluster', 'singapore'], ['commentary', 'singapore', 'hit', 'pandemic', 'game', 'economy', 'protest', 'booster', 'grow', 'fire']]\n"
     ]
    }
   ],
   "source": [
    "from gensim.parsing.preprocessing import preprocess_string, strip_punctuation,strip_numeric\n",
    "\n",
    "lda_topics = lda_model.show_topics()\n",
    "\n",
    "topics = []\n",
    "filters = [lambda x: x.lower(), strip_punctuation, strip_numeric]\n",
    "\n",
    "for topic in lda_topics:\n",
    "#     print(topic)\n",
    "    topics.append(preprocess_string(topic[1], filters))\n",
    "\n",
    "print(topics)\n"
   ]
  },
  {
   "cell_type": "code",
   "execution_count": 689,
   "metadata": {},
   "outputs": [
    {
     "name": "stdout",
     "output_type": "stream",
     "text": [
      "0.041*\"country\" + 0.028*\"world\" + 0.015*\"police\" + 0.015*\"australian\" + 0.015*\"far\" + 0.015*\"crisis\" + 0.015*\"singapore\" + 0.015*\"response\" + 0.015*\"meeting\" + 0.015*\"lockdown\"\n",
      "0.046*\"vaccinated\" + 0.017*\"young\" + 0.017*\"delta\" + 0.017*\"test\" + 0.017*\"effort\" + 0.002*\"people\" + 0.002*\"day\" + 0.002*\"progress\" + 0.002*\"speak\" + 0.002*\"world\"\n",
      "0.042*\"chinese\" + 0.028*\"key\" + 0.015*\"delta\" + 0.015*\"open\" + 0.015*\"food\" + 0.015*\"peace\" + 0.015*\"embassy\" + 0.015*\"time\" + 0.015*\"low\" + 0.015*\"country\"\n",
      "0.035*\"state\" + 0.035*\"today\" + 0.024*\"fully\" + 0.024*\"lockdown\" + 0.024*\"https\" + 0.024*\"dose\" + 0.024*\"cross\" + 0.024*\"help\" + 0.013*\"office\" + 0.013*\"world\"\n",
      "0.032*\"way\" + 0.017*\"precaution\" + 0.017*\"death\" + 0.017*\"include\" + 0.002*\"progress\" + 0.002*\"vaccinated\" + 0.002*\"people\" + 0.002*\"speak\" + 0.002*\"chinese\" + 0.002*\"arrive\"\n",
      "0.073*\"people\" + 0.049*\"day\" + 0.025*\"new\" + 0.013*\"vaccinated\" + 0.013*\"time\" + 0.013*\"pfizer\" + 0.013*\"shot\" + 0.013*\"stand\" + 0.013*\"hospital\" + 0.013*\"member\"\n",
      "0.030*\"arrive\" + 0.030*\"speak\" + 0.016*\"open\" + 0.016*\"million\" + 0.016*\"agency\" + 0.016*\"group\" + 0.016*\"new\" + 0.002*\"vaccinated\" + 0.002*\"day\" + 0.002*\"people\"\n"
     ]
    }
   ],
   "source": [
    "for i in range(0, lda_model.num_topics-1):\n",
    "    print(lda_model.print_topic(i))"
   ]
  },
  {
   "cell_type": "code",
   "execution_count": null,
   "metadata": {},
   "outputs": [],
   "source": []
  }
 ],
 "metadata": {
  "kernelspec": {
   "display_name": "Python 3 (ipykernel)",
   "language": "python",
   "name": "python3"
  },
  "language_info": {
   "codemirror_mode": {
    "name": "ipython",
    "version": 3
   },
   "file_extension": ".py",
   "mimetype": "text/x-python",
   "name": "python",
   "nbconvert_exporter": "python",
   "pygments_lexer": "ipython3",
   "version": "3.8.11"
  }
 },
 "nbformat": 4,
 "nbformat_minor": 4
}
