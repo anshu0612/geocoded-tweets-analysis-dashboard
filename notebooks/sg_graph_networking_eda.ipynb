{
 "cells": [
  {
   "cell_type": "markdown",
   "id": "743a8e48-846a-430c-b6e1-6dc0e102430e",
   "metadata": {},
   "source": [
    "# Networking graph analysis among twitter users \n",
    "\n",
    "Twitter users usually interact through replies, retweets, and quoted tweets. These interactions between the users are used for inferring the influential users and for community detection.  "
   ]
  },
  {
   "cell_type": "markdown",
   "id": "bd855e50-284e-427c-9a8a-847b73c7db46",
   "metadata": {},
   "source": [
    "### [Table of Contents](#cell2)\n",
    "\n",
    "* 1\\. [Creating interactions graph](#cell1)\n",
    "* 2\\.     - [Influential users using PageRank algorithm](#cell2)\n",
    "    * 2.1. [Visualizing the interactions graph](#cell21)\n",
    "* 3\\. [Community detection using Louvain algorithm](#cell3)\n",
    "    * 3.1. [Visualizing communities](#cell31)"
   ]
  },
  {
   "cell_type": "code",
   "execution_count": 33,
   "id": "4311e468-ab7a-47ea-8365-d8077c8ccfba",
   "metadata": {},
   "outputs": [],
   "source": [
    "import collections as col\n",
    "\n",
    "import numpy as np\n",
    "import pandas as pd\n",
    "\n",
    "# visualizations\n",
    "import plotly.express as px\n",
    "import plotly.graph_objects as go\n",
    "import matplotlib.pyplot as plt\n",
    "from plotly.offline import iplot, plot\n",
    "import matplotlib.cm as cm\n",
    "\n",
    "# graph analysis\n",
    "import networkx as nx\n",
    "import community as community_louvain"
   ]
  },
  {
   "cell_type": "code",
   "execution_count": 34,
   "id": "94837649-288a-4a66-ac24-62724757df73",
   "metadata": {},
   "outputs": [],
   "source": [
    "import warnings\n",
    "warnings.filterwarnings(\"ignore\")"
   ]
  },
  {
   "cell_type": "code",
   "execution_count": 35,
   "id": "aeada019-ac50-4db4-a97e-8370fa9177e9",
   "metadata": {},
   "outputs": [],
   "source": [
    "BASE_PATH = '/Users/anshu/Work/Code/rpm-v2/data/v2/'"
   ]
  },
  {
   "cell_type": "markdown",
   "id": "ab333f05-6885-4fdc-abed-12ab8cc15509",
   "metadata": {},
   "source": [
    "##### Loading the processed Singapore-based data "
   ]
  },
  {
   "cell_type": "code",
   "execution_count": 36,
   "id": "c52b00bd-6486-47fe-b1db-0db57c9a4758",
   "metadata": {},
   "outputs": [
    {
     "data": {
      "text/plain": [
       "(181423, 54)"
      ]
     },
     "execution_count": 36,
     "metadata": {},
     "output_type": "execute_result"
    }
   ],
   "source": [
    "sg_tweets = pd.read_csv(BASE_PATH + \"sg.csv\")\n",
    "sg_tweets.shape"
   ]
  },
  {
   "cell_type": "markdown",
   "id": "e68c2ac2-2ca3-4399-b1f7-8f5a08d28d12",
   "metadata": {},
   "source": [
    "## 1. Creating interactions graph <a id=\"cell1\"></a>\n",
    "##### A directed weighted graph of interactions - replies, retweets, and quoted tweets between the users. \n",
    "##### The weights denote the number of interactions between two users."
   ]
  },
  {
   "cell_type": "code",
   "execution_count": 37,
   "id": "56759a9b-aae3-4a08-a5f1-735f9d74f24d",
   "metadata": {},
   "outputs": [
    {
     "name": "stdout",
     "output_type": "stream",
     "text": [
      "Count unique SG users:  22531\n",
      "Count unique replied users:  10458\n",
      "Count unique retweeted users:  16999\n",
      "Count unique quoted users:  7647\n"
     ]
    }
   ],
   "source": [
    "sg_users = set() \n",
    "retweeted_users = set()\n",
    "quoted_users = set()\n",
    "replied_users = set()\n",
    "\n",
    "for u in sg_tweets['user_screenname_x']: # merged csvs created user_screenname_x and user_screenname_y\n",
    "    sg_users.add(u)\n",
    "print(\"Count unique SG users: \", len(sg_users))\n",
    "\n",
    "for u in sg_tweets[sg_tweets['replied_to_user_screenname'].notna()]['replied_to_user_screenname']: \n",
    "    if u == u:  replied_users.add(u)\n",
    "print(\"Count unique replied users: \", len(replied_users))\n",
    "\n",
    "for u in sg_tweets[sg_tweets['retweeted_user_screenname'].notna()]['retweeted_user_screenname']: \n",
    "    if u == u: retweeted_users.add(u)\n",
    "print(\"Count unique retweeted users: \", len(retweeted_users))\n",
    "\n",
    "for u in sg_tweets[sg_tweets['quoted_user_screenname'].notna()]['quoted_user_screenname']: \n",
    "    if u == u:  quoted_users.add(u)\n",
    "print(\"Count unique quoted users: \", len(quoted_users))"
   ]
  },
  {
   "cell_type": "code",
   "execution_count": 38,
   "id": "1ca530a1-2fa8-43e6-b11a-f7f2a8907fe0",
   "metadata": {},
   "outputs": [
    {
     "name": "stdout",
     "output_type": "stream",
     "text": [
      "49459 total unique interacting users\n"
     ]
    }
   ],
   "source": [
    "all_interacting_users = set.union(sg_users, replied_users, retweeted_users, quoted_users)\n",
    "print(\"{} total unique interacting users\".format(len(all_interacting_users)))"
   ]
  },
  {
   "cell_type": "code",
   "execution_count": 39,
   "id": "f8a52531-1749-4543-9d93-3bad10c7a8f4",
   "metadata": {},
   "outputs": [
    {
     "name": "stdout",
     "output_type": "stream",
     "text": [
      "1388 total unique common interacting users\n"
     ]
    }
   ],
   "source": [
    "common_interacting_users = set.intersection(sg_users, retweeted_users)\n",
    "print(\"{} total unique common interacting users\".format(len(common_interacting_users)))"
   ]
  },
  {
   "cell_type": "markdown",
   "id": "421bea5a-5f59-42a7-b444-6e7d46f746ff",
   "metadata": {},
   "source": [
    "### Creating directed graph with nodes, edges and weights \n",
    "\n",
    "Graph: Users' interaction through replies, retweets and quotes\n",
    "- Nodes: Username\n",
    "- Edge: From a user replying/retweeting/quoting to the author of the replyid/retweeted/quoted tweet\n",
    "- Weight: Number of interactions between any two users "
   ]
  },
  {
   "cell_type": "code",
   "execution_count": 40,
   "id": "27d2112f-8c48-4e5e-8ab4-ce247e7ca3a2",
   "metadata": {},
   "outputs": [],
   "source": [
    "G = nx.MultiDiGraph()\n",
    "G.add_nodes_from(all_interacting_users)\n",
    "\n",
    "interacting_edges = dict() # try set as well\n",
    "\n",
    "# replies interaction\n",
    "replies_sg = sg_tweets[sg_tweets['tweet_enagagement_type'] == 'Reply'][['user_screenname_x', 'replied_to_user_screenname']]\n",
    "for user, iuser in zip(replies_sg['user_screenname_x'], replies_sg['replied_to_user_screenname']):\n",
    "    if user and iuser and (user != iuser): \n",
    "        if (user, iuser,) in interacting_edges:\n",
    "            interacting_edges[(user, iuser,)] += 1\n",
    "        else:\n",
    "            interacting_edges[(user, iuser,)] = 1\n",
    "    \n",
    "# retweets interaction\n",
    "retweets_sg = sg_tweets[sg_tweets['tweet_enagagement_type'] == 'Retweet'][['user_screenname_x', 'retweeted_user_screenname']]\n",
    "for user, iuser in zip(retweets_sg['user_screenname_x'], retweets_sg['retweeted_user_screenname']):\n",
    "    if user and iuser and (user != iuser):  \n",
    "        if (user, iuser,) in interacting_edges:\n",
    "            interacting_edges[(user, iuser,)] += 1\n",
    "        else:\n",
    "            interacting_edges[(user, iuser,)] = 1\n",
    "        \n",
    "        \n",
    "# quotes interaction\n",
    "quotes_sg = sg_tweets[sg_tweets['tweet_enagagement_type'] == 'Quote'][['user_screenname_x', 'quoted_user_screenname']]\n",
    "for user, iuser in zip(quotes_sg['user_screenname_x'], quotes_sg['quoted_user_screenname']):\n",
    "    if user and iuser and (user != iuser):  \n",
    "        if (user, iuser,) in interacting_edges:\n",
    "            interacting_edges[(user, iuser,)] += 1\n",
    "        else:\n",
    "            interacting_edges[(user, iuser,)] = 1\n",
    "\n",
    "weighted_interacting_edges_ = set()\n",
    "for k, v in interacting_edges.items():\n",
    "    weighted_interacting_edges_.add(k + (v,))\n",
    "            \n",
    "G.add_weighted_edges_from(weighted_interacting_edges_)"
   ]
  },
  {
   "cell_type": "code",
   "execution_count": 41,
   "id": "9ac712a5-ee52-4ac6-9281-b04f711f1d3c",
   "metadata": {},
   "outputs": [
    {
     "name": "stdout",
     "output_type": "stream",
     "text": [
      "The maximum degree of the graph is 1350\n",
      "The minimum degree of the graph is 0\n",
      "There are 49460 nodes and 72608 edges present in the graph\n",
      "The average degree of the nodes in the graph is 2.936029114435908\n"
     ]
    }
   ],
   "source": [
    "degrees = [val for (node, val) in G.degree()]\n",
    "print(\"The maximum degree of the graph is \" + str(np.max(degrees))) \n",
    "print(\"The minimum degree of the graph is \" + str(np.min(degrees)))\n",
    "print(\"There are \" + str(G.number_of_nodes()) + \" nodes and \" + str(G.number_of_edges()) + \" edges present in the graph\")\n",
    "print(\"The average degree of the nodes in the graph is \" + str(np.mean(degrees)))"
   ]
  },
  {
   "cell_type": "markdown",
   "id": "86779bd1-acf0-445a-8c1e-7ee0d6a94e96",
   "metadata": {},
   "source": [
    "## 2. Influential users using PageRank algorithm <a id=\"cell2\"></a>\n",
    "#### Applied PageRanking on interactions graph to get the top 50 users"
   ]
  },
  {
   "cell_type": "code",
   "execution_count": 42,
   "id": "fd81ee07-f3d2-4189-88cb-2db67660492d",
   "metadata": {},
   "outputs": [],
   "source": [
    "ranked_users = nx.pagerank(G, 0.9)\n",
    "ranked_users = dict(sorted(ranked_users.items(), key=lambda item: item[1], reverse=True))"
   ]
  },
  {
   "cell_type": "markdown",
   "id": "f8f6015d-c597-4949-ac14-585c6516277e",
   "metadata": {},
   "source": [
    "##### Top influential users "
   ]
  },
  {
   "cell_type": "code",
   "execution_count": 43,
   "id": "10704971-831f-495f-885c-0a24aa396012",
   "metadata": {},
   "outputs": [
    {
     "data": {
      "text/plain": [
       "['ChannelNewsAsia',\n",
       " 'MothershipSG',\n",
       " 'straits_times',\n",
       " 'TODAYonline',\n",
       " 'STForeignDesk',\n",
       " 'JustinOngTODAY',\n",
       " 'leehsienloong',\n",
       " 'VP',\n",
       " 'MatthewMohanCNA',\n",
       " 'CherylLinCNA',\n",
       " 'AqilHaziqCNA',\n",
       " 'gayaCNA',\n",
       " 'historyogi',\n",
       " 'AlifAmsyarCNA',\n",
       " 'LinXuelingCNA',\n",
       " 'PichayadaCNA',\n",
       " 'in_transitiverb',\n",
       " 'sporeMOH',\n",
       " 'HweeMinCNA',\n",
       " 'lustfuldesirer',\n",
       " 'muttons',\n",
       " 'Tan_Hui_Yee',\n",
       " 'LeongWaiKitCNA',\n",
       " 'asonofapeach',\n",
       " 'VivianBala']"
      ]
     },
     "execution_count": 43,
     "metadata": {},
     "output_type": "execute_result"
    }
   ],
   "source": [
    "top_x = 50\n",
    "top_ranking = list(ranked_users)[:top_x]\n",
    "top_ranking[:25]"
   ]
  },
  {
   "cell_type": "markdown",
   "id": "b0e465f7-6db1-43dc-b0d0-a6c07e93f89e",
   "metadata": {},
   "source": [
    "#### Quality check of the ranking algorithm\n",
    "\n",
    "The number of verified users in the top X rankings as the quality check of the ranking algo.\n"
   ]
  },
  {
   "cell_type": "code",
   "execution_count": 44,
   "id": "5d2faa39-a72b-46fb-95cd-d18927705e91",
   "metadata": {},
   "outputs": [],
   "source": [
    "sg_verified_users =  sg_tweets[sg_tweets['user_verified'] == True]['user_screenname_x']\n",
    "rt_verified_users = sg_tweets[(sg_tweets['tweet_enagagement_type'] == 'Retweet') & (sg_tweets['retweeted_user_verified'] == True)]['retweeted_user_screenname']\n",
    "q_verified_users = sg_tweets[(sg_tweets['tweet_enagagement_type'] == 'Quote') & (sg_tweets['quoted_user_verified'] == True)]['quoted_user_screenname']    \n",
    "\n",
    "all_verified_users = set(list(sg_verified_users) + list(rt_verified_users) + list(q_verified_users))"
   ]
  },
  {
   "cell_type": "code",
   "execution_count": 45,
   "id": "088af3ff-29f5-46d9-86b2-35dedebbbe94",
   "metadata": {},
   "outputs": [
    {
     "name": "stdout",
     "output_type": "stream",
     "text": [
      "The number of verified users in the top 50 rankings - 70.0%\n"
     ]
    }
   ],
   "source": [
    "z = set(top_ranking).intersection(all_verified_users) \n",
    "print(\"The number of verified users in the top {} rankings - {}%\".format( top_x, len(z)/top_x*100))"
   ]
  },
  {
   "cell_type": "markdown",
   "id": "bb70df7a-e74c-40e6-aa49-bea9ebf6c2e1",
   "metadata": {},
   "source": [
    "### 2.1. Visualizing the interactions graph  <a id=\"cell21\"></a>\n",
    "\n"
   ]
  },
  {
   "cell_type": "markdown",
   "id": "22c0c6c0-e163-4c28-aed6-e536830bd406",
   "metadata": {},
   "source": [
    "#### Pruning the graph with low degree - Users who recieve low number of interactions "
   ]
  },
  {
   "cell_type": "code",
   "execution_count": 47,
   "id": "7ab46dc3-1d53-4b2a-87ae-b05710006f98",
   "metadata": {},
   "outputs": [],
   "source": [
    "G3 = G.copy() # creating a deep copy of the original graph "
   ]
  },
  {
   "cell_type": "code",
   "execution_count": 106,
   "id": "87f78b8d-589b-434b-ba05-97ba6aa5f985",
   "metadata": {},
   "outputs": [],
   "source": [
    "G = G3.copy()"
   ]
  },
  {
   "cell_type": "code",
   "execution_count": 107,
   "id": "1243cd79-fbee-46b7-92e4-db648e079b43",
   "metadata": {},
   "outputs": [
    {
     "name": "stdout",
     "output_type": "stream",
     "text": [
      "Number of users to be removed with degree less than 100: 49363\n"
     ]
    }
   ],
   "source": [
    "MIN_DEGREE_TO_HAVE = 100\n",
    "\n",
    "low_degree_nodes = [node for node, degree in dict(G.degree()).items() if degree < MIN_DEGREE_TO_HAVE]\n",
    "print(\"Number of users to be removed with degree less than {}: {}\".format( MIN_DEGREE_TO_HAVE, len(low_degree_nodes)))"
   ]
  },
  {
   "cell_type": "code",
   "execution_count": 108,
   "id": "5ade3920-bdaa-4dd2-9658-ec88f8767d01",
   "metadata": {},
   "outputs": [
    {
     "data": {
      "text/plain": [
       "(300, 97)"
      ]
     },
     "execution_count": 108,
     "metadata": {},
     "output_type": "execute_result"
    }
   ],
   "source": [
    "G.remove_nodes_from(low_degree_nodes)\n",
    "G.size(), G.order()"
   ]
  },
  {
   "cell_type": "markdown",
   "id": "f13b37e8-f5ee-40c7-9589-aa12d12d8482",
   "metadata": {},
   "source": [
    "#### Plotting the interactions graph with the Fruchterman-Reingold layout algorithm. "
   ]
  },
  {
   "cell_type": "code",
   "execution_count": 109,
   "id": "f74e8f92-476b-4927-a65f-d38f226e7869",
   "metadata": {},
   "outputs": [],
   "source": [
    "pos = nx.fruchterman_reingold_layout(G)"
   ]
  },
  {
   "cell_type": "code",
   "execution_count": 110,
   "id": "81aa3f3c-c80c-42b3-920f-114229a04194",
   "metadata": {},
   "outputs": [
    {
     "data": {
      "application/vnd.plotly.v1+json": {
       "config": {
        "linkText": "Export to plot.ly",
        "plotlyServerURL": "https://plot.ly",
        "showLink": false
       },
       "data": [
        {
         "hoverinfo": "none",
         "line": {
          "color": "grey",
          "width": 0.5
         },
         "mode": "lines",
         "type": "scatter",
         "x": [
          0.026715223411747677,
          -0.43241321938260774,
          null,
          0.026715223411747677,
          -0.5034836327835793,
          null,
          0.026715223411747677,
          0.5850733129380512,
          null,
          0.026715223411747677,
          0.19034699237828231,
          null,
          0.026715223411747677,
          -0.057828824024575745,
          null,
          -0.34308226729646624,
          0.9359430714803904,
          null,
          -0.34308226729646624,
          0.5303185915659341,
          null,
          -0.34308226729646624,
          0.19034699237828231,
          null,
          -0.34308226729646624,
          -0.1388782908903461,
          null,
          -0.34308226729646624,
          -0.9343872092902864,
          null,
          -0.34308226729646624,
          -0.5369522133283007,
          null,
          -0.34308226729646624,
          -0.9862922435686483,
          null,
          -0.34308226729646624,
          0.3187374641106666,
          null,
          -0.34308226729646624,
          0.8781507006334697,
          null,
          -0.34308226729646624,
          -0.5902147232368998,
          null,
          -0.34308226729646624,
          -0.23122025514121264,
          null,
          -0.34308226729646624,
          -0.057828824024575745,
          null,
          -0.29422369592297515,
          -0.1388782908903461,
          null,
          -0.29422369592297515,
          -0.3182550809087348,
          null,
          -0.29422369592297515,
          0.5850733129380512,
          null,
          -0.29422369592297515,
          -0.5902147232368998,
          null,
          -0.29422369592297515,
          -0.5034836327835793,
          null,
          -0.29422369592297515,
          0.12345131719974414,
          null,
          -0.29422369592297515,
          -0.057828824024575745,
          null,
          -0.29422369592297515,
          -0.2282182290507667,
          null,
          -0.29422369592297515,
          -0.9862922435686483,
          null,
          -0.25879926226643535,
          -0.057828824024575745,
          null,
          -0.25879926226643535,
          -0.1388782908903461,
          null,
          -0.25879926226643535,
          -0.8723220336084788,
          null,
          -0.25879926226643535,
          -0.3182550809087348,
          null,
          -0.25879926226643535,
          0.19034699237828231,
          null,
          -0.25879926226643535,
          0.5850733129380512,
          null,
          -0.25879926226643535,
          0.7034371231584802,
          null,
          -0.25879926226643535,
          -0.5034836327835793,
          null,
          -0.25879926226643535,
          0.026715223411747677,
          null,
          -0.25879926226643535,
          0.5065469398206618,
          null,
          -0.25879926226643535,
          -0.9862922435686483,
          null,
          -0.25879926226643535,
          -0.4464930596980242,
          null,
          -0.25879926226643535,
          0.9359430714803904,
          null,
          -0.25879926226643535,
          -0.5902147232368998,
          null,
          0.7671632730183011,
          0.9359430714803904,
          null,
          -0.243306869960073,
          -0.5034836327835793,
          null,
          -0.243306869960073,
          -0.5902147232368998,
          null,
          -0.243306869960073,
          -0.057828824024575745,
          null,
          -0.243306869960073,
          0.19034699237828231,
          null,
          -0.243306869960073,
          -0.9862922435686483,
          null,
          -0.243306869960073,
          -0.1388782908903461,
          null,
          -0.243306869960073,
          0.5303185915659341,
          null,
          -0.243306869960073,
          0.9359430714803904,
          null,
          -0.7124679804060172,
          -0.5902147232368998,
          null,
          -0.7124679804060172,
          -0.9343872092902864,
          null,
          0.06996128213611862,
          0.4847079461165997,
          null,
          0.06996128213611862,
          -0.34531645949429524,
          null,
          0.5303185915659341,
          0.5850733129380512,
          null,
          0.22979043336783417,
          -0.5034836327835793,
          null,
          0.22979043336783417,
          0.9359430714803904,
          null,
          0.22979043336783417,
          -0.9862922435686483,
          null,
          0.22979043336783417,
          0.5065469398206618,
          null,
          0.22979043336783417,
          -0.1388782908903461,
          null,
          0.06205082119317866,
          -0.3317969680987416,
          null,
          0.06205082119317866,
          0.9616382959421165,
          null,
          0.06205082119317866,
          -0.39528901217674517,
          null,
          0.06205082119317866,
          -0.9223339025832705,
          null,
          0.06205082119317866,
          0.6771558990847764,
          null,
          0.06205082119317866,
          -0.4505132283872187,
          null,
          0.06205082119317866,
          0.19042984043284364,
          null,
          0.06205082119317866,
          -0.9002624516200233,
          null,
          0.06205082119317866,
          0.7430263406046321,
          null,
          0.06205082119317866,
          0.12345131719974414,
          null,
          0.06205082119317866,
          -0.8067039849671483,
          null,
          0.06205082119317866,
          0.43678475471495176,
          null,
          0.06205082119317866,
          0.9746812229041726,
          null,
          0.06205082119317866,
          0.06996128213611862,
          null,
          0.06205082119317866,
          0.08017851313623031,
          null,
          0.06205082119317866,
          0.8030588811190521,
          null,
          0.06205082119317866,
          -0.8723220336084788,
          null,
          0.06205082119317866,
          -0.7392969374421798,
          null,
          0.06205082119317866,
          0.381235859680132,
          null,
          0.06205082119317866,
          -0.7470954012820484,
          null,
          0.06205082119317866,
          -0.2517542309725914,
          null,
          0.06205082119317866,
          0.8300647051427978,
          null,
          0.06205082119317866,
          -0.34531645949429524,
          null,
          0.06205082119317866,
          0.9013127895787941,
          null,
          0.06205082119317866,
          -0.781570576996671,
          null,
          0.06205082119317866,
          0.5209032891881832,
          null,
          0.06205082119317866,
          0.8970721311037636,
          null,
          0.06205082119317866,
          0.4847079461165997,
          null,
          0.06205082119317866,
          -0.811092065364155,
          null,
          0.06205082119317866,
          -0.9943573534012671,
          null,
          0.06205082119317866,
          0.897157980890865,
          null,
          0.06205082119317866,
          0.26636770784806885,
          null,
          0.06205082119317866,
          0.8089637636560956,
          null,
          -0.43241321938260774,
          0.5850733129380512,
          null,
          -0.43241321938260774,
          -0.9343872092902864,
          null,
          -0.43241321938260774,
          0.026715223411747677,
          null,
          -0.43241321938260774,
          -0.9862922435686483,
          null,
          -0.43241321938260774,
          -0.1388782908903461,
          null,
          -0.43241321938260774,
          -0.5902147232368998,
          null,
          0.6539687098935664,
          0.8781507006334697,
          null,
          -0.2231886071662382,
          -0.026807010071978523,
          null,
          -0.2231886071662382,
          -0.8723220336084788,
          null,
          -0.2231886071662382,
          0.014687094358334676,
          null,
          -0.32422172364410295,
          0.8781507006334697,
          null,
          -0.32422172364410295,
          0.22979043336783417,
          null,
          -0.32422172364410295,
          -0.9862922435686483,
          null,
          -0.7187587979482336,
          -0.9862922435686483,
          null,
          -0.7187587979482336,
          -0.7992192619229714,
          null,
          -0.07502661327168576,
          -0.1388782908903461,
          null,
          -0.07502661327168576,
          -0.8723220336084788,
          null,
          -0.07502661327168576,
          0.5850733129380512,
          null,
          -0.07502661327168576,
          0.8781507006334697,
          null,
          -0.11114417911700078,
          0.5065469398206618,
          null,
          -0.11114417911700078,
          0.9013127895787941,
          null,
          -0.11114417911700078,
          -0.8723220336084788,
          null,
          -0.11114417911700078,
          -0.9343872092902864,
          null,
          -0.11114417911700078,
          -0.9862922435686483,
          null,
          -0.11114417911700078,
          -0.5902147232368998,
          null,
          -0.11114417911700078,
          0.5303185915659341,
          null,
          -0.11114417911700078,
          -0.1388782908903461,
          null,
          -0.11114417911700078,
          -0.5034836327835793,
          null,
          -0.11114417911700078,
          0.7034371231584802,
          null,
          -0.11114417911700078,
          -0.9002624516200233,
          null,
          -0.11114417911700078,
          0.08017851313623031,
          null,
          -0.11114417911700078,
          0.9359430714803904,
          null,
          -0.11114417911700078,
          -0.7992192619229714,
          null,
          -0.11114417911700078,
          0.014687094358334676,
          null,
          -0.11114417911700078,
          0.5850733129380512,
          null,
          0.04299816424585135,
          0.43678475471495176,
          null,
          0.04299816424585135,
          0.8030588811190521,
          null,
          0.04299816424585135,
          -0.9002624516200233,
          null,
          0.04299816424585135,
          -0.9223339025832705,
          null,
          0.04299816424585135,
          -0.6602551221721367,
          null,
          0.04299816424585135,
          -0.811092065364155,
          null,
          0.04299816424585135,
          -0.781570576996671,
          null,
          0.04299816424585135,
          0.08017851313623031,
          null,
          0.04299816424585135,
          0.06996128213611862,
          null,
          0.04299816424585135,
          0.5209032891881832,
          null,
          0.04299816424585135,
          0.9048633779946412,
          null,
          0.04299816424585135,
          0.19042984043284364,
          null,
          0.04299816424585135,
          -0.4225052851332562,
          null,
          0.04299816424585135,
          0.8089637636560956,
          null,
          0.04299816424585135,
          0.26636770784806885,
          null,
          0.04299816424585135,
          0.897157980890865,
          null,
          0.04299816424585135,
          0.6771558990847764,
          null,
          0.04299816424585135,
          -0.2517542309725914,
          null,
          0.04299816424585135,
          0.12345131719974414,
          null,
          0.04299816424585135,
          -0.34531645949429524,
          null,
          0.04299816424585135,
          -0.9294252711054771,
          null,
          0.04299816424585135,
          0.4847079461165997,
          null,
          0.04299816424585135,
          -0.7392969374421798,
          null,
          0.04299816424585135,
          0.9013127895787941,
          null,
          0.04299816424585135,
          0.381235859680132,
          null,
          0.04299816424585135,
          -0.4505132283872187,
          null,
          0.04299816424585135,
          -0.9943573534012671,
          null,
          0.04299816424585135,
          0.06205082119317866,
          null,
          0.04299816424585135,
          -0.3317969680987416,
          null,
          0.04299816424585135,
          0.8970721311037636,
          null,
          0.04299816424585135,
          -0.39528901217674517,
          null,
          -0.2501869000778689,
          -0.9862922435686483,
          null,
          -0.2501869000778689,
          0.5850733129380512,
          null,
          -0.2501869000778689,
          -0.9343872092902864,
          null,
          -0.2501869000778689,
          -0.7992192619229714,
          null,
          -0.2501869000778689,
          -0.8723220336084788,
          null,
          -0.5369522133283007,
          -0.1388782908903461,
          null,
          -0.5369522133283007,
          -0.9343872092902864,
          null,
          0.5662258099298352,
          0.6539687098935664,
          null,
          0.5065469398206618,
          0.5850733129380512,
          null,
          -0.1090278769948579,
          -0.8723220336084788,
          null,
          -0.1090278769948579,
          0.8781507006334697,
          null,
          -0.1090278769948579,
          -0.9862922435686483,
          null,
          -0.1090278769948579,
          -0.5902147232368998,
          null,
          -0.1090278769948579,
          0.7034371231584802,
          null,
          -0.1090278769948579,
          -0.1388782908903461,
          null,
          0.4436661012614138,
          0.5850733129380512,
          null,
          -0.3182550809087348,
          -0.8723220336084788,
          null,
          -0.3182550809087348,
          -0.057828824024575745,
          null,
          -0.3182550809087348,
          0.7034371231584802,
          null,
          -0.3182550809087348,
          0.7430263406046321,
          null,
          -0.3182550809087348,
          0.19034699237828231,
          null,
          -0.3182550809087348,
          -0.1388782908903461,
          null,
          -0.3182550809087348,
          -0.5034836327835793,
          null,
          -0.3182550809087348,
          0.5303185915659341,
          null,
          -0.3182550809087348,
          -0.9862922435686483,
          null,
          -0.3182550809087348,
          -0.24040761575768707,
          null,
          -0.3182550809087348,
          0.5065469398206618,
          null,
          -0.3182550809087348,
          -0.5902147232368998,
          null,
          -0.3182550809087348,
          0.9359430714803904,
          null,
          -0.3182550809087348,
          -0.9343872092902864,
          null,
          -0.2282182290507667,
          0.5850733129380512,
          null,
          -0.2282182290507667,
          -0.057828824024575745,
          null,
          -0.2282182290507667,
          -0.9862922435686483,
          null,
          -0.2282182290507667,
          -0.4505132283872187,
          null,
          -0.4464930596980242,
          0.8781507006334697,
          null,
          -0.4464930596980242,
          0.026715223411747677,
          null,
          -0.4464930596980242,
          -0.9862922435686483,
          null,
          -0.4464930596980242,
          -0.8723220336084788,
          null,
          -0.4464930596980242,
          -0.5369522133283007,
          null,
          -0.4464930596980242,
          -0.25879926226643535,
          null,
          -0.4464930596980242,
          -0.1388782908903461,
          null,
          -0.4464930596980242,
          -0.5902147232368998,
          null,
          -0.4464930596980242,
          -0.9343872092902864,
          null,
          -0.4464930596980242,
          -0.5034836327835793,
          null,
          -0.4464930596980242,
          -0.2282182290507667,
          null,
          -0.4464930596980242,
          -0.057828824024575745,
          null,
          -0.021009701590570893,
          0.9746812229041726,
          null,
          -0.021009701590570893,
          -0.34531645949429524,
          null,
          -0.021009701590570893,
          -0.781570576996671,
          null,
          -0.021009701590570893,
          0.43678475471495176,
          null,
          -0.021009701590570893,
          0.5209032891881832,
          null,
          -0.021009701590570893,
          -0.4225052851332562,
          null,
          -0.021009701590570893,
          0.26636770784806885,
          null,
          -0.021009701590570893,
          -0.811092065364155,
          null,
          -0.021009701590570893,
          -0.39528901217674517,
          null,
          -0.021009701590570893,
          0.381235859680132,
          null,
          -0.021009701590570893,
          0.9013127895787941,
          null,
          -0.021009701590570893,
          -0.7470954012820484,
          null,
          -0.021009701590570893,
          -0.7597882200125805,
          null,
          -0.021009701590570893,
          0.06205082119317866,
          null,
          -0.021009701590570893,
          0.06996128213611862,
          null,
          -0.021009701590570893,
          0.19042984043284364,
          null,
          -0.021009701590570893,
          0.8970721311037636,
          null,
          -0.021009701590570893,
          -0.9294252711054771,
          null,
          -0.021009701590570893,
          0.8089637636560956,
          null,
          -0.021009701590570893,
          0.9048633779946412,
          null,
          -0.021009701590570893,
          -0.9002624516200233,
          null,
          -0.021009701590570893,
          -0.7392969374421798,
          null,
          -0.021009701590570893,
          -0.8067039849671483,
          null,
          -0.021009701590570893,
          0.12345131719974414,
          null,
          -0.021009701590570893,
          -0.6602551221721367,
          null,
          -0.021009701590570893,
          0.9616382959421165,
          null,
          -0.021009701590570893,
          -0.3317969680987416,
          null,
          -0.021009701590570893,
          0.08017851313623031,
          null,
          -0.021009701590570893,
          0.7034371231584802,
          null,
          -0.021009701590570893,
          -0.9943573534012671,
          null,
          -0.021009701590570893,
          0.6771558990847764,
          null,
          -0.021009701590570893,
          -0.4505132283872187,
          null,
          -0.021009701590570893,
          0.4847079461165997,
          null,
          -0.021009701590570893,
          0.8030588811190521,
          null,
          -0.021009701590570893,
          0.8300647051427978,
          null,
          -0.021009701590570893,
          -0.2517542309725914,
          null,
          -0.021009701590570893,
          0.897157980890865,
          null,
          0.9108688094229835,
          0.8781507006334697,
          null,
          -0.506228219914278,
          -0.9862922435686483,
          null,
          -0.506228219914278,
          0.3187374641106666,
          null,
          -0.506228219914278,
          -0.7992192619229714,
          null,
          -0.23122025514121264,
          -0.5902147232368998,
          null,
          -0.23122025514121264,
          0.5303185915659341,
          null,
          -0.23122025514121264,
          -0.9343872092902864,
          null,
          -0.23122025514121264,
          -0.243306869960073,
          null,
          -0.23122025514121264,
          0.014687094358334676,
          null,
          -0.23122025514121264,
          -0.2282182290507667,
          null,
          -0.23122025514121264,
          -0.1388782908903461,
          null,
          -0.23122025514121264,
          -0.9862922435686483,
          null,
          -0.24040761575768707,
          -0.9862922435686483,
          null,
          -0.24040761575768707,
          -0.5034836327835793,
          null,
          -0.24040761575768707,
          -0.1388782908903461,
          null,
          -0.24040761575768707,
          -0.057828824024575745,
          null,
          -0.24040761575768707,
          0.5850733129380512,
          null,
          -0.24040761575768707,
          0.014687094358334676,
          null,
          -0.24040761575768707,
          -0.7992192619229714,
          null,
          -0.24040761575768707,
          0.5303185915659341,
          null,
          -0.24040761575768707,
          0.5065469398206618,
          null,
          -0.24040761575768707,
          -0.5902147232368998,
          null,
          -0.22770581414451274,
          0.5303185915659341,
          null,
          -0.22770581414451274,
          -0.9862922435686483,
          null,
          -0.22770581414451274,
          -0.2282182290507667,
          null,
          -0.22770581414451274,
          0.19034699237828231,
          null,
          -0.22770581414451274,
          0.014687094358334676,
          null,
          -0.22770581414451274,
          0.8781507006334697,
          null,
          -0.22770581414451274,
          0.9359430714803904,
          null,
          -0.22770581414451274,
          -0.34308226729646624,
          null,
          -0.22770581414451274,
          -0.026807010071978523,
          null,
          -0.22770581414451274,
          -0.5369522133283007,
          null,
          -0.22770581414451274,
          -0.1388782908903461,
          null,
          -0.22770581414451274,
          -0.5902147232368998,
          null,
          -0.22770581414451274,
          -0.9343872092902864,
          null,
          -0.245414284710705,
          0.3187374641106666,
          null,
          -0.245414284710705,
          0.9616382959421165,
          null,
          -0.245414284710705,
          -0.9862922435686483,
          null,
          -0.245414284710705,
          -0.7470954012820484,
          null,
          -0.245414284710705,
          -0.8723220336084788,
          null,
          -0.245414284710705,
          -0.5034836327835793,
          null,
          -0.245414284710705,
          0.014687094358334676,
          null,
          -0.245414284710705,
          0.5850733129380512,
          null,
          0.0039384528975813324,
          0.014687094358334676,
          null,
          0.0039384528975813324,
          0.8781507006334697,
          null,
          0.0039384528975813324,
          -0.8723220336084788,
          null,
          0.0039384528975813324,
          0.5065469398206618,
          null,
          -0.057828824024575745,
          0.5065469398206618,
          null,
          -0.057828824024575745,
          -0.34308226729646624,
          null,
          -0.057828824024575745,
          0.5850733129380512,
          null,
          -0.057828824024575745,
          -0.24040761575768707,
          null,
          -0.057828824024575745,
          -0.4464930596980242,
          null,
          -0.057828824024575745,
          0.014687094358334676,
          null,
          -0.057828824024575745,
          0.5303185915659341,
          null,
          -0.057828824024575745,
          -0.9862922435686483,
          null,
          -0.057828824024575745,
          -0.1388782908903461,
          null,
          -0.057828824024575745,
          -0.243306869960073,
          null,
          -0.057828824024575745,
          -0.5902147232368998,
          null,
          -0.057828824024575745,
          -0.5034836327835793,
          null
         ],
         "y": [
          -0.09393962289930327,
          -0.24680220129340114,
          null,
          -0.09393962289930327,
          -0.7027396744952294,
          null,
          -0.09393962289930327,
          -0.7657171481801,
          null,
          -0.09393962289930327,
          0.9953517614131105,
          null,
          -0.09393962289930327,
          -0.30905721110970186,
          null,
          0.07778098324711243,
          -0.022261857299035268,
          null,
          0.07778098324711243,
          -0.6873197601131572,
          null,
          0.07778098324711243,
          0.9953517614131105,
          null,
          0.07778098324711243,
          -0.9060231102730577,
          null,
          0.07778098324711243,
          0.2267182635177742,
          null,
          0.07778098324711243,
          -0.34010881635543627,
          null,
          0.07778098324711243,
          -0.05629745481309894,
          null,
          0.07778098324711243,
          -0.9109970255577883,
          null,
          0.07778098324711243,
          -0.39714640632844833,
          null,
          0.07778098324711243,
          0.9021156314069182,
          null,
          0.07778098324711243,
          -0.12385290492388552,
          null,
          0.07778098324711243,
          -0.30905721110970186,
          null,
          -0.07148311049188434,
          -0.9060231102730577,
          null,
          -0.07148311049188434,
          -0.07441330361312803,
          null,
          -0.07148311049188434,
          -0.7657171481801,
          null,
          -0.07148311049188434,
          0.9021156314069182,
          null,
          -0.07148311049188434,
          -0.7027396744952294,
          null,
          -0.07148311049188434,
          0.9322404374518112,
          null,
          -0.07148311049188434,
          -0.30905721110970186,
          null,
          -0.07148311049188434,
          -0.46799619982174323,
          null,
          -0.07148311049188434,
          -0.05629745481309894,
          null,
          -0.10078969961028292,
          -0.30905721110970186,
          null,
          -0.10078969961028292,
          -0.9060231102730577,
          null,
          -0.10078969961028292,
          -0.05555124909399689,
          null,
          -0.10078969961028292,
          -0.07441330361312803,
          null,
          -0.10078969961028292,
          0.9953517614131105,
          null,
          -0.10078969961028292,
          -0.7657171481801,
          null,
          -0.10078969961028292,
          0.6033232113940364,
          null,
          -0.10078969961028292,
          -0.7027396744952294,
          null,
          -0.10078969961028292,
          -0.09393962289930327,
          null,
          -0.10078969961028292,
          -0.6495793823519523,
          null,
          -0.10078969961028292,
          -0.05629745481309894,
          null,
          -0.10078969961028292,
          -0.010885649086112224,
          null,
          -0.10078969961028292,
          -0.022261857299035268,
          null,
          -0.10078969961028292,
          0.9021156314069182,
          null,
          -0.02459695361628348,
          -0.022261857299035268,
          null,
          0.09251232967175661,
          -0.7027396744952294,
          null,
          0.09251232967175661,
          0.9021156314069182,
          null,
          0.09251232967175661,
          -0.30905721110970186,
          null,
          0.09251232967175661,
          0.9953517614131105,
          null,
          0.09251232967175661,
          -0.05629745481309894,
          null,
          0.09251232967175661,
          -0.9060231102730577,
          null,
          0.09251232967175661,
          -0.6873197601131572,
          null,
          0.09251232967175661,
          -0.022261857299035268,
          null,
          0.6526867681794251,
          0.9021156314069182,
          null,
          0.6526867681794251,
          0.2267182635177742,
          null,
          0.0039287877820949856,
          0.8781900686846204,
          null,
          0.0039287877820949856,
          -0.8680615747741071,
          null,
          -0.6873197601131572,
          -0.7657171481801,
          null,
          -0.29168346175787424,
          -0.7027396744952294,
          null,
          -0.29168346175787424,
          -0.022261857299035268,
          null,
          -0.29168346175787424,
          -0.05629745481309894,
          null,
          -0.29168346175787424,
          -0.6495793823519523,
          null,
          -0.29168346175787424,
          -0.9060231102730577,
          null,
          0.07544596628217554,
          0.830647653815957,
          null,
          0.07544596628217554,
          -0.18758201331639016,
          null,
          0.07544596628217554,
          1,
          null,
          0.07544596628217554,
          -0.3237902422753945,
          null,
          0.07544596628217554,
          -0.6408176462729361,
          null,
          0.07544596628217554,
          -0.8022582456735473,
          null,
          0.07544596628217554,
          -0.9189399381116593,
          null,
          0.07544596628217554,
          0.40348504207950364,
          null,
          0.07544596628217554,
          0.7793282601368776,
          null,
          0.07544596628217554,
          0.9322404374518112,
          null,
          0.07544596628217554,
          -0.567639427480603,
          null,
          0.07544596628217554,
          -0.8418773056630534,
          null,
          0.07544596628217554,
          0.0892205215117864,
          null,
          0.07544596628217554,
          0.0039287877820949856,
          null,
          0.07544596628217554,
          -0.9076627125602096,
          null,
          0.07544596628217554,
          0.5378009404573004,
          null,
          0.07544596628217554,
          -0.05555124909399689,
          null,
          0.07544596628217554,
          0.7987537368994829,
          null,
          0.07544596628217554,
          0.8971544498393543,
          null,
          0.07544596628217554,
          0.5815441053913292,
          null,
          0.07544596628217554,
          -0.929337740954228,
          null,
          0.07544596628217554,
          -0.2524029428366988,
          null,
          0.07544596628217554,
          -0.8680615747741071,
          null,
          0.07544596628217554,
          0.47905631115629915,
          null,
          0.07544596628217554,
          0.4540392828328236,
          null,
          0.07544596628217554,
          0.7513235798530444,
          null,
          0.07544596628217554,
          -0.1361548438608469,
          null,
          0.07544596628217554,
          0.8781900686846204,
          null,
          0.07544596628217554,
          -0.40418838111170763,
          null,
          0.07544596628217554,
          0.10309158413918662,
          null,
          0.07544596628217554,
          0.14477387677127965,
          null,
          0.07544596628217554,
          -0.7834320896056867,
          null,
          0.07544596628217554,
          0.4089915234902769,
          null,
          -0.24680220129340114,
          -0.7657171481801,
          null,
          -0.24680220129340114,
          0.2267182635177742,
          null,
          -0.24680220129340114,
          -0.09393962289930327,
          null,
          -0.24680220129340114,
          -0.05629745481309894,
          null,
          -0.24680220129340114,
          -0.9060231102730577,
          null,
          -0.24680220129340114,
          0.9021156314069182,
          null,
          -0.3077396539131806,
          -0.39714640632844833,
          null,
          0.011490240139987496,
          -0.9263045896474436,
          null,
          0.011490240139987496,
          -0.05555124909399689,
          null,
          0.011490240139987496,
          0.9680466998129691,
          null,
          -0.1796805983371581,
          -0.39714640632844833,
          null,
          -0.1796805983371581,
          -0.29168346175787424,
          null,
          -0.1796805983371581,
          -0.05629745481309894,
          null,
          0.1633399931412241,
          -0.05629745481309894,
          null,
          0.1633399931412241,
          0.26911554965550666,
          null,
          -0.38619158644094714,
          -0.9060231102730577,
          null,
          -0.38619158644094714,
          -0.05555124909399689,
          null,
          -0.38619158644094714,
          -0.7657171481801,
          null,
          -0.38619158644094714,
          -0.39714640632844833,
          null,
          -0.03841233044872894,
          -0.6495793823519523,
          null,
          -0.03841233044872894,
          0.47905631115629915,
          null,
          -0.03841233044872894,
          -0.05555124909399689,
          null,
          -0.03841233044872894,
          0.2267182635177742,
          null,
          -0.03841233044872894,
          -0.05629745481309894,
          null,
          -0.03841233044872894,
          0.9021156314069182,
          null,
          -0.03841233044872894,
          -0.6873197601131572,
          null,
          -0.03841233044872894,
          -0.9060231102730577,
          null,
          -0.03841233044872894,
          -0.7027396744952294,
          null,
          -0.03841233044872894,
          0.6033232113940364,
          null,
          -0.03841233044872894,
          0.40348504207950364,
          null,
          -0.03841233044872894,
          -0.9076627125602096,
          null,
          -0.03841233044872894,
          -0.022261857299035268,
          null,
          -0.03841233044872894,
          0.26911554965550666,
          null,
          -0.03841233044872894,
          0.9680466998129691,
          null,
          -0.03841233044872894,
          -0.7657171481801,
          null,
          0.11726551571740154,
          -0.8418773056630534,
          null,
          0.11726551571740154,
          0.5378009404573004,
          null,
          0.11726551571740154,
          0.40348504207950364,
          null,
          0.11726551571740154,
          -0.3237902422753945,
          null,
          0.11726551571740154,
          -0.593738765570567,
          null,
          0.11726551571740154,
          -0.40418838111170763,
          null,
          0.11726551571740154,
          0.4540392828328236,
          null,
          0.11726551571740154,
          -0.9076627125602096,
          null,
          0.11726551571740154,
          0.0039287877820949856,
          null,
          0.11726551571740154,
          0.7513235798530444,
          null,
          0.11726551571740154,
          0.25136616008074064,
          null,
          0.11726551571740154,
          -0.9189399381116593,
          null,
          0.11726551571740154,
          0.8850537841140237,
          null,
          0.11726551571740154,
          0.4089915234902769,
          null,
          0.11726551571740154,
          -0.7834320896056867,
          null,
          0.11726551571740154,
          0.14477387677127965,
          null,
          0.11726551571740154,
          -0.6408176462729361,
          null,
          0.11726551571740154,
          -0.929337740954228,
          null,
          0.11726551571740154,
          0.9322404374518112,
          null,
          0.11726551571740154,
          -0.8680615747741071,
          null,
          0.11726551571740154,
          -0.198316008141695,
          null,
          0.11726551571740154,
          0.8781900686846204,
          null,
          0.11726551571740154,
          0.7987537368994829,
          null,
          0.11726551571740154,
          0.47905631115629915,
          null,
          0.11726551571740154,
          0.8971544498393543,
          null,
          0.11726551571740154,
          -0.8022582456735473,
          null,
          0.11726551571740154,
          0.10309158413918662,
          null,
          0.11726551571740154,
          0.07544596628217554,
          null,
          0.11726551571740154,
          0.830647653815957,
          null,
          0.11726551571740154,
          -0.1361548438608469,
          null,
          0.11726551571740154,
          1,
          null,
          -0.2902814296495146,
          -0.05629745481309894,
          null,
          -0.2902814296495146,
          -0.7657171481801,
          null,
          -0.2902814296495146,
          0.2267182635177742,
          null,
          -0.2902814296495146,
          0.26911554965550666,
          null,
          -0.2902814296495146,
          -0.05555124909399689,
          null,
          -0.34010881635543627,
          -0.9060231102730577,
          null,
          -0.34010881635543627,
          0.2267182635177742,
          null,
          -0.27352938190730564,
          -0.3077396539131806,
          null,
          -0.6495793823519523,
          -0.7657171481801,
          null,
          -0.17016884512630204,
          -0.05555124909399689,
          null,
          -0.17016884512630204,
          -0.39714640632844833,
          null,
          -0.17016884512630204,
          -0.05629745481309894,
          null,
          -0.17016884512630204,
          0.9021156314069182,
          null,
          -0.17016884512630204,
          0.6033232113940364,
          null,
          -0.17016884512630204,
          -0.9060231102730577,
          null,
          -0.567445238555183,
          -0.7657171481801,
          null,
          -0.07441330361312803,
          -0.05555124909399689,
          null,
          -0.07441330361312803,
          -0.30905721110970186,
          null,
          -0.07441330361312803,
          0.6033232113940364,
          null,
          -0.07441330361312803,
          0.7793282601368776,
          null,
          -0.07441330361312803,
          0.9953517614131105,
          null,
          -0.07441330361312803,
          -0.9060231102730577,
          null,
          -0.07441330361312803,
          -0.7027396744952294,
          null,
          -0.07441330361312803,
          -0.6873197601131572,
          null,
          -0.07441330361312803,
          -0.05629745481309894,
          null,
          -0.07441330361312803,
          -0.25797403453667245,
          null,
          -0.07441330361312803,
          -0.6495793823519523,
          null,
          -0.07441330361312803,
          0.9021156314069182,
          null,
          -0.07441330361312803,
          -0.022261857299035268,
          null,
          -0.07441330361312803,
          0.2267182635177742,
          null,
          -0.46799619982174323,
          -0.7657171481801,
          null,
          -0.46799619982174323,
          -0.30905721110970186,
          null,
          -0.46799619982174323,
          -0.05629745481309894,
          null,
          -0.46799619982174323,
          -0.8022582456735473,
          null,
          -0.010885649086112224,
          -0.39714640632844833,
          null,
          -0.010885649086112224,
          -0.09393962289930327,
          null,
          -0.010885649086112224,
          -0.05629745481309894,
          null,
          -0.010885649086112224,
          -0.05555124909399689,
          null,
          -0.010885649086112224,
          -0.34010881635543627,
          null,
          -0.010885649086112224,
          -0.10078969961028292,
          null,
          -0.010885649086112224,
          -0.9060231102730577,
          null,
          -0.010885649086112224,
          0.9021156314069182,
          null,
          -0.010885649086112224,
          0.2267182635177742,
          null,
          -0.010885649086112224,
          -0.7027396744952294,
          null,
          -0.010885649086112224,
          -0.46799619982174323,
          null,
          -0.010885649086112224,
          -0.30905721110970186,
          null,
          0.0567800594246281,
          0.0892205215117864,
          null,
          0.0567800594246281,
          -0.8680615747741071,
          null,
          0.0567800594246281,
          0.4540392828328236,
          null,
          0.0567800594246281,
          -0.8418773056630534,
          null,
          0.0567800594246281,
          0.7513235798530444,
          null,
          0.0567800594246281,
          0.8850537841140237,
          null,
          0.0567800594246281,
          -0.7834320896056867,
          null,
          0.0567800594246281,
          -0.40418838111170763,
          null,
          0.0567800594246281,
          1,
          null,
          0.0567800594246281,
          0.8971544498393543,
          null,
          0.0567800594246281,
          0.47905631115629915,
          null,
          0.0567800594246281,
          0.5815441053913292,
          null,
          0.0567800594246281,
          -0.6947800258750041,
          null,
          0.0567800594246281,
          0.07544596628217554,
          null,
          0.0567800594246281,
          0.0039287877820949856,
          null,
          0.0567800594246281,
          -0.9189399381116593,
          null,
          0.0567800594246281,
          -0.1361548438608469,
          null,
          0.0567800594246281,
          -0.198316008141695,
          null,
          0.0567800594246281,
          0.4089915234902769,
          null,
          0.0567800594246281,
          0.25136616008074064,
          null,
          0.0567800594246281,
          0.40348504207950364,
          null,
          0.0567800594246281,
          0.7987537368994829,
          null,
          0.0567800594246281,
          -0.567639427480603,
          null,
          0.0567800594246281,
          0.9322404374518112,
          null,
          0.0567800594246281,
          -0.593738765570567,
          null,
          0.0567800594246281,
          -0.18758201331639016,
          null,
          0.0567800594246281,
          0.830647653815957,
          null,
          0.0567800594246281,
          -0.9076627125602096,
          null,
          0.0567800594246281,
          0.6033232113940364,
          null,
          0.0567800594246281,
          0.10309158413918662,
          null,
          0.0567800594246281,
          -0.6408176462729361,
          null,
          0.0567800594246281,
          -0.8022582456735473,
          null,
          0.0567800594246281,
          0.8781900686846204,
          null,
          0.0567800594246281,
          0.5378009404573004,
          null,
          0.0567800594246281,
          -0.2524029428366988,
          null,
          0.0567800594246281,
          -0.929337740954228,
          null,
          0.0567800594246281,
          0.14477387677127965,
          null,
          -0.4112992519354402,
          -0.39714640632844833,
          null,
          -0.07002991381638951,
          -0.05629745481309894,
          null,
          -0.07002991381638951,
          -0.9109970255577883,
          null,
          -0.07002991381638951,
          0.26911554965550666,
          null,
          -0.12385290492388552,
          0.9021156314069182,
          null,
          -0.12385290492388552,
          -0.6873197601131572,
          null,
          -0.12385290492388552,
          0.2267182635177742,
          null,
          -0.12385290492388552,
          0.09251232967175661,
          null,
          -0.12385290492388552,
          0.9680466998129691,
          null,
          -0.12385290492388552,
          -0.46799619982174323,
          null,
          -0.12385290492388552,
          -0.9060231102730577,
          null,
          -0.12385290492388552,
          -0.05629745481309894,
          null,
          -0.25797403453667245,
          -0.05629745481309894,
          null,
          -0.25797403453667245,
          -0.7027396744952294,
          null,
          -0.25797403453667245,
          -0.9060231102730577,
          null,
          -0.25797403453667245,
          -0.30905721110970186,
          null,
          -0.25797403453667245,
          -0.7657171481801,
          null,
          -0.25797403453667245,
          0.9680466998129691,
          null,
          -0.25797403453667245,
          0.26911554965550666,
          null,
          -0.25797403453667245,
          -0.6873197601131572,
          null,
          -0.25797403453667245,
          -0.6495793823519523,
          null,
          -0.25797403453667245,
          0.9021156314069182,
          null,
          0.27287936965203813,
          -0.6873197601131572,
          null,
          0.27287936965203813,
          -0.05629745481309894,
          null,
          0.27287936965203813,
          -0.46799619982174323,
          null,
          0.27287936965203813,
          0.9953517614131105,
          null,
          0.27287936965203813,
          0.9680466998129691,
          null,
          0.27287936965203813,
          -0.39714640632844833,
          null,
          0.27287936965203813,
          -0.022261857299035268,
          null,
          0.27287936965203813,
          0.07778098324711243,
          null,
          0.27287936965203813,
          -0.9263045896474436,
          null,
          0.27287936965203813,
          -0.34010881635543627,
          null,
          0.27287936965203813,
          -0.9060231102730577,
          null,
          0.27287936965203813,
          0.9021156314069182,
          null,
          0.27287936965203813,
          0.2267182635177742,
          null,
          0.11759147711195272,
          -0.9109970255577883,
          null,
          0.11759147711195272,
          -0.18758201331639016,
          null,
          0.11759147711195272,
          -0.05629745481309894,
          null,
          0.11759147711195272,
          0.5815441053913292,
          null,
          0.11759147711195272,
          -0.05555124909399689,
          null,
          0.11759147711195272,
          -0.7027396744952294,
          null,
          0.11759147711195272,
          0.9680466998129691,
          null,
          0.11759147711195272,
          -0.7657171481801,
          null,
          0.20914772420499333,
          0.9680466998129691,
          null,
          0.20914772420499333,
          -0.39714640632844833,
          null,
          0.20914772420499333,
          -0.05555124909399689,
          null,
          0.20914772420499333,
          -0.6495793823519523,
          null,
          -0.30905721110970186,
          -0.6495793823519523,
          null,
          -0.30905721110970186,
          0.07778098324711243,
          null,
          -0.30905721110970186,
          -0.7657171481801,
          null,
          -0.30905721110970186,
          -0.25797403453667245,
          null,
          -0.30905721110970186,
          -0.010885649086112224,
          null,
          -0.30905721110970186,
          0.9680466998129691,
          null,
          -0.30905721110970186,
          -0.6873197601131572,
          null,
          -0.30905721110970186,
          -0.05629745481309894,
          null,
          -0.30905721110970186,
          -0.9060231102730577,
          null,
          -0.30905721110970186,
          0.09251232967175661,
          null,
          -0.30905721110970186,
          0.9021156314069182,
          null,
          -0.30905721110970186,
          -0.7027396744952294,
          null
         ]
        },
        {
         "hoverinfo": "text",
         "marker": {
          "colorscale": [
           [
            0,
            "rgb(255,255,217)"
           ],
           [
            0.125,
            "rgb(237,248,177)"
           ],
           [
            0.25,
            "rgb(199,233,180)"
           ],
           [
            0.375,
            "rgb(127,205,187)"
           ],
           [
            0.5,
            "rgb(65,182,196)"
           ],
           [
            0.625,
            "rgb(29,145,192)"
           ],
           [
            0.75,
            "rgb(34,94,168)"
           ],
           [
            0.875,
            "rgb(37,52,148)"
           ],
           [
            1,
            "rgb(8,29,88)"
           ]
          ],
          "size": 5
         },
         "mode": "markers",
         "text": [
          "MizzimaNews",
          "MichellesDude",
          "muttons",
          "TIME",
          "LordElvo",
          "mrbrown",
          "leehsienloong",
          "Myanmar_Now_Eng",
          "HURFOM",
          "MattersMohinga",
          "KKMPutrajaya",
          "foreheadfatty",
          "HarryScoffin",
          "TostevinM",
          "azyintl",
          "mbrochh",
          "LyaHaru",
          "GregDAustin",
          "Haruonchill",
          "BP_Chua",
          "RvlBurma2",
          "maria_n_kir4",
          "afromedwoman",
          "asonofapeach",
          "sporeMOH",
          "FrontierMM",
          "nypost",
          "bhonekhant247",
          "KenRoth",
          "deweysim",
          "MamaCranky",
          "TODAYonline",
          "katycho22222",
          "JoakimGomez",
          "CandyNimrod",
          "IrrawaddyNews",
          "DDGaddis",
          "LeongWaiKitCNA",
          "NDBurma",
          "yumchamama",
          "UN",
          "MyoThuraKhrael",
          "DrSasa22222",
          "Rdllilyn",
          "billm9",
          "PVamplify",
          "womenofburma",
          "Asuka_SGP2",
          "MayThazinWin95",
          "hazsunny",
          "hahazebr4",
          "RadioFreeAsia",
          "Shoon_Naing",
          "kay_aprilnyein",
          "GuliableMany",
          "SaveMM99",
          "JusticeMyanmar",
          "VivianBala",
          "lustfuldesirer",
          "upshotme",
          "CingHsian",
          "AudiKhalid",
          "LeeDam18102",
          "ChindwinNews",
          "EmilyFishbein11",
          "kixes",
          "shafiur",
          "2021Revtweets",
          "buzzsubash",
          "MayWongCNA",
          "sarahcoldheart",
          "PartnersRelief",
          "SweZinHtet11",
          "yapphenghui",
          "Reuters",
          "elroomi",
          "VP",
          "shakiraIaw",
          "MothershipSG",
          "KaungKhantHto10",
          "cnnphilippines",
          "straits_times",
          "ChannelNewsAsia",
          "NICKIMINAJ",
          "bryancsk",
          "business",
          "spring21MM",
          "cvdom2021",
          "dollylama__",
          "timg33",
          "prasadhemant",
          "media_chin",
          "historyogi",
          "Mmzhang_1",
          "ThangDeihTuang",
          "laminmaungmaun8",
          "harmony2828"
         ],
         "type": "scatter",
         "x": [
          0.12345131719974414,
          -0.8509907545993869,
          0.19034699237828231,
          0.7034371231584802,
          0.7813578567853214,
          0.026715223411747677,
          -0.5034836327835793,
          -0.4505132283872187,
          -0.781570576996671,
          -0.9223339025832705,
          -0.7992192619229714,
          -0.34308226729646624,
          -0.29422369592297515,
          0.7430263406046321,
          -0.25879926226643535,
          0.7671632730183011,
          0.5209032891881832,
          -0.19781209734873273,
          0.8030588811190521,
          0.7014221937662093,
          -0.34531645949429524,
          -0.9943573534012671,
          -0.243306869960073,
          -0.7124679804060172,
          0.9359430714803904,
          -0.8067039849671483,
          0.8781507006334697,
          0.06996128213611862,
          0.9616382959421165,
          0.5303185915659341,
          0.22979043336783417,
          -0.1388782908903461,
          0.06205082119317866,
          -0.43241321938260774,
          0.6539687098935664,
          0.6771558990847764,
          -0.2231886071662382,
          -0.9002624516200233,
          0.9013127895787941,
          -0.32422172364410295,
          0.7635870752958079,
          0.08017851313623031,
          0.8300647051427978,
          -0.7187587979482336,
          -0.07502661327168576,
          0.43678475471495176,
          0.19042984043284364,
          -0.11114417911700078,
          0.04299816424585135,
          -0.2501869000778689,
          -0.5369522133283007,
          -0.2517542309725914,
          -0.7392969374421798,
          0.9048633779946412,
          0.5662258099298352,
          0.4847079461165997,
          -0.811092065364155,
          0.5065469398206618,
          0.2883605676902759,
          -0.1090278769948579,
          0.4436661012614138,
          -0.3182550809087348,
          0.8970721311037636,
          -0.4225052851332562,
          0.9746812229041726,
          -0.2282182290507667,
          -0.7597882200125805,
          -0.9294252711054771,
          -0.08850285892844702,
          -0.7470954012820484,
          -0.4464930596980242,
          0.8089637636560956,
          -0.021009701590570893,
          0.9108688094229835,
          -0.8723220336084788,
          -0.506228219914278,
          0.5850733129380512,
          -0.23122025514121264,
          -0.9343872092902864,
          0.26636770784806885,
          0.3187374641106666,
          -0.5902147232368998,
          -0.9862922435686483,
          -0.026807010071978523,
          -0.24040761575768707,
          0.014687094358334676,
          0.897157980890865,
          0.5991713252438186,
          -0.22770581414451274,
          -0.245414284710705,
          0.0039384528975813324,
          -0.39528901217674517,
          -0.057828824024575745,
          -0.6602551221721367,
          0.381235859680132,
          -0.3317969680987416,
          0.9363058728409168
         ],
         "y": [
          0.9322404374518112,
          0.5946612766790511,
          0.9953517614131105,
          0.6033232113940364,
          -0.6021522158909415,
          -0.09393962289930327,
          -0.7027396744952294,
          -0.8022582456735473,
          0.4540392828328236,
          -0.3237902422753945,
          0.26911554965550666,
          0.07778098324711243,
          -0.07148311049188434,
          0.7793282601368776,
          -0.10078969961028292,
          -0.02459695361628348,
          0.7513235798530444,
          0.9610879611196375,
          0.5378009404573004,
          0.7039377039409869,
          -0.8680615747741071,
          0.10309158413918662,
          0.09251232967175661,
          0.6526867681794251,
          -0.022261857299035268,
          -0.567639427480603,
          -0.39714640632844833,
          0.0039287877820949856,
          -0.18758201331639016,
          -0.6873197601131572,
          -0.29168346175787424,
          -0.9060231102730577,
          0.07544596628217554,
          -0.24680220129340114,
          -0.3077396539131806,
          -0.6408176462729361,
          0.011490240139987496,
          0.40348504207950364,
          0.47905631115629915,
          -0.1796805983371581,
          -0.47428688543083963,
          -0.9076627125602096,
          -0.2524029428366988,
          0.1633399931412241,
          -0.38619158644094714,
          -0.8418773056630534,
          -0.9189399381116593,
          -0.03841233044872894,
          0.11726551571740154,
          -0.2902814296495146,
          -0.34010881635543627,
          -0.929337740954228,
          0.7987537368994829,
          0.25136616008074064,
          -0.27352938190730564,
          0.8781900686846204,
          -0.40418838111170763,
          -0.6495793823519523,
          0.9385323865520825,
          -0.17016884512630204,
          -0.567445238555183,
          -0.07441330361312803,
          -0.1361548438608469,
          0.8850537841140237,
          0.0892205215117864,
          -0.46799619982174323,
          -0.6947800258750041,
          -0.198316008141695,
          0.9207700154943216,
          0.5815441053913292,
          -0.010885649086112224,
          0.4089915234902769,
          0.0567800594246281,
          -0.4112992519354402,
          -0.05555124909399689,
          -0.07002991381638951,
          -0.7657171481801,
          -0.12385290492388552,
          0.2267182635177742,
          -0.7834320896056867,
          -0.9109970255577883,
          0.9021156314069182,
          -0.05629745481309894,
          -0.9263045896474436,
          -0.25797403453667245,
          0.9680466998129691,
          0.14477387677127965,
          0.8628881251927059,
          0.27287936965203813,
          0.11759147711195272,
          0.20914772420499333,
          1,
          -0.30905721110970186,
          -0.593738765570567,
          0.8971544498393543,
          0.830647653815957,
          0.3122589433656962
         ]
        }
       ],
       "layout": {
        "autosize": false,
        "font": {
         "family": "Balto"
        },
        "height": 600,
        "hovermode": "closest",
        "margin": {
         "b": 85,
         "l": 40,
         "pad": 0,
         "r": 40,
         "t": 100
        },
        "plot_bgcolor": "#EFECEA",
        "showlegend": false,
        "template": {
         "data": {
          "bar": [
           {
            "error_x": {
             "color": "#2a3f5f"
            },
            "error_y": {
             "color": "#2a3f5f"
            },
            "marker": {
             "line": {
              "color": "#E5ECF6",
              "width": 0.5
             },
             "pattern": {
              "fillmode": "overlay",
              "size": 10,
              "solidity": 0.2
             }
            },
            "type": "bar"
           }
          ],
          "barpolar": [
           {
            "marker": {
             "line": {
              "color": "#E5ECF6",
              "width": 0.5
             },
             "pattern": {
              "fillmode": "overlay",
              "size": 10,
              "solidity": 0.2
             }
            },
            "type": "barpolar"
           }
          ],
          "carpet": [
           {
            "aaxis": {
             "endlinecolor": "#2a3f5f",
             "gridcolor": "white",
             "linecolor": "white",
             "minorgridcolor": "white",
             "startlinecolor": "#2a3f5f"
            },
            "baxis": {
             "endlinecolor": "#2a3f5f",
             "gridcolor": "white",
             "linecolor": "white",
             "minorgridcolor": "white",
             "startlinecolor": "#2a3f5f"
            },
            "type": "carpet"
           }
          ],
          "choropleth": [
           {
            "colorbar": {
             "outlinewidth": 0,
             "ticks": ""
            },
            "type": "choropleth"
           }
          ],
          "contour": [
           {
            "colorbar": {
             "outlinewidth": 0,
             "ticks": ""
            },
            "colorscale": [
             [
              0,
              "#0d0887"
             ],
             [
              0.1111111111111111,
              "#46039f"
             ],
             [
              0.2222222222222222,
              "#7201a8"
             ],
             [
              0.3333333333333333,
              "#9c179e"
             ],
             [
              0.4444444444444444,
              "#bd3786"
             ],
             [
              0.5555555555555556,
              "#d8576b"
             ],
             [
              0.6666666666666666,
              "#ed7953"
             ],
             [
              0.7777777777777778,
              "#fb9f3a"
             ],
             [
              0.8888888888888888,
              "#fdca26"
             ],
             [
              1,
              "#f0f921"
             ]
            ],
            "type": "contour"
           }
          ],
          "contourcarpet": [
           {
            "colorbar": {
             "outlinewidth": 0,
             "ticks": ""
            },
            "type": "contourcarpet"
           }
          ],
          "heatmap": [
           {
            "colorbar": {
             "outlinewidth": 0,
             "ticks": ""
            },
            "colorscale": [
             [
              0,
              "#0d0887"
             ],
             [
              0.1111111111111111,
              "#46039f"
             ],
             [
              0.2222222222222222,
              "#7201a8"
             ],
             [
              0.3333333333333333,
              "#9c179e"
             ],
             [
              0.4444444444444444,
              "#bd3786"
             ],
             [
              0.5555555555555556,
              "#d8576b"
             ],
             [
              0.6666666666666666,
              "#ed7953"
             ],
             [
              0.7777777777777778,
              "#fb9f3a"
             ],
             [
              0.8888888888888888,
              "#fdca26"
             ],
             [
              1,
              "#f0f921"
             ]
            ],
            "type": "heatmap"
           }
          ],
          "heatmapgl": [
           {
            "colorbar": {
             "outlinewidth": 0,
             "ticks": ""
            },
            "colorscale": [
             [
              0,
              "#0d0887"
             ],
             [
              0.1111111111111111,
              "#46039f"
             ],
             [
              0.2222222222222222,
              "#7201a8"
             ],
             [
              0.3333333333333333,
              "#9c179e"
             ],
             [
              0.4444444444444444,
              "#bd3786"
             ],
             [
              0.5555555555555556,
              "#d8576b"
             ],
             [
              0.6666666666666666,
              "#ed7953"
             ],
             [
              0.7777777777777778,
              "#fb9f3a"
             ],
             [
              0.8888888888888888,
              "#fdca26"
             ],
             [
              1,
              "#f0f921"
             ]
            ],
            "type": "heatmapgl"
           }
          ],
          "histogram": [
           {
            "marker": {
             "pattern": {
              "fillmode": "overlay",
              "size": 10,
              "solidity": 0.2
             }
            },
            "type": "histogram"
           }
          ],
          "histogram2d": [
           {
            "colorbar": {
             "outlinewidth": 0,
             "ticks": ""
            },
            "colorscale": [
             [
              0,
              "#0d0887"
             ],
             [
              0.1111111111111111,
              "#46039f"
             ],
             [
              0.2222222222222222,
              "#7201a8"
             ],
             [
              0.3333333333333333,
              "#9c179e"
             ],
             [
              0.4444444444444444,
              "#bd3786"
             ],
             [
              0.5555555555555556,
              "#d8576b"
             ],
             [
              0.6666666666666666,
              "#ed7953"
             ],
             [
              0.7777777777777778,
              "#fb9f3a"
             ],
             [
              0.8888888888888888,
              "#fdca26"
             ],
             [
              1,
              "#f0f921"
             ]
            ],
            "type": "histogram2d"
           }
          ],
          "histogram2dcontour": [
           {
            "colorbar": {
             "outlinewidth": 0,
             "ticks": ""
            },
            "colorscale": [
             [
              0,
              "#0d0887"
             ],
             [
              0.1111111111111111,
              "#46039f"
             ],
             [
              0.2222222222222222,
              "#7201a8"
             ],
             [
              0.3333333333333333,
              "#9c179e"
             ],
             [
              0.4444444444444444,
              "#bd3786"
             ],
             [
              0.5555555555555556,
              "#d8576b"
             ],
             [
              0.6666666666666666,
              "#ed7953"
             ],
             [
              0.7777777777777778,
              "#fb9f3a"
             ],
             [
              0.8888888888888888,
              "#fdca26"
             ],
             [
              1,
              "#f0f921"
             ]
            ],
            "type": "histogram2dcontour"
           }
          ],
          "mesh3d": [
           {
            "colorbar": {
             "outlinewidth": 0,
             "ticks": ""
            },
            "type": "mesh3d"
           }
          ],
          "parcoords": [
           {
            "line": {
             "colorbar": {
              "outlinewidth": 0,
              "ticks": ""
             }
            },
            "type": "parcoords"
           }
          ],
          "pie": [
           {
            "automargin": true,
            "type": "pie"
           }
          ],
          "scatter": [
           {
            "marker": {
             "colorbar": {
              "outlinewidth": 0,
              "ticks": ""
             }
            },
            "type": "scatter"
           }
          ],
          "scatter3d": [
           {
            "line": {
             "colorbar": {
              "outlinewidth": 0,
              "ticks": ""
             }
            },
            "marker": {
             "colorbar": {
              "outlinewidth": 0,
              "ticks": ""
             }
            },
            "type": "scatter3d"
           }
          ],
          "scattercarpet": [
           {
            "marker": {
             "colorbar": {
              "outlinewidth": 0,
              "ticks": ""
             }
            },
            "type": "scattercarpet"
           }
          ],
          "scattergeo": [
           {
            "marker": {
             "colorbar": {
              "outlinewidth": 0,
              "ticks": ""
             }
            },
            "type": "scattergeo"
           }
          ],
          "scattergl": [
           {
            "marker": {
             "colorbar": {
              "outlinewidth": 0,
              "ticks": ""
             }
            },
            "type": "scattergl"
           }
          ],
          "scattermapbox": [
           {
            "marker": {
             "colorbar": {
              "outlinewidth": 0,
              "ticks": ""
             }
            },
            "type": "scattermapbox"
           }
          ],
          "scatterpolar": [
           {
            "marker": {
             "colorbar": {
              "outlinewidth": 0,
              "ticks": ""
             }
            },
            "type": "scatterpolar"
           }
          ],
          "scatterpolargl": [
           {
            "marker": {
             "colorbar": {
              "outlinewidth": 0,
              "ticks": ""
             }
            },
            "type": "scatterpolargl"
           }
          ],
          "scatterternary": [
           {
            "marker": {
             "colorbar": {
              "outlinewidth": 0,
              "ticks": ""
             }
            },
            "type": "scatterternary"
           }
          ],
          "surface": [
           {
            "colorbar": {
             "outlinewidth": 0,
             "ticks": ""
            },
            "colorscale": [
             [
              0,
              "#0d0887"
             ],
             [
              0.1111111111111111,
              "#46039f"
             ],
             [
              0.2222222222222222,
              "#7201a8"
             ],
             [
              0.3333333333333333,
              "#9c179e"
             ],
             [
              0.4444444444444444,
              "#bd3786"
             ],
             [
              0.5555555555555556,
              "#d8576b"
             ],
             [
              0.6666666666666666,
              "#ed7953"
             ],
             [
              0.7777777777777778,
              "#fb9f3a"
             ],
             [
              0.8888888888888888,
              "#fdca26"
             ],
             [
              1,
              "#f0f921"
             ]
            ],
            "type": "surface"
           }
          ],
          "table": [
           {
            "cells": {
             "fill": {
              "color": "#EBF0F8"
             },
             "line": {
              "color": "white"
             }
            },
            "header": {
             "fill": {
              "color": "#C8D4E3"
             },
             "line": {
              "color": "white"
             }
            },
            "type": "table"
           }
          ]
         },
         "layout": {
          "annotationdefaults": {
           "arrowcolor": "#2a3f5f",
           "arrowhead": 0,
           "arrowwidth": 1
          },
          "autotypenumbers": "strict",
          "coloraxis": {
           "colorbar": {
            "outlinewidth": 0,
            "ticks": ""
           }
          },
          "colorscale": {
           "diverging": [
            [
             0,
             "#8e0152"
            ],
            [
             0.1,
             "#c51b7d"
            ],
            [
             0.2,
             "#de77ae"
            ],
            [
             0.3,
             "#f1b6da"
            ],
            [
             0.4,
             "#fde0ef"
            ],
            [
             0.5,
             "#f7f7f7"
            ],
            [
             0.6,
             "#e6f5d0"
            ],
            [
             0.7,
             "#b8e186"
            ],
            [
             0.8,
             "#7fbc41"
            ],
            [
             0.9,
             "#4d9221"
            ],
            [
             1,
             "#276419"
            ]
           ],
           "sequential": [
            [
             0,
             "#0d0887"
            ],
            [
             0.1111111111111111,
             "#46039f"
            ],
            [
             0.2222222222222222,
             "#7201a8"
            ],
            [
             0.3333333333333333,
             "#9c179e"
            ],
            [
             0.4444444444444444,
             "#bd3786"
            ],
            [
             0.5555555555555556,
             "#d8576b"
            ],
            [
             0.6666666666666666,
             "#ed7953"
            ],
            [
             0.7777777777777778,
             "#fb9f3a"
            ],
            [
             0.8888888888888888,
             "#fdca26"
            ],
            [
             1,
             "#f0f921"
            ]
           ],
           "sequentialminus": [
            [
             0,
             "#0d0887"
            ],
            [
             0.1111111111111111,
             "#46039f"
            ],
            [
             0.2222222222222222,
             "#7201a8"
            ],
            [
             0.3333333333333333,
             "#9c179e"
            ],
            [
             0.4444444444444444,
             "#bd3786"
            ],
            [
             0.5555555555555556,
             "#d8576b"
            ],
            [
             0.6666666666666666,
             "#ed7953"
            ],
            [
             0.7777777777777778,
             "#fb9f3a"
            ],
            [
             0.8888888888888888,
             "#fdca26"
            ],
            [
             1,
             "#f0f921"
            ]
           ]
          },
          "colorway": [
           "#636efa",
           "#EF553B",
           "#00cc96",
           "#ab63fa",
           "#FFA15A",
           "#19d3f3",
           "#FF6692",
           "#B6E880",
           "#FF97FF",
           "#FECB52"
          ],
          "font": {
           "color": "#2a3f5f"
          },
          "geo": {
           "bgcolor": "white",
           "lakecolor": "white",
           "landcolor": "#E5ECF6",
           "showlakes": true,
           "showland": true,
           "subunitcolor": "white"
          },
          "hoverlabel": {
           "align": "left"
          },
          "hovermode": "closest",
          "mapbox": {
           "style": "light"
          },
          "paper_bgcolor": "white",
          "plot_bgcolor": "#E5ECF6",
          "polar": {
           "angularaxis": {
            "gridcolor": "white",
            "linecolor": "white",
            "ticks": ""
           },
           "bgcolor": "#E5ECF6",
           "radialaxis": {
            "gridcolor": "white",
            "linecolor": "white",
            "ticks": ""
           }
          },
          "scene": {
           "xaxis": {
            "backgroundcolor": "#E5ECF6",
            "gridcolor": "white",
            "gridwidth": 2,
            "linecolor": "white",
            "showbackground": true,
            "ticks": "",
            "zerolinecolor": "white"
           },
           "yaxis": {
            "backgroundcolor": "#E5ECF6",
            "gridcolor": "white",
            "gridwidth": 2,
            "linecolor": "white",
            "showbackground": true,
            "ticks": "",
            "zerolinecolor": "white"
           },
           "zaxis": {
            "backgroundcolor": "#E5ECF6",
            "gridcolor": "white",
            "gridwidth": 2,
            "linecolor": "white",
            "showbackground": true,
            "ticks": "",
            "zerolinecolor": "white"
           }
          },
          "shapedefaults": {
           "line": {
            "color": "#2a3f5f"
           }
          },
          "ternary": {
           "aaxis": {
            "gridcolor": "white",
            "linecolor": "white",
            "ticks": ""
           },
           "baxis": {
            "gridcolor": "white",
            "linecolor": "white",
            "ticks": ""
           },
           "bgcolor": "#E5ECF6",
           "caxis": {
            "gridcolor": "white",
            "linecolor": "white",
            "ticks": ""
           }
          },
          "title": {
           "x": 0.05
          },
          "xaxis": {
           "automargin": true,
           "gridcolor": "white",
           "linecolor": "white",
           "ticks": "",
           "title": {
            "standoff": 15
           },
           "zerolinecolor": "white",
           "zerolinewidth": 2
          },
          "yaxis": {
           "automargin": true,
           "gridcolor": "white",
           "linecolor": "white",
           "ticks": "",
           "title": {
            "standoff": 15
           },
           "zerolinecolor": "white",
           "zerolinewidth": 2
          }
         }
        },
        "title": {
         "text": "My Grapha"
        },
        "width": 600,
        "xaxis": {
         "autorange": true,
         "range": [
          -1.1185549679868565,
          1.098878837489762
         ],
         "showgrid": false,
         "showline": false,
         "showticklabels": false,
         "title": {
          "text": ""
         },
         "type": "linear",
         "zeroline": false
        },
        "yaxis": {
         "autorange": true,
         "range": [
          -1.0547643946377738,
          1.1254266536835458
         ],
         "showgrid": false,
         "showline": false,
         "showticklabels": false,
         "title": {
          "text": ""
         },
         "type": "linear",
         "zeroline": false
        }
       }
      },
      "image/png": "[encoded data removed]",
      "text/html": [
       "<div>                            <div id=\"7af4bf61-d6bc-43f2-9742-779eecc8441e\" class=\"plotly-graph-div\" style=\"height:600px; width:600px;\"></div>            <script type=\"text/javascript\">                require([\"plotly\"], function(Plotly) {                    window.PLOTLYENV=window.PLOTLYENV || {};                                    if (document.getElementById(\"7af4bf61-d6bc-43f2-9742-779eecc8441e\")) {                    Plotly.newPlot(                        \"7af4bf61-d6bc-43f2-9742-779eecc8441e\",                        [{\"hoverinfo\":\"none\",\"line\":{\"color\":\"grey\",\"width\":0.5},\"mode\":\"lines\",\"type\":\"scatter\",\"x\":[0.026715223411747677,-0.43241321938260774,null,0.026715223411747677,-0.5034836327835793,null,0.026715223411747677,0.5850733129380512,null,0.026715223411747677,0.19034699237828231,null,0.026715223411747677,-0.057828824024575745,null,-0.34308226729646624,0.9359430714803904,null,-0.34308226729646624,0.5303185915659341,null,-0.34308226729646624,0.19034699237828231,null,-0.34308226729646624,-0.1388782908903461,null,-0.34308226729646624,-0.9343872092902864,null,-0.34308226729646624,-0.5369522133283007,null,-0.34308226729646624,-0.9862922435686483,null,-0.34308226729646624,0.3187374641106666,null,-0.34308226729646624,0.8781507006334697,null,-0.34308226729646624,-0.5902147232368998,null,-0.34308226729646624,-0.23122025514121264,null,-0.34308226729646624,-0.057828824024575745,null,-0.29422369592297515,-0.1388782908903461,null,-0.29422369592297515,-0.3182550809087348,null,-0.29422369592297515,0.5850733129380512,null,-0.29422369592297515,-0.5902147232368998,null,-0.29422369592297515,-0.5034836327835793,null,-0.29422369592297515,0.12345131719974414,null,-0.29422369592297515,-0.057828824024575745,null,-0.29422369592297515,-0.2282182290507667,null,-0.29422369592297515,-0.9862922435686483,null,-0.25879926226643535,-0.057828824024575745,null,-0.25879926226643535,-0.1388782908903461,null,-0.25879926226643535,-0.8723220336084788,null,-0.25879926226643535,-0.3182550809087348,null,-0.25879926226643535,0.19034699237828231,null,-0.25879926226643535,0.5850733129380512,null,-0.25879926226643535,0.7034371231584802,null,-0.25879926226643535,-0.5034836327835793,null,-0.25879926226643535,0.026715223411747677,null,-0.25879926226643535,0.5065469398206618,null,-0.25879926226643535,-0.9862922435686483,null,-0.25879926226643535,-0.4464930596980242,null,-0.25879926226643535,0.9359430714803904,null,-0.25879926226643535,-0.5902147232368998,null,0.7671632730183011,0.9359430714803904,null,-0.243306869960073,-0.5034836327835793,null,-0.243306869960073,-0.5902147232368998,null,-0.243306869960073,-0.057828824024575745,null,-0.243306869960073,0.19034699237828231,null,-0.243306869960073,-0.9862922435686483,null,-0.243306869960073,-0.1388782908903461,null,-0.243306869960073,0.5303185915659341,null,-0.243306869960073,0.9359430714803904,null,-0.7124679804060172,-0.5902147232368998,null,-0.7124679804060172,-0.9343872092902864,null,0.06996128213611862,0.4847079461165997,null,0.06996128213611862,-0.34531645949429524,null,0.5303185915659341,0.5850733129380512,null,0.22979043336783417,-0.5034836327835793,null,0.22979043336783417,0.9359430714803904,null,0.22979043336783417,-0.9862922435686483,null,0.22979043336783417,0.5065469398206618,null,0.22979043336783417,-0.1388782908903461,null,0.06205082119317866,-0.3317969680987416,null,0.06205082119317866,0.9616382959421165,null,0.06205082119317866,-0.39528901217674517,null,0.06205082119317866,-0.9223339025832705,null,0.06205082119317866,0.6771558990847764,null,0.06205082119317866,-0.4505132283872187,null,0.06205082119317866,0.19042984043284364,null,0.06205082119317866,-0.9002624516200233,null,0.06205082119317866,0.7430263406046321,null,0.06205082119317866,0.12345131719974414,null,0.06205082119317866,-0.8067039849671483,null,0.06205082119317866,0.43678475471495176,null,0.06205082119317866,0.9746812229041726,null,0.06205082119317866,0.06996128213611862,null,0.06205082119317866,0.08017851313623031,null,0.06205082119317866,0.8030588811190521,null,0.06205082119317866,-0.8723220336084788,null,0.06205082119317866,-0.7392969374421798,null,0.06205082119317866,0.381235859680132,null,0.06205082119317866,-0.7470954012820484,null,0.06205082119317866,-0.2517542309725914,null,0.06205082119317866,0.8300647051427978,null,0.06205082119317866,-0.34531645949429524,null,0.06205082119317866,0.9013127895787941,null,0.06205082119317866,-0.781570576996671,null,0.06205082119317866,0.5209032891881832,null,0.06205082119317866,0.8970721311037636,null,0.06205082119317866,0.4847079461165997,null,0.06205082119317866,-0.811092065364155,null,0.06205082119317866,-0.9943573534012671,null,0.06205082119317866,0.897157980890865,null,0.06205082119317866,0.26636770784806885,null,0.06205082119317866,0.8089637636560956,null,-0.43241321938260774,0.5850733129380512,null,-0.43241321938260774,-0.9343872092902864,null,-0.43241321938260774,0.026715223411747677,null,-0.43241321938260774,-0.9862922435686483,null,-0.43241321938260774,-0.1388782908903461,null,-0.43241321938260774,-0.5902147232368998,null,0.6539687098935664,0.8781507006334697,null,-0.2231886071662382,-0.026807010071978523,null,-0.2231886071662382,-0.8723220336084788,null,-0.2231886071662382,0.014687094358334676,null,-0.32422172364410295,0.8781507006334697,null,-0.32422172364410295,0.22979043336783417,null,-0.32422172364410295,-0.9862922435686483,null,-0.7187587979482336,-0.9862922435686483,null,-0.7187587979482336,-0.7992192619229714,null,-0.07502661327168576,-0.1388782908903461,null,-0.07502661327168576,-0.8723220336084788,null,-0.07502661327168576,0.5850733129380512,null,-0.07502661327168576,0.8781507006334697,null,-0.11114417911700078,0.5065469398206618,null,-0.11114417911700078,0.9013127895787941,null,-0.11114417911700078,-0.8723220336084788,null,-0.11114417911700078,-0.9343872092902864,null,-0.11114417911700078,-0.9862922435686483,null,-0.11114417911700078,-0.5902147232368998,null,-0.11114417911700078,0.5303185915659341,null,-0.11114417911700078,-0.1388782908903461,null,-0.11114417911700078,-0.5034836327835793,null,-0.11114417911700078,0.7034371231584802,null,-0.11114417911700078,-0.9002624516200233,null,-0.11114417911700078,0.08017851313623031,null,-0.11114417911700078,0.9359430714803904,null,-0.11114417911700078,-0.7992192619229714,null,-0.11114417911700078,0.014687094358334676,null,-0.11114417911700078,0.5850733129380512,null,0.04299816424585135,0.43678475471495176,null,0.04299816424585135,0.8030588811190521,null,0.04299816424585135,-0.9002624516200233,null,0.04299816424585135,-0.9223339025832705,null,0.04299816424585135,-0.6602551221721367,null,0.04299816424585135,-0.811092065364155,null,0.04299816424585135,-0.781570576996671,null,0.04299816424585135,0.08017851313623031,null,0.04299816424585135,0.06996128213611862,null,0.04299816424585135,0.5209032891881832,null,0.04299816424585135,0.9048633779946412,null,0.04299816424585135,0.19042984043284364,null,0.04299816424585135,-0.4225052851332562,null,0.04299816424585135,0.8089637636560956,null,0.04299816424585135,0.26636770784806885,null,0.04299816424585135,0.897157980890865,null,0.04299816424585135,0.6771558990847764,null,0.04299816424585135,-0.2517542309725914,null,0.04299816424585135,0.12345131719974414,null,0.04299816424585135,-0.34531645949429524,null,0.04299816424585135,-0.9294252711054771,null,0.04299816424585135,0.4847079461165997,null,0.04299816424585135,-0.7392969374421798,null,0.04299816424585135,0.9013127895787941,null,0.04299816424585135,0.381235859680132,null,0.04299816424585135,-0.4505132283872187,null,0.04299816424585135,-0.9943573534012671,null,0.04299816424585135,0.06205082119317866,null,0.04299816424585135,-0.3317969680987416,null,0.04299816424585135,0.8970721311037636,null,0.04299816424585135,-0.39528901217674517,null,-0.2501869000778689,-0.9862922435686483,null,-0.2501869000778689,0.5850733129380512,null,-0.2501869000778689,-0.9343872092902864,null,-0.2501869000778689,-0.7992192619229714,null,-0.2501869000778689,-0.8723220336084788,null,-0.5369522133283007,-0.1388782908903461,null,-0.5369522133283007,-0.9343872092902864,null,0.5662258099298352,0.6539687098935664,null,0.5065469398206618,0.5850733129380512,null,-0.1090278769948579,-0.8723220336084788,null,-0.1090278769948579,0.8781507006334697,null,-0.1090278769948579,-0.9862922435686483,null,-0.1090278769948579,-0.5902147232368998,null,-0.1090278769948579,0.7034371231584802,null,-0.1090278769948579,-0.1388782908903461,null,0.4436661012614138,0.5850733129380512,null,-0.3182550809087348,-0.8723220336084788,null,-0.3182550809087348,-0.057828824024575745,null,-0.3182550809087348,0.7034371231584802,null,-0.3182550809087348,0.7430263406046321,null,-0.3182550809087348,0.19034699237828231,null,-0.3182550809087348,-0.1388782908903461,null,-0.3182550809087348,-0.5034836327835793,null,-0.3182550809087348,0.5303185915659341,null,-0.3182550809087348,-0.9862922435686483,null,-0.3182550809087348,-0.24040761575768707,null,-0.3182550809087348,0.5065469398206618,null,-0.3182550809087348,-0.5902147232368998,null,-0.3182550809087348,0.9359430714803904,null,-0.3182550809087348,-0.9343872092902864,null,-0.2282182290507667,0.5850733129380512,null,-0.2282182290507667,-0.057828824024575745,null,-0.2282182290507667,-0.9862922435686483,null,-0.2282182290507667,-0.4505132283872187,null,-0.4464930596980242,0.8781507006334697,null,-0.4464930596980242,0.026715223411747677,null,-0.4464930596980242,-0.9862922435686483,null,-0.4464930596980242,-0.8723220336084788,null,-0.4464930596980242,-0.5369522133283007,null,-0.4464930596980242,-0.25879926226643535,null,-0.4464930596980242,-0.1388782908903461,null,-0.4464930596980242,-0.5902147232368998,null,-0.4464930596980242,-0.9343872092902864,null,-0.4464930596980242,-0.5034836327835793,null,-0.4464930596980242,-0.2282182290507667,null,-0.4464930596980242,-0.057828824024575745,null,-0.021009701590570893,0.9746812229041726,null,-0.021009701590570893,-0.34531645949429524,null,-0.021009701590570893,-0.781570576996671,null,-0.021009701590570893,0.43678475471495176,null,-0.021009701590570893,0.5209032891881832,null,-0.021009701590570893,-0.4225052851332562,null,-0.021009701590570893,0.26636770784806885,null,-0.021009701590570893,-0.811092065364155,null,-0.021009701590570893,-0.39528901217674517,null,-0.021009701590570893,0.381235859680132,null,-0.021009701590570893,0.9013127895787941,null,-0.021009701590570893,-0.7470954012820484,null,-0.021009701590570893,-0.7597882200125805,null,-0.021009701590570893,0.06205082119317866,null,-0.021009701590570893,0.06996128213611862,null,-0.021009701590570893,0.19042984043284364,null,-0.021009701590570893,0.8970721311037636,null,-0.021009701590570893,-0.9294252711054771,null,-0.021009701590570893,0.8089637636560956,null,-0.021009701590570893,0.9048633779946412,null,-0.021009701590570893,-0.9002624516200233,null,-0.021009701590570893,-0.7392969374421798,null,-0.021009701590570893,-0.8067039849671483,null,-0.021009701590570893,0.12345131719974414,null,-0.021009701590570893,-0.6602551221721367,null,-0.021009701590570893,0.9616382959421165,null,-0.021009701590570893,-0.3317969680987416,null,-0.021009701590570893,0.08017851313623031,null,-0.021009701590570893,0.7034371231584802,null,-0.021009701590570893,-0.9943573534012671,null,-0.021009701590570893,0.6771558990847764,null,-0.021009701590570893,-0.4505132283872187,null,-0.021009701590570893,0.4847079461165997,null,-0.021009701590570893,0.8030588811190521,null,-0.021009701590570893,0.8300647051427978,null,-0.021009701590570893,-0.2517542309725914,null,-0.021009701590570893,0.897157980890865,null,0.9108688094229835,0.8781507006334697,null,-0.506228219914278,-0.9862922435686483,null,-0.506228219914278,0.3187374641106666,null,-0.506228219914278,-0.7992192619229714,null,-0.23122025514121264,-0.5902147232368998,null,-0.23122025514121264,0.5303185915659341,null,-0.23122025514121264,-0.9343872092902864,null,-0.23122025514121264,-0.243306869960073,null,-0.23122025514121264,0.014687094358334676,null,-0.23122025514121264,-0.2282182290507667,null,-0.23122025514121264,-0.1388782908903461,null,-0.23122025514121264,-0.9862922435686483,null,-0.24040761575768707,-0.9862922435686483,null,-0.24040761575768707,-0.5034836327835793,null,-0.24040761575768707,-0.1388782908903461,null,-0.24040761575768707,-0.057828824024575745,null,-0.24040761575768707,0.5850733129380512,null,-0.24040761575768707,0.014687094358334676,null,-0.24040761575768707,-0.7992192619229714,null,-0.24040761575768707,0.5303185915659341,null,-0.24040761575768707,0.5065469398206618,null,-0.24040761575768707,-0.5902147232368998,null,-0.22770581414451274,0.5303185915659341,null,-0.22770581414451274,-0.9862922435686483,null,-0.22770581414451274,-0.2282182290507667,null,-0.22770581414451274,0.19034699237828231,null,-0.22770581414451274,0.014687094358334676,null,-0.22770581414451274,0.8781507006334697,null,-0.22770581414451274,0.9359430714803904,null,-0.22770581414451274,-0.34308226729646624,null,-0.22770581414451274,-0.026807010071978523,null,-0.22770581414451274,-0.5369522133283007,null,-0.22770581414451274,-0.1388782908903461,null,-0.22770581414451274,-0.5902147232368998,null,-0.22770581414451274,-0.9343872092902864,null,-0.245414284710705,0.3187374641106666,null,-0.245414284710705,0.9616382959421165,null,-0.245414284710705,-0.9862922435686483,null,-0.245414284710705,-0.7470954012820484,null,-0.245414284710705,-0.8723220336084788,null,-0.245414284710705,-0.5034836327835793,null,-0.245414284710705,0.014687094358334676,null,-0.245414284710705,0.5850733129380512,null,0.0039384528975813324,0.014687094358334676,null,0.0039384528975813324,0.8781507006334697,null,0.0039384528975813324,-0.8723220336084788,null,0.0039384528975813324,0.5065469398206618,null,-0.057828824024575745,0.5065469398206618,null,-0.057828824024575745,-0.34308226729646624,null,-0.057828824024575745,0.5850733129380512,null,-0.057828824024575745,-0.24040761575768707,null,-0.057828824024575745,-0.4464930596980242,null,-0.057828824024575745,0.014687094358334676,null,-0.057828824024575745,0.5303185915659341,null,-0.057828824024575745,-0.9862922435686483,null,-0.057828824024575745,-0.1388782908903461,null,-0.057828824024575745,-0.243306869960073,null,-0.057828824024575745,-0.5902147232368998,null,-0.057828824024575745,-0.5034836327835793,null],\"y\":[-0.09393962289930327,-0.24680220129340114,null,-0.09393962289930327,-0.7027396744952294,null,-0.09393962289930327,-0.7657171481801,null,-0.09393962289930327,0.9953517614131105,null,-0.09393962289930327,-0.30905721110970186,null,0.07778098324711243,-0.022261857299035268,null,0.07778098324711243,-0.6873197601131572,null,0.07778098324711243,0.9953517614131105,null,0.07778098324711243,-0.9060231102730577,null,0.07778098324711243,0.2267182635177742,null,0.07778098324711243,-0.34010881635543627,null,0.07778098324711243,-0.05629745481309894,null,0.07778098324711243,-0.9109970255577883,null,0.07778098324711243,-0.39714640632844833,null,0.07778098324711243,0.9021156314069182,null,0.07778098324711243,-0.12385290492388552,null,0.07778098324711243,-0.30905721110970186,null,-0.07148311049188434,-0.9060231102730577,null,-0.07148311049188434,-0.07441330361312803,null,-0.07148311049188434,-0.7657171481801,null,-0.07148311049188434,0.9021156314069182,null,-0.07148311049188434,-0.7027396744952294,null,-0.07148311049188434,0.9322404374518112,null,-0.07148311049188434,-0.30905721110970186,null,-0.07148311049188434,-0.46799619982174323,null,-0.07148311049188434,-0.05629745481309894,null,-0.10078969961028292,-0.30905721110970186,null,-0.10078969961028292,-0.9060231102730577,null,-0.10078969961028292,-0.05555124909399689,null,-0.10078969961028292,-0.07441330361312803,null,-0.10078969961028292,0.9953517614131105,null,-0.10078969961028292,-0.7657171481801,null,-0.10078969961028292,0.6033232113940364,null,-0.10078969961028292,-0.7027396744952294,null,-0.10078969961028292,-0.09393962289930327,null,-0.10078969961028292,-0.6495793823519523,null,-0.10078969961028292,-0.05629745481309894,null,-0.10078969961028292,-0.010885649086112224,null,-0.10078969961028292,-0.022261857299035268,null,-0.10078969961028292,0.9021156314069182,null,-0.02459695361628348,-0.022261857299035268,null,0.09251232967175661,-0.7027396744952294,null,0.09251232967175661,0.9021156314069182,null,0.09251232967175661,-0.30905721110970186,null,0.09251232967175661,0.9953517614131105,null,0.09251232967175661,-0.05629745481309894,null,0.09251232967175661,-0.9060231102730577,null,0.09251232967175661,-0.6873197601131572,null,0.09251232967175661,-0.022261857299035268,null,0.6526867681794251,0.9021156314069182,null,0.6526867681794251,0.2267182635177742,null,0.0039287877820949856,0.8781900686846204,null,0.0039287877820949856,-0.8680615747741071,null,-0.6873197601131572,-0.7657171481801,null,-0.29168346175787424,-0.7027396744952294,null,-0.29168346175787424,-0.022261857299035268,null,-0.29168346175787424,-0.05629745481309894,null,-0.29168346175787424,-0.6495793823519523,null,-0.29168346175787424,-0.9060231102730577,null,0.07544596628217554,0.830647653815957,null,0.07544596628217554,-0.18758201331639016,null,0.07544596628217554,1.0,null,0.07544596628217554,-0.3237902422753945,null,0.07544596628217554,-0.6408176462729361,null,0.07544596628217554,-0.8022582456735473,null,0.07544596628217554,-0.9189399381116593,null,0.07544596628217554,0.40348504207950364,null,0.07544596628217554,0.7793282601368776,null,0.07544596628217554,0.9322404374518112,null,0.07544596628217554,-0.567639427480603,null,0.07544596628217554,-0.8418773056630534,null,0.07544596628217554,0.0892205215117864,null,0.07544596628217554,0.0039287877820949856,null,0.07544596628217554,-0.9076627125602096,null,0.07544596628217554,0.5378009404573004,null,0.07544596628217554,-0.05555124909399689,null,0.07544596628217554,0.7987537368994829,null,0.07544596628217554,0.8971544498393543,null,0.07544596628217554,0.5815441053913292,null,0.07544596628217554,-0.929337740954228,null,0.07544596628217554,-0.2524029428366988,null,0.07544596628217554,-0.8680615747741071,null,0.07544596628217554,0.47905631115629915,null,0.07544596628217554,0.4540392828328236,null,0.07544596628217554,0.7513235798530444,null,0.07544596628217554,-0.1361548438608469,null,0.07544596628217554,0.8781900686846204,null,0.07544596628217554,-0.40418838111170763,null,0.07544596628217554,0.10309158413918662,null,0.07544596628217554,0.14477387677127965,null,0.07544596628217554,-0.7834320896056867,null,0.07544596628217554,0.4089915234902769,null,-0.24680220129340114,-0.7657171481801,null,-0.24680220129340114,0.2267182635177742,null,-0.24680220129340114,-0.09393962289930327,null,-0.24680220129340114,-0.05629745481309894,null,-0.24680220129340114,-0.9060231102730577,null,-0.24680220129340114,0.9021156314069182,null,-0.3077396539131806,-0.39714640632844833,null,0.011490240139987496,-0.9263045896474436,null,0.011490240139987496,-0.05555124909399689,null,0.011490240139987496,0.9680466998129691,null,-0.1796805983371581,-0.39714640632844833,null,-0.1796805983371581,-0.29168346175787424,null,-0.1796805983371581,-0.05629745481309894,null,0.1633399931412241,-0.05629745481309894,null,0.1633399931412241,0.26911554965550666,null,-0.38619158644094714,-0.9060231102730577,null,-0.38619158644094714,-0.05555124909399689,null,-0.38619158644094714,-0.7657171481801,null,-0.38619158644094714,-0.39714640632844833,null,-0.03841233044872894,-0.6495793823519523,null,-0.03841233044872894,0.47905631115629915,null,-0.03841233044872894,-0.05555124909399689,null,-0.03841233044872894,0.2267182635177742,null,-0.03841233044872894,-0.05629745481309894,null,-0.03841233044872894,0.9021156314069182,null,-0.03841233044872894,-0.6873197601131572,null,-0.03841233044872894,-0.9060231102730577,null,-0.03841233044872894,-0.7027396744952294,null,-0.03841233044872894,0.6033232113940364,null,-0.03841233044872894,0.40348504207950364,null,-0.03841233044872894,-0.9076627125602096,null,-0.03841233044872894,-0.022261857299035268,null,-0.03841233044872894,0.26911554965550666,null,-0.03841233044872894,0.9680466998129691,null,-0.03841233044872894,-0.7657171481801,null,0.11726551571740154,-0.8418773056630534,null,0.11726551571740154,0.5378009404573004,null,0.11726551571740154,0.40348504207950364,null,0.11726551571740154,-0.3237902422753945,null,0.11726551571740154,-0.593738765570567,null,0.11726551571740154,-0.40418838111170763,null,0.11726551571740154,0.4540392828328236,null,0.11726551571740154,-0.9076627125602096,null,0.11726551571740154,0.0039287877820949856,null,0.11726551571740154,0.7513235798530444,null,0.11726551571740154,0.25136616008074064,null,0.11726551571740154,-0.9189399381116593,null,0.11726551571740154,0.8850537841140237,null,0.11726551571740154,0.4089915234902769,null,0.11726551571740154,-0.7834320896056867,null,0.11726551571740154,0.14477387677127965,null,0.11726551571740154,-0.6408176462729361,null,0.11726551571740154,-0.929337740954228,null,0.11726551571740154,0.9322404374518112,null,0.11726551571740154,-0.8680615747741071,null,0.11726551571740154,-0.198316008141695,null,0.11726551571740154,0.8781900686846204,null,0.11726551571740154,0.7987537368994829,null,0.11726551571740154,0.47905631115629915,null,0.11726551571740154,0.8971544498393543,null,0.11726551571740154,-0.8022582456735473,null,0.11726551571740154,0.10309158413918662,null,0.11726551571740154,0.07544596628217554,null,0.11726551571740154,0.830647653815957,null,0.11726551571740154,-0.1361548438608469,null,0.11726551571740154,1.0,null,-0.2902814296495146,-0.05629745481309894,null,-0.2902814296495146,-0.7657171481801,null,-0.2902814296495146,0.2267182635177742,null,-0.2902814296495146,0.26911554965550666,null,-0.2902814296495146,-0.05555124909399689,null,-0.34010881635543627,-0.9060231102730577,null,-0.34010881635543627,0.2267182635177742,null,-0.27352938190730564,-0.3077396539131806,null,-0.6495793823519523,-0.7657171481801,null,-0.17016884512630204,-0.05555124909399689,null,-0.17016884512630204,-0.39714640632844833,null,-0.17016884512630204,-0.05629745481309894,null,-0.17016884512630204,0.9021156314069182,null,-0.17016884512630204,0.6033232113940364,null,-0.17016884512630204,-0.9060231102730577,null,-0.567445238555183,-0.7657171481801,null,-0.07441330361312803,-0.05555124909399689,null,-0.07441330361312803,-0.30905721110970186,null,-0.07441330361312803,0.6033232113940364,null,-0.07441330361312803,0.7793282601368776,null,-0.07441330361312803,0.9953517614131105,null,-0.07441330361312803,-0.9060231102730577,null,-0.07441330361312803,-0.7027396744952294,null,-0.07441330361312803,-0.6873197601131572,null,-0.07441330361312803,-0.05629745481309894,null,-0.07441330361312803,-0.25797403453667245,null,-0.07441330361312803,-0.6495793823519523,null,-0.07441330361312803,0.9021156314069182,null,-0.07441330361312803,-0.022261857299035268,null,-0.07441330361312803,0.2267182635177742,null,-0.46799619982174323,-0.7657171481801,null,-0.46799619982174323,-0.30905721110970186,null,-0.46799619982174323,-0.05629745481309894,null,-0.46799619982174323,-0.8022582456735473,null,-0.010885649086112224,-0.39714640632844833,null,-0.010885649086112224,-0.09393962289930327,null,-0.010885649086112224,-0.05629745481309894,null,-0.010885649086112224,-0.05555124909399689,null,-0.010885649086112224,-0.34010881635543627,null,-0.010885649086112224,-0.10078969961028292,null,-0.010885649086112224,-0.9060231102730577,null,-0.010885649086112224,0.9021156314069182,null,-0.010885649086112224,0.2267182635177742,null,-0.010885649086112224,-0.7027396744952294,null,-0.010885649086112224,-0.46799619982174323,null,-0.010885649086112224,-0.30905721110970186,null,0.0567800594246281,0.0892205215117864,null,0.0567800594246281,-0.8680615747741071,null,0.0567800594246281,0.4540392828328236,null,0.0567800594246281,-0.8418773056630534,null,0.0567800594246281,0.7513235798530444,null,0.0567800594246281,0.8850537841140237,null,0.0567800594246281,-0.7834320896056867,null,0.0567800594246281,-0.40418838111170763,null,0.0567800594246281,1.0,null,0.0567800594246281,0.8971544498393543,null,0.0567800594246281,0.47905631115629915,null,0.0567800594246281,0.5815441053913292,null,0.0567800594246281,-0.6947800258750041,null,0.0567800594246281,0.07544596628217554,null,0.0567800594246281,0.0039287877820949856,null,0.0567800594246281,-0.9189399381116593,null,0.0567800594246281,-0.1361548438608469,null,0.0567800594246281,-0.198316008141695,null,0.0567800594246281,0.4089915234902769,null,0.0567800594246281,0.25136616008074064,null,0.0567800594246281,0.40348504207950364,null,0.0567800594246281,0.7987537368994829,null,0.0567800594246281,-0.567639427480603,null,0.0567800594246281,0.9322404374518112,null,0.0567800594246281,-0.593738765570567,null,0.0567800594246281,-0.18758201331639016,null,0.0567800594246281,0.830647653815957,null,0.0567800594246281,-0.9076627125602096,null,0.0567800594246281,0.6033232113940364,null,0.0567800594246281,0.10309158413918662,null,0.0567800594246281,-0.6408176462729361,null,0.0567800594246281,-0.8022582456735473,null,0.0567800594246281,0.8781900686846204,null,0.0567800594246281,0.5378009404573004,null,0.0567800594246281,-0.2524029428366988,null,0.0567800594246281,-0.929337740954228,null,0.0567800594246281,0.14477387677127965,null,-0.4112992519354402,-0.39714640632844833,null,-0.07002991381638951,-0.05629745481309894,null,-0.07002991381638951,-0.9109970255577883,null,-0.07002991381638951,0.26911554965550666,null,-0.12385290492388552,0.9021156314069182,null,-0.12385290492388552,-0.6873197601131572,null,-0.12385290492388552,0.2267182635177742,null,-0.12385290492388552,0.09251232967175661,null,-0.12385290492388552,0.9680466998129691,null,-0.12385290492388552,-0.46799619982174323,null,-0.12385290492388552,-0.9060231102730577,null,-0.12385290492388552,-0.05629745481309894,null,-0.25797403453667245,-0.05629745481309894,null,-0.25797403453667245,-0.7027396744952294,null,-0.25797403453667245,-0.9060231102730577,null,-0.25797403453667245,-0.30905721110970186,null,-0.25797403453667245,-0.7657171481801,null,-0.25797403453667245,0.9680466998129691,null,-0.25797403453667245,0.26911554965550666,null,-0.25797403453667245,-0.6873197601131572,null,-0.25797403453667245,-0.6495793823519523,null,-0.25797403453667245,0.9021156314069182,null,0.27287936965203813,-0.6873197601131572,null,0.27287936965203813,-0.05629745481309894,null,0.27287936965203813,-0.46799619982174323,null,0.27287936965203813,0.9953517614131105,null,0.27287936965203813,0.9680466998129691,null,0.27287936965203813,-0.39714640632844833,null,0.27287936965203813,-0.022261857299035268,null,0.27287936965203813,0.07778098324711243,null,0.27287936965203813,-0.9263045896474436,null,0.27287936965203813,-0.34010881635543627,null,0.27287936965203813,-0.9060231102730577,null,0.27287936965203813,0.9021156314069182,null,0.27287936965203813,0.2267182635177742,null,0.11759147711195272,-0.9109970255577883,null,0.11759147711195272,-0.18758201331639016,null,0.11759147711195272,-0.05629745481309894,null,0.11759147711195272,0.5815441053913292,null,0.11759147711195272,-0.05555124909399689,null,0.11759147711195272,-0.7027396744952294,null,0.11759147711195272,0.9680466998129691,null,0.11759147711195272,-0.7657171481801,null,0.20914772420499333,0.9680466998129691,null,0.20914772420499333,-0.39714640632844833,null,0.20914772420499333,-0.05555124909399689,null,0.20914772420499333,-0.6495793823519523,null,-0.30905721110970186,-0.6495793823519523,null,-0.30905721110970186,0.07778098324711243,null,-0.30905721110970186,-0.7657171481801,null,-0.30905721110970186,-0.25797403453667245,null,-0.30905721110970186,-0.010885649086112224,null,-0.30905721110970186,0.9680466998129691,null,-0.30905721110970186,-0.6873197601131572,null,-0.30905721110970186,-0.05629745481309894,null,-0.30905721110970186,-0.9060231102730577,null,-0.30905721110970186,0.09251232967175661,null,-0.30905721110970186,0.9021156314069182,null,-0.30905721110970186,-0.7027396744952294,null]},{\"hoverinfo\":\"text\",\"marker\":{\"colorscale\":[[0.0,\"rgb(255,255,217)\"],[0.125,\"rgb(237,248,177)\"],[0.25,\"rgb(199,233,180)\"],[0.375,\"rgb(127,205,187)\"],[0.5,\"rgb(65,182,196)\"],[0.625,\"rgb(29,145,192)\"],[0.75,\"rgb(34,94,168)\"],[0.875,\"rgb(37,52,148)\"],[1.0,\"rgb(8,29,88)\"]],\"size\":5},\"mode\":\"markers\",\"text\":[\"MizzimaNews\",\"MichellesDude\",\"muttons\",\"TIME\",\"LordElvo\",\"mrbrown\",\"leehsienloong\",\"Myanmar_Now_Eng\",\"HURFOM\",\"MattersMohinga\",\"KKMPutrajaya\",\"foreheadfatty\",\"HarryScoffin\",\"TostevinM\",\"azyintl\",\"mbrochh\",\"LyaHaru\",\"GregDAustin\",\"Haruonchill\",\"BP_Chua\",\"RvlBurma2\",\"maria_n_kir4\",\"afromedwoman\",\"asonofapeach\",\"sporeMOH\",\"FrontierMM\",\"nypost\",\"bhonekhant247\",\"KenRoth\",\"deweysim\",\"MamaCranky\",\"TODAYonline\",\"katycho22222\",\"JoakimGomez\",\"CandyNimrod\",\"IrrawaddyNews\",\"DDGaddis\",\"LeongWaiKitCNA\",\"NDBurma\",\"yumchamama\",\"UN\",\"MyoThuraKhrael\",\"DrSasa22222\",\"Rdllilyn\",\"billm9\",\"PVamplify\",\"womenofburma\",\"Asuka_SGP2\",\"MayThazinWin95\",\"hazsunny\",\"hahazebr4\",\"RadioFreeAsia\",\"Shoon_Naing\",\"kay_aprilnyein\",\"GuliableMany\",\"SaveMM99\",\"JusticeMyanmar\",\"VivianBala\",\"lustfuldesirer\",\"upshotme\",\"CingHsian\",\"AudiKhalid\",\"LeeDam18102\",\"ChindwinNews\",\"EmilyFishbein11\",\"kixes\",\"shafiur\",\"2021Revtweets\",\"buzzsubash\",\"MayWongCNA\",\"sarahcoldheart\",\"PartnersRelief\",\"SweZinHtet11\",\"yapphenghui\",\"Reuters\",\"elroomi\",\"VP\",\"shakiraIaw\",\"MothershipSG\",\"KaungKhantHto10\",\"cnnphilippines\",\"straits_times\",\"ChannelNewsAsia\",\"NICKIMINAJ\",\"bryancsk\",\"business\",\"spring21MM\",\"cvdom2021\",\"dollylama__\",\"timg33\",\"prasadhemant\",\"media_chin\",\"historyogi\",\"Mmzhang_1\",\"ThangDeihTuang\",\"laminmaungmaun8\",\"harmony2828\"],\"type\":\"scatter\",\"x\":[0.12345131719974414,-0.8509907545993869,0.19034699237828231,0.7034371231584802,0.7813578567853214,0.026715223411747677,-0.5034836327835793,-0.4505132283872187,-0.781570576996671,-0.9223339025832705,-0.7992192619229714,-0.34308226729646624,-0.29422369592297515,0.7430263406046321,-0.25879926226643535,0.7671632730183011,0.5209032891881832,-0.19781209734873273,0.8030588811190521,0.7014221937662093,-0.34531645949429524,-0.9943573534012671,-0.243306869960073,-0.7124679804060172,0.9359430714803904,-0.8067039849671483,0.8781507006334697,0.06996128213611862,0.9616382959421165,0.5303185915659341,0.22979043336783417,-0.1388782908903461,0.06205082119317866,-0.43241321938260774,0.6539687098935664,0.6771558990847764,-0.2231886071662382,-0.9002624516200233,0.9013127895787941,-0.32422172364410295,0.7635870752958079,0.08017851313623031,0.8300647051427978,-0.7187587979482336,-0.07502661327168576,0.43678475471495176,0.19042984043284364,-0.11114417911700078,0.04299816424585135,-0.2501869000778689,-0.5369522133283007,-0.2517542309725914,-0.7392969374421798,0.9048633779946412,0.5662258099298352,0.4847079461165997,-0.811092065364155,0.5065469398206618,0.2883605676902759,-0.1090278769948579,0.4436661012614138,-0.3182550809087348,0.8970721311037636,-0.4225052851332562,0.9746812229041726,-0.2282182290507667,-0.7597882200125805,-0.9294252711054771,-0.08850285892844702,-0.7470954012820484,-0.4464930596980242,0.8089637636560956,-0.021009701590570893,0.9108688094229835,-0.8723220336084788,-0.506228219914278,0.5850733129380512,-0.23122025514121264,-0.9343872092902864,0.26636770784806885,0.3187374641106666,-0.5902147232368998,-0.9862922435686483,-0.026807010071978523,-0.24040761575768707,0.014687094358334676,0.897157980890865,0.5991713252438186,-0.22770581414451274,-0.245414284710705,0.0039384528975813324,-0.39528901217674517,-0.057828824024575745,-0.6602551221721367,0.381235859680132,-0.3317969680987416,0.9363058728409168],\"y\":[0.9322404374518112,0.5946612766790511,0.9953517614131105,0.6033232113940364,-0.6021522158909415,-0.09393962289930327,-0.7027396744952294,-0.8022582456735473,0.4540392828328236,-0.3237902422753945,0.26911554965550666,0.07778098324711243,-0.07148311049188434,0.7793282601368776,-0.10078969961028292,-0.02459695361628348,0.7513235798530444,0.9610879611196375,0.5378009404573004,0.7039377039409869,-0.8680615747741071,0.10309158413918662,0.09251232967175661,0.6526867681794251,-0.022261857299035268,-0.567639427480603,-0.39714640632844833,0.0039287877820949856,-0.18758201331639016,-0.6873197601131572,-0.29168346175787424,-0.9060231102730577,0.07544596628217554,-0.24680220129340114,-0.3077396539131806,-0.6408176462729361,0.011490240139987496,0.40348504207950364,0.47905631115629915,-0.1796805983371581,-0.47428688543083963,-0.9076627125602096,-0.2524029428366988,0.1633399931412241,-0.38619158644094714,-0.8418773056630534,-0.9189399381116593,-0.03841233044872894,0.11726551571740154,-0.2902814296495146,-0.34010881635543627,-0.929337740954228,0.7987537368994829,0.25136616008074064,-0.27352938190730564,0.8781900686846204,-0.40418838111170763,-0.6495793823519523,0.9385323865520825,-0.17016884512630204,-0.567445238555183,-0.07441330361312803,-0.1361548438608469,0.8850537841140237,0.0892205215117864,-0.46799619982174323,-0.6947800258750041,-0.198316008141695,0.9207700154943216,0.5815441053913292,-0.010885649086112224,0.4089915234902769,0.0567800594246281,-0.4112992519354402,-0.05555124909399689,-0.07002991381638951,-0.7657171481801,-0.12385290492388552,0.2267182635177742,-0.7834320896056867,-0.9109970255577883,0.9021156314069182,-0.05629745481309894,-0.9263045896474436,-0.25797403453667245,0.9680466998129691,0.14477387677127965,0.8628881251927059,0.27287936965203813,0.11759147711195272,0.20914772420499333,1.0,-0.30905721110970186,-0.593738765570567,0.8971544498393543,0.830647653815957,0.3122589433656962]}],                        {\"autosize\":false,\"font\":{\"family\":\"Balto\"},\"height\":600,\"hovermode\":\"closest\",\"margin\":{\"b\":85,\"l\":40,\"pad\":0,\"r\":40,\"t\":100},\"plot_bgcolor\":\"#EFECEA\",\"showlegend\":false,\"template\":{\"data\":{\"bar\":[{\"error_x\":{\"color\":\"#2a3f5f\"},\"error_y\":{\"color\":\"#2a3f5f\"},\"marker\":{\"line\":{\"color\":\"#E5ECF6\",\"width\":0.5},\"pattern\":{\"fillmode\":\"overlay\",\"size\":10,\"solidity\":0.2}},\"type\":\"bar\"}],\"barpolar\":[{\"marker\":{\"line\":{\"color\":\"#E5ECF6\",\"width\":0.5},\"pattern\":{\"fillmode\":\"overlay\",\"size\":10,\"solidity\":0.2}},\"type\":\"barpolar\"}],\"carpet\":[{\"aaxis\":{\"endlinecolor\":\"#2a3f5f\",\"gridcolor\":\"white\",\"linecolor\":\"white\",\"minorgridcolor\":\"white\",\"startlinecolor\":\"#2a3f5f\"},\"baxis\":{\"endlinecolor\":\"#2a3f5f\",\"gridcolor\":\"white\",\"linecolor\":\"white\",\"minorgridcolor\":\"white\",\"startlinecolor\":\"#2a3f5f\"},\"type\":\"carpet\"}],\"choropleth\":[{\"colorbar\":{\"outlinewidth\":0,\"ticks\":\"\"},\"type\":\"choropleth\"}],\"contour\":[{\"colorbar\":{\"outlinewidth\":0,\"ticks\":\"\"},\"colorscale\":[[0.0,\"#0d0887\"],[0.1111111111111111,\"#46039f\"],[0.2222222222222222,\"#7201a8\"],[0.3333333333333333,\"#9c179e\"],[0.4444444444444444,\"#bd3786\"],[0.5555555555555556,\"#d8576b\"],[0.6666666666666666,\"#ed7953\"],[0.7777777777777778,\"#fb9f3a\"],[0.8888888888888888,\"#fdca26\"],[1.0,\"#f0f921\"]],\"type\":\"contour\"}],\"contourcarpet\":[{\"colorbar\":{\"outlinewidth\":0,\"ticks\":\"\"},\"type\":\"contourcarpet\"}],\"heatmap\":[{\"colorbar\":{\"outlinewidth\":0,\"ticks\":\"\"},\"colorscale\":[[0.0,\"#0d0887\"],[0.1111111111111111,\"#46039f\"],[0.2222222222222222,\"#7201a8\"],[0.3333333333333333,\"#9c179e\"],[0.4444444444444444,\"#bd3786\"],[0.5555555555555556,\"#d8576b\"],[0.6666666666666666,\"#ed7953\"],[0.7777777777777778,\"#fb9f3a\"],[0.8888888888888888,\"#fdca26\"],[1.0,\"#f0f921\"]],\"type\":\"heatmap\"}],\"heatmapgl\":[{\"colorbar\":{\"outlinewidth\":0,\"ticks\":\"\"},\"colorscale\":[[0.0,\"#0d0887\"],[0.1111111111111111,\"#46039f\"],[0.2222222222222222,\"#7201a8\"],[0.3333333333333333,\"#9c179e\"],[0.4444444444444444,\"#bd3786\"],[0.5555555555555556,\"#d8576b\"],[0.6666666666666666,\"#ed7953\"],[0.7777777777777778,\"#fb9f3a\"],[0.8888888888888888,\"#fdca26\"],[1.0,\"#f0f921\"]],\"type\":\"heatmapgl\"}],\"histogram\":[{\"marker\":{\"pattern\":{\"fillmode\":\"overlay\",\"size\":10,\"solidity\":0.2}},\"type\":\"histogram\"}],\"histogram2d\":[{\"colorbar\":{\"outlinewidth\":0,\"ticks\":\"\"},\"colorscale\":[[0.0,\"#0d0887\"],[0.1111111111111111,\"#46039f\"],[0.2222222222222222,\"#7201a8\"],[0.3333333333333333,\"#9c179e\"],[0.4444444444444444,\"#bd3786\"],[0.5555555555555556,\"#d8576b\"],[0.6666666666666666,\"#ed7953\"],[0.7777777777777778,\"#fb9f3a\"],[0.8888888888888888,\"#fdca26\"],[1.0,\"#f0f921\"]],\"type\":\"histogram2d\"}],\"histogram2dcontour\":[{\"colorbar\":{\"outlinewidth\":0,\"ticks\":\"\"},\"colorscale\":[[0.0,\"#0d0887\"],[0.1111111111111111,\"#46039f\"],[0.2222222222222222,\"#7201a8\"],[0.3333333333333333,\"#9c179e\"],[0.4444444444444444,\"#bd3786\"],[0.5555555555555556,\"#d8576b\"],[0.6666666666666666,\"#ed7953\"],[0.7777777777777778,\"#fb9f3a\"],[0.8888888888888888,\"#fdca26\"],[1.0,\"#f0f921\"]],\"type\":\"histogram2dcontour\"}],\"mesh3d\":[{\"colorbar\":{\"outlinewidth\":0,\"ticks\":\"\"},\"type\":\"mesh3d\"}],\"parcoords\":[{\"line\":{\"colorbar\":{\"outlinewidth\":0,\"ticks\":\"\"}},\"type\":\"parcoords\"}],\"pie\":[{\"automargin\":true,\"type\":\"pie\"}],\"scatter\":[{\"marker\":{\"colorbar\":{\"outlinewidth\":0,\"ticks\":\"\"}},\"type\":\"scatter\"}],\"scatter3d\":[{\"line\":{\"colorbar\":{\"outlinewidth\":0,\"ticks\":\"\"}},\"marker\":{\"colorbar\":{\"outlinewidth\":0,\"ticks\":\"\"}},\"type\":\"scatter3d\"}],\"scattercarpet\":[{\"marker\":{\"colorbar\":{\"outlinewidth\":0,\"ticks\":\"\"}},\"type\":\"scattercarpet\"}],\"scattergeo\":[{\"marker\":{\"colorbar\":{\"outlinewidth\":0,\"ticks\":\"\"}},\"type\":\"scattergeo\"}],\"scattergl\":[{\"marker\":{\"colorbar\":{\"outlinewidth\":0,\"ticks\":\"\"}},\"type\":\"scattergl\"}],\"scattermapbox\":[{\"marker\":{\"colorbar\":{\"outlinewidth\":0,\"ticks\":\"\"}},\"type\":\"scattermapbox\"}],\"scatterpolar\":[{\"marker\":{\"colorbar\":{\"outlinewidth\":0,\"ticks\":\"\"}},\"type\":\"scatterpolar\"}],\"scatterpolargl\":[{\"marker\":{\"colorbar\":{\"outlinewidth\":0,\"ticks\":\"\"}},\"type\":\"scatterpolargl\"}],\"scatterternary\":[{\"marker\":{\"colorbar\":{\"outlinewidth\":0,\"ticks\":\"\"}},\"type\":\"scatterternary\"}],\"surface\":[{\"colorbar\":{\"outlinewidth\":0,\"ticks\":\"\"},\"colorscale\":[[0.0,\"#0d0887\"],[0.1111111111111111,\"#46039f\"],[0.2222222222222222,\"#7201a8\"],[0.3333333333333333,\"#9c179e\"],[0.4444444444444444,\"#bd3786\"],[0.5555555555555556,\"#d8576b\"],[0.6666666666666666,\"#ed7953\"],[0.7777777777777778,\"#fb9f3a\"],[0.8888888888888888,\"#fdca26\"],[1.0,\"#f0f921\"]],\"type\":\"surface\"}],\"table\":[{\"cells\":{\"fill\":{\"color\":\"#EBF0F8\"},\"line\":{\"color\":\"white\"}},\"header\":{\"fill\":{\"color\":\"#C8D4E3\"},\"line\":{\"color\":\"white\"}},\"type\":\"table\"}]},\"layout\":{\"annotationdefaults\":{\"arrowcolor\":\"#2a3f5f\",\"arrowhead\":0,\"arrowwidth\":1},\"autotypenumbers\":\"strict\",\"coloraxis\":{\"colorbar\":{\"outlinewidth\":0,\"ticks\":\"\"}},\"colorscale\":{\"diverging\":[[0,\"#8e0152\"],[0.1,\"#c51b7d\"],[0.2,\"#de77ae\"],[0.3,\"#f1b6da\"],[0.4,\"#fde0ef\"],[0.5,\"#f7f7f7\"],[0.6,\"#e6f5d0\"],[0.7,\"#b8e186\"],[0.8,\"#7fbc41\"],[0.9,\"#4d9221\"],[1,\"#276419\"]],\"sequential\":[[0.0,\"#0d0887\"],[0.1111111111111111,\"#46039f\"],[0.2222222222222222,\"#7201a8\"],[0.3333333333333333,\"#9c179e\"],[0.4444444444444444,\"#bd3786\"],[0.5555555555555556,\"#d8576b\"],[0.6666666666666666,\"#ed7953\"],[0.7777777777777778,\"#fb9f3a\"],[0.8888888888888888,\"#fdca26\"],[1.0,\"#f0f921\"]],\"sequentialminus\":[[0.0,\"#0d0887\"],[0.1111111111111111,\"#46039f\"],[0.2222222222222222,\"#7201a8\"],[0.3333333333333333,\"#9c179e\"],[0.4444444444444444,\"#bd3786\"],[0.5555555555555556,\"#d8576b\"],[0.6666666666666666,\"#ed7953\"],[0.7777777777777778,\"#fb9f3a\"],[0.8888888888888888,\"#fdca26\"],[1.0,\"#f0f921\"]]},\"colorway\":[\"#636efa\",\"#EF553B\",\"#00cc96\",\"#ab63fa\",\"#FFA15A\",\"#19d3f3\",\"#FF6692\",\"#B6E880\",\"#FF97FF\",\"#FECB52\"],\"font\":{\"color\":\"#2a3f5f\"},\"geo\":{\"bgcolor\":\"white\",\"lakecolor\":\"white\",\"landcolor\":\"#E5ECF6\",\"showlakes\":true,\"showland\":true,\"subunitcolor\":\"white\"},\"hoverlabel\":{\"align\":\"left\"},\"hovermode\":\"closest\",\"mapbox\":{\"style\":\"light\"},\"paper_bgcolor\":\"white\",\"plot_bgcolor\":\"#E5ECF6\",\"polar\":{\"angularaxis\":{\"gridcolor\":\"white\",\"linecolor\":\"white\",\"ticks\":\"\"},\"bgcolor\":\"#E5ECF6\",\"radialaxis\":{\"gridcolor\":\"white\",\"linecolor\":\"white\",\"ticks\":\"\"}},\"scene\":{\"xaxis\":{\"backgroundcolor\":\"#E5ECF6\",\"gridcolor\":\"white\",\"gridwidth\":2,\"linecolor\":\"white\",\"showbackground\":true,\"ticks\":\"\",\"zerolinecolor\":\"white\"},\"yaxis\":{\"backgroundcolor\":\"#E5ECF6\",\"gridcolor\":\"white\",\"gridwidth\":2,\"linecolor\":\"white\",\"showbackground\":true,\"ticks\":\"\",\"zerolinecolor\":\"white\"},\"zaxis\":{\"backgroundcolor\":\"#E5ECF6\",\"gridcolor\":\"white\",\"gridwidth\":2,\"linecolor\":\"white\",\"showbackground\":true,\"ticks\":\"\",\"zerolinecolor\":\"white\"}},\"shapedefaults\":{\"line\":{\"color\":\"#2a3f5f\"}},\"ternary\":{\"aaxis\":{\"gridcolor\":\"white\",\"linecolor\":\"white\",\"ticks\":\"\"},\"baxis\":{\"gridcolor\":\"white\",\"linecolor\":\"white\",\"ticks\":\"\"},\"bgcolor\":\"#E5ECF6\",\"caxis\":{\"gridcolor\":\"white\",\"linecolor\":\"white\",\"ticks\":\"\"}},\"title\":{\"x\":0.05},\"xaxis\":{\"automargin\":true,\"gridcolor\":\"white\",\"linecolor\":\"white\",\"ticks\":\"\",\"title\":{\"standoff\":15},\"zerolinecolor\":\"white\",\"zerolinewidth\":2},\"yaxis\":{\"automargin\":true,\"gridcolor\":\"white\",\"linecolor\":\"white\",\"ticks\":\"\",\"title\":{\"standoff\":15},\"zerolinecolor\":\"white\",\"zerolinewidth\":2}}},\"title\":{\"text\":\"My Grapha\"},\"width\":600,\"xaxis\":{\"showgrid\":false,\"showline\":false,\"showticklabels\":false,\"title\":{\"text\":\"\"},\"zeroline\":false},\"yaxis\":{\"showgrid\":false,\"showline\":false,\"showticklabels\":false,\"title\":{\"text\":\"\"},\"zeroline\":false}},                        {\"responsive\": true}                    ).then(function(){\n",
       "                            \n",
       "var gd = document.getElementById('7af4bf61-d6bc-43f2-9742-779eecc8441e');\n",
       "var x = new MutationObserver(function (mutations, observer) {{\n",
       "        var display = window.getComputedStyle(gd).display;\n",
       "        if (!display || display === 'none') {{\n",
       "            console.log([gd, 'removed!']);\n",
       "            Plotly.purge(gd);\n",
       "            observer.disconnect();\n",
       "        }}\n",
       "}});\n",
       "\n",
       "// Listen for the removal of the full notebook cells\n",
       "var notebookContainer = gd.closest('#notebook-container');\n",
       "if (notebookContainer) {{\n",
       "    x.observe(notebookContainer, {childList: true});\n",
       "}}\n",
       "\n",
       "// Listen for the clearing of the current output cell\n",
       "var outputEl = gd.closest('.output');\n",
       "if (outputEl) {{\n",
       "    x.observe(outputEl, {childList: true});\n",
       "}}\n",
       "\n",
       "                        })                };                });            </script>        </div>"
      ]
     },
     "metadata": {},
     "output_type": "display_data"
    }
   ],
   "source": [
    "edge_x = []\n",
    "edge_y = []\n",
    "names = []\n",
    "for edge in G.edges():\n",
    "    x_gen_pos = pos[edge[0]]\n",
    "    y_gen_pos = pos[edge[1]]\n",
    "    edge_x.extend([x_gen_pos[0], y_gen_pos[0], None])\n",
    "    edge_y.extend([x_gen_pos[1], y_gen_pos[1], None])\n",
    "    \n",
    "node_x = []\n",
    "node_y = []\n",
    "\n",
    "for node in G.nodes():\n",
    "    gen_pos = pos[node]\n",
    "    node_x.append(gen_pos[0])\n",
    "    node_y.append(gen_pos[1])\n",
    "    names.append(node)\n",
    "    \n",
    "trace_nodes=dict(type=\"scatter\",\n",
    "                 x=node_x, \n",
    "                 y=node_y,\n",
    "                 mode=\"markers\",\n",
    "                 marker=dict(size=5, colorscale='YlGnBu'),\n",
    "                 text=names,\n",
    "                 hoverinfo=\"text\")\n",
    "\n",
    "trace_edges=dict(type=\"scatter\",                  \n",
    "                 mode=\"lines\",                  \n",
    "                 x=edge_x,                  \n",
    "                 y=edge_y,                 \n",
    "                 line=dict(width=0.5, color='grey'), hoverinfo=\"none\")\n",
    "\n",
    "axis=dict(showline=False, \n",
    "          zeroline=False,\n",
    "          showgrid=False,\n",
    "          showticklabels=False,\n",
    "          title=\"\"\n",
    "          )\n",
    "\n",
    "node_trace = go.Scatter(\n",
    "    x=node_x, y=node_y,\n",
    "    mode='markers',\n",
    "    hoverinfo='text',\n",
    "    marker=dict(\n",
    "        showscale=True,\n",
    "        # colorscale options\n",
    "        #'Greys' | 'YlGnBu' | 'Greens' | 'YlOrRd' | 'Bluered' | 'RdBu' |\n",
    "        #'Reds' | 'Blues' | 'Picnic' | 'Rainbow' | 'Portland' | 'Jet' |\n",
    "        #'Hot' | 'Blackbody' | 'Earth' | 'Electric' | 'Viridis' |\n",
    "        colorscale='YlGnBu',\n",
    "        reversescale=True,\n",
    "        color=[],\n",
    "        size=10,\n",
    "        colorbar=dict(\n",
    "            thickness=15,\n",
    "            title='Node Connections',\n",
    "            xanchor='left',\n",
    "            titleside='right'\n",
    "        ),\n",
    "        line_width=2))\n",
    "\n",
    "layout=dict(title= \"My Grapha\",  \n",
    "             font= dict(family=\"Balto\"),\n",
    "             width=600,\n",
    "             height=600,\n",
    "             autosize=False,\n",
    "             showlegend=False,\n",
    "             xaxis=axis,\n",
    "             yaxis=axis,\n",
    "             margin=dict(\n",
    "             l=40,\n",
    "             r=40,\n",
    "             b=85,\n",
    "             t=100,\n",
    "             pad=0,   \n",
    "     ),\n",
    "     hovermode=\"closest\",\n",
    "     plot_bgcolor=\"#EFECEA\", #set background color            \n",
    "     )\n",
    "\n",
    "fig = dict(data=[trace_edges, trace_nodes], layout=layout)\n",
    "\n",
    "node_adjacencies = []\n",
    "node_text = []\n",
    "for node, adjacencies in enumerate(G.adjacency()):\n",
    "    node_adjacencies.append(len(adjacencies[1]))\n",
    "    node_text.append('# of connections: '+str(len(adjacencies[1])))\n",
    "\n",
    "node_trace.marker.color = node_adjacencies\n",
    "node_trace.text = node_text\n",
    "\n",
    "iplot(fig)"
   ]
  },
  {
   "cell_type": "markdown",
   "id": "b3905458-b160-48e8-82e4-3dc2f40f5e37",
   "metadata": {},
   "source": [
    "## 3. Community detection using Louvain algorithm (modularity/partition)<a id=\"cell3\"></a>"
   ]
  },
  {
   "cell_type": "code",
   "execution_count": 111,
   "id": "447a0f23-7ea8-4be1-829b-3ea683931137",
   "metadata": {},
   "outputs": [
    {
     "name": "stdout",
     "output_type": "stream",
     "text": [
      "The maximum degree of the graph is 37\n",
      "The minimum degree of the graph is 0\n",
      "There are 97 nodes and 300 edges present in the graph\n",
      "The average degree of the nodes in the graph is 6.185567010309279\n"
     ]
    }
   ],
   "source": [
    "degrees = [val for (node, val) in G.degree()]\n",
    "print(\"The maximum degree of the graph is \" + str(np.max(degrees))) \n",
    "print(\"The minimum degree of the graph is \" + str(np.min(degrees)))\n",
    "print(\"There are \" + str(G.number_of_nodes()) + \" nodes and \" + str(G.number_of_edges()) + \" edges present in the graph\")\n",
    "print(\"The average degree of the nodes in the graph is \" + str(np.mean(degrees)))"
   ]
  },
  {
   "cell_type": "markdown",
   "id": "23f38589-001b-46f0-91fd-e09ff2f7a53b",
   "metadata": {},
   "source": [
    "### 3.1. Visualizing communities<a id=\"cell31\"></a>"
   ]
  },
  {
   "cell_type": "code",
   "execution_count": 112,
   "id": "eddd7d29-ccce-4422-9948-8993cd6207cf",
   "metadata": {},
   "outputs": [],
   "source": [
    "# coverting to directed graph \n",
    "G2 = G.to_undirected()"
   ]
  },
  {
   "cell_type": "code",
   "execution_count": 113,
   "id": "17996c6a-cf9f-4fb5-9c96-ea72ee4a9381",
   "metadata": {},
   "outputs": [],
   "source": [
    "partition = community_louvain.best_partition(G2)\n",
    "pos_2 = nx.spring_layout(G2)"
   ]
  },
  {
   "cell_type": "code",
   "execution_count": 114,
   "id": "2afe3985-399f-426b-abfb-40586ef40699",
   "metadata": {},
   "outputs": [
    {
     "data": {
      "image/png": "[encoded data removed]",
      "text/plain": [
       "<Figure size 432x288 with 1 Axes>"
      ]
     },
     "metadata": {},
     "output_type": "display_data"
    }
   ],
   "source": [
    "cmap = cm.get_cmap('viridis', max(partition.values()) + 1)\n",
    "nx.draw_networkx_nodes(G2, pos_2, partition.keys(), node_size=40,\n",
    "                       cmap=cmap, node_color=list(partition.values()))\n",
    "nx.draw_networkx_edges(G2, pos_2, alpha=0.5)\n",
    "plt.show()"
   ]
  },
  {
   "cell_type": "code",
   "execution_count": 105,
   "id": "fa47df31-ce8f-4585-868e-826ff99a948b",
   "metadata": {},
   "outputs": [],
   "source": [
    "clusters = col.defaultdict(int)\n",
    "for k, v in partition.items():\n",
    "    clusters[v] += 1\n",
    "clusters = {k: v for k, v in sorted(clusters.items(), key=lambda item: item[1], reverse=True)}"
   ]
  },
  {
   "cell_type": "code",
   "execution_count": null,
   "id": "16837f80-1801-4767-b0d9-4f7d04ab03bc",
   "metadata": {},
   "outputs": [],
   "source": []
  }
 ],
 "metadata": {
  "kernelspec": {
   "display_name": "Python 3 (ipykernel)",
   "language": "python",
   "name": "python3"
  },
  "language_info": {
   "codemirror_mode": {
    "name": "ipython",
    "version": 3
   },
   "file_extension": ".py",
   "mimetype": "text/x-python",
   "name": "python",
   "nbconvert_exporter": "python",
   "pygments_lexer": "ipython3",
   "version": "3.8.11"
  }
 },
 "nbformat": 4,
 "nbformat_minor": 5
}
