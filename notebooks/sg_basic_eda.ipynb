{
 "cells": [
  {
   "cell_type": "markdown",
   "id": "62a16bcf-34a8-41d2-b778-c98fc45d347b",
   "metadata": {},
   "source": [
    "# Filtering and analyzing Singapore-based tweets - data ingestion, data wrangling, and exploratory data analysis"
   ]
  },
  {
   "cell_type": "markdown",
   "id": "8904b41d-2c11-4612-bea9-3c8c110b4791",
   "metadata": {},
   "source": [
    "### Introduction\n",
    "\n",
    "**Factual**: Estimated Singapore Twitter Users 1.7M [Source](https://www.statista.com/statistics/490600/twitter-users-singapore/#:~:text=Number%20of%20Twitter%20users%20in%20Singapore%202019%2D2021&text=In%202021%2C%20there%20were%20over,between%2025%2D34%20years%20old)\n",
    "\n",
    "Less than 1% of the tweets are geotagged with GPS location.\n",
    "\n",
    "**Challenge**: How to collect tweets by ***Singapore located users*** from streaming twitter data?\n",
    "\n",
    "https://developer.twitter.com/en/docs/twitter-api/v1/data-dictionary/object-model/tweet"
   ]
  },
  {
   "cell_type": "markdown",
   "id": "717583b8-ee5b-4e26-9f70-3b22c4e2586e",
   "metadata": {},
   "source": [
    "### [Table of Contents](#cell2)\n",
    "\n",
    "* 1\\. [Heuristics for filtering Singapore-based users' tweets from streaming twitter API](#cell1)\n",
    "* 2\\.     [Loading the data (csv files)](#cell2)\n",
    "* 3\\. [Cleaning and processing the data](#cell3)\n",
    "    * 3.1. [Datetime cleanup and formatting](#cell31)\n",
    "    * 3.2. [Geocoding fixes](#cell32)\n",
    "<!--         * 3.2.1 [Replacing nan with 'Unknown'](#cell321)\n",
    "        * 3.2.2 [Replacing nan with 'Unknown'](#cell321)\n",
    "        * 3.2.3 [Replacing nan with 'Unknown'](#cell321)\n",
    "        * 3.2.4 [Replacing nan with 'Unknown'](#cell321) -->\n",
    "    * 3.3. [Filtering out non-Singapore accounts - reducing false positives and false negatives](#cell33)\n",
    "    * 3.4. [Processing the tweets and quoted tweets](#cell34)\n",
    "* 4\\. [Exploratory data analysis of Singapore geo-coded tweets](#cell4) \n",
    "    * 4.1. [Basics](#cell41)\n",
    "    * 4.2. [Analysing Singapore users](#cell42)\n",
    "    * 4.3. [Sentiment analysis of tweets and quoted tweets](#cell35)\n",
    "    * 4.4. [Analysing potentially sensitive tweets (PST) with links](#cell43)\n",
    "    * 4.5. [Popular hashtags](#cell44)\n",
    "    * 4.6. [Popular mentions](#cell45)\n",
    "    * 4.7. [Regional analysis](#cell46)\n",
    "    * 4.8. [Others](#cell46)"
   ]
  },
  {
   "cell_type": "code",
   "execution_count": 253,
   "id": "28fe7b97-7308-46b1-834e-da49b0f08168",
   "metadata": {},
   "outputs": [],
   "source": [
    "import re\n",
    "import os\n",
    "import time\n",
    "import glob \n",
    "import json\n",
    "import random\n",
    "from datetime import datetime  as dt\n",
    "\n",
    "import collections as col\n",
    "\n",
    "import numpy as np\n",
    "import pandas as pd\n",
    "\n",
    "# import functools as ft\n",
    "import itertools as it\n",
    "\n",
    "# visualizations\n",
    "import plotly.express as px\n",
    "import matplotlib.pyplot as plt"
   ]
  },
  {
   "cell_type": "code",
   "execution_count": 96,
   "id": "9a156939-63a6-4e30-9ca5-4900406138cc",
   "metadata": {},
   "outputs": [],
   "source": [
    "import warnings\n",
    "warnings.filterwarnings(\"ignore\")"
   ]
  },
  {
   "cell_type": "markdown",
   "id": "46078cec-c69d-4046-8fbb-6b3738c7fe2a",
   "metadata": {},
   "source": [
    "# 1. Heuristics for filtering Singapore-based users' tweets from streaming twitter API \n",
    "\n",
    "##### Tweets from the streaming twitter API are first ingested into MongoDB. The below heuristics are then applied on the collected tweets to fetch Singapore-based users' tweets:   \n",
    "\n",
    "**Step 1 -  Collection of potential Singapore-based twitter users:** Users who follow at least 2 of the Singapore based twitter accounts listed below: \n",
    "\n",
    "`Singapore based twitter handles\n",
    "'mindefsg', 'MOEsg', 'sporeMOH', 'LTAsg', 'SMRT_Singapore', 'SBSTransit_Ltd', 'SingaporeHDB', 'MNDSingapore', 'mhasingapore', 'SingaporePolice', 'URAsg',  'MAS_sg', 'MOFsg', 'ICASingapore', 'SingaporeMCI', 'nlbsingapore', 'IMDAsg',  'NEAsg', 'nparksbuzz', 'SGSportsHub', 'govsingapore', 'SingaporeCAAS', 'MFAsg',\n",
    " ‘iremembersg', 'youthsg', 'NUSingapore', 'NTUsg', 'sgSMU', 'sutdsg', 'SGRedCross',  'STcom', 'ChannelNewsAsia', 'TODAYonline', 'asiaonecom', 'thenewpaper', 'MothershipSG', 'Singtel', 'StarHub', 'MyRepublicSG', 'M1Singapore', 'temasekpoly', 'singaporetech','SingaporePoly', 'PUBsingapore', 'NgeeAnnNP', 'ITESpore', 'mediacorp', 'YahooSG',  'TimeOutSG', 'VisitSingapore', 'stb_sg', 'GovTechSG', 'SGmagazine', 'mySingapore',  'sgelection', 'SGAG_SG', 'TEDxSingapore', 'STATravelSG', 'STPix'`\n",
    " \n",
    "##### Collected users count: 888739\n",
    "\n",
    "The file `/data/min_2_following_users.txt` contains the list of collected twitter user ids.\n",
    "\n",
    "**Step 2 - Filtering Singapore-based users' tweets:** Tweets from a user whose:\n",
    "1. **Twitter user id** in the collected ids as mentioned above OR\n",
    "2. **Place** is set to Singapore OR\n",
    "3. **Location** containing `'sg', 'spore', 'singapore', 'singapura'`\n",
    "4. **Description** containing `'spore', 'singapore', 'singapura'`\n",
    "\n",
    "The file `get_sg_tweets.py` contains the code for Step 2.\n"
   ]
  },
  {
   "cell_type": "markdown",
   "id": "5d1baef7-10fa-468d-9220-05a5ffaef242",
   "metadata": {},
   "source": [
    "# 2. Loading the data (csv files) \n",
    "##### Loading and merging the fragmented csvs files. The files contain the collected Singapore-based tweets."
   ]
  },
  {
   "cell_type": "code",
   "execution_count": 97,
   "id": "45f199cb-49f6-4f71-986d-11e0fa8c6b3c",
   "metadata": {},
   "outputs": [],
   "source": [
    "BASE_PATH = '/Users/anshu/Work/Code/rpm-v2/data/v2/'\n",
    "SG_TWEETS_PATH = 'tw_sg_covid_vaccine/'\n",
    "SG_TWEETS_ENGAGEMENTS_PATH = 'tw_eng_sg_covid_vaccine/'"
   ]
  },
  {
   "cell_type": "code",
   "execution_count": 178,
   "id": "d4a43588-401d-4b4d-a35f-34a31f3e362f",
   "metadata": {},
   "outputs": [],
   "source": [
    "# csvs containing users and tweets specific data\n",
    "tw_data = pd.concat([pd.read_csv(csv_file, index_col=0, header=0, engine='python') for csv_file in glob.glob(\n",
    "            os.path.join(BASE_PATH, SG_TWEETS_PATH, \"*.csv\"))], axis=0, ignore_index=True)\n",
    "\n",
    "# csvs containing the collected tweets' engagement data - retweets, replies and quoted tweets\n",
    "tw_eng_data = pd.concat([pd.read_csv(csv_file, index_col=0, header=0, engine='python') for csv_file in glob.glob(\n",
    "            os.path.join(BASE_PATH, SG_TWEETS_ENGAGEMENTS_PATH, \"*.csv\"))], axis=0, ignore_index=True)"
   ]
  },
  {
   "cell_type": "code",
   "execution_count": 99,
   "id": "1f0da77c-8a8d-478d-a9f5-a9566af3ebca",
   "metadata": {},
   "outputs": [
    {
     "data": {
      "text/html": [
       "<div>\n",
       "<style scoped>\n",
       "    .dataframe tbody tr th:only-of-type {\n",
       "        vertical-align: middle;\n",
       "    }\n",
       "\n",
       "    .dataframe tbody tr th {\n",
       "        vertical-align: top;\n",
       "    }\n",
       "\n",
       "    .dataframe thead th {\n",
       "        text-align: right;\n",
       "    }\n",
       "</style>\n",
       "<table border=\"1\" class=\"dataframe\">\n",
       "  <thead>\n",
       "    <tr style=\"text-align: right;\">\n",
       "      <th></th>\n",
       "      <th>tweet_text</th>\n",
       "      <th>tweet_time</th>\n",
       "      <th>tweet_id</th>\n",
       "      <th>tweet_lang</th>\n",
       "      <th>tweet_possibly_sensitive</th>\n",
       "      <th>entity_image_url</th>\n",
       "      <th>entity_mentions</th>\n",
       "      <th>entity_hashtags</th>\n",
       "      <th>entity_link_url</th>\n",
       "      <th>user_id</th>\n",
       "      <th>user_name</th>\n",
       "      <th>user_screenname</th>\n",
       "      <th>user_friends_count</th>\n",
       "      <th>user_followers_count</th>\n",
       "      <th>user_verified</th>\n",
       "      <th>user_location</th>\n",
       "      <th>user_desc</th>\n",
       "      <th>user_geo_coding</th>\n",
       "      <th>user_geo_tagging</th>\n",
       "    </tr>\n",
       "  </thead>\n",
       "  <tbody>\n",
       "    <tr>\n",
       "      <th>0</th>\n",
       "      <td>RT @NickHudsonCT: Read the replies! People see...</td>\n",
       "      <td>Fri Aug 06 04:50:47 +0000 2021</td>\n",
       "      <td>1423506816089133057</td>\n",
       "      <td>en</td>\n",
       "      <td>NaN</td>\n",
       "      <td>NaN</td>\n",
       "      <td>NickHudsonCT</td>\n",
       "      <td>NaN</td>\n",
       "      <td>NaN</td>\n",
       "      <td>1223307253236817922</td>\n",
       "      <td>Coronavirus</td>\n",
       "      <td>JayChance12</td>\n",
       "      <td>4299.0</td>\n",
       "      <td>450</td>\n",
       "      <td>False</td>\n",
       "      <td>ElysiumTimeIn fr all on Earth</td>\n",
       "      <td>#biotechnology #policy #risk #prevention #miti...</td>\n",
       "      <td>NaN</td>\n",
       "      <td>NaN</td>\n",
       "    </tr>\n",
       "    <tr>\n",
       "      <th>1</th>\n",
       "      <td>RT @Simple_Peasant1: I hope Dr. Kumar clarifie...</td>\n",
       "      <td>Fri Aug 06 04:50:51 +0000 2021</td>\n",
       "      <td>1423506836423020548</td>\n",
       "      <td>en</td>\n",
       "      <td>NaN</td>\n",
       "      <td>NaN</td>\n",
       "      <td>Simple_Peasant1</td>\n",
       "      <td>NaN</td>\n",
       "      <td>NaN</td>\n",
       "      <td>117753607</td>\n",
       "      <td>Timbalan Pengarah J-KOM</td>\n",
       "      <td>fakrul07</td>\n",
       "      <td>2978.0</td>\n",
       "      <td>1194</td>\n",
       "      <td>False</td>\n",
       "      <td>Kuala Lumpur Federal Territory</td>\n",
       "      <td>I've heard that evil come disguised</td>\n",
       "      <td>Malaysia|MY</td>\n",
       "      <td>NaN</td>\n",
       "    </tr>\n",
       "    <tr>\n",
       "      <th>2</th>\n",
       "      <td>RT @jenniferatntd: The world is totally differ...</td>\n",
       "      <td>Fri Aug 06 04:50:55 +0000 2021</td>\n",
       "      <td>1423506851417640960</td>\n",
       "      <td>en</td>\n",
       "      <td>NaN</td>\n",
       "      <td>NaN</td>\n",
       "      <td>jenniferatntd</td>\n",
       "      <td>CCP</td>\n",
       "      <td>NaN</td>\n",
       "      <td>2310110660</td>\n",
       "      <td>Journey Home to Singapore</td>\n",
       "      <td>journeyhometosg</td>\n",
       "      <td>266.0</td>\n",
       "      <td>407</td>\n",
       "      <td>False</td>\n",
       "      <td>Singapore</td>\n",
       "      <td>Loves traveling. Dislikes the China Communist ...</td>\n",
       "      <td>Singapore|SG</td>\n",
       "      <td>NaN</td>\n",
       "    </tr>\n",
       "    <tr>\n",
       "      <th>3</th>\n",
       "      <td>RT @emma_ducros: Chiche.</td>\n",
       "      <td>Fri Aug 06 04:50:57 +0000 2021</td>\n",
       "      <td>1423506861001748482</td>\n",
       "      <td>en</td>\n",
       "      <td>NaN</td>\n",
       "      <td>NaN</td>\n",
       "      <td>emma_ducros</td>\n",
       "      <td>NaN</td>\n",
       "      <td>NaN</td>\n",
       "      <td>456050432</td>\n",
       "      <td>Nathalie Gourd</td>\n",
       "      <td>NGourd</td>\n",
       "      <td>2540.0</td>\n",
       "      <td>7413</td>\n",
       "      <td>False</td>\n",
       "      <td>Provence-Alpes-Côte d'Azur, France</td>\n",
       "      <td>Comité de soutien @NicolasSarkozy #MerciNS ❤️ ...</td>\n",
       "      <td>France|FR</td>\n",
       "      <td>NaN</td>\n",
       "    </tr>\n",
       "    <tr>\n",
       "      <th>4</th>\n",
       "      <td>RT @nralyysa: day by day , students are exhaus...</td>\n",
       "      <td>Fri Aug 06 04:51:00 +0000 2021</td>\n",
       "      <td>1423506872175251459</td>\n",
       "      <td>en</td>\n",
       "      <td>NaN</td>\n",
       "      <td>NaN</td>\n",
       "      <td>nralyysa</td>\n",
       "      <td>NaN</td>\n",
       "      <td>NaN</td>\n",
       "      <td>1202498293252546560</td>\n",
       "      <td>mahisha</td>\n",
       "      <td>corgisha</td>\n",
       "      <td>72.0</td>\n",
       "      <td>26</td>\n",
       "      <td>False</td>\n",
       "      <td>Singapore</td>\n",
       "      <td>um let’s just see how this twitter thing works...</td>\n",
       "      <td>Singapore|SG</td>\n",
       "      <td>NaN</td>\n",
       "    </tr>\n",
       "  </tbody>\n",
       "</table>\n",
       "</div>"
      ],
      "text/plain": [
       "                                          tweet_text  \\\n",
       "0  RT @NickHudsonCT: Read the replies! People see...   \n",
       "1  RT @Simple_Peasant1: I hope Dr. Kumar clarifie...   \n",
       "2  RT @jenniferatntd: The world is totally differ...   \n",
       "3                           RT @emma_ducros: Chiche.   \n",
       "4  RT @nralyysa: day by day , students are exhaus...   \n",
       "\n",
       "                       tweet_time             tweet_id tweet_lang  \\\n",
       "0  Fri Aug 06 04:50:47 +0000 2021  1423506816089133057         en   \n",
       "1  Fri Aug 06 04:50:51 +0000 2021  1423506836423020548         en   \n",
       "2  Fri Aug 06 04:50:55 +0000 2021  1423506851417640960         en   \n",
       "3  Fri Aug 06 04:50:57 +0000 2021  1423506861001748482         en   \n",
       "4  Fri Aug 06 04:51:00 +0000 2021  1423506872175251459         en   \n",
       "\n",
       "  tweet_possibly_sensitive entity_image_url  entity_mentions entity_hashtags  \\\n",
       "0                      NaN              NaN     NickHudsonCT             NaN   \n",
       "1                      NaN              NaN  Simple_Peasant1             NaN   \n",
       "2                      NaN              NaN    jenniferatntd             CCP   \n",
       "3                      NaN              NaN      emma_ducros             NaN   \n",
       "4                      NaN              NaN         nralyysa             NaN   \n",
       "\n",
       "  entity_link_url              user_id                  user_name  \\\n",
       "0             NaN  1223307253236817922                Coronavirus   \n",
       "1             NaN            117753607    Timbalan Pengarah J-KOM   \n",
       "2             NaN           2310110660  Journey Home to Singapore   \n",
       "3             NaN            456050432             Nathalie Gourd   \n",
       "4             NaN  1202498293252546560                    mahisha   \n",
       "\n",
       "   user_screenname  user_friends_count user_followers_count user_verified  \\\n",
       "0      JayChance12              4299.0                  450         False   \n",
       "1         fakrul07              2978.0                 1194         False   \n",
       "2  journeyhometosg               266.0                  407         False   \n",
       "3           NGourd              2540.0                 7413         False   \n",
       "4         corgisha                72.0                   26         False   \n",
       "\n",
       "                        user_location  \\\n",
       "0       ElysiumTimeIn fr all on Earth   \n",
       "1      Kuala Lumpur Federal Territory   \n",
       "2                           Singapore   \n",
       "3  Provence-Alpes-Côte d'Azur, France   \n",
       "4                           Singapore   \n",
       "\n",
       "                                           user_desc user_geo_coding  \\\n",
       "0  #biotechnology #policy #risk #prevention #miti...             NaN   \n",
       "1                I've heard that evil come disguised     Malaysia|MY   \n",
       "2  Loves traveling. Dislikes the China Communist ...    Singapore|SG   \n",
       "3  Comité de soutien @NicolasSarkozy #MerciNS ❤️ ...       France|FR   \n",
       "4  um let’s just see how this twitter thing works...    Singapore|SG   \n",
       "\n",
       "  user_geo_tagging  \n",
       "0              NaN  \n",
       "1              NaN  \n",
       "2              NaN  \n",
       "3              NaN  \n",
       "4              NaN  "
      ]
     },
     "execution_count": 99,
     "metadata": {},
     "output_type": "execute_result"
    }
   ],
   "source": [
    "tw_data.head(5)"
   ]
  },
  {
   "cell_type": "code",
   "execution_count": 100,
   "id": "fa06d886-9fc0-4569-a6d5-23b50a915205",
   "metadata": {},
   "outputs": [
    {
     "data": {
      "text/html": [
       "<div>\n",
       "<style scoped>\n",
       "    .dataframe tbody tr th:only-of-type {\n",
       "        vertical-align: middle;\n",
       "    }\n",
       "\n",
       "    .dataframe tbody tr th {\n",
       "        vertical-align: top;\n",
       "    }\n",
       "\n",
       "    .dataframe thead th {\n",
       "        text-align: right;\n",
       "    }\n",
       "</style>\n",
       "<table border=\"1\" class=\"dataframe\">\n",
       "  <thead>\n",
       "    <tr style=\"text-align: right;\">\n",
       "      <th></th>\n",
       "      <th>user_id</th>\n",
       "      <th>user_name</th>\n",
       "      <th>user_screenname</th>\n",
       "      <th>tweet_id</th>\n",
       "      <th>tweet_enagagement_type</th>\n",
       "      <th>replied_to_tweet_id</th>\n",
       "      <th>replied_to_user_id</th>\n",
       "      <th>replied_to_user_screenname</th>\n",
       "      <th>retweeted_tweet_id</th>\n",
       "      <th>retweeted_tweet_time</th>\n",
       "      <th>...</th>\n",
       "      <th>quoted_tweet_id</th>\n",
       "      <th>quoted_tweet_time</th>\n",
       "      <th>quoted_user_id</th>\n",
       "      <th>quoted_user_name</th>\n",
       "      <th>quoted_user_verified</th>\n",
       "      <th>quoted_user_screenname</th>\n",
       "      <th>quoted_user_geo_coding</th>\n",
       "      <th>quoted_user_geo_coding_type</th>\n",
       "      <th>quoted_retweet_count</th>\n",
       "      <th>quoted_favorite_count</th>\n",
       "    </tr>\n",
       "  </thead>\n",
       "  <tbody>\n",
       "    <tr>\n",
       "      <th>0</th>\n",
       "      <td>1.223307e+18</td>\n",
       "      <td>Coronavirus</td>\n",
       "      <td>JayChance12</td>\n",
       "      <td>1423506816089133057</td>\n",
       "      <td>Quote</td>\n",
       "      <td>NaN</td>\n",
       "      <td>NaN</td>\n",
       "      <td>NaN</td>\n",
       "      <td>NaN</td>\n",
       "      <td>NaN</td>\n",
       "      <td>...</td>\n",
       "      <td>1.423391e+18</td>\n",
       "      <td>Thu Aug 05 21:09:49 +0000 2021</td>\n",
       "      <td>1.898686e+08</td>\n",
       "      <td>Tedros Adhanom Ghebreyesus</td>\n",
       "      <td>True</td>\n",
       "      <td>DrTedros</td>\n",
       "      <td>Switzerland|CH</td>\n",
       "      <td>Location</td>\n",
       "      <td>164.0</td>\n",
       "      <td>890.0</td>\n",
       "    </tr>\n",
       "    <tr>\n",
       "      <th>1</th>\n",
       "      <td>1.177536e+08</td>\n",
       "      <td>Timbalan Pengarah J-KOM</td>\n",
       "      <td>fakrul07</td>\n",
       "      <td>1423506836423020548</td>\n",
       "      <td>Quote</td>\n",
       "      <td>NaN</td>\n",
       "      <td>NaN</td>\n",
       "      <td>NaN</td>\n",
       "      <td>NaN</td>\n",
       "      <td>NaN</td>\n",
       "      <td>...</td>\n",
       "      <td>1.423460e+18</td>\n",
       "      <td>Fri Aug 06 01:46:11 +0000 2021</td>\n",
       "      <td>1.314752e+08</td>\n",
       "      <td>Dr. Kumar (PSM)</td>\n",
       "      <td>False</td>\n",
       "      <td>kumarPsm</td>\n",
       "      <td>NaN</td>\n",
       "      <td>NaN</td>\n",
       "      <td>43.0</td>\n",
       "      <td>112.0</td>\n",
       "    </tr>\n",
       "    <tr>\n",
       "      <th>2</th>\n",
       "      <td>2.310111e+09</td>\n",
       "      <td>Journey Home to Singapore</td>\n",
       "      <td>journeyhometosg</td>\n",
       "      <td>1423506851417640960</td>\n",
       "      <td>Quote</td>\n",
       "      <td>NaN</td>\n",
       "      <td>NaN</td>\n",
       "      <td>NaN</td>\n",
       "      <td>NaN</td>\n",
       "      <td>NaN</td>\n",
       "      <td>...</td>\n",
       "      <td>1.423352e+18</td>\n",
       "      <td>Thu Aug 05 18:34:12 +0000 2021</td>\n",
       "      <td>2.313028e+09</td>\n",
       "      <td>Jennifer Zeng 曾錚</td>\n",
       "      <td>False</td>\n",
       "      <td>jenniferatntd</td>\n",
       "      <td>United States|US</td>\n",
       "      <td>Location</td>\n",
       "      <td>33.0</td>\n",
       "      <td>146.0</td>\n",
       "    </tr>\n",
       "    <tr>\n",
       "      <th>3</th>\n",
       "      <td>4.560504e+08</td>\n",
       "      <td>Nathalie Gourd</td>\n",
       "      <td>NGourd</td>\n",
       "      <td>1423506861001748482</td>\n",
       "      <td>Quote</td>\n",
       "      <td>NaN</td>\n",
       "      <td>NaN</td>\n",
       "      <td>NaN</td>\n",
       "      <td>NaN</td>\n",
       "      <td>NaN</td>\n",
       "      <td>...</td>\n",
       "      <td>1.423294e+18</td>\n",
       "      <td>Thu Aug 05 14:44:02 +0000 2021</td>\n",
       "      <td>3.839512e+07</td>\n",
       "      <td>franceinfo</td>\n",
       "      <td>True</td>\n",
       "      <td>franceinfo</td>\n",
       "      <td>France|FR</td>\n",
       "      <td>Location</td>\n",
       "      <td>240.0</td>\n",
       "      <td>696.0</td>\n",
       "    </tr>\n",
       "    <tr>\n",
       "      <th>4</th>\n",
       "      <td>1.202498e+18</td>\n",
       "      <td>mahisha</td>\n",
       "      <td>corgisha</td>\n",
       "      <td>1423506872175251459</td>\n",
       "      <td>Retweet</td>\n",
       "      <td>NaN</td>\n",
       "      <td>NaN</td>\n",
       "      <td>NaN</td>\n",
       "      <td>1.423205e+18</td>\n",
       "      <td>Thu Aug 05 08:51:15 +0000 2021</td>\n",
       "      <td>...</td>\n",
       "      <td>NaN</td>\n",
       "      <td>NaN</td>\n",
       "      <td>NaN</td>\n",
       "      <td>NaN</td>\n",
       "      <td>NaN</td>\n",
       "      <td>NaN</td>\n",
       "      <td>NaN</td>\n",
       "      <td>NaN</td>\n",
       "      <td>NaN</td>\n",
       "      <td>NaN</td>\n",
       "    </tr>\n",
       "  </tbody>\n",
       "</table>\n",
       "<p>5 rows × 29 columns</p>\n",
       "</div>"
      ],
      "text/plain": [
       "        user_id                  user_name  user_screenname  \\\n",
       "0  1.223307e+18                Coronavirus      JayChance12   \n",
       "1  1.177536e+08    Timbalan Pengarah J-KOM         fakrul07   \n",
       "2  2.310111e+09  Journey Home to Singapore  journeyhometosg   \n",
       "3  4.560504e+08             Nathalie Gourd           NGourd   \n",
       "4  1.202498e+18                    mahisha         corgisha   \n",
       "\n",
       "              tweet_id tweet_enagagement_type replied_to_tweet_id  \\\n",
       "0  1423506816089133057                  Quote                 NaN   \n",
       "1  1423506836423020548                  Quote                 NaN   \n",
       "2  1423506851417640960                  Quote                 NaN   \n",
       "3  1423506861001748482                  Quote                 NaN   \n",
       "4  1423506872175251459                Retweet                 NaN   \n",
       "\n",
       "  replied_to_user_id replied_to_user_screenname  retweeted_tweet_id  \\\n",
       "0                NaN                        NaN                 NaN   \n",
       "1                NaN                        NaN                 NaN   \n",
       "2                NaN                        NaN                 NaN   \n",
       "3                NaN                        NaN                 NaN   \n",
       "4                NaN                        NaN        1.423205e+18   \n",
       "\n",
       "             retweeted_tweet_time  ...  quoted_tweet_id  \\\n",
       "0                             NaN  ...     1.423391e+18   \n",
       "1                             NaN  ...     1.423460e+18   \n",
       "2                             NaN  ...     1.423352e+18   \n",
       "3                             NaN  ...     1.423294e+18   \n",
       "4  Thu Aug 05 08:51:15 +0000 2021  ...              NaN   \n",
       "\n",
       "                quoted_tweet_time quoted_user_id            quoted_user_name  \\\n",
       "0  Thu Aug 05 21:09:49 +0000 2021   1.898686e+08  Tedros Adhanom Ghebreyesus   \n",
       "1  Fri Aug 06 01:46:11 +0000 2021   1.314752e+08             Dr. Kumar (PSM)   \n",
       "2  Thu Aug 05 18:34:12 +0000 2021   2.313028e+09            Jennifer Zeng 曾錚   \n",
       "3  Thu Aug 05 14:44:02 +0000 2021   3.839512e+07                  franceinfo   \n",
       "4                             NaN            NaN                         NaN   \n",
       "\n",
       "  quoted_user_verified quoted_user_screenname  quoted_user_geo_coding  \\\n",
       "0                 True               DrTedros          Switzerland|CH   \n",
       "1                False               kumarPsm                     NaN   \n",
       "2                False          jenniferatntd        United States|US   \n",
       "3                 True             franceinfo               France|FR   \n",
       "4                  NaN                    NaN                     NaN   \n",
       "\n",
       "   quoted_user_geo_coding_type quoted_retweet_count  quoted_favorite_count  \n",
       "0                     Location                164.0                  890.0  \n",
       "1                          NaN                 43.0                  112.0  \n",
       "2                     Location                 33.0                  146.0  \n",
       "3                     Location                240.0                  696.0  \n",
       "4                          NaN                  NaN                    NaN  \n",
       "\n",
       "[5 rows x 29 columns]"
      ]
     },
     "execution_count": 100,
     "metadata": {},
     "output_type": "execute_result"
    }
   ],
   "source": [
    "tw_eng_data.head(5)"
   ]
  },
  {
   "cell_type": "markdown",
   "id": "5fc0a7f8-282e-44d6-b761-e85620f3a35b",
   "metadata": {},
   "source": [
    "##### Inner join of tweets and related engagement data "
   ]
  },
  {
   "cell_type": "code",
   "execution_count": 179,
   "id": "69b68f52-ec20-40c4-915a-9ee04ee581c8",
   "metadata": {},
   "outputs": [
    {
     "data": {
      "text/plain": [
       "(429877, 47)"
      ]
     },
     "execution_count": 179,
     "metadata": {},
     "output_type": "execute_result"
    }
   ],
   "source": [
    "tweets_data = tw_data.merge(tw_eng_data, on=\"tweet_id\", how = 'inner')\n",
    "tweets_data.shape"
   ]
  },
  {
   "cell_type": "markdown",
   "id": "924d9e93-8dcd-4b71-aab2-3b52f62a7b46",
   "metadata": {},
   "source": [
    "# 3. Cleaning and processing the data"
   ]
  },
  {
   "cell_type": "code",
   "execution_count": 180,
   "id": "8232e606-e859-444d-9b6b-e90cfda12c26",
   "metadata": {},
   "outputs": [
    {
     "data": {
      "text/plain": [
       "Index(['tweet_text', 'tweet_time', 'tweet_id', 'tweet_lang',\n",
       "       'tweet_possibly_sensitive', 'entity_image_url', 'entity_mentions',\n",
       "       'entity_hashtags', 'entity_link_url', 'user_id_x', 'user_name_x',\n",
       "       'user_screenname_x', 'user_friends_count', 'user_followers_count',\n",
       "       'user_verified', 'user_location', 'user_desc', 'user_geo_coding',\n",
       "       'user_geo_tagging', 'user_id_y', 'user_name_y', 'user_screenname_y',\n",
       "       'tweet_enagagement_type', 'replied_to_tweet_id', 'replied_to_user_id',\n",
       "       'replied_to_user_screenname', 'retweeted_tweet_id',\n",
       "       'retweeted_tweet_time', 'retweeted_user_id', 'retweeted_user_name',\n",
       "       'retweeted_user_verified', 'retweeted_user_screenname',\n",
       "       'retweeted_user_geo_coding', 'retweeted_user_geo_coding_type',\n",
       "       'retweeted_retweet_count', 'retweeted_favorite_count',\n",
       "       'quoted_tweet_text', 'quoted_tweet_id', 'quoted_tweet_time',\n",
       "       'quoted_user_id', 'quoted_user_name', 'quoted_user_verified',\n",
       "       'quoted_user_screenname', 'quoted_user_geo_coding',\n",
       "       'quoted_user_geo_coding_type', 'quoted_retweet_count',\n",
       "       'quoted_favorite_count'],\n",
       "      dtype='object')"
      ]
     },
     "execution_count": 180,
     "metadata": {},
     "output_type": "execute_result"
    }
   ],
   "source": [
    "tweets_data.columns"
   ]
  },
  {
   "cell_type": "markdown",
   "id": "2fe64ed0-fca7-4502-9133-0aa5d75cae7a",
   "metadata": {},
   "source": [
    "### 3.1. Datetime cleanup and formatting"
   ]
  },
  {
   "cell_type": "markdown",
   "id": "834d6cb6-7e3e-4770-a5ca-ac6c499cc6e7",
   "metadata": {},
   "source": [
    "##### Converting to pandas datetime and dropping tweets with improper datetime e.g., string type"
   ]
  },
  {
   "cell_type": "code",
   "execution_count": 181,
   "id": "5ac6102e-1c15-4dab-83b9-533338191746",
   "metadata": {},
   "outputs": [],
   "source": [
    "tweets_data['tweet_time'] = pd.to_datetime(tweets_data['tweet_time'], errors='coerce')\n",
    "tweets_data = tweets_data.dropna(subset=['tweet_time'])"
   ]
  },
  {
   "cell_type": "markdown",
   "id": "1b9c1928-61d4-4875-8b4c-ff26cb87710b",
   "metadata": {},
   "source": [
    "##### Adding columns `tweet_datetime` and `tweet_date` for further analyses"
   ]
  },
  {
   "cell_type": "code",
   "execution_count": 103,
   "id": "8ff5d4e6-df69-4393-bf31-94791fb468a1",
   "metadata": {},
   "outputs": [],
   "source": [
    "tweets_data['tweet_datetime'] = tweets_data.tweet_time.dt.strftime('%Y-%m-%d %H')\n",
    "tweets_data['tweet_date'] = tweets_data.tweet_time.dt.strftime('%Y-%m-%d')"
   ]
  },
  {
   "cell_type": "markdown",
   "id": "9bf6839d-23a1-4fc2-b1be-29ef7c82ffb5",
   "metadata": {},
   "source": [
    "### 3.2. Geocoding fixes"
   ]
  },
  {
   "cell_type": "markdown",
   "id": "4208a9da-cb04-457f-905e-135806bed212",
   "metadata": {},
   "source": [
    "#### What is **geocoding** here? \n",
    "Inferring a user's country. \n",
    "\n",
    "#### How is geocoding done during data collection?\n",
    "1. **Coordinate**: If not nullable, latitude, longitude data in `coordinates` object are used to fetch the country using the [Geocoder library] (https://geocoder.readthedocs.io/), ELSE\n",
    "2. **Place**: If not nullable, Twitter API provides a user's country in the `place` object, ELSE\n",
    "3. **User-defined location**: (1) [spaCy](https://github.com/explosion/spaCy) to process any place entity in the `location` string (2) Geocoder to fetch the country, ELSE\n",
    "4. **User-defined description**: (1) [spaCy](https://github.com/explosion/spaCy) to process any place entity in the `description` string (2) Geocoder to fetch the country\n",
    "\n",
    "Tweets that are not geocoded are rejected. "
   ]
  },
  {
   "cell_type": "markdown",
   "id": "5c60f5c1-5826-4126-bd78-9bd808089512",
   "metadata": {},
   "source": [
    "#### 3.2.1. Replacing nan with 'Unknown' "
   ]
  },
  {
   "cell_type": "code",
   "execution_count": 185,
   "id": "6d1a82aa-4617-4f34-8a60-57aea4736109",
   "metadata": {},
   "outputs": [],
   "source": [
    "tweets_data['quoted_user_geo_coding'].fillna(value='Unknown', inplace=True)\n",
    "tweets_data['retweeted_user_geo_coding'].fillna(value='Unknown', inplace=True)\n",
    "tweets_data['user_geo_coding'].fillna(value='Unknown', inplace=True)"
   ]
  },
  {
   "cell_type": "markdown",
   "id": "485b7b30-e2d6-43c0-9951-e6d699ae8584",
   "metadata": {},
   "source": [
    "##### Visualizing the distribution of geocoded tweets "
   ]
  },
  {
   "cell_type": "code",
   "execution_count": 186,
   "id": "d8f8a454-760d-4b9e-8622-41fa167521f6",
   "metadata": {},
   "outputs": [
    {
     "data": {
      "image/png": "[encoded data removed]",
      "text/plain": [
       "<Figure size 432x288 with 1 Axes>"
      ]
     },
     "metadata": {
      "needs_background": "light"
     },
     "output_type": "display_data"
    }
   ],
   "source": [
    "geocoded_tw_data = tweets_data['user_geo_coding']\n",
    "\n",
    "count_geocoded_tw_data = col.Counter(geocoded_tw_data)\n",
    "count_geocoded_tw_data = count_geocoded_tw_data.most_common()\n",
    "\n",
    "# top X countries\n",
    "TOP_X = 15\n",
    "countries = [c[0].split('|')[0] for c in count_geocoded_tw_data[:TOP_X]]\n",
    "counts = [c[1] for c in count_geocoded_tw_data[:TOP_X]]\n",
    "\n",
    "plt.barh(countries[::-1], counts[::-1])\n",
    " \n",
    "plt.ylabel(\"Country\")\n",
    "plt.xlabel(\"Tweets Count\")\n",
    "plt.xticks(rotation=45)\n",
    "plt.title(\"Distribution of tweets geocoded country\")\n",
    "plt.show()"
   ]
  },
  {
   "cell_type": "markdown",
   "id": "f25647c0-27cc-4c37-8ed8-3ded4aaee9e6",
   "metadata": {},
   "source": [
    "#### **Bug fixing**: Users whose location contains a `specific region in Singapore` (e.g., West Singpore, North-east regions) are erroneously coded as `Uganda`\n",
    "TODO: Fix this during data collection"
   ]
  },
  {
   "cell_type": "markdown",
   "id": "464776dd-5bff-4441-8b31-d42cc5aa9aea",
   "metadata": {},
   "source": [
    "##### Looking for random examples with this error"
   ]
  },
  {
   "cell_type": "code",
   "execution_count": 107,
   "id": "1f79564b-ad0f-45fd-a06b-5db673dd4064",
   "metadata": {},
   "outputs": [
    {
     "name": "stdout",
     "output_type": "stream",
     "text": [
      "https://twitter.com/syariqmarican\n",
      "https://twitter.com/mvtin_nvlsor\n",
      "https://twitter.com/thaddeusong92\n",
      "https://twitter.com/robinnx7777\n",
      "https://twitter.com/sgboyboyy\n"
     ]
    }
   ],
   "source": [
    "wrong_geocoded_uganda_users  = list(tweets_data[tweets_data['user_geo_coding'] == 'Uganda|UG']['user_screenname_x'].unique())\n",
    "for _ in range(5):\n",
    "    print(\"https://twitter.com/\" + random.choice(wrong_geocoded_uganda_users))\n"
   ]
  },
  {
   "cell_type": "code",
   "execution_count": 108,
   "id": "fec53061-38e3-420e-a824-274bb6d294e1",
   "metadata": {},
   "outputs": [
    {
     "name": "stdout",
     "output_type": "stream",
     "text": [
      "641\n",
      "22\n",
      "78\n"
     ]
    }
   ],
   "source": [
    "print(tweets_data[tweets_data['user_geo_coding'] == 'Uganda|UG']['user_screenname_x'].nunique())\n",
    "print(tweets_data[tweets_data['quoted_user_geo_coding'] == 'Uganda|UG']['user_screenname_x'].nunique())\n",
    "print(tweets_data[tweets_data['retweeted_user_geo_coding'] == 'Uganda|UG']['user_screenname_x'].nunique())"
   ]
  },
  {
   "cell_type": "markdown",
   "id": "4f37a813-ee75-493f-8e67-970433876080",
   "metadata": {},
   "source": [
    "#### 3.2.2. Replacing \"Uganda|UG\" with \"Singapore|SG\""
   ]
  },
  {
   "cell_type": "code",
   "execution_count": 109,
   "id": "e43034af-f314-463e-ab94-3523bbe1715e",
   "metadata": {},
   "outputs": [],
   "source": [
    "tweets_data['user_geo_coding'].replace(['Uganda|UG'], 'Singapore|SG', inplace=True)\n",
    "tweets_data['retweeted_user_geo_coding'].replace(['Uganda|UG'], 'Singapore|SG', inplace=True)\n",
    "tweets_data['quoted_user_geo_coding'].replace(['Uganda|UG'], 'Singapore|SG', inplace=True)"
   ]
  },
  {
   "cell_type": "markdown",
   "id": "83b156bd-1c27-470e-ae64-f9c4ff55826b",
   "metadata": {},
   "source": [
    "#### 3.2.3. Remove the country code from the data (not required)"
   ]
  },
  {
   "cell_type": "code",
   "execution_count": 110,
   "id": "9cb79927-7b3f-43b3-9f82-6e082037e2f9",
   "metadata": {},
   "outputs": [],
   "source": [
    "tweets_data['quoted_user_geo_coding'] = [c.split('|')[0] for c in tweets_data['quoted_user_geo_coding']]\n",
    "tweets_data['retweeted_user_geo_coding'] = [c.split('|')[0] for c in tweets_data['retweeted_user_geo_coding']]\n",
    "tweets_data['user_geo_coding'] = [c.split('|')[0] for c in tweets_data['user_geo_coding']]"
   ]
  },
  {
   "cell_type": "markdown",
   "id": "91aaa738-908c-4ab1-9c2c-12c690785060",
   "metadata": {},
   "source": [
    "##### Known Singaporeans "
   ]
  },
  {
   "cell_type": "code",
   "execution_count": 111,
   "id": "c8529cd2-8ca1-4f04-b348-1da6ab967ba1",
   "metadata": {},
   "outputs": [],
   "source": [
    "#@muttons @cz_binance #MOEsg "
   ]
  },
  {
   "cell_type": "markdown",
   "id": "15be51c0-016a-4573-bb11-707cc2087bc6",
   "metadata": {},
   "source": [
    "#### 3.2.4. Fixing **users with multiple geocoded countries**   \n",
    "\n",
    "TODO: Fix this during data collection with the help of memoization\n",
    "\n",
    "1. Geocoded countries is ``greater than 2`` \n",
    "    - Highly errorneos, set 'Unknown'\n",
    "2. Geocoded countries count ``is 2`` \n",
    "    - If one of the geocodings is 'Unknown' then set the 'other' known location|\n",
    "    -  If both the geocodings != 'Unknown' then set both to 'Unknown' (dubious case) "
   ]
  },
  {
   "cell_type": "code",
   "execution_count": 112,
   "id": "52ef2dea-2193-41c9-a1d4-e88dc0f370b0",
   "metadata": {},
   "outputs": [],
   "source": [
    "# getting count of users' decoded locations \n",
    "# -- TODO what about quoted_user_screenname retweeted_user_screenname\n",
    "users_geocode_country_count = tweets_data.groupby('user_screenname_x')['user_geo_coding'].nunique().reset_index(name='count')\n",
    "# users_geocode_country_count[users_geocode_country_count['count'] > 1].sort_values(by='count', ascending=False)"
   ]
  },
  {
   "cell_type": "code",
   "execution_count": 113,
   "id": "c743a466-10c9-4781-a96b-d36e56e8b5da",
   "metadata": {},
   "outputs": [],
   "source": [
    "# list of countries with geocoding > 2\n",
    "users_geocode_country_count_gtr_2 = users_geocode_country_count[users_geocode_country_count['count'] > 2]['user_screenname_x'].unique()\n",
    "\n",
    "# Setting location to 'Unknown'\n",
    "tweets_data.loc[tweets_data['user_screenname_x'].isin(users_geocode_country_count_gtr_2), 'user_geo_coding'] = 'Unknown'\n",
    "tweets_data.loc[tweets_data['user_screenname_x'].isin(users_geocode_country_count_gtr_2), 'retweeted_user_geo_coding'] = 'Unknown'\n",
    "tweets_data.loc[tweets_data['user_screenname_x'].isin(users_geocode_country_count_gtr_2), 'retweeted_user_geo_coding'] = 'Unknown'"
   ]
  },
  {
   "cell_type": "code",
   "execution_count": 114,
   "id": "426b498d-0830-4304-9bc3-cec3d6e01da4",
   "metadata": {},
   "outputs": [
    {
     "data": {
      "text/plain": [
       "1437"
      ]
     },
     "execution_count": 114,
     "metadata": {},
     "output_type": "execute_result"
    }
   ],
   "source": [
    "# TODO: Fix this elegantly\n",
    "users_geocode_country_count_eq_2 = users_geocode_country_count[users_geocode_country_count['count'] == 2]['user_screenname_x']#.unique()\n",
    "len(users_geocode_country_count_eq_2)"
   ]
  },
  {
   "cell_type": "markdown",
   "id": "59921755-6949-44ae-bb5d-d99b098edf82",
   "metadata": {},
   "source": [
    "##### Distribution of geo-coded tweets after corrections"
   ]
  },
  {
   "cell_type": "code",
   "execution_count": 115,
   "id": "77727c97-5de9-4c8d-9c30-c01742985a99",
   "metadata": {},
   "outputs": [],
   "source": [
    "geocoded_tw_data = tweets_data['user_geo_coding']\n",
    "\n",
    "count_geocoded_tw_data = col.Counter(geocoded_tw_data)\n",
    "count_geocoded_tw_data = count_geocoded_tw_data.most_common()"
   ]
  },
  {
   "cell_type": "code",
   "execution_count": 116,
   "id": "3eff2945-04ca-4180-bee4-779a4bb79be6",
   "metadata": {},
   "outputs": [
    {
     "data": {
      "image/png": "[encoded data removed]",
      "text/plain": [
       "<Figure size 432x288 with 1 Axes>"
      ]
     },
     "metadata": {
      "needs_background": "light"
     },
     "output_type": "display_data"
    }
   ],
   "source": [
    "# top X countries\n",
    "TOP_X = 15\n",
    "countries = [c[0].split('|')[0] for c in count_geocoded_tw_data[:TOP_X]]\n",
    "counts = [c[1] for c in count_geocoded_tw_data[:TOP_X]]\n",
    "\n",
    "plt.barh(countries[::-1], counts[::-1])\n",
    " \n",
    "plt.ylabel(\"Country\")\n",
    "plt.xlabel(\"Tweets Count\")\n",
    "plt.xticks(rotation=45)\n",
    "plt.title(\"Distribution of tweets location using geo coding\")\n",
    "plt.show()"
   ]
  },
  {
   "cell_type": "markdown",
   "id": "a78aaaf8-43c4-4327-9a1e-b8080e366bbf",
   "metadata": {},
   "source": [
    "### 3.3. Filtering out non-Singapore accounts - reducing false positives and false negatives"
   ]
  },
  {
   "cell_type": "code",
   "execution_count": 117,
   "id": "4fc3287c-9b9f-4269-b6c5-1e21847f9603",
   "metadata": {},
   "outputs": [
    {
     "data": {
      "text/plain": [
       "(181423, 49)"
      ]
     },
     "execution_count": 117,
     "metadata": {},
     "output_type": "execute_result"
    }
   ],
   "source": [
    "sg_tweets = tweets_data[\n",
    "                    # 1. geo coded as Singapore\n",
    "                    (tweets_data['user_geo_coding'] == 'Singapore') | \n",
    "                    # 2. user location contains {sg, spore, singapore, singapura}\n",
    "                    (tweets_data['user_location'].str.contains('sg|spore|singapore|singapura', regex=True, case=False)) |\n",
    "                    # 3. user description contains {spore, singapore, singapura}\n",
    "                    (tweets_data['user_desc'].str.contains('spore|singapore|singapura', regex=True, case=False)) |\n",
    "                     # 4. Quoted tweets by Singaporean and \n",
    "                    ((tweets_data['quoted_user_geo_coding'] == 'Singapore') & (tweets_data['user_geo_coding'].isna())) |\n",
    "                    ((tweets_data['retweeted_user_geo_coding'] == 'Singapore') & (tweets_data['user_geo_coding'].isna()))\n",
    "            ]\n",
    "sg_tweets.shape"
   ]
  },
  {
   "cell_type": "code",
   "execution_count": null,
   "id": "0ddf1cc0-6af3-49fc-b6c3-d10faff8a65f",
   "metadata": {},
   "outputs": [
    {
     "ename": "NameError",
     "evalue": "name 'sg_tweets' is not defined",
     "output_type": "error",
     "traceback": [
      "\u001b[0;31m---------------------------------------------------------------------------\u001b[0m",
      "\u001b[0;31mNameError\u001b[0m                                 Traceback (most recent call last)",
      "\u001b[0;32m/var/folders/mv/c151lb7j7xx6ff_q9_85p_pc0000gn/T/ipykernel_68056/3886218664.py\u001b[0m in \u001b[0;36m<module>\u001b[0;34m\u001b[0m\n\u001b[0;32m----> 1\u001b[0;31m \u001b[0msg_tweets\u001b[0m\u001b[0;34m.\u001b[0m\u001b[0mcolumns\u001b[0m\u001b[0;34m\u001b[0m\u001b[0;34m\u001b[0m\u001b[0m\n\u001b[0m",
      "\u001b[0;31mNameError\u001b[0m: name 'sg_tweets' is not defined"
     ]
    }
   ],
   "source": [
    "sg_tweets.columns"
   ]
  },
  {
   "cell_type": "markdown",
   "id": "7cf1b89b-a30d-4d1e-8c60-0c40a0a33b7b",
   "metadata": {},
   "source": [
    "### 3.4. Processing the tweets and quoted tweets"
   ]
  },
  {
   "cell_type": "code",
   "execution_count": 118,
   "id": "4bbe3e64-960e-4aef-8d25-8d24a2f05d81",
   "metadata": {},
   "outputs": [],
   "source": [
    "sg_tweets['tweet_text'] = [txt.replace('&amp;', '&') if isinstance(txt, str) else '' for txt in sg_tweets['tweet_text']]\n",
    "sg_tweets['quoted_tweet_text'] = [ txt.replace('&amp;', '&') if isinstance(txt, str) else '' for txt in sg_tweets['quoted_tweet_text']]"
   ]
  },
  {
   "cell_type": "markdown",
   "id": "7a5643d1-f596-434d-bd1d-f2b793440f97",
   "metadata": {},
   "source": [
    "##### Processing tweets and quoted tweets"
   ]
  },
  {
   "cell_type": "code",
   "execution_count": 120,
   "id": "634388bd-ec0e-4837-be6c-a0e1ca50ccb5",
   "metadata": {},
   "outputs": [],
   "source": [
    "from process_text_tm  import TwitterDataProcessing\n",
    "pre = TwitterDataProcessing()"
   ]
  },
  {
   "cell_type": "markdown",
   "id": "82d7cbf5-9b65-4077-a4ae-69de7e1755b1",
   "metadata": {},
   "source": [
    "### 3.5. Predicting sentiment of tweets and quoted tweets"
   ]
  },
  {
   "cell_type": "code",
   "execution_count": 121,
   "id": "531b44fe-a831-4cd2-bee2-b09642601623",
   "metadata": {},
   "outputs": [],
   "source": [
    "processed_tweets = [pre.clean_text(text) for text in sg_tweets['tweet_text']]\n",
    "sg_tweets['processed_tweet_text'] = processed_tweets\n",
    "\n",
    "processed_quoted_tweets = [pre.clean_text(text) if isinstance(text, str) == True else '' for text in sg_tweets['quoted_tweet_text']]\n",
    "sg_tweets['processed_quoted_tweet_text'] = processed_quoted_tweets"
   ]
  },
  {
   "cell_type": "markdown",
   "id": "102debbb-2182-41f2-9153-e822c6909154",
   "metadata": {},
   "source": [
    "##### Adding predicted sentiment for tweets and quoted tweets using off the shelf VADER"
   ]
  },
  {
   "cell_type": "markdown",
   "id": "02d341db-6f13-4e4f-b53a-7730feb9577c",
   "metadata": {},
   "source": [
    "Predicting tweets and quoted tweets sentiments"
   ]
  },
  {
   "cell_type": "code",
   "execution_count": 123,
   "id": "c626cac8-c3d9-4a7e-b574-b8d375d17fca",
   "metadata": {},
   "outputs": [],
   "source": [
    "from vaderSentiment.vaderSentiment import SentimentIntensityAnalyzer\n",
    "\n",
    "analyzer = SentimentIntensityAnalyzer()\n",
    "def get_sentiment(doc):\n",
    "    score = analyzer.polarity_scores(doc)['compound']\n",
    "    # As per vader's repo : https://github.com/cjhutto/vaderSentiment\n",
    "    if score >= 0.05:\n",
    "        sentiment = \"positive\"\n",
    "    elif score <= -0.05:\n",
    "\n",
    "        sentiment = \"negative\"\n",
    "    else:\n",
    "        sentiment = \"neutral\"\n",
    "    return sentiment"
   ]
  },
  {
   "cell_type": "code",
   "execution_count": 125,
   "id": "b8f79374-76e1-40c3-ad82-b61a26234001",
   "metadata": {},
   "outputs": [],
   "source": [
    "tw_sentiment = [get_sentiment(text) for text in sg_tweets['processed_tweet_text']]\n",
    "sg_tweets['tweet_sentiment'] = tw_sentiment\n",
    "\n",
    "quoted_tw_sentiment = [get_sentiment(text) if text != '' else None for text in sg_tweets['processed_quoted_tweet_text']]\n",
    "sg_tweets['quoted_tweet_sentiment'] = quoted_tw_sentiment"
   ]
  },
  {
   "cell_type": "code",
   "execution_count": 148,
   "id": "ea982645-57e5-4959-b540-c8c8c621f1d9",
   "metadata": {},
   "outputs": [],
   "source": [
    "# df_hashtags_data = pd.DataFrame(data=hashtags_data)\n",
    "pd.DataFrame.to_csv(df_sentiments, \"data/output/basics/sentiments.csv\")"
   ]
  },
  {
   "cell_type": "code",
   "execution_count": 128,
   "id": "a635ddf6-45df-4a65-a583-20f22a785d5b",
   "metadata": {},
   "outputs": [
    {
     "name": "stdout",
     "output_type": "stream",
     "text": [
      "---- Duration ---\n",
      "From 2021-08-04 to 2021-09-24 \n",
      "\n",
      "---- Tweets count---\n",
      "181423 \n",
      "\n",
      "---- Attributes---\n"
     ]
    },
    {
     "data": {
      "text/plain": [
       "Index(['tweet_text', 'tweet_time', 'tweet_id', 'tweet_lang',\n",
       "       'tweet_possibly_sensitive', 'entity_image_url', 'entity_mentions',\n",
       "       'entity_hashtags', 'entity_link_url', 'user_id_x', 'user_name_x',\n",
       "       'user_screenname_x', 'user_friends_count', 'user_followers_count',\n",
       "       'user_verified', 'user_location', 'user_desc', 'user_geo_coding',\n",
       "       'user_geo_tagging', 'user_id_y', 'user_name_y', 'user_screenname_y',\n",
       "       'tweet_enagagement_type', 'replied_to_tweet_id', 'replied_to_user_id',\n",
       "       'replied_to_user_screenname', 'retweeted_tweet_id',\n",
       "       'retweeted_tweet_time', 'retweeted_user_id', 'retweeted_user_name',\n",
       "       'retweeted_user_verified', 'retweeted_user_screenname',\n",
       "       'retweeted_user_geo_coding', 'retweeted_user_geo_coding_type',\n",
       "       'retweeted_retweet_count', 'retweeted_favorite_count',\n",
       "       'quoted_tweet_text', 'quoted_tweet_id', 'quoted_tweet_time',\n",
       "       'quoted_user_id', 'quoted_user_name', 'quoted_user_verified',\n",
       "       'quoted_user_screenname', 'quoted_user_geo_coding',\n",
       "       'quoted_user_geo_coding_type', 'quoted_retweet_count',\n",
       "       'quoted_favorite_count', 'tweet_datetime', 'tweet_date',\n",
       "       'processed_tweet_text', 'processed_quoted_tweet_text',\n",
       "       'tweet_sentiment', 'quoted_tweet_sentiment'],\n",
       "      dtype='object')"
      ]
     },
     "execution_count": 128,
     "metadata": {},
     "output_type": "execute_result"
    }
   ],
   "source": [
    "print(\"---- Duration ---\")\n",
    "print(\"From {} to {} \\n\".format(sg_tweets['tweet_date'].min(), sg_tweets['tweet_date'].max()))\n",
    "\n",
    "print(\"---- Tweets count---\")\n",
    "print(sg_tweets.shape[0], '\\n')\n",
    "\n",
    "print(\"---- Attributes---\")\n",
    "sg_tweets.columns"
   ]
  },
  {
   "cell_type": "markdown",
   "id": "d745fc3a-d0f2-4dcb-85c5-91c6d408fff9",
   "metadata": {},
   "source": [
    "#### Saving the final data with curated sg-tweets for analysis"
   ]
  },
  {
   "cell_type": "code",
   "execution_count": 129,
   "id": "fc36772d-6bc0-4534-ab71-5a448b9f4d40",
   "metadata": {},
   "outputs": [],
   "source": [
    "sg_tweets = sg_tweets.loc[:, ~sg_tweets.columns.str.contains('^Unnamed')]\n",
    "pd.DataFrame.to_csv(sg_tweets, BASE_PATH + \"sg.csv\")"
   ]
  },
  {
   "cell_type": "markdown",
   "id": "042e8ccb-804e-4a05-8e9f-af7d8c5573bd",
   "metadata": {},
   "source": [
    "## 4. Exploratory data analysis of Singapore geo-coded tweets"
   ]
  },
  {
   "cell_type": "markdown",
   "id": "d20684b6-926e-48eb-8e62-3121c9ecc6a7",
   "metadata": {},
   "source": [
    "### 4.1. Basics"
   ]
  },
  {
   "cell_type": "code",
   "execution_count": 163,
   "id": "62288fad-722a-475e-9e0e-17f7ead789ef",
   "metadata": {},
   "outputs": [
    {
     "data": {
      "text/plain": [
       "(181423, 53)"
      ]
     },
     "execution_count": 163,
     "metadata": {},
     "output_type": "execute_result"
    }
   ],
   "source": [
    "sg_tweets.shape"
   ]
  },
  {
   "cell_type": "code",
   "execution_count": 190,
   "id": "79ed1b07-7e25-4ff6-ae68-801b5b5a0295",
   "metadata": {},
   "outputs": [
    {
     "data": {
      "text/plain": [
       "181423"
      ]
     },
     "execution_count": 190,
     "metadata": {},
     "output_type": "execute_result"
    }
   ],
   "source": [
    "total_tweets = len(sg_tweets)\n",
    "total_tweets"
   ]
  },
  {
   "cell_type": "markdown",
   "id": "2c346f63-0308-47cd-87b9-f5526dd39f36",
   "metadata": {},
   "source": [
    "#### Duration"
   ]
  },
  {
   "cell_type": "code",
   "execution_count": 130,
   "id": "612b5da9-d2c0-44ea-a725-edd851be0ffa",
   "metadata": {},
   "outputs": [
    {
     "data": {
      "text/plain": [
       "('2021-09-24', '2021-08-04')"
      ]
     },
     "execution_count": 130,
     "metadata": {},
     "output_type": "execute_result"
    }
   ],
   "source": [
    "MAX_DATE = sg_tweets['tweet_date'].max()\n",
    "MIN_DATE = sg_tweets['tweet_date'].min()\n",
    "MAX_DATE, MIN_DATE"
   ]
  },
  {
   "cell_type": "markdown",
   "id": "08bf74dc-1a88-4d8c-b540-9a6c94cf7d20",
   "metadata": {},
   "source": [
    "#### Average tweets per day"
   ]
  },
  {
   "cell_type": "code",
   "execution_count": 164,
   "id": "a33f1f64-dac3-4f7e-b8d8-83032b4b67a2",
   "metadata": {},
   "outputs": [
    {
     "data": {
      "text/plain": [
       "3554.901960784314"
      ]
     },
     "execution_count": 164,
     "metadata": {},
     "output_type": "execute_result"
    }
   ],
   "source": [
    "daily_tweets  = sg_tweets.groupby('tweet_date')['tweet_id'].count().reset_index(name='count')\n",
    "avg_tweets = sum(daily_tweets['count'][:-1])/ len(daily_tweets['count'][:-1])\n",
    "avg_tweets"
   ]
  },
  {
   "cell_type": "markdown",
   "id": "728e6d67-bb70-48b6-b554-60011c40334b",
   "metadata": {},
   "source": [
    "##### Distribution of **tweets** sentiments"
   ]
  },
  {
   "cell_type": "code",
   "execution_count": 264,
   "id": "6b53f7b1-1654-4697-8ada-a4790ef9711f",
   "metadata": {},
   "outputs": [
    {
     "data": {
      "application/vnd.plotly.v1+json": {
       "config": {
        "plotlyServerURL": "https://plot.ly"
       },
       "data": [
        {
         "alignmentgroup": "True",
         "hovertemplate": "tweet_sentiment=%{y}<br>count=%{x}<extra></extra>",
         "legendgroup": "neutral",
         "marker": {
          "color": "#636efa",
          "pattern": {
           "shape": ""
          }
         },
         "name": "neutral",
         "offsetgroup": "neutral",
         "orientation": "h",
         "showlegend": true,
         "textposition": "auto",
         "type": "bar",
         "x": [
          79770
         ],
         "xaxis": "x",
         "y": [
          "neutral"
         ],
         "yaxis": "y"
        },
        {
         "alignmentgroup": "True",
         "hovertemplate": "tweet_sentiment=%{y}<br>count=%{x}<extra></extra>",
         "legendgroup": "positive",
         "marker": {
          "color": "#EF553B",
          "pattern": {
           "shape": ""
          }
         },
         "name": "positive",
         "offsetgroup": "positive",
         "orientation": "h",
         "showlegend": true,
         "textposition": "auto",
         "type": "bar",
         "x": [
          57863
         ],
         "xaxis": "x",
         "y": [
          "positive"
         ],
         "yaxis": "y"
        },
        {
         "alignmentgroup": "True",
         "hovertemplate": "tweet_sentiment=%{y}<br>count=%{x}<extra></extra>",
         "legendgroup": "negative",
         "marker": {
          "color": "#00cc96",
          "pattern": {
           "shape": ""
          }
         },
         "name": "negative",
         "offsetgroup": "negative",
         "orientation": "h",
         "showlegend": true,
         "textposition": "auto",
         "type": "bar",
         "x": [
          43790
         ],
         "xaxis": "x",
         "y": [
          "negative"
         ],
         "yaxis": "y"
        }
       ],
       "layout": {
        "autosize": true,
        "barmode": "relative",
        "legend": {
         "title": {
          "text": "tweet_sentiment"
         },
         "tracegroupgap": 0
        },
        "margin": {
         "t": 60
        },
        "template": {
         "data": {
          "bar": [
           {
            "error_x": {
             "color": "#2a3f5f"
            },
            "error_y": {
             "color": "#2a3f5f"
            },
            "marker": {
             "line": {
              "color": "white",
              "width": 0.5
             },
             "pattern": {
              "fillmode": "overlay",
              "size": 10,
              "solidity": 0.2
             }
            },
            "type": "bar"
           }
          ],
          "barpolar": [
           {
            "marker": {
             "line": {
              "color": "white",
              "width": 0.5
             },
             "pattern": {
              "fillmode": "overlay",
              "size": 10,
              "solidity": 0.2
             }
            },
            "type": "barpolar"
           }
          ],
          "carpet": [
           {
            "aaxis": {
             "endlinecolor": "#2a3f5f",
             "gridcolor": "#C8D4E3",
             "linecolor": "#C8D4E3",
             "minorgridcolor": "#C8D4E3",
             "startlinecolor": "#2a3f5f"
            },
            "baxis": {
             "endlinecolor": "#2a3f5f",
             "gridcolor": "#C8D4E3",
             "linecolor": "#C8D4E3",
             "minorgridcolor": "#C8D4E3",
             "startlinecolor": "#2a3f5f"
            },
            "type": "carpet"
           }
          ],
          "choropleth": [
           {
            "colorbar": {
             "outlinewidth": 0,
             "ticks": ""
            },
            "type": "choropleth"
           }
          ],
          "contour": [
           {
            "colorbar": {
             "outlinewidth": 0,
             "ticks": ""
            },
            "colorscale": [
             [
              0,
              "#0d0887"
             ],
             [
              0.1111111111111111,
              "#46039f"
             ],
             [
              0.2222222222222222,
              "#7201a8"
             ],
             [
              0.3333333333333333,
              "#9c179e"
             ],
             [
              0.4444444444444444,
              "#bd3786"
             ],
             [
              0.5555555555555556,
              "#d8576b"
             ],
             [
              0.6666666666666666,
              "#ed7953"
             ],
             [
              0.7777777777777778,
              "#fb9f3a"
             ],
             [
              0.8888888888888888,
              "#fdca26"
             ],
             [
              1,
              "#f0f921"
             ]
            ],
            "type": "contour"
           }
          ],
          "contourcarpet": [
           {
            "colorbar": {
             "outlinewidth": 0,
             "ticks": ""
            },
            "type": "contourcarpet"
           }
          ],
          "heatmap": [
           {
            "colorbar": {
             "outlinewidth": 0,
             "ticks": ""
            },
            "colorscale": [
             [
              0,
              "#0d0887"
             ],
             [
              0.1111111111111111,
              "#46039f"
             ],
             [
              0.2222222222222222,
              "#7201a8"
             ],
             [
              0.3333333333333333,
              "#9c179e"
             ],
             [
              0.4444444444444444,
              "#bd3786"
             ],
             [
              0.5555555555555556,
              "#d8576b"
             ],
             [
              0.6666666666666666,
              "#ed7953"
             ],
             [
              0.7777777777777778,
              "#fb9f3a"
             ],
             [
              0.8888888888888888,
              "#fdca26"
             ],
             [
              1,
              "#f0f921"
             ]
            ],
            "type": "heatmap"
           }
          ],
          "heatmapgl": [
           {
            "colorbar": {
             "outlinewidth": 0,
             "ticks": ""
            },
            "colorscale": [
             [
              0,
              "#0d0887"
             ],
             [
              0.1111111111111111,
              "#46039f"
             ],
             [
              0.2222222222222222,
              "#7201a8"
             ],
             [
              0.3333333333333333,
              "#9c179e"
             ],
             [
              0.4444444444444444,
              "#bd3786"
             ],
             [
              0.5555555555555556,
              "#d8576b"
             ],
             [
              0.6666666666666666,
              "#ed7953"
             ],
             [
              0.7777777777777778,
              "#fb9f3a"
             ],
             [
              0.8888888888888888,
              "#fdca26"
             ],
             [
              1,
              "#f0f921"
             ]
            ],
            "type": "heatmapgl"
           }
          ],
          "histogram": [
           {
            "marker": {
             "pattern": {
              "fillmode": "overlay",
              "size": 10,
              "solidity": 0.2
             }
            },
            "type": "histogram"
           }
          ],
          "histogram2d": [
           {
            "colorbar": {
             "outlinewidth": 0,
             "ticks": ""
            },
            "colorscale": [
             [
              0,
              "#0d0887"
             ],
             [
              0.1111111111111111,
              "#46039f"
             ],
             [
              0.2222222222222222,
              "#7201a8"
             ],
             [
              0.3333333333333333,
              "#9c179e"
             ],
             [
              0.4444444444444444,
              "#bd3786"
             ],
             [
              0.5555555555555556,
              "#d8576b"
             ],
             [
              0.6666666666666666,
              "#ed7953"
             ],
             [
              0.7777777777777778,
              "#fb9f3a"
             ],
             [
              0.8888888888888888,
              "#fdca26"
             ],
             [
              1,
              "#f0f921"
             ]
            ],
            "type": "histogram2d"
           }
          ],
          "histogram2dcontour": [
           {
            "colorbar": {
             "outlinewidth": 0,
             "ticks": ""
            },
            "colorscale": [
             [
              0,
              "#0d0887"
             ],
             [
              0.1111111111111111,
              "#46039f"
             ],
             [
              0.2222222222222222,
              "#7201a8"
             ],
             [
              0.3333333333333333,
              "#9c179e"
             ],
             [
              0.4444444444444444,
              "#bd3786"
             ],
             [
              0.5555555555555556,
              "#d8576b"
             ],
             [
              0.6666666666666666,
              "#ed7953"
             ],
             [
              0.7777777777777778,
              "#fb9f3a"
             ],
             [
              0.8888888888888888,
              "#fdca26"
             ],
             [
              1,
              "#f0f921"
             ]
            ],
            "type": "histogram2dcontour"
           }
          ],
          "mesh3d": [
           {
            "colorbar": {
             "outlinewidth": 0,
             "ticks": ""
            },
            "type": "mesh3d"
           }
          ],
          "parcoords": [
           {
            "line": {
             "colorbar": {
              "outlinewidth": 0,
              "ticks": ""
             }
            },
            "type": "parcoords"
           }
          ],
          "pie": [
           {
            "automargin": true,
            "type": "pie"
           }
          ],
          "scatter": [
           {
            "marker": {
             "colorbar": {
              "outlinewidth": 0,
              "ticks": ""
             }
            },
            "type": "scatter"
           }
          ],
          "scatter3d": [
           {
            "line": {
             "colorbar": {
              "outlinewidth": 0,
              "ticks": ""
             }
            },
            "marker": {
             "colorbar": {
              "outlinewidth": 0,
              "ticks": ""
             }
            },
            "type": "scatter3d"
           }
          ],
          "scattercarpet": [
           {
            "marker": {
             "colorbar": {
              "outlinewidth": 0,
              "ticks": ""
             }
            },
            "type": "scattercarpet"
           }
          ],
          "scattergeo": [
           {
            "marker": {
             "colorbar": {
              "outlinewidth": 0,
              "ticks": ""
             }
            },
            "type": "scattergeo"
           }
          ],
          "scattergl": [
           {
            "marker": {
             "colorbar": {
              "outlinewidth": 0,
              "ticks": ""
             }
            },
            "type": "scattergl"
           }
          ],
          "scattermapbox": [
           {
            "marker": {
             "colorbar": {
              "outlinewidth": 0,
              "ticks": ""
             }
            },
            "type": "scattermapbox"
           }
          ],
          "scatterpolar": [
           {
            "marker": {
             "colorbar": {
              "outlinewidth": 0,
              "ticks": ""
             }
            },
            "type": "scatterpolar"
           }
          ],
          "scatterpolargl": [
           {
            "marker": {
             "colorbar": {
              "outlinewidth": 0,
              "ticks": ""
             }
            },
            "type": "scatterpolargl"
           }
          ],
          "scatterternary": [
           {
            "marker": {
             "colorbar": {
              "outlinewidth": 0,
              "ticks": ""
             }
            },
            "type": "scatterternary"
           }
          ],
          "surface": [
           {
            "colorbar": {
             "outlinewidth": 0,
             "ticks": ""
            },
            "colorscale": [
             [
              0,
              "#0d0887"
             ],
             [
              0.1111111111111111,
              "#46039f"
             ],
             [
              0.2222222222222222,
              "#7201a8"
             ],
             [
              0.3333333333333333,
              "#9c179e"
             ],
             [
              0.4444444444444444,
              "#bd3786"
             ],
             [
              0.5555555555555556,
              "#d8576b"
             ],
             [
              0.6666666666666666,
              "#ed7953"
             ],
             [
              0.7777777777777778,
              "#fb9f3a"
             ],
             [
              0.8888888888888888,
              "#fdca26"
             ],
             [
              1,
              "#f0f921"
             ]
            ],
            "type": "surface"
           }
          ],
          "table": [
           {
            "cells": {
             "fill": {
              "color": "#EBF0F8"
             },
             "line": {
              "color": "white"
             }
            },
            "header": {
             "fill": {
              "color": "#C8D4E3"
             },
             "line": {
              "color": "white"
             }
            },
            "type": "table"
           }
          ]
         },
         "layout": {
          "annotationdefaults": {
           "arrowcolor": "#2a3f5f",
           "arrowhead": 0,
           "arrowwidth": 1
          },
          "autotypenumbers": "strict",
          "coloraxis": {
           "colorbar": {
            "outlinewidth": 0,
            "ticks": ""
           }
          },
          "colorscale": {
           "diverging": [
            [
             0,
             "#8e0152"
            ],
            [
             0.1,
             "#c51b7d"
            ],
            [
             0.2,
             "#de77ae"
            ],
            [
             0.3,
             "#f1b6da"
            ],
            [
             0.4,
             "#fde0ef"
            ],
            [
             0.5,
             "#f7f7f7"
            ],
            [
             0.6,
             "#e6f5d0"
            ],
            [
             0.7,
             "#b8e186"
            ],
            [
             0.8,
             "#7fbc41"
            ],
            [
             0.9,
             "#4d9221"
            ],
            [
             1,
             "#276419"
            ]
           ],
           "sequential": [
            [
             0,
             "#0d0887"
            ],
            [
             0.1111111111111111,
             "#46039f"
            ],
            [
             0.2222222222222222,
             "#7201a8"
            ],
            [
             0.3333333333333333,
             "#9c179e"
            ],
            [
             0.4444444444444444,
             "#bd3786"
            ],
            [
             0.5555555555555556,
             "#d8576b"
            ],
            [
             0.6666666666666666,
             "#ed7953"
            ],
            [
             0.7777777777777778,
             "#fb9f3a"
            ],
            [
             0.8888888888888888,
             "#fdca26"
            ],
            [
             1,
             "#f0f921"
            ]
           ],
           "sequentialminus": [
            [
             0,
             "#0d0887"
            ],
            [
             0.1111111111111111,
             "#46039f"
            ],
            [
             0.2222222222222222,
             "#7201a8"
            ],
            [
             0.3333333333333333,
             "#9c179e"
            ],
            [
             0.4444444444444444,
             "#bd3786"
            ],
            [
             0.5555555555555556,
             "#d8576b"
            ],
            [
             0.6666666666666666,
             "#ed7953"
            ],
            [
             0.7777777777777778,
             "#fb9f3a"
            ],
            [
             0.8888888888888888,
             "#fdca26"
            ],
            [
             1,
             "#f0f921"
            ]
           ]
          },
          "colorway": [
           "#636efa",
           "#EF553B",
           "#00cc96",
           "#ab63fa",
           "#FFA15A",
           "#19d3f3",
           "#FF6692",
           "#B6E880",
           "#FF97FF",
           "#FECB52"
          ],
          "font": {
           "color": "#2a3f5f"
          },
          "geo": {
           "bgcolor": "white",
           "lakecolor": "white",
           "landcolor": "white",
           "showlakes": true,
           "showland": true,
           "subunitcolor": "#C8D4E3"
          },
          "hoverlabel": {
           "align": "left"
          },
          "hovermode": "closest",
          "mapbox": {
           "style": "light"
          },
          "paper_bgcolor": "white",
          "plot_bgcolor": "white",
          "polar": {
           "angularaxis": {
            "gridcolor": "#EBF0F8",
            "linecolor": "#EBF0F8",
            "ticks": ""
           },
           "bgcolor": "white",
           "radialaxis": {
            "gridcolor": "#EBF0F8",
            "linecolor": "#EBF0F8",
            "ticks": ""
           }
          },
          "scene": {
           "xaxis": {
            "backgroundcolor": "white",
            "gridcolor": "#DFE8F3",
            "gridwidth": 2,
            "linecolor": "#EBF0F8",
            "showbackground": true,
            "ticks": "",
            "zerolinecolor": "#EBF0F8"
           },
           "yaxis": {
            "backgroundcolor": "white",
            "gridcolor": "#DFE8F3",
            "gridwidth": 2,
            "linecolor": "#EBF0F8",
            "showbackground": true,
            "ticks": "",
            "zerolinecolor": "#EBF0F8"
           },
           "zaxis": {
            "backgroundcolor": "white",
            "gridcolor": "#DFE8F3",
            "gridwidth": 2,
            "linecolor": "#EBF0F8",
            "showbackground": true,
            "ticks": "",
            "zerolinecolor": "#EBF0F8"
           }
          },
          "shapedefaults": {
           "line": {
            "color": "#2a3f5f"
           }
          },
          "ternary": {
           "aaxis": {
            "gridcolor": "#DFE8F3",
            "linecolor": "#A2B1C6",
            "ticks": ""
           },
           "baxis": {
            "gridcolor": "#DFE8F3",
            "linecolor": "#A2B1C6",
            "ticks": ""
           },
           "bgcolor": "white",
           "caxis": {
            "gridcolor": "#DFE8F3",
            "linecolor": "#A2B1C6",
            "ticks": ""
           }
          },
          "title": {
           "x": 0.05
          },
          "xaxis": {
           "automargin": true,
           "gridcolor": "#EBF0F8",
           "linecolor": "#EBF0F8",
           "ticks": "",
           "title": {
            "standoff": 15
           },
           "zerolinecolor": "#EBF0F8",
           "zerolinewidth": 2
          },
          "yaxis": {
           "automargin": true,
           "gridcolor": "#EBF0F8",
           "linecolor": "#EBF0F8",
           "ticks": "",
           "title": {
            "standoff": 15
           },
           "zerolinecolor": "#EBF0F8",
           "zerolinewidth": 2
          }
         }
        },
        "xaxis": {
         "anchor": "y",
         "autorange": true,
         "domain": [
          0,
          1
         ],
         "range": [
          0,
          83968.42105263157
         ],
         "title": {
          "text": "count"
         },
         "type": "linear"
        },
        "yaxis": {
         "anchor": "x",
         "autorange": true,
         "categoryarray": [
          "negative",
          "positive",
          "neutral"
         ],
         "categoryorder": "array",
         "domain": [
          0,
          1
         ],
         "range": [
          -0.5,
          2.5
         ],
         "title": {
          "text": "tweet_sentiment"
         },
         "type": "category"
        }
       }
      },
      "image/png": "[encoded data removed]",
      "text/html": [
       "<div>                            <div id=\"93c255a2-4c44-479a-8ab1-d11b2f6f1539\" class=\"plotly-graph-div\" style=\"height:525px; width:100%;\"></div>            <script type=\"text/javascript\">                require([\"plotly\"], function(Plotly) {                    window.PLOTLYENV=window.PLOTLYENV || {};                                    if (document.getElementById(\"93c255a2-4c44-479a-8ab1-d11b2f6f1539\")) {                    Plotly.newPlot(                        \"93c255a2-4c44-479a-8ab1-d11b2f6f1539\",                        [{\"alignmentgroup\":\"True\",\"hovertemplate\":\"tweet_sentiment=%{y}<br>count=%{x}<extra></extra>\",\"legendgroup\":\"neutral\",\"marker\":{\"color\":\"#636efa\",\"pattern\":{\"shape\":\"\"}},\"name\":\"neutral\",\"offsetgroup\":\"neutral\",\"orientation\":\"h\",\"showlegend\":true,\"textposition\":\"auto\",\"type\":\"bar\",\"x\":[79770],\"xaxis\":\"x\",\"y\":[\"neutral\"],\"yaxis\":\"y\"},{\"alignmentgroup\":\"True\",\"hovertemplate\":\"tweet_sentiment=%{y}<br>count=%{x}<extra></extra>\",\"legendgroup\":\"positive\",\"marker\":{\"color\":\"#EF553B\",\"pattern\":{\"shape\":\"\"}},\"name\":\"positive\",\"offsetgroup\":\"positive\",\"orientation\":\"h\",\"showlegend\":true,\"textposition\":\"auto\",\"type\":\"bar\",\"x\":[57863],\"xaxis\":\"x\",\"y\":[\"positive\"],\"yaxis\":\"y\"},{\"alignmentgroup\":\"True\",\"hovertemplate\":\"tweet_sentiment=%{y}<br>count=%{x}<extra></extra>\",\"legendgroup\":\"negative\",\"marker\":{\"color\":\"#00cc96\",\"pattern\":{\"shape\":\"\"}},\"name\":\"negative\",\"offsetgroup\":\"negative\",\"orientation\":\"h\",\"showlegend\":true,\"textposition\":\"auto\",\"type\":\"bar\",\"x\":[43790],\"xaxis\":\"x\",\"y\":[\"negative\"],\"yaxis\":\"y\"}],                        {\"barmode\":\"relative\",\"legend\":{\"title\":{\"text\":\"tweet_sentiment\"},\"tracegroupgap\":0},\"margin\":{\"t\":60},\"template\":{\"data\":{\"bar\":[{\"error_x\":{\"color\":\"#2a3f5f\"},\"error_y\":{\"color\":\"#2a3f5f\"},\"marker\":{\"line\":{\"color\":\"white\",\"width\":0.5},\"pattern\":{\"fillmode\":\"overlay\",\"size\":10,\"solidity\":0.2}},\"type\":\"bar\"}],\"barpolar\":[{\"marker\":{\"line\":{\"color\":\"white\",\"width\":0.5},\"pattern\":{\"fillmode\":\"overlay\",\"size\":10,\"solidity\":0.2}},\"type\":\"barpolar\"}],\"carpet\":[{\"aaxis\":{\"endlinecolor\":\"#2a3f5f\",\"gridcolor\":\"#C8D4E3\",\"linecolor\":\"#C8D4E3\",\"minorgridcolor\":\"#C8D4E3\",\"startlinecolor\":\"#2a3f5f\"},\"baxis\":{\"endlinecolor\":\"#2a3f5f\",\"gridcolor\":\"#C8D4E3\",\"linecolor\":\"#C8D4E3\",\"minorgridcolor\":\"#C8D4E3\",\"startlinecolor\":\"#2a3f5f\"},\"type\":\"carpet\"}],\"choropleth\":[{\"colorbar\":{\"outlinewidth\":0,\"ticks\":\"\"},\"type\":\"choropleth\"}],\"contour\":[{\"colorbar\":{\"outlinewidth\":0,\"ticks\":\"\"},\"colorscale\":[[0.0,\"#0d0887\"],[0.1111111111111111,\"#46039f\"],[0.2222222222222222,\"#7201a8\"],[0.3333333333333333,\"#9c179e\"],[0.4444444444444444,\"#bd3786\"],[0.5555555555555556,\"#d8576b\"],[0.6666666666666666,\"#ed7953\"],[0.7777777777777778,\"#fb9f3a\"],[0.8888888888888888,\"#fdca26\"],[1.0,\"#f0f921\"]],\"type\":\"contour\"}],\"contourcarpet\":[{\"colorbar\":{\"outlinewidth\":0,\"ticks\":\"\"},\"type\":\"contourcarpet\"}],\"heatmap\":[{\"colorbar\":{\"outlinewidth\":0,\"ticks\":\"\"},\"colorscale\":[[0.0,\"#0d0887\"],[0.1111111111111111,\"#46039f\"],[0.2222222222222222,\"#7201a8\"],[0.3333333333333333,\"#9c179e\"],[0.4444444444444444,\"#bd3786\"],[0.5555555555555556,\"#d8576b\"],[0.6666666666666666,\"#ed7953\"],[0.7777777777777778,\"#fb9f3a\"],[0.8888888888888888,\"#fdca26\"],[1.0,\"#f0f921\"]],\"type\":\"heatmap\"}],\"heatmapgl\":[{\"colorbar\":{\"outlinewidth\":0,\"ticks\":\"\"},\"colorscale\":[[0.0,\"#0d0887\"],[0.1111111111111111,\"#46039f\"],[0.2222222222222222,\"#7201a8\"],[0.3333333333333333,\"#9c179e\"],[0.4444444444444444,\"#bd3786\"],[0.5555555555555556,\"#d8576b\"],[0.6666666666666666,\"#ed7953\"],[0.7777777777777778,\"#fb9f3a\"],[0.8888888888888888,\"#fdca26\"],[1.0,\"#f0f921\"]],\"type\":\"heatmapgl\"}],\"histogram\":[{\"marker\":{\"pattern\":{\"fillmode\":\"overlay\",\"size\":10,\"solidity\":0.2}},\"type\":\"histogram\"}],\"histogram2d\":[{\"colorbar\":{\"outlinewidth\":0,\"ticks\":\"\"},\"colorscale\":[[0.0,\"#0d0887\"],[0.1111111111111111,\"#46039f\"],[0.2222222222222222,\"#7201a8\"],[0.3333333333333333,\"#9c179e\"],[0.4444444444444444,\"#bd3786\"],[0.5555555555555556,\"#d8576b\"],[0.6666666666666666,\"#ed7953\"],[0.7777777777777778,\"#fb9f3a\"],[0.8888888888888888,\"#fdca26\"],[1.0,\"#f0f921\"]],\"type\":\"histogram2d\"}],\"histogram2dcontour\":[{\"colorbar\":{\"outlinewidth\":0,\"ticks\":\"\"},\"colorscale\":[[0.0,\"#0d0887\"],[0.1111111111111111,\"#46039f\"],[0.2222222222222222,\"#7201a8\"],[0.3333333333333333,\"#9c179e\"],[0.4444444444444444,\"#bd3786\"],[0.5555555555555556,\"#d8576b\"],[0.6666666666666666,\"#ed7953\"],[0.7777777777777778,\"#fb9f3a\"],[0.8888888888888888,\"#fdca26\"],[1.0,\"#f0f921\"]],\"type\":\"histogram2dcontour\"}],\"mesh3d\":[{\"colorbar\":{\"outlinewidth\":0,\"ticks\":\"\"},\"type\":\"mesh3d\"}],\"parcoords\":[{\"line\":{\"colorbar\":{\"outlinewidth\":0,\"ticks\":\"\"}},\"type\":\"parcoords\"}],\"pie\":[{\"automargin\":true,\"type\":\"pie\"}],\"scatter\":[{\"marker\":{\"colorbar\":{\"outlinewidth\":0,\"ticks\":\"\"}},\"type\":\"scatter\"}],\"scatter3d\":[{\"line\":{\"colorbar\":{\"outlinewidth\":0,\"ticks\":\"\"}},\"marker\":{\"colorbar\":{\"outlinewidth\":0,\"ticks\":\"\"}},\"type\":\"scatter3d\"}],\"scattercarpet\":[{\"marker\":{\"colorbar\":{\"outlinewidth\":0,\"ticks\":\"\"}},\"type\":\"scattercarpet\"}],\"scattergeo\":[{\"marker\":{\"colorbar\":{\"outlinewidth\":0,\"ticks\":\"\"}},\"type\":\"scattergeo\"}],\"scattergl\":[{\"marker\":{\"colorbar\":{\"outlinewidth\":0,\"ticks\":\"\"}},\"type\":\"scattergl\"}],\"scattermapbox\":[{\"marker\":{\"colorbar\":{\"outlinewidth\":0,\"ticks\":\"\"}},\"type\":\"scattermapbox\"}],\"scatterpolar\":[{\"marker\":{\"colorbar\":{\"outlinewidth\":0,\"ticks\":\"\"}},\"type\":\"scatterpolar\"}],\"scatterpolargl\":[{\"marker\":{\"colorbar\":{\"outlinewidth\":0,\"ticks\":\"\"}},\"type\":\"scatterpolargl\"}],\"scatterternary\":[{\"marker\":{\"colorbar\":{\"outlinewidth\":0,\"ticks\":\"\"}},\"type\":\"scatterternary\"}],\"surface\":[{\"colorbar\":{\"outlinewidth\":0,\"ticks\":\"\"},\"colorscale\":[[0.0,\"#0d0887\"],[0.1111111111111111,\"#46039f\"],[0.2222222222222222,\"#7201a8\"],[0.3333333333333333,\"#9c179e\"],[0.4444444444444444,\"#bd3786\"],[0.5555555555555556,\"#d8576b\"],[0.6666666666666666,\"#ed7953\"],[0.7777777777777778,\"#fb9f3a\"],[0.8888888888888888,\"#fdca26\"],[1.0,\"#f0f921\"]],\"type\":\"surface\"}],\"table\":[{\"cells\":{\"fill\":{\"color\":\"#EBF0F8\"},\"line\":{\"color\":\"white\"}},\"header\":{\"fill\":{\"color\":\"#C8D4E3\"},\"line\":{\"color\":\"white\"}},\"type\":\"table\"}]},\"layout\":{\"annotationdefaults\":{\"arrowcolor\":\"#2a3f5f\",\"arrowhead\":0,\"arrowwidth\":1},\"autotypenumbers\":\"strict\",\"coloraxis\":{\"colorbar\":{\"outlinewidth\":0,\"ticks\":\"\"}},\"colorscale\":{\"diverging\":[[0,\"#8e0152\"],[0.1,\"#c51b7d\"],[0.2,\"#de77ae\"],[0.3,\"#f1b6da\"],[0.4,\"#fde0ef\"],[0.5,\"#f7f7f7\"],[0.6,\"#e6f5d0\"],[0.7,\"#b8e186\"],[0.8,\"#7fbc41\"],[0.9,\"#4d9221\"],[1,\"#276419\"]],\"sequential\":[[0.0,\"#0d0887\"],[0.1111111111111111,\"#46039f\"],[0.2222222222222222,\"#7201a8\"],[0.3333333333333333,\"#9c179e\"],[0.4444444444444444,\"#bd3786\"],[0.5555555555555556,\"#d8576b\"],[0.6666666666666666,\"#ed7953\"],[0.7777777777777778,\"#fb9f3a\"],[0.8888888888888888,\"#fdca26\"],[1.0,\"#f0f921\"]],\"sequentialminus\":[[0.0,\"#0d0887\"],[0.1111111111111111,\"#46039f\"],[0.2222222222222222,\"#7201a8\"],[0.3333333333333333,\"#9c179e\"],[0.4444444444444444,\"#bd3786\"],[0.5555555555555556,\"#d8576b\"],[0.6666666666666666,\"#ed7953\"],[0.7777777777777778,\"#fb9f3a\"],[0.8888888888888888,\"#fdca26\"],[1.0,\"#f0f921\"]]},\"colorway\":[\"#636efa\",\"#EF553B\",\"#00cc96\",\"#ab63fa\",\"#FFA15A\",\"#19d3f3\",\"#FF6692\",\"#B6E880\",\"#FF97FF\",\"#FECB52\"],\"font\":{\"color\":\"#2a3f5f\"},\"geo\":{\"bgcolor\":\"white\",\"lakecolor\":\"white\",\"landcolor\":\"white\",\"showlakes\":true,\"showland\":true,\"subunitcolor\":\"#C8D4E3\"},\"hoverlabel\":{\"align\":\"left\"},\"hovermode\":\"closest\",\"mapbox\":{\"style\":\"light\"},\"paper_bgcolor\":\"white\",\"plot_bgcolor\":\"white\",\"polar\":{\"angularaxis\":{\"gridcolor\":\"#EBF0F8\",\"linecolor\":\"#EBF0F8\",\"ticks\":\"\"},\"bgcolor\":\"white\",\"radialaxis\":{\"gridcolor\":\"#EBF0F8\",\"linecolor\":\"#EBF0F8\",\"ticks\":\"\"}},\"scene\":{\"xaxis\":{\"backgroundcolor\":\"white\",\"gridcolor\":\"#DFE8F3\",\"gridwidth\":2,\"linecolor\":\"#EBF0F8\",\"showbackground\":true,\"ticks\":\"\",\"zerolinecolor\":\"#EBF0F8\"},\"yaxis\":{\"backgroundcolor\":\"white\",\"gridcolor\":\"#DFE8F3\",\"gridwidth\":2,\"linecolor\":\"#EBF0F8\",\"showbackground\":true,\"ticks\":\"\",\"zerolinecolor\":\"#EBF0F8\"},\"zaxis\":{\"backgroundcolor\":\"white\",\"gridcolor\":\"#DFE8F3\",\"gridwidth\":2,\"linecolor\":\"#EBF0F8\",\"showbackground\":true,\"ticks\":\"\",\"zerolinecolor\":\"#EBF0F8\"}},\"shapedefaults\":{\"line\":{\"color\":\"#2a3f5f\"}},\"ternary\":{\"aaxis\":{\"gridcolor\":\"#DFE8F3\",\"linecolor\":\"#A2B1C6\",\"ticks\":\"\"},\"baxis\":{\"gridcolor\":\"#DFE8F3\",\"linecolor\":\"#A2B1C6\",\"ticks\":\"\"},\"bgcolor\":\"white\",\"caxis\":{\"gridcolor\":\"#DFE8F3\",\"linecolor\":\"#A2B1C6\",\"ticks\":\"\"}},\"title\":{\"x\":0.05},\"xaxis\":{\"automargin\":true,\"gridcolor\":\"#EBF0F8\",\"linecolor\":\"#EBF0F8\",\"ticks\":\"\",\"title\":{\"standoff\":15},\"zerolinecolor\":\"#EBF0F8\",\"zerolinewidth\":2},\"yaxis\":{\"automargin\":true,\"gridcolor\":\"#EBF0F8\",\"linecolor\":\"#EBF0F8\",\"ticks\":\"\",\"title\":{\"standoff\":15},\"zerolinecolor\":\"#EBF0F8\",\"zerolinewidth\":2}}},\"xaxis\":{\"anchor\":\"y\",\"domain\":[0.0,1.0],\"title\":{\"text\":\"count\"}},\"yaxis\":{\"anchor\":\"x\",\"categoryarray\":[\"negative\",\"positive\",\"neutral\"],\"categoryorder\":\"array\",\"domain\":[0.0,1.0],\"title\":{\"text\":\"tweet_sentiment\"}}},                        {\"responsive\": true}                    ).then(function(){\n",
       "                            \n",
       "var gd = document.getElementById('93c255a2-4c44-479a-8ab1-d11b2f6f1539');\n",
       "var x = new MutationObserver(function (mutations, observer) {{\n",
       "        var display = window.getComputedStyle(gd).display;\n",
       "        if (!display || display === 'none') {{\n",
       "            console.log([gd, 'removed!']);\n",
       "            Plotly.purge(gd);\n",
       "            observer.disconnect();\n",
       "        }}\n",
       "}});\n",
       "\n",
       "// Listen for the removal of the full notebook cells\n",
       "var notebookContainer = gd.closest('#notebook-container');\n",
       "if (notebookContainer) {{\n",
       "    x.observe(notebookContainer, {childList: true});\n",
       "}}\n",
       "\n",
       "// Listen for the clearing of the current output cell\n",
       "var outputEl = gd.closest('.output');\n",
       "if (outputEl) {{\n",
       "    x.observe(outputEl, {childList: true});\n",
       "}}\n",
       "\n",
       "                        })                };                });            </script>        </div>"
      ]
     },
     "metadata": {},
     "output_type": "display_data"
    }
   ],
   "source": [
    "df_sentiments = sg_tweets.value_counts(subset=['tweet_sentiment']).reset_index(name='count').sort_values(['count'], ascending=False)\n",
    "\n",
    "fig = px.bar(df_sentiments, x=\"count\", y=\"tweet_sentiment\", orientation='h', template=\"plotly_white\", color=\"tweet_sentiment\")\n",
    "fig.show()"
   ]
  },
  {
   "cell_type": "markdown",
   "id": "65b5de84-8383-49cb-8d9b-78edbf8b48f6",
   "metadata": {},
   "source": [
    "##### Distribution of **quoted tweets** sentiments"
   ]
  },
  {
   "cell_type": "code",
   "execution_count": 197,
   "id": "e4f6661b-8382-4335-b859-55f34f8de54b",
   "metadata": {},
   "outputs": [],
   "source": [
    "df_quoted_sentiments = sg_tweets.value_counts(subset=['quoted_tweet_sentiment']).reset_index(name='count').sort_values(['count'], ascending=False)"
   ]
  },
  {
   "cell_type": "code",
   "execution_count": 254,
   "id": "4586f598-cbe0-4015-b8f5-0987a873e0a9",
   "metadata": {},
   "outputs": [
    {
     "data": {
      "application/vnd.plotly.v1+json": {
       "config": {
        "plotlyServerURL": "https://plot.ly"
       },
       "data": [
        {
         "alignmentgroup": "True",
         "hovertemplate": "quoted_tweet_sentiment=%{y}<br>count=%{x}<extra></extra>",
         "legendgroup": "negative",
         "marker": {
          "color": "#636efa",
          "pattern": {
           "shape": ""
          }
         },
         "name": "negative",
         "offsetgroup": "negative",
         "orientation": "h",
         "showlegend": true,
         "textposition": "auto",
         "type": "bar",
         "x": [
          15704
         ],
         "xaxis": "x",
         "y": [
          "negative"
         ],
         "yaxis": "y"
        },
        {
         "alignmentgroup": "True",
         "hovertemplate": "quoted_tweet_sentiment=%{y}<br>count=%{x}<extra></extra>",
         "legendgroup": "neutral",
         "marker": {
          "color": "#EF553B",
          "pattern": {
           "shape": ""
          }
         },
         "name": "neutral",
         "offsetgroup": "neutral",
         "orientation": "h",
         "showlegend": true,
         "textposition": "auto",
         "type": "bar",
         "x": [
          14213
         ],
         "xaxis": "x",
         "y": [
          "neutral"
         ],
         "yaxis": "y"
        },
        {
         "alignmentgroup": "True",
         "hovertemplate": "quoted_tweet_sentiment=%{y}<br>count=%{x}<extra></extra>",
         "legendgroup": "positive",
         "marker": {
          "color": "#00cc96",
          "pattern": {
           "shape": ""
          }
         },
         "name": "positive",
         "offsetgroup": "positive",
         "orientation": "h",
         "showlegend": true,
         "textposition": "auto",
         "type": "bar",
         "x": [
          9490
         ],
         "xaxis": "x",
         "y": [
          "positive"
         ],
         "yaxis": "y"
        }
       ],
       "layout": {
        "autosize": true,
        "barmode": "relative",
        "legend": {
         "title": {
          "text": "quoted_tweet_sentiment"
         },
         "tracegroupgap": 0
        },
        "margin": {
         "t": 60
        },
        "template": {
         "data": {
          "bar": [
           {
            "error_x": {
             "color": "#2a3f5f"
            },
            "error_y": {
             "color": "#2a3f5f"
            },
            "marker": {
             "line": {
              "color": "white",
              "width": 0.5
             },
             "pattern": {
              "fillmode": "overlay",
              "size": 10,
              "solidity": 0.2
             }
            },
            "type": "bar"
           }
          ],
          "barpolar": [
           {
            "marker": {
             "line": {
              "color": "white",
              "width": 0.5
             },
             "pattern": {
              "fillmode": "overlay",
              "size": 10,
              "solidity": 0.2
             }
            },
            "type": "barpolar"
           }
          ],
          "carpet": [
           {
            "aaxis": {
             "endlinecolor": "#2a3f5f",
             "gridcolor": "#C8D4E3",
             "linecolor": "#C8D4E3",
             "minorgridcolor": "#C8D4E3",
             "startlinecolor": "#2a3f5f"
            },
            "baxis": {
             "endlinecolor": "#2a3f5f",
             "gridcolor": "#C8D4E3",
             "linecolor": "#C8D4E3",
             "minorgridcolor": "#C8D4E3",
             "startlinecolor": "#2a3f5f"
            },
            "type": "carpet"
           }
          ],
          "choropleth": [
           {
            "colorbar": {
             "outlinewidth": 0,
             "ticks": ""
            },
            "type": "choropleth"
           }
          ],
          "contour": [
           {
            "colorbar": {
             "outlinewidth": 0,
             "ticks": ""
            },
            "colorscale": [
             [
              0,
              "#0d0887"
             ],
             [
              0.1111111111111111,
              "#46039f"
             ],
             [
              0.2222222222222222,
              "#7201a8"
             ],
             [
              0.3333333333333333,
              "#9c179e"
             ],
             [
              0.4444444444444444,
              "#bd3786"
             ],
             [
              0.5555555555555556,
              "#d8576b"
             ],
             [
              0.6666666666666666,
              "#ed7953"
             ],
             [
              0.7777777777777778,
              "#fb9f3a"
             ],
             [
              0.8888888888888888,
              "#fdca26"
             ],
             [
              1,
              "#f0f921"
             ]
            ],
            "type": "contour"
           }
          ],
          "contourcarpet": [
           {
            "colorbar": {
             "outlinewidth": 0,
             "ticks": ""
            },
            "type": "contourcarpet"
           }
          ],
          "heatmap": [
           {
            "colorbar": {
             "outlinewidth": 0,
             "ticks": ""
            },
            "colorscale": [
             [
              0,
              "#0d0887"
             ],
             [
              0.1111111111111111,
              "#46039f"
             ],
             [
              0.2222222222222222,
              "#7201a8"
             ],
             [
              0.3333333333333333,
              "#9c179e"
             ],
             [
              0.4444444444444444,
              "#bd3786"
             ],
             [
              0.5555555555555556,
              "#d8576b"
             ],
             [
              0.6666666666666666,
              "#ed7953"
             ],
             [
              0.7777777777777778,
              "#fb9f3a"
             ],
             [
              0.8888888888888888,
              "#fdca26"
             ],
             [
              1,
              "#f0f921"
             ]
            ],
            "type": "heatmap"
           }
          ],
          "heatmapgl": [
           {
            "colorbar": {
             "outlinewidth": 0,
             "ticks": ""
            },
            "colorscale": [
             [
              0,
              "#0d0887"
             ],
             [
              0.1111111111111111,
              "#46039f"
             ],
             [
              0.2222222222222222,
              "#7201a8"
             ],
             [
              0.3333333333333333,
              "#9c179e"
             ],
             [
              0.4444444444444444,
              "#bd3786"
             ],
             [
              0.5555555555555556,
              "#d8576b"
             ],
             [
              0.6666666666666666,
              "#ed7953"
             ],
             [
              0.7777777777777778,
              "#fb9f3a"
             ],
             [
              0.8888888888888888,
              "#fdca26"
             ],
             [
              1,
              "#f0f921"
             ]
            ],
            "type": "heatmapgl"
           }
          ],
          "histogram": [
           {
            "marker": {
             "pattern": {
              "fillmode": "overlay",
              "size": 10,
              "solidity": 0.2
             }
            },
            "type": "histogram"
           }
          ],
          "histogram2d": [
           {
            "colorbar": {
             "outlinewidth": 0,
             "ticks": ""
            },
            "colorscale": [
             [
              0,
              "#0d0887"
             ],
             [
              0.1111111111111111,
              "#46039f"
             ],
             [
              0.2222222222222222,
              "#7201a8"
             ],
             [
              0.3333333333333333,
              "#9c179e"
             ],
             [
              0.4444444444444444,
              "#bd3786"
             ],
             [
              0.5555555555555556,
              "#d8576b"
             ],
             [
              0.6666666666666666,
              "#ed7953"
             ],
             [
              0.7777777777777778,
              "#fb9f3a"
             ],
             [
              0.8888888888888888,
              "#fdca26"
             ],
             [
              1,
              "#f0f921"
             ]
            ],
            "type": "histogram2d"
           }
          ],
          "histogram2dcontour": [
           {
            "colorbar": {
             "outlinewidth": 0,
             "ticks": ""
            },
            "colorscale": [
             [
              0,
              "#0d0887"
             ],
             [
              0.1111111111111111,
              "#46039f"
             ],
             [
              0.2222222222222222,
              "#7201a8"
             ],
             [
              0.3333333333333333,
              "#9c179e"
             ],
             [
              0.4444444444444444,
              "#bd3786"
             ],
             [
              0.5555555555555556,
              "#d8576b"
             ],
             [
              0.6666666666666666,
              "#ed7953"
             ],
             [
              0.7777777777777778,
              "#fb9f3a"
             ],
             [
              0.8888888888888888,
              "#fdca26"
             ],
             [
              1,
              "#f0f921"
             ]
            ],
            "type": "histogram2dcontour"
           }
          ],
          "mesh3d": [
           {
            "colorbar": {
             "outlinewidth": 0,
             "ticks": ""
            },
            "type": "mesh3d"
           }
          ],
          "parcoords": [
           {
            "line": {
             "colorbar": {
              "outlinewidth": 0,
              "ticks": ""
             }
            },
            "type": "parcoords"
           }
          ],
          "pie": [
           {
            "automargin": true,
            "type": "pie"
           }
          ],
          "scatter": [
           {
            "marker": {
             "colorbar": {
              "outlinewidth": 0,
              "ticks": ""
             }
            },
            "type": "scatter"
           }
          ],
          "scatter3d": [
           {
            "line": {
             "colorbar": {
              "outlinewidth": 0,
              "ticks": ""
             }
            },
            "marker": {
             "colorbar": {
              "outlinewidth": 0,
              "ticks": ""
             }
            },
            "type": "scatter3d"
           }
          ],
          "scattercarpet": [
           {
            "marker": {
             "colorbar": {
              "outlinewidth": 0,
              "ticks": ""
             }
            },
            "type": "scattercarpet"
           }
          ],
          "scattergeo": [
           {
            "marker": {
             "colorbar": {
              "outlinewidth": 0,
              "ticks": ""
             }
            },
            "type": "scattergeo"
           }
          ],
          "scattergl": [
           {
            "marker": {
             "colorbar": {
              "outlinewidth": 0,
              "ticks": ""
             }
            },
            "type": "scattergl"
           }
          ],
          "scattermapbox": [
           {
            "marker": {
             "colorbar": {
              "outlinewidth": 0,
              "ticks": ""
             }
            },
            "type": "scattermapbox"
           }
          ],
          "scatterpolar": [
           {
            "marker": {
             "colorbar": {
              "outlinewidth": 0,
              "ticks": ""
             }
            },
            "type": "scatterpolar"
           }
          ],
          "scatterpolargl": [
           {
            "marker": {
             "colorbar": {
              "outlinewidth": 0,
              "ticks": ""
             }
            },
            "type": "scatterpolargl"
           }
          ],
          "scatterternary": [
           {
            "marker": {
             "colorbar": {
              "outlinewidth": 0,
              "ticks": ""
             }
            },
            "type": "scatterternary"
           }
          ],
          "surface": [
           {
            "colorbar": {
             "outlinewidth": 0,
             "ticks": ""
            },
            "colorscale": [
             [
              0,
              "#0d0887"
             ],
             [
              0.1111111111111111,
              "#46039f"
             ],
             [
              0.2222222222222222,
              "#7201a8"
             ],
             [
              0.3333333333333333,
              "#9c179e"
             ],
             [
              0.4444444444444444,
              "#bd3786"
             ],
             [
              0.5555555555555556,
              "#d8576b"
             ],
             [
              0.6666666666666666,
              "#ed7953"
             ],
             [
              0.7777777777777778,
              "#fb9f3a"
             ],
             [
              0.8888888888888888,
              "#fdca26"
             ],
             [
              1,
              "#f0f921"
             ]
            ],
            "type": "surface"
           }
          ],
          "table": [
           {
            "cells": {
             "fill": {
              "color": "#EBF0F8"
             },
             "line": {
              "color": "white"
             }
            },
            "header": {
             "fill": {
              "color": "#C8D4E3"
             },
             "line": {
              "color": "white"
             }
            },
            "type": "table"
           }
          ]
         },
         "layout": {
          "annotationdefaults": {
           "arrowcolor": "#2a3f5f",
           "arrowhead": 0,
           "arrowwidth": 1
          },
          "autotypenumbers": "strict",
          "coloraxis": {
           "colorbar": {
            "outlinewidth": 0,
            "ticks": ""
           }
          },
          "colorscale": {
           "diverging": [
            [
             0,
             "#8e0152"
            ],
            [
             0.1,
             "#c51b7d"
            ],
            [
             0.2,
             "#de77ae"
            ],
            [
             0.3,
             "#f1b6da"
            ],
            [
             0.4,
             "#fde0ef"
            ],
            [
             0.5,
             "#f7f7f7"
            ],
            [
             0.6,
             "#e6f5d0"
            ],
            [
             0.7,
             "#b8e186"
            ],
            [
             0.8,
             "#7fbc41"
            ],
            [
             0.9,
             "#4d9221"
            ],
            [
             1,
             "#276419"
            ]
           ],
           "sequential": [
            [
             0,
             "#0d0887"
            ],
            [
             0.1111111111111111,
             "#46039f"
            ],
            [
             0.2222222222222222,
             "#7201a8"
            ],
            [
             0.3333333333333333,
             "#9c179e"
            ],
            [
             0.4444444444444444,
             "#bd3786"
            ],
            [
             0.5555555555555556,
             "#d8576b"
            ],
            [
             0.6666666666666666,
             "#ed7953"
            ],
            [
             0.7777777777777778,
             "#fb9f3a"
            ],
            [
             0.8888888888888888,
             "#fdca26"
            ],
            [
             1,
             "#f0f921"
            ]
           ],
           "sequentialminus": [
            [
             0,
             "#0d0887"
            ],
            [
             0.1111111111111111,
             "#46039f"
            ],
            [
             0.2222222222222222,
             "#7201a8"
            ],
            [
             0.3333333333333333,
             "#9c179e"
            ],
            [
             0.4444444444444444,
             "#bd3786"
            ],
            [
             0.5555555555555556,
             "#d8576b"
            ],
            [
             0.6666666666666666,
             "#ed7953"
            ],
            [
             0.7777777777777778,
             "#fb9f3a"
            ],
            [
             0.8888888888888888,
             "#fdca26"
            ],
            [
             1,
             "#f0f921"
            ]
           ]
          },
          "colorway": [
           "#636efa",
           "#EF553B",
           "#00cc96",
           "#ab63fa",
           "#FFA15A",
           "#19d3f3",
           "#FF6692",
           "#B6E880",
           "#FF97FF",
           "#FECB52"
          ],
          "font": {
           "color": "#2a3f5f"
          },
          "geo": {
           "bgcolor": "white",
           "lakecolor": "white",
           "landcolor": "white",
           "showlakes": true,
           "showland": true,
           "subunitcolor": "#C8D4E3"
          },
          "hoverlabel": {
           "align": "left"
          },
          "hovermode": "closest",
          "mapbox": {
           "style": "light"
          },
          "paper_bgcolor": "white",
          "plot_bgcolor": "white",
          "polar": {
           "angularaxis": {
            "gridcolor": "#EBF0F8",
            "linecolor": "#EBF0F8",
            "ticks": ""
           },
           "bgcolor": "white",
           "radialaxis": {
            "gridcolor": "#EBF0F8",
            "linecolor": "#EBF0F8",
            "ticks": ""
           }
          },
          "scene": {
           "xaxis": {
            "backgroundcolor": "white",
            "gridcolor": "#DFE8F3",
            "gridwidth": 2,
            "linecolor": "#EBF0F8",
            "showbackground": true,
            "ticks": "",
            "zerolinecolor": "#EBF0F8"
           },
           "yaxis": {
            "backgroundcolor": "white",
            "gridcolor": "#DFE8F3",
            "gridwidth": 2,
            "linecolor": "#EBF0F8",
            "showbackground": true,
            "ticks": "",
            "zerolinecolor": "#EBF0F8"
           },
           "zaxis": {
            "backgroundcolor": "white",
            "gridcolor": "#DFE8F3",
            "gridwidth": 2,
            "linecolor": "#EBF0F8",
            "showbackground": true,
            "ticks": "",
            "zerolinecolor": "#EBF0F8"
           }
          },
          "shapedefaults": {
           "line": {
            "color": "#2a3f5f"
           }
          },
          "ternary": {
           "aaxis": {
            "gridcolor": "#DFE8F3",
            "linecolor": "#A2B1C6",
            "ticks": ""
           },
           "baxis": {
            "gridcolor": "#DFE8F3",
            "linecolor": "#A2B1C6",
            "ticks": ""
           },
           "bgcolor": "white",
           "caxis": {
            "gridcolor": "#DFE8F3",
            "linecolor": "#A2B1C6",
            "ticks": ""
           }
          },
          "title": {
           "x": 0.05
          },
          "xaxis": {
           "automargin": true,
           "gridcolor": "#EBF0F8",
           "linecolor": "#EBF0F8",
           "ticks": "",
           "title": {
            "standoff": 15
           },
           "zerolinecolor": "#EBF0F8",
           "zerolinewidth": 2
          },
          "yaxis": {
           "automargin": true,
           "gridcolor": "#EBF0F8",
           "linecolor": "#EBF0F8",
           "ticks": "",
           "title": {
            "standoff": 15
           },
           "zerolinecolor": "#EBF0F8",
           "zerolinewidth": 2
          }
         }
        },
        "xaxis": {
         "anchor": "y",
         "autorange": true,
         "domain": [
          0,
          1
         ],
         "range": [
          0,
          16530.526315789473
         ],
         "title": {
          "text": "count"
         },
         "type": "linear"
        },
        "yaxis": {
         "anchor": "x",
         "autorange": true,
         "categoryarray": [
          "positive",
          "neutral",
          "negative"
         ],
         "categoryorder": "array",
         "domain": [
          0,
          1
         ],
         "range": [
          -0.5,
          2.5
         ],
         "title": {
          "text": "quoted_tweet_sentiment"
         },
         "type": "category"
        }
       }
      },
      "image/png": "[encoded data removed]",
      "text/html": [
       "<div>                            <div id=\"a484cfe0-0d69-484a-ac56-0d3270c5a4b5\" class=\"plotly-graph-div\" style=\"height:525px; width:100%;\"></div>            <script type=\"text/javascript\">                require([\"plotly\"], function(Plotly) {                    window.PLOTLYENV=window.PLOTLYENV || {};                                    if (document.getElementById(\"a484cfe0-0d69-484a-ac56-0d3270c5a4b5\")) {                    Plotly.newPlot(                        \"a484cfe0-0d69-484a-ac56-0d3270c5a4b5\",                        [{\"alignmentgroup\":\"True\",\"hovertemplate\":\"quoted_tweet_sentiment=%{y}<br>count=%{x}<extra></extra>\",\"legendgroup\":\"negative\",\"marker\":{\"color\":\"#636efa\",\"pattern\":{\"shape\":\"\"}},\"name\":\"negative\",\"offsetgroup\":\"negative\",\"orientation\":\"h\",\"showlegend\":true,\"textposition\":\"auto\",\"type\":\"bar\",\"x\":[15704],\"xaxis\":\"x\",\"y\":[\"negative\"],\"yaxis\":\"y\"},{\"alignmentgroup\":\"True\",\"hovertemplate\":\"quoted_tweet_sentiment=%{y}<br>count=%{x}<extra></extra>\",\"legendgroup\":\"neutral\",\"marker\":{\"color\":\"#EF553B\",\"pattern\":{\"shape\":\"\"}},\"name\":\"neutral\",\"offsetgroup\":\"neutral\",\"orientation\":\"h\",\"showlegend\":true,\"textposition\":\"auto\",\"type\":\"bar\",\"x\":[14213],\"xaxis\":\"x\",\"y\":[\"neutral\"],\"yaxis\":\"y\"},{\"alignmentgroup\":\"True\",\"hovertemplate\":\"quoted_tweet_sentiment=%{y}<br>count=%{x}<extra></extra>\",\"legendgroup\":\"positive\",\"marker\":{\"color\":\"#00cc96\",\"pattern\":{\"shape\":\"\"}},\"name\":\"positive\",\"offsetgroup\":\"positive\",\"orientation\":\"h\",\"showlegend\":true,\"textposition\":\"auto\",\"type\":\"bar\",\"x\":[9490],\"xaxis\":\"x\",\"y\":[\"positive\"],\"yaxis\":\"y\"}],                        {\"barmode\":\"relative\",\"legend\":{\"title\":{\"text\":\"quoted_tweet_sentiment\"},\"tracegroupgap\":0},\"margin\":{\"t\":60},\"template\":{\"data\":{\"bar\":[{\"error_x\":{\"color\":\"#2a3f5f\"},\"error_y\":{\"color\":\"#2a3f5f\"},\"marker\":{\"line\":{\"color\":\"white\",\"width\":0.5},\"pattern\":{\"fillmode\":\"overlay\",\"size\":10,\"solidity\":0.2}},\"type\":\"bar\"}],\"barpolar\":[{\"marker\":{\"line\":{\"color\":\"white\",\"width\":0.5},\"pattern\":{\"fillmode\":\"overlay\",\"size\":10,\"solidity\":0.2}},\"type\":\"barpolar\"}],\"carpet\":[{\"aaxis\":{\"endlinecolor\":\"#2a3f5f\",\"gridcolor\":\"#C8D4E3\",\"linecolor\":\"#C8D4E3\",\"minorgridcolor\":\"#C8D4E3\",\"startlinecolor\":\"#2a3f5f\"},\"baxis\":{\"endlinecolor\":\"#2a3f5f\",\"gridcolor\":\"#C8D4E3\",\"linecolor\":\"#C8D4E3\",\"minorgridcolor\":\"#C8D4E3\",\"startlinecolor\":\"#2a3f5f\"},\"type\":\"carpet\"}],\"choropleth\":[{\"colorbar\":{\"outlinewidth\":0,\"ticks\":\"\"},\"type\":\"choropleth\"}],\"contour\":[{\"colorbar\":{\"outlinewidth\":0,\"ticks\":\"\"},\"colorscale\":[[0.0,\"#0d0887\"],[0.1111111111111111,\"#46039f\"],[0.2222222222222222,\"#7201a8\"],[0.3333333333333333,\"#9c179e\"],[0.4444444444444444,\"#bd3786\"],[0.5555555555555556,\"#d8576b\"],[0.6666666666666666,\"#ed7953\"],[0.7777777777777778,\"#fb9f3a\"],[0.8888888888888888,\"#fdca26\"],[1.0,\"#f0f921\"]],\"type\":\"contour\"}],\"contourcarpet\":[{\"colorbar\":{\"outlinewidth\":0,\"ticks\":\"\"},\"type\":\"contourcarpet\"}],\"heatmap\":[{\"colorbar\":{\"outlinewidth\":0,\"ticks\":\"\"},\"colorscale\":[[0.0,\"#0d0887\"],[0.1111111111111111,\"#46039f\"],[0.2222222222222222,\"#7201a8\"],[0.3333333333333333,\"#9c179e\"],[0.4444444444444444,\"#bd3786\"],[0.5555555555555556,\"#d8576b\"],[0.6666666666666666,\"#ed7953\"],[0.7777777777777778,\"#fb9f3a\"],[0.8888888888888888,\"#fdca26\"],[1.0,\"#f0f921\"]],\"type\":\"heatmap\"}],\"heatmapgl\":[{\"colorbar\":{\"outlinewidth\":0,\"ticks\":\"\"},\"colorscale\":[[0.0,\"#0d0887\"],[0.1111111111111111,\"#46039f\"],[0.2222222222222222,\"#7201a8\"],[0.3333333333333333,\"#9c179e\"],[0.4444444444444444,\"#bd3786\"],[0.5555555555555556,\"#d8576b\"],[0.6666666666666666,\"#ed7953\"],[0.7777777777777778,\"#fb9f3a\"],[0.8888888888888888,\"#fdca26\"],[1.0,\"#f0f921\"]],\"type\":\"heatmapgl\"}],\"histogram\":[{\"marker\":{\"pattern\":{\"fillmode\":\"overlay\",\"size\":10,\"solidity\":0.2}},\"type\":\"histogram\"}],\"histogram2d\":[{\"colorbar\":{\"outlinewidth\":0,\"ticks\":\"\"},\"colorscale\":[[0.0,\"#0d0887\"],[0.1111111111111111,\"#46039f\"],[0.2222222222222222,\"#7201a8\"],[0.3333333333333333,\"#9c179e\"],[0.4444444444444444,\"#bd3786\"],[0.5555555555555556,\"#d8576b\"],[0.6666666666666666,\"#ed7953\"],[0.7777777777777778,\"#fb9f3a\"],[0.8888888888888888,\"#fdca26\"],[1.0,\"#f0f921\"]],\"type\":\"histogram2d\"}],\"histogram2dcontour\":[{\"colorbar\":{\"outlinewidth\":0,\"ticks\":\"\"},\"colorscale\":[[0.0,\"#0d0887\"],[0.1111111111111111,\"#46039f\"],[0.2222222222222222,\"#7201a8\"],[0.3333333333333333,\"#9c179e\"],[0.4444444444444444,\"#bd3786\"],[0.5555555555555556,\"#d8576b\"],[0.6666666666666666,\"#ed7953\"],[0.7777777777777778,\"#fb9f3a\"],[0.8888888888888888,\"#fdca26\"],[1.0,\"#f0f921\"]],\"type\":\"histogram2dcontour\"}],\"mesh3d\":[{\"colorbar\":{\"outlinewidth\":0,\"ticks\":\"\"},\"type\":\"mesh3d\"}],\"parcoords\":[{\"line\":{\"colorbar\":{\"outlinewidth\":0,\"ticks\":\"\"}},\"type\":\"parcoords\"}],\"pie\":[{\"automargin\":true,\"type\":\"pie\"}],\"scatter\":[{\"marker\":{\"colorbar\":{\"outlinewidth\":0,\"ticks\":\"\"}},\"type\":\"scatter\"}],\"scatter3d\":[{\"line\":{\"colorbar\":{\"outlinewidth\":0,\"ticks\":\"\"}},\"marker\":{\"colorbar\":{\"outlinewidth\":0,\"ticks\":\"\"}},\"type\":\"scatter3d\"}],\"scattercarpet\":[{\"marker\":{\"colorbar\":{\"outlinewidth\":0,\"ticks\":\"\"}},\"type\":\"scattercarpet\"}],\"scattergeo\":[{\"marker\":{\"colorbar\":{\"outlinewidth\":0,\"ticks\":\"\"}},\"type\":\"scattergeo\"}],\"scattergl\":[{\"marker\":{\"colorbar\":{\"outlinewidth\":0,\"ticks\":\"\"}},\"type\":\"scattergl\"}],\"scattermapbox\":[{\"marker\":{\"colorbar\":{\"outlinewidth\":0,\"ticks\":\"\"}},\"type\":\"scattermapbox\"}],\"scatterpolar\":[{\"marker\":{\"colorbar\":{\"outlinewidth\":0,\"ticks\":\"\"}},\"type\":\"scatterpolar\"}],\"scatterpolargl\":[{\"marker\":{\"colorbar\":{\"outlinewidth\":0,\"ticks\":\"\"}},\"type\":\"scatterpolargl\"}],\"scatterternary\":[{\"marker\":{\"colorbar\":{\"outlinewidth\":0,\"ticks\":\"\"}},\"type\":\"scatterternary\"}],\"surface\":[{\"colorbar\":{\"outlinewidth\":0,\"ticks\":\"\"},\"colorscale\":[[0.0,\"#0d0887\"],[0.1111111111111111,\"#46039f\"],[0.2222222222222222,\"#7201a8\"],[0.3333333333333333,\"#9c179e\"],[0.4444444444444444,\"#bd3786\"],[0.5555555555555556,\"#d8576b\"],[0.6666666666666666,\"#ed7953\"],[0.7777777777777778,\"#fb9f3a\"],[0.8888888888888888,\"#fdca26\"],[1.0,\"#f0f921\"]],\"type\":\"surface\"}],\"table\":[{\"cells\":{\"fill\":{\"color\":\"#EBF0F8\"},\"line\":{\"color\":\"white\"}},\"header\":{\"fill\":{\"color\":\"#C8D4E3\"},\"line\":{\"color\":\"white\"}},\"type\":\"table\"}]},\"layout\":{\"annotationdefaults\":{\"arrowcolor\":\"#2a3f5f\",\"arrowhead\":0,\"arrowwidth\":1},\"autotypenumbers\":\"strict\",\"coloraxis\":{\"colorbar\":{\"outlinewidth\":0,\"ticks\":\"\"}},\"colorscale\":{\"diverging\":[[0,\"#8e0152\"],[0.1,\"#c51b7d\"],[0.2,\"#de77ae\"],[0.3,\"#f1b6da\"],[0.4,\"#fde0ef\"],[0.5,\"#f7f7f7\"],[0.6,\"#e6f5d0\"],[0.7,\"#b8e186\"],[0.8,\"#7fbc41\"],[0.9,\"#4d9221\"],[1,\"#276419\"]],\"sequential\":[[0.0,\"#0d0887\"],[0.1111111111111111,\"#46039f\"],[0.2222222222222222,\"#7201a8\"],[0.3333333333333333,\"#9c179e\"],[0.4444444444444444,\"#bd3786\"],[0.5555555555555556,\"#d8576b\"],[0.6666666666666666,\"#ed7953\"],[0.7777777777777778,\"#fb9f3a\"],[0.8888888888888888,\"#fdca26\"],[1.0,\"#f0f921\"]],\"sequentialminus\":[[0.0,\"#0d0887\"],[0.1111111111111111,\"#46039f\"],[0.2222222222222222,\"#7201a8\"],[0.3333333333333333,\"#9c179e\"],[0.4444444444444444,\"#bd3786\"],[0.5555555555555556,\"#d8576b\"],[0.6666666666666666,\"#ed7953\"],[0.7777777777777778,\"#fb9f3a\"],[0.8888888888888888,\"#fdca26\"],[1.0,\"#f0f921\"]]},\"colorway\":[\"#636efa\",\"#EF553B\",\"#00cc96\",\"#ab63fa\",\"#FFA15A\",\"#19d3f3\",\"#FF6692\",\"#B6E880\",\"#FF97FF\",\"#FECB52\"],\"font\":{\"color\":\"#2a3f5f\"},\"geo\":{\"bgcolor\":\"white\",\"lakecolor\":\"white\",\"landcolor\":\"white\",\"showlakes\":true,\"showland\":true,\"subunitcolor\":\"#C8D4E3\"},\"hoverlabel\":{\"align\":\"left\"},\"hovermode\":\"closest\",\"mapbox\":{\"style\":\"light\"},\"paper_bgcolor\":\"white\",\"plot_bgcolor\":\"white\",\"polar\":{\"angularaxis\":{\"gridcolor\":\"#EBF0F8\",\"linecolor\":\"#EBF0F8\",\"ticks\":\"\"},\"bgcolor\":\"white\",\"radialaxis\":{\"gridcolor\":\"#EBF0F8\",\"linecolor\":\"#EBF0F8\",\"ticks\":\"\"}},\"scene\":{\"xaxis\":{\"backgroundcolor\":\"white\",\"gridcolor\":\"#DFE8F3\",\"gridwidth\":2,\"linecolor\":\"#EBF0F8\",\"showbackground\":true,\"ticks\":\"\",\"zerolinecolor\":\"#EBF0F8\"},\"yaxis\":{\"backgroundcolor\":\"white\",\"gridcolor\":\"#DFE8F3\",\"gridwidth\":2,\"linecolor\":\"#EBF0F8\",\"showbackground\":true,\"ticks\":\"\",\"zerolinecolor\":\"#EBF0F8\"},\"zaxis\":{\"backgroundcolor\":\"white\",\"gridcolor\":\"#DFE8F3\",\"gridwidth\":2,\"linecolor\":\"#EBF0F8\",\"showbackground\":true,\"ticks\":\"\",\"zerolinecolor\":\"#EBF0F8\"}},\"shapedefaults\":{\"line\":{\"color\":\"#2a3f5f\"}},\"ternary\":{\"aaxis\":{\"gridcolor\":\"#DFE8F3\",\"linecolor\":\"#A2B1C6\",\"ticks\":\"\"},\"baxis\":{\"gridcolor\":\"#DFE8F3\",\"linecolor\":\"#A2B1C6\",\"ticks\":\"\"},\"bgcolor\":\"white\",\"caxis\":{\"gridcolor\":\"#DFE8F3\",\"linecolor\":\"#A2B1C6\",\"ticks\":\"\"}},\"title\":{\"x\":0.05},\"xaxis\":{\"automargin\":true,\"gridcolor\":\"#EBF0F8\",\"linecolor\":\"#EBF0F8\",\"ticks\":\"\",\"title\":{\"standoff\":15},\"zerolinecolor\":\"#EBF0F8\",\"zerolinewidth\":2},\"yaxis\":{\"automargin\":true,\"gridcolor\":\"#EBF0F8\",\"linecolor\":\"#EBF0F8\",\"ticks\":\"\",\"title\":{\"standoff\":15},\"zerolinecolor\":\"#EBF0F8\",\"zerolinewidth\":2}}},\"xaxis\":{\"anchor\":\"y\",\"domain\":[0.0,1.0],\"title\":{\"text\":\"count\"}},\"yaxis\":{\"anchor\":\"x\",\"categoryarray\":[\"positive\",\"neutral\",\"negative\"],\"categoryorder\":\"array\",\"domain\":[0.0,1.0],\"title\":{\"text\":\"quoted_tweet_sentiment\"}}},                        {\"responsive\": true}                    ).then(function(){\n",
       "                            \n",
       "var gd = document.getElementById('a484cfe0-0d69-484a-ac56-0d3270c5a4b5');\n",
       "var x = new MutationObserver(function (mutations, observer) {{\n",
       "        var display = window.getComputedStyle(gd).display;\n",
       "        if (!display || display === 'none') {{\n",
       "            console.log([gd, 'removed!']);\n",
       "            Plotly.purge(gd);\n",
       "            observer.disconnect();\n",
       "        }}\n",
       "}});\n",
       "\n",
       "// Listen for the removal of the full notebook cells\n",
       "var notebookContainer = gd.closest('#notebook-container');\n",
       "if (notebookContainer) {{\n",
       "    x.observe(notebookContainer, {childList: true});\n",
       "}}\n",
       "\n",
       "// Listen for the clearing of the current output cell\n",
       "var outputEl = gd.closest('.output');\n",
       "if (outputEl) {{\n",
       "    x.observe(outputEl, {childList: true});\n",
       "}}\n",
       "\n",
       "                        })                };                });            </script>        </div>"
      ]
     },
     "metadata": {},
     "output_type": "display_data"
    }
   ],
   "source": [
    "fig = px.bar(df_quoted_sentiments, x=\"count\", y=\"quoted_tweet_sentiment\", orientation='h', template=\"plotly_white\", color=\"quoted_tweet_sentiment\")\n",
    "fig.show()"
   ]
  },
  {
   "cell_type": "markdown",
   "id": "1434bc4f-9603-469e-8837-ab5c2ecd478b",
   "metadata": {},
   "source": [
    "##### Reaction on the quoted tweets through sentiment analysis"
   ]
  },
  {
   "cell_type": "code",
   "execution_count": 265,
   "id": "8b7a5e83-a391-464a-b7cc-36b3cb389915",
   "metadata": {},
   "outputs": [],
   "source": [
    "quoted_tweets_with_sentiment = sg_tweets[(sg_tweets['tweet_enagagement_type'] == 'Quote') & (sg_tweets['quoted_tweet_sentiment'].notna())]"
   ]
  },
  {
   "cell_type": "code",
   "execution_count": 266,
   "id": "f15adf7e-3a8a-4163-a954-22acd8e911dd",
   "metadata": {},
   "outputs": [
    {
     "data": {
      "text/plain": [
       "[('positive', 'positive'),\n",
       " ('positive', 'negative'),\n",
       " ('positive', 'neutral'),\n",
       " ('negative', 'positive'),\n",
       " ('negative', 'negative'),\n",
       " ('negative', 'neutral'),\n",
       " ('neutral', 'positive'),\n",
       " ('neutral', 'negative'),\n",
       " ('neutral', 'neutral')]"
      ]
     },
     "execution_count": 266,
     "metadata": {},
     "output_type": "execute_result"
    }
   ],
   "source": [
    "sentiments = ['positive', 'negative', 'neutral']\n",
    "sentiments_comb = it.product(sentiments, sentiments)\n",
    "sentiments_comb = list(sentiments_comb)\n",
    "sentiments_comb"
   ]
  },
  {
   "cell_type": "code",
   "execution_count": 267,
   "id": "0d60ec7d-25c3-49c9-bcc6-2baa57ddd6ba",
   "metadata": {},
   "outputs": [
    {
     "name": "stdout",
     "output_type": "stream",
     "text": [
      "Tweet: positive | Quoted: positive - 3187\n",
      "Tweet: positive | Quoted: negative - 2444\n",
      "Tweet: positive | Quoted: neutral - 3341\n",
      "Tweet: negative | Quoted: positive - 1654\n",
      "Tweet: negative | Quoted: negative - 4933\n",
      "Tweet: negative | Quoted: neutral - 2863\n",
      "Tweet: neutral | Quoted: positive - 4649\n",
      "Tweet: neutral | Quoted: negative - 8327\n",
      "Tweet: neutral | Quoted: neutral - 8009\n"
     ]
    }
   ],
   "source": [
    "for s1, s2 in sentiments_comb:\n",
    "    sc.append('{}_{}'.format(s1, s2))\n",
    "    print(\"Tweet: {} | Quoted: {} - {}\".format(s1, s2, len(sg_tweets[(sg_tweets['tweet_sentiment'] == s1) &  (sg_tweets['quoted_tweet_sentiment'] == s2)])))"
   ]
  },
  {
   "cell_type": "code",
   "execution_count": 268,
   "id": "5b5b4e41-deff-4dcb-9cdf-678dfa3e0200",
   "metadata": {},
   "outputs": [
    {
     "data": {
      "application/vnd.plotly.v1+json": {
       "config": {
        "plotlyServerURL": "https://plot.ly"
       },
       "data": [
        {
         "alignmentgroup": "True",
         "hovertemplate": "color=green<br>sentiment_trans_count=%{x}<br>sentiment_trans=%{y}<extra></extra>",
         "legendgroup": "green",
         "marker": {
          "color": "#636efa",
          "pattern": {
           "shape": ""
          }
         },
         "name": "green",
         "offsetgroup": "green",
         "orientation": "h",
         "showlegend": true,
         "textposition": "auto",
         "type": "bar",
         "x": [
          3187,
          1654,
          4649
         ],
         "xaxis": "x",
         "y": [
          "positive_positive",
          "negative_positive",
          "neutral_positive"
         ],
         "yaxis": "y"
        },
        {
         "alignmentgroup": "True",
         "hovertemplate": "color=red<br>sentiment_trans_count=%{x}<br>sentiment_trans=%{y}<extra></extra>",
         "legendgroup": "red",
         "marker": {
          "color": "#EF553B",
          "pattern": {
           "shape": ""
          }
         },
         "name": "red",
         "offsetgroup": "red",
         "orientation": "h",
         "showlegend": true,
         "textposition": "auto",
         "type": "bar",
         "x": [
          2444,
          4933,
          8327
         ],
         "xaxis": "x",
         "y": [
          "positive_negative",
          "negative_negative",
          "neutral_negative"
         ],
         "yaxis": "y"
        },
        {
         "alignmentgroup": "True",
         "hovertemplate": "color=#FFFF00<br>sentiment_trans_count=%{x}<br>sentiment_trans=%{y}<extra></extra>",
         "legendgroup": "#FFFF00",
         "marker": {
          "color": "#00cc96",
          "pattern": {
           "shape": ""
          }
         },
         "name": "#FFFF00",
         "offsetgroup": "#FFFF00",
         "orientation": "h",
         "showlegend": true,
         "textposition": "auto",
         "type": "bar",
         "x": [
          3341,
          2863,
          8009
         ],
         "xaxis": "x",
         "y": [
          "positive_neutral",
          "negative_neutral",
          "neutral_neutral"
         ],
         "yaxis": "y"
        }
       ],
       "layout": {
        "autosize": true,
        "barmode": "relative",
        "legend": {
         "title": {
          "text": "color"
         },
         "tracegroupgap": 0
        },
        "margin": {
         "t": 60
        },
        "showlegend": false,
        "template": {
         "data": {
          "bar": [
           {
            "error_x": {
             "color": "#2a3f5f"
            },
            "error_y": {
             "color": "#2a3f5f"
            },
            "marker": {
             "line": {
              "color": "white",
              "width": 0.5
             },
             "pattern": {
              "fillmode": "overlay",
              "size": 10,
              "solidity": 0.2
             }
            },
            "type": "bar"
           }
          ],
          "barpolar": [
           {
            "marker": {
             "line": {
              "color": "white",
              "width": 0.5
             },
             "pattern": {
              "fillmode": "overlay",
              "size": 10,
              "solidity": 0.2
             }
            },
            "type": "barpolar"
           }
          ],
          "carpet": [
           {
            "aaxis": {
             "endlinecolor": "#2a3f5f",
             "gridcolor": "#C8D4E3",
             "linecolor": "#C8D4E3",
             "minorgridcolor": "#C8D4E3",
             "startlinecolor": "#2a3f5f"
            },
            "baxis": {
             "endlinecolor": "#2a3f5f",
             "gridcolor": "#C8D4E3",
             "linecolor": "#C8D4E3",
             "minorgridcolor": "#C8D4E3",
             "startlinecolor": "#2a3f5f"
            },
            "type": "carpet"
           }
          ],
          "choropleth": [
           {
            "colorbar": {
             "outlinewidth": 0,
             "ticks": ""
            },
            "type": "choropleth"
           }
          ],
          "contour": [
           {
            "colorbar": {
             "outlinewidth": 0,
             "ticks": ""
            },
            "colorscale": [
             [
              0,
              "#0d0887"
             ],
             [
              0.1111111111111111,
              "#46039f"
             ],
             [
              0.2222222222222222,
              "#7201a8"
             ],
             [
              0.3333333333333333,
              "#9c179e"
             ],
             [
              0.4444444444444444,
              "#bd3786"
             ],
             [
              0.5555555555555556,
              "#d8576b"
             ],
             [
              0.6666666666666666,
              "#ed7953"
             ],
             [
              0.7777777777777778,
              "#fb9f3a"
             ],
             [
              0.8888888888888888,
              "#fdca26"
             ],
             [
              1,
              "#f0f921"
             ]
            ],
            "type": "contour"
           }
          ],
          "contourcarpet": [
           {
            "colorbar": {
             "outlinewidth": 0,
             "ticks": ""
            },
            "type": "contourcarpet"
           }
          ],
          "heatmap": [
           {
            "colorbar": {
             "outlinewidth": 0,
             "ticks": ""
            },
            "colorscale": [
             [
              0,
              "#0d0887"
             ],
             [
              0.1111111111111111,
              "#46039f"
             ],
             [
              0.2222222222222222,
              "#7201a8"
             ],
             [
              0.3333333333333333,
              "#9c179e"
             ],
             [
              0.4444444444444444,
              "#bd3786"
             ],
             [
              0.5555555555555556,
              "#d8576b"
             ],
             [
              0.6666666666666666,
              "#ed7953"
             ],
             [
              0.7777777777777778,
              "#fb9f3a"
             ],
             [
              0.8888888888888888,
              "#fdca26"
             ],
             [
              1,
              "#f0f921"
             ]
            ],
            "type": "heatmap"
           }
          ],
          "heatmapgl": [
           {
            "colorbar": {
             "outlinewidth": 0,
             "ticks": ""
            },
            "colorscale": [
             [
              0,
              "#0d0887"
             ],
             [
              0.1111111111111111,
              "#46039f"
             ],
             [
              0.2222222222222222,
              "#7201a8"
             ],
             [
              0.3333333333333333,
              "#9c179e"
             ],
             [
              0.4444444444444444,
              "#bd3786"
             ],
             [
              0.5555555555555556,
              "#d8576b"
             ],
             [
              0.6666666666666666,
              "#ed7953"
             ],
             [
              0.7777777777777778,
              "#fb9f3a"
             ],
             [
              0.8888888888888888,
              "#fdca26"
             ],
             [
              1,
              "#f0f921"
             ]
            ],
            "type": "heatmapgl"
           }
          ],
          "histogram": [
           {
            "marker": {
             "pattern": {
              "fillmode": "overlay",
              "size": 10,
              "solidity": 0.2
             }
            },
            "type": "histogram"
           }
          ],
          "histogram2d": [
           {
            "colorbar": {
             "outlinewidth": 0,
             "ticks": ""
            },
            "colorscale": [
             [
              0,
              "#0d0887"
             ],
             [
              0.1111111111111111,
              "#46039f"
             ],
             [
              0.2222222222222222,
              "#7201a8"
             ],
             [
              0.3333333333333333,
              "#9c179e"
             ],
             [
              0.4444444444444444,
              "#bd3786"
             ],
             [
              0.5555555555555556,
              "#d8576b"
             ],
             [
              0.6666666666666666,
              "#ed7953"
             ],
             [
              0.7777777777777778,
              "#fb9f3a"
             ],
             [
              0.8888888888888888,
              "#fdca26"
             ],
             [
              1,
              "#f0f921"
             ]
            ],
            "type": "histogram2d"
           }
          ],
          "histogram2dcontour": [
           {
            "colorbar": {
             "outlinewidth": 0,
             "ticks": ""
            },
            "colorscale": [
             [
              0,
              "#0d0887"
             ],
             [
              0.1111111111111111,
              "#46039f"
             ],
             [
              0.2222222222222222,
              "#7201a8"
             ],
             [
              0.3333333333333333,
              "#9c179e"
             ],
             [
              0.4444444444444444,
              "#bd3786"
             ],
             [
              0.5555555555555556,
              "#d8576b"
             ],
             [
              0.6666666666666666,
              "#ed7953"
             ],
             [
              0.7777777777777778,
              "#fb9f3a"
             ],
             [
              0.8888888888888888,
              "#fdca26"
             ],
             [
              1,
              "#f0f921"
             ]
            ],
            "type": "histogram2dcontour"
           }
          ],
          "mesh3d": [
           {
            "colorbar": {
             "outlinewidth": 0,
             "ticks": ""
            },
            "type": "mesh3d"
           }
          ],
          "parcoords": [
           {
            "line": {
             "colorbar": {
              "outlinewidth": 0,
              "ticks": ""
             }
            },
            "type": "parcoords"
           }
          ],
          "pie": [
           {
            "automargin": true,
            "type": "pie"
           }
          ],
          "scatter": [
           {
            "marker": {
             "colorbar": {
              "outlinewidth": 0,
              "ticks": ""
             }
            },
            "type": "scatter"
           }
          ],
          "scatter3d": [
           {
            "line": {
             "colorbar": {
              "outlinewidth": 0,
              "ticks": ""
             }
            },
            "marker": {
             "colorbar": {
              "outlinewidth": 0,
              "ticks": ""
             }
            },
            "type": "scatter3d"
           }
          ],
          "scattercarpet": [
           {
            "marker": {
             "colorbar": {
              "outlinewidth": 0,
              "ticks": ""
             }
            },
            "type": "scattercarpet"
           }
          ],
          "scattergeo": [
           {
            "marker": {
             "colorbar": {
              "outlinewidth": 0,
              "ticks": ""
             }
            },
            "type": "scattergeo"
           }
          ],
          "scattergl": [
           {
            "marker": {
             "colorbar": {
              "outlinewidth": 0,
              "ticks": ""
             }
            },
            "type": "scattergl"
           }
          ],
          "scattermapbox": [
           {
            "marker": {
             "colorbar": {
              "outlinewidth": 0,
              "ticks": ""
             }
            },
            "type": "scattermapbox"
           }
          ],
          "scatterpolar": [
           {
            "marker": {
             "colorbar": {
              "outlinewidth": 0,
              "ticks": ""
             }
            },
            "type": "scatterpolar"
           }
          ],
          "scatterpolargl": [
           {
            "marker": {
             "colorbar": {
              "outlinewidth": 0,
              "ticks": ""
             }
            },
            "type": "scatterpolargl"
           }
          ],
          "scatterternary": [
           {
            "marker": {
             "colorbar": {
              "outlinewidth": 0,
              "ticks": ""
             }
            },
            "type": "scatterternary"
           }
          ],
          "surface": [
           {
            "colorbar": {
             "outlinewidth": 0,
             "ticks": ""
            },
            "colorscale": [
             [
              0,
              "#0d0887"
             ],
             [
              0.1111111111111111,
              "#46039f"
             ],
             [
              0.2222222222222222,
              "#7201a8"
             ],
             [
              0.3333333333333333,
              "#9c179e"
             ],
             [
              0.4444444444444444,
              "#bd3786"
             ],
             [
              0.5555555555555556,
              "#d8576b"
             ],
             [
              0.6666666666666666,
              "#ed7953"
             ],
             [
              0.7777777777777778,
              "#fb9f3a"
             ],
             [
              0.8888888888888888,
              "#fdca26"
             ],
             [
              1,
              "#f0f921"
             ]
            ],
            "type": "surface"
           }
          ],
          "table": [
           {
            "cells": {
             "fill": {
              "color": "#EBF0F8"
             },
             "line": {
              "color": "white"
             }
            },
            "header": {
             "fill": {
              "color": "#C8D4E3"
             },
             "line": {
              "color": "white"
             }
            },
            "type": "table"
           }
          ]
         },
         "layout": {
          "annotationdefaults": {
           "arrowcolor": "#2a3f5f",
           "arrowhead": 0,
           "arrowwidth": 1
          },
          "autotypenumbers": "strict",
          "coloraxis": {
           "colorbar": {
            "outlinewidth": 0,
            "ticks": ""
           }
          },
          "colorscale": {
           "diverging": [
            [
             0,
             "#8e0152"
            ],
            [
             0.1,
             "#c51b7d"
            ],
            [
             0.2,
             "#de77ae"
            ],
            [
             0.3,
             "#f1b6da"
            ],
            [
             0.4,
             "#fde0ef"
            ],
            [
             0.5,
             "#f7f7f7"
            ],
            [
             0.6,
             "#e6f5d0"
            ],
            [
             0.7,
             "#b8e186"
            ],
            [
             0.8,
             "#7fbc41"
            ],
            [
             0.9,
             "#4d9221"
            ],
            [
             1,
             "#276419"
            ]
           ],
           "sequential": [
            [
             0,
             "#0d0887"
            ],
            [
             0.1111111111111111,
             "#46039f"
            ],
            [
             0.2222222222222222,
             "#7201a8"
            ],
            [
             0.3333333333333333,
             "#9c179e"
            ],
            [
             0.4444444444444444,
             "#bd3786"
            ],
            [
             0.5555555555555556,
             "#d8576b"
            ],
            [
             0.6666666666666666,
             "#ed7953"
            ],
            [
             0.7777777777777778,
             "#fb9f3a"
            ],
            [
             0.8888888888888888,
             "#fdca26"
            ],
            [
             1,
             "#f0f921"
            ]
           ],
           "sequentialminus": [
            [
             0,
             "#0d0887"
            ],
            [
             0.1111111111111111,
             "#46039f"
            ],
            [
             0.2222222222222222,
             "#7201a8"
            ],
            [
             0.3333333333333333,
             "#9c179e"
            ],
            [
             0.4444444444444444,
             "#bd3786"
            ],
            [
             0.5555555555555556,
             "#d8576b"
            ],
            [
             0.6666666666666666,
             "#ed7953"
            ],
            [
             0.7777777777777778,
             "#fb9f3a"
            ],
            [
             0.8888888888888888,
             "#fdca26"
            ],
            [
             1,
             "#f0f921"
            ]
           ]
          },
          "colorway": [
           "#636efa",
           "#EF553B",
           "#00cc96",
           "#ab63fa",
           "#FFA15A",
           "#19d3f3",
           "#FF6692",
           "#B6E880",
           "#FF97FF",
           "#FECB52"
          ],
          "font": {
           "color": "#2a3f5f"
          },
          "geo": {
           "bgcolor": "white",
           "lakecolor": "white",
           "landcolor": "white",
           "showlakes": true,
           "showland": true,
           "subunitcolor": "#C8D4E3"
          },
          "hoverlabel": {
           "align": "left"
          },
          "hovermode": "closest",
          "mapbox": {
           "style": "light"
          },
          "paper_bgcolor": "white",
          "plot_bgcolor": "white",
          "polar": {
           "angularaxis": {
            "gridcolor": "#EBF0F8",
            "linecolor": "#EBF0F8",
            "ticks": ""
           },
           "bgcolor": "white",
           "radialaxis": {
            "gridcolor": "#EBF0F8",
            "linecolor": "#EBF0F8",
            "ticks": ""
           }
          },
          "scene": {
           "xaxis": {
            "backgroundcolor": "white",
            "gridcolor": "#DFE8F3",
            "gridwidth": 2,
            "linecolor": "#EBF0F8",
            "showbackground": true,
            "ticks": "",
            "zerolinecolor": "#EBF0F8"
           },
           "yaxis": {
            "backgroundcolor": "white",
            "gridcolor": "#DFE8F3",
            "gridwidth": 2,
            "linecolor": "#EBF0F8",
            "showbackground": true,
            "ticks": "",
            "zerolinecolor": "#EBF0F8"
           },
           "zaxis": {
            "backgroundcolor": "white",
            "gridcolor": "#DFE8F3",
            "gridwidth": 2,
            "linecolor": "#EBF0F8",
            "showbackground": true,
            "ticks": "",
            "zerolinecolor": "#EBF0F8"
           }
          },
          "shapedefaults": {
           "line": {
            "color": "#2a3f5f"
           }
          },
          "ternary": {
           "aaxis": {
            "gridcolor": "#DFE8F3",
            "linecolor": "#A2B1C6",
            "ticks": ""
           },
           "baxis": {
            "gridcolor": "#DFE8F3",
            "linecolor": "#A2B1C6",
            "ticks": ""
           },
           "bgcolor": "white",
           "caxis": {
            "gridcolor": "#DFE8F3",
            "linecolor": "#A2B1C6",
            "ticks": ""
           }
          },
          "title": {
           "x": 0.05
          },
          "xaxis": {
           "automargin": true,
           "gridcolor": "#EBF0F8",
           "linecolor": "#EBF0F8",
           "ticks": "",
           "title": {
            "standoff": 15
           },
           "zerolinecolor": "#EBF0F8",
           "zerolinewidth": 2
          },
          "yaxis": {
           "automargin": true,
           "gridcolor": "#EBF0F8",
           "linecolor": "#EBF0F8",
           "ticks": "",
           "title": {
            "standoff": 15
           },
           "zerolinecolor": "#EBF0F8",
           "zerolinewidth": 2
          }
         }
        },
        "title": {
         "text": "Sentiment propagation - count of (root tweet sentiment, quoted tweet sentiment)"
        },
        "xaxis": {
         "anchor": "y",
         "autorange": true,
         "domain": [
          0,
          1
         ],
         "range": [
          0,
          8765.263157894737
         ],
         "title": {
          "text": "sentiment_trans_count"
         },
         "type": "linear"
        },
        "yaxis": {
         "anchor": "x",
         "autorange": true,
         "domain": [
          0,
          1
         ],
         "range": [
          -0.5,
          8.5
         ],
         "title": {
          "text": "sentiment_trans"
         },
         "type": "category"
        }
       }
      },
      "image/png": "[encoded data removed]",
      "text/html": [
       "<div>                            <div id=\"4cbe10f3-2da8-4b24-849d-cfb20b17cdb0\" class=\"plotly-graph-div\" style=\"height:400px; width:100%;\"></div>            <script type=\"text/javascript\">                require([\"plotly\"], function(Plotly) {                    window.PLOTLYENV=window.PLOTLYENV || {};                                    if (document.getElementById(\"4cbe10f3-2da8-4b24-849d-cfb20b17cdb0\")) {                    Plotly.newPlot(                        \"4cbe10f3-2da8-4b24-849d-cfb20b17cdb0\",                        [{\"alignmentgroup\":\"True\",\"hovertemplate\":\"color=green<br>sentiment_trans_count=%{x}<br>sentiment_trans=%{y}<extra></extra>\",\"legendgroup\":\"green\",\"marker\":{\"color\":\"#636efa\",\"pattern\":{\"shape\":\"\"}},\"name\":\"green\",\"offsetgroup\":\"green\",\"orientation\":\"h\",\"showlegend\":true,\"textposition\":\"auto\",\"type\":\"bar\",\"x\":[3187,1654,4649],\"xaxis\":\"x\",\"y\":[\"positive_positive\",\"negative_positive\",\"neutral_positive\"],\"yaxis\":\"y\"},{\"alignmentgroup\":\"True\",\"hovertemplate\":\"color=red<br>sentiment_trans_count=%{x}<br>sentiment_trans=%{y}<extra></extra>\",\"legendgroup\":\"red\",\"marker\":{\"color\":\"#EF553B\",\"pattern\":{\"shape\":\"\"}},\"name\":\"red\",\"offsetgroup\":\"red\",\"orientation\":\"h\",\"showlegend\":true,\"textposition\":\"auto\",\"type\":\"bar\",\"x\":[2444,4933,8327],\"xaxis\":\"x\",\"y\":[\"positive_negative\",\"negative_negative\",\"neutral_negative\"],\"yaxis\":\"y\"},{\"alignmentgroup\":\"True\",\"hovertemplate\":\"color=#FFFF00<br>sentiment_trans_count=%{x}<br>sentiment_trans=%{y}<extra></extra>\",\"legendgroup\":\"#FFFF00\",\"marker\":{\"color\":\"#00cc96\",\"pattern\":{\"shape\":\"\"}},\"name\":\"#FFFF00\",\"offsetgroup\":\"#FFFF00\",\"orientation\":\"h\",\"showlegend\":true,\"textposition\":\"auto\",\"type\":\"bar\",\"x\":[3341,2863,8009],\"xaxis\":\"x\",\"y\":[\"positive_neutral\",\"negative_neutral\",\"neutral_neutral\"],\"yaxis\":\"y\"}],                        {\"barmode\":\"relative\",\"height\":400,\"legend\":{\"title\":{\"text\":\"color\"},\"tracegroupgap\":0},\"margin\":{\"t\":60},\"showlegend\":false,\"template\":{\"data\":{\"bar\":[{\"error_x\":{\"color\":\"#2a3f5f\"},\"error_y\":{\"color\":\"#2a3f5f\"},\"marker\":{\"line\":{\"color\":\"white\",\"width\":0.5},\"pattern\":{\"fillmode\":\"overlay\",\"size\":10,\"solidity\":0.2}},\"type\":\"bar\"}],\"barpolar\":[{\"marker\":{\"line\":{\"color\":\"white\",\"width\":0.5},\"pattern\":{\"fillmode\":\"overlay\",\"size\":10,\"solidity\":0.2}},\"type\":\"barpolar\"}],\"carpet\":[{\"aaxis\":{\"endlinecolor\":\"#2a3f5f\",\"gridcolor\":\"#C8D4E3\",\"linecolor\":\"#C8D4E3\",\"minorgridcolor\":\"#C8D4E3\",\"startlinecolor\":\"#2a3f5f\"},\"baxis\":{\"endlinecolor\":\"#2a3f5f\",\"gridcolor\":\"#C8D4E3\",\"linecolor\":\"#C8D4E3\",\"minorgridcolor\":\"#C8D4E3\",\"startlinecolor\":\"#2a3f5f\"},\"type\":\"carpet\"}],\"choropleth\":[{\"colorbar\":{\"outlinewidth\":0,\"ticks\":\"\"},\"type\":\"choropleth\"}],\"contour\":[{\"colorbar\":{\"outlinewidth\":0,\"ticks\":\"\"},\"colorscale\":[[0.0,\"#0d0887\"],[0.1111111111111111,\"#46039f\"],[0.2222222222222222,\"#7201a8\"],[0.3333333333333333,\"#9c179e\"],[0.4444444444444444,\"#bd3786\"],[0.5555555555555556,\"#d8576b\"],[0.6666666666666666,\"#ed7953\"],[0.7777777777777778,\"#fb9f3a\"],[0.8888888888888888,\"#fdca26\"],[1.0,\"#f0f921\"]],\"type\":\"contour\"}],\"contourcarpet\":[{\"colorbar\":{\"outlinewidth\":0,\"ticks\":\"\"},\"type\":\"contourcarpet\"}],\"heatmap\":[{\"colorbar\":{\"outlinewidth\":0,\"ticks\":\"\"},\"colorscale\":[[0.0,\"#0d0887\"],[0.1111111111111111,\"#46039f\"],[0.2222222222222222,\"#7201a8\"],[0.3333333333333333,\"#9c179e\"],[0.4444444444444444,\"#bd3786\"],[0.5555555555555556,\"#d8576b\"],[0.6666666666666666,\"#ed7953\"],[0.7777777777777778,\"#fb9f3a\"],[0.8888888888888888,\"#fdca26\"],[1.0,\"#f0f921\"]],\"type\":\"heatmap\"}],\"heatmapgl\":[{\"colorbar\":{\"outlinewidth\":0,\"ticks\":\"\"},\"colorscale\":[[0.0,\"#0d0887\"],[0.1111111111111111,\"#46039f\"],[0.2222222222222222,\"#7201a8\"],[0.3333333333333333,\"#9c179e\"],[0.4444444444444444,\"#bd3786\"],[0.5555555555555556,\"#d8576b\"],[0.6666666666666666,\"#ed7953\"],[0.7777777777777778,\"#fb9f3a\"],[0.8888888888888888,\"#fdca26\"],[1.0,\"#f0f921\"]],\"type\":\"heatmapgl\"}],\"histogram\":[{\"marker\":{\"pattern\":{\"fillmode\":\"overlay\",\"size\":10,\"solidity\":0.2}},\"type\":\"histogram\"}],\"histogram2d\":[{\"colorbar\":{\"outlinewidth\":0,\"ticks\":\"\"},\"colorscale\":[[0.0,\"#0d0887\"],[0.1111111111111111,\"#46039f\"],[0.2222222222222222,\"#7201a8\"],[0.3333333333333333,\"#9c179e\"],[0.4444444444444444,\"#bd3786\"],[0.5555555555555556,\"#d8576b\"],[0.6666666666666666,\"#ed7953\"],[0.7777777777777778,\"#fb9f3a\"],[0.8888888888888888,\"#fdca26\"],[1.0,\"#f0f921\"]],\"type\":\"histogram2d\"}],\"histogram2dcontour\":[{\"colorbar\":{\"outlinewidth\":0,\"ticks\":\"\"},\"colorscale\":[[0.0,\"#0d0887\"],[0.1111111111111111,\"#46039f\"],[0.2222222222222222,\"#7201a8\"],[0.3333333333333333,\"#9c179e\"],[0.4444444444444444,\"#bd3786\"],[0.5555555555555556,\"#d8576b\"],[0.6666666666666666,\"#ed7953\"],[0.7777777777777778,\"#fb9f3a\"],[0.8888888888888888,\"#fdca26\"],[1.0,\"#f0f921\"]],\"type\":\"histogram2dcontour\"}],\"mesh3d\":[{\"colorbar\":{\"outlinewidth\":0,\"ticks\":\"\"},\"type\":\"mesh3d\"}],\"parcoords\":[{\"line\":{\"colorbar\":{\"outlinewidth\":0,\"ticks\":\"\"}},\"type\":\"parcoords\"}],\"pie\":[{\"automargin\":true,\"type\":\"pie\"}],\"scatter\":[{\"marker\":{\"colorbar\":{\"outlinewidth\":0,\"ticks\":\"\"}},\"type\":\"scatter\"}],\"scatter3d\":[{\"line\":{\"colorbar\":{\"outlinewidth\":0,\"ticks\":\"\"}},\"marker\":{\"colorbar\":{\"outlinewidth\":0,\"ticks\":\"\"}},\"type\":\"scatter3d\"}],\"scattercarpet\":[{\"marker\":{\"colorbar\":{\"outlinewidth\":0,\"ticks\":\"\"}},\"type\":\"scattercarpet\"}],\"scattergeo\":[{\"marker\":{\"colorbar\":{\"outlinewidth\":0,\"ticks\":\"\"}},\"type\":\"scattergeo\"}],\"scattergl\":[{\"marker\":{\"colorbar\":{\"outlinewidth\":0,\"ticks\":\"\"}},\"type\":\"scattergl\"}],\"scattermapbox\":[{\"marker\":{\"colorbar\":{\"outlinewidth\":0,\"ticks\":\"\"}},\"type\":\"scattermapbox\"}],\"scatterpolar\":[{\"marker\":{\"colorbar\":{\"outlinewidth\":0,\"ticks\":\"\"}},\"type\":\"scatterpolar\"}],\"scatterpolargl\":[{\"marker\":{\"colorbar\":{\"outlinewidth\":0,\"ticks\":\"\"}},\"type\":\"scatterpolargl\"}],\"scatterternary\":[{\"marker\":{\"colorbar\":{\"outlinewidth\":0,\"ticks\":\"\"}},\"type\":\"scatterternary\"}],\"surface\":[{\"colorbar\":{\"outlinewidth\":0,\"ticks\":\"\"},\"colorscale\":[[0.0,\"#0d0887\"],[0.1111111111111111,\"#46039f\"],[0.2222222222222222,\"#7201a8\"],[0.3333333333333333,\"#9c179e\"],[0.4444444444444444,\"#bd3786\"],[0.5555555555555556,\"#d8576b\"],[0.6666666666666666,\"#ed7953\"],[0.7777777777777778,\"#fb9f3a\"],[0.8888888888888888,\"#fdca26\"],[1.0,\"#f0f921\"]],\"type\":\"surface\"}],\"table\":[{\"cells\":{\"fill\":{\"color\":\"#EBF0F8\"},\"line\":{\"color\":\"white\"}},\"header\":{\"fill\":{\"color\":\"#C8D4E3\"},\"line\":{\"color\":\"white\"}},\"type\":\"table\"}]},\"layout\":{\"annotationdefaults\":{\"arrowcolor\":\"#2a3f5f\",\"arrowhead\":0,\"arrowwidth\":1},\"autotypenumbers\":\"strict\",\"coloraxis\":{\"colorbar\":{\"outlinewidth\":0,\"ticks\":\"\"}},\"colorscale\":{\"diverging\":[[0,\"#8e0152\"],[0.1,\"#c51b7d\"],[0.2,\"#de77ae\"],[0.3,\"#f1b6da\"],[0.4,\"#fde0ef\"],[0.5,\"#f7f7f7\"],[0.6,\"#e6f5d0\"],[0.7,\"#b8e186\"],[0.8,\"#7fbc41\"],[0.9,\"#4d9221\"],[1,\"#276419\"]],\"sequential\":[[0.0,\"#0d0887\"],[0.1111111111111111,\"#46039f\"],[0.2222222222222222,\"#7201a8\"],[0.3333333333333333,\"#9c179e\"],[0.4444444444444444,\"#bd3786\"],[0.5555555555555556,\"#d8576b\"],[0.6666666666666666,\"#ed7953\"],[0.7777777777777778,\"#fb9f3a\"],[0.8888888888888888,\"#fdca26\"],[1.0,\"#f0f921\"]],\"sequentialminus\":[[0.0,\"#0d0887\"],[0.1111111111111111,\"#46039f\"],[0.2222222222222222,\"#7201a8\"],[0.3333333333333333,\"#9c179e\"],[0.4444444444444444,\"#bd3786\"],[0.5555555555555556,\"#d8576b\"],[0.6666666666666666,\"#ed7953\"],[0.7777777777777778,\"#fb9f3a\"],[0.8888888888888888,\"#fdca26\"],[1.0,\"#f0f921\"]]},\"colorway\":[\"#636efa\",\"#EF553B\",\"#00cc96\",\"#ab63fa\",\"#FFA15A\",\"#19d3f3\",\"#FF6692\",\"#B6E880\",\"#FF97FF\",\"#FECB52\"],\"font\":{\"color\":\"#2a3f5f\"},\"geo\":{\"bgcolor\":\"white\",\"lakecolor\":\"white\",\"landcolor\":\"white\",\"showlakes\":true,\"showland\":true,\"subunitcolor\":\"#C8D4E3\"},\"hoverlabel\":{\"align\":\"left\"},\"hovermode\":\"closest\",\"mapbox\":{\"style\":\"light\"},\"paper_bgcolor\":\"white\",\"plot_bgcolor\":\"white\",\"polar\":{\"angularaxis\":{\"gridcolor\":\"#EBF0F8\",\"linecolor\":\"#EBF0F8\",\"ticks\":\"\"},\"bgcolor\":\"white\",\"radialaxis\":{\"gridcolor\":\"#EBF0F8\",\"linecolor\":\"#EBF0F8\",\"ticks\":\"\"}},\"scene\":{\"xaxis\":{\"backgroundcolor\":\"white\",\"gridcolor\":\"#DFE8F3\",\"gridwidth\":2,\"linecolor\":\"#EBF0F8\",\"showbackground\":true,\"ticks\":\"\",\"zerolinecolor\":\"#EBF0F8\"},\"yaxis\":{\"backgroundcolor\":\"white\",\"gridcolor\":\"#DFE8F3\",\"gridwidth\":2,\"linecolor\":\"#EBF0F8\",\"showbackground\":true,\"ticks\":\"\",\"zerolinecolor\":\"#EBF0F8\"},\"zaxis\":{\"backgroundcolor\":\"white\",\"gridcolor\":\"#DFE8F3\",\"gridwidth\":2,\"linecolor\":\"#EBF0F8\",\"showbackground\":true,\"ticks\":\"\",\"zerolinecolor\":\"#EBF0F8\"}},\"shapedefaults\":{\"line\":{\"color\":\"#2a3f5f\"}},\"ternary\":{\"aaxis\":{\"gridcolor\":\"#DFE8F3\",\"linecolor\":\"#A2B1C6\",\"ticks\":\"\"},\"baxis\":{\"gridcolor\":\"#DFE8F3\",\"linecolor\":\"#A2B1C6\",\"ticks\":\"\"},\"bgcolor\":\"white\",\"caxis\":{\"gridcolor\":\"#DFE8F3\",\"linecolor\":\"#A2B1C6\",\"ticks\":\"\"}},\"title\":{\"x\":0.05},\"xaxis\":{\"automargin\":true,\"gridcolor\":\"#EBF0F8\",\"linecolor\":\"#EBF0F8\",\"ticks\":\"\",\"title\":{\"standoff\":15},\"zerolinecolor\":\"#EBF0F8\",\"zerolinewidth\":2},\"yaxis\":{\"automargin\":true,\"gridcolor\":\"#EBF0F8\",\"linecolor\":\"#EBF0F8\",\"ticks\":\"\",\"title\":{\"standoff\":15},\"zerolinecolor\":\"#EBF0F8\",\"zerolinewidth\":2}}},\"title\":{\"text\":\"Sentiment propagation - count of (root tweet sentiment, quoted tweet sentiment)\"},\"xaxis\":{\"anchor\":\"y\",\"domain\":[0.0,1.0],\"title\":{\"text\":\"sentiment_trans_count\"}},\"yaxis\":{\"anchor\":\"x\",\"domain\":[0.0,1.0],\"title\":{\"text\":\"sentiment_trans\"}}},                        {\"responsive\": true}                    ).then(function(){\n",
       "                            \n",
       "var gd = document.getElementById('4cbe10f3-2da8-4b24-849d-cfb20b17cdb0');\n",
       "var x = new MutationObserver(function (mutations, observer) {{\n",
       "        var display = window.getComputedStyle(gd).display;\n",
       "        if (!display || display === 'none') {{\n",
       "            console.log([gd, 'removed!']);\n",
       "            Plotly.purge(gd);\n",
       "            observer.disconnect();\n",
       "        }}\n",
       "}});\n",
       "\n",
       "// Listen for the removal of the full notebook cells\n",
       "var notebookContainer = gd.closest('#notebook-container');\n",
       "if (notebookContainer) {{\n",
       "    x.observe(notebookContainer, {childList: true});\n",
       "}}\n",
       "\n",
       "// Listen for the clearing of the current output cell\n",
       "var outputEl = gd.closest('.output');\n",
       "if (outputEl) {{\n",
       "    x.observe(outputEl, {childList: true});\n",
       "}}\n",
       "\n",
       "                        })                };                });            </script>        </div>"
      ]
     },
     "metadata": {},
     "output_type": "display_data"
    }
   ],
   "source": [
    "sc = []\n",
    "sc_count = []\n",
    "colors = []\n",
    "for s1, s2 in sentiments_comb:\n",
    "    sc.append('{}_{}'.format(s1, s2))\n",
    "    if s2 == 'negative': colors.append('red') \n",
    "    elif s2 == 'neutral': colors.append('#FFFF00')\n",
    "    else: colors.append('green')\n",
    "    sc_count.append( len(sg_tweets[(sg_tweets['tweet_sentiment'] == s1) &  (sg_tweets['quoted_tweet_sentiment'] == s2)]))\n",
    "    \n",
    "sentiment_count = {\n",
    "    'sentiment_trans': sc,\n",
    "    'sentiment_trans_count': sc_count\n",
    "}\n",
    "sentiment_count\n",
    "\n",
    "fig = px.bar(sentiment_count, x=\"sentiment_trans_count\", y=\"sentiment_trans\", template='plotly_white', color=colors, \n",
    "             height=400)\n",
    "fig.update_layout(showlegend=False, title=\"Sentiment propagation - count of (root tweet sentiment, quoted tweet sentiment)\")\n",
    "fig.show()"
   ]
  },
  {
   "cell_type": "code",
   "execution_count": 269,
   "id": "5f6e087c-71c2-4cfe-b1a8-42c2b93fc92d",
   "metadata": {},
   "outputs": [
    {
     "data": {
      "text/html": [
       "<div>\n",
       "<style scoped>\n",
       "    .dataframe tbody tr th:only-of-type {\n",
       "        vertical-align: middle;\n",
       "    }\n",
       "\n",
       "    .dataframe tbody tr th {\n",
       "        vertical-align: top;\n",
       "    }\n",
       "\n",
       "    .dataframe thead th {\n",
       "        text-align: right;\n",
       "    }\n",
       "</style>\n",
       "<table border=\"1\" class=\"dataframe\">\n",
       "  <thead>\n",
       "    <tr style=\"text-align: right;\">\n",
       "      <th></th>\n",
       "      <th>tweet_text</th>\n",
       "      <th>quoted_tweet_text</th>\n",
       "    </tr>\n",
       "  </thead>\n",
       "  <tbody>\n",
       "    <tr>\n",
       "      <th>29</th>\n",
       "      <td>RT @h3yril: shopping malls are so crowded and ...</td>\n",
       "      <td>URA: Safe distancing officers can enter &amp; insp...</td>\n",
       "    </tr>\n",
       "    <tr>\n",
       "      <th>113</th>\n",
       "      <td>RT @h3yril: shopping malls are so crowded and ...</td>\n",
       "      <td>URA: Safe distancing officers can enter &amp; insp...</td>\n",
       "    </tr>\n",
       "    <tr>\n",
       "      <th>303</th>\n",
       "      <td>#WhatIsHappeningInMyanmar\\n#MyanmarCovidSOS \\n...</td>\n",
       "      <td>“If the elected civilian government had admini...</td>\n",
       "    </tr>\n",
       "    <tr>\n",
       "      <th>306</th>\n",
       "      <td>#WhatIsHappeningInMyanmar\\n#MyanmarCovidSOS \\n...</td>\n",
       "      <td>“If the elected civilian government had admini...</td>\n",
       "    </tr>\n",
       "    <tr>\n",
       "      <th>315</th>\n",
       "      <td>#WhatIsHappeningInMyanmar\\n#MyanmarCovidSOS \\n...</td>\n",
       "      <td>“If the elected civilian government had admini...</td>\n",
       "    </tr>\n",
       "    <tr>\n",
       "      <th>...</th>\n",
       "      <td>...</td>\n",
       "      <td>...</td>\n",
       "    </tr>\n",
       "    <tr>\n",
       "      <th>427908</th>\n",
       "      <td>RT @AAhronheim: Seriously??? Are you honestly ...</td>\n",
       "      <td>When you yearn for freedom, sometimes a spoon ...</td>\n",
       "    </tr>\n",
       "    <tr>\n",
       "      <th>428290</th>\n",
       "      <td>i can think of several other reasons why being...</td>\n",
       "      <td>WATCH:\\nUS military walk-outs occurred after B...</td>\n",
       "    </tr>\n",
       "    <tr>\n",
       "      <th>428432</th>\n",
       "      <td>RT @KirralieS: The slumber is very deep. I dou...</td>\n",
       "      <td>What is even going on in Australia?\\n\\nParliam...</td>\n",
       "    </tr>\n",
       "    <tr>\n",
       "      <th>429173</th>\n",
       "      <td>RT @indulekshmi16: The fact that they weren’t ...</td>\n",
       "      <td>Up to 500 vaccinated migrant workers a week ca...</td>\n",
       "    </tr>\n",
       "    <tr>\n",
       "      <th>429637</th>\n",
       "      <td>Can somebody think how to make MALAYSIA strong...</td>\n",
       "      <td>Bill to limit propagation of non-Muslim faiths...</td>\n",
       "    </tr>\n",
       "  </tbody>\n",
       "</table>\n",
       "<p>1654 rows × 2 columns</p>\n",
       "</div>"
      ],
      "text/plain": [
       "                                               tweet_text  \\\n",
       "29      RT @h3yril: shopping malls are so crowded and ...   \n",
       "113     RT @h3yril: shopping malls are so crowded and ...   \n",
       "303     #WhatIsHappeningInMyanmar\\n#MyanmarCovidSOS \\n...   \n",
       "306     #WhatIsHappeningInMyanmar\\n#MyanmarCovidSOS \\n...   \n",
       "315     #WhatIsHappeningInMyanmar\\n#MyanmarCovidSOS \\n...   \n",
       "...                                                   ...   \n",
       "427908  RT @AAhronheim: Seriously??? Are you honestly ...   \n",
       "428290  i can think of several other reasons why being...   \n",
       "428432  RT @KirralieS: The slumber is very deep. I dou...   \n",
       "429173  RT @indulekshmi16: The fact that they weren’t ...   \n",
       "429637  Can somebody think how to make MALAYSIA strong...   \n",
       "\n",
       "                                        quoted_tweet_text  \n",
       "29      URA: Safe distancing officers can enter & insp...  \n",
       "113     URA: Safe distancing officers can enter & insp...  \n",
       "303     “If the elected civilian government had admini...  \n",
       "306     “If the elected civilian government had admini...  \n",
       "315     “If the elected civilian government had admini...  \n",
       "...                                                   ...  \n",
       "427908  When you yearn for freedom, sometimes a spoon ...  \n",
       "428290  WATCH:\\nUS military walk-outs occurred after B...  \n",
       "428432  What is even going on in Australia?\\n\\nParliam...  \n",
       "429173  Up to 500 vaccinated migrant workers a week ca...  \n",
       "429637  Bill to limit propagation of non-Muslim faiths...  \n",
       "\n",
       "[1654 rows x 2 columns]"
      ]
     },
     "execution_count": 269,
     "metadata": {},
     "output_type": "execute_result"
    }
   ],
   "source": [
    "FROM_SENTIMENT = 'negative'\n",
    "TO_SENTIMENT = 'positive'\n",
    "\n",
    "sg_tweets[(sg_tweets[\"tweet_sentiment\"] == FROM_SENTIMENT) & \\\n",
    "          (sg_tweets[\"quoted_tweet_sentiment\"] == TO_SENTIMENT)][['tweet_text', 'quoted_tweet_text']]"
   ]
  },
  {
   "cell_type": "markdown",
   "id": "6efad78d-62f8-41fd-acd1-4879d90ee858",
   "metadata": {},
   "source": [
    "### 4.2. Analysing Singapore users "
   ]
  },
  {
   "cell_type": "code",
   "execution_count": 131,
   "id": "51ee2d7c-c0b7-48f5-9545-9cd881493ae9",
   "metadata": {},
   "outputs": [
    {
     "name": "stdout",
     "output_type": "stream",
     "text": [
      "# of unique Singapore users: 25922\n",
      "# of verified Singapore users: 374\n"
     ]
    }
   ],
   "source": [
    "print( \"# of unique Singapore users:\", sg_tweets['user_id_x'].nunique())\n",
    "print( \"# of verified Singapore users:\", sg_tweets[sg_tweets['user_verified'] == True]['user_id_x'].nunique())"
   ]
  },
  {
   "cell_type": "code",
   "execution_count": 207,
   "id": "f6fef2d3-5d7f-41d2-970e-6458a98cb860",
   "metadata": {},
   "outputs": [],
   "source": [
    "# Saving data for the dashboard\n",
    "basic_data = {\n",
    "    'total_tweets': total_tweets,\n",
    "    'min_date': MIN_DATE,\n",
    "    'max_date': MAX_DATE,\n",
    "    'avg_tweets': int(avg_tweets)\n",
    "\n",
    "}\n",
    "\n",
    "with open('data/output/basics/basic.json', 'w') as fp:\n",
    "    json.dump(basic_data, fp)"
   ]
  },
  {
   "cell_type": "markdown",
   "id": "5e12eea5-b714-4656-9a3d-d6dcecafa547",
   "metadata": {},
   "source": [
    "#### Users with high number of followers"
   ]
  },
  {
   "cell_type": "code",
   "execution_count": 529,
   "id": "957380c4-8dbc-4a65-b1fc-f97f0c08eaac",
   "metadata": {},
   "outputs": [
    {
     "data": {
      "text/html": [
       "<div>\n",
       "<style scoped>\n",
       "    .dataframe tbody tr th:only-of-type {\n",
       "        vertical-align: middle;\n",
       "    }\n",
       "\n",
       "    .dataframe tbody tr th {\n",
       "        vertical-align: top;\n",
       "    }\n",
       "\n",
       "    .dataframe thead th {\n",
       "        text-align: right;\n",
       "    }\n",
       "</style>\n",
       "<table border=\"1\" class=\"dataframe\">\n",
       "  <thead>\n",
       "    <tr style=\"text-align: right;\">\n",
       "      <th></th>\n",
       "      <th>user_desc</th>\n",
       "      <th>user_verified</th>\n",
       "      <th>user_followers_count</th>\n",
       "    </tr>\n",
       "    <tr>\n",
       "      <th>user_screenname_x</th>\n",
       "      <th></th>\n",
       "      <th></th>\n",
       "      <th></th>\n",
       "    </tr>\n",
       "  </thead>\n",
       "  <tbody>\n",
       "    <tr>\n",
       "      <th>straits_times</th>\n",
       "      <td>Stay in the know with the latest news from Sin...</td>\n",
       "      <td>True</td>\n",
       "      <td>1086547</td>\n",
       "    </tr>\n",
       "    <tr>\n",
       "      <th>ChannelNewsAsia</th>\n",
       "      <td>The official space of CNA - the source of brea...</td>\n",
       "      <td>True</td>\n",
       "      <td>1053198</td>\n",
       "    </tr>\n",
       "    <tr>\n",
       "      <th>leehsienloong</th>\n",
       "      <td>Prime Minister of Singapore and leader of the ...</td>\n",
       "      <td>True</td>\n",
       "      <td>798436</td>\n",
       "    </tr>\n",
       "    <tr>\n",
       "      <th>TODAYonline</th>\n",
       "      <td>Get the latest local and international news fr...</td>\n",
       "      <td>True</td>\n",
       "      <td>692039</td>\n",
       "    </tr>\n",
       "    <tr>\n",
       "      <th>zaobaosg</th>\n",
       "      <td>http://zaobao.sg 是新加坡报业控股属下的网站。以第三只眼看大中华，客观新闻和...</td>\n",
       "      <td>False</td>\n",
       "      <td>518588</td>\n",
       "    </tr>\n",
       "    <tr>\n",
       "      <th>SoSingaporean</th>\n",
       "      <td>Follow to discover everything so unique and #s...</td>\n",
       "      <td>False</td>\n",
       "      <td>461939</td>\n",
       "    </tr>\n",
       "    <tr>\n",
       "      <th>NEAsg</th>\n",
       "      <td>Also on Facebook https://t.co/xNg9BTncsL, Inst...</td>\n",
       "      <td>True</td>\n",
       "      <td>440894</td>\n",
       "    </tr>\n",
       "    <tr>\n",
       "      <th>mrbrown</th>\n",
       "      <td>mrbrown aka LEE Kin Mun, Blogfather of Singapo...</td>\n",
       "      <td>True</td>\n",
       "      <td>400728</td>\n",
       "    </tr>\n",
       "    <tr>\n",
       "      <th>charlesyeo</th>\n",
       "      <td>If you love something use your brain; love som...</td>\n",
       "      <td>False</td>\n",
       "      <td>349669</td>\n",
       "    </tr>\n",
       "    <tr>\n",
       "      <th>duongcam0909</th>\n",
       "      <td>𝐓𝐡𝐞 𝐦𝐨𝐫𝐞 𝘆𝗼𝘂 𝐠𝐢𝐯𝐞, 𝐭𝐡𝐞 𝐦𝐨𝐫𝐞 𝘆𝗼𝘂 𝐫𝐞𝐜𝐞𝐢𝐯𝐞 .</td>\n",
       "      <td>False</td>\n",
       "      <td>334940</td>\n",
       "    </tr>\n",
       "  </tbody>\n",
       "</table>\n",
       "</div>"
      ],
      "text/plain": [
       "                                                           user_desc  \\\n",
       "user_screenname_x                                                      \n",
       "straits_times      Stay in the know with the latest news from Sin...   \n",
       "ChannelNewsAsia    The official space of CNA - the source of brea...   \n",
       "leehsienloong      Prime Minister of Singapore and leader of the ...   \n",
       "TODAYonline        Get the latest local and international news fr...   \n",
       "zaobaosg           http://zaobao.sg 是新加坡报业控股属下的网站。以第三只眼看大中华，客观新闻和...   \n",
       "SoSingaporean      Follow to discover everything so unique and #s...   \n",
       "NEAsg              Also on Facebook https://t.co/xNg9BTncsL, Inst...   \n",
       "mrbrown            mrbrown aka LEE Kin Mun, Blogfather of Singapo...   \n",
       "charlesyeo         If you love something use your brain; love som...   \n",
       "duongcam0909               𝐓𝐡𝐞 𝐦𝐨𝐫𝐞 𝘆𝗼𝘂 𝐠𝐢𝐯𝐞, 𝐭𝐡𝐞 𝐦𝐨𝐫𝐞 𝘆𝗼𝘂 𝐫𝐞𝐜𝐞𝐢𝐯𝐞 .   \n",
       "\n",
       "                  user_verified  user_followers_count  \n",
       "user_screenname_x                                      \n",
       "straits_times              True               1086547  \n",
       "ChannelNewsAsia            True               1053198  \n",
       "leehsienloong              True                798436  \n",
       "TODAYonline                True                692039  \n",
       "zaobaosg                  False                518588  \n",
       "SoSingaporean             False                461939  \n",
       "NEAsg                      True                440894  \n",
       "mrbrown                    True                400728  \n",
       "charlesyeo                False                349669  \n",
       "duongcam0909              False                334940  "
      ]
     },
     "execution_count": 529,
     "metadata": {},
     "output_type": "execute_result"
    }
   ],
   "source": [
    "MIN_FOLLOWERS = 10000\n",
    "sg_tweets['user_followers_count'] = sg_tweets['user_followers_count'].astype(int)\n",
    "sg_users_high_followers = sg_tweets[sg_tweets['user_followers_count'] >= MIN_FOLLOWERS].groupby('user_screenname_x') \\\n",
    "[['user_desc', 'user_verified', 'user_followers_count']].nth(0).sort_values(by='user_followers_count', ascending=False)\n",
    "sg_users_high_followers.head(10)"
   ]
  },
  {
   "cell_type": "code",
   "execution_count": null,
   "id": "099a4c2f-99da-41cb-9d37-b34d7e316af7",
   "metadata": {},
   "outputs": [],
   "source": [
    "print(\"Count of users >= {} followers\". format(MIN_FOLLOWERS, len(sg_users_high_followers[sg_users_high_followers['user_verified'] == True])))\n",
    "print(\"Count of verified user with {} followers is {}\". format(MIN_FOLLOWERS, len(sg_users_high_followers[sg_users_high_followers['user_verified'] == True])))\n",
    "print(\"Count of unverified user with {} followers is {}\". format(MIN_FOLLOWERS, len(sg_users_high_followers[sg_users_high_followers['user_verified'] == False])))"
   ]
  },
  {
   "cell_type": "markdown",
   "id": "f65d8a94-b6a1-4387-a5f0-4e331c704be6",
   "metadata": {},
   "source": [
    "### 4.3. Potentially sensitive tweets (PST) with links - marked by twitter"
   ]
  },
  {
   "cell_type": "code",
   "execution_count": 221,
   "id": "df79e3be-341b-4007-9822-c884b5408a39",
   "metadata": {},
   "outputs": [
    {
     "name": "stdout",
     "output_type": "stream",
     "text": [
      "Total possibily sensitive tweets 9212\n",
      "% possibily sensitive tweets 5.077636242372797\n"
     ]
    }
   ],
   "source": [
    "sg_tweets_pst = sg_tweets[sg_tweets['tweet_possibly_sensitive'] == True]\n",
    "\n",
    "print(\"Total possibily sensitive tweets {}\".format(len(sg_tweets_pst)))\n",
    "print(\"% possibily sensitive tweets {}\".format(len(sg_tweets_pst)/len(sg_tweets)*100))"
   ]
  },
  {
   "cell_type": "code",
   "execution_count": 222,
   "id": "75ed4eca-37c1-4de9-afde-99b1a1bb859d",
   "metadata": {},
   "outputs": [
    {
     "name": "stdout",
     "output_type": "stream",
     "text": [
      "Average number of Potentially sensitive tweets:  204.7111111111111\n"
     ]
    }
   ],
   "source": [
    "PST_THRESHOLD = 400 # random high threshold to visualize unusal number of PSTs\n",
    "c_sg_tweets_pst = sg_tweets_pst.value_counts(subset=['tweet_date']).reset_index(name='count') \\\n",
    "                                                .sort_values(['tweet_date'], ascending=False)\n",
    "\n",
    "print(\"Average number of Potentially sensitive tweets: \", sum(c_sg_tweets_pst['count'])/len(c_sg_tweets_pst))"
   ]
  },
  {
   "cell_type": "code",
   "execution_count": 223,
   "id": "b826b7d1-3259-4e4f-81c9-edd4e0d363b4",
   "metadata": {},
   "outputs": [
    {
     "data": {
      "application/vnd.plotly.v1+json": {
       "config": {
        "plotlyServerURL": "https://plot.ly"
       },
       "data": [
        {
         "alignmentgroup": "True",
         "hovertemplate": "color=green<br>tweet_date=%{x}<br>count=%{y}<extra></extra>",
         "legendgroup": "green",
         "marker": {
          "color": "#636efa",
          "pattern": {
           "shape": ""
          }
         },
         "name": "green",
         "offsetgroup": "green",
         "orientation": "v",
         "showlegend": true,
         "textposition": "auto",
         "type": "bar",
         "x": [
          "2021-09-23",
          "2021-09-22",
          "2021-09-21",
          "2021-09-19",
          "2021-09-18",
          "2021-09-16",
          "2021-09-15",
          "2021-09-14",
          "2021-09-13",
          "2021-09-12",
          "2021-09-11",
          "2021-09-10",
          "2021-09-08",
          "2021-09-07",
          "2021-09-04",
          "2021-09-03",
          "2021-09-02",
          "2021-09-01",
          "2021-08-31",
          "2021-08-30",
          "2021-08-28",
          "2021-08-26",
          "2021-08-25",
          "2021-08-24",
          "2021-08-22",
          "2021-08-21",
          "2021-08-20",
          "2021-08-18",
          "2021-08-17",
          "2021-08-16",
          "2021-08-15",
          "2021-08-14",
          "2021-08-12",
          "2021-08-11",
          "2021-08-09",
          "2021-08-08",
          "2021-08-07",
          "2021-08-05",
          "2021-08-04"
         ],
         "xaxis": "x",
         "y": [
          15,
          114,
          116,
          200,
          199,
          222,
          12,
          91,
          1,
          108,
          32,
          169,
          7,
          176,
          55,
          17,
          36,
          54,
          382,
          162,
          270,
          340,
          99,
          87,
          364,
          246,
          267,
          282,
          281,
          139,
          314,
          337,
          239,
          104,
          211,
          122,
          90,
          205,
          5
         ],
         "yaxis": "y"
        },
        {
         "alignmentgroup": "True",
         "hovertemplate": "color=red<br>tweet_date=%{x}<br>count=%{y}<extra></extra>",
         "legendgroup": "red",
         "marker": {
          "color": "#EF553B",
          "pattern": {
           "shape": ""
          }
         },
         "name": "red",
         "offsetgroup": "red",
         "orientation": "v",
         "showlegend": true,
         "textposition": "auto",
         "type": "bar",
         "x": [
          "2021-08-27",
          "2021-08-23",
          "2021-08-19",
          "2021-08-13",
          "2021-08-10",
          "2021-08-06"
         ],
         "xaxis": "x",
         "y": [
          459,
          514,
          405,
          569,
          584,
          511
         ],
         "yaxis": "y"
        }
       ],
       "layout": {
        "autosize": true,
        "barmode": "relative",
        "legend": {
         "title": {
          "text": "color"
         },
         "tracegroupgap": 0
        },
        "margin": {
         "t": 60
        },
        "showlegend": false,
        "template": {
         "data": {
          "bar": [
           {
            "error_x": {
             "color": "#2a3f5f"
            },
            "error_y": {
             "color": "#2a3f5f"
            },
            "marker": {
             "line": {
              "color": "white",
              "width": 0.5
             },
             "pattern": {
              "fillmode": "overlay",
              "size": 10,
              "solidity": 0.2
             }
            },
            "type": "bar"
           }
          ],
          "barpolar": [
           {
            "marker": {
             "line": {
              "color": "white",
              "width": 0.5
             },
             "pattern": {
              "fillmode": "overlay",
              "size": 10,
              "solidity": 0.2
             }
            },
            "type": "barpolar"
           }
          ],
          "carpet": [
           {
            "aaxis": {
             "endlinecolor": "#2a3f5f",
             "gridcolor": "#C8D4E3",
             "linecolor": "#C8D4E3",
             "minorgridcolor": "#C8D4E3",
             "startlinecolor": "#2a3f5f"
            },
            "baxis": {
             "endlinecolor": "#2a3f5f",
             "gridcolor": "#C8D4E3",
             "linecolor": "#C8D4E3",
             "minorgridcolor": "#C8D4E3",
             "startlinecolor": "#2a3f5f"
            },
            "type": "carpet"
           }
          ],
          "choropleth": [
           {
            "colorbar": {
             "outlinewidth": 0,
             "ticks": ""
            },
            "type": "choropleth"
           }
          ],
          "contour": [
           {
            "colorbar": {
             "outlinewidth": 0,
             "ticks": ""
            },
            "colorscale": [
             [
              0,
              "#0d0887"
             ],
             [
              0.1111111111111111,
              "#46039f"
             ],
             [
              0.2222222222222222,
              "#7201a8"
             ],
             [
              0.3333333333333333,
              "#9c179e"
             ],
             [
              0.4444444444444444,
              "#bd3786"
             ],
             [
              0.5555555555555556,
              "#d8576b"
             ],
             [
              0.6666666666666666,
              "#ed7953"
             ],
             [
              0.7777777777777778,
              "#fb9f3a"
             ],
             [
              0.8888888888888888,
              "#fdca26"
             ],
             [
              1,
              "#f0f921"
             ]
            ],
            "type": "contour"
           }
          ],
          "contourcarpet": [
           {
            "colorbar": {
             "outlinewidth": 0,
             "ticks": ""
            },
            "type": "contourcarpet"
           }
          ],
          "heatmap": [
           {
            "colorbar": {
             "outlinewidth": 0,
             "ticks": ""
            },
            "colorscale": [
             [
              0,
              "#0d0887"
             ],
             [
              0.1111111111111111,
              "#46039f"
             ],
             [
              0.2222222222222222,
              "#7201a8"
             ],
             [
              0.3333333333333333,
              "#9c179e"
             ],
             [
              0.4444444444444444,
              "#bd3786"
             ],
             [
              0.5555555555555556,
              "#d8576b"
             ],
             [
              0.6666666666666666,
              "#ed7953"
             ],
             [
              0.7777777777777778,
              "#fb9f3a"
             ],
             [
              0.8888888888888888,
              "#fdca26"
             ],
             [
              1,
              "#f0f921"
             ]
            ],
            "type": "heatmap"
           }
          ],
          "heatmapgl": [
           {
            "colorbar": {
             "outlinewidth": 0,
             "ticks": ""
            },
            "colorscale": [
             [
              0,
              "#0d0887"
             ],
             [
              0.1111111111111111,
              "#46039f"
             ],
             [
              0.2222222222222222,
              "#7201a8"
             ],
             [
              0.3333333333333333,
              "#9c179e"
             ],
             [
              0.4444444444444444,
              "#bd3786"
             ],
             [
              0.5555555555555556,
              "#d8576b"
             ],
             [
              0.6666666666666666,
              "#ed7953"
             ],
             [
              0.7777777777777778,
              "#fb9f3a"
             ],
             [
              0.8888888888888888,
              "#fdca26"
             ],
             [
              1,
              "#f0f921"
             ]
            ],
            "type": "heatmapgl"
           }
          ],
          "histogram": [
           {
            "marker": {
             "pattern": {
              "fillmode": "overlay",
              "size": 10,
              "solidity": 0.2
             }
            },
            "type": "histogram"
           }
          ],
          "histogram2d": [
           {
            "colorbar": {
             "outlinewidth": 0,
             "ticks": ""
            },
            "colorscale": [
             [
              0,
              "#0d0887"
             ],
             [
              0.1111111111111111,
              "#46039f"
             ],
             [
              0.2222222222222222,
              "#7201a8"
             ],
             [
              0.3333333333333333,
              "#9c179e"
             ],
             [
              0.4444444444444444,
              "#bd3786"
             ],
             [
              0.5555555555555556,
              "#d8576b"
             ],
             [
              0.6666666666666666,
              "#ed7953"
             ],
             [
              0.7777777777777778,
              "#fb9f3a"
             ],
             [
              0.8888888888888888,
              "#fdca26"
             ],
             [
              1,
              "#f0f921"
             ]
            ],
            "type": "histogram2d"
           }
          ],
          "histogram2dcontour": [
           {
            "colorbar": {
             "outlinewidth": 0,
             "ticks": ""
            },
            "colorscale": [
             [
              0,
              "#0d0887"
             ],
             [
              0.1111111111111111,
              "#46039f"
             ],
             [
              0.2222222222222222,
              "#7201a8"
             ],
             [
              0.3333333333333333,
              "#9c179e"
             ],
             [
              0.4444444444444444,
              "#bd3786"
             ],
             [
              0.5555555555555556,
              "#d8576b"
             ],
             [
              0.6666666666666666,
              "#ed7953"
             ],
             [
              0.7777777777777778,
              "#fb9f3a"
             ],
             [
              0.8888888888888888,
              "#fdca26"
             ],
             [
              1,
              "#f0f921"
             ]
            ],
            "type": "histogram2dcontour"
           }
          ],
          "mesh3d": [
           {
            "colorbar": {
             "outlinewidth": 0,
             "ticks": ""
            },
            "type": "mesh3d"
           }
          ],
          "parcoords": [
           {
            "line": {
             "colorbar": {
              "outlinewidth": 0,
              "ticks": ""
             }
            },
            "type": "parcoords"
           }
          ],
          "pie": [
           {
            "automargin": true,
            "type": "pie"
           }
          ],
          "scatter": [
           {
            "marker": {
             "colorbar": {
              "outlinewidth": 0,
              "ticks": ""
             }
            },
            "type": "scatter"
           }
          ],
          "scatter3d": [
           {
            "line": {
             "colorbar": {
              "outlinewidth": 0,
              "ticks": ""
             }
            },
            "marker": {
             "colorbar": {
              "outlinewidth": 0,
              "ticks": ""
             }
            },
            "type": "scatter3d"
           }
          ],
          "scattercarpet": [
           {
            "marker": {
             "colorbar": {
              "outlinewidth": 0,
              "ticks": ""
             }
            },
            "type": "scattercarpet"
           }
          ],
          "scattergeo": [
           {
            "marker": {
             "colorbar": {
              "outlinewidth": 0,
              "ticks": ""
             }
            },
            "type": "scattergeo"
           }
          ],
          "scattergl": [
           {
            "marker": {
             "colorbar": {
              "outlinewidth": 0,
              "ticks": ""
             }
            },
            "type": "scattergl"
           }
          ],
          "scattermapbox": [
           {
            "marker": {
             "colorbar": {
              "outlinewidth": 0,
              "ticks": ""
             }
            },
            "type": "scattermapbox"
           }
          ],
          "scatterpolar": [
           {
            "marker": {
             "colorbar": {
              "outlinewidth": 0,
              "ticks": ""
             }
            },
            "type": "scatterpolar"
           }
          ],
          "scatterpolargl": [
           {
            "marker": {
             "colorbar": {
              "outlinewidth": 0,
              "ticks": ""
             }
            },
            "type": "scatterpolargl"
           }
          ],
          "scatterternary": [
           {
            "marker": {
             "colorbar": {
              "outlinewidth": 0,
              "ticks": ""
             }
            },
            "type": "scatterternary"
           }
          ],
          "surface": [
           {
            "colorbar": {
             "outlinewidth": 0,
             "ticks": ""
            },
            "colorscale": [
             [
              0,
              "#0d0887"
             ],
             [
              0.1111111111111111,
              "#46039f"
             ],
             [
              0.2222222222222222,
              "#7201a8"
             ],
             [
              0.3333333333333333,
              "#9c179e"
             ],
             [
              0.4444444444444444,
              "#bd3786"
             ],
             [
              0.5555555555555556,
              "#d8576b"
             ],
             [
              0.6666666666666666,
              "#ed7953"
             ],
             [
              0.7777777777777778,
              "#fb9f3a"
             ],
             [
              0.8888888888888888,
              "#fdca26"
             ],
             [
              1,
              "#f0f921"
             ]
            ],
            "type": "surface"
           }
          ],
          "table": [
           {
            "cells": {
             "fill": {
              "color": "#EBF0F8"
             },
             "line": {
              "color": "white"
             }
            },
            "header": {
             "fill": {
              "color": "#C8D4E3"
             },
             "line": {
              "color": "white"
             }
            },
            "type": "table"
           }
          ]
         },
         "layout": {
          "annotationdefaults": {
           "arrowcolor": "#2a3f5f",
           "arrowhead": 0,
           "arrowwidth": 1
          },
          "autotypenumbers": "strict",
          "coloraxis": {
           "colorbar": {
            "outlinewidth": 0,
            "ticks": ""
           }
          },
          "colorscale": {
           "diverging": [
            [
             0,
             "#8e0152"
            ],
            [
             0.1,
             "#c51b7d"
            ],
            [
             0.2,
             "#de77ae"
            ],
            [
             0.3,
             "#f1b6da"
            ],
            [
             0.4,
             "#fde0ef"
            ],
            [
             0.5,
             "#f7f7f7"
            ],
            [
             0.6,
             "#e6f5d0"
            ],
            [
             0.7,
             "#b8e186"
            ],
            [
             0.8,
             "#7fbc41"
            ],
            [
             0.9,
             "#4d9221"
            ],
            [
             1,
             "#276419"
            ]
           ],
           "sequential": [
            [
             0,
             "#0d0887"
            ],
            [
             0.1111111111111111,
             "#46039f"
            ],
            [
             0.2222222222222222,
             "#7201a8"
            ],
            [
             0.3333333333333333,
             "#9c179e"
            ],
            [
             0.4444444444444444,
             "#bd3786"
            ],
            [
             0.5555555555555556,
             "#d8576b"
            ],
            [
             0.6666666666666666,
             "#ed7953"
            ],
            [
             0.7777777777777778,
             "#fb9f3a"
            ],
            [
             0.8888888888888888,
             "#fdca26"
            ],
            [
             1,
             "#f0f921"
            ]
           ],
           "sequentialminus": [
            [
             0,
             "#0d0887"
            ],
            [
             0.1111111111111111,
             "#46039f"
            ],
            [
             0.2222222222222222,
             "#7201a8"
            ],
            [
             0.3333333333333333,
             "#9c179e"
            ],
            [
             0.4444444444444444,
             "#bd3786"
            ],
            [
             0.5555555555555556,
             "#d8576b"
            ],
            [
             0.6666666666666666,
             "#ed7953"
            ],
            [
             0.7777777777777778,
             "#fb9f3a"
            ],
            [
             0.8888888888888888,
             "#fdca26"
            ],
            [
             1,
             "#f0f921"
            ]
           ]
          },
          "colorway": [
           "#636efa",
           "#EF553B",
           "#00cc96",
           "#ab63fa",
           "#FFA15A",
           "#19d3f3",
           "#FF6692",
           "#B6E880",
           "#FF97FF",
           "#FECB52"
          ],
          "font": {
           "color": "#2a3f5f"
          },
          "geo": {
           "bgcolor": "white",
           "lakecolor": "white",
           "landcolor": "white",
           "showlakes": true,
           "showland": true,
           "subunitcolor": "#C8D4E3"
          },
          "hoverlabel": {
           "align": "left"
          },
          "hovermode": "closest",
          "mapbox": {
           "style": "light"
          },
          "paper_bgcolor": "white",
          "plot_bgcolor": "white",
          "polar": {
           "angularaxis": {
            "gridcolor": "#EBF0F8",
            "linecolor": "#EBF0F8",
            "ticks": ""
           },
           "bgcolor": "white",
           "radialaxis": {
            "gridcolor": "#EBF0F8",
            "linecolor": "#EBF0F8",
            "ticks": ""
           }
          },
          "scene": {
           "xaxis": {
            "backgroundcolor": "white",
            "gridcolor": "#DFE8F3",
            "gridwidth": 2,
            "linecolor": "#EBF0F8",
            "showbackground": true,
            "ticks": "",
            "zerolinecolor": "#EBF0F8"
           },
           "yaxis": {
            "backgroundcolor": "white",
            "gridcolor": "#DFE8F3",
            "gridwidth": 2,
            "linecolor": "#EBF0F8",
            "showbackground": true,
            "ticks": "",
            "zerolinecolor": "#EBF0F8"
           },
           "zaxis": {
            "backgroundcolor": "white",
            "gridcolor": "#DFE8F3",
            "gridwidth": 2,
            "linecolor": "#EBF0F8",
            "showbackground": true,
            "ticks": "",
            "zerolinecolor": "#EBF0F8"
           }
          },
          "shapedefaults": {
           "line": {
            "color": "#2a3f5f"
           }
          },
          "ternary": {
           "aaxis": {
            "gridcolor": "#DFE8F3",
            "linecolor": "#A2B1C6",
            "ticks": ""
           },
           "baxis": {
            "gridcolor": "#DFE8F3",
            "linecolor": "#A2B1C6",
            "ticks": ""
           },
           "bgcolor": "white",
           "caxis": {
            "gridcolor": "#DFE8F3",
            "linecolor": "#A2B1C6",
            "ticks": ""
           }
          },
          "title": {
           "x": 0.05
          },
          "xaxis": {
           "automargin": true,
           "gridcolor": "#EBF0F8",
           "linecolor": "#EBF0F8",
           "ticks": "",
           "title": {
            "standoff": 15
           },
           "zerolinecolor": "#EBF0F8",
           "zerolinewidth": 2
          },
          "yaxis": {
           "automargin": true,
           "gridcolor": "#EBF0F8",
           "linecolor": "#EBF0F8",
           "ticks": "",
           "title": {
            "standoff": 15
           },
           "zerolinecolor": "#EBF0F8",
           "zerolinewidth": 2
          }
         }
        },
        "xaxis": {
         "anchor": "y",
         "autorange": true,
         "domain": [
          0,
          1
         ],
         "range": [
          "2021-08-03 12:00",
          "2021-09-23 12:00"
         ],
         "title": {
          "text": "tweet_date"
         },
         "type": "date"
        },
        "yaxis": {
         "anchor": "x",
         "autorange": true,
         "domain": [
          0,
          1
         ],
         "range": [
          0,
          614.7368421052631
         ],
         "title": {
          "text": "count"
         },
         "type": "linear"
        }
       }
      },
      "image/png": "[encoded data removed]",
      "text/html": [
       "<div>                            <div id=\"d2fc629f-3f70-41cb-b149-e6da54ecc637\" class=\"plotly-graph-div\" style=\"height:400px; width:100%;\"></div>            <script type=\"text/javascript\">                require([\"plotly\"], function(Plotly) {                    window.PLOTLYENV=window.PLOTLYENV || {};                                    if (document.getElementById(\"d2fc629f-3f70-41cb-b149-e6da54ecc637\")) {                    Plotly.newPlot(                        \"d2fc629f-3f70-41cb-b149-e6da54ecc637\",                        [{\"alignmentgroup\":\"True\",\"hovertemplate\":\"color=green<br>tweet_date=%{x}<br>count=%{y}<extra></extra>\",\"legendgroup\":\"green\",\"marker\":{\"color\":\"#636efa\",\"pattern\":{\"shape\":\"\"}},\"name\":\"green\",\"offsetgroup\":\"green\",\"orientation\":\"v\",\"showlegend\":true,\"textposition\":\"auto\",\"type\":\"bar\",\"x\":[\"2021-09-23\",\"2021-09-22\",\"2021-09-21\",\"2021-09-19\",\"2021-09-18\",\"2021-09-16\",\"2021-09-15\",\"2021-09-14\",\"2021-09-13\",\"2021-09-12\",\"2021-09-11\",\"2021-09-10\",\"2021-09-08\",\"2021-09-07\",\"2021-09-04\",\"2021-09-03\",\"2021-09-02\",\"2021-09-01\",\"2021-08-31\",\"2021-08-30\",\"2021-08-28\",\"2021-08-26\",\"2021-08-25\",\"2021-08-24\",\"2021-08-22\",\"2021-08-21\",\"2021-08-20\",\"2021-08-18\",\"2021-08-17\",\"2021-08-16\",\"2021-08-15\",\"2021-08-14\",\"2021-08-12\",\"2021-08-11\",\"2021-08-09\",\"2021-08-08\",\"2021-08-07\",\"2021-08-05\",\"2021-08-04\"],\"xaxis\":\"x\",\"y\":[15,114,116,200,199,222,12,91,1,108,32,169,7,176,55,17,36,54,382,162,270,340,99,87,364,246,267,282,281,139,314,337,239,104,211,122,90,205,5],\"yaxis\":\"y\"},{\"alignmentgroup\":\"True\",\"hovertemplate\":\"color=red<br>tweet_date=%{x}<br>count=%{y}<extra></extra>\",\"legendgroup\":\"red\",\"marker\":{\"color\":\"#EF553B\",\"pattern\":{\"shape\":\"\"}},\"name\":\"red\",\"offsetgroup\":\"red\",\"orientation\":\"v\",\"showlegend\":true,\"textposition\":\"auto\",\"type\":\"bar\",\"x\":[\"2021-08-27\",\"2021-08-23\",\"2021-08-19\",\"2021-08-13\",\"2021-08-10\",\"2021-08-06\"],\"xaxis\":\"x\",\"y\":[459,514,405,569,584,511],\"yaxis\":\"y\"}],                        {\"barmode\":\"relative\",\"height\":400,\"legend\":{\"title\":{\"text\":\"color\"},\"tracegroupgap\":0},\"margin\":{\"t\":60},\"showlegend\":false,\"template\":{\"data\":{\"bar\":[{\"error_x\":{\"color\":\"#2a3f5f\"},\"error_y\":{\"color\":\"#2a3f5f\"},\"marker\":{\"line\":{\"color\":\"white\",\"width\":0.5},\"pattern\":{\"fillmode\":\"overlay\",\"size\":10,\"solidity\":0.2}},\"type\":\"bar\"}],\"barpolar\":[{\"marker\":{\"line\":{\"color\":\"white\",\"width\":0.5},\"pattern\":{\"fillmode\":\"overlay\",\"size\":10,\"solidity\":0.2}},\"type\":\"barpolar\"}],\"carpet\":[{\"aaxis\":{\"endlinecolor\":\"#2a3f5f\",\"gridcolor\":\"#C8D4E3\",\"linecolor\":\"#C8D4E3\",\"minorgridcolor\":\"#C8D4E3\",\"startlinecolor\":\"#2a3f5f\"},\"baxis\":{\"endlinecolor\":\"#2a3f5f\",\"gridcolor\":\"#C8D4E3\",\"linecolor\":\"#C8D4E3\",\"minorgridcolor\":\"#C8D4E3\",\"startlinecolor\":\"#2a3f5f\"},\"type\":\"carpet\"}],\"choropleth\":[{\"colorbar\":{\"outlinewidth\":0,\"ticks\":\"\"},\"type\":\"choropleth\"}],\"contour\":[{\"colorbar\":{\"outlinewidth\":0,\"ticks\":\"\"},\"colorscale\":[[0.0,\"#0d0887\"],[0.1111111111111111,\"#46039f\"],[0.2222222222222222,\"#7201a8\"],[0.3333333333333333,\"#9c179e\"],[0.4444444444444444,\"#bd3786\"],[0.5555555555555556,\"#d8576b\"],[0.6666666666666666,\"#ed7953\"],[0.7777777777777778,\"#fb9f3a\"],[0.8888888888888888,\"#fdca26\"],[1.0,\"#f0f921\"]],\"type\":\"contour\"}],\"contourcarpet\":[{\"colorbar\":{\"outlinewidth\":0,\"ticks\":\"\"},\"type\":\"contourcarpet\"}],\"heatmap\":[{\"colorbar\":{\"outlinewidth\":0,\"ticks\":\"\"},\"colorscale\":[[0.0,\"#0d0887\"],[0.1111111111111111,\"#46039f\"],[0.2222222222222222,\"#7201a8\"],[0.3333333333333333,\"#9c179e\"],[0.4444444444444444,\"#bd3786\"],[0.5555555555555556,\"#d8576b\"],[0.6666666666666666,\"#ed7953\"],[0.7777777777777778,\"#fb9f3a\"],[0.8888888888888888,\"#fdca26\"],[1.0,\"#f0f921\"]],\"type\":\"heatmap\"}],\"heatmapgl\":[{\"colorbar\":{\"outlinewidth\":0,\"ticks\":\"\"},\"colorscale\":[[0.0,\"#0d0887\"],[0.1111111111111111,\"#46039f\"],[0.2222222222222222,\"#7201a8\"],[0.3333333333333333,\"#9c179e\"],[0.4444444444444444,\"#bd3786\"],[0.5555555555555556,\"#d8576b\"],[0.6666666666666666,\"#ed7953\"],[0.7777777777777778,\"#fb9f3a\"],[0.8888888888888888,\"#fdca26\"],[1.0,\"#f0f921\"]],\"type\":\"heatmapgl\"}],\"histogram\":[{\"marker\":{\"pattern\":{\"fillmode\":\"overlay\",\"size\":10,\"solidity\":0.2}},\"type\":\"histogram\"}],\"histogram2d\":[{\"colorbar\":{\"outlinewidth\":0,\"ticks\":\"\"},\"colorscale\":[[0.0,\"#0d0887\"],[0.1111111111111111,\"#46039f\"],[0.2222222222222222,\"#7201a8\"],[0.3333333333333333,\"#9c179e\"],[0.4444444444444444,\"#bd3786\"],[0.5555555555555556,\"#d8576b\"],[0.6666666666666666,\"#ed7953\"],[0.7777777777777778,\"#fb9f3a\"],[0.8888888888888888,\"#fdca26\"],[1.0,\"#f0f921\"]],\"type\":\"histogram2d\"}],\"histogram2dcontour\":[{\"colorbar\":{\"outlinewidth\":0,\"ticks\":\"\"},\"colorscale\":[[0.0,\"#0d0887\"],[0.1111111111111111,\"#46039f\"],[0.2222222222222222,\"#7201a8\"],[0.3333333333333333,\"#9c179e\"],[0.4444444444444444,\"#bd3786\"],[0.5555555555555556,\"#d8576b\"],[0.6666666666666666,\"#ed7953\"],[0.7777777777777778,\"#fb9f3a\"],[0.8888888888888888,\"#fdca26\"],[1.0,\"#f0f921\"]],\"type\":\"histogram2dcontour\"}],\"mesh3d\":[{\"colorbar\":{\"outlinewidth\":0,\"ticks\":\"\"},\"type\":\"mesh3d\"}],\"parcoords\":[{\"line\":{\"colorbar\":{\"outlinewidth\":0,\"ticks\":\"\"}},\"type\":\"parcoords\"}],\"pie\":[{\"automargin\":true,\"type\":\"pie\"}],\"scatter\":[{\"marker\":{\"colorbar\":{\"outlinewidth\":0,\"ticks\":\"\"}},\"type\":\"scatter\"}],\"scatter3d\":[{\"line\":{\"colorbar\":{\"outlinewidth\":0,\"ticks\":\"\"}},\"marker\":{\"colorbar\":{\"outlinewidth\":0,\"ticks\":\"\"}},\"type\":\"scatter3d\"}],\"scattercarpet\":[{\"marker\":{\"colorbar\":{\"outlinewidth\":0,\"ticks\":\"\"}},\"type\":\"scattercarpet\"}],\"scattergeo\":[{\"marker\":{\"colorbar\":{\"outlinewidth\":0,\"ticks\":\"\"}},\"type\":\"scattergeo\"}],\"scattergl\":[{\"marker\":{\"colorbar\":{\"outlinewidth\":0,\"ticks\":\"\"}},\"type\":\"scattergl\"}],\"scattermapbox\":[{\"marker\":{\"colorbar\":{\"outlinewidth\":0,\"ticks\":\"\"}},\"type\":\"scattermapbox\"}],\"scatterpolar\":[{\"marker\":{\"colorbar\":{\"outlinewidth\":0,\"ticks\":\"\"}},\"type\":\"scatterpolar\"}],\"scatterpolargl\":[{\"marker\":{\"colorbar\":{\"outlinewidth\":0,\"ticks\":\"\"}},\"type\":\"scatterpolargl\"}],\"scatterternary\":[{\"marker\":{\"colorbar\":{\"outlinewidth\":0,\"ticks\":\"\"}},\"type\":\"scatterternary\"}],\"surface\":[{\"colorbar\":{\"outlinewidth\":0,\"ticks\":\"\"},\"colorscale\":[[0.0,\"#0d0887\"],[0.1111111111111111,\"#46039f\"],[0.2222222222222222,\"#7201a8\"],[0.3333333333333333,\"#9c179e\"],[0.4444444444444444,\"#bd3786\"],[0.5555555555555556,\"#d8576b\"],[0.6666666666666666,\"#ed7953\"],[0.7777777777777778,\"#fb9f3a\"],[0.8888888888888888,\"#fdca26\"],[1.0,\"#f0f921\"]],\"type\":\"surface\"}],\"table\":[{\"cells\":{\"fill\":{\"color\":\"#EBF0F8\"},\"line\":{\"color\":\"white\"}},\"header\":{\"fill\":{\"color\":\"#C8D4E3\"},\"line\":{\"color\":\"white\"}},\"type\":\"table\"}]},\"layout\":{\"annotationdefaults\":{\"arrowcolor\":\"#2a3f5f\",\"arrowhead\":0,\"arrowwidth\":1},\"autotypenumbers\":\"strict\",\"coloraxis\":{\"colorbar\":{\"outlinewidth\":0,\"ticks\":\"\"}},\"colorscale\":{\"diverging\":[[0,\"#8e0152\"],[0.1,\"#c51b7d\"],[0.2,\"#de77ae\"],[0.3,\"#f1b6da\"],[0.4,\"#fde0ef\"],[0.5,\"#f7f7f7\"],[0.6,\"#e6f5d0\"],[0.7,\"#b8e186\"],[0.8,\"#7fbc41\"],[0.9,\"#4d9221\"],[1,\"#276419\"]],\"sequential\":[[0.0,\"#0d0887\"],[0.1111111111111111,\"#46039f\"],[0.2222222222222222,\"#7201a8\"],[0.3333333333333333,\"#9c179e\"],[0.4444444444444444,\"#bd3786\"],[0.5555555555555556,\"#d8576b\"],[0.6666666666666666,\"#ed7953\"],[0.7777777777777778,\"#fb9f3a\"],[0.8888888888888888,\"#fdca26\"],[1.0,\"#f0f921\"]],\"sequentialminus\":[[0.0,\"#0d0887\"],[0.1111111111111111,\"#46039f\"],[0.2222222222222222,\"#7201a8\"],[0.3333333333333333,\"#9c179e\"],[0.4444444444444444,\"#bd3786\"],[0.5555555555555556,\"#d8576b\"],[0.6666666666666666,\"#ed7953\"],[0.7777777777777778,\"#fb9f3a\"],[0.8888888888888888,\"#fdca26\"],[1.0,\"#f0f921\"]]},\"colorway\":[\"#636efa\",\"#EF553B\",\"#00cc96\",\"#ab63fa\",\"#FFA15A\",\"#19d3f3\",\"#FF6692\",\"#B6E880\",\"#FF97FF\",\"#FECB52\"],\"font\":{\"color\":\"#2a3f5f\"},\"geo\":{\"bgcolor\":\"white\",\"lakecolor\":\"white\",\"landcolor\":\"white\",\"showlakes\":true,\"showland\":true,\"subunitcolor\":\"#C8D4E3\"},\"hoverlabel\":{\"align\":\"left\"},\"hovermode\":\"closest\",\"mapbox\":{\"style\":\"light\"},\"paper_bgcolor\":\"white\",\"plot_bgcolor\":\"white\",\"polar\":{\"angularaxis\":{\"gridcolor\":\"#EBF0F8\",\"linecolor\":\"#EBF0F8\",\"ticks\":\"\"},\"bgcolor\":\"white\",\"radialaxis\":{\"gridcolor\":\"#EBF0F8\",\"linecolor\":\"#EBF0F8\",\"ticks\":\"\"}},\"scene\":{\"xaxis\":{\"backgroundcolor\":\"white\",\"gridcolor\":\"#DFE8F3\",\"gridwidth\":2,\"linecolor\":\"#EBF0F8\",\"showbackground\":true,\"ticks\":\"\",\"zerolinecolor\":\"#EBF0F8\"},\"yaxis\":{\"backgroundcolor\":\"white\",\"gridcolor\":\"#DFE8F3\",\"gridwidth\":2,\"linecolor\":\"#EBF0F8\",\"showbackground\":true,\"ticks\":\"\",\"zerolinecolor\":\"#EBF0F8\"},\"zaxis\":{\"backgroundcolor\":\"white\",\"gridcolor\":\"#DFE8F3\",\"gridwidth\":2,\"linecolor\":\"#EBF0F8\",\"showbackground\":true,\"ticks\":\"\",\"zerolinecolor\":\"#EBF0F8\"}},\"shapedefaults\":{\"line\":{\"color\":\"#2a3f5f\"}},\"ternary\":{\"aaxis\":{\"gridcolor\":\"#DFE8F3\",\"linecolor\":\"#A2B1C6\",\"ticks\":\"\"},\"baxis\":{\"gridcolor\":\"#DFE8F3\",\"linecolor\":\"#A2B1C6\",\"ticks\":\"\"},\"bgcolor\":\"white\",\"caxis\":{\"gridcolor\":\"#DFE8F3\",\"linecolor\":\"#A2B1C6\",\"ticks\":\"\"}},\"title\":{\"x\":0.05},\"xaxis\":{\"automargin\":true,\"gridcolor\":\"#EBF0F8\",\"linecolor\":\"#EBF0F8\",\"ticks\":\"\",\"title\":{\"standoff\":15},\"zerolinecolor\":\"#EBF0F8\",\"zerolinewidth\":2},\"yaxis\":{\"automargin\":true,\"gridcolor\":\"#EBF0F8\",\"linecolor\":\"#EBF0F8\",\"ticks\":\"\",\"title\":{\"standoff\":15},\"zerolinecolor\":\"#EBF0F8\",\"zerolinewidth\":2}}},\"xaxis\":{\"anchor\":\"y\",\"domain\":[0.0,1.0],\"title\":{\"text\":\"tweet_date\"}},\"yaxis\":{\"anchor\":\"x\",\"domain\":[0.0,1.0],\"title\":{\"text\":\"count\"}}},                        {\"responsive\": true}                    ).then(function(){\n",
       "                            \n",
       "var gd = document.getElementById('d2fc629f-3f70-41cb-b149-e6da54ecc637');\n",
       "var x = new MutationObserver(function (mutations, observer) {{\n",
       "        var display = window.getComputedStyle(gd).display;\n",
       "        if (!display || display === 'none') {{\n",
       "            console.log([gd, 'removed!']);\n",
       "            Plotly.purge(gd);\n",
       "            observer.disconnect();\n",
       "        }}\n",
       "}});\n",
       "\n",
       "// Listen for the removal of the full notebook cells\n",
       "var notebookContainer = gd.closest('#notebook-container');\n",
       "if (notebookContainer) {{\n",
       "    x.observe(notebookContainer, {childList: true});\n",
       "}}\n",
       "\n",
       "// Listen for the clearing of the current output cell\n",
       "var outputEl = gd.closest('.output');\n",
       "if (outputEl) {{\n",
       "    x.observe(outputEl, {childList: true});\n",
       "}}\n",
       "\n",
       "                        })                };                });            </script>        </div>"
      ]
     },
     "metadata": {},
     "output_type": "display_data"
    }
   ],
   "source": [
    "colors = [\"red\" if cc > PST_THRESHOLD else \"green\" for cc in c_sg_tweets_pst['count']]\n",
    "fig = px.bar(c_sg_tweets_pst, x=\"tweet_date\", y=\"count\", template='plotly_white', color=colors,\n",
    "             height = PST_THRESHOLD)\n",
    "fig.update_layout(showlegend=False)\n",
    "fig.show()"
   ]
  },
  {
   "cell_type": "markdown",
   "id": "328c3b30-4ae9-4696-a644-d7c53f29d47a",
   "metadata": {},
   "source": [
    "##### Dates with high PSTs"
   ]
  },
  {
   "cell_type": "code",
   "execution_count": 227,
   "id": "6dd36ff9-5970-4314-b531-cadc183e3f13",
   "metadata": {},
   "outputs": [
    {
     "data": {
      "text/plain": [
       "['2021-08-27',\n",
       " '2021-08-23',\n",
       " '2021-08-19',\n",
       " '2021-08-13',\n",
       " '2021-08-10',\n",
       " '2021-08-06']"
      ]
     },
     "execution_count": 227,
     "metadata": {},
     "output_type": "execute_result"
    }
   ],
   "source": [
    "tweet_date_high_pst = c_sg_tweets_pst[c_sg_tweets_pst['count'] > PST_THRESHOLD]['tweet_date']\n",
    "list(tweet_date_high_pst)"
   ]
  },
  {
   "cell_type": "markdown",
   "id": "6c429375-78ac-4001-92cd-296d19e74777",
   "metadata": {},
   "source": [
    "### 4.4.  Popular hashtags"
   ]
  },
  {
   "cell_type": "code",
   "execution_count": 229,
   "id": "3a40c86f-aac8-45fa-b96e-c0904d213887",
   "metadata": {},
   "outputs": [
    {
     "name": "stdout",
     "output_type": "stream",
     "text": [
      "Count of tweets with hashtags 43083\n",
      "% of tweets with hashtags 23.747264679781505\n"
     ]
    }
   ],
   "source": [
    "sg_tweets_hashtags = sg_tweets[sg_tweets['entity_hashtags'].notna()]['entity_hashtags']\n",
    "\n",
    "print(\"Count of tweets with hashtags {}\".format(len(sg_tweets_hashtags)))\n",
    "print(\"% of tweets with hashtags {}\".format(len(sg_tweets_hashtags)/len(sg_tweets)*100))"
   ]
  },
  {
   "cell_type": "code",
   "execution_count": 230,
   "id": "02889521-0b40-4d15-9094-d047594273fa",
   "metadata": {},
   "outputs": [
    {
     "name": "stdout",
     "output_type": "stream",
     "text": [
      "Total hashtags: 89848\n",
      "Total unique hashtags: 12737\n"
     ]
    }
   ],
   "source": [
    "hashtags = []\n",
    "\n",
    "for h in sg_tweets_hashtags:\n",
    "    h_list = [hh for hh in h.split('|') if hh not in ['Singapore', 'singapore', 'sg']]\n",
    "    hashtags.extend(h_list)\n",
    "\n",
    "print(\"Total hashtags:\", len(hashtags))\n",
    "print(\"Total unique hashtags:\", len(set(hashtags)))"
   ]
  },
  {
   "cell_type": "code",
   "execution_count": 144,
   "id": "38b15c96-04bf-42c2-b7ed-3004dee810e5",
   "metadata": {},
   "outputs": [
    {
     "data": {
      "image/png": "[encoded data removed]",
      "text/plain": [
       "<Figure size 432x288 with 1 Axes>"
      ]
     },
     "metadata": {
      "needs_background": "light"
     },
     "output_type": "display_data"
    }
   ],
   "source": [
    "count_hashtags = col.Counter(hashtags).most_common()\n",
    "\n",
    "TOP_X = 20\n",
    "hashtags = [c[0] for c in count_hashtags[:TOP_X]]\n",
    "counts = [c[1] for c in count_hashtags[:TOP_X]]\n",
    "\n",
    "# count_hashtags\n",
    "plt.barh(hashtags[::-1], counts[::-1])\n",
    " \n",
    "plt.ylabel(\"hashtags\")\n",
    "plt.xlabel(\"Count\")\n",
    "plt.xticks(rotation=45)\n",
    "plt.title(\"Distribution of hashtags\")\n",
    "plt.show()"
   ]
  },
  {
   "cell_type": "code",
   "execution_count": 155,
   "id": "b4544162-3114-42b2-b778-4f018577d401",
   "metadata": {},
   "outputs": [],
   "source": [
    "# Saving data for the dashboard\n",
    "hashtags_data = {\n",
    "    \"counts\": counts[::-1],\n",
    "    \"hashtag\": hashtags[::-1]\n",
    "}\n",
    "\n",
    "df_hashtags_data = pd.DataFrame(data=hashtags_data)\n",
    "pd.DataFrame.to_csv(df_hashtags_data, \"data/output/basics/hashtags.csv\")"
   ]
  },
  {
   "cell_type": "markdown",
   "id": "755c1b68-a5ee-4224-87dc-8626bfa8bfdf",
   "metadata": {},
   "source": [
    "### 4.5. Popular mentions"
   ]
  },
  {
   "cell_type": "code",
   "execution_count": 232,
   "id": "9c85f898-5a09-4c2b-bd4c-f8325b3bb7c9",
   "metadata": {},
   "outputs": [
    {
     "name": "stdout",
     "output_type": "stream",
     "text": [
      "Count of tweets with mentions 91955\n",
      "% tweets with mentions 50.68541474895686\n"
     ]
    }
   ],
   "source": [
    "sg_tweets_mentions = sg_tweets[sg_tweets['entity_mentions'].notna()]['entity_mentions']\n",
    "\n",
    "print(\"Count of tweets with mentions {}\".format(len(sg_tweets_mentions)))\n",
    "print(\"% tweets with mentions {}\".format(len(sg_tweets_mentions)/len(sg_tweets)*100))"
   ]
  },
  {
   "cell_type": "code",
   "execution_count": 233,
   "id": "f2212bfb-ec32-4b1d-859a-b3c2b659f510",
   "metadata": {},
   "outputs": [
    {
     "name": "stdout",
     "output_type": "stream",
     "text": [
      "Total mentions: 116606\n",
      "Total unique mentions: 37576\n"
     ]
    }
   ],
   "source": [
    "mentions = []\n",
    "\n",
    "for m in sg_tweets_mentions:\n",
    "    m_list = [mm for mm in m.split('|')]\n",
    "    mentions.extend(m_list)\n",
    "\n",
    "print(\"Total mentions:\", len(mentions))\n",
    "print(\"Total unique mentions:\", len(set(mentions)))"
   ]
  },
  {
   "cell_type": "code",
   "execution_count": 234,
   "id": "6d208f4f-2fba-4462-be53-64cef2029b40",
   "metadata": {},
   "outputs": [
    {
     "data": {
      "image/png": "[encoded data removed]",
      "text/plain": [
       "<Figure size 432x288 with 1 Axes>"
      ]
     },
     "metadata": {
      "needs_background": "light"
     },
     "output_type": "display_data"
    }
   ],
   "source": [
    "count_mentions = col.Counter(mentions).most_common()\n",
    "\n",
    "TOP_X = 20\n",
    "mentions = [c[0] for c in count_mentions[:TOP_X]]\n",
    "counts = [c[1] for c in count_mentions[:TOP_X]]\n",
    "\n",
    "# count_mentions\n",
    "plt.barh(mentions[::-1], counts[::-1])\n",
    " \n",
    "plt.ylabel(\"Screen_name\")\n",
    "plt.xlabel(\"Count\")\n",
    "plt.xticks(rotation=45)\n",
    "plt.title(\"Distribution of mentions\")\n",
    "plt.show()"
   ]
  },
  {
   "cell_type": "code",
   "execution_count": 235,
   "id": "e6ff0106-b335-469a-ab74-209d6f7e9dd3",
   "metadata": {},
   "outputs": [
    {
     "data": {
      "text/html": [
       "<div>\n",
       "<style scoped>\n",
       "    .dataframe tbody tr th:only-of-type {\n",
       "        vertical-align: middle;\n",
       "    }\n",
       "\n",
       "    .dataframe tbody tr th {\n",
       "        vertical-align: top;\n",
       "    }\n",
       "\n",
       "    .dataframe thead th {\n",
       "        text-align: right;\n",
       "    }\n",
       "</style>\n",
       "<table border=\"1\" class=\"dataframe\">\n",
       "  <thead>\n",
       "    <tr style=\"text-align: right;\">\n",
       "      <th></th>\n",
       "      <th>counts</th>\n",
       "      <th>mention</th>\n",
       "    </tr>\n",
       "  </thead>\n",
       "  <tbody>\n",
       "    <tr>\n",
       "      <th>0</th>\n",
       "      <td>338</td>\n",
       "      <td>YahooSG</td>\n",
       "    </tr>\n",
       "    <tr>\n",
       "      <th>1</th>\n",
       "      <td>349</td>\n",
       "      <td>VivianBala</td>\n",
       "    </tr>\n",
       "    <tr>\n",
       "      <th>2</th>\n",
       "      <td>352</td>\n",
       "      <td>IrrawaddyNews</td>\n",
       "    </tr>\n",
       "    <tr>\n",
       "      <th>3</th>\n",
       "      <td>370</td>\n",
       "      <td>spring21MM</td>\n",
       "    </tr>\n",
       "    <tr>\n",
       "      <th>4</th>\n",
       "      <td>377</td>\n",
       "      <td>RapporteurUn</td>\n",
       "    </tr>\n",
       "    <tr>\n",
       "      <th>5</th>\n",
       "      <td>387</td>\n",
       "      <td>bhonekhant247</td>\n",
       "    </tr>\n",
       "    <tr>\n",
       "      <th>6</th>\n",
       "      <td>401</td>\n",
       "      <td>UN</td>\n",
       "    </tr>\n",
       "    <tr>\n",
       "      <th>7</th>\n",
       "      <td>407</td>\n",
       "      <td>LeongWaiKitCNA</td>\n",
       "    </tr>\n",
       "    <tr>\n",
       "      <th>8</th>\n",
       "      <td>423</td>\n",
       "      <td>sporeMOH</td>\n",
       "    </tr>\n",
       "    <tr>\n",
       "      <th>9</th>\n",
       "      <td>456</td>\n",
       "      <td>SaveMM99</td>\n",
       "    </tr>\n",
       "    <tr>\n",
       "      <th>10</th>\n",
       "      <td>478</td>\n",
       "      <td>historyogi</td>\n",
       "    </tr>\n",
       "    <tr>\n",
       "      <th>11</th>\n",
       "      <td>502</td>\n",
       "      <td>thenewpaper</td>\n",
       "    </tr>\n",
       "    <tr>\n",
       "      <th>12</th>\n",
       "      <td>503</td>\n",
       "      <td>STForeignDesk</td>\n",
       "    </tr>\n",
       "    <tr>\n",
       "      <th>13</th>\n",
       "      <td>509</td>\n",
       "      <td>leehsienloong</td>\n",
       "    </tr>\n",
       "    <tr>\n",
       "      <th>14</th>\n",
       "      <td>516</td>\n",
       "      <td>VP</td>\n",
       "    </tr>\n",
       "    <tr>\n",
       "      <th>15</th>\n",
       "      <td>740</td>\n",
       "      <td>TODAYonline</td>\n",
       "    </tr>\n",
       "    <tr>\n",
       "      <th>16</th>\n",
       "      <td>903</td>\n",
       "      <td>straits_times</td>\n",
       "    </tr>\n",
       "    <tr>\n",
       "      <th>17</th>\n",
       "      <td>1177</td>\n",
       "      <td>MothershipSG</td>\n",
       "    </tr>\n",
       "    <tr>\n",
       "      <th>18</th>\n",
       "      <td>1491</td>\n",
       "      <td>ChannelNewsAsia</td>\n",
       "    </tr>\n",
       "    <tr>\n",
       "      <th>19</th>\n",
       "      <td>1816</td>\n",
       "      <td>HIREMAIDEA</td>\n",
       "    </tr>\n",
       "  </tbody>\n",
       "</table>\n",
       "</div>"
      ],
      "text/plain": [
       "    counts          mention\n",
       "0      338          YahooSG\n",
       "1      349       VivianBala\n",
       "2      352    IrrawaddyNews\n",
       "3      370       spring21MM\n",
       "4      377     RapporteurUn\n",
       "5      387    bhonekhant247\n",
       "6      401               UN\n",
       "7      407   LeongWaiKitCNA\n",
       "8      423         sporeMOH\n",
       "9      456         SaveMM99\n",
       "10     478       historyogi\n",
       "11     502      thenewpaper\n",
       "12     503    STForeignDesk\n",
       "13     509    leehsienloong\n",
       "14     516               VP\n",
       "15     740      TODAYonline\n",
       "16     903    straits_times\n",
       "17    1177     MothershipSG\n",
       "18    1491  ChannelNewsAsia\n",
       "19    1816       HIREMAIDEA"
      ]
     },
     "execution_count": 235,
     "metadata": {},
     "output_type": "execute_result"
    }
   ],
   "source": [
    "# Saving data for the dashboard\n",
    "mentions_data = {\n",
    "    \"counts\": counts[::-1],\n",
    "    \"mention\": mentions[::-1]\n",
    "}\n",
    "\n",
    "df_mentions_data = pd.DataFrame(data=mentions_data)\n",
    "pd.DataFrame.to_csv(df_mentions_data, \"data/output/basics/mentions.csv\")\n",
    "df_mentions_data"
   ]
  },
  {
   "cell_type": "markdown",
   "id": "b009f2ef-329a-4acc-9efc-91dd8fb3a6c2",
   "metadata": {},
   "source": [
    "### 4.6. Regional analysis \n",
    "\n",
    "**Factual**: Population by region:\n",
    "- **Central Region**\t922,580\n",
    "\n",
    "- **East Region** 685,890\n",
    "\n",
    "- **North Region** 582,330 \n",
    "\n",
    "- **North-East Region** 930,910 \n",
    "\n",
    "- **West Region** 922,540 "
   ]
  },
  {
   "cell_type": "code",
   "execution_count": 249,
   "id": "60d18fbd-4e3e-4e28-a3c1-56c5b0212c35",
   "metadata": {},
   "outputs": [
    {
     "name": "stdout",
     "output_type": "stream",
     "text": [
      "Tweets from Central:  757\n",
      "Tweets from West:  298\n",
      "Tweets from East:  571\n",
      "Tweets from North-East:  371\n",
      "Tweets from North:  133\n",
      "----------\n",
      "Tweets from Central:  13.393489030431704\n",
      "Tweets from West:  5.27246992215145\n",
      "Tweets from North-East:  6.5640481245576785\n",
      "Tweets from North:  2.3531493276716207\n",
      "Tweets from East:  10.102618542108988\n"
     ]
    }
   ],
   "source": [
    "# tw_user_location = data[data['user_location'].str.contains('sg|singapore|sin',\n",
    "#                                                                   na = False, case=False, regex=True)]\n",
    "# tw_user_location = list(tw_user_location['user_location'])\n",
    "# print(len(tw_user_location))\n",
    "# set(tw_user_location)\n",
    "tw_user_location = list(sg_tweets[sg_tweets['user_geo_tagging'].notna()]['user_geo_tagging'])\n",
    "print(\"Tweets from Central: \", sum('Central' in s for s in tw_user_location))\n",
    "print(\"Tweets from West: \", sum('West' in s for s in tw_user_location))\n",
    "print(\"Tweets from East: \", sum('East ' in s for s in tw_user_location))\n",
    "print(\"Tweets from North-East: \", sum('North-East' in s for s in tw_user_location))\n",
    "print(\"Tweets from North: \", sum('North ' in s for s in tw_user_location))\n",
    "print(\"-\"*10)\n",
    "print(\"Tweets from Central: \", sum('Central' in s for s in tw_user_location)/len(tw_user_location)*100)\n",
    "print(\"Tweets from West: \", sum('West' in s for s in tw_user_location)/len(tw_user_location)*100)\n",
    "print(\"Tweets from North-East: \", sum('North-East' in s for s in tw_user_location)/len(tw_user_location)*100)\n",
    "print(\"Tweets from North: \", sum('North ' in s for s in tw_user_location)/len(tw_user_location)*100)\n",
    "print(\"Tweets from East: \", sum('East ' in s for s in tw_user_location)/len(tw_user_location)*100)"
   ]
  },
  {
   "cell_type": "markdown",
   "id": "586479f0-8830-43ec-a4dc-437b8a6cae27",
   "metadata": {},
   "source": [
    "### 4.7. Others"
   ]
  },
  {
   "cell_type": "markdown",
   "id": "a5586f0c-1318-4af3-a5b1-7bc01ebae48a",
   "metadata": {},
   "source": [
    "Tracking:\n",
    "    Popular SG accounts not geocoded as Sngapore: @muttons @cz_binance MOEsg \n",
    "    Adult accounts: "
   ]
  },
  {
   "cell_type": "markdown",
   "id": "a954accb-9196-4a65-ad22-a9200ee05dc7",
   "metadata": {},
   "source": [
    "#### Fake news"
   ]
  },
  {
   "cell_type": "code",
   "execution_count": 443,
   "id": "f8b754be-107f-4088-9c4f-f6114da55b60",
   "metadata": {},
   "outputs": [],
   "source": [
    "fake_news_sources = []\n",
    "with open(\"fk.txt\", 'r') as f:\n",
    "    for line in f:\n",
    "        fake_news_sources.append(line.strip('\\n'))\n",
    "\n",
    "fake_news_sources_reg = '|'.join(fake_news_sources)"
   ]
  },
  {
   "cell_type": "code",
   "execution_count": 447,
   "id": "e5961c0e-168d-4f50-be16-677c7a2e626f",
   "metadata": {},
   "outputs": [
    {
     "data": {
      "text/plain": [
       "999"
      ]
     },
     "execution_count": 447,
     "metadata": {},
     "output_type": "execute_result"
    }
   ],
   "source": [
    "len(fake_news_sources)"
   ]
  },
  {
   "cell_type": "code",
   "execution_count": 451,
   "id": "31b0b990-b5d6-4111-a00c-dea7ddc464fa",
   "metadata": {},
   "outputs": [],
   "source": [
    "fk = sg_tweets[sg_tweets['entity_link_url'].str.lower().str.contains(fake_news_sources_reg, na=False, regex=True, case=False)]"
   ]
  },
  {
   "cell_type": "markdown",
   "id": "d249cbf4-9ad0-4c94-80aa-3a26d516ae41",
   "metadata": {},
   "source": [
    "#### Images shared on twitter "
   ]
  },
  {
   "cell_type": "code",
   "execution_count": 245,
   "id": "6c506988-4305-41ab-ba3a-b18c5b548eed",
   "metadata": {},
   "outputs": [
    {
     "data": {
      "text/plain": [
       "9         https://pbs.twimg.com/media/E71g09BVkAQ9wGv.jpg\n",
       "21        https://pbs.twimg.com/media/E8FPGNyVIAAsIzr.png\n",
       "27        https://pbs.twimg.com/media/E8CUEqGXsAAwEZ6.jpg\n",
       "57        https://pbs.twimg.com/media/E8FExRBUUAYg2Pn.jpg\n",
       "65        https://pbs.twimg.com/media/E8BVOYcVgAIH4_j.png\n",
       "                               ...                       \n",
       "429548    https://pbs.twimg.com/media/E-9VwiGUcAA-lDW.jpg\n",
       "429713    https://pbs.twimg.com/media/E-6cVEUVIAA-tKw.jpg\n",
       "429748    https://pbs.twimg.com/media/E-7oiBSVUAMZvgH.jpg\n",
       "429777    https://pbs.twimg.com/media/E-90ZjPXEC8zY81.jpg\n",
       "429825    https://pbs.twimg.com/media/E-lvmKhXIAcsDYw.jpg\n",
       "Name: entity_image_url, Length: 13166, dtype: object"
      ]
     },
     "execution_count": 245,
     "metadata": {},
     "output_type": "execute_result"
    }
   ],
   "source": [
    "imgs_sg_tweets = sg_tweets[(sg_tweets['entity_image_url'].notna())]\n",
    "imgs_sg_tweets['entity_image_url']"
   ]
  },
  {
   "cell_type": "markdown",
   "id": "0c4f1fb2-958c-4b34-84ca-49e336b460a7",
   "metadata": {},
   "source": [
    "#### Listing tweets with random hate words"
   ]
  },
  {
   "cell_type": "code",
   "execution_count": 238,
   "id": "835e3bec-2c4f-4a4f-bc0a-11519a35f153",
   "metadata": {},
   "outputs": [
    {
     "data": {
      "text/plain": [
       "(268, 53)"
      ]
     },
     "execution_count": 238,
     "metadata": {},
     "output_type": "execute_result"
    }
   ],
   "source": [
    "hate_sg_tweets = sg_tweets[(sg_tweets['tweet_text'].str.contains('racism|racist|xeno', case=False, regex=True))]\n",
    "hate_sg_tweets.shape"
   ]
  },
  {
   "cell_type": "code",
   "execution_count": 242,
   "id": "9619de7d-e4e8-4975-b3c0-bdacc24779fa",
   "metadata": {},
   "outputs": [
    {
     "data": {
      "text/plain": [
       "['RT @fuhduhduhh: imagine seeing chinese singaporeans being racist and thinking \"how far singapore has fallen without lky\\'s authority\"',\n",
       " 'No but wait what do you mean racism doesn’t exist in Singapore? I don’t care if you haven’t faced it bro I’ve known… https://t.co/Qgv6JpNCcX',\n",
       " '@PeterFl13201217 @Inseer_ @Dominic2306 Do you think Singapore is not xenophobic. \\n\\nSingapore is far more xenophobic… https://t.co/P5ABrH4GiE',\n",
       " 'Tik Tok series: Racism in Singapore\\nEP 3: What is your view on xenophobia in Singapore?\\n\\nWatch here: https://t.co/M49Ui7Ns2A',\n",
       " \"Well won't this be very interesting. Covid safety & health vs the 'racism' debate. Quite the conundrum and a true t… https://t.co/GXHWi74aBz\",\n",
       " 'RT @sara_sailesh: Racism in Singapore against Indians are so bad that I worry for my children in the future . \\n\\nSuch a small country but so…',\n",
       " '@BahrSinan @Xeno_Imperial @MegaManMain @DudespostingWs Probably holiday... there was soccer events in Singapore but… https://t.co/SSVWE2fQKb',\n",
       " 'Racist policies and racist bigots: Does Singapore need all Singaporeans or just some of us?\\n\\nDropping the masks of xenophobia in SG govt.',\n",
       " \"Most Singaporeans: We aren't racist, we are xenophobic, there's a big difference!\\n\\nXenophobia is the fine art of re… https://t.co/djBY8XEFZF\",\n",
       " 'RT @MichaelPSenger: The CCP also makes use of modern wokeism to deflect criticism as “racist.” Eg, this is what allows for the question of…']"
      ]
     },
     "execution_count": 242,
     "metadata": {},
     "output_type": "execute_result"
    }
   ],
   "source": [
    "list(hate_sg_tweets['tweet_text'])[:10]"
   ]
  },
  {
   "cell_type": "markdown",
   "id": "aa2cf481-3c6c-4a31-a8ef-41dba9b51c3b",
   "metadata": {},
   "source": [
    "#### Local news Singapore reporters "
   ]
  },
  {
   "cell_type": "code",
   "execution_count": null,
   "id": "6b38249c-7cd8-49d7-afd7-da8ebb3a9893",
   "metadata": {},
   "outputs": [],
   "source": [
    "sg_tweets[sg_tweets['user_screenname_x'].isin(['stompsingapore'])]['tweet_text']"
   ]
  }
 ],
 "metadata": {
  "kernelspec": {
   "display_name": "Python 3 (ipykernel)",
   "language": "python",
   "name": "python3"
  },
  "language_info": {
   "codemirror_mode": {
    "name": "ipython",
    "version": 3
   },
   "file_extension": ".py",
   "mimetype": "text/x-python",
   "name": "python",
   "nbconvert_exporter": "python",
   "pygments_lexer": "ipython3",
   "version": "3.8.11"
  }
 },
 "nbformat": 4,
 "nbformat_minor": 5
}
