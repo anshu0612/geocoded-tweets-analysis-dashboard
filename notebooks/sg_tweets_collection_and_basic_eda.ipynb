{
 "cells": [
  {
   "cell_type": "markdown",
   "id": "62a16bcf-34a8-41d2-b778-c98fc45d347b",
   "metadata": {},
   "source": [
    "# Filtering and analysing Singapore-based tweets - exploratory data analysis"
   ]
  },
  {
   "cell_type": "markdown",
   "id": "8904b41d-2c11-4612-bea9-3c8c110b4791",
   "metadata": {},
   "source": [
    "### Introduction\n",
    "**Challenge**: Collecting tweets by ***Singapore-based users*** from streaming Twitter data.\n",
    "\n",
    "Previous research works relied on relaxed and limited heuristics resulting in noisy data containing false positives of Singapore-based users' tweets. \n",
    "This challenging problem is addressed with the help of plausible heuristics to gather Singapore-based users' tweets. \n",
    "The data analyses suggest that curated tweets give credible insights about Singapore. \n",
    "\n",
    "First, the Twitter streaming data is ingested into MongoDB, data wrangling is performed to curate Singapore-based tweets based on heuristics. \n",
    "Exploratory data analysis is then performed on the curated tweets. \n",
    "\n",
    "**Factual**: \n",
    "- Less than 0.01% of Twitter users will push tweets with their GPS locations.\n",
    "- Estimated Singapore Twitter Users 1.7M [(Source)](https://www.statista.com/statistics/490600/twitter-users-singapore/#:~:text=Number%20of%20Twitter%20users%20in%20Singapore%202019%2D2021&text=In%202021%2C%20there%20were%20over,between%2025%2D34%20years%20old)\n",
    "- Tweets grabbed from streaming data will have 0 favorites or retweets, since the tweets are already captured even before others react :D \n",
    "\n",
    "Check out the [Twitter streaming API response](https://developer.twitter.com/en/docs/twitter-api/v1/data-dictionary/object-model/tweet) for a better understanding of the notebooks. "
   ]
  },
  {
   "cell_type": "markdown",
   "id": "717583b8-ee5b-4e26-9f70-3b22c4e2586e",
   "metadata": {},
   "source": [
    "### Table of Contents\n",
    "\n",
    "* 1\\. [Heuristics for filtering Singapore-based users' tweets from streaming twitter API](#cell1)\n",
    "* 2\\.     [Loading the data (csv files)](#cell2)\n",
    "* 3\\. [Cleaning and processing the data](#cell3)\n",
    "    * 3.1. [Datetime cleanup and formatting](#cell31)\n",
    "    * 3.2. [Geocoding fixes](#cell32)\n",
    "<!--         * 3.2.1 [Replacing nan with 'Unknown'](#cell321)\n",
    "        * 3.2.2 [Replacing nan with 'Unknown'](#cell321)\n",
    "        * 3.2.3 [Replacing nan with 'Unknown'](#cell321)\n",
    "        * 3.2.4 [Replacing nan with 'Unknown'](#cell321) -->\n",
    "    * 3.3. [Filtering out non-Singapore accounts - reducing false positives and false negatives](#cell33)\n",
    "    * 3.4. [Processing the tweets and quoted tweets](#cell34)\n",
    "* 4\\. [Exploratory data analysis of Singapore geo-coded tweets](#cell4) \n",
    "    * 4.1. [Basics](#cell41)\n",
    "    * 4.2. [Sentiment analysis of tweets and quoted tweets](#cell42) \n",
    "    * 4.3. [Analysing Singapore users](#cell43)\n",
    "    * 4.4. [Analysing potentially sensitive tweets (PST) with links](#cell44)\n",
    "    * 4.5. [Popular hashtags](#cell45)\n",
    "    * 4.6. [Popular mentions](#cell46)\n",
    "    * 4.7. [Regional analysis](#cell47)\n",
    "    * 4.8. [Others](#cell48)"
   ]
  },
  {
   "cell_type": "code",
   "execution_count": 1,
   "id": "28fe7b97-7308-46b1-834e-da49b0f08168",
   "metadata": {},
   "outputs": [],
   "source": [
    "import re\n",
    "import sys\n",
    "import os\n",
    "import time\n",
    "import glob \n",
    "import json\n",
    "import random\n",
    "from datetime import datetime  as dt\n",
    "\n",
    "import collections as col\n",
    "\n",
    "import numpy as np\n",
    "import pandas as pd\n",
    "\n",
    "# import functools as ft\n",
    "import itertools as it\n",
    "\n",
    "# visualizations\n",
    "import plotly.express as px\n",
    "import matplotlib.pyplot as plt"
   ]
  },
  {
   "cell_type": "code",
   "execution_count": 2,
   "id": "9a156939-63a6-4e30-9ca5-4900406138cc",
   "metadata": {},
   "outputs": [],
   "source": [
    "import warnings\n",
    "warnings.filterwarnings(\"ignore\")"
   ]
  },
  {
   "cell_type": "code",
   "execution_count": 3,
   "id": "552e43b4-03c5-4d0e-9525-0531c072b86e",
   "metadata": {},
   "outputs": [],
   "source": [
    "# to import the desired function from the module hierarchy\n",
    "module_path = os.path.abspath(os.path.join('..'))\n",
    "if module_path not in sys.path:\n",
    "    sys.path.append(module_path)"
   ]
  },
  {
   "cell_type": "markdown",
   "id": "46078cec-c69d-4046-8fbb-6b3738c7fe2a",
   "metadata": {},
   "source": [
    "# 1. Heuristics for filtering Singapore-based users' tweets from streaming twitter API <a id=\"cell1\"></a>\n",
    "\n",
    "##### Tweets from the streaming twitter API are first ingested into MongoDB. The below heuristics are then applied on the collected tweets to fetch Singapore-based users' tweets:   \n",
    "\n",
    "**Step 1 -  Collection of potential Singapore-based twitter users:** Users who follow at least 2 of the Singapore based twitter accounts listed below: \n",
    "\n",
    "`Singapore based twitter handles\n",
    "'mindefsg', 'MOEsg', 'sporeMOH', 'LTAsg', 'SMRT_Singapore', 'SBSTransit_Ltd', 'SingaporeHDB', 'MNDSingapore', 'mhasingapore', 'SingaporePolice', 'URAsg',  'MAS_sg', 'MOFsg', 'ICASingapore', 'SingaporeMCI', 'nlbsingapore', 'IMDAsg',  'NEAsg', 'nparksbuzz', 'SGSportsHub', 'govsingapore', 'SingaporeCAAS', 'MFAsg',\n",
    " ‘iremembersg', 'youthsg', 'NUSingapore', 'NTUsg', 'sgSMU', 'sutdsg', 'SGRedCross',  'STcom', 'ChannelNewsAsia', 'TODAYonline', 'asiaonecom', 'thenewpaper', 'MothershipSG', 'Singtel', 'StarHub', 'MyRepublicSG', 'M1Singapore', 'temasekpoly', 'singaporetech','SingaporePoly', 'PUBsingapore', 'NgeeAnnNP', 'ITESpore', 'mediacorp', 'YahooSG',  'TimeOutSG', 'VisitSingapore', 'stb_sg', 'GovTechSG', 'SGmagazine', 'mySingapore',  'sgelection', 'SGAG_SG', 'TEDxSingapore', 'STATravelSG', 'STPix'`\n",
    " \n",
    "##### Collected users count: 888739\n",
    "\n",
    "The file `get_sg_users.py` contains the code for Step 2.\n",
    "\n",
    "The file `/data/min_2_following_users.txt` contains the list of collected twitter user ids.\n",
    "\n",
    "**Step 2 - Filtering users' tweets:** Tweets from a user whose:\n",
    "1. **Twitter user id** in the collected ids as mentioned above OR\n",
    "2. **Place** is set to Singapore OR\n",
    "3. **Location** containing `'sg', 'spore', 'singapore', 'singapura'`\n",
    "4. **Description** containing `'spore', 'singapore', 'singapura'`\n",
    "\n",
    "The file `get_sg_tweets.py` contains the code for Step 2.\n",
    "\n",
    "**Step 3 - Filtering tweets with geocoded country as 'Singapore'**\n"
   ]
  },
  {
   "cell_type": "markdown",
   "id": "5d1baef7-10fa-468d-9220-05a5ffaef242",
   "metadata": {},
   "source": [
    "# 2. Loading the data (csv files) <a id=\"cell2\"></a>\n",
    "##### Loading and merging the fragmented csvs files. The files contain the collected Singapore-based tweets."
   ]
  },
  {
   "cell_type": "code",
   "execution_count": 4,
   "id": "45f199cb-49f6-4f71-986d-11e0fa8c6b3c",
   "metadata": {},
   "outputs": [],
   "source": [
    "DATA_PATH = '../data/'\n",
    "SG_TWEETS_PATH = 'fragmented_data/tweets_sg/'\n",
    "SG_TWEETS_ENGAGEMENTS_PATH = 'fragmented_data/tweets_engagements_sg/'"
   ]
  },
  {
   "cell_type": "code",
   "execution_count": 5,
   "id": "d4a43588-401d-4b4d-a35f-34a31f3e362f",
   "metadata": {},
   "outputs": [],
   "source": [
    "# csvs containing users and tweets specific data\n",
    "tw_data = pd.concat([pd.read_csv(csv_file, index_col=0, header=0, engine='python') for csv_file in glob.glob(\n",
    "            os.path.join(DATA_PATH, SG_TWEETS_PATH, \"*.csv\"))], axis=0, ignore_index=True)\n",
    "\n",
    "# csvs containing the collected tweets' engagement data - retweets, replies and quoted tweets\n",
    "tw_eng_data = pd.concat([pd.read_csv(csv_file, index_col=0, header=0, engine='python') for csv_file in glob.glob(\n",
    "            os.path.join(DATA_PATH, SG_TWEETS_ENGAGEMENTS_PATH, \"*.csv\"))], axis=0, ignore_index=True)"
   ]
  },
  {
   "cell_type": "code",
   "execution_count": 6,
   "id": "1f0da77c-8a8d-478d-a9f5-a9566af3ebca",
   "metadata": {},
   "outputs": [
    {
     "data": {
      "text/plain": [
       "(12892,)"
      ]
     },
     "execution_count": 6,
     "metadata": {},
     "output_type": "execute_result"
    }
   ],
   "source": [
    "tw_data.head(5)\n",
    "\n",
    "tw_data[tw_data['user_geo_tagging'].notna()]['user_geo_tagging'].shape"
   ]
  },
  {
   "cell_type": "code",
   "execution_count": 7,
   "id": "4aa9d958-9625-4b05-b03f-adb603d4a160",
   "metadata": {},
   "outputs": [
    {
     "data": {
      "text/plain": [
       "(723023, 19)"
      ]
     },
     "execution_count": 7,
     "metadata": {},
     "output_type": "execute_result"
    }
   ],
   "source": [
    "tw_data.shape"
   ]
  },
  {
   "cell_type": "code",
   "execution_count": 8,
   "id": "375b0b78-3c67-4f0d-b64e-78bd6cbcdec6",
   "metadata": {},
   "outputs": [
    {
     "data": {
      "text/plain": [
       "1.7830691416455633"
      ]
     },
     "execution_count": 8,
     "metadata": {},
     "output_type": "execute_result"
    }
   ],
   "source": [
    "12892/723023*100"
   ]
  },
  {
   "cell_type": "code",
   "execution_count": 9,
   "id": "30845521-82b7-40ad-ab99-29bd04ccb02d",
   "metadata": {},
   "outputs": [
    {
     "data": {
      "text/plain": [
       "Index(['user_id', 'user_name', 'user_screenname', 'tweet_id',\n",
       "       'tweet_enagagement_type', 'replied_to_tweet_id', 'replied_to_user_id',\n",
       "       'replied_to_user_screenname', 'retweeted_tweet_id',\n",
       "       'retweeted_tweet_time', 'retweeted_user_id', 'retweeted_user_name',\n",
       "       'retweeted_user_verified', 'retweeted_user_screenname',\n",
       "       'retweeted_user_geo_coding', 'retweeted_user_geo_coding_type',\n",
       "       'retweeted_retweet_count', 'retweeted_favorite_count',\n",
       "       'quoted_tweet_text', 'quoted_tweet_id', 'quoted_tweet_time',\n",
       "       'quoted_user_id', 'quoted_user_name', 'quoted_user_verified',\n",
       "       'quoted_user_screenname', 'quoted_user_geo_coding',\n",
       "       'quoted_user_geo_coding_type', 'quoted_retweet_count',\n",
       "       'quoted_favorite_count'],\n",
       "      dtype='object')"
      ]
     },
     "execution_count": 9,
     "metadata": {},
     "output_type": "execute_result"
    }
   ],
   "source": [
    "# list(tw_data[tw_data['user_geo_tagging'].notna()]['user_geo_tagging'])\n",
    "tw_eng_data.columns"
   ]
  },
  {
   "cell_type": "code",
   "execution_count": 10,
   "id": "fa06d886-9fc0-4569-a6d5-23b50a915205",
   "metadata": {},
   "outputs": [
    {
     "data": {
      "text/html": [
       "<div>\n",
       "<style scoped>\n",
       "    .dataframe tbody tr th:only-of-type {\n",
       "        vertical-align: middle;\n",
       "    }\n",
       "\n",
       "    .dataframe tbody tr th {\n",
       "        vertical-align: top;\n",
       "    }\n",
       "\n",
       "    .dataframe thead th {\n",
       "        text-align: right;\n",
       "    }\n",
       "</style>\n",
       "<table border=\"1\" class=\"dataframe\">\n",
       "  <thead>\n",
       "    <tr style=\"text-align: right;\">\n",
       "      <th></th>\n",
       "      <th>user_id</th>\n",
       "      <th>user_name</th>\n",
       "      <th>user_screenname</th>\n",
       "      <th>tweet_id</th>\n",
       "      <th>tweet_enagagement_type</th>\n",
       "      <th>replied_to_tweet_id</th>\n",
       "      <th>replied_to_user_id</th>\n",
       "      <th>replied_to_user_screenname</th>\n",
       "      <th>retweeted_tweet_id</th>\n",
       "      <th>retweeted_tweet_time</th>\n",
       "      <th>...</th>\n",
       "      <th>quoted_tweet_id</th>\n",
       "      <th>quoted_tweet_time</th>\n",
       "      <th>quoted_user_id</th>\n",
       "      <th>quoted_user_name</th>\n",
       "      <th>quoted_user_verified</th>\n",
       "      <th>quoted_user_screenname</th>\n",
       "      <th>quoted_user_geo_coding</th>\n",
       "      <th>quoted_user_geo_coding_type</th>\n",
       "      <th>quoted_retweet_count</th>\n",
       "      <th>quoted_favorite_count</th>\n",
       "    </tr>\n",
       "  </thead>\n",
       "  <tbody>\n",
       "    <tr>\n",
       "      <th>0</th>\n",
       "      <td>1.223307e+18</td>\n",
       "      <td>Coronavirus</td>\n",
       "      <td>JayChance12</td>\n",
       "      <td>1423506816089133057</td>\n",
       "      <td>Quote</td>\n",
       "      <td>NaN</td>\n",
       "      <td>NaN</td>\n",
       "      <td>NaN</td>\n",
       "      <td>NaN</td>\n",
       "      <td>NaN</td>\n",
       "      <td>...</td>\n",
       "      <td>1.423391e+18</td>\n",
       "      <td>Thu Aug 05 21:09:49 +0000 2021</td>\n",
       "      <td>1.898686e+08</td>\n",
       "      <td>Tedros Adhanom Ghebreyesus</td>\n",
       "      <td>True</td>\n",
       "      <td>DrTedros</td>\n",
       "      <td>Switzerland|CH</td>\n",
       "      <td>Location</td>\n",
       "      <td>164.0</td>\n",
       "      <td>890.0</td>\n",
       "    </tr>\n",
       "    <tr>\n",
       "      <th>1</th>\n",
       "      <td>1.177536e+08</td>\n",
       "      <td>Timbalan Pengarah J-KOM</td>\n",
       "      <td>fakrul07</td>\n",
       "      <td>1423506836423020548</td>\n",
       "      <td>Quote</td>\n",
       "      <td>NaN</td>\n",
       "      <td>NaN</td>\n",
       "      <td>NaN</td>\n",
       "      <td>NaN</td>\n",
       "      <td>NaN</td>\n",
       "      <td>...</td>\n",
       "      <td>1.423460e+18</td>\n",
       "      <td>Fri Aug 06 01:46:11 +0000 2021</td>\n",
       "      <td>1.314752e+08</td>\n",
       "      <td>Dr. Kumar (PSM)</td>\n",
       "      <td>False</td>\n",
       "      <td>kumarPsm</td>\n",
       "      <td>NaN</td>\n",
       "      <td>NaN</td>\n",
       "      <td>43.0</td>\n",
       "      <td>112.0</td>\n",
       "    </tr>\n",
       "    <tr>\n",
       "      <th>2</th>\n",
       "      <td>2.310111e+09</td>\n",
       "      <td>Journey Home to Singapore</td>\n",
       "      <td>journeyhometosg</td>\n",
       "      <td>1423506851417640960</td>\n",
       "      <td>Quote</td>\n",
       "      <td>NaN</td>\n",
       "      <td>NaN</td>\n",
       "      <td>NaN</td>\n",
       "      <td>NaN</td>\n",
       "      <td>NaN</td>\n",
       "      <td>...</td>\n",
       "      <td>1.423352e+18</td>\n",
       "      <td>Thu Aug 05 18:34:12 +0000 2021</td>\n",
       "      <td>2.313028e+09</td>\n",
       "      <td>Jennifer Zeng 曾錚</td>\n",
       "      <td>False</td>\n",
       "      <td>jenniferatntd</td>\n",
       "      <td>United States|US</td>\n",
       "      <td>Location</td>\n",
       "      <td>33.0</td>\n",
       "      <td>146.0</td>\n",
       "    </tr>\n",
       "    <tr>\n",
       "      <th>3</th>\n",
       "      <td>4.560504e+08</td>\n",
       "      <td>Nathalie Gourd</td>\n",
       "      <td>NGourd</td>\n",
       "      <td>1423506861001748482</td>\n",
       "      <td>Quote</td>\n",
       "      <td>NaN</td>\n",
       "      <td>NaN</td>\n",
       "      <td>NaN</td>\n",
       "      <td>NaN</td>\n",
       "      <td>NaN</td>\n",
       "      <td>...</td>\n",
       "      <td>1.423294e+18</td>\n",
       "      <td>Thu Aug 05 14:44:02 +0000 2021</td>\n",
       "      <td>3.839512e+07</td>\n",
       "      <td>franceinfo</td>\n",
       "      <td>True</td>\n",
       "      <td>franceinfo</td>\n",
       "      <td>France|FR</td>\n",
       "      <td>Location</td>\n",
       "      <td>240.0</td>\n",
       "      <td>696.0</td>\n",
       "    </tr>\n",
       "    <tr>\n",
       "      <th>4</th>\n",
       "      <td>1.202498e+18</td>\n",
       "      <td>mahisha</td>\n",
       "      <td>corgisha</td>\n",
       "      <td>1423506872175251459</td>\n",
       "      <td>Retweet</td>\n",
       "      <td>NaN</td>\n",
       "      <td>NaN</td>\n",
       "      <td>NaN</td>\n",
       "      <td>1.423205e+18</td>\n",
       "      <td>Thu Aug 05 08:51:15 +0000 2021</td>\n",
       "      <td>...</td>\n",
       "      <td>NaN</td>\n",
       "      <td>NaN</td>\n",
       "      <td>NaN</td>\n",
       "      <td>NaN</td>\n",
       "      <td>NaN</td>\n",
       "      <td>NaN</td>\n",
       "      <td>NaN</td>\n",
       "      <td>NaN</td>\n",
       "      <td>NaN</td>\n",
       "      <td>NaN</td>\n",
       "    </tr>\n",
       "  </tbody>\n",
       "</table>\n",
       "<p>5 rows × 29 columns</p>\n",
       "</div>"
      ],
      "text/plain": [
       "        user_id                  user_name  user_screenname  \\\n",
       "0  1.223307e+18                Coronavirus      JayChance12   \n",
       "1  1.177536e+08    Timbalan Pengarah J-KOM         fakrul07   \n",
       "2  2.310111e+09  Journey Home to Singapore  journeyhometosg   \n",
       "3  4.560504e+08             Nathalie Gourd           NGourd   \n",
       "4  1.202498e+18                    mahisha         corgisha   \n",
       "\n",
       "              tweet_id tweet_enagagement_type replied_to_tweet_id  \\\n",
       "0  1423506816089133057                  Quote                 NaN   \n",
       "1  1423506836423020548                  Quote                 NaN   \n",
       "2  1423506851417640960                  Quote                 NaN   \n",
       "3  1423506861001748482                  Quote                 NaN   \n",
       "4  1423506872175251459                Retweet                 NaN   \n",
       "\n",
       "  replied_to_user_id replied_to_user_screenname  retweeted_tweet_id  \\\n",
       "0                NaN                        NaN                 NaN   \n",
       "1                NaN                        NaN                 NaN   \n",
       "2                NaN                        NaN                 NaN   \n",
       "3                NaN                        NaN                 NaN   \n",
       "4                NaN                        NaN        1.423205e+18   \n",
       "\n",
       "             retweeted_tweet_time  ...  quoted_tweet_id  \\\n",
       "0                             NaN  ...     1.423391e+18   \n",
       "1                             NaN  ...     1.423460e+18   \n",
       "2                             NaN  ...     1.423352e+18   \n",
       "3                             NaN  ...     1.423294e+18   \n",
       "4  Thu Aug 05 08:51:15 +0000 2021  ...              NaN   \n",
       "\n",
       "                quoted_tweet_time quoted_user_id            quoted_user_name  \\\n",
       "0  Thu Aug 05 21:09:49 +0000 2021   1.898686e+08  Tedros Adhanom Ghebreyesus   \n",
       "1  Fri Aug 06 01:46:11 +0000 2021   1.314752e+08             Dr. Kumar (PSM)   \n",
       "2  Thu Aug 05 18:34:12 +0000 2021   2.313028e+09            Jennifer Zeng 曾錚   \n",
       "3  Thu Aug 05 14:44:02 +0000 2021   3.839512e+07                  franceinfo   \n",
       "4                             NaN            NaN                         NaN   \n",
       "\n",
       "  quoted_user_verified quoted_user_screenname  quoted_user_geo_coding  \\\n",
       "0                 True               DrTedros          Switzerland|CH   \n",
       "1                False               kumarPsm                     NaN   \n",
       "2                False          jenniferatntd        United States|US   \n",
       "3                 True             franceinfo               France|FR   \n",
       "4                  NaN                    NaN                     NaN   \n",
       "\n",
       "   quoted_user_geo_coding_type quoted_retweet_count  quoted_favorite_count  \n",
       "0                     Location                164.0                  890.0  \n",
       "1                          NaN                 43.0                  112.0  \n",
       "2                     Location                 33.0                  146.0  \n",
       "3                     Location                240.0                  696.0  \n",
       "4                          NaN                  NaN                    NaN  \n",
       "\n",
       "[5 rows x 29 columns]"
      ]
     },
     "execution_count": 10,
     "metadata": {},
     "output_type": "execute_result"
    }
   ],
   "source": [
    "tw_eng_data.head(5)"
   ]
  },
  {
   "cell_type": "markdown",
   "id": "5fc0a7f8-282e-44d6-b761-e85620f3a35b",
   "metadata": {},
   "source": [
    "##### Inner join of tweets and related engagement data "
   ]
  },
  {
   "cell_type": "code",
   "execution_count": 11,
   "id": "69b68f52-ec20-40c4-915a-9ee04ee581c8",
   "metadata": {},
   "outputs": [
    {
     "data": {
      "text/plain": [
       "(429877, 47)"
      ]
     },
     "execution_count": 11,
     "metadata": {},
     "output_type": "execute_result"
    }
   ],
   "source": [
    "tweets_data = tw_data.merge(tw_eng_data, on=\"tweet_id\", how = 'inner')\n",
    "tweets_data.shape"
   ]
  },
  {
   "cell_type": "markdown",
   "id": "924d9e93-8dcd-4b71-aab2-3b52f62a7b46",
   "metadata": {},
   "source": [
    "# 3. Cleaning and processing the data <a id=\"cell3\"></a>"
   ]
  },
  {
   "cell_type": "code",
   "execution_count": 12,
   "id": "8232e606-e859-444d-9b6b-e90cfda12c26",
   "metadata": {},
   "outputs": [
    {
     "data": {
      "text/plain": [
       "Index(['tweet_text', 'tweet_time', 'tweet_id', 'tweet_lang',\n",
       "       'tweet_possibly_sensitive', 'entity_image_url', 'entity_mentions',\n",
       "       'entity_hashtags', 'entity_link_url', 'user_id_x', 'user_name_x',\n",
       "       'user_screenname_x', 'user_friends_count', 'user_followers_count',\n",
       "       'user_verified', 'user_location', 'user_desc', 'user_geo_coding',\n",
       "       'user_geo_tagging', 'user_id_y', 'user_name_y', 'user_screenname_y',\n",
       "       'tweet_enagagement_type', 'replied_to_tweet_id', 'replied_to_user_id',\n",
       "       'replied_to_user_screenname', 'retweeted_tweet_id',\n",
       "       'retweeted_tweet_time', 'retweeted_user_id', 'retweeted_user_name',\n",
       "       'retweeted_user_verified', 'retweeted_user_screenname',\n",
       "       'retweeted_user_geo_coding', 'retweeted_user_geo_coding_type',\n",
       "       'retweeted_retweet_count', 'retweeted_favorite_count',\n",
       "       'quoted_tweet_text', 'quoted_tweet_id', 'quoted_tweet_time',\n",
       "       'quoted_user_id', 'quoted_user_name', 'quoted_user_verified',\n",
       "       'quoted_user_screenname', 'quoted_user_geo_coding',\n",
       "       'quoted_user_geo_coding_type', 'quoted_retweet_count',\n",
       "       'quoted_favorite_count'],\n",
       "      dtype='object')"
      ]
     },
     "execution_count": 12,
     "metadata": {},
     "output_type": "execute_result"
    }
   ],
   "source": [
    "tweets_data.columns"
   ]
  },
  {
   "cell_type": "code",
   "execution_count": 13,
   "id": "a4a24755-5f17-4770-9d5f-78603c023d40",
   "metadata": {},
   "outputs": [
    {
     "data": {
      "text/plain": [
       "9           https://pbs.twimg.com/media/E71g09BVkAQ9wGv.jpg\n",
       "21          https://pbs.twimg.com/media/E8FPGNyVIAAsIzr.png\n",
       "27          https://pbs.twimg.com/media/E8CUEqGXsAAwEZ6.jpg\n",
       "45          https://pbs.twimg.com/media/E8FGnuKXEAEx98L.jpg\n",
       "57          https://pbs.twimg.com/media/E8FExRBUUAYg2Pn.jpg\n",
       "                                ...                        \n",
       "429845      https://pbs.twimg.com/media/CzOfbSnUkAEO2E9.jpg\n",
       "429853      https://pbs.twimg.com/media/E-91vzUVcAEGEm0.jpg\n",
       "429855      https://pbs.twimg.com/media/E-92RKhUYAMiyv6.png\n",
       "429873    https://pbs.twimg.com/ext_tw_video_thumb/14361...\n",
       "429874    https://pbs.twimg.com/ext_tw_video_thumb/14364...\n",
       "Name: entity_image_url, Length: 28704, dtype: object"
      ]
     },
     "execution_count": 13,
     "metadata": {},
     "output_type": "execute_result"
    }
   ],
   "source": [
    "tweets_data[tweets_data['entity_image_url'].notna()]['entity_image_url']"
   ]
  },
  {
   "cell_type": "markdown",
   "id": "2fe64ed0-fca7-4502-9133-0aa5d75cae7a",
   "metadata": {},
   "source": [
    "### 3.1. Datetime cleanup and formatting <a id=\"cell31\"></a>"
   ]
  },
  {
   "cell_type": "markdown",
   "id": "834d6cb6-7e3e-4770-a5ca-ac6c499cc6e7",
   "metadata": {},
   "source": [
    "##### Converting to pandas datetime and dropping tweets with improper datetime e.g., string type"
   ]
  },
  {
   "cell_type": "code",
   "execution_count": 14,
   "id": "5ac6102e-1c15-4dab-83b9-533338191746",
   "metadata": {},
   "outputs": [],
   "source": [
    "tweets_data['tweet_time'] = pd.to_datetime(tweets_data['tweet_time'], errors='coerce')\n",
    "tweets_data = tweets_data.dropna(subset=['tweet_time'])"
   ]
  },
  {
   "cell_type": "markdown",
   "id": "1b9c1928-61d4-4875-8b4c-ff26cb87710b",
   "metadata": {},
   "source": [
    "##### Adding columns `tweet_datetime` and `tweet_date` for further analyses"
   ]
  },
  {
   "cell_type": "code",
   "execution_count": 15,
   "id": "8ff5d4e6-df69-4393-bf31-94791fb468a1",
   "metadata": {},
   "outputs": [],
   "source": [
    "tweets_data['tweet_datetime'] = tweets_data.tweet_time.dt.strftime('%Y-%m-%d %H')\n",
    "tweets_data['tweet_date'] = tweets_data.tweet_time.dt.strftime('%Y-%m-%d')"
   ]
  },
  {
   "cell_type": "markdown",
   "id": "9bf6839d-23a1-4fc2-b1be-29ef7c82ffb5",
   "metadata": {},
   "source": [
    "### 3.2. Geocoding fixes <a id=\"cell32\"></a>"
   ]
  },
  {
   "cell_type": "markdown",
   "id": "4208a9da-cb04-457f-905e-135806bed212",
   "metadata": {},
   "source": [
    "#### What is **geocoding** here? \n",
    "Inferring a user's country. \n",
    "\n",
    "#### How is geocoding done during data collection?\n",
    "1. **Coordinate**: If not nullable, latitude, longitude data in \n",
    "`coordinates` object are used to fetch the country using the \n",
    "[Geocoder library] (https://geocoder.readthedocs.io/), ELSE\n",
    "2. **Place**: If not nullable, Twitter API provides a user's country in the `place` object, ELSE\n",
    "3. **User-defined location**: (1) [spaCy](https://github.com/explosion/spaCy) \n",
    "to process any place entity in the `location` string (2) Geocoder to fetch the country, ELSE\n",
    "4. **User-defined description**: (1) [spaCy](https://github.com/explosion/spaCy) \n",
    "to process any place entity in the `description` string (2) Geocoder to fetch the country\n",
    "\n",
    "Tweets that are not geocoded are rejected. "
   ]
  },
  {
   "cell_type": "markdown",
   "id": "5c60f5c1-5826-4126-bd78-9bd808089512",
   "metadata": {},
   "source": [
    "#### 3.2.1. Replacing nan with 'Unknown' "
   ]
  },
  {
   "cell_type": "code",
   "execution_count": 16,
   "id": "6d1a82aa-4617-4f34-8a60-57aea4736109",
   "metadata": {},
   "outputs": [],
   "source": [
    "tweets_data['quoted_user_geo_coding'].fillna(value='Unknown', inplace=True)\n",
    "tweets_data['retweeted_user_geo_coding'].fillna(value='Unknown', inplace=True)\n",
    "tweets_data['user_geo_coding'].fillna(value='Unknown', inplace=True)"
   ]
  },
  {
   "cell_type": "markdown",
   "id": "485b7b30-e2d6-43c0-9951-e6d699ae8584",
   "metadata": {},
   "source": [
    "##### Visualizing the distribution of geocoded tweets "
   ]
  },
  {
   "cell_type": "code",
   "execution_count": 17,
   "id": "d8f8a454-760d-4b9e-8622-41fa167521f6",
   "metadata": {},
   "outputs": [
    {
     "data": {
      "image/png": "[encoded data removed]",
      "text/plain": [
       "<Figure size 432x288 with 1 Axes>"
      ]
     },
     "metadata": {
      "needs_background": "light"
     },
     "output_type": "display_data"
    }
   ],
   "source": [
    "geocoded_tw_data = tweets_data['user_geo_coding']\n",
    "\n",
    "count_geocoded_tw_data = col.Counter(geocoded_tw_data)\n",
    "count_geocoded_tw_data = count_geocoded_tw_data.most_common()\n",
    "\n",
    "# top X countries\n",
    "TOP_X = 15\n",
    "countries = [c[0].split('|')[0] for c in count_geocoded_tw_data[:TOP_X]]\n",
    "counts = [c[1] for c in count_geocoded_tw_data[:TOP_X]]\n",
    "\n",
    "plt.barh(countries[::-1], counts[::-1])\n",
    " \n",
    "plt.ylabel(\"Country\")\n",
    "plt.xlabel(\"Tweets Count\")\n",
    "plt.xticks(rotation=45)\n",
    "plt.title(\"Distribution of tweets geocoded country\")\n",
    "plt.show()"
   ]
  },
  {
   "cell_type": "markdown",
   "id": "f25647c0-27cc-4c37-8ed8-3ded4aaee9e6",
   "metadata": {},
   "source": [
    "#### **Bug fixing**: Users whose location contains a `specific region in Singapore` (e.g., West Singpore, North-east regions) are erroneously coded as `Uganda`"
   ]
  },
  {
   "cell_type": "markdown",
   "id": "464776dd-5bff-4441-8b31-d42cc5aa9aea",
   "metadata": {},
   "source": [
    "##### Looking for random examples with this error"
   ]
  },
  {
   "cell_type": "code",
   "execution_count": 18,
   "id": "1f79564b-ad0f-45fd-a06b-5db673dd4064",
   "metadata": {},
   "outputs": [
    {
     "name": "stdout",
     "output_type": "stream",
     "text": [
      "https://twitter.com/thomasquek\n",
      "https://twitter.com/NrLuqman_\n",
      "https://twitter.com/syedkhalleff\n",
      "https://twitter.com/syariqmarican\n",
      "https://twitter.com/sgbengtwink\n"
     ]
    }
   ],
   "source": [
    "wrong_geocoded_uganda_users  = list(tweets_data[tweets_data['user_geo_coding'] == 'Uganda|UG']['user_screenname_x'].unique())\n",
    "for _ in range(5):\n",
    "    print(\"https://twitter.com/\" + random.choice(wrong_geocoded_uganda_users))"
   ]
  },
  {
   "cell_type": "code",
   "execution_count": 19,
   "id": "fec53061-38e3-420e-a824-274bb6d294e1",
   "metadata": {},
   "outputs": [
    {
     "name": "stdout",
     "output_type": "stream",
     "text": [
      "641\n",
      "22\n",
      "78\n"
     ]
    }
   ],
   "source": [
    "print(tweets_data[tweets_data['user_geo_coding'] == 'Uganda|UG']['user_screenname_x'].nunique())\n",
    "print(tweets_data[tweets_data['quoted_user_geo_coding'] == 'Uganda|UG']['user_screenname_x'].nunique())\n",
    "print(tweets_data[tweets_data['retweeted_user_geo_coding'] == 'Uganda|UG']['user_screenname_x'].nunique())"
   ]
  },
  {
   "cell_type": "markdown",
   "id": "4f37a813-ee75-493f-8e67-970433876080",
   "metadata": {},
   "source": [
    "#### 3.2.2. Replacing \"Uganda|UG\" with \"Singapore|SG\""
   ]
  },
  {
   "cell_type": "code",
   "execution_count": 20,
   "id": "e43034af-f314-463e-ab94-3523bbe1715e",
   "metadata": {},
   "outputs": [],
   "source": [
    "tweets_data['user_geo_coding'].replace(['Uganda|UG'], 'Singapore|SG', inplace=True)\n",
    "tweets_data['retweeted_user_geo_coding'].replace(['Uganda|UG'], 'Singapore|SG', inplace=True)\n",
    "tweets_data['quoted_user_geo_coding'].replace(['Uganda|UG'], 'Singapore|SG', inplace=True)"
   ]
  },
  {
   "cell_type": "markdown",
   "id": "83b156bd-1c27-470e-ae64-f9c4ff55826b",
   "metadata": {},
   "source": [
    "#### 3.2.3. Remove the country code from the data (not required)"
   ]
  },
  {
   "cell_type": "code",
   "execution_count": 21,
   "id": "9cb79927-7b3f-43b3-9f82-6e082037e2f9",
   "metadata": {},
   "outputs": [],
   "source": [
    "tweets_data['quoted_user_geo_coding'] = [c.split('|')[0] for c in tweets_data['quoted_user_geo_coding']]\n",
    "tweets_data['retweeted_user_geo_coding'] = [c.split('|')[0] for c in tweets_data['retweeted_user_geo_coding']]\n",
    "tweets_data['user_geo_coding'] = [c.split('|')[0] for c in tweets_data['user_geo_coding']]"
   ]
  },
  {
   "cell_type": "markdown",
   "id": "15be51c0-016a-4573-bb11-707cc2087bc6",
   "metadata": {},
   "source": [
    "#### 3.2.4. Fixing **users with multiple geocoded countries**   \n",
    "\n",
    "TODO: Fix this during data collection with the help of memoization\n",
    "\n",
    "1. Geocoded countries is ``greater than 2`` \n",
    "    - Highly errorneos, set 'Unknown'\n",
    "2. Geocoded countries count ``is 2`` \n",
    "    - If one of the geocodings is 'Unknown' then set the 'other' known location|\n",
    "    -  If both the geocodings != 'Unknown' then set both to 'Unknown' (dubious case) "
   ]
  },
  {
   "cell_type": "code",
   "execution_count": 22,
   "id": "52ef2dea-2193-41c9-a1d4-e88dc0f370b0",
   "metadata": {},
   "outputs": [],
   "source": [
    "# getting count of users' decoded locations \n",
    "# -- TODO what about quoted_user_screenname retweeted_user_screenname\n",
    "users_geocode_country_count = tweets_data.groupby('user_screenname_x')['user_geo_coding'].nunique().reset_index(name='count')\n",
    "# users_geocode_country_count[users_geocode_country_count['count'] > 1].sort_values(by='count', ascending=False)"
   ]
  },
  {
   "cell_type": "code",
   "execution_count": 23,
   "id": "c743a466-10c9-4781-a96b-d36e56e8b5da",
   "metadata": {},
   "outputs": [],
   "source": [
    "# list of countries with geocoding > 2\n",
    "users_geocode_country_count_gtr_2 = users_geocode_country_count[users_geocode_country_count['count'] > 2]['user_screenname_x'].unique()\n",
    "\n",
    "# Setting location to 'Unknown'\n",
    "tweets_data.loc[tweets_data['user_screenname_x'].isin(users_geocode_country_count_gtr_2), 'user_geo_coding'] = 'Unknown'\n",
    "tweets_data.loc[tweets_data['user_screenname_x'].isin(users_geocode_country_count_gtr_2), 'retweeted_user_geo_coding'] = 'Unknown'\n",
    "tweets_data.loc[tweets_data['user_screenname_x'].isin(users_geocode_country_count_gtr_2), 'retweeted_user_geo_coding'] = 'Unknown'"
   ]
  },
  {
   "cell_type": "code",
   "execution_count": 24,
   "id": "426b498d-0830-4304-9bc3-cec3d6e01da4",
   "metadata": {},
   "outputs": [
    {
     "data": {
      "text/plain": [
       "1437"
      ]
     },
     "execution_count": 24,
     "metadata": {},
     "output_type": "execute_result"
    }
   ],
   "source": [
    "# TODO: Fix this elegantly\n",
    "users_geocode_country_count_eq_2 = users_geocode_country_count[users_geocode_country_count['count'] == 2]['user_screenname_x']#.unique()\n",
    "len(users_geocode_country_count_eq_2)"
   ]
  },
  {
   "cell_type": "markdown",
   "id": "59921755-6949-44ae-bb5d-d99b098edf82",
   "metadata": {},
   "source": [
    "##### Distribution of geo-coded tweets after corrections"
   ]
  },
  {
   "cell_type": "code",
   "execution_count": 25,
   "id": "77727c97-5de9-4c8d-9c30-c01742985a99",
   "metadata": {},
   "outputs": [],
   "source": [
    "geocoded_tw_data = tweets_data['user_geo_coding']\n",
    "\n",
    "count_geocoded_tw_data = col.Counter(geocoded_tw_data)\n",
    "count_geocoded_tw_data = count_geocoded_tw_data.most_common()"
   ]
  },
  {
   "cell_type": "code",
   "execution_count": 26,
   "id": "3eff2945-04ca-4180-bee4-779a4bb79be6",
   "metadata": {},
   "outputs": [
    {
     "data": {
      "image/png": "[encoded data removed]",
      "text/plain": [
       "<Figure size 432x288 with 1 Axes>"
      ]
     },
     "metadata": {
      "needs_background": "light"
     },
     "output_type": "display_data"
    }
   ],
   "source": [
    "# top X countries\n",
    "TOP_X = 15\n",
    "countries = [c[0].split('|')[0] for c in count_geocoded_tw_data[:TOP_X]]\n",
    "counts = [c[1] for c in count_geocoded_tw_data[:TOP_X]]\n",
    "\n",
    "plt.barh(countries[::-1], counts[::-1])\n",
    " \n",
    "plt.ylabel(\"Country\")\n",
    "plt.xlabel(\"Tweets Count\")\n",
    "plt.xticks(rotation=45)\n",
    "plt.title(\"Distribution of tweets location using geo coding\")\n",
    "plt.show()"
   ]
  },
  {
   "cell_type": "markdown",
   "id": "a78aaaf8-43c4-4327-9a1e-b8080e366bbf",
   "metadata": {},
   "source": [
    "### 3.3. Filtering out non-Singapore accounts - reducing false positives and false negatives <a id=\"cell33\"></a>"
   ]
  },
  {
   "cell_type": "code",
   "execution_count": 27,
   "id": "4fc3287c-9b9f-4269-b6c5-1e21847f9603",
   "metadata": {},
   "outputs": [
    {
     "data": {
      "text/plain": [
       "(181423, 49)"
      ]
     },
     "execution_count": 27,
     "metadata": {},
     "output_type": "execute_result"
    }
   ],
   "source": [
    "sg_tweets = tweets_data[\n",
    "                    # 1. geo coded as Singapore\n",
    "#                     (tweets_data['user_geo_coding'] == 'Unknown') | \n",
    "                    (tweets_data['user_geo_coding'] == 'Singapore') | \n",
    "                    # 2. user location contains {sg, spore, singapore, singapura}\n",
    "                    (tweets_data['user_location'].str.contains('sg|spore|singapore|singapura', regex=True, case=False)) |\n",
    "                    # 3. user description contains {spore, singapore, singapura}\n",
    "                    (tweets_data['user_desc'].str.contains('spore|singapore|singapura', regex=True, case=False)) |\n",
    "                     # 4. Quoted tweets by Singaporean and \n",
    "                    ((tweets_data['quoted_user_geo_coding'] == 'Singapore') & (tweets_data['user_geo_coding'].isna())) |\n",
    "                    ((tweets_data['retweeted_user_geo_coding'] == 'Singapore') & (tweets_data['user_geo_coding'].isna()))\n",
    "            ]\n",
    "sg_tweets.shape"
   ]
  },
  {
   "cell_type": "code",
   "execution_count": 28,
   "id": "0ddf1cc0-6af3-49fc-b6c3-d10faff8a65f",
   "metadata": {},
   "outputs": [
    {
     "data": {
      "text/plain": [
       "Index(['tweet_text', 'tweet_time', 'tweet_id', 'tweet_lang',\n",
       "       'tweet_possibly_sensitive', 'entity_image_url', 'entity_mentions',\n",
       "       'entity_hashtags', 'entity_link_url', 'user_id_x', 'user_name_x',\n",
       "       'user_screenname_x', 'user_friends_count', 'user_followers_count',\n",
       "       'user_verified', 'user_location', 'user_desc', 'user_geo_coding',\n",
       "       'user_geo_tagging', 'user_id_y', 'user_name_y', 'user_screenname_y',\n",
       "       'tweet_enagagement_type', 'replied_to_tweet_id', 'replied_to_user_id',\n",
       "       'replied_to_user_screenname', 'retweeted_tweet_id',\n",
       "       'retweeted_tweet_time', 'retweeted_user_id', 'retweeted_user_name',\n",
       "       'retweeted_user_verified', 'retweeted_user_screenname',\n",
       "       'retweeted_user_geo_coding', 'retweeted_user_geo_coding_type',\n",
       "       'retweeted_retweet_count', 'retweeted_favorite_count',\n",
       "       'quoted_tweet_text', 'quoted_tweet_id', 'quoted_tweet_time',\n",
       "       'quoted_user_id', 'quoted_user_name', 'quoted_user_verified',\n",
       "       'quoted_user_screenname', 'quoted_user_geo_coding',\n",
       "       'quoted_user_geo_coding_type', 'quoted_retweet_count',\n",
       "       'quoted_favorite_count', 'tweet_datetime', 'tweet_date'],\n",
       "      dtype='object')"
      ]
     },
     "execution_count": 28,
     "metadata": {},
     "output_type": "execute_result"
    }
   ],
   "source": [
    "sg_tweets.columns"
   ]
  },
  {
   "cell_type": "code",
   "execution_count": 29,
   "id": "be6a49e8-d4b8-4102-9e56-03442bf8e244",
   "metadata": {},
   "outputs": [
    {
     "data": {
      "text/plain": [
       "13166"
      ]
     },
     "execution_count": 29,
     "metadata": {},
     "output_type": "execute_result"
    }
   ],
   "source": [
    "len(list(sg_tweets[sg_tweets['entity_image_url'].notna()]['entity_image_url']))"
   ]
  },
  {
   "cell_type": "markdown",
   "id": "7cf1b89b-a30d-4d1e-8c60-0c40a0a33b7b",
   "metadata": {},
   "source": [
    "### 3.4. Processing the tweets and quoted tweets <a id=\"cell34\"></a>"
   ]
  },
  {
   "cell_type": "code",
   "execution_count": 1,
   "id": "4bbe3e64-960e-4aef-8d25-8d24a2f05d81",
   "metadata": {},
   "outputs": [
    {
     "ename": "NameError",
     "evalue": "name 'sg_tweets' is not defined",
     "output_type": "error",
     "traceback": [
      "\u001b[0;31m---------------------------------------------------------------------------\u001b[0m",
      "\u001b[0;31mNameError\u001b[0m                                 Traceback (most recent call last)",
      "\u001b[0;32m/var/folders/mv/c151lb7j7xx6ff_q9_85p_pc0000gn/T/ipykernel_30451/362213929.py\u001b[0m in \u001b[0;36m<module>\u001b[0;34m\u001b[0m\n\u001b[0;32m----> 1\u001b[0;31m \u001b[0msg_tweets\u001b[0m\u001b[0;34m[\u001b[0m\u001b[0;34m'tweet_text'\u001b[0m\u001b[0;34m]\u001b[0m \u001b[0;34m=\u001b[0m \u001b[0;34m[\u001b[0m\u001b[0mtxt\u001b[0m\u001b[0;34m.\u001b[0m\u001b[0mreplace\u001b[0m\u001b[0;34m(\u001b[0m\u001b[0;34m'&amp;'\u001b[0m\u001b[0;34m,\u001b[0m \u001b[0;34m'&'\u001b[0m\u001b[0;34m)\u001b[0m \u001b[0;32mif\u001b[0m \u001b[0misinstance\u001b[0m\u001b[0;34m(\u001b[0m\u001b[0mtxt\u001b[0m\u001b[0;34m,\u001b[0m \u001b[0mstr\u001b[0m\u001b[0;34m)\u001b[0m \u001b[0;32melse\u001b[0m \u001b[0;34m''\u001b[0m \u001b[0;32mfor\u001b[0m \u001b[0mtxt\u001b[0m \u001b[0;32min\u001b[0m \u001b[0msg_tweets\u001b[0m\u001b[0;34m[\u001b[0m\u001b[0;34m'tweet_text'\u001b[0m\u001b[0;34m]\u001b[0m\u001b[0;34m]\u001b[0m\u001b[0;34m\u001b[0m\u001b[0;34m\u001b[0m\u001b[0m\n\u001b[0m\u001b[1;32m      2\u001b[0m \u001b[0msg_tweets\u001b[0m\u001b[0;34m[\u001b[0m\u001b[0;34m'quoted_tweet_text'\u001b[0m\u001b[0;34m]\u001b[0m \u001b[0;34m=\u001b[0m \u001b[0;34m[\u001b[0m \u001b[0mtxt\u001b[0m\u001b[0;34m.\u001b[0m\u001b[0mreplace\u001b[0m\u001b[0;34m(\u001b[0m\u001b[0;34m'&amp;'\u001b[0m\u001b[0;34m,\u001b[0m \u001b[0;34m'&'\u001b[0m\u001b[0;34m)\u001b[0m \u001b[0;32mif\u001b[0m \u001b[0misinstance\u001b[0m\u001b[0;34m(\u001b[0m\u001b[0mtxt\u001b[0m\u001b[0;34m,\u001b[0m \u001b[0mstr\u001b[0m\u001b[0;34m)\u001b[0m \u001b[0;32melse\u001b[0m \u001b[0;34m''\u001b[0m \u001b[0;32mfor\u001b[0m \u001b[0mtxt\u001b[0m \u001b[0;32min\u001b[0m \u001b[0msg_tweets\u001b[0m\u001b[0;34m[\u001b[0m\u001b[0;34m'quoted_tweet_text'\u001b[0m\u001b[0;34m]\u001b[0m\u001b[0;34m]\u001b[0m\u001b[0;34m\u001b[0m\u001b[0;34m\u001b[0m\u001b[0m\n",
      "\u001b[0;31mNameError\u001b[0m: name 'sg_tweets' is not defined"
     ]
    }
   ],
   "source": [
    "sg_tweets['tweet_text'] = [txt.replace('&amp;', '&') if isinstance(txt, str) else '' for txt in sg_tweets['tweet_text']]\n",
    "sg_tweets['quoted_tweet_text'] = [ txt.replace('&amp;', '&') if isinstance(txt, str) else '' for txt in sg_tweets['quoted_tweet_text']]"
   ]
  },
  {
   "cell_type": "markdown",
   "id": "7a5643d1-f596-434d-bd1d-f2b793440f97",
   "metadata": {},
   "source": [
    "##### Processing tweets and quoted tweets"
   ]
  },
  {
   "cell_type": "code",
   "execution_count": 31,
   "id": "634388bd-ec0e-4837-be6c-a0e1ca50ccb5",
   "metadata": {},
   "outputs": [],
   "source": [
    "from utils.process_text import TwitterDataProcessing\n",
    "pre = TwitterDataProcessing()"
   ]
  },
  {
   "cell_type": "markdown",
   "id": "82d7cbf5-9b65-4077-a4ae-69de7e1755b1",
   "metadata": {
    "tags": []
   },
   "source": [
    "### 3.5. Predicting sentiment of tweets and quoted tweets <a id=\"cell35\"></a>"
   ]
  },
  {
   "cell_type": "code",
   "execution_count": 32,
   "id": "531b44fe-a831-4cd2-bee2-b09642601623",
   "metadata": {},
   "outputs": [],
   "source": [
    "processed_tweets = [pre.clean_text(text) for text in sg_tweets['tweet_text']]\n",
    "sg_tweets['processed_tweet_text'] = processed_tweets\n",
    "\n",
    "processed_quoted_tweets = [pre.clean_text(text) if isinstance(text, str) == True else '' for text in sg_tweets['quoted_tweet_text']]\n",
    "sg_tweets['processed_quoted_tweet_text'] = processed_quoted_tweets"
   ]
  },
  {
   "cell_type": "markdown",
   "id": "102debbb-2182-41f2-9153-e822c6909154",
   "metadata": {},
   "source": [
    "##### Adding predicted sentiment for tweets and quoted tweets using off the shelf VADER"
   ]
  },
  {
   "cell_type": "markdown",
   "id": "02d341db-6f13-4e4f-b53a-7730feb9577c",
   "metadata": {},
   "source": [
    "Predicting tweets and quoted tweets sentiments"
   ]
  },
  {
   "cell_type": "code",
   "execution_count": 33,
   "id": "c626cac8-c3d9-4a7e-b574-b8d375d17fca",
   "metadata": {},
   "outputs": [],
   "source": [
    "from vaderSentiment.vaderSentiment import SentimentIntensityAnalyzer\n",
    "\n",
    "analyzer = SentimentIntensityAnalyzer()\n",
    "def get_sentiment(doc):\n",
    "    score = analyzer.polarity_scores(doc)['compound']\n",
    "    # As per vader's repo : https://github.com/cjhutto/vaderSentiment\n",
    "    if score >= 0.05:\n",
    "        sentiment = \"positive\"\n",
    "    elif score <= -0.05:\n",
    "\n",
    "        sentiment = \"negative\"\n",
    "    else:\n",
    "        sentiment = \"neutral\"\n",
    "    return sentiment"
   ]
  },
  {
   "cell_type": "code",
   "execution_count": 34,
   "id": "b8f79374-76e1-40c3-ad82-b61a26234001",
   "metadata": {},
   "outputs": [],
   "source": [
    "tw_sentiment = [get_sentiment(text) for text in sg_tweets['processed_tweet_text']]\n",
    "sg_tweets['tweet_sentiment'] = tw_sentiment\n",
    "\n",
    "quoted_tw_sentiment = [get_sentiment(text) if text != '' else None for text in sg_tweets['processed_quoted_tweet_text']]\n",
    "sg_tweets['quoted_tweet_sentiment'] = quoted_tw_sentiment"
   ]
  },
  {
   "cell_type": "code",
   "execution_count": 35,
   "id": "ea982645-57e5-4959-b540-c8c8c621f1d9",
   "metadata": {},
   "outputs": [],
   "source": [
    "# df_hashtags_data = pd.DataFrame(data=hashtags_data)\n",
    "# pd.DataFrame.to_csv(df_sentiments, \"data/output/basics/sentiments.csv\")"
   ]
  },
  {
   "cell_type": "code",
   "execution_count": 36,
   "id": "a635ddf6-45df-4a65-a583-20f22a785d5b",
   "metadata": {},
   "outputs": [
    {
     "name": "stdout",
     "output_type": "stream",
     "text": [
      "---- Duration ---\n",
      "From 2021-08-04 to 2021-09-24 \n",
      "\n",
      "---- Tweets count---\n",
      "181423 \n",
      "\n",
      "---- Attributes---\n"
     ]
    },
    {
     "data": {
      "text/plain": [
       "Index(['tweet_text', 'tweet_time', 'tweet_id', 'tweet_lang',\n",
       "       'tweet_possibly_sensitive', 'entity_image_url', 'entity_mentions',\n",
       "       'entity_hashtags', 'entity_link_url', 'user_id_x', 'user_name_x',\n",
       "       'user_screenname_x', 'user_friends_count', 'user_followers_count',\n",
       "       'user_verified', 'user_location', 'user_desc', 'user_geo_coding',\n",
       "       'user_geo_tagging', 'user_id_y', 'user_name_y', 'user_screenname_y',\n",
       "       'tweet_enagagement_type', 'replied_to_tweet_id', 'replied_to_user_id',\n",
       "       'replied_to_user_screenname', 'retweeted_tweet_id',\n",
       "       'retweeted_tweet_time', 'retweeted_user_id', 'retweeted_user_name',\n",
       "       'retweeted_user_verified', 'retweeted_user_screenname',\n",
       "       'retweeted_user_geo_coding', 'retweeted_user_geo_coding_type',\n",
       "       'retweeted_retweet_count', 'retweeted_favorite_count',\n",
       "       'quoted_tweet_text', 'quoted_tweet_id', 'quoted_tweet_time',\n",
       "       'quoted_user_id', 'quoted_user_name', 'quoted_user_verified',\n",
       "       'quoted_user_screenname', 'quoted_user_geo_coding',\n",
       "       'quoted_user_geo_coding_type', 'quoted_retweet_count',\n",
       "       'quoted_favorite_count', 'tweet_datetime', 'tweet_date',\n",
       "       'processed_tweet_text', 'processed_quoted_tweet_text',\n",
       "       'tweet_sentiment', 'quoted_tweet_sentiment'],\n",
       "      dtype='object')"
      ]
     },
     "execution_count": 36,
     "metadata": {},
     "output_type": "execute_result"
    }
   ],
   "source": [
    "print(\"---- Duration ---\")\n",
    "print(\"From {} to {} \\n\".format(sg_tweets['tweet_date'].min(), sg_tweets['tweet_date'].max()))\n",
    "\n",
    "print(\"---- Tweets count---\")\n",
    "print(sg_tweets.shape[0], '\\n')\n",
    "\n",
    "print(\"---- Attributes---\")\n",
    "sg_tweets.columns"
   ]
  },
  {
   "cell_type": "markdown",
   "id": "d745fc3a-d0f2-4dcb-85c5-91c6d408fff9",
   "metadata": {},
   "source": [
    "#### Saving the final data with curated sg-tweets for analysis"
   ]
  },
  {
   "cell_type": "code",
   "execution_count": 37,
   "id": "fc36772d-6bc0-4534-ab71-5a448b9f4d40",
   "metadata": {},
   "outputs": [],
   "source": [
    "sg_tweets = sg_tweets.loc[:, ~sg_tweets.columns.str.contains('^Unnamed')]\n",
    "pd.DataFrame.to_csv(sg_tweets, DATA_PATH + \"sg.csv\")"
   ]
  },
  {
   "cell_type": "markdown",
   "id": "042e8ccb-804e-4a05-8e9f-af7d8c5573bd",
   "metadata": {},
   "source": [
    "## 4. Exploratory data analysis of Singapore geo-coded tweets <a id=\"cell4\"></a>"
   ]
  },
  {
   "cell_type": "markdown",
   "id": "d20684b6-926e-48eb-8e62-3121c9ecc6a7",
   "metadata": {},
   "source": [
    "### 4.1. Basics <a id=\"cell41\"></a>"
   ]
  },
  {
   "cell_type": "code",
   "execution_count": 38,
   "id": "c816f3e1-3eeb-4e1a-b983-2f8f63d10785",
   "metadata": {},
   "outputs": [],
   "source": [
    "DATA_PATH = '../data/'"
   ]
  },
  {
   "cell_type": "code",
   "execution_count": 39,
   "id": "fbe50c62-092a-44db-9de1-8ee9481c2495",
   "metadata": {},
   "outputs": [
    {
     "data": {
      "text/plain": [
       "(181423, 54)"
      ]
     },
     "execution_count": 39,
     "metadata": {},
     "output_type": "execute_result"
    }
   ],
   "source": [
    "sg_tweets = pd.read_csv(DATA_PATH + \"sg.csv\")\n",
    "sg_tweets.shape"
   ]
  },
  {
   "cell_type": "code",
   "execution_count": 40,
   "id": "62288fad-722a-475e-9e0e-17f7ead789ef",
   "metadata": {},
   "outputs": [
    {
     "data": {
      "text/plain": [
       "(181423, 54)"
      ]
     },
     "execution_count": 40,
     "metadata": {},
     "output_type": "execute_result"
    }
   ],
   "source": [
    "sg_tweets.shape"
   ]
  },
  {
   "cell_type": "code",
   "execution_count": 248,
   "id": "d891901e-62be-4bd7-b253-baafd32fbd85",
   "metadata": {},
   "outputs": [
    {
     "data": {
      "text/plain": [
       "(5652,)"
      ]
     },
     "execution_count": 248,
     "metadata": {},
     "output_type": "execute_result"
    }
   ],
   "source": [
    "sg_tweets[sg_tweets['user_geo_tagging'].notna()]['user_geo_tagging'].shape"
   ]
  },
  {
   "cell_type": "code",
   "execution_count": 249,
   "id": "1247781f-2d74-4501-85d5-868179a0f295",
   "metadata": {},
   "outputs": [
    {
     "data": {
      "text/plain": [
       "['PLACE|Central Region, Singapore|Singapore|SG',\n",
       " 'PLACE|North Region, Singapore|Singapore|SG',\n",
       " 'LOC|103.856|1.29306',\n",
       " 'PLACE|Central Region, Singapore|Singapore|SG',\n",
       " 'LOC|103.96249|1.3342204',\n",
       " 'LOC|103.78281|1.2880261',\n",
       " 'PLACE|West Region, Singapore|Singapore|SG',\n",
       " 'LOC|103.856|1.29306',\n",
       " 'PLACE|North Carolina, USA|United States|US',\n",
       " 'LOC|103.84911723|1.33242843']"
      ]
     },
     "execution_count": 249,
     "metadata": {},
     "output_type": "execute_result"
    }
   ],
   "source": [
    "sg_tweets[sg_tweets['user_geo_tagging'].notna()]['user_geo_tagging'].tolist()[:10]"
   ]
  },
  {
   "cell_type": "code",
   "execution_count": null,
   "id": "d31d39fb-7a6a-4e8c-9158-31e0ddcf0ced",
   "metadata": {},
   "outputs": [],
   "source": [
    " "
   ]
  },
  {
   "cell_type": "code",
   "execution_count": 250,
   "id": "0f292ef9-12f1-4891-b9c7-83143cf5068b",
   "metadata": {},
   "outputs": [
    {
     "data": {
      "text/plain": [
       "Index(['Unnamed: 0', 'tweet_text', 'tweet_time', 'tweet_id', 'tweet_lang',\n",
       "       'tweet_possibly_sensitive', 'entity_image_url', 'entity_mentions',\n",
       "       'entity_hashtags', 'entity_link_url', 'user_id_x', 'user_name_x',\n",
       "       'user_screenname_x', 'user_friends_count', 'user_followers_count',\n",
       "       'user_verified', 'user_location', 'user_desc', 'user_geo_coding',\n",
       "       'user_geo_tagging', 'user_id_y', 'user_name_y', 'user_screenname_y',\n",
       "       'tweet_enagagement_type', 'replied_to_tweet_id', 'replied_to_user_id',\n",
       "       'replied_to_user_screenname', 'retweeted_tweet_id',\n",
       "       'retweeted_tweet_time', 'retweeted_user_id', 'retweeted_user_name',\n",
       "       'retweeted_user_verified', 'retweeted_user_screenname',\n",
       "       'retweeted_user_geo_coding', 'retweeted_user_geo_coding_type',\n",
       "       'retweeted_retweet_count', 'retweeted_favorite_count',\n",
       "       'quoted_tweet_text', 'quoted_tweet_id', 'quoted_tweet_time',\n",
       "       'quoted_user_id', 'quoted_user_name', 'quoted_user_verified',\n",
       "       'quoted_user_screenname', 'quoted_user_geo_coding',\n",
       "       'quoted_user_geo_coding_type', 'quoted_retweet_count',\n",
       "       'quoted_favorite_count', 'tweet_datetime', 'tweet_date',\n",
       "       'processed_tweet_text', 'processed_quoted_tweet_text',\n",
       "       'tweet_sentiment', 'quoted_tweet_sentiment'],\n",
       "      dtype='object')"
      ]
     },
     "execution_count": 250,
     "metadata": {},
     "output_type": "execute_result"
    }
   ],
   "source": [
    "sg_tweets.columns"
   ]
  },
  {
   "cell_type": "code",
   "execution_count": null,
   "id": "104972c3-cc41-4cf1-a8ff-1196e55f53bf",
   "metadata": {},
   "outputs": [],
   "source": []
  },
  {
   "cell_type": "code",
   "execution_count": null,
   "id": "edc6fd2e-91be-4995-8129-7313f6cba772",
   "metadata": {},
   "outputs": [],
   "source": []
  },
  {
   "cell_type": "code",
   "execution_count": null,
   "id": "b741cfba-52ad-46a6-9dc6-b6d1ff39f756",
   "metadata": {},
   "outputs": [],
   "source": []
  },
  {
   "cell_type": "code",
   "execution_count": null,
   "id": "8a9d353d-e89c-4c95-80f2-7b42b9084da5",
   "metadata": {},
   "outputs": [],
   "source": []
  },
  {
   "cell_type": "code",
   "execution_count": null,
   "id": "23670f4d-a61c-4f77-b9f2-157e49d02589",
   "metadata": {},
   "outputs": [],
   "source": [
    "sg_tweets_dash = pd.read_csv(DATA_PATH + \"sg_tweets_dash.csv\")"
   ]
  },
  {
   "cell_type": "code",
   "execution_count": null,
   "id": "1c6803df-7bf8-4920-b654-801c6c234838",
   "metadata": {},
   "outputs": [],
   "source": []
  },
  {
   "cell_type": "code",
   "execution_count": 42,
   "id": "d5e67258-f23f-468b-8318-f4d2bd411f21",
   "metadata": {},
   "outputs": [
    {
     "data": {
      "text/plain": [
       "3.1153712594323766"
      ]
     },
     "execution_count": 42,
     "metadata": {},
     "output_type": "execute_result"
    }
   ],
   "source": [
    "5652/181423*100"
   ]
  },
  {
   "cell_type": "code",
   "execution_count": 43,
   "id": "79ed1b07-7e25-4ff6-ae68-801b5b5a0295",
   "metadata": {},
   "outputs": [
    {
     "data": {
      "text/plain": [
       "181423"
      ]
     },
     "execution_count": 43,
     "metadata": {},
     "output_type": "execute_result"
    }
   ],
   "source": [
    "total_tweets = len(sg_tweets)\n",
    "total_tweets"
   ]
  },
  {
   "cell_type": "markdown",
   "id": "2c346f63-0308-47cd-87b9-f5526dd39f36",
   "metadata": {},
   "source": [
    "#### Duration"
   ]
  },
  {
   "cell_type": "code",
   "execution_count": 44,
   "id": "612b5da9-d2c0-44ea-a725-edd851be0ffa",
   "metadata": {},
   "outputs": [
    {
     "data": {
      "text/plain": [
       "('2021-09-24', '2021-08-04')"
      ]
     },
     "execution_count": 44,
     "metadata": {},
     "output_type": "execute_result"
    }
   ],
   "source": [
    "MAX_DATE = sg_tweets['tweet_date'].max()\n",
    "MIN_DATE = sg_tweets['tweet_date'].min()\n",
    "MAX_DATE, MIN_DATE"
   ]
  },
  {
   "cell_type": "markdown",
   "id": "08bf74dc-1a88-4d8c-b540-9a6c94cf7d20",
   "metadata": {},
   "source": [
    "#### Average tweets per day"
   ]
  },
  {
   "cell_type": "code",
   "execution_count": 91,
   "id": "7eb1ad1b-342e-4eb1-8e64-1c3a8a27ec6b",
   "metadata": {},
   "outputs": [],
   "source": [
    "def generate_dash_daily_tweets(daily_tweets_save_path):\n",
    "    daily_tweets  = sg_tweets.groupby('tweet_date')['tweet_id'].count().reset_index(name='count')\n",
    "    avg_tweets = sum(daily_tweets['count'][:-1])/ len(daily_tweets['count'][:-1])\n",
    "    print(avg_tweets)\n",
    "    \n",
    "    pd.DataFrame.to_csv(daily_tweets, daily_tweets_save_path)\n",
    "    return daily_tweets, avg_tweets"
   ]
  },
  {
   "cell_type": "code",
   "execution_count": 92,
   "id": "a33f1f64-dac3-4f7e-b8d8-83032b4b67a2",
   "metadata": {},
   "outputs": [
    {
     "name": "stdout",
     "output_type": "stream",
     "text": [
      "3554.901960784314\n"
     ]
    }
   ],
   "source": [
    "daily_tweets_save_path = DATA_PATH + \"output/basics/daily_tweets.csv\"\n",
    "daily_tweets, avg_tweets = generate_dash_daily_tweets(daily_tweets_save_path)"
   ]
  },
  {
   "cell_type": "code",
   "execution_count": 93,
   "id": "fae8cb78-22cc-4e75-a230-0a84b78a59fc",
   "metadata": {},
   "outputs": [
    {
     "data": {
      "application/vnd.plotly.v1+json": {
       "config": {
        "plotlyServerURL": "https://plot.ly"
       },
       "data": [
        {
         "hovertemplate": "tweet_date=%{x}<br>count=%{y}<extra></extra>",
         "legendgroup": "",
         "line": {
          "color": "#636efa",
          "dash": "solid"
         },
         "mode": "lines",
         "name": "",
         "orientation": "v",
         "showlegend": false,
         "type": "scatter",
         "x": [
          "2021-08-04",
          "2021-08-05",
          "2021-08-06",
          "2021-08-07",
          "2021-08-08",
          "2021-08-09",
          "2021-08-10",
          "2021-08-11",
          "2021-08-12",
          "2021-08-13",
          "2021-08-14",
          "2021-08-15",
          "2021-08-16",
          "2021-08-17",
          "2021-08-18",
          "2021-08-19",
          "2021-08-20",
          "2021-08-21",
          "2021-08-22",
          "2021-08-23",
          "2021-08-24",
          "2021-08-25",
          "2021-08-26",
          "2021-08-27",
          "2021-08-28",
          "2021-08-29",
          "2021-08-30",
          "2021-08-31",
          "2021-09-01",
          "2021-09-02",
          "2021-09-03",
          "2021-09-04",
          "2021-09-05",
          "2021-09-06",
          "2021-09-07",
          "2021-09-08",
          "2021-09-09",
          "2021-09-10",
          "2021-09-11",
          "2021-09-12",
          "2021-09-13",
          "2021-09-14",
          "2021-09-15",
          "2021-09-16",
          "2021-09-17",
          "2021-09-18",
          "2021-09-19",
          "2021-09-20",
          "2021-09-21",
          "2021-09-22",
          "2021-09-23",
          "2021-09-24"
         ],
         "xaxis": "x",
         "y": [
          312,
          3952,
          6510,
          1754,
          3346,
          4758,
          7093,
          2776,
          3954,
          4980,
          2559,
          5608,
          3181,
          4605,
          3730,
          6713,
          5951,
          5115,
          6126,
          7396,
          1825,
          3823,
          5835,
          6734,
          4570,
          1001,
          2576,
          6727,
          2409,
          2583,
          663,
          2080,
          652,
          466,
          6549,
          701,
          410,
          4100,
          853,
          3253,
          330,
          3630,
          5292,
          5017,
          446,
          3683,
          5049,
          505,
          4007,
          3593,
          1519,
          123
         ],
         "yaxis": "y"
        }
       ],
       "layout": {
        "autosize": true,
        "legend": {
         "tracegroupgap": 0
        },
        "margin": {
         "t": 60
        },
        "template": {
         "data": {
          "bar": [
           {
            "error_x": {
             "color": "#2a3f5f"
            },
            "error_y": {
             "color": "#2a3f5f"
            },
            "marker": {
             "line": {
              "color": "#E5ECF6",
              "width": 0.5
             },
             "pattern": {
              "fillmode": "overlay",
              "size": 10,
              "solidity": 0.2
             }
            },
            "type": "bar"
           }
          ],
          "barpolar": [
           {
            "marker": {
             "line": {
              "color": "#E5ECF6",
              "width": 0.5
             },
             "pattern": {
              "fillmode": "overlay",
              "size": 10,
              "solidity": 0.2
             }
            },
            "type": "barpolar"
           }
          ],
          "carpet": [
           {
            "aaxis": {
             "endlinecolor": "#2a3f5f",
             "gridcolor": "white",
             "linecolor": "white",
             "minorgridcolor": "white",
             "startlinecolor": "#2a3f5f"
            },
            "baxis": {
             "endlinecolor": "#2a3f5f",
             "gridcolor": "white",
             "linecolor": "white",
             "minorgridcolor": "white",
             "startlinecolor": "#2a3f5f"
            },
            "type": "carpet"
           }
          ],
          "choropleth": [
           {
            "colorbar": {
             "outlinewidth": 0,
             "ticks": ""
            },
            "type": "choropleth"
           }
          ],
          "contour": [
           {
            "colorbar": {
             "outlinewidth": 0,
             "ticks": ""
            },
            "colorscale": [
             [
              0,
              "#0d0887"
             ],
             [
              0.1111111111111111,
              "#46039f"
             ],
             [
              0.2222222222222222,
              "#7201a8"
             ],
             [
              0.3333333333333333,
              "#9c179e"
             ],
             [
              0.4444444444444444,
              "#bd3786"
             ],
             [
              0.5555555555555556,
              "#d8576b"
             ],
             [
              0.6666666666666666,
              "#ed7953"
             ],
             [
              0.7777777777777778,
              "#fb9f3a"
             ],
             [
              0.8888888888888888,
              "#fdca26"
             ],
             [
              1,
              "#f0f921"
             ]
            ],
            "type": "contour"
           }
          ],
          "contourcarpet": [
           {
            "colorbar": {
             "outlinewidth": 0,
             "ticks": ""
            },
            "type": "contourcarpet"
           }
          ],
          "heatmap": [
           {
            "colorbar": {
             "outlinewidth": 0,
             "ticks": ""
            },
            "colorscale": [
             [
              0,
              "#0d0887"
             ],
             [
              0.1111111111111111,
              "#46039f"
             ],
             [
              0.2222222222222222,
              "#7201a8"
             ],
             [
              0.3333333333333333,
              "#9c179e"
             ],
             [
              0.4444444444444444,
              "#bd3786"
             ],
             [
              0.5555555555555556,
              "#d8576b"
             ],
             [
              0.6666666666666666,
              "#ed7953"
             ],
             [
              0.7777777777777778,
              "#fb9f3a"
             ],
             [
              0.8888888888888888,
              "#fdca26"
             ],
             [
              1,
              "#f0f921"
             ]
            ],
            "type": "heatmap"
           }
          ],
          "heatmapgl": [
           {
            "colorbar": {
             "outlinewidth": 0,
             "ticks": ""
            },
            "colorscale": [
             [
              0,
              "#0d0887"
             ],
             [
              0.1111111111111111,
              "#46039f"
             ],
             [
              0.2222222222222222,
              "#7201a8"
             ],
             [
              0.3333333333333333,
              "#9c179e"
             ],
             [
              0.4444444444444444,
              "#bd3786"
             ],
             [
              0.5555555555555556,
              "#d8576b"
             ],
             [
              0.6666666666666666,
              "#ed7953"
             ],
             [
              0.7777777777777778,
              "#fb9f3a"
             ],
             [
              0.8888888888888888,
              "#fdca26"
             ],
             [
              1,
              "#f0f921"
             ]
            ],
            "type": "heatmapgl"
           }
          ],
          "histogram": [
           {
            "marker": {
             "pattern": {
              "fillmode": "overlay",
              "size": 10,
              "solidity": 0.2
             }
            },
            "type": "histogram"
           }
          ],
          "histogram2d": [
           {
            "colorbar": {
             "outlinewidth": 0,
             "ticks": ""
            },
            "colorscale": [
             [
              0,
              "#0d0887"
             ],
             [
              0.1111111111111111,
              "#46039f"
             ],
             [
              0.2222222222222222,
              "#7201a8"
             ],
             [
              0.3333333333333333,
              "#9c179e"
             ],
             [
              0.4444444444444444,
              "#bd3786"
             ],
             [
              0.5555555555555556,
              "#d8576b"
             ],
             [
              0.6666666666666666,
              "#ed7953"
             ],
             [
              0.7777777777777778,
              "#fb9f3a"
             ],
             [
              0.8888888888888888,
              "#fdca26"
             ],
             [
              1,
              "#f0f921"
             ]
            ],
            "type": "histogram2d"
           }
          ],
          "histogram2dcontour": [
           {
            "colorbar": {
             "outlinewidth": 0,
             "ticks": ""
            },
            "colorscale": [
             [
              0,
              "#0d0887"
             ],
             [
              0.1111111111111111,
              "#46039f"
             ],
             [
              0.2222222222222222,
              "#7201a8"
             ],
             [
              0.3333333333333333,
              "#9c179e"
             ],
             [
              0.4444444444444444,
              "#bd3786"
             ],
             [
              0.5555555555555556,
              "#d8576b"
             ],
             [
              0.6666666666666666,
              "#ed7953"
             ],
             [
              0.7777777777777778,
              "#fb9f3a"
             ],
             [
              0.8888888888888888,
              "#fdca26"
             ],
             [
              1,
              "#f0f921"
             ]
            ],
            "type": "histogram2dcontour"
           }
          ],
          "mesh3d": [
           {
            "colorbar": {
             "outlinewidth": 0,
             "ticks": ""
            },
            "type": "mesh3d"
           }
          ],
          "parcoords": [
           {
            "line": {
             "colorbar": {
              "outlinewidth": 0,
              "ticks": ""
             }
            },
            "type": "parcoords"
           }
          ],
          "pie": [
           {
            "automargin": true,
            "type": "pie"
           }
          ],
          "scatter": [
           {
            "marker": {
             "colorbar": {
              "outlinewidth": 0,
              "ticks": ""
             }
            },
            "type": "scatter"
           }
          ],
          "scatter3d": [
           {
            "line": {
             "colorbar": {
              "outlinewidth": 0,
              "ticks": ""
             }
            },
            "marker": {
             "colorbar": {
              "outlinewidth": 0,
              "ticks": ""
             }
            },
            "type": "scatter3d"
           }
          ],
          "scattercarpet": [
           {
            "marker": {
             "colorbar": {
              "outlinewidth": 0,
              "ticks": ""
             }
            },
            "type": "scattercarpet"
           }
          ],
          "scattergeo": [
           {
            "marker": {
             "colorbar": {
              "outlinewidth": 0,
              "ticks": ""
             }
            },
            "type": "scattergeo"
           }
          ],
          "scattergl": [
           {
            "marker": {
             "colorbar": {
              "outlinewidth": 0,
              "ticks": ""
             }
            },
            "type": "scattergl"
           }
          ],
          "scattermapbox": [
           {
            "marker": {
             "colorbar": {
              "outlinewidth": 0,
              "ticks": ""
             }
            },
            "type": "scattermapbox"
           }
          ],
          "scatterpolar": [
           {
            "marker": {
             "colorbar": {
              "outlinewidth": 0,
              "ticks": ""
             }
            },
            "type": "scatterpolar"
           }
          ],
          "scatterpolargl": [
           {
            "marker": {
             "colorbar": {
              "outlinewidth": 0,
              "ticks": ""
             }
            },
            "type": "scatterpolargl"
           }
          ],
          "scatterternary": [
           {
            "marker": {
             "colorbar": {
              "outlinewidth": 0,
              "ticks": ""
             }
            },
            "type": "scatterternary"
           }
          ],
          "surface": [
           {
            "colorbar": {
             "outlinewidth": 0,
             "ticks": ""
            },
            "colorscale": [
             [
              0,
              "#0d0887"
             ],
             [
              0.1111111111111111,
              "#46039f"
             ],
             [
              0.2222222222222222,
              "#7201a8"
             ],
             [
              0.3333333333333333,
              "#9c179e"
             ],
             [
              0.4444444444444444,
              "#bd3786"
             ],
             [
              0.5555555555555556,
              "#d8576b"
             ],
             [
              0.6666666666666666,
              "#ed7953"
             ],
             [
              0.7777777777777778,
              "#fb9f3a"
             ],
             [
              0.8888888888888888,
              "#fdca26"
             ],
             [
              1,
              "#f0f921"
             ]
            ],
            "type": "surface"
           }
          ],
          "table": [
           {
            "cells": {
             "fill": {
              "color": "#EBF0F8"
             },
             "line": {
              "color": "white"
             }
            },
            "header": {
             "fill": {
              "color": "#C8D4E3"
             },
             "line": {
              "color": "white"
             }
            },
            "type": "table"
           }
          ]
         },
         "layout": {
          "annotationdefaults": {
           "arrowcolor": "#2a3f5f",
           "arrowhead": 0,
           "arrowwidth": 1
          },
          "autotypenumbers": "strict",
          "coloraxis": {
           "colorbar": {
            "outlinewidth": 0,
            "ticks": ""
           }
          },
          "colorscale": {
           "diverging": [
            [
             0,
             "#8e0152"
            ],
            [
             0.1,
             "#c51b7d"
            ],
            [
             0.2,
             "#de77ae"
            ],
            [
             0.3,
             "#f1b6da"
            ],
            [
             0.4,
             "#fde0ef"
            ],
            [
             0.5,
             "#f7f7f7"
            ],
            [
             0.6,
             "#e6f5d0"
            ],
            [
             0.7,
             "#b8e186"
            ],
            [
             0.8,
             "#7fbc41"
            ],
            [
             0.9,
             "#4d9221"
            ],
            [
             1,
             "#276419"
            ]
           ],
           "sequential": [
            [
             0,
             "#0d0887"
            ],
            [
             0.1111111111111111,
             "#46039f"
            ],
            [
             0.2222222222222222,
             "#7201a8"
            ],
            [
             0.3333333333333333,
             "#9c179e"
            ],
            [
             0.4444444444444444,
             "#bd3786"
            ],
            [
             0.5555555555555556,
             "#d8576b"
            ],
            [
             0.6666666666666666,
             "#ed7953"
            ],
            [
             0.7777777777777778,
             "#fb9f3a"
            ],
            [
             0.8888888888888888,
             "#fdca26"
            ],
            [
             1,
             "#f0f921"
            ]
           ],
           "sequentialminus": [
            [
             0,
             "#0d0887"
            ],
            [
             0.1111111111111111,
             "#46039f"
            ],
            [
             0.2222222222222222,
             "#7201a8"
            ],
            [
             0.3333333333333333,
             "#9c179e"
            ],
            [
             0.4444444444444444,
             "#bd3786"
            ],
            [
             0.5555555555555556,
             "#d8576b"
            ],
            [
             0.6666666666666666,
             "#ed7953"
            ],
            [
             0.7777777777777778,
             "#fb9f3a"
            ],
            [
             0.8888888888888888,
             "#fdca26"
            ],
            [
             1,
             "#f0f921"
            ]
           ]
          },
          "colorway": [
           "#636efa",
           "#EF553B",
           "#00cc96",
           "#ab63fa",
           "#FFA15A",
           "#19d3f3",
           "#FF6692",
           "#B6E880",
           "#FF97FF",
           "#FECB52"
          ],
          "font": {
           "color": "#2a3f5f"
          },
          "geo": {
           "bgcolor": "white",
           "lakecolor": "white",
           "landcolor": "#E5ECF6",
           "showlakes": true,
           "showland": true,
           "subunitcolor": "white"
          },
          "hoverlabel": {
           "align": "left"
          },
          "hovermode": "closest",
          "mapbox": {
           "style": "light"
          },
          "paper_bgcolor": "white",
          "plot_bgcolor": "#E5ECF6",
          "polar": {
           "angularaxis": {
            "gridcolor": "white",
            "linecolor": "white",
            "ticks": ""
           },
           "bgcolor": "#E5ECF6",
           "radialaxis": {
            "gridcolor": "white",
            "linecolor": "white",
            "ticks": ""
           }
          },
          "scene": {
           "xaxis": {
            "backgroundcolor": "#E5ECF6",
            "gridcolor": "white",
            "gridwidth": 2,
            "linecolor": "white",
            "showbackground": true,
            "ticks": "",
            "zerolinecolor": "white"
           },
           "yaxis": {
            "backgroundcolor": "#E5ECF6",
            "gridcolor": "white",
            "gridwidth": 2,
            "linecolor": "white",
            "showbackground": true,
            "ticks": "",
            "zerolinecolor": "white"
           },
           "zaxis": {
            "backgroundcolor": "#E5ECF6",
            "gridcolor": "white",
            "gridwidth": 2,
            "linecolor": "white",
            "showbackground": true,
            "ticks": "",
            "zerolinecolor": "white"
           }
          },
          "shapedefaults": {
           "line": {
            "color": "#2a3f5f"
           }
          },
          "ternary": {
           "aaxis": {
            "gridcolor": "white",
            "linecolor": "white",
            "ticks": ""
           },
           "baxis": {
            "gridcolor": "white",
            "linecolor": "white",
            "ticks": ""
           },
           "bgcolor": "#E5ECF6",
           "caxis": {
            "gridcolor": "white",
            "linecolor": "white",
            "ticks": ""
           }
          },
          "title": {
           "x": 0.05
          },
          "xaxis": {
           "automargin": true,
           "gridcolor": "white",
           "linecolor": "white",
           "ticks": "",
           "title": {
            "standoff": 15
           },
           "zerolinecolor": "white",
           "zerolinewidth": 2
          },
          "yaxis": {
           "automargin": true,
           "gridcolor": "white",
           "linecolor": "white",
           "ticks": "",
           "title": {
            "standoff": 15
           },
           "zerolinecolor": "white",
           "zerolinewidth": 2
          }
         }
        },
        "xaxis": {
         "anchor": "y",
         "autorange": true,
         "domain": [
          0,
          1
         ],
         "range": [
          "2021-08-04",
          "2021-09-24"
         ],
         "title": {
          "text": "tweet_date"
         },
         "type": "date"
        },
        "yaxis": {
         "anchor": "x",
         "autorange": true,
         "domain": [
          0,
          1
         ],
         "range": [
          -281.05555555555554,
          7800.055555555556
         ],
         "title": {
          "text": "count"
         },
         "type": "linear"
        }
       }
      },
      "image/png": "[encoded data removed]",
      "text/html": [
       "<div>                            <div id=\"af72a140-8685-4cc0-8e4d-906bb030c3be\" class=\"plotly-graph-div\" style=\"height:525px; width:100%;\"></div>            <script type=\"text/javascript\">                require([\"plotly\"], function(Plotly) {                    window.PLOTLYENV=window.PLOTLYENV || {};                                    if (document.getElementById(\"af72a140-8685-4cc0-8e4d-906bb030c3be\")) {                    Plotly.newPlot(                        \"af72a140-8685-4cc0-8e4d-906bb030c3be\",                        [{\"hovertemplate\":\"tweet_date=%{x}<br>count=%{y}<extra></extra>\",\"legendgroup\":\"\",\"line\":{\"color\":\"#636efa\",\"dash\":\"solid\"},\"mode\":\"lines\",\"name\":\"\",\"orientation\":\"v\",\"showlegend\":false,\"type\":\"scatter\",\"x\":[\"2021-08-04\",\"2021-08-05\",\"2021-08-06\",\"2021-08-07\",\"2021-08-08\",\"2021-08-09\",\"2021-08-10\",\"2021-08-11\",\"2021-08-12\",\"2021-08-13\",\"2021-08-14\",\"2021-08-15\",\"2021-08-16\",\"2021-08-17\",\"2021-08-18\",\"2021-08-19\",\"2021-08-20\",\"2021-08-21\",\"2021-08-22\",\"2021-08-23\",\"2021-08-24\",\"2021-08-25\",\"2021-08-26\",\"2021-08-27\",\"2021-08-28\",\"2021-08-29\",\"2021-08-30\",\"2021-08-31\",\"2021-09-01\",\"2021-09-02\",\"2021-09-03\",\"2021-09-04\",\"2021-09-05\",\"2021-09-06\",\"2021-09-07\",\"2021-09-08\",\"2021-09-09\",\"2021-09-10\",\"2021-09-11\",\"2021-09-12\",\"2021-09-13\",\"2021-09-14\",\"2021-09-15\",\"2021-09-16\",\"2021-09-17\",\"2021-09-18\",\"2021-09-19\",\"2021-09-20\",\"2021-09-21\",\"2021-09-22\",\"2021-09-23\",\"2021-09-24\"],\"xaxis\":\"x\",\"y\":[312,3952,6510,1754,3346,4758,7093,2776,3954,4980,2559,5608,3181,4605,3730,6713,5951,5115,6126,7396,1825,3823,5835,6734,4570,1001,2576,6727,2409,2583,663,2080,652,466,6549,701,410,4100,853,3253,330,3630,5292,5017,446,3683,5049,505,4007,3593,1519,123],\"yaxis\":\"y\"}],                        {\"legend\":{\"tracegroupgap\":0},\"margin\":{\"t\":60},\"template\":{\"data\":{\"bar\":[{\"error_x\":{\"color\":\"#2a3f5f\"},\"error_y\":{\"color\":\"#2a3f5f\"},\"marker\":{\"line\":{\"color\":\"#E5ECF6\",\"width\":0.5},\"pattern\":{\"fillmode\":\"overlay\",\"size\":10,\"solidity\":0.2}},\"type\":\"bar\"}],\"barpolar\":[{\"marker\":{\"line\":{\"color\":\"#E5ECF6\",\"width\":0.5},\"pattern\":{\"fillmode\":\"overlay\",\"size\":10,\"solidity\":0.2}},\"type\":\"barpolar\"}],\"carpet\":[{\"aaxis\":{\"endlinecolor\":\"#2a3f5f\",\"gridcolor\":\"white\",\"linecolor\":\"white\",\"minorgridcolor\":\"white\",\"startlinecolor\":\"#2a3f5f\"},\"baxis\":{\"endlinecolor\":\"#2a3f5f\",\"gridcolor\":\"white\",\"linecolor\":\"white\",\"minorgridcolor\":\"white\",\"startlinecolor\":\"#2a3f5f\"},\"type\":\"carpet\"}],\"choropleth\":[{\"colorbar\":{\"outlinewidth\":0,\"ticks\":\"\"},\"type\":\"choropleth\"}],\"contour\":[{\"colorbar\":{\"outlinewidth\":0,\"ticks\":\"\"},\"colorscale\":[[0.0,\"#0d0887\"],[0.1111111111111111,\"#46039f\"],[0.2222222222222222,\"#7201a8\"],[0.3333333333333333,\"#9c179e\"],[0.4444444444444444,\"#bd3786\"],[0.5555555555555556,\"#d8576b\"],[0.6666666666666666,\"#ed7953\"],[0.7777777777777778,\"#fb9f3a\"],[0.8888888888888888,\"#fdca26\"],[1.0,\"#f0f921\"]],\"type\":\"contour\"}],\"contourcarpet\":[{\"colorbar\":{\"outlinewidth\":0,\"ticks\":\"\"},\"type\":\"contourcarpet\"}],\"heatmap\":[{\"colorbar\":{\"outlinewidth\":0,\"ticks\":\"\"},\"colorscale\":[[0.0,\"#0d0887\"],[0.1111111111111111,\"#46039f\"],[0.2222222222222222,\"#7201a8\"],[0.3333333333333333,\"#9c179e\"],[0.4444444444444444,\"#bd3786\"],[0.5555555555555556,\"#d8576b\"],[0.6666666666666666,\"#ed7953\"],[0.7777777777777778,\"#fb9f3a\"],[0.8888888888888888,\"#fdca26\"],[1.0,\"#f0f921\"]],\"type\":\"heatmap\"}],\"heatmapgl\":[{\"colorbar\":{\"outlinewidth\":0,\"ticks\":\"\"},\"colorscale\":[[0.0,\"#0d0887\"],[0.1111111111111111,\"#46039f\"],[0.2222222222222222,\"#7201a8\"],[0.3333333333333333,\"#9c179e\"],[0.4444444444444444,\"#bd3786\"],[0.5555555555555556,\"#d8576b\"],[0.6666666666666666,\"#ed7953\"],[0.7777777777777778,\"#fb9f3a\"],[0.8888888888888888,\"#fdca26\"],[1.0,\"#f0f921\"]],\"type\":\"heatmapgl\"}],\"histogram\":[{\"marker\":{\"pattern\":{\"fillmode\":\"overlay\",\"size\":10,\"solidity\":0.2}},\"type\":\"histogram\"}],\"histogram2d\":[{\"colorbar\":{\"outlinewidth\":0,\"ticks\":\"\"},\"colorscale\":[[0.0,\"#0d0887\"],[0.1111111111111111,\"#46039f\"],[0.2222222222222222,\"#7201a8\"],[0.3333333333333333,\"#9c179e\"],[0.4444444444444444,\"#bd3786\"],[0.5555555555555556,\"#d8576b\"],[0.6666666666666666,\"#ed7953\"],[0.7777777777777778,\"#fb9f3a\"],[0.8888888888888888,\"#fdca26\"],[1.0,\"#f0f921\"]],\"type\":\"histogram2d\"}],\"histogram2dcontour\":[{\"colorbar\":{\"outlinewidth\":0,\"ticks\":\"\"},\"colorscale\":[[0.0,\"#0d0887\"],[0.1111111111111111,\"#46039f\"],[0.2222222222222222,\"#7201a8\"],[0.3333333333333333,\"#9c179e\"],[0.4444444444444444,\"#bd3786\"],[0.5555555555555556,\"#d8576b\"],[0.6666666666666666,\"#ed7953\"],[0.7777777777777778,\"#fb9f3a\"],[0.8888888888888888,\"#fdca26\"],[1.0,\"#f0f921\"]],\"type\":\"histogram2dcontour\"}],\"mesh3d\":[{\"colorbar\":{\"outlinewidth\":0,\"ticks\":\"\"},\"type\":\"mesh3d\"}],\"parcoords\":[{\"line\":{\"colorbar\":{\"outlinewidth\":0,\"ticks\":\"\"}},\"type\":\"parcoords\"}],\"pie\":[{\"automargin\":true,\"type\":\"pie\"}],\"scatter\":[{\"marker\":{\"colorbar\":{\"outlinewidth\":0,\"ticks\":\"\"}},\"type\":\"scatter\"}],\"scatter3d\":[{\"line\":{\"colorbar\":{\"outlinewidth\":0,\"ticks\":\"\"}},\"marker\":{\"colorbar\":{\"outlinewidth\":0,\"ticks\":\"\"}},\"type\":\"scatter3d\"}],\"scattercarpet\":[{\"marker\":{\"colorbar\":{\"outlinewidth\":0,\"ticks\":\"\"}},\"type\":\"scattercarpet\"}],\"scattergeo\":[{\"marker\":{\"colorbar\":{\"outlinewidth\":0,\"ticks\":\"\"}},\"type\":\"scattergeo\"}],\"scattergl\":[{\"marker\":{\"colorbar\":{\"outlinewidth\":0,\"ticks\":\"\"}},\"type\":\"scattergl\"}],\"scattermapbox\":[{\"marker\":{\"colorbar\":{\"outlinewidth\":0,\"ticks\":\"\"}},\"type\":\"scattermapbox\"}],\"scatterpolar\":[{\"marker\":{\"colorbar\":{\"outlinewidth\":0,\"ticks\":\"\"}},\"type\":\"scatterpolar\"}],\"scatterpolargl\":[{\"marker\":{\"colorbar\":{\"outlinewidth\":0,\"ticks\":\"\"}},\"type\":\"scatterpolargl\"}],\"scatterternary\":[{\"marker\":{\"colorbar\":{\"outlinewidth\":0,\"ticks\":\"\"}},\"type\":\"scatterternary\"}],\"surface\":[{\"colorbar\":{\"outlinewidth\":0,\"ticks\":\"\"},\"colorscale\":[[0.0,\"#0d0887\"],[0.1111111111111111,\"#46039f\"],[0.2222222222222222,\"#7201a8\"],[0.3333333333333333,\"#9c179e\"],[0.4444444444444444,\"#bd3786\"],[0.5555555555555556,\"#d8576b\"],[0.6666666666666666,\"#ed7953\"],[0.7777777777777778,\"#fb9f3a\"],[0.8888888888888888,\"#fdca26\"],[1.0,\"#f0f921\"]],\"type\":\"surface\"}],\"table\":[{\"cells\":{\"fill\":{\"color\":\"#EBF0F8\"},\"line\":{\"color\":\"white\"}},\"header\":{\"fill\":{\"color\":\"#C8D4E3\"},\"line\":{\"color\":\"white\"}},\"type\":\"table\"}]},\"layout\":{\"annotationdefaults\":{\"arrowcolor\":\"#2a3f5f\",\"arrowhead\":0,\"arrowwidth\":1},\"autotypenumbers\":\"strict\",\"coloraxis\":{\"colorbar\":{\"outlinewidth\":0,\"ticks\":\"\"}},\"colorscale\":{\"diverging\":[[0,\"#8e0152\"],[0.1,\"#c51b7d\"],[0.2,\"#de77ae\"],[0.3,\"#f1b6da\"],[0.4,\"#fde0ef\"],[0.5,\"#f7f7f7\"],[0.6,\"#e6f5d0\"],[0.7,\"#b8e186\"],[0.8,\"#7fbc41\"],[0.9,\"#4d9221\"],[1,\"#276419\"]],\"sequential\":[[0.0,\"#0d0887\"],[0.1111111111111111,\"#46039f\"],[0.2222222222222222,\"#7201a8\"],[0.3333333333333333,\"#9c179e\"],[0.4444444444444444,\"#bd3786\"],[0.5555555555555556,\"#d8576b\"],[0.6666666666666666,\"#ed7953\"],[0.7777777777777778,\"#fb9f3a\"],[0.8888888888888888,\"#fdca26\"],[1.0,\"#f0f921\"]],\"sequentialminus\":[[0.0,\"#0d0887\"],[0.1111111111111111,\"#46039f\"],[0.2222222222222222,\"#7201a8\"],[0.3333333333333333,\"#9c179e\"],[0.4444444444444444,\"#bd3786\"],[0.5555555555555556,\"#d8576b\"],[0.6666666666666666,\"#ed7953\"],[0.7777777777777778,\"#fb9f3a\"],[0.8888888888888888,\"#fdca26\"],[1.0,\"#f0f921\"]]},\"colorway\":[\"#636efa\",\"#EF553B\",\"#00cc96\",\"#ab63fa\",\"#FFA15A\",\"#19d3f3\",\"#FF6692\",\"#B6E880\",\"#FF97FF\",\"#FECB52\"],\"font\":{\"color\":\"#2a3f5f\"},\"geo\":{\"bgcolor\":\"white\",\"lakecolor\":\"white\",\"landcolor\":\"#E5ECF6\",\"showlakes\":true,\"showland\":true,\"subunitcolor\":\"white\"},\"hoverlabel\":{\"align\":\"left\"},\"hovermode\":\"closest\",\"mapbox\":{\"style\":\"light\"},\"paper_bgcolor\":\"white\",\"plot_bgcolor\":\"#E5ECF6\",\"polar\":{\"angularaxis\":{\"gridcolor\":\"white\",\"linecolor\":\"white\",\"ticks\":\"\"},\"bgcolor\":\"#E5ECF6\",\"radialaxis\":{\"gridcolor\":\"white\",\"linecolor\":\"white\",\"ticks\":\"\"}},\"scene\":{\"xaxis\":{\"backgroundcolor\":\"#E5ECF6\",\"gridcolor\":\"white\",\"gridwidth\":2,\"linecolor\":\"white\",\"showbackground\":true,\"ticks\":\"\",\"zerolinecolor\":\"white\"},\"yaxis\":{\"backgroundcolor\":\"#E5ECF6\",\"gridcolor\":\"white\",\"gridwidth\":2,\"linecolor\":\"white\",\"showbackground\":true,\"ticks\":\"\",\"zerolinecolor\":\"white\"},\"zaxis\":{\"backgroundcolor\":\"#E5ECF6\",\"gridcolor\":\"white\",\"gridwidth\":2,\"linecolor\":\"white\",\"showbackground\":true,\"ticks\":\"\",\"zerolinecolor\":\"white\"}},\"shapedefaults\":{\"line\":{\"color\":\"#2a3f5f\"}},\"ternary\":{\"aaxis\":{\"gridcolor\":\"white\",\"linecolor\":\"white\",\"ticks\":\"\"},\"baxis\":{\"gridcolor\":\"white\",\"linecolor\":\"white\",\"ticks\":\"\"},\"bgcolor\":\"#E5ECF6\",\"caxis\":{\"gridcolor\":\"white\",\"linecolor\":\"white\",\"ticks\":\"\"}},\"title\":{\"x\":0.05},\"xaxis\":{\"automargin\":true,\"gridcolor\":\"white\",\"linecolor\":\"white\",\"ticks\":\"\",\"title\":{\"standoff\":15},\"zerolinecolor\":\"white\",\"zerolinewidth\":2},\"yaxis\":{\"automargin\":true,\"gridcolor\":\"white\",\"linecolor\":\"white\",\"ticks\":\"\",\"title\":{\"standoff\":15},\"zerolinecolor\":\"white\",\"zerolinewidth\":2}}},\"xaxis\":{\"anchor\":\"y\",\"domain\":[0.0,1.0],\"title\":{\"text\":\"tweet_date\"}},\"yaxis\":{\"anchor\":\"x\",\"domain\":[0.0,1.0],\"title\":{\"text\":\"count\"}}},                        {\"responsive\": true}                    ).then(function(){\n",
       "                            \n",
       "var gd = document.getElementById('af72a140-8685-4cc0-8e4d-906bb030c3be');\n",
       "var x = new MutationObserver(function (mutations, observer) {{\n",
       "        var display = window.getComputedStyle(gd).display;\n",
       "        if (!display || display === 'none') {{\n",
       "            console.log([gd, 'removed!']);\n",
       "            Plotly.purge(gd);\n",
       "            observer.disconnect();\n",
       "        }}\n",
       "}});\n",
       "\n",
       "// Listen for the removal of the full notebook cells\n",
       "var notebookContainer = gd.closest('#notebook-container');\n",
       "if (notebookContainer) {{\n",
       "    x.observe(notebookContainer, {childList: true});\n",
       "}}\n",
       "\n",
       "// Listen for the clearing of the current output cell\n",
       "var outputEl = gd.closest('.output');\n",
       "if (outputEl) {{\n",
       "    x.observe(outputEl, {childList: true});\n",
       "}}\n",
       "\n",
       "                        })                };                });            </script>        </div>"
      ]
     },
     "metadata": {},
     "output_type": "display_data"
    }
   ],
   "source": [
    "px.line(daily_tweets, x='tweet_date', y='count')"
   ]
  },
  {
   "cell_type": "markdown",
   "id": "d6c2cfd0-1a16-4b97-a011-086f1039659e",
   "metadata": {},
   "source": [
    "### 4.2. Sentiment analysis of tweets and quoted tweets  <a id=\"cell42\"></a>"
   ]
  },
  {
   "cell_type": "markdown",
   "id": "728e6d67-bb70-48b6-b554-60011c40334b",
   "metadata": {},
   "source": [
    "##### Distribution of **tweets** sentiments"
   ]
  },
  {
   "cell_type": "code",
   "execution_count": 98,
   "id": "2e675122-731a-43ea-8f86-0048eed8b0bb",
   "metadata": {},
   "outputs": [
    {
     "data": {
      "text/plain": [
       "Index(['tweet_text', 'tweet_time', 'tweet_id', 'tweet_lang',\n",
       "       'tweet_possibly_sensitive', 'entity_image_url', 'entity_mentions',\n",
       "       'entity_hashtags', 'entity_link_url', 'user_id_x', 'user_name_x',\n",
       "       'user_screenname_x', 'user_friends_count', 'user_followers_count',\n",
       "       'user_verified', 'user_location', 'user_desc', 'user_geo_coding',\n",
       "       'user_geo_tagging', 'user_id_y', 'user_name_y', 'user_screenname_y',\n",
       "       'tweet_enagagement_type', 'replied_to_tweet_id', 'replied_to_user_id',\n",
       "       'replied_to_user_screenname', 'retweeted_tweet_id',\n",
       "       'retweeted_tweet_time', 'retweeted_user_id', 'retweeted_user_name',\n",
       "       'retweeted_user_verified', 'retweeted_user_screenname',\n",
       "       'retweeted_user_geo_coding', 'retweeted_user_geo_coding_type',\n",
       "       'retweeted_retweet_count', 'retweeted_favorite_count',\n",
       "       'quoted_tweet_text', 'quoted_tweet_id', 'quoted_tweet_time',\n",
       "       'quoted_user_id', 'quoted_user_name', 'quoted_user_verified',\n",
       "       'quoted_user_screenname', 'quoted_user_geo_coding',\n",
       "       'quoted_user_geo_coding_type', 'quoted_retweet_count',\n",
       "       'quoted_favorite_count', 'tweet_datetime', 'tweet_date'],\n",
       "      dtype='object')"
      ]
     },
     "execution_count": 98,
     "metadata": {},
     "output_type": "execute_result"
    }
   ],
   "source": [
    "sg_tweets.columns"
   ]
  },
  {
   "cell_type": "code",
   "execution_count": 142,
   "id": "2d9a223c-a47d-4e29-9234-281ba5efc98f",
   "metadata": {},
   "outputs": [
    {
     "data": {
      "text/plain": [
       "('2021-08-04', '2021-09-24')"
      ]
     },
     "execution_count": 142,
     "metadata": {},
     "output_type": "execute_result"
    }
   ],
   "source": [
    "MIN_DATE, MAX_DATE"
   ]
  },
  {
   "cell_type": "code",
   "execution_count": 146,
   "id": "6b53f7b1-1654-4697-8ada-a4790ef9711f",
   "metadata": {},
   "outputs": [
    {
     "data": {
      "text/html": [
       "<div>\n",
       "<style scoped>\n",
       "    .dataframe tbody tr th:only-of-type {\n",
       "        vertical-align: middle;\n",
       "    }\n",
       "\n",
       "    .dataframe tbody tr th {\n",
       "        vertical-align: top;\n",
       "    }\n",
       "\n",
       "    .dataframe thead th {\n",
       "        text-align: right;\n",
       "    }\n",
       "</style>\n",
       "<table border=\"1\" class=\"dataframe\">\n",
       "  <thead>\n",
       "    <tr style=\"text-align: right;\">\n",
       "      <th></th>\n",
       "      <th>tweet_sentiment</th>\n",
       "      <th>count</th>\n",
       "    </tr>\n",
       "  </thead>\n",
       "  <tbody>\n",
       "    <tr>\n",
       "      <th>0</th>\n",
       "      <td>neutral</td>\n",
       "      <td>79770</td>\n",
       "    </tr>\n",
       "    <tr>\n",
       "      <th>1</th>\n",
       "      <td>positive</td>\n",
       "      <td>57863</td>\n",
       "    </tr>\n",
       "    <tr>\n",
       "      <th>2</th>\n",
       "      <td>negative</td>\n",
       "      <td>43790</td>\n",
       "    </tr>\n",
       "  </tbody>\n",
       "</table>\n",
       "</div>"
      ],
      "text/plain": [
       "  tweet_sentiment  count\n",
       "0         neutral  79770\n",
       "1        positive  57863\n",
       "2        negative  43790"
      ]
     },
     "execution_count": 146,
     "metadata": {},
     "output_type": "execute_result"
    }
   ],
   "source": [
    "df_sentiments = sg_tweets[sg_tweets['tweet_date'].between(MIN_DATE, MAX_DATE, inclusive='both')] \\\n",
    "                .value_counts(subset=['tweet_sentiment']).reset_index(name='count').sort_values(['count'], ascending=False)\n",
    "\n",
    "fig = px.bar(df_sentiments, x=\"count\", y=\"tweet_sentiment\", orientation='h', template=\"plotly_white\", color=\"tweet_sentiment\")\n",
    "# fig.show()\n",
    "df_sentiments"
   ]
  },
  {
   "cell_type": "code",
   "execution_count": 213,
   "id": "0ee06064-9fe2-4025-b6af-ef45e19afe86",
   "metadata": {},
   "outputs": [],
   "source": [
    "def generate_dash_sentiments(sentiments_save_path, from_date=MIN_DATE, to_date=MAX_DATE):\n",
    "    df_sentiments = sg_tweets[sg_tweets['tweet_date'].between(from_date, to_date, inclusive='both')] \\\n",
    "                .value_counts(subset=['tweet_sentiment']).reset_index(name='count').sort_values(['count'], ascending=False)\n",
    "    pd.DataFrame.to_csv(df_sentiments, sentiments_save_path)\n",
    "#     return daily_tweets, avg_tweets"
   ]
  },
  {
   "cell_type": "code",
   "execution_count": 214,
   "id": "0137152a-6d8d-4e46-a90d-57853f33680c",
   "metadata": {},
   "outputs": [],
   "source": [
    "sentiments_save_path = DATA_PATH + 'output/basics/sentiments.csv'\n",
    "generate_dash_sentiments(sentiments_save_path)"
   ]
  },
  {
   "cell_type": "markdown",
   "id": "65b5de84-8383-49cb-8d9b-78edbf8b48f6",
   "metadata": {},
   "source": [
    "##### Distribution of **quoted tweets** sentiments"
   ]
  },
  {
   "cell_type": "code",
   "execution_count": 215,
   "id": "e4f6661b-8382-4335-b859-55f34f8de54b",
   "metadata": {},
   "outputs": [],
   "source": [
    "df_quoted_sentiments = sg_tweets.value_counts(subset=['quoted_tweet_sentiment']).reset_index(name='count').sort_values(['count'], ascending=False)"
   ]
  },
  {
   "cell_type": "code",
   "execution_count": 216,
   "id": "4586f598-cbe0-4015-b8f5-0987a873e0a9",
   "metadata": {},
   "outputs": [
    {
     "data": {
      "application/vnd.plotly.v1+json": {
       "config": {
        "plotlyServerURL": "https://plot.ly"
       },
       "data": [
        {
         "alignmentgroup": "True",
         "hovertemplate": "quoted_tweet_sentiment=%{y}<br>count=%{x}<extra></extra>",
         "legendgroup": "negative",
         "marker": {
          "color": "#636efa",
          "pattern": {
           "shape": ""
          }
         },
         "name": "negative",
         "offsetgroup": "negative",
         "orientation": "h",
         "showlegend": true,
         "textposition": "auto",
         "type": "bar",
         "x": [
          15704
         ],
         "xaxis": "x",
         "y": [
          "negative"
         ],
         "yaxis": "y"
        },
        {
         "alignmentgroup": "True",
         "hovertemplate": "quoted_tweet_sentiment=%{y}<br>count=%{x}<extra></extra>",
         "legendgroup": "neutral",
         "marker": {
          "color": "#EF553B",
          "pattern": {
           "shape": ""
          }
         },
         "name": "neutral",
         "offsetgroup": "neutral",
         "orientation": "h",
         "showlegend": true,
         "textposition": "auto",
         "type": "bar",
         "x": [
          14213
         ],
         "xaxis": "x",
         "y": [
          "neutral"
         ],
         "yaxis": "y"
        },
        {
         "alignmentgroup": "True",
         "hovertemplate": "quoted_tweet_sentiment=%{y}<br>count=%{x}<extra></extra>",
         "legendgroup": "positive",
         "marker": {
          "color": "#00cc96",
          "pattern": {
           "shape": ""
          }
         },
         "name": "positive",
         "offsetgroup": "positive",
         "orientation": "h",
         "showlegend": true,
         "textposition": "auto",
         "type": "bar",
         "x": [
          9490
         ],
         "xaxis": "x",
         "y": [
          "positive"
         ],
         "yaxis": "y"
        }
       ],
       "layout": {
        "autosize": true,
        "barmode": "relative",
        "legend": {
         "title": {
          "text": "quoted_tweet_sentiment"
         },
         "tracegroupgap": 0
        },
        "margin": {
         "t": 60
        },
        "template": {
         "data": {
          "bar": [
           {
            "error_x": {
             "color": "#2a3f5f"
            },
            "error_y": {
             "color": "#2a3f5f"
            },
            "marker": {
             "line": {
              "color": "white",
              "width": 0.5
             },
             "pattern": {
              "fillmode": "overlay",
              "size": 10,
              "solidity": 0.2
             }
            },
            "type": "bar"
           }
          ],
          "barpolar": [
           {
            "marker": {
             "line": {
              "color": "white",
              "width": 0.5
             },
             "pattern": {
              "fillmode": "overlay",
              "size": 10,
              "solidity": 0.2
             }
            },
            "type": "barpolar"
           }
          ],
          "carpet": [
           {
            "aaxis": {
             "endlinecolor": "#2a3f5f",
             "gridcolor": "#C8D4E3",
             "linecolor": "#C8D4E3",
             "minorgridcolor": "#C8D4E3",
             "startlinecolor": "#2a3f5f"
            },
            "baxis": {
             "endlinecolor": "#2a3f5f",
             "gridcolor": "#C8D4E3",
             "linecolor": "#C8D4E3",
             "minorgridcolor": "#C8D4E3",
             "startlinecolor": "#2a3f5f"
            },
            "type": "carpet"
           }
          ],
          "choropleth": [
           {
            "colorbar": {
             "outlinewidth": 0,
             "ticks": ""
            },
            "type": "choropleth"
           }
          ],
          "contour": [
           {
            "colorbar": {
             "outlinewidth": 0,
             "ticks": ""
            },
            "colorscale": [
             [
              0,
              "#0d0887"
             ],
             [
              0.1111111111111111,
              "#46039f"
             ],
             [
              0.2222222222222222,
              "#7201a8"
             ],
             [
              0.3333333333333333,
              "#9c179e"
             ],
             [
              0.4444444444444444,
              "#bd3786"
             ],
             [
              0.5555555555555556,
              "#d8576b"
             ],
             [
              0.6666666666666666,
              "#ed7953"
             ],
             [
              0.7777777777777778,
              "#fb9f3a"
             ],
             [
              0.8888888888888888,
              "#fdca26"
             ],
             [
              1,
              "#f0f921"
             ]
            ],
            "type": "contour"
           }
          ],
          "contourcarpet": [
           {
            "colorbar": {
             "outlinewidth": 0,
             "ticks": ""
            },
            "type": "contourcarpet"
           }
          ],
          "heatmap": [
           {
            "colorbar": {
             "outlinewidth": 0,
             "ticks": ""
            },
            "colorscale": [
             [
              0,
              "#0d0887"
             ],
             [
              0.1111111111111111,
              "#46039f"
             ],
             [
              0.2222222222222222,
              "#7201a8"
             ],
             [
              0.3333333333333333,
              "#9c179e"
             ],
             [
              0.4444444444444444,
              "#bd3786"
             ],
             [
              0.5555555555555556,
              "#d8576b"
             ],
             [
              0.6666666666666666,
              "#ed7953"
             ],
             [
              0.7777777777777778,
              "#fb9f3a"
             ],
             [
              0.8888888888888888,
              "#fdca26"
             ],
             [
              1,
              "#f0f921"
             ]
            ],
            "type": "heatmap"
           }
          ],
          "heatmapgl": [
           {
            "colorbar": {
             "outlinewidth": 0,
             "ticks": ""
            },
            "colorscale": [
             [
              0,
              "#0d0887"
             ],
             [
              0.1111111111111111,
              "#46039f"
             ],
             [
              0.2222222222222222,
              "#7201a8"
             ],
             [
              0.3333333333333333,
              "#9c179e"
             ],
             [
              0.4444444444444444,
              "#bd3786"
             ],
             [
              0.5555555555555556,
              "#d8576b"
             ],
             [
              0.6666666666666666,
              "#ed7953"
             ],
             [
              0.7777777777777778,
              "#fb9f3a"
             ],
             [
              0.8888888888888888,
              "#fdca26"
             ],
             [
              1,
              "#f0f921"
             ]
            ],
            "type": "heatmapgl"
           }
          ],
          "histogram": [
           {
            "marker": {
             "pattern": {
              "fillmode": "overlay",
              "size": 10,
              "solidity": 0.2
             }
            },
            "type": "histogram"
           }
          ],
          "histogram2d": [
           {
            "colorbar": {
             "outlinewidth": 0,
             "ticks": ""
            },
            "colorscale": [
             [
              0,
              "#0d0887"
             ],
             [
              0.1111111111111111,
              "#46039f"
             ],
             [
              0.2222222222222222,
              "#7201a8"
             ],
             [
              0.3333333333333333,
              "#9c179e"
             ],
             [
              0.4444444444444444,
              "#bd3786"
             ],
             [
              0.5555555555555556,
              "#d8576b"
             ],
             [
              0.6666666666666666,
              "#ed7953"
             ],
             [
              0.7777777777777778,
              "#fb9f3a"
             ],
             [
              0.8888888888888888,
              "#fdca26"
             ],
             [
              1,
              "#f0f921"
             ]
            ],
            "type": "histogram2d"
           }
          ],
          "histogram2dcontour": [
           {
            "colorbar": {
             "outlinewidth": 0,
             "ticks": ""
            },
            "colorscale": [
             [
              0,
              "#0d0887"
             ],
             [
              0.1111111111111111,
              "#46039f"
             ],
             [
              0.2222222222222222,
              "#7201a8"
             ],
             [
              0.3333333333333333,
              "#9c179e"
             ],
             [
              0.4444444444444444,
              "#bd3786"
             ],
             [
              0.5555555555555556,
              "#d8576b"
             ],
             [
              0.6666666666666666,
              "#ed7953"
             ],
             [
              0.7777777777777778,
              "#fb9f3a"
             ],
             [
              0.8888888888888888,
              "#fdca26"
             ],
             [
              1,
              "#f0f921"
             ]
            ],
            "type": "histogram2dcontour"
           }
          ],
          "mesh3d": [
           {
            "colorbar": {
             "outlinewidth": 0,
             "ticks": ""
            },
            "type": "mesh3d"
           }
          ],
          "parcoords": [
           {
            "line": {
             "colorbar": {
              "outlinewidth": 0,
              "ticks": ""
             }
            },
            "type": "parcoords"
           }
          ],
          "pie": [
           {
            "automargin": true,
            "type": "pie"
           }
          ],
          "scatter": [
           {
            "marker": {
             "colorbar": {
              "outlinewidth": 0,
              "ticks": ""
             }
            },
            "type": "scatter"
           }
          ],
          "scatter3d": [
           {
            "line": {
             "colorbar": {
              "outlinewidth": 0,
              "ticks": ""
             }
            },
            "marker": {
             "colorbar": {
              "outlinewidth": 0,
              "ticks": ""
             }
            },
            "type": "scatter3d"
           }
          ],
          "scattercarpet": [
           {
            "marker": {
             "colorbar": {
              "outlinewidth": 0,
              "ticks": ""
             }
            },
            "type": "scattercarpet"
           }
          ],
          "scattergeo": [
           {
            "marker": {
             "colorbar": {
              "outlinewidth": 0,
              "ticks": ""
             }
            },
            "type": "scattergeo"
           }
          ],
          "scattergl": [
           {
            "marker": {
             "colorbar": {
              "outlinewidth": 0,
              "ticks": ""
             }
            },
            "type": "scattergl"
           }
          ],
          "scattermapbox": [
           {
            "marker": {
             "colorbar": {
              "outlinewidth": 0,
              "ticks": ""
             }
            },
            "type": "scattermapbox"
           }
          ],
          "scatterpolar": [
           {
            "marker": {
             "colorbar": {
              "outlinewidth": 0,
              "ticks": ""
             }
            },
            "type": "scatterpolar"
           }
          ],
          "scatterpolargl": [
           {
            "marker": {
             "colorbar": {
              "outlinewidth": 0,
              "ticks": ""
             }
            },
            "type": "scatterpolargl"
           }
          ],
          "scatterternary": [
           {
            "marker": {
             "colorbar": {
              "outlinewidth": 0,
              "ticks": ""
             }
            },
            "type": "scatterternary"
           }
          ],
          "surface": [
           {
            "colorbar": {
             "outlinewidth": 0,
             "ticks": ""
            },
            "colorscale": [
             [
              0,
              "#0d0887"
             ],
             [
              0.1111111111111111,
              "#46039f"
             ],
             [
              0.2222222222222222,
              "#7201a8"
             ],
             [
              0.3333333333333333,
              "#9c179e"
             ],
             [
              0.4444444444444444,
              "#bd3786"
             ],
             [
              0.5555555555555556,
              "#d8576b"
             ],
             [
              0.6666666666666666,
              "#ed7953"
             ],
             [
              0.7777777777777778,
              "#fb9f3a"
             ],
             [
              0.8888888888888888,
              "#fdca26"
             ],
             [
              1,
              "#f0f921"
             ]
            ],
            "type": "surface"
           }
          ],
          "table": [
           {
            "cells": {
             "fill": {
              "color": "#EBF0F8"
             },
             "line": {
              "color": "white"
             }
            },
            "header": {
             "fill": {
              "color": "#C8D4E3"
             },
             "line": {
              "color": "white"
             }
            },
            "type": "table"
           }
          ]
         },
         "layout": {
          "annotationdefaults": {
           "arrowcolor": "#2a3f5f",
           "arrowhead": 0,
           "arrowwidth": 1
          },
          "autotypenumbers": "strict",
          "coloraxis": {
           "colorbar": {
            "outlinewidth": 0,
            "ticks": ""
           }
          },
          "colorscale": {
           "diverging": [
            [
             0,
             "#8e0152"
            ],
            [
             0.1,
             "#c51b7d"
            ],
            [
             0.2,
             "#de77ae"
            ],
            [
             0.3,
             "#f1b6da"
            ],
            [
             0.4,
             "#fde0ef"
            ],
            [
             0.5,
             "#f7f7f7"
            ],
            [
             0.6,
             "#e6f5d0"
            ],
            [
             0.7,
             "#b8e186"
            ],
            [
             0.8,
             "#7fbc41"
            ],
            [
             0.9,
             "#4d9221"
            ],
            [
             1,
             "#276419"
            ]
           ],
           "sequential": [
            [
             0,
             "#0d0887"
            ],
            [
             0.1111111111111111,
             "#46039f"
            ],
            [
             0.2222222222222222,
             "#7201a8"
            ],
            [
             0.3333333333333333,
             "#9c179e"
            ],
            [
             0.4444444444444444,
             "#bd3786"
            ],
            [
             0.5555555555555556,
             "#d8576b"
            ],
            [
             0.6666666666666666,
             "#ed7953"
            ],
            [
             0.7777777777777778,
             "#fb9f3a"
            ],
            [
             0.8888888888888888,
             "#fdca26"
            ],
            [
             1,
             "#f0f921"
            ]
           ],
           "sequentialminus": [
            [
             0,
             "#0d0887"
            ],
            [
             0.1111111111111111,
             "#46039f"
            ],
            [
             0.2222222222222222,
             "#7201a8"
            ],
            [
             0.3333333333333333,
             "#9c179e"
            ],
            [
             0.4444444444444444,
             "#bd3786"
            ],
            [
             0.5555555555555556,
             "#d8576b"
            ],
            [
             0.6666666666666666,
             "#ed7953"
            ],
            [
             0.7777777777777778,
             "#fb9f3a"
            ],
            [
             0.8888888888888888,
             "#fdca26"
            ],
            [
             1,
             "#f0f921"
            ]
           ]
          },
          "colorway": [
           "#636efa",
           "#EF553B",
           "#00cc96",
           "#ab63fa",
           "#FFA15A",
           "#19d3f3",
           "#FF6692",
           "#B6E880",
           "#FF97FF",
           "#FECB52"
          ],
          "font": {
           "color": "#2a3f5f"
          },
          "geo": {
           "bgcolor": "white",
           "lakecolor": "white",
           "landcolor": "white",
           "showlakes": true,
           "showland": true,
           "subunitcolor": "#C8D4E3"
          },
          "hoverlabel": {
           "align": "left"
          },
          "hovermode": "closest",
          "mapbox": {
           "style": "light"
          },
          "paper_bgcolor": "white",
          "plot_bgcolor": "white",
          "polar": {
           "angularaxis": {
            "gridcolor": "#EBF0F8",
            "linecolor": "#EBF0F8",
            "ticks": ""
           },
           "bgcolor": "white",
           "radialaxis": {
            "gridcolor": "#EBF0F8",
            "linecolor": "#EBF0F8",
            "ticks": ""
           }
          },
          "scene": {
           "xaxis": {
            "backgroundcolor": "white",
            "gridcolor": "#DFE8F3",
            "gridwidth": 2,
            "linecolor": "#EBF0F8",
            "showbackground": true,
            "ticks": "",
            "zerolinecolor": "#EBF0F8"
           },
           "yaxis": {
            "backgroundcolor": "white",
            "gridcolor": "#DFE8F3",
            "gridwidth": 2,
            "linecolor": "#EBF0F8",
            "showbackground": true,
            "ticks": "",
            "zerolinecolor": "#EBF0F8"
           },
           "zaxis": {
            "backgroundcolor": "white",
            "gridcolor": "#DFE8F3",
            "gridwidth": 2,
            "linecolor": "#EBF0F8",
            "showbackground": true,
            "ticks": "",
            "zerolinecolor": "#EBF0F8"
           }
          },
          "shapedefaults": {
           "line": {
            "color": "#2a3f5f"
           }
          },
          "ternary": {
           "aaxis": {
            "gridcolor": "#DFE8F3",
            "linecolor": "#A2B1C6",
            "ticks": ""
           },
           "baxis": {
            "gridcolor": "#DFE8F3",
            "linecolor": "#A2B1C6",
            "ticks": ""
           },
           "bgcolor": "white",
           "caxis": {
            "gridcolor": "#DFE8F3",
            "linecolor": "#A2B1C6",
            "ticks": ""
           }
          },
          "title": {
           "x": 0.05
          },
          "xaxis": {
           "automargin": true,
           "gridcolor": "#EBF0F8",
           "linecolor": "#EBF0F8",
           "ticks": "",
           "title": {
            "standoff": 15
           },
           "zerolinecolor": "#EBF0F8",
           "zerolinewidth": 2
          },
          "yaxis": {
           "automargin": true,
           "gridcolor": "#EBF0F8",
           "linecolor": "#EBF0F8",
           "ticks": "",
           "title": {
            "standoff": 15
           },
           "zerolinecolor": "#EBF0F8",
           "zerolinewidth": 2
          }
         }
        },
        "xaxis": {
         "anchor": "y",
         "autorange": true,
         "domain": [
          0,
          1
         ],
         "range": [
          0,
          16530.526315789473
         ],
         "title": {
          "text": "count"
         },
         "type": "linear"
        },
        "yaxis": {
         "anchor": "x",
         "autorange": true,
         "categoryarray": [
          "positive",
          "neutral",
          "negative"
         ],
         "categoryorder": "array",
         "domain": [
          0,
          1
         ],
         "range": [
          -0.5,
          2.5
         ],
         "title": {
          "text": "quoted_tweet_sentiment"
         },
         "type": "category"
        }
       }
      },
      "image/png": "[encoded data removed]",
      "text/html": [
       "<div>                            <div id=\"a9fbc569-20e9-44e7-a73d-ae641e1cdfae\" class=\"plotly-graph-div\" style=\"height:525px; width:100%;\"></div>            <script type=\"text/javascript\">                require([\"plotly\"], function(Plotly) {                    window.PLOTLYENV=window.PLOTLYENV || {};                                    if (document.getElementById(\"a9fbc569-20e9-44e7-a73d-ae641e1cdfae\")) {                    Plotly.newPlot(                        \"a9fbc569-20e9-44e7-a73d-ae641e1cdfae\",                        [{\"alignmentgroup\":\"True\",\"hovertemplate\":\"quoted_tweet_sentiment=%{y}<br>count=%{x}<extra></extra>\",\"legendgroup\":\"negative\",\"marker\":{\"color\":\"#636efa\",\"pattern\":{\"shape\":\"\"}},\"name\":\"negative\",\"offsetgroup\":\"negative\",\"orientation\":\"h\",\"showlegend\":true,\"textposition\":\"auto\",\"type\":\"bar\",\"x\":[15704],\"xaxis\":\"x\",\"y\":[\"negative\"],\"yaxis\":\"y\"},{\"alignmentgroup\":\"True\",\"hovertemplate\":\"quoted_tweet_sentiment=%{y}<br>count=%{x}<extra></extra>\",\"legendgroup\":\"neutral\",\"marker\":{\"color\":\"#EF553B\",\"pattern\":{\"shape\":\"\"}},\"name\":\"neutral\",\"offsetgroup\":\"neutral\",\"orientation\":\"h\",\"showlegend\":true,\"textposition\":\"auto\",\"type\":\"bar\",\"x\":[14213],\"xaxis\":\"x\",\"y\":[\"neutral\"],\"yaxis\":\"y\"},{\"alignmentgroup\":\"True\",\"hovertemplate\":\"quoted_tweet_sentiment=%{y}<br>count=%{x}<extra></extra>\",\"legendgroup\":\"positive\",\"marker\":{\"color\":\"#00cc96\",\"pattern\":{\"shape\":\"\"}},\"name\":\"positive\",\"offsetgroup\":\"positive\",\"orientation\":\"h\",\"showlegend\":true,\"textposition\":\"auto\",\"type\":\"bar\",\"x\":[9490],\"xaxis\":\"x\",\"y\":[\"positive\"],\"yaxis\":\"y\"}],                        {\"barmode\":\"relative\",\"legend\":{\"title\":{\"text\":\"quoted_tweet_sentiment\"},\"tracegroupgap\":0},\"margin\":{\"t\":60},\"template\":{\"data\":{\"bar\":[{\"error_x\":{\"color\":\"#2a3f5f\"},\"error_y\":{\"color\":\"#2a3f5f\"},\"marker\":{\"line\":{\"color\":\"white\",\"width\":0.5},\"pattern\":{\"fillmode\":\"overlay\",\"size\":10,\"solidity\":0.2}},\"type\":\"bar\"}],\"barpolar\":[{\"marker\":{\"line\":{\"color\":\"white\",\"width\":0.5},\"pattern\":{\"fillmode\":\"overlay\",\"size\":10,\"solidity\":0.2}},\"type\":\"barpolar\"}],\"carpet\":[{\"aaxis\":{\"endlinecolor\":\"#2a3f5f\",\"gridcolor\":\"#C8D4E3\",\"linecolor\":\"#C8D4E3\",\"minorgridcolor\":\"#C8D4E3\",\"startlinecolor\":\"#2a3f5f\"},\"baxis\":{\"endlinecolor\":\"#2a3f5f\",\"gridcolor\":\"#C8D4E3\",\"linecolor\":\"#C8D4E3\",\"minorgridcolor\":\"#C8D4E3\",\"startlinecolor\":\"#2a3f5f\"},\"type\":\"carpet\"}],\"choropleth\":[{\"colorbar\":{\"outlinewidth\":0,\"ticks\":\"\"},\"type\":\"choropleth\"}],\"contour\":[{\"colorbar\":{\"outlinewidth\":0,\"ticks\":\"\"},\"colorscale\":[[0.0,\"#0d0887\"],[0.1111111111111111,\"#46039f\"],[0.2222222222222222,\"#7201a8\"],[0.3333333333333333,\"#9c179e\"],[0.4444444444444444,\"#bd3786\"],[0.5555555555555556,\"#d8576b\"],[0.6666666666666666,\"#ed7953\"],[0.7777777777777778,\"#fb9f3a\"],[0.8888888888888888,\"#fdca26\"],[1.0,\"#f0f921\"]],\"type\":\"contour\"}],\"contourcarpet\":[{\"colorbar\":{\"outlinewidth\":0,\"ticks\":\"\"},\"type\":\"contourcarpet\"}],\"heatmap\":[{\"colorbar\":{\"outlinewidth\":0,\"ticks\":\"\"},\"colorscale\":[[0.0,\"#0d0887\"],[0.1111111111111111,\"#46039f\"],[0.2222222222222222,\"#7201a8\"],[0.3333333333333333,\"#9c179e\"],[0.4444444444444444,\"#bd3786\"],[0.5555555555555556,\"#d8576b\"],[0.6666666666666666,\"#ed7953\"],[0.7777777777777778,\"#fb9f3a\"],[0.8888888888888888,\"#fdca26\"],[1.0,\"#f0f921\"]],\"type\":\"heatmap\"}],\"heatmapgl\":[{\"colorbar\":{\"outlinewidth\":0,\"ticks\":\"\"},\"colorscale\":[[0.0,\"#0d0887\"],[0.1111111111111111,\"#46039f\"],[0.2222222222222222,\"#7201a8\"],[0.3333333333333333,\"#9c179e\"],[0.4444444444444444,\"#bd3786\"],[0.5555555555555556,\"#d8576b\"],[0.6666666666666666,\"#ed7953\"],[0.7777777777777778,\"#fb9f3a\"],[0.8888888888888888,\"#fdca26\"],[1.0,\"#f0f921\"]],\"type\":\"heatmapgl\"}],\"histogram\":[{\"marker\":{\"pattern\":{\"fillmode\":\"overlay\",\"size\":10,\"solidity\":0.2}},\"type\":\"histogram\"}],\"histogram2d\":[{\"colorbar\":{\"outlinewidth\":0,\"ticks\":\"\"},\"colorscale\":[[0.0,\"#0d0887\"],[0.1111111111111111,\"#46039f\"],[0.2222222222222222,\"#7201a8\"],[0.3333333333333333,\"#9c179e\"],[0.4444444444444444,\"#bd3786\"],[0.5555555555555556,\"#d8576b\"],[0.6666666666666666,\"#ed7953\"],[0.7777777777777778,\"#fb9f3a\"],[0.8888888888888888,\"#fdca26\"],[1.0,\"#f0f921\"]],\"type\":\"histogram2d\"}],\"histogram2dcontour\":[{\"colorbar\":{\"outlinewidth\":0,\"ticks\":\"\"},\"colorscale\":[[0.0,\"#0d0887\"],[0.1111111111111111,\"#46039f\"],[0.2222222222222222,\"#7201a8\"],[0.3333333333333333,\"#9c179e\"],[0.4444444444444444,\"#bd3786\"],[0.5555555555555556,\"#d8576b\"],[0.6666666666666666,\"#ed7953\"],[0.7777777777777778,\"#fb9f3a\"],[0.8888888888888888,\"#fdca26\"],[1.0,\"#f0f921\"]],\"type\":\"histogram2dcontour\"}],\"mesh3d\":[{\"colorbar\":{\"outlinewidth\":0,\"ticks\":\"\"},\"type\":\"mesh3d\"}],\"parcoords\":[{\"line\":{\"colorbar\":{\"outlinewidth\":0,\"ticks\":\"\"}},\"type\":\"parcoords\"}],\"pie\":[{\"automargin\":true,\"type\":\"pie\"}],\"scatter\":[{\"marker\":{\"colorbar\":{\"outlinewidth\":0,\"ticks\":\"\"}},\"type\":\"scatter\"}],\"scatter3d\":[{\"line\":{\"colorbar\":{\"outlinewidth\":0,\"ticks\":\"\"}},\"marker\":{\"colorbar\":{\"outlinewidth\":0,\"ticks\":\"\"}},\"type\":\"scatter3d\"}],\"scattercarpet\":[{\"marker\":{\"colorbar\":{\"outlinewidth\":0,\"ticks\":\"\"}},\"type\":\"scattercarpet\"}],\"scattergeo\":[{\"marker\":{\"colorbar\":{\"outlinewidth\":0,\"ticks\":\"\"}},\"type\":\"scattergeo\"}],\"scattergl\":[{\"marker\":{\"colorbar\":{\"outlinewidth\":0,\"ticks\":\"\"}},\"type\":\"scattergl\"}],\"scattermapbox\":[{\"marker\":{\"colorbar\":{\"outlinewidth\":0,\"ticks\":\"\"}},\"type\":\"scattermapbox\"}],\"scatterpolar\":[{\"marker\":{\"colorbar\":{\"outlinewidth\":0,\"ticks\":\"\"}},\"type\":\"scatterpolar\"}],\"scatterpolargl\":[{\"marker\":{\"colorbar\":{\"outlinewidth\":0,\"ticks\":\"\"}},\"type\":\"scatterpolargl\"}],\"scatterternary\":[{\"marker\":{\"colorbar\":{\"outlinewidth\":0,\"ticks\":\"\"}},\"type\":\"scatterternary\"}],\"surface\":[{\"colorbar\":{\"outlinewidth\":0,\"ticks\":\"\"},\"colorscale\":[[0.0,\"#0d0887\"],[0.1111111111111111,\"#46039f\"],[0.2222222222222222,\"#7201a8\"],[0.3333333333333333,\"#9c179e\"],[0.4444444444444444,\"#bd3786\"],[0.5555555555555556,\"#d8576b\"],[0.6666666666666666,\"#ed7953\"],[0.7777777777777778,\"#fb9f3a\"],[0.8888888888888888,\"#fdca26\"],[1.0,\"#f0f921\"]],\"type\":\"surface\"}],\"table\":[{\"cells\":{\"fill\":{\"color\":\"#EBF0F8\"},\"line\":{\"color\":\"white\"}},\"header\":{\"fill\":{\"color\":\"#C8D4E3\"},\"line\":{\"color\":\"white\"}},\"type\":\"table\"}]},\"layout\":{\"annotationdefaults\":{\"arrowcolor\":\"#2a3f5f\",\"arrowhead\":0,\"arrowwidth\":1},\"autotypenumbers\":\"strict\",\"coloraxis\":{\"colorbar\":{\"outlinewidth\":0,\"ticks\":\"\"}},\"colorscale\":{\"diverging\":[[0,\"#8e0152\"],[0.1,\"#c51b7d\"],[0.2,\"#de77ae\"],[0.3,\"#f1b6da\"],[0.4,\"#fde0ef\"],[0.5,\"#f7f7f7\"],[0.6,\"#e6f5d0\"],[0.7,\"#b8e186\"],[0.8,\"#7fbc41\"],[0.9,\"#4d9221\"],[1,\"#276419\"]],\"sequential\":[[0.0,\"#0d0887\"],[0.1111111111111111,\"#46039f\"],[0.2222222222222222,\"#7201a8\"],[0.3333333333333333,\"#9c179e\"],[0.4444444444444444,\"#bd3786\"],[0.5555555555555556,\"#d8576b\"],[0.6666666666666666,\"#ed7953\"],[0.7777777777777778,\"#fb9f3a\"],[0.8888888888888888,\"#fdca26\"],[1.0,\"#f0f921\"]],\"sequentialminus\":[[0.0,\"#0d0887\"],[0.1111111111111111,\"#46039f\"],[0.2222222222222222,\"#7201a8\"],[0.3333333333333333,\"#9c179e\"],[0.4444444444444444,\"#bd3786\"],[0.5555555555555556,\"#d8576b\"],[0.6666666666666666,\"#ed7953\"],[0.7777777777777778,\"#fb9f3a\"],[0.8888888888888888,\"#fdca26\"],[1.0,\"#f0f921\"]]},\"colorway\":[\"#636efa\",\"#EF553B\",\"#00cc96\",\"#ab63fa\",\"#FFA15A\",\"#19d3f3\",\"#FF6692\",\"#B6E880\",\"#FF97FF\",\"#FECB52\"],\"font\":{\"color\":\"#2a3f5f\"},\"geo\":{\"bgcolor\":\"white\",\"lakecolor\":\"white\",\"landcolor\":\"white\",\"showlakes\":true,\"showland\":true,\"subunitcolor\":\"#C8D4E3\"},\"hoverlabel\":{\"align\":\"left\"},\"hovermode\":\"closest\",\"mapbox\":{\"style\":\"light\"},\"paper_bgcolor\":\"white\",\"plot_bgcolor\":\"white\",\"polar\":{\"angularaxis\":{\"gridcolor\":\"#EBF0F8\",\"linecolor\":\"#EBF0F8\",\"ticks\":\"\"},\"bgcolor\":\"white\",\"radialaxis\":{\"gridcolor\":\"#EBF0F8\",\"linecolor\":\"#EBF0F8\",\"ticks\":\"\"}},\"scene\":{\"xaxis\":{\"backgroundcolor\":\"white\",\"gridcolor\":\"#DFE8F3\",\"gridwidth\":2,\"linecolor\":\"#EBF0F8\",\"showbackground\":true,\"ticks\":\"\",\"zerolinecolor\":\"#EBF0F8\"},\"yaxis\":{\"backgroundcolor\":\"white\",\"gridcolor\":\"#DFE8F3\",\"gridwidth\":2,\"linecolor\":\"#EBF0F8\",\"showbackground\":true,\"ticks\":\"\",\"zerolinecolor\":\"#EBF0F8\"},\"zaxis\":{\"backgroundcolor\":\"white\",\"gridcolor\":\"#DFE8F3\",\"gridwidth\":2,\"linecolor\":\"#EBF0F8\",\"showbackground\":true,\"ticks\":\"\",\"zerolinecolor\":\"#EBF0F8\"}},\"shapedefaults\":{\"line\":{\"color\":\"#2a3f5f\"}},\"ternary\":{\"aaxis\":{\"gridcolor\":\"#DFE8F3\",\"linecolor\":\"#A2B1C6\",\"ticks\":\"\"},\"baxis\":{\"gridcolor\":\"#DFE8F3\",\"linecolor\":\"#A2B1C6\",\"ticks\":\"\"},\"bgcolor\":\"white\",\"caxis\":{\"gridcolor\":\"#DFE8F3\",\"linecolor\":\"#A2B1C6\",\"ticks\":\"\"}},\"title\":{\"x\":0.05},\"xaxis\":{\"automargin\":true,\"gridcolor\":\"#EBF0F8\",\"linecolor\":\"#EBF0F8\",\"ticks\":\"\",\"title\":{\"standoff\":15},\"zerolinecolor\":\"#EBF0F8\",\"zerolinewidth\":2},\"yaxis\":{\"automargin\":true,\"gridcolor\":\"#EBF0F8\",\"linecolor\":\"#EBF0F8\",\"ticks\":\"\",\"title\":{\"standoff\":15},\"zerolinecolor\":\"#EBF0F8\",\"zerolinewidth\":2}}},\"xaxis\":{\"anchor\":\"y\",\"domain\":[0.0,1.0],\"title\":{\"text\":\"count\"}},\"yaxis\":{\"anchor\":\"x\",\"categoryarray\":[\"positive\",\"neutral\",\"negative\"],\"categoryorder\":\"array\",\"domain\":[0.0,1.0],\"title\":{\"text\":\"quoted_tweet_sentiment\"}}},                        {\"responsive\": true}                    ).then(function(){\n",
       "                            \n",
       "var gd = document.getElementById('a9fbc569-20e9-44e7-a73d-ae641e1cdfae');\n",
       "var x = new MutationObserver(function (mutations, observer) {{\n",
       "        var display = window.getComputedStyle(gd).display;\n",
       "        if (!display || display === 'none') {{\n",
       "            console.log([gd, 'removed!']);\n",
       "            Plotly.purge(gd);\n",
       "            observer.disconnect();\n",
       "        }}\n",
       "}});\n",
       "\n",
       "// Listen for the removal of the full notebook cells\n",
       "var notebookContainer = gd.closest('#notebook-container');\n",
       "if (notebookContainer) {{\n",
       "    x.observe(notebookContainer, {childList: true});\n",
       "}}\n",
       "\n",
       "// Listen for the clearing of the current output cell\n",
       "var outputEl = gd.closest('.output');\n",
       "if (outputEl) {{\n",
       "    x.observe(outputEl, {childList: true});\n",
       "}}\n",
       "\n",
       "                        })                };                });            </script>        </div>"
      ]
     },
     "metadata": {},
     "output_type": "display_data"
    }
   ],
   "source": [
    "fig = px.bar(df_quoted_sentiments, x=\"count\", y=\"quoted_tweet_sentiment\", orientation='h', template=\"plotly_white\", color=\"quoted_tweet_sentiment\")\n",
    "fig.show()"
   ]
  },
  {
   "cell_type": "markdown",
   "id": "1434bc4f-9603-469e-8837-ab5c2ecd478b",
   "metadata": {},
   "source": [
    "##### Reaction on the quoted tweets through sentiment analysis"
   ]
  },
  {
   "cell_type": "code",
   "execution_count": 42,
   "id": "8b7a5e83-a391-464a-b7cc-36b3cb389915",
   "metadata": {},
   "outputs": [],
   "source": [
    "quoted_tweets_with_sentiment = sg_tweets[(sg_tweets['tweet_enagagement_type'] == 'Quote') & (sg_tweets['quoted_tweet_sentiment'].notna())]"
   ]
  },
  {
   "cell_type": "code",
   "execution_count": 43,
   "id": "f15adf7e-3a8a-4163-a954-22acd8e911dd",
   "metadata": {},
   "outputs": [
    {
     "data": {
      "text/plain": [
       "[('positive', 'positive'),\n",
       " ('positive', 'negative'),\n",
       " ('positive', 'neutral'),\n",
       " ('negative', 'positive'),\n",
       " ('negative', 'negative'),\n",
       " ('negative', 'neutral'),\n",
       " ('neutral', 'positive'),\n",
       " ('neutral', 'negative'),\n",
       " ('neutral', 'neutral')]"
      ]
     },
     "execution_count": 43,
     "metadata": {},
     "output_type": "execute_result"
    }
   ],
   "source": [
    "sentiments = ['positive', 'negative', 'neutral']\n",
    "sentiments_comb = it.product(sentiments, sentiments)\n",
    "sentiments_comb = list(sentiments_comb)\n",
    "sentiments_comb"
   ]
  },
  {
   "cell_type": "code",
   "execution_count": 44,
   "id": "0d60ec7d-25c3-49c9-bcc6-2baa57ddd6ba",
   "metadata": {},
   "outputs": [
    {
     "name": "stdout",
     "output_type": "stream",
     "text": [
      "Tweet: positive | Quoted: positive - 3187\n",
      "Tweet: positive | Quoted: negative - 2444\n",
      "Tweet: positive | Quoted: neutral - 3341\n",
      "Tweet: negative | Quoted: positive - 1654\n",
      "Tweet: negative | Quoted: negative - 4933\n",
      "Tweet: negative | Quoted: neutral - 2863\n",
      "Tweet: neutral | Quoted: positive - 4649\n",
      "Tweet: neutral | Quoted: negative - 8327\n",
      "Tweet: neutral | Quoted: neutral - 8009\n"
     ]
    }
   ],
   "source": [
    "for s1, s2 in sentiments_comb:\n",
    "#     sc.append('{}_{}'.format(s1, s2))\n",
    "    print(\"Tweet: {} | Quoted: {} - {}\".format(s1, s2, len(sg_tweets[(sg_tweets['tweet_sentiment'] == s1) &  (sg_tweets['quoted_tweet_sentiment'] == s2)])))"
   ]
  },
  {
   "cell_type": "code",
   "execution_count": 45,
   "id": "5b5b4e41-deff-4dcb-9cdf-678dfa3e0200",
   "metadata": {},
   "outputs": [
    {
     "data": {
      "application/vnd.plotly.v1+json": {
       "config": {
        "plotlyServerURL": "https://plot.ly"
       },
       "data": [
        {
         "alignmentgroup": "True",
         "hovertemplate": "color=green<br>sentiment_trans_count=%{x}<br>sentiment_trans=%{y}<extra></extra>",
         "legendgroup": "green",
         "marker": {
          "color": "#636efa",
          "pattern": {
           "shape": ""
          }
         },
         "name": "green",
         "offsetgroup": "green",
         "orientation": "h",
         "showlegend": true,
         "textposition": "auto",
         "type": "bar",
         "x": [
          3187,
          1654,
          4649
         ],
         "xaxis": "x",
         "y": [
          "positive_positive",
          "negative_positive",
          "neutral_positive"
         ],
         "yaxis": "y"
        },
        {
         "alignmentgroup": "True",
         "hovertemplate": "color=red<br>sentiment_trans_count=%{x}<br>sentiment_trans=%{y}<extra></extra>",
         "legendgroup": "red",
         "marker": {
          "color": "#EF553B",
          "pattern": {
           "shape": ""
          }
         },
         "name": "red",
         "offsetgroup": "red",
         "orientation": "h",
         "showlegend": true,
         "textposition": "auto",
         "type": "bar",
         "x": [
          2444,
          4933,
          8327
         ],
         "xaxis": "x",
         "y": [
          "positive_negative",
          "negative_negative",
          "neutral_negative"
         ],
         "yaxis": "y"
        },
        {
         "alignmentgroup": "True",
         "hovertemplate": "color=#FFFF00<br>sentiment_trans_count=%{x}<br>sentiment_trans=%{y}<extra></extra>",
         "legendgroup": "#FFFF00",
         "marker": {
          "color": "#00cc96",
          "pattern": {
           "shape": ""
          }
         },
         "name": "#FFFF00",
         "offsetgroup": "#FFFF00",
         "orientation": "h",
         "showlegend": true,
         "textposition": "auto",
         "type": "bar",
         "x": [
          3341,
          2863,
          8009
         ],
         "xaxis": "x",
         "y": [
          "positive_neutral",
          "negative_neutral",
          "neutral_neutral"
         ],
         "yaxis": "y"
        }
       ],
       "layout": {
        "autosize": true,
        "barmode": "relative",
        "legend": {
         "title": {
          "text": "color"
         },
         "tracegroupgap": 0
        },
        "margin": {
         "t": 60
        },
        "showlegend": false,
        "template": {
         "data": {
          "bar": [
           {
            "error_x": {
             "color": "#2a3f5f"
            },
            "error_y": {
             "color": "#2a3f5f"
            },
            "marker": {
             "line": {
              "color": "white",
              "width": 0.5
             },
             "pattern": {
              "fillmode": "overlay",
              "size": 10,
              "solidity": 0.2
             }
            },
            "type": "bar"
           }
          ],
          "barpolar": [
           {
            "marker": {
             "line": {
              "color": "white",
              "width": 0.5
             },
             "pattern": {
              "fillmode": "overlay",
              "size": 10,
              "solidity": 0.2
             }
            },
            "type": "barpolar"
           }
          ],
          "carpet": [
           {
            "aaxis": {
             "endlinecolor": "#2a3f5f",
             "gridcolor": "#C8D4E3",
             "linecolor": "#C8D4E3",
             "minorgridcolor": "#C8D4E3",
             "startlinecolor": "#2a3f5f"
            },
            "baxis": {
             "endlinecolor": "#2a3f5f",
             "gridcolor": "#C8D4E3",
             "linecolor": "#C8D4E3",
             "minorgridcolor": "#C8D4E3",
             "startlinecolor": "#2a3f5f"
            },
            "type": "carpet"
           }
          ],
          "choropleth": [
           {
            "colorbar": {
             "outlinewidth": 0,
             "ticks": ""
            },
            "type": "choropleth"
           }
          ],
          "contour": [
           {
            "colorbar": {
             "outlinewidth": 0,
             "ticks": ""
            },
            "colorscale": [
             [
              0,
              "#0d0887"
             ],
             [
              0.1111111111111111,
              "#46039f"
             ],
             [
              0.2222222222222222,
              "#7201a8"
             ],
             [
              0.3333333333333333,
              "#9c179e"
             ],
             [
              0.4444444444444444,
              "#bd3786"
             ],
             [
              0.5555555555555556,
              "#d8576b"
             ],
             [
              0.6666666666666666,
              "#ed7953"
             ],
             [
              0.7777777777777778,
              "#fb9f3a"
             ],
             [
              0.8888888888888888,
              "#fdca26"
             ],
             [
              1,
              "#f0f921"
             ]
            ],
            "type": "contour"
           }
          ],
          "contourcarpet": [
           {
            "colorbar": {
             "outlinewidth": 0,
             "ticks": ""
            },
            "type": "contourcarpet"
           }
          ],
          "heatmap": [
           {
            "colorbar": {
             "outlinewidth": 0,
             "ticks": ""
            },
            "colorscale": [
             [
              0,
              "#0d0887"
             ],
             [
              0.1111111111111111,
              "#46039f"
             ],
             [
              0.2222222222222222,
              "#7201a8"
             ],
             [
              0.3333333333333333,
              "#9c179e"
             ],
             [
              0.4444444444444444,
              "#bd3786"
             ],
             [
              0.5555555555555556,
              "#d8576b"
             ],
             [
              0.6666666666666666,
              "#ed7953"
             ],
             [
              0.7777777777777778,
              "#fb9f3a"
             ],
             [
              0.8888888888888888,
              "#fdca26"
             ],
             [
              1,
              "#f0f921"
             ]
            ],
            "type": "heatmap"
           }
          ],
          "heatmapgl": [
           {
            "colorbar": {
             "outlinewidth": 0,
             "ticks": ""
            },
            "colorscale": [
             [
              0,
              "#0d0887"
             ],
             [
              0.1111111111111111,
              "#46039f"
             ],
             [
              0.2222222222222222,
              "#7201a8"
             ],
             [
              0.3333333333333333,
              "#9c179e"
             ],
             [
              0.4444444444444444,
              "#bd3786"
             ],
             [
              0.5555555555555556,
              "#d8576b"
             ],
             [
              0.6666666666666666,
              "#ed7953"
             ],
             [
              0.7777777777777778,
              "#fb9f3a"
             ],
             [
              0.8888888888888888,
              "#fdca26"
             ],
             [
              1,
              "#f0f921"
             ]
            ],
            "type": "heatmapgl"
           }
          ],
          "histogram": [
           {
            "marker": {
             "pattern": {
              "fillmode": "overlay",
              "size": 10,
              "solidity": 0.2
             }
            },
            "type": "histogram"
           }
          ],
          "histogram2d": [
           {
            "colorbar": {
             "outlinewidth": 0,
             "ticks": ""
            },
            "colorscale": [
             [
              0,
              "#0d0887"
             ],
             [
              0.1111111111111111,
              "#46039f"
             ],
             [
              0.2222222222222222,
              "#7201a8"
             ],
             [
              0.3333333333333333,
              "#9c179e"
             ],
             [
              0.4444444444444444,
              "#bd3786"
             ],
             [
              0.5555555555555556,
              "#d8576b"
             ],
             [
              0.6666666666666666,
              "#ed7953"
             ],
             [
              0.7777777777777778,
              "#fb9f3a"
             ],
             [
              0.8888888888888888,
              "#fdca26"
             ],
             [
              1,
              "#f0f921"
             ]
            ],
            "type": "histogram2d"
           }
          ],
          "histogram2dcontour": [
           {
            "colorbar": {
             "outlinewidth": 0,
             "ticks": ""
            },
            "colorscale": [
             [
              0,
              "#0d0887"
             ],
             [
              0.1111111111111111,
              "#46039f"
             ],
             [
              0.2222222222222222,
              "#7201a8"
             ],
             [
              0.3333333333333333,
              "#9c179e"
             ],
             [
              0.4444444444444444,
              "#bd3786"
             ],
             [
              0.5555555555555556,
              "#d8576b"
             ],
             [
              0.6666666666666666,
              "#ed7953"
             ],
             [
              0.7777777777777778,
              "#fb9f3a"
             ],
             [
              0.8888888888888888,
              "#fdca26"
             ],
             [
              1,
              "#f0f921"
             ]
            ],
            "type": "histogram2dcontour"
           }
          ],
          "mesh3d": [
           {
            "colorbar": {
             "outlinewidth": 0,
             "ticks": ""
            },
            "type": "mesh3d"
           }
          ],
          "parcoords": [
           {
            "line": {
             "colorbar": {
              "outlinewidth": 0,
              "ticks": ""
             }
            },
            "type": "parcoords"
           }
          ],
          "pie": [
           {
            "automargin": true,
            "type": "pie"
           }
          ],
          "scatter": [
           {
            "marker": {
             "colorbar": {
              "outlinewidth": 0,
              "ticks": ""
             }
            },
            "type": "scatter"
           }
          ],
          "scatter3d": [
           {
            "line": {
             "colorbar": {
              "outlinewidth": 0,
              "ticks": ""
             }
            },
            "marker": {
             "colorbar": {
              "outlinewidth": 0,
              "ticks": ""
             }
            },
            "type": "scatter3d"
           }
          ],
          "scattercarpet": [
           {
            "marker": {
             "colorbar": {
              "outlinewidth": 0,
              "ticks": ""
             }
            },
            "type": "scattercarpet"
           }
          ],
          "scattergeo": [
           {
            "marker": {
             "colorbar": {
              "outlinewidth": 0,
              "ticks": ""
             }
            },
            "type": "scattergeo"
           }
          ],
          "scattergl": [
           {
            "marker": {
             "colorbar": {
              "outlinewidth": 0,
              "ticks": ""
             }
            },
            "type": "scattergl"
           }
          ],
          "scattermapbox": [
           {
            "marker": {
             "colorbar": {
              "outlinewidth": 0,
              "ticks": ""
             }
            },
            "type": "scattermapbox"
           }
          ],
          "scatterpolar": [
           {
            "marker": {
             "colorbar": {
              "outlinewidth": 0,
              "ticks": ""
             }
            },
            "type": "scatterpolar"
           }
          ],
          "scatterpolargl": [
           {
            "marker": {
             "colorbar": {
              "outlinewidth": 0,
              "ticks": ""
             }
            },
            "type": "scatterpolargl"
           }
          ],
          "scatterternary": [
           {
            "marker": {
             "colorbar": {
              "outlinewidth": 0,
              "ticks": ""
             }
            },
            "type": "scatterternary"
           }
          ],
          "surface": [
           {
            "colorbar": {
             "outlinewidth": 0,
             "ticks": ""
            },
            "colorscale": [
             [
              0,
              "#0d0887"
             ],
             [
              0.1111111111111111,
              "#46039f"
             ],
             [
              0.2222222222222222,
              "#7201a8"
             ],
             [
              0.3333333333333333,
              "#9c179e"
             ],
             [
              0.4444444444444444,
              "#bd3786"
             ],
             [
              0.5555555555555556,
              "#d8576b"
             ],
             [
              0.6666666666666666,
              "#ed7953"
             ],
             [
              0.7777777777777778,
              "#fb9f3a"
             ],
             [
              0.8888888888888888,
              "#fdca26"
             ],
             [
              1,
              "#f0f921"
             ]
            ],
            "type": "surface"
           }
          ],
          "table": [
           {
            "cells": {
             "fill": {
              "color": "#EBF0F8"
             },
             "line": {
              "color": "white"
             }
            },
            "header": {
             "fill": {
              "color": "#C8D4E3"
             },
             "line": {
              "color": "white"
             }
            },
            "type": "table"
           }
          ]
         },
         "layout": {
          "annotationdefaults": {
           "arrowcolor": "#2a3f5f",
           "arrowhead": 0,
           "arrowwidth": 1
          },
          "autotypenumbers": "strict",
          "coloraxis": {
           "colorbar": {
            "outlinewidth": 0,
            "ticks": ""
           }
          },
          "colorscale": {
           "diverging": [
            [
             0,
             "#8e0152"
            ],
            [
             0.1,
             "#c51b7d"
            ],
            [
             0.2,
             "#de77ae"
            ],
            [
             0.3,
             "#f1b6da"
            ],
            [
             0.4,
             "#fde0ef"
            ],
            [
             0.5,
             "#f7f7f7"
            ],
            [
             0.6,
             "#e6f5d0"
            ],
            [
             0.7,
             "#b8e186"
            ],
            [
             0.8,
             "#7fbc41"
            ],
            [
             0.9,
             "#4d9221"
            ],
            [
             1,
             "#276419"
            ]
           ],
           "sequential": [
            [
             0,
             "#0d0887"
            ],
            [
             0.1111111111111111,
             "#46039f"
            ],
            [
             0.2222222222222222,
             "#7201a8"
            ],
            [
             0.3333333333333333,
             "#9c179e"
            ],
            [
             0.4444444444444444,
             "#bd3786"
            ],
            [
             0.5555555555555556,
             "#d8576b"
            ],
            [
             0.6666666666666666,
             "#ed7953"
            ],
            [
             0.7777777777777778,
             "#fb9f3a"
            ],
            [
             0.8888888888888888,
             "#fdca26"
            ],
            [
             1,
             "#f0f921"
            ]
           ],
           "sequentialminus": [
            [
             0,
             "#0d0887"
            ],
            [
             0.1111111111111111,
             "#46039f"
            ],
            [
             0.2222222222222222,
             "#7201a8"
            ],
            [
             0.3333333333333333,
             "#9c179e"
            ],
            [
             0.4444444444444444,
             "#bd3786"
            ],
            [
             0.5555555555555556,
             "#d8576b"
            ],
            [
             0.6666666666666666,
             "#ed7953"
            ],
            [
             0.7777777777777778,
             "#fb9f3a"
            ],
            [
             0.8888888888888888,
             "#fdca26"
            ],
            [
             1,
             "#f0f921"
            ]
           ]
          },
          "colorway": [
           "#636efa",
           "#EF553B",
           "#00cc96",
           "#ab63fa",
           "#FFA15A",
           "#19d3f3",
           "#FF6692",
           "#B6E880",
           "#FF97FF",
           "#FECB52"
          ],
          "font": {
           "color": "#2a3f5f"
          },
          "geo": {
           "bgcolor": "white",
           "lakecolor": "white",
           "landcolor": "white",
           "showlakes": true,
           "showland": true,
           "subunitcolor": "#C8D4E3"
          },
          "hoverlabel": {
           "align": "left"
          },
          "hovermode": "closest",
          "mapbox": {
           "style": "light"
          },
          "paper_bgcolor": "white",
          "plot_bgcolor": "white",
          "polar": {
           "angularaxis": {
            "gridcolor": "#EBF0F8",
            "linecolor": "#EBF0F8",
            "ticks": ""
           },
           "bgcolor": "white",
           "radialaxis": {
            "gridcolor": "#EBF0F8",
            "linecolor": "#EBF0F8",
            "ticks": ""
           }
          },
          "scene": {
           "xaxis": {
            "backgroundcolor": "white",
            "gridcolor": "#DFE8F3",
            "gridwidth": 2,
            "linecolor": "#EBF0F8",
            "showbackground": true,
            "ticks": "",
            "zerolinecolor": "#EBF0F8"
           },
           "yaxis": {
            "backgroundcolor": "white",
            "gridcolor": "#DFE8F3",
            "gridwidth": 2,
            "linecolor": "#EBF0F8",
            "showbackground": true,
            "ticks": "",
            "zerolinecolor": "#EBF0F8"
           },
           "zaxis": {
            "backgroundcolor": "white",
            "gridcolor": "#DFE8F3",
            "gridwidth": 2,
            "linecolor": "#EBF0F8",
            "showbackground": true,
            "ticks": "",
            "zerolinecolor": "#EBF0F8"
           }
          },
          "shapedefaults": {
           "line": {
            "color": "#2a3f5f"
           }
          },
          "ternary": {
           "aaxis": {
            "gridcolor": "#DFE8F3",
            "linecolor": "#A2B1C6",
            "ticks": ""
           },
           "baxis": {
            "gridcolor": "#DFE8F3",
            "linecolor": "#A2B1C6",
            "ticks": ""
           },
           "bgcolor": "white",
           "caxis": {
            "gridcolor": "#DFE8F3",
            "linecolor": "#A2B1C6",
            "ticks": ""
           }
          },
          "title": {
           "x": 0.05
          },
          "xaxis": {
           "automargin": true,
           "gridcolor": "#EBF0F8",
           "linecolor": "#EBF0F8",
           "ticks": "",
           "title": {
            "standoff": 15
           },
           "zerolinecolor": "#EBF0F8",
           "zerolinewidth": 2
          },
          "yaxis": {
           "automargin": true,
           "gridcolor": "#EBF0F8",
           "linecolor": "#EBF0F8",
           "ticks": "",
           "title": {
            "standoff": 15
           },
           "zerolinecolor": "#EBF0F8",
           "zerolinewidth": 2
          }
         }
        },
        "title": {
         "text": "Sentiment propagation - count of (root tweet sentiment, quoted tweet sentiment)"
        },
        "xaxis": {
         "anchor": "y",
         "autorange": true,
         "domain": [
          0,
          1
         ],
         "range": [
          0,
          8765.263157894737
         ],
         "title": {
          "text": "sentiment_trans_count"
         },
         "type": "linear"
        },
        "yaxis": {
         "anchor": "x",
         "autorange": true,
         "domain": [
          0,
          1
         ],
         "range": [
          -0.5,
          8.5
         ],
         "title": {
          "text": "sentiment_trans"
         },
         "type": "category"
        }
       }
      },
      "image/png": "[encoded data removed]",
      "text/html": [
       "<div>                            <div id=\"12fc825f-1c2d-40e5-a3fe-ed83353d52b1\" class=\"plotly-graph-div\" style=\"height:400px; width:100%;\"></div>            <script type=\"text/javascript\">                require([\"plotly\"], function(Plotly) {                    window.PLOTLYENV=window.PLOTLYENV || {};                                    if (document.getElementById(\"12fc825f-1c2d-40e5-a3fe-ed83353d52b1\")) {                    Plotly.newPlot(                        \"12fc825f-1c2d-40e5-a3fe-ed83353d52b1\",                        [{\"alignmentgroup\":\"True\",\"hovertemplate\":\"color=green<br>sentiment_trans_count=%{x}<br>sentiment_trans=%{y}<extra></extra>\",\"legendgroup\":\"green\",\"marker\":{\"color\":\"#636efa\",\"pattern\":{\"shape\":\"\"}},\"name\":\"green\",\"offsetgroup\":\"green\",\"orientation\":\"h\",\"showlegend\":true,\"textposition\":\"auto\",\"type\":\"bar\",\"x\":[3187,1654,4649],\"xaxis\":\"x\",\"y\":[\"positive_positive\",\"negative_positive\",\"neutral_positive\"],\"yaxis\":\"y\"},{\"alignmentgroup\":\"True\",\"hovertemplate\":\"color=red<br>sentiment_trans_count=%{x}<br>sentiment_trans=%{y}<extra></extra>\",\"legendgroup\":\"red\",\"marker\":{\"color\":\"#EF553B\",\"pattern\":{\"shape\":\"\"}},\"name\":\"red\",\"offsetgroup\":\"red\",\"orientation\":\"h\",\"showlegend\":true,\"textposition\":\"auto\",\"type\":\"bar\",\"x\":[2444,4933,8327],\"xaxis\":\"x\",\"y\":[\"positive_negative\",\"negative_negative\",\"neutral_negative\"],\"yaxis\":\"y\"},{\"alignmentgroup\":\"True\",\"hovertemplate\":\"color=#FFFF00<br>sentiment_trans_count=%{x}<br>sentiment_trans=%{y}<extra></extra>\",\"legendgroup\":\"#FFFF00\",\"marker\":{\"color\":\"#00cc96\",\"pattern\":{\"shape\":\"\"}},\"name\":\"#FFFF00\",\"offsetgroup\":\"#FFFF00\",\"orientation\":\"h\",\"showlegend\":true,\"textposition\":\"auto\",\"type\":\"bar\",\"x\":[3341,2863,8009],\"xaxis\":\"x\",\"y\":[\"positive_neutral\",\"negative_neutral\",\"neutral_neutral\"],\"yaxis\":\"y\"}],                        {\"barmode\":\"relative\",\"height\":400,\"legend\":{\"title\":{\"text\":\"color\"},\"tracegroupgap\":0},\"margin\":{\"t\":60},\"showlegend\":false,\"template\":{\"data\":{\"bar\":[{\"error_x\":{\"color\":\"#2a3f5f\"},\"error_y\":{\"color\":\"#2a3f5f\"},\"marker\":{\"line\":{\"color\":\"white\",\"width\":0.5},\"pattern\":{\"fillmode\":\"overlay\",\"size\":10,\"solidity\":0.2}},\"type\":\"bar\"}],\"barpolar\":[{\"marker\":{\"line\":{\"color\":\"white\",\"width\":0.5},\"pattern\":{\"fillmode\":\"overlay\",\"size\":10,\"solidity\":0.2}},\"type\":\"barpolar\"}],\"carpet\":[{\"aaxis\":{\"endlinecolor\":\"#2a3f5f\",\"gridcolor\":\"#C8D4E3\",\"linecolor\":\"#C8D4E3\",\"minorgridcolor\":\"#C8D4E3\",\"startlinecolor\":\"#2a3f5f\"},\"baxis\":{\"endlinecolor\":\"#2a3f5f\",\"gridcolor\":\"#C8D4E3\",\"linecolor\":\"#C8D4E3\",\"minorgridcolor\":\"#C8D4E3\",\"startlinecolor\":\"#2a3f5f\"},\"type\":\"carpet\"}],\"choropleth\":[{\"colorbar\":{\"outlinewidth\":0,\"ticks\":\"\"},\"type\":\"choropleth\"}],\"contour\":[{\"colorbar\":{\"outlinewidth\":0,\"ticks\":\"\"},\"colorscale\":[[0.0,\"#0d0887\"],[0.1111111111111111,\"#46039f\"],[0.2222222222222222,\"#7201a8\"],[0.3333333333333333,\"#9c179e\"],[0.4444444444444444,\"#bd3786\"],[0.5555555555555556,\"#d8576b\"],[0.6666666666666666,\"#ed7953\"],[0.7777777777777778,\"#fb9f3a\"],[0.8888888888888888,\"#fdca26\"],[1.0,\"#f0f921\"]],\"type\":\"contour\"}],\"contourcarpet\":[{\"colorbar\":{\"outlinewidth\":0,\"ticks\":\"\"},\"type\":\"contourcarpet\"}],\"heatmap\":[{\"colorbar\":{\"outlinewidth\":0,\"ticks\":\"\"},\"colorscale\":[[0.0,\"#0d0887\"],[0.1111111111111111,\"#46039f\"],[0.2222222222222222,\"#7201a8\"],[0.3333333333333333,\"#9c179e\"],[0.4444444444444444,\"#bd3786\"],[0.5555555555555556,\"#d8576b\"],[0.6666666666666666,\"#ed7953\"],[0.7777777777777778,\"#fb9f3a\"],[0.8888888888888888,\"#fdca26\"],[1.0,\"#f0f921\"]],\"type\":\"heatmap\"}],\"heatmapgl\":[{\"colorbar\":{\"outlinewidth\":0,\"ticks\":\"\"},\"colorscale\":[[0.0,\"#0d0887\"],[0.1111111111111111,\"#46039f\"],[0.2222222222222222,\"#7201a8\"],[0.3333333333333333,\"#9c179e\"],[0.4444444444444444,\"#bd3786\"],[0.5555555555555556,\"#d8576b\"],[0.6666666666666666,\"#ed7953\"],[0.7777777777777778,\"#fb9f3a\"],[0.8888888888888888,\"#fdca26\"],[1.0,\"#f0f921\"]],\"type\":\"heatmapgl\"}],\"histogram\":[{\"marker\":{\"pattern\":{\"fillmode\":\"overlay\",\"size\":10,\"solidity\":0.2}},\"type\":\"histogram\"}],\"histogram2d\":[{\"colorbar\":{\"outlinewidth\":0,\"ticks\":\"\"},\"colorscale\":[[0.0,\"#0d0887\"],[0.1111111111111111,\"#46039f\"],[0.2222222222222222,\"#7201a8\"],[0.3333333333333333,\"#9c179e\"],[0.4444444444444444,\"#bd3786\"],[0.5555555555555556,\"#d8576b\"],[0.6666666666666666,\"#ed7953\"],[0.7777777777777778,\"#fb9f3a\"],[0.8888888888888888,\"#fdca26\"],[1.0,\"#f0f921\"]],\"type\":\"histogram2d\"}],\"histogram2dcontour\":[{\"colorbar\":{\"outlinewidth\":0,\"ticks\":\"\"},\"colorscale\":[[0.0,\"#0d0887\"],[0.1111111111111111,\"#46039f\"],[0.2222222222222222,\"#7201a8\"],[0.3333333333333333,\"#9c179e\"],[0.4444444444444444,\"#bd3786\"],[0.5555555555555556,\"#d8576b\"],[0.6666666666666666,\"#ed7953\"],[0.7777777777777778,\"#fb9f3a\"],[0.8888888888888888,\"#fdca26\"],[1.0,\"#f0f921\"]],\"type\":\"histogram2dcontour\"}],\"mesh3d\":[{\"colorbar\":{\"outlinewidth\":0,\"ticks\":\"\"},\"type\":\"mesh3d\"}],\"parcoords\":[{\"line\":{\"colorbar\":{\"outlinewidth\":0,\"ticks\":\"\"}},\"type\":\"parcoords\"}],\"pie\":[{\"automargin\":true,\"type\":\"pie\"}],\"scatter\":[{\"marker\":{\"colorbar\":{\"outlinewidth\":0,\"ticks\":\"\"}},\"type\":\"scatter\"}],\"scatter3d\":[{\"line\":{\"colorbar\":{\"outlinewidth\":0,\"ticks\":\"\"}},\"marker\":{\"colorbar\":{\"outlinewidth\":0,\"ticks\":\"\"}},\"type\":\"scatter3d\"}],\"scattercarpet\":[{\"marker\":{\"colorbar\":{\"outlinewidth\":0,\"ticks\":\"\"}},\"type\":\"scattercarpet\"}],\"scattergeo\":[{\"marker\":{\"colorbar\":{\"outlinewidth\":0,\"ticks\":\"\"}},\"type\":\"scattergeo\"}],\"scattergl\":[{\"marker\":{\"colorbar\":{\"outlinewidth\":0,\"ticks\":\"\"}},\"type\":\"scattergl\"}],\"scattermapbox\":[{\"marker\":{\"colorbar\":{\"outlinewidth\":0,\"ticks\":\"\"}},\"type\":\"scattermapbox\"}],\"scatterpolar\":[{\"marker\":{\"colorbar\":{\"outlinewidth\":0,\"ticks\":\"\"}},\"type\":\"scatterpolar\"}],\"scatterpolargl\":[{\"marker\":{\"colorbar\":{\"outlinewidth\":0,\"ticks\":\"\"}},\"type\":\"scatterpolargl\"}],\"scatterternary\":[{\"marker\":{\"colorbar\":{\"outlinewidth\":0,\"ticks\":\"\"}},\"type\":\"scatterternary\"}],\"surface\":[{\"colorbar\":{\"outlinewidth\":0,\"ticks\":\"\"},\"colorscale\":[[0.0,\"#0d0887\"],[0.1111111111111111,\"#46039f\"],[0.2222222222222222,\"#7201a8\"],[0.3333333333333333,\"#9c179e\"],[0.4444444444444444,\"#bd3786\"],[0.5555555555555556,\"#d8576b\"],[0.6666666666666666,\"#ed7953\"],[0.7777777777777778,\"#fb9f3a\"],[0.8888888888888888,\"#fdca26\"],[1.0,\"#f0f921\"]],\"type\":\"surface\"}],\"table\":[{\"cells\":{\"fill\":{\"color\":\"#EBF0F8\"},\"line\":{\"color\":\"white\"}},\"header\":{\"fill\":{\"color\":\"#C8D4E3\"},\"line\":{\"color\":\"white\"}},\"type\":\"table\"}]},\"layout\":{\"annotationdefaults\":{\"arrowcolor\":\"#2a3f5f\",\"arrowhead\":0,\"arrowwidth\":1},\"autotypenumbers\":\"strict\",\"coloraxis\":{\"colorbar\":{\"outlinewidth\":0,\"ticks\":\"\"}},\"colorscale\":{\"diverging\":[[0,\"#8e0152\"],[0.1,\"#c51b7d\"],[0.2,\"#de77ae\"],[0.3,\"#f1b6da\"],[0.4,\"#fde0ef\"],[0.5,\"#f7f7f7\"],[0.6,\"#e6f5d0\"],[0.7,\"#b8e186\"],[0.8,\"#7fbc41\"],[0.9,\"#4d9221\"],[1,\"#276419\"]],\"sequential\":[[0.0,\"#0d0887\"],[0.1111111111111111,\"#46039f\"],[0.2222222222222222,\"#7201a8\"],[0.3333333333333333,\"#9c179e\"],[0.4444444444444444,\"#bd3786\"],[0.5555555555555556,\"#d8576b\"],[0.6666666666666666,\"#ed7953\"],[0.7777777777777778,\"#fb9f3a\"],[0.8888888888888888,\"#fdca26\"],[1.0,\"#f0f921\"]],\"sequentialminus\":[[0.0,\"#0d0887\"],[0.1111111111111111,\"#46039f\"],[0.2222222222222222,\"#7201a8\"],[0.3333333333333333,\"#9c179e\"],[0.4444444444444444,\"#bd3786\"],[0.5555555555555556,\"#d8576b\"],[0.6666666666666666,\"#ed7953\"],[0.7777777777777778,\"#fb9f3a\"],[0.8888888888888888,\"#fdca26\"],[1.0,\"#f0f921\"]]},\"colorway\":[\"#636efa\",\"#EF553B\",\"#00cc96\",\"#ab63fa\",\"#FFA15A\",\"#19d3f3\",\"#FF6692\",\"#B6E880\",\"#FF97FF\",\"#FECB52\"],\"font\":{\"color\":\"#2a3f5f\"},\"geo\":{\"bgcolor\":\"white\",\"lakecolor\":\"white\",\"landcolor\":\"white\",\"showlakes\":true,\"showland\":true,\"subunitcolor\":\"#C8D4E3\"},\"hoverlabel\":{\"align\":\"left\"},\"hovermode\":\"closest\",\"mapbox\":{\"style\":\"light\"},\"paper_bgcolor\":\"white\",\"plot_bgcolor\":\"white\",\"polar\":{\"angularaxis\":{\"gridcolor\":\"#EBF0F8\",\"linecolor\":\"#EBF0F8\",\"ticks\":\"\"},\"bgcolor\":\"white\",\"radialaxis\":{\"gridcolor\":\"#EBF0F8\",\"linecolor\":\"#EBF0F8\",\"ticks\":\"\"}},\"scene\":{\"xaxis\":{\"backgroundcolor\":\"white\",\"gridcolor\":\"#DFE8F3\",\"gridwidth\":2,\"linecolor\":\"#EBF0F8\",\"showbackground\":true,\"ticks\":\"\",\"zerolinecolor\":\"#EBF0F8\"},\"yaxis\":{\"backgroundcolor\":\"white\",\"gridcolor\":\"#DFE8F3\",\"gridwidth\":2,\"linecolor\":\"#EBF0F8\",\"showbackground\":true,\"ticks\":\"\",\"zerolinecolor\":\"#EBF0F8\"},\"zaxis\":{\"backgroundcolor\":\"white\",\"gridcolor\":\"#DFE8F3\",\"gridwidth\":2,\"linecolor\":\"#EBF0F8\",\"showbackground\":true,\"ticks\":\"\",\"zerolinecolor\":\"#EBF0F8\"}},\"shapedefaults\":{\"line\":{\"color\":\"#2a3f5f\"}},\"ternary\":{\"aaxis\":{\"gridcolor\":\"#DFE8F3\",\"linecolor\":\"#A2B1C6\",\"ticks\":\"\"},\"baxis\":{\"gridcolor\":\"#DFE8F3\",\"linecolor\":\"#A2B1C6\",\"ticks\":\"\"},\"bgcolor\":\"white\",\"caxis\":{\"gridcolor\":\"#DFE8F3\",\"linecolor\":\"#A2B1C6\",\"ticks\":\"\"}},\"title\":{\"x\":0.05},\"xaxis\":{\"automargin\":true,\"gridcolor\":\"#EBF0F8\",\"linecolor\":\"#EBF0F8\",\"ticks\":\"\",\"title\":{\"standoff\":15},\"zerolinecolor\":\"#EBF0F8\",\"zerolinewidth\":2},\"yaxis\":{\"automargin\":true,\"gridcolor\":\"#EBF0F8\",\"linecolor\":\"#EBF0F8\",\"ticks\":\"\",\"title\":{\"standoff\":15},\"zerolinecolor\":\"#EBF0F8\",\"zerolinewidth\":2}}},\"title\":{\"text\":\"Sentiment propagation - count of (root tweet sentiment, quoted tweet sentiment)\"},\"xaxis\":{\"anchor\":\"y\",\"domain\":[0.0,1.0],\"title\":{\"text\":\"sentiment_trans_count\"}},\"yaxis\":{\"anchor\":\"x\",\"domain\":[0.0,1.0],\"title\":{\"text\":\"sentiment_trans\"}}},                        {\"responsive\": true}                    ).then(function(){\n",
       "                            \n",
       "var gd = document.getElementById('12fc825f-1c2d-40e5-a3fe-ed83353d52b1');\n",
       "var x = new MutationObserver(function (mutations, observer) {{\n",
       "        var display = window.getComputedStyle(gd).display;\n",
       "        if (!display || display === 'none') {{\n",
       "            console.log([gd, 'removed!']);\n",
       "            Plotly.purge(gd);\n",
       "            observer.disconnect();\n",
       "        }}\n",
       "}});\n",
       "\n",
       "// Listen for the removal of the full notebook cells\n",
       "var notebookContainer = gd.closest('#notebook-container');\n",
       "if (notebookContainer) {{\n",
       "    x.observe(notebookContainer, {childList: true});\n",
       "}}\n",
       "\n",
       "// Listen for the clearing of the current output cell\n",
       "var outputEl = gd.closest('.output');\n",
       "if (outputEl) {{\n",
       "    x.observe(outputEl, {childList: true});\n",
       "}}\n",
       "\n",
       "                        })                };                });            </script>        </div>"
      ]
     },
     "metadata": {},
     "output_type": "display_data"
    }
   ],
   "source": [
    "sc = []\n",
    "sc_count = []\n",
    "colors = []\n",
    "for s1, s2 in sentiments_comb:\n",
    "    sc.append('{}_{}'.format(s1, s2))\n",
    "    if s2 == 'negative': colors.append('red') \n",
    "    elif s2 == 'neutral': colors.append('#FFFF00')\n",
    "    else: colors.append('green')\n",
    "    sc_count.append( len(sg_tweets[(sg_tweets['tweet_sentiment'] == s1) &  (sg_tweets['quoted_tweet_sentiment'] == s2)]))\n",
    "    \n",
    "sentiment_count = {\n",
    "    'sentiment_trans': sc,\n",
    "    'sentiment_trans_count': sc_count\n",
    "}\n",
    "sentiment_count\n",
    "\n",
    "fig = px.bar(sentiment_count, x=\"sentiment_trans_count\", y=\"sentiment_trans\", template='plotly_white', color=colors, \n",
    "             height=400)\n",
    "fig.update_layout(showlegend=False, title=\"Sentiment propagation - count of (root tweet sentiment, quoted tweet sentiment)\")\n",
    "fig.show()"
   ]
  },
  {
   "cell_type": "code",
   "execution_count": 46,
   "id": "5f6e087c-71c2-4cfe-b1a8-42c2b93fc92d",
   "metadata": {},
   "outputs": [
    {
     "data": {
      "text/html": [
       "<div>\n",
       "<style scoped>\n",
       "    .dataframe tbody tr th:only-of-type {\n",
       "        vertical-align: middle;\n",
       "    }\n",
       "\n",
       "    .dataframe tbody tr th {\n",
       "        vertical-align: top;\n",
       "    }\n",
       "\n",
       "    .dataframe thead th {\n",
       "        text-align: right;\n",
       "    }\n",
       "</style>\n",
       "<table border=\"1\" class=\"dataframe\">\n",
       "  <thead>\n",
       "    <tr style=\"text-align: right;\">\n",
       "      <th></th>\n",
       "      <th>tweet_text</th>\n",
       "      <th>quoted_tweet_text</th>\n",
       "    </tr>\n",
       "  </thead>\n",
       "  <tbody>\n",
       "    <tr>\n",
       "      <th>29</th>\n",
       "      <td>RT @h3yril: shopping malls are so crowded and ...</td>\n",
       "      <td>URA: Safe distancing officers can enter &amp; insp...</td>\n",
       "    </tr>\n",
       "    <tr>\n",
       "      <th>113</th>\n",
       "      <td>RT @h3yril: shopping malls are so crowded and ...</td>\n",
       "      <td>URA: Safe distancing officers can enter &amp; insp...</td>\n",
       "    </tr>\n",
       "    <tr>\n",
       "      <th>303</th>\n",
       "      <td>#WhatIsHappeningInMyanmar\\n#MyanmarCovidSOS \\n...</td>\n",
       "      <td>“If the elected civilian government had admini...</td>\n",
       "    </tr>\n",
       "    <tr>\n",
       "      <th>306</th>\n",
       "      <td>#WhatIsHappeningInMyanmar\\n#MyanmarCovidSOS \\n...</td>\n",
       "      <td>“If the elected civilian government had admini...</td>\n",
       "    </tr>\n",
       "    <tr>\n",
       "      <th>315</th>\n",
       "      <td>#WhatIsHappeningInMyanmar\\n#MyanmarCovidSOS \\n...</td>\n",
       "      <td>“If the elected civilian government had admini...</td>\n",
       "    </tr>\n",
       "    <tr>\n",
       "      <th>...</th>\n",
       "      <td>...</td>\n",
       "      <td>...</td>\n",
       "    </tr>\n",
       "    <tr>\n",
       "      <th>427908</th>\n",
       "      <td>RT @AAhronheim: Seriously??? Are you honestly ...</td>\n",
       "      <td>When you yearn for freedom, sometimes a spoon ...</td>\n",
       "    </tr>\n",
       "    <tr>\n",
       "      <th>428290</th>\n",
       "      <td>i can think of several other reasons why being...</td>\n",
       "      <td>WATCH:\\nUS military walk-outs occurred after B...</td>\n",
       "    </tr>\n",
       "    <tr>\n",
       "      <th>428432</th>\n",
       "      <td>RT @KirralieS: The slumber is very deep. I dou...</td>\n",
       "      <td>What is even going on in Australia?\\n\\nParliam...</td>\n",
       "    </tr>\n",
       "    <tr>\n",
       "      <th>429173</th>\n",
       "      <td>RT @indulekshmi16: The fact that they weren’t ...</td>\n",
       "      <td>Up to 500 vaccinated migrant workers a week ca...</td>\n",
       "    </tr>\n",
       "    <tr>\n",
       "      <th>429637</th>\n",
       "      <td>Can somebody think how to make MALAYSIA strong...</td>\n",
       "      <td>Bill to limit propagation of non-Muslim faiths...</td>\n",
       "    </tr>\n",
       "  </tbody>\n",
       "</table>\n",
       "<p>1654 rows × 2 columns</p>\n",
       "</div>"
      ],
      "text/plain": [
       "                                               tweet_text  \\\n",
       "29      RT @h3yril: shopping malls are so crowded and ...   \n",
       "113     RT @h3yril: shopping malls are so crowded and ...   \n",
       "303     #WhatIsHappeningInMyanmar\\n#MyanmarCovidSOS \\n...   \n",
       "306     #WhatIsHappeningInMyanmar\\n#MyanmarCovidSOS \\n...   \n",
       "315     #WhatIsHappeningInMyanmar\\n#MyanmarCovidSOS \\n...   \n",
       "...                                                   ...   \n",
       "427908  RT @AAhronheim: Seriously??? Are you honestly ...   \n",
       "428290  i can think of several other reasons why being...   \n",
       "428432  RT @KirralieS: The slumber is very deep. I dou...   \n",
       "429173  RT @indulekshmi16: The fact that they weren’t ...   \n",
       "429637  Can somebody think how to make MALAYSIA strong...   \n",
       "\n",
       "                                        quoted_tweet_text  \n",
       "29      URA: Safe distancing officers can enter & insp...  \n",
       "113     URA: Safe distancing officers can enter & insp...  \n",
       "303     “If the elected civilian government had admini...  \n",
       "306     “If the elected civilian government had admini...  \n",
       "315     “If the elected civilian government had admini...  \n",
       "...                                                   ...  \n",
       "427908  When you yearn for freedom, sometimes a spoon ...  \n",
       "428290  WATCH:\\nUS military walk-outs occurred after B...  \n",
       "428432  What is even going on in Australia?\\n\\nParliam...  \n",
       "429173  Up to 500 vaccinated migrant workers a week ca...  \n",
       "429637  Bill to limit propagation of non-Muslim faiths...  \n",
       "\n",
       "[1654 rows x 2 columns]"
      ]
     },
     "execution_count": 46,
     "metadata": {},
     "output_type": "execute_result"
    }
   ],
   "source": [
    "FROM_SENTIMENT = 'negative'\n",
    "TO_SENTIMENT = 'positive'\n",
    "\n",
    "sg_tweets[(sg_tweets[\"tweet_sentiment\"] == FROM_SENTIMENT) & \\\n",
    "          (sg_tweets[\"quoted_tweet_sentiment\"] == TO_SENTIMENT)][['tweet_text', 'quoted_tweet_text']]"
   ]
  },
  {
   "cell_type": "markdown",
   "id": "6efad78d-62f8-41fd-acd1-4879d90ee858",
   "metadata": {},
   "source": [
    "### 4.3. Analysing Singapore users  <a id=\"cell43\"></a>"
   ]
  },
  {
   "cell_type": "code",
   "execution_count": 47,
   "id": "51ee2d7c-c0b7-48f5-9545-9cd881493ae9",
   "metadata": {},
   "outputs": [
    {
     "name": "stdout",
     "output_type": "stream",
     "text": [
      "# of unique Singapore users: 25922\n",
      "# of verified Singapore users: 374\n"
     ]
    }
   ],
   "source": [
    "print( \"# of unique Singapore users:\", sg_tweets['user_id_x'].nunique())\n",
    "print( \"# of verified Singapore users:\", sg_tweets[sg_tweets['user_verified'] == True]['user_id_x'].nunique())"
   ]
  },
  {
   "cell_type": "code",
   "execution_count": 64,
   "id": "fbec7d97-9a33-4246-8194-b997afabc0ba",
   "metadata": {},
   "outputs": [],
   "source": [
    "# sg_tweets.columns"
   ]
  },
  {
   "cell_type": "code",
   "execution_count": 66,
   "id": "04b1c07e-2b4b-4dc3-8f0f-ca1d339a76ae",
   "metadata": {},
   "outputs": [
    {
     "data": {
      "text/plain": [
       "22531"
      ]
     },
     "execution_count": 66,
     "metadata": {},
     "output_type": "execute_result"
    }
   ],
   "source": [
    "len(list(sg_tweets['user_screenname_x'].unique()))"
   ]
  },
  {
   "cell_type": "code",
   "execution_count": 74,
   "id": "5b27e78e-68a3-48a4-a4c8-25c8a7440b48",
   "metadata": {},
   "outputs": [
    {
     "data": {
      "text/html": [
       "<div>\n",
       "<style scoped>\n",
       "    .dataframe tbody tr th:only-of-type {\n",
       "        vertical-align: middle;\n",
       "    }\n",
       "\n",
       "    .dataframe tbody tr th {\n",
       "        vertical-align: top;\n",
       "    }\n",
       "\n",
       "    .dataframe thead th {\n",
       "        text-align: right;\n",
       "    }\n",
       "</style>\n",
       "<table border=\"1\" class=\"dataframe\">\n",
       "  <thead>\n",
       "    <tr style=\"text-align: right;\">\n",
       "      <th></th>\n",
       "      <th>user_desc</th>\n",
       "      <th>user_screenname_x</th>\n",
       "    </tr>\n",
       "  </thead>\n",
       "  <tbody>\n",
       "    <tr>\n",
       "      <th>0</th>\n",
       "      <td>Loves traveling. Dislikes the China Communist ...</td>\n",
       "      <td>journeyhometosg</td>\n",
       "    </tr>\n",
       "    <tr>\n",
       "      <th>1</th>\n",
       "      <td>um let’s just see how this twitter thing works...</td>\n",
       "      <td>corgisha</td>\n",
       "    </tr>\n",
       "    <tr>\n",
       "      <th>2</th>\n",
       "      <td>made dinner for two and I ate both.</td>\n",
       "      <td>tbngrdns</td>\n",
       "    </tr>\n",
       "    <tr>\n",
       "      <th>3</th>\n",
       "      <td>👩‍⚕️♏🦂☘️🇲🇲\\nWe need R2P in Myanmar.</td>\n",
       "      <td>AhtarSpring</td>\n",
       "    </tr>\n",
       "    <tr>\n",
       "      <th>4</th>\n",
       "      <td>she/her</td>\n",
       "      <td>sabjoyy</td>\n",
       "    </tr>\n",
       "    <tr>\n",
       "      <th>5</th>\n",
       "      <td>Singapore Chittappa, Malaysia mama, USA machha</td>\n",
       "      <td>nanumtrackerth1</td>\n",
       "    </tr>\n",
       "    <tr>\n",
       "      <th>6</th>\n",
       "      <td>Don't mind me, I'm just an idea.</td>\n",
       "      <td>jmangulo75</td>\n",
       "    </tr>\n",
       "    <tr>\n",
       "      <th>7</th>\n",
       "      <td>ripe with typos until theres an edit button. r...</td>\n",
       "      <td>xyrael</td>\n",
       "    </tr>\n",
       "    <tr>\n",
       "      <th>8</th>\n",
       "      <td>Developing cutting-edge security solutions for...</td>\n",
       "      <td>joseph_gan</td>\n",
       "    </tr>\n",
       "    <tr>\n",
       "      <th>9</th>\n",
       "      <td>warm skies, sad eyes</td>\n",
       "      <td>MapleHotcakes</td>\n",
       "    </tr>\n",
       "    <tr>\n",
       "      <th>10</th>\n",
       "      <td>MRI clinical scientist @SingHealthSG @mysgh. A...</td>\n",
       "      <td>septian</td>\n",
       "    </tr>\n",
       "    <tr>\n",
       "      <th>11</th>\n",
       "      <td>Authentic from Taiwan Jiu Fen Ginger Tea#welln...</td>\n",
       "      <td>LerStore</td>\n",
       "    </tr>\n",
       "    <tr>\n",
       "      <th>12</th>\n",
       "      <td>Flawed // An amalgamation of sorts // Tweets b...</td>\n",
       "      <td>wendynatalie</td>\n",
       "    </tr>\n",
       "    <tr>\n",
       "      <th>13</th>\n",
       "      <td>addiyktd. ig@jonodon.</td>\n",
       "      <td>therealjonodon</td>\n",
       "    </tr>\n",
       "    <tr>\n",
       "      <th>14</th>\n",
       "      <td>probably my rant-to-diary here</td>\n",
       "      <td>nvtashvj</td>\n",
       "    </tr>\n",
       "    <tr>\n",
       "      <th>15</th>\n",
       "      <td>Thinker, Photographer, Inventor, Investor, Inn...</td>\n",
       "      <td>henry8</td>\n",
       "    </tr>\n",
       "    <tr>\n",
       "      <th>16</th>\n",
       "      <td>Hello!僕はカナリです！ I'm from singapore/シンガポール. 大学生,...</td>\n",
       "      <td>KanekiKannott</td>\n",
       "    </tr>\n",
       "    <tr>\n",
       "      <th>17</th>\n",
       "      <td>Singapore Italian Association Limited, #noprof...</td>\n",
       "      <td>italysingapore</td>\n",
       "    </tr>\n",
       "    <tr>\n",
       "      <th>18</th>\n",
       "      <td>NaN</td>\n",
       "      <td>issuffixn</td>\n",
       "    </tr>\n",
       "    <tr>\n",
       "      <th>19</th>\n",
       "      <td>chaotic weevil | poet | comedian | average ear...</td>\n",
       "      <td>stephdogfoot</td>\n",
       "    </tr>\n",
       "    <tr>\n",
       "      <th>20</th>\n",
       "      <td>banker, avid traveller, father of 2 lovely dau...</td>\n",
       "      <td>KastyAmit</td>\n",
       "    </tr>\n",
       "    <tr>\n",
       "      <th>21</th>\n",
       "      <td>At Louise Florals, we know it’s the little thi...</td>\n",
       "      <td>LouiseFlorals</td>\n",
       "    </tr>\n",
       "    <tr>\n",
       "      <th>22</th>\n",
       "      <td>Flawed // An amalgamation of sorts // Tweets b...</td>\n",
       "      <td>wendynatalie</td>\n",
       "    </tr>\n",
       "    <tr>\n",
       "      <th>23</th>\n",
       "      <td>Covering crude oil markets from Singapore at B...</td>\n",
       "      <td>iamsharoncho</td>\n",
       "    </tr>\n",
       "    <tr>\n",
       "      <th>24</th>\n",
       "      <td>DailyFX Strategist</td>\n",
       "      <td>margaretyjy</td>\n",
       "    </tr>\n",
       "    <tr>\n",
       "      <th>25</th>\n",
       "      <td>A zombie, a blogger, a diecaster, a golfer &amp; g...</td>\n",
       "      <td>BirkinDust</td>\n",
       "    </tr>\n",
       "    <tr>\n",
       "      <th>26</th>\n",
       "      <td>Follow us on http://instagram.com/wakeupsingap...</td>\n",
       "      <td>wakeupsg</td>\n",
       "    </tr>\n",
       "    <tr>\n",
       "      <th>27</th>\n",
       "      <td>Libra. Don't promise me the moon or the stars,...</td>\n",
       "      <td>fhnrzl</td>\n",
       "    </tr>\n",
       "    <tr>\n",
       "      <th>28</th>\n",
       "      <td>Specialists in recruitment for Creative, HR, M...</td>\n",
       "      <td>SaltJobsAsia</td>\n",
       "    </tr>\n",
       "    <tr>\n",
       "      <th>29</th>\n",
       "      <td>striving faithfully for magis.</td>\n",
       "      <td>jomserna</td>\n",
       "    </tr>\n",
       "  </tbody>\n",
       "</table>\n",
       "</div>"
      ],
      "text/plain": [
       "                                            user_desc user_screenname_x\n",
       "0   Loves traveling. Dislikes the China Communist ...   journeyhometosg\n",
       "1   um let’s just see how this twitter thing works...          corgisha\n",
       "2                 made dinner for two and I ate both.          tbngrdns\n",
       "3                 👩‍⚕️♏🦂☘️🇲🇲\\nWe need R2P in Myanmar.       AhtarSpring\n",
       "4                                             she/her           sabjoyy\n",
       "5      Singapore Chittappa, Malaysia mama, USA machha   nanumtrackerth1\n",
       "6                    Don't mind me, I'm just an idea.        jmangulo75\n",
       "7   ripe with typos until theres an edit button. r...            xyrael\n",
       "8   Developing cutting-edge security solutions for...        joseph_gan\n",
       "9                                warm skies, sad eyes     MapleHotcakes\n",
       "10  MRI clinical scientist @SingHealthSG @mysgh. A...           septian\n",
       "11  Authentic from Taiwan Jiu Fen Ginger Tea#welln...          LerStore\n",
       "12  Flawed // An amalgamation of sorts // Tweets b...      wendynatalie\n",
       "13                              addiyktd. ig@jonodon.    therealjonodon\n",
       "14                     probably my rant-to-diary here          nvtashvj\n",
       "15  Thinker, Photographer, Inventor, Investor, Inn...            henry8\n",
       "16  Hello!僕はカナリです！ I'm from singapore/シンガポール. 大学生,...     KanekiKannott\n",
       "17  Singapore Italian Association Limited, #noprof...    italysingapore\n",
       "18                                                NaN         issuffixn\n",
       "19  chaotic weevil | poet | comedian | average ear...      stephdogfoot\n",
       "20  banker, avid traveller, father of 2 lovely dau...         KastyAmit\n",
       "21  At Louise Florals, we know it’s the little thi...     LouiseFlorals\n",
       "22  Flawed // An amalgamation of sorts // Tweets b...      wendynatalie\n",
       "23  Covering crude oil markets from Singapore at B...      iamsharoncho\n",
       "24                                 DailyFX Strategist       margaretyjy\n",
       "25  A zombie, a blogger, a diecaster, a golfer & g...        BirkinDust\n",
       "26  Follow us on http://instagram.com/wakeupsingap...          wakeupsg\n",
       "27  Libra. Don't promise me the moon or the stars,...            fhnrzl\n",
       "28  Specialists in recruitment for Creative, HR, M...      SaltJobsAsia\n",
       "29                     striving faithfully for magis.          jomserna"
      ]
     },
     "execution_count": 74,
     "metadata": {},
     "output_type": "execute_result"
    }
   ],
   "source": [
    "sg_tweets[['user_desc', 'user_screenname_x']].head(30)"
   ]
  },
  {
   "cell_type": "code",
   "execution_count": 234,
   "id": "f6fef2d3-5d7f-41d2-970e-6458a98cb860",
   "metadata": {},
   "outputs": [],
   "source": [
    "# Saving data for the dashboard\n",
    "basic_data = {\n",
    "    'total_tweets': total_tweets,\n",
    "    'min_date': MIN_DATE,\n",
    "    'max_date': MAX_DATE,\n",
    "    'avg_tweets': int(avg_tweets)\n",
    "\n",
    "}\n",
    "\n",
    "with open('../data/output/basics/basic.json', 'w') as fp:\n",
    "    json.dump(basic_data, fp)"
   ]
  },
  {
   "cell_type": "code",
   "execution_count": null,
   "id": "0e89a635-6acb-45be-8ef4-c3d189fe7801",
   "metadata": {},
   "outputs": [],
   "source": []
  },
  {
   "cell_type": "markdown",
   "id": "5e12eea5-b714-4656-9a3d-d6dcecafa547",
   "metadata": {},
   "source": [
    "#### Users with high number of followers"
   ]
  },
  {
   "cell_type": "code",
   "execution_count": 75,
   "id": "957380c4-8dbc-4a65-b1fc-f97f0c08eaac",
   "metadata": {},
   "outputs": [
    {
     "data": {
      "text/html": [
       "<div>\n",
       "<style scoped>\n",
       "    .dataframe tbody tr th:only-of-type {\n",
       "        vertical-align: middle;\n",
       "    }\n",
       "\n",
       "    .dataframe tbody tr th {\n",
       "        vertical-align: top;\n",
       "    }\n",
       "\n",
       "    .dataframe thead th {\n",
       "        text-align: right;\n",
       "    }\n",
       "</style>\n",
       "<table border=\"1\" class=\"dataframe\">\n",
       "  <thead>\n",
       "    <tr style=\"text-align: right;\">\n",
       "      <th></th>\n",
       "      <th>user_desc</th>\n",
       "      <th>user_verified</th>\n",
       "      <th>user_followers_count</th>\n",
       "    </tr>\n",
       "    <tr>\n",
       "      <th>user_screenname_x</th>\n",
       "      <th></th>\n",
       "      <th></th>\n",
       "      <th></th>\n",
       "    </tr>\n",
       "  </thead>\n",
       "  <tbody>\n",
       "    <tr>\n",
       "      <th>straits_times</th>\n",
       "      <td>Stay in the know with the latest news from Sin...</td>\n",
       "      <td>True</td>\n",
       "      <td>1086547</td>\n",
       "    </tr>\n",
       "    <tr>\n",
       "      <th>ChannelNewsAsia</th>\n",
       "      <td>The official space of CNA - the source of brea...</td>\n",
       "      <td>True</td>\n",
       "      <td>1053198</td>\n",
       "    </tr>\n",
       "    <tr>\n",
       "      <th>leehsienloong</th>\n",
       "      <td>Prime Minister of Singapore and leader of the ...</td>\n",
       "      <td>True</td>\n",
       "      <td>798436</td>\n",
       "    </tr>\n",
       "    <tr>\n",
       "      <th>TODAYonline</th>\n",
       "      <td>Get the latest local and international news fr...</td>\n",
       "      <td>True</td>\n",
       "      <td>692039</td>\n",
       "    </tr>\n",
       "    <tr>\n",
       "      <th>zaobaosg</th>\n",
       "      <td>http://zaobao.sg 是新加坡报业控股属下的网站。以第三只眼看大中华，客观新闻和...</td>\n",
       "      <td>False</td>\n",
       "      <td>518588</td>\n",
       "    </tr>\n",
       "    <tr>\n",
       "      <th>SoSingaporean</th>\n",
       "      <td>Follow to discover everything so unique and #s...</td>\n",
       "      <td>False</td>\n",
       "      <td>461939</td>\n",
       "    </tr>\n",
       "    <tr>\n",
       "      <th>NEAsg</th>\n",
       "      <td>Also on Facebook https://t.co/xNg9BTncsL, Inst...</td>\n",
       "      <td>True</td>\n",
       "      <td>440894</td>\n",
       "    </tr>\n",
       "    <tr>\n",
       "      <th>mrbrown</th>\n",
       "      <td>mrbrown aka LEE Kin Mun, Blogfather of Singapo...</td>\n",
       "      <td>True</td>\n",
       "      <td>400728</td>\n",
       "    </tr>\n",
       "    <tr>\n",
       "      <th>charlesyeo</th>\n",
       "      <td>If you love something use your brain; love som...</td>\n",
       "      <td>False</td>\n",
       "      <td>349669</td>\n",
       "    </tr>\n",
       "    <tr>\n",
       "      <th>duongcam0909</th>\n",
       "      <td>𝐓𝐡𝐞 𝐦𝐨𝐫𝐞 𝘆𝗼𝘂 𝐠𝐢𝐯𝐞, 𝐭𝐡𝐞 𝐦𝐨𝐫𝐞 𝘆𝗼𝘂 𝐫𝐞𝐜𝐞𝐢𝐯𝐞 .</td>\n",
       "      <td>False</td>\n",
       "      <td>334940</td>\n",
       "    </tr>\n",
       "    <tr>\n",
       "      <th>YahooSG</th>\n",
       "      <td>YahooSG's official Twitter account. Send us a ...</td>\n",
       "      <td>True</td>\n",
       "      <td>326731</td>\n",
       "    </tr>\n",
       "    <tr>\n",
       "      <th>LTAsg</th>\n",
       "      <td>Latest land transport happenings in Singapore....</td>\n",
       "      <td>True</td>\n",
       "      <td>315907</td>\n",
       "    </tr>\n",
       "    <tr>\n",
       "      <th>govsingapore</th>\n",
       "      <td>Gov.sg - the official Twitter account of the S...</td>\n",
       "      <td>True</td>\n",
       "      <td>314762</td>\n",
       "    </tr>\n",
       "    <tr>\n",
       "      <th>enjin</th>\n",
       "      <td>Making it easy for everyone to use #NFTs of th...</td>\n",
       "      <td>True</td>\n",
       "      <td>279357</td>\n",
       "    </tr>\n",
       "    <tr>\n",
       "      <th>thenewpaper</th>\n",
       "      <td>Local. Vocal. Social.</td>\n",
       "      <td>False</td>\n",
       "      <td>247893</td>\n",
       "    </tr>\n",
       "    <tr>\n",
       "      <th>BBCNewsAsia</th>\n",
       "      <td>The Twitter home of BBC News in Asia.</td>\n",
       "      <td>True</td>\n",
       "      <td>241455</td>\n",
       "    </tr>\n",
       "    <tr>\n",
       "      <th>987fm</th>\n",
       "      <td>Singapore’s #1 Hit Music Station bringing you ...</td>\n",
       "      <td>True</td>\n",
       "      <td>238499</td>\n",
       "    </tr>\n",
       "    <tr>\n",
       "      <th>stompsingapore</th>\n",
       "      <td>Award-winning Stomp is Asia's leading citizen ...</td>\n",
       "      <td>False</td>\n",
       "      <td>234541</td>\n",
       "    </tr>\n",
       "    <tr>\n",
       "      <th>MEXC_Global</th>\n",
       "      <td>#bitcoin #MEXCGlobal $MX Telegram: http://t.me...</td>\n",
       "      <td>False</td>\n",
       "      <td>228119</td>\n",
       "    </tr>\n",
       "    <tr>\n",
       "      <th>APEC</th>\n",
       "      <td>Premier economic forum. APEC works to advance ...</td>\n",
       "      <td>True</td>\n",
       "      <td>228012</td>\n",
       "    </tr>\n",
       "    <tr>\n",
       "      <th>zhusu</th>\n",
       "      <td>CEO/CIO at 3ac | Investing in crypto, agrofore...</td>\n",
       "      <td>False</td>\n",
       "      <td>225361</td>\n",
       "    </tr>\n",
       "    <tr>\n",
       "      <th>mtvasia</th>\n",
       "      <td>Counting down the seconds to #NCT127's comebac...</td>\n",
       "      <td>True</td>\n",
       "      <td>215780</td>\n",
       "    </tr>\n",
       "    <tr>\n",
       "      <th>MothershipSG</th>\n",
       "      <td>Mothership is a community news service for Sin...</td>\n",
       "      <td>True</td>\n",
       "      <td>214126</td>\n",
       "    </tr>\n",
       "    <tr>\n",
       "      <th>SingaporePolice</th>\n",
       "      <td>Welcome to Singapore Police Force’s official T...</td>\n",
       "      <td>True</td>\n",
       "      <td>209066</td>\n",
       "    </tr>\n",
       "    <tr>\n",
       "      <th>kuabt</th>\n",
       "      <td>CroSsInG the border daily into SinGApore and b...</td>\n",
       "      <td>False</td>\n",
       "      <td>209059</td>\n",
       "    </tr>\n",
       "    <tr>\n",
       "      <th>monsouleil</th>\n",
       "      <td>🧘🏻‍♀️ Gemini 💎🔮🍃✨</td>\n",
       "      <td>False</td>\n",
       "      <td>187598</td>\n",
       "    </tr>\n",
       "    <tr>\n",
       "      <th>eskimon</th>\n",
       "      <td>Helping you make sense of what people are real...</td>\n",
       "      <td>True</td>\n",
       "      <td>186266</td>\n",
       "    </tr>\n",
       "    <tr>\n",
       "      <th>TwitterSG</th>\n",
       "      <td>It’s what’s happening.\\nSupport: https://help....</td>\n",
       "      <td>True</td>\n",
       "      <td>183276</td>\n",
       "    </tr>\n",
       "    <tr>\n",
       "      <th>SydesJokes</th>\n",
       "      <td>🇬🇧 Father British 🇩🇪 Mother German 🇸🇬 Born in ...</td>\n",
       "      <td>False</td>\n",
       "      <td>183150</td>\n",
       "    </tr>\n",
       "    <tr>\n",
       "      <th>FirstSquawk</th>\n",
       "      <td>Firstsquawk Is a Global Financial (News) Squaw...</td>\n",
       "      <td>False</td>\n",
       "      <td>173018</td>\n",
       "    </tr>\n",
       "  </tbody>\n",
       "</table>\n",
       "</div>"
      ],
      "text/plain": [
       "                                                           user_desc  \\\n",
       "user_screenname_x                                                      \n",
       "straits_times      Stay in the know with the latest news from Sin...   \n",
       "ChannelNewsAsia    The official space of CNA - the source of brea...   \n",
       "leehsienloong      Prime Minister of Singapore and leader of the ...   \n",
       "TODAYonline        Get the latest local and international news fr...   \n",
       "zaobaosg           http://zaobao.sg 是新加坡报业控股属下的网站。以第三只眼看大中华，客观新闻和...   \n",
       "SoSingaporean      Follow to discover everything so unique and #s...   \n",
       "NEAsg              Also on Facebook https://t.co/xNg9BTncsL, Inst...   \n",
       "mrbrown            mrbrown aka LEE Kin Mun, Blogfather of Singapo...   \n",
       "charlesyeo         If you love something use your brain; love som...   \n",
       "duongcam0909               𝐓𝐡𝐞 𝐦𝐨𝐫𝐞 𝘆𝗼𝘂 𝐠𝐢𝐯𝐞, 𝐭𝐡𝐞 𝐦𝐨𝐫𝐞 𝘆𝗼𝘂 𝐫𝐞𝐜𝐞𝐢𝐯𝐞 .   \n",
       "YahooSG            YahooSG's official Twitter account. Send us a ...   \n",
       "LTAsg              Latest land transport happenings in Singapore....   \n",
       "govsingapore       Gov.sg - the official Twitter account of the S...   \n",
       "enjin              Making it easy for everyone to use #NFTs of th...   \n",
       "thenewpaper                                    Local. Vocal. Social.   \n",
       "BBCNewsAsia                    The Twitter home of BBC News in Asia.   \n",
       "987fm              Singapore’s #1 Hit Music Station bringing you ...   \n",
       "stompsingapore     Award-winning Stomp is Asia's leading citizen ...   \n",
       "MEXC_Global        #bitcoin #MEXCGlobal $MX Telegram: http://t.me...   \n",
       "APEC               Premier economic forum. APEC works to advance ...   \n",
       "zhusu              CEO/CIO at 3ac | Investing in crypto, agrofore...   \n",
       "mtvasia            Counting down the seconds to #NCT127's comebac...   \n",
       "MothershipSG       Mothership is a community news service for Sin...   \n",
       "SingaporePolice    Welcome to Singapore Police Force’s official T...   \n",
       "kuabt              CroSsInG the border daily into SinGApore and b...   \n",
       "monsouleil                                         🧘🏻‍♀️ Gemini 💎🔮🍃✨   \n",
       "eskimon            Helping you make sense of what people are real...   \n",
       "TwitterSG          It’s what’s happening.\\nSupport: https://help....   \n",
       "SydesJokes         🇬🇧 Father British 🇩🇪 Mother German 🇸🇬 Born in ...   \n",
       "FirstSquawk        Firstsquawk Is a Global Financial (News) Squaw...   \n",
       "\n",
       "                   user_verified  user_followers_count  \n",
       "user_screenname_x                                       \n",
       "straits_times               True               1086547  \n",
       "ChannelNewsAsia             True               1053198  \n",
       "leehsienloong               True                798436  \n",
       "TODAYonline                 True                692039  \n",
       "zaobaosg                   False                518588  \n",
       "SoSingaporean              False                461939  \n",
       "NEAsg                       True                440894  \n",
       "mrbrown                     True                400728  \n",
       "charlesyeo                 False                349669  \n",
       "duongcam0909               False                334940  \n",
       "YahooSG                     True                326731  \n",
       "LTAsg                       True                315907  \n",
       "govsingapore                True                314762  \n",
       "enjin                       True                279357  \n",
       "thenewpaper                False                247893  \n",
       "BBCNewsAsia                 True                241455  \n",
       "987fm                       True                238499  \n",
       "stompsingapore             False                234541  \n",
       "MEXC_Global                False                228119  \n",
       "APEC                        True                228012  \n",
       "zhusu                      False                225361  \n",
       "mtvasia                     True                215780  \n",
       "MothershipSG                True                214126  \n",
       "SingaporePolice             True                209066  \n",
       "kuabt                      False                209059  \n",
       "monsouleil                 False                187598  \n",
       "eskimon                     True                186266  \n",
       "TwitterSG                   True                183276  \n",
       "SydesJokes                 False                183150  \n",
       "FirstSquawk                False                173018  "
      ]
     },
     "execution_count": 75,
     "metadata": {},
     "output_type": "execute_result"
    }
   ],
   "source": [
    "MIN_FOLLOWERS = 10000\n",
    "sg_tweets['user_followers_count'] = sg_tweets['user_followers_count'].astype(int)\n",
    "sg_users_high_followers = sg_tweets[sg_tweets['user_followers_count'] >= MIN_FOLLOWERS].groupby('user_screenname_x') \\\n",
    "[['user_desc', 'user_verified', 'user_followers_count']].nth(0).sort_values(by='user_followers_count', ascending=False)\n",
    "sg_users_high_followers.head(30)"
   ]
  },
  {
   "cell_type": "code",
   "execution_count": 51,
   "id": "099a4c2f-99da-41cb-9d37-b34d7e316af7",
   "metadata": {},
   "outputs": [
    {
     "name": "stdout",
     "output_type": "stream",
     "text": [
      "Count of users >= 10000 followers\n",
      "Count of verified user with 10000 followers is 136\n",
      "Count of unverified user with 10000 followers is 288\n"
     ]
    }
   ],
   "source": [
    "print(\"Count of users >= {} followers\". format(MIN_FOLLOWERS, len(sg_users_high_followers[sg_users_high_followers['user_verified'] == True])))\n",
    "print(\"Count of verified user with {} followers is {}\". format(MIN_FOLLOWERS, len(sg_users_high_followers[sg_users_high_followers['user_verified'] == True])))\n",
    "print(\"Count of unverified user with {} followers is {}\". format(MIN_FOLLOWERS, len(sg_users_high_followers[sg_users_high_followers['user_verified'] == False])))"
   ]
  },
  {
   "cell_type": "code",
   "execution_count": 242,
   "id": "bf60fbb5-39ab-495d-a3ea-b62cf49e888f",
   "metadata": {},
   "outputs": [
    {
     "data": {
      "text/plain": [
       "Index(['tweet_text', 'tweet_time', 'tweet_id', 'tweet_lang',\n",
       "       'tweet_possibly_sensitive', 'entity_image_url', 'entity_mentions',\n",
       "       'entity_hashtags', 'entity_link_url', 'user_id_x', 'user_name_x',\n",
       "       'user_screenname_x', 'user_friends_count', 'user_followers_count',\n",
       "       'user_verified', 'user_location', 'user_desc', 'user_geo_coding',\n",
       "       'user_geo_tagging', 'user_id_y', 'user_name_y', 'user_screenname_y',\n",
       "       'tweet_enagagement_type', 'replied_to_tweet_id', 'replied_to_user_id',\n",
       "       'replied_to_user_screenname', 'retweeted_tweet_id',\n",
       "       'retweeted_tweet_time', 'retweeted_user_id', 'retweeted_user_name',\n",
       "       'retweeted_user_verified', 'retweeted_user_screenname',\n",
       "       'retweeted_user_geo_coding', 'retweeted_user_geo_coding_type',\n",
       "       'retweeted_retweet_count', 'retweeted_favorite_count',\n",
       "       'quoted_tweet_text', 'quoted_tweet_id', 'quoted_tweet_time',\n",
       "       'quoted_user_id', 'quoted_user_name', 'quoted_user_verified',\n",
       "       'quoted_user_screenname', 'quoted_user_geo_coding',\n",
       "       'quoted_user_geo_coding_type', 'quoted_retweet_count',\n",
       "       'quoted_favorite_count', 'tweet_datetime', 'tweet_date',\n",
       "       'processed_tweet_text', 'processed_quoted_tweet_text',\n",
       "       'tweet_sentiment', 'quoted_tweet_sentiment'],\n",
       "      dtype='object')"
      ]
     },
     "execution_count": 242,
     "metadata": {},
     "output_type": "execute_result"
    }
   ],
   "source": [
    "sg_tweets.columns"
   ]
  },
  {
   "cell_type": "markdown",
   "id": "f65d8a94-b6a1-4387-a5f0-4e331c704be6",
   "metadata": {},
   "source": [
    "### 4.4. Potentially sensitive tweets (PST) with links - marked by twitter <a id=\"cell44\"></a>"
   ]
  },
  {
   "cell_type": "code",
   "execution_count": 243,
   "id": "6f7a63de-b65e-4e9c-8fb8-7ec38261804b",
   "metadata": {},
   "outputs": [],
   "source": [
    "def generate_dash_potentially_sensitive_tweets(pst_count_save_path, pst_tweets_save_path, percentile=.95):\n",
    "    sg_tweets_pst = sg_tweets[sg_tweets['tweet_possibly_sensitive'] == True]\n",
    "\n",
    "    print(\"Total possibily sensitive tweets {}\".format(len(sg_tweets_pst)))\n",
    "    print(\"% possibily sensitive tweets {}\".format(len(sg_tweets_pst)/len(sg_tweets)*100))\n",
    "    \n",
    "    c_sg_tweets_pst = sg_tweets_pst.value_counts(subset=['tweet_date']).reset_index(name='count') \\\n",
    "                                                .sort_values(['tweet_date'], ascending=False)\n",
    "    print(\"Average number of Potentially sensitive tweets: \", sum(c_sg_tweets_pst['count'])/len(c_sg_tweets_pst))\n",
    "    spike_value = c_sg_tweets_pst['count'].quantile(percentile)\n",
    "    print(\"spike_value\", spike_value)\n",
    "#     pst_counts = c_sg_tweets_pst[c_sg_tweets_pst['count'] > spike_value]\n",
    "    pst_tweets = sg_tweets_pst[['tweet_date', 'processed_tweet_text']]\n",
    "    \n",
    "    pd.DataFrame.to_csv(c_sg_tweets_pst, pst_count_save_path)\n",
    "    pd.DataFrame.to_csv(pst_tweets, pst_tweets_save_path)\n",
    "    \n",
    "    "
   ]
  },
  {
   "cell_type": "code",
   "execution_count": 244,
   "id": "8f529df4-30a1-4937-a6ef-34a805f01c28",
   "metadata": {},
   "outputs": [
    {
     "name": "stdout",
     "output_type": "stream",
     "text": [
      "Total possibily sensitive tweets 9212\n",
      "% possibily sensitive tweets 5.077636242372797\n",
      "Average number of Potentially sensitive tweets:  204.7111111111111\n",
      "spike_value 513.4\n"
     ]
    }
   ],
   "source": [
    "pst_count_save_path = DATA_PATH + \"output/basics/pst_counts.csv\"\n",
    "pst_tweets_save_path = DATA_PATH + \"output/basics/pst_tweets.csv\"\n",
    "\n",
    "generate_dash_potentially_sensitive_tweets(pst_count_save_path, pst_tweets_save_path)"
   ]
  },
  {
   "cell_type": "code",
   "execution_count": 245,
   "id": "c61633d1-bc3e-49a8-9d0e-871c33b057cc",
   "metadata": {},
   "outputs": [
    {
     "data": {
      "application/vnd.plotly.v1+json": {
       "config": {
        "plotlyServerURL": "https://plot.ly"
       },
       "data": [
        {
         "alignmentgroup": "True",
         "hovertemplate": "variable=%{x}<br>value=%{y}<extra></extra>",
         "legendgroup": "",
         "marker": {
          "color": "#636efa"
         },
         "name": "",
         "notched": false,
         "offsetgroup": "",
         "orientation": "v",
         "showlegend": false,
         "type": "box",
         "x": [
          "count",
          "count",
          "count",
          "count",
          "count",
          "count",
          "count",
          "count",
          "count",
          "count",
          "count",
          "count",
          "count",
          "count",
          "count",
          "count",
          "count",
          "count",
          "count",
          "count",
          "count",
          "count",
          "count",
          "count",
          "count",
          "count",
          "count",
          "count",
          "count",
          "count",
          "count",
          "count",
          "count",
          "count",
          "count",
          "count",
          "count",
          "count",
          "count",
          "count",
          "count",
          "count",
          "count",
          "count",
          "count"
         ],
         "x0": " ",
         "xaxis": "x",
         "y": [
          15,
          114,
          116,
          200,
          199,
          222,
          12,
          91,
          1,
          108,
          32,
          169,
          7,
          176,
          55,
          17,
          36,
          54,
          382,
          162,
          270,
          459,
          340,
          99,
          87,
          514,
          364,
          246,
          267,
          405,
          282,
          281,
          139,
          314,
          337,
          569,
          239,
          104,
          584,
          211,
          122,
          90,
          511,
          205,
          5
         ],
         "y0": " ",
         "yaxis": "y"
        }
       ],
       "layout": {
        "autosize": true,
        "boxmode": "group",
        "legend": {
         "tracegroupgap": 0
        },
        "margin": {
         "t": 60
        },
        "template": {
         "data": {
          "bar": [
           {
            "error_x": {
             "color": "#2a3f5f"
            },
            "error_y": {
             "color": "#2a3f5f"
            },
            "marker": {
             "line": {
              "color": "#E5ECF6",
              "width": 0.5
             },
             "pattern": {
              "fillmode": "overlay",
              "size": 10,
              "solidity": 0.2
             }
            },
            "type": "bar"
           }
          ],
          "barpolar": [
           {
            "marker": {
             "line": {
              "color": "#E5ECF6",
              "width": 0.5
             },
             "pattern": {
              "fillmode": "overlay",
              "size": 10,
              "solidity": 0.2
             }
            },
            "type": "barpolar"
           }
          ],
          "carpet": [
           {
            "aaxis": {
             "endlinecolor": "#2a3f5f",
             "gridcolor": "white",
             "linecolor": "white",
             "minorgridcolor": "white",
             "startlinecolor": "#2a3f5f"
            },
            "baxis": {
             "endlinecolor": "#2a3f5f",
             "gridcolor": "white",
             "linecolor": "white",
             "minorgridcolor": "white",
             "startlinecolor": "#2a3f5f"
            },
            "type": "carpet"
           }
          ],
          "choropleth": [
           {
            "colorbar": {
             "outlinewidth": 0,
             "ticks": ""
            },
            "type": "choropleth"
           }
          ],
          "contour": [
           {
            "colorbar": {
             "outlinewidth": 0,
             "ticks": ""
            },
            "colorscale": [
             [
              0,
              "#0d0887"
             ],
             [
              0.1111111111111111,
              "#46039f"
             ],
             [
              0.2222222222222222,
              "#7201a8"
             ],
             [
              0.3333333333333333,
              "#9c179e"
             ],
             [
              0.4444444444444444,
              "#bd3786"
             ],
             [
              0.5555555555555556,
              "#d8576b"
             ],
             [
              0.6666666666666666,
              "#ed7953"
             ],
             [
              0.7777777777777778,
              "#fb9f3a"
             ],
             [
              0.8888888888888888,
              "#fdca26"
             ],
             [
              1,
              "#f0f921"
             ]
            ],
            "type": "contour"
           }
          ],
          "contourcarpet": [
           {
            "colorbar": {
             "outlinewidth": 0,
             "ticks": ""
            },
            "type": "contourcarpet"
           }
          ],
          "heatmap": [
           {
            "colorbar": {
             "outlinewidth": 0,
             "ticks": ""
            },
            "colorscale": [
             [
              0,
              "#0d0887"
             ],
             [
              0.1111111111111111,
              "#46039f"
             ],
             [
              0.2222222222222222,
              "#7201a8"
             ],
             [
              0.3333333333333333,
              "#9c179e"
             ],
             [
              0.4444444444444444,
              "#bd3786"
             ],
             [
              0.5555555555555556,
              "#d8576b"
             ],
             [
              0.6666666666666666,
              "#ed7953"
             ],
             [
              0.7777777777777778,
              "#fb9f3a"
             ],
             [
              0.8888888888888888,
              "#fdca26"
             ],
             [
              1,
              "#f0f921"
             ]
            ],
            "type": "heatmap"
           }
          ],
          "heatmapgl": [
           {
            "colorbar": {
             "outlinewidth": 0,
             "ticks": ""
            },
            "colorscale": [
             [
              0,
              "#0d0887"
             ],
             [
              0.1111111111111111,
              "#46039f"
             ],
             [
              0.2222222222222222,
              "#7201a8"
             ],
             [
              0.3333333333333333,
              "#9c179e"
             ],
             [
              0.4444444444444444,
              "#bd3786"
             ],
             [
              0.5555555555555556,
              "#d8576b"
             ],
             [
              0.6666666666666666,
              "#ed7953"
             ],
             [
              0.7777777777777778,
              "#fb9f3a"
             ],
             [
              0.8888888888888888,
              "#fdca26"
             ],
             [
              1,
              "#f0f921"
             ]
            ],
            "type": "heatmapgl"
           }
          ],
          "histogram": [
           {
            "marker": {
             "pattern": {
              "fillmode": "overlay",
              "size": 10,
              "solidity": 0.2
             }
            },
            "type": "histogram"
           }
          ],
          "histogram2d": [
           {
            "colorbar": {
             "outlinewidth": 0,
             "ticks": ""
            },
            "colorscale": [
             [
              0,
              "#0d0887"
             ],
             [
              0.1111111111111111,
              "#46039f"
             ],
             [
              0.2222222222222222,
              "#7201a8"
             ],
             [
              0.3333333333333333,
              "#9c179e"
             ],
             [
              0.4444444444444444,
              "#bd3786"
             ],
             [
              0.5555555555555556,
              "#d8576b"
             ],
             [
              0.6666666666666666,
              "#ed7953"
             ],
             [
              0.7777777777777778,
              "#fb9f3a"
             ],
             [
              0.8888888888888888,
              "#fdca26"
             ],
             [
              1,
              "#f0f921"
             ]
            ],
            "type": "histogram2d"
           }
          ],
          "histogram2dcontour": [
           {
            "colorbar": {
             "outlinewidth": 0,
             "ticks": ""
            },
            "colorscale": [
             [
              0,
              "#0d0887"
             ],
             [
              0.1111111111111111,
              "#46039f"
             ],
             [
              0.2222222222222222,
              "#7201a8"
             ],
             [
              0.3333333333333333,
              "#9c179e"
             ],
             [
              0.4444444444444444,
              "#bd3786"
             ],
             [
              0.5555555555555556,
              "#d8576b"
             ],
             [
              0.6666666666666666,
              "#ed7953"
             ],
             [
              0.7777777777777778,
              "#fb9f3a"
             ],
             [
              0.8888888888888888,
              "#fdca26"
             ],
             [
              1,
              "#f0f921"
             ]
            ],
            "type": "histogram2dcontour"
           }
          ],
          "mesh3d": [
           {
            "colorbar": {
             "outlinewidth": 0,
             "ticks": ""
            },
            "type": "mesh3d"
           }
          ],
          "parcoords": [
           {
            "line": {
             "colorbar": {
              "outlinewidth": 0,
              "ticks": ""
             }
            },
            "type": "parcoords"
           }
          ],
          "pie": [
           {
            "automargin": true,
            "type": "pie"
           }
          ],
          "scatter": [
           {
            "marker": {
             "colorbar": {
              "outlinewidth": 0,
              "ticks": ""
             }
            },
            "type": "scatter"
           }
          ],
          "scatter3d": [
           {
            "line": {
             "colorbar": {
              "outlinewidth": 0,
              "ticks": ""
             }
            },
            "marker": {
             "colorbar": {
              "outlinewidth": 0,
              "ticks": ""
             }
            },
            "type": "scatter3d"
           }
          ],
          "scattercarpet": [
           {
            "marker": {
             "colorbar": {
              "outlinewidth": 0,
              "ticks": ""
             }
            },
            "type": "scattercarpet"
           }
          ],
          "scattergeo": [
           {
            "marker": {
             "colorbar": {
              "outlinewidth": 0,
              "ticks": ""
             }
            },
            "type": "scattergeo"
           }
          ],
          "scattergl": [
           {
            "marker": {
             "colorbar": {
              "outlinewidth": 0,
              "ticks": ""
             }
            },
            "type": "scattergl"
           }
          ],
          "scattermapbox": [
           {
            "marker": {
             "colorbar": {
              "outlinewidth": 0,
              "ticks": ""
             }
            },
            "type": "scattermapbox"
           }
          ],
          "scatterpolar": [
           {
            "marker": {
             "colorbar": {
              "outlinewidth": 0,
              "ticks": ""
             }
            },
            "type": "scatterpolar"
           }
          ],
          "scatterpolargl": [
           {
            "marker": {
             "colorbar": {
              "outlinewidth": 0,
              "ticks": ""
             }
            },
            "type": "scatterpolargl"
           }
          ],
          "scatterternary": [
           {
            "marker": {
             "colorbar": {
              "outlinewidth": 0,
              "ticks": ""
             }
            },
            "type": "scatterternary"
           }
          ],
          "surface": [
           {
            "colorbar": {
             "outlinewidth": 0,
             "ticks": ""
            },
            "colorscale": [
             [
              0,
              "#0d0887"
             ],
             [
              0.1111111111111111,
              "#46039f"
             ],
             [
              0.2222222222222222,
              "#7201a8"
             ],
             [
              0.3333333333333333,
              "#9c179e"
             ],
             [
              0.4444444444444444,
              "#bd3786"
             ],
             [
              0.5555555555555556,
              "#d8576b"
             ],
             [
              0.6666666666666666,
              "#ed7953"
             ],
             [
              0.7777777777777778,
              "#fb9f3a"
             ],
             [
              0.8888888888888888,
              "#fdca26"
             ],
             [
              1,
              "#f0f921"
             ]
            ],
            "type": "surface"
           }
          ],
          "table": [
           {
            "cells": {
             "fill": {
              "color": "#EBF0F8"
             },
             "line": {
              "color": "white"
             }
            },
            "header": {
             "fill": {
              "color": "#C8D4E3"
             },
             "line": {
              "color": "white"
             }
            },
            "type": "table"
           }
          ]
         },
         "layout": {
          "annotationdefaults": {
           "arrowcolor": "#2a3f5f",
           "arrowhead": 0,
           "arrowwidth": 1
          },
          "autotypenumbers": "strict",
          "coloraxis": {
           "colorbar": {
            "outlinewidth": 0,
            "ticks": ""
           }
          },
          "colorscale": {
           "diverging": [
            [
             0,
             "#8e0152"
            ],
            [
             0.1,
             "#c51b7d"
            ],
            [
             0.2,
             "#de77ae"
            ],
            [
             0.3,
             "#f1b6da"
            ],
            [
             0.4,
             "#fde0ef"
            ],
            [
             0.5,
             "#f7f7f7"
            ],
            [
             0.6,
             "#e6f5d0"
            ],
            [
             0.7,
             "#b8e186"
            ],
            [
             0.8,
             "#7fbc41"
            ],
            [
             0.9,
             "#4d9221"
            ],
            [
             1,
             "#276419"
            ]
           ],
           "sequential": [
            [
             0,
             "#0d0887"
            ],
            [
             0.1111111111111111,
             "#46039f"
            ],
            [
             0.2222222222222222,
             "#7201a8"
            ],
            [
             0.3333333333333333,
             "#9c179e"
            ],
            [
             0.4444444444444444,
             "#bd3786"
            ],
            [
             0.5555555555555556,
             "#d8576b"
            ],
            [
             0.6666666666666666,
             "#ed7953"
            ],
            [
             0.7777777777777778,
             "#fb9f3a"
            ],
            [
             0.8888888888888888,
             "#fdca26"
            ],
            [
             1,
             "#f0f921"
            ]
           ],
           "sequentialminus": [
            [
             0,
             "#0d0887"
            ],
            [
             0.1111111111111111,
             "#46039f"
            ],
            [
             0.2222222222222222,
             "#7201a8"
            ],
            [
             0.3333333333333333,
             "#9c179e"
            ],
            [
             0.4444444444444444,
             "#bd3786"
            ],
            [
             0.5555555555555556,
             "#d8576b"
            ],
            [
             0.6666666666666666,
             "#ed7953"
            ],
            [
             0.7777777777777778,
             "#fb9f3a"
            ],
            [
             0.8888888888888888,
             "#fdca26"
            ],
            [
             1,
             "#f0f921"
            ]
           ]
          },
          "colorway": [
           "#636efa",
           "#EF553B",
           "#00cc96",
           "#ab63fa",
           "#FFA15A",
           "#19d3f3",
           "#FF6692",
           "#B6E880",
           "#FF97FF",
           "#FECB52"
          ],
          "font": {
           "color": "#2a3f5f"
          },
          "geo": {
           "bgcolor": "white",
           "lakecolor": "white",
           "landcolor": "#E5ECF6",
           "showlakes": true,
           "showland": true,
           "subunitcolor": "white"
          },
          "hoverlabel": {
           "align": "left"
          },
          "hovermode": "closest",
          "mapbox": {
           "style": "light"
          },
          "paper_bgcolor": "white",
          "plot_bgcolor": "#E5ECF6",
          "polar": {
           "angularaxis": {
            "gridcolor": "white",
            "linecolor": "white",
            "ticks": ""
           },
           "bgcolor": "#E5ECF6",
           "radialaxis": {
            "gridcolor": "white",
            "linecolor": "white",
            "ticks": ""
           }
          },
          "scene": {
           "xaxis": {
            "backgroundcolor": "#E5ECF6",
            "gridcolor": "white",
            "gridwidth": 2,
            "linecolor": "white",
            "showbackground": true,
            "ticks": "",
            "zerolinecolor": "white"
           },
           "yaxis": {
            "backgroundcolor": "#E5ECF6",
            "gridcolor": "white",
            "gridwidth": 2,
            "linecolor": "white",
            "showbackground": true,
            "ticks": "",
            "zerolinecolor": "white"
           },
           "zaxis": {
            "backgroundcolor": "#E5ECF6",
            "gridcolor": "white",
            "gridwidth": 2,
            "linecolor": "white",
            "showbackground": true,
            "ticks": "",
            "zerolinecolor": "white"
           }
          },
          "shapedefaults": {
           "line": {
            "color": "#2a3f5f"
           }
          },
          "ternary": {
           "aaxis": {
            "gridcolor": "white",
            "linecolor": "white",
            "ticks": ""
           },
           "baxis": {
            "gridcolor": "white",
            "linecolor": "white",
            "ticks": ""
           },
           "bgcolor": "#E5ECF6",
           "caxis": {
            "gridcolor": "white",
            "linecolor": "white",
            "ticks": ""
           }
          },
          "title": {
           "x": 0.05
          },
          "xaxis": {
           "automargin": true,
           "gridcolor": "white",
           "linecolor": "white",
           "ticks": "",
           "title": {
            "standoff": 15
           },
           "zerolinecolor": "white",
           "zerolinewidth": 2
          },
          "yaxis": {
           "automargin": true,
           "gridcolor": "white",
           "linecolor": "white",
           "ticks": "",
           "title": {
            "standoff": 15
           },
           "zerolinecolor": "white",
           "zerolinewidth": 2
          }
         }
        },
        "xaxis": {
         "anchor": "y",
         "autorange": true,
         "domain": [
          0,
          1
         ],
         "range": [
          -0.5,
          0.5
         ],
         "title": {
          "text": "variable"
         },
         "type": "category"
        },
        "yaxis": {
         "anchor": "x",
         "autorange": true,
         "domain": [
          0,
          1
         ],
         "range": [
          -31.388888888888893,
          616.3888888888889
         ],
         "title": {
          "text": "value"
         },
         "type": "linear"
        }
       }
      },
      "image/png": "[encoded data removed]",
      "text/html": [
       "<div>                            <div id=\"b4b1f400-d143-4d69-b8f9-c3f8caeb71ba\" class=\"plotly-graph-div\" style=\"height:525px; width:100%;\"></div>            <script type=\"text/javascript\">                require([\"plotly\"], function(Plotly) {                    window.PLOTLYENV=window.PLOTLYENV || {};                                    if (document.getElementById(\"b4b1f400-d143-4d69-b8f9-c3f8caeb71ba\")) {                    Plotly.newPlot(                        \"b4b1f400-d143-4d69-b8f9-c3f8caeb71ba\",                        [{\"alignmentgroup\":\"True\",\"hovertemplate\":\"variable=%{x}<br>value=%{y}<extra></extra>\",\"legendgroup\":\"\",\"marker\":{\"color\":\"#636efa\"},\"name\":\"\",\"notched\":false,\"offsetgroup\":\"\",\"orientation\":\"v\",\"showlegend\":false,\"type\":\"box\",\"x\":[\"count\",\"count\",\"count\",\"count\",\"count\",\"count\",\"count\",\"count\",\"count\",\"count\",\"count\",\"count\",\"count\",\"count\",\"count\",\"count\",\"count\",\"count\",\"count\",\"count\",\"count\",\"count\",\"count\",\"count\",\"count\",\"count\",\"count\",\"count\",\"count\",\"count\",\"count\",\"count\",\"count\",\"count\",\"count\",\"count\",\"count\",\"count\",\"count\",\"count\",\"count\",\"count\",\"count\",\"count\",\"count\"],\"x0\":\" \",\"xaxis\":\"x\",\"y\":[15,114,116,200,199,222,12,91,1,108,32,169,7,176,55,17,36,54,382,162,270,459,340,99,87,514,364,246,267,405,282,281,139,314,337,569,239,104,584,211,122,90,511,205,5],\"y0\":\" \",\"yaxis\":\"y\"}],                        {\"boxmode\":\"group\",\"legend\":{\"tracegroupgap\":0},\"margin\":{\"t\":60},\"template\":{\"data\":{\"bar\":[{\"error_x\":{\"color\":\"#2a3f5f\"},\"error_y\":{\"color\":\"#2a3f5f\"},\"marker\":{\"line\":{\"color\":\"#E5ECF6\",\"width\":0.5},\"pattern\":{\"fillmode\":\"overlay\",\"size\":10,\"solidity\":0.2}},\"type\":\"bar\"}],\"barpolar\":[{\"marker\":{\"line\":{\"color\":\"#E5ECF6\",\"width\":0.5},\"pattern\":{\"fillmode\":\"overlay\",\"size\":10,\"solidity\":0.2}},\"type\":\"barpolar\"}],\"carpet\":[{\"aaxis\":{\"endlinecolor\":\"#2a3f5f\",\"gridcolor\":\"white\",\"linecolor\":\"white\",\"minorgridcolor\":\"white\",\"startlinecolor\":\"#2a3f5f\"},\"baxis\":{\"endlinecolor\":\"#2a3f5f\",\"gridcolor\":\"white\",\"linecolor\":\"white\",\"minorgridcolor\":\"white\",\"startlinecolor\":\"#2a3f5f\"},\"type\":\"carpet\"}],\"choropleth\":[{\"colorbar\":{\"outlinewidth\":0,\"ticks\":\"\"},\"type\":\"choropleth\"}],\"contour\":[{\"colorbar\":{\"outlinewidth\":0,\"ticks\":\"\"},\"colorscale\":[[0.0,\"#0d0887\"],[0.1111111111111111,\"#46039f\"],[0.2222222222222222,\"#7201a8\"],[0.3333333333333333,\"#9c179e\"],[0.4444444444444444,\"#bd3786\"],[0.5555555555555556,\"#d8576b\"],[0.6666666666666666,\"#ed7953\"],[0.7777777777777778,\"#fb9f3a\"],[0.8888888888888888,\"#fdca26\"],[1.0,\"#f0f921\"]],\"type\":\"contour\"}],\"contourcarpet\":[{\"colorbar\":{\"outlinewidth\":0,\"ticks\":\"\"},\"type\":\"contourcarpet\"}],\"heatmap\":[{\"colorbar\":{\"outlinewidth\":0,\"ticks\":\"\"},\"colorscale\":[[0.0,\"#0d0887\"],[0.1111111111111111,\"#46039f\"],[0.2222222222222222,\"#7201a8\"],[0.3333333333333333,\"#9c179e\"],[0.4444444444444444,\"#bd3786\"],[0.5555555555555556,\"#d8576b\"],[0.6666666666666666,\"#ed7953\"],[0.7777777777777778,\"#fb9f3a\"],[0.8888888888888888,\"#fdca26\"],[1.0,\"#f0f921\"]],\"type\":\"heatmap\"}],\"heatmapgl\":[{\"colorbar\":{\"outlinewidth\":0,\"ticks\":\"\"},\"colorscale\":[[0.0,\"#0d0887\"],[0.1111111111111111,\"#46039f\"],[0.2222222222222222,\"#7201a8\"],[0.3333333333333333,\"#9c179e\"],[0.4444444444444444,\"#bd3786\"],[0.5555555555555556,\"#d8576b\"],[0.6666666666666666,\"#ed7953\"],[0.7777777777777778,\"#fb9f3a\"],[0.8888888888888888,\"#fdca26\"],[1.0,\"#f0f921\"]],\"type\":\"heatmapgl\"}],\"histogram\":[{\"marker\":{\"pattern\":{\"fillmode\":\"overlay\",\"size\":10,\"solidity\":0.2}},\"type\":\"histogram\"}],\"histogram2d\":[{\"colorbar\":{\"outlinewidth\":0,\"ticks\":\"\"},\"colorscale\":[[0.0,\"#0d0887\"],[0.1111111111111111,\"#46039f\"],[0.2222222222222222,\"#7201a8\"],[0.3333333333333333,\"#9c179e\"],[0.4444444444444444,\"#bd3786\"],[0.5555555555555556,\"#d8576b\"],[0.6666666666666666,\"#ed7953\"],[0.7777777777777778,\"#fb9f3a\"],[0.8888888888888888,\"#fdca26\"],[1.0,\"#f0f921\"]],\"type\":\"histogram2d\"}],\"histogram2dcontour\":[{\"colorbar\":{\"outlinewidth\":0,\"ticks\":\"\"},\"colorscale\":[[0.0,\"#0d0887\"],[0.1111111111111111,\"#46039f\"],[0.2222222222222222,\"#7201a8\"],[0.3333333333333333,\"#9c179e\"],[0.4444444444444444,\"#bd3786\"],[0.5555555555555556,\"#d8576b\"],[0.6666666666666666,\"#ed7953\"],[0.7777777777777778,\"#fb9f3a\"],[0.8888888888888888,\"#fdca26\"],[1.0,\"#f0f921\"]],\"type\":\"histogram2dcontour\"}],\"mesh3d\":[{\"colorbar\":{\"outlinewidth\":0,\"ticks\":\"\"},\"type\":\"mesh3d\"}],\"parcoords\":[{\"line\":{\"colorbar\":{\"outlinewidth\":0,\"ticks\":\"\"}},\"type\":\"parcoords\"}],\"pie\":[{\"automargin\":true,\"type\":\"pie\"}],\"scatter\":[{\"marker\":{\"colorbar\":{\"outlinewidth\":0,\"ticks\":\"\"}},\"type\":\"scatter\"}],\"scatter3d\":[{\"line\":{\"colorbar\":{\"outlinewidth\":0,\"ticks\":\"\"}},\"marker\":{\"colorbar\":{\"outlinewidth\":0,\"ticks\":\"\"}},\"type\":\"scatter3d\"}],\"scattercarpet\":[{\"marker\":{\"colorbar\":{\"outlinewidth\":0,\"ticks\":\"\"}},\"type\":\"scattercarpet\"}],\"scattergeo\":[{\"marker\":{\"colorbar\":{\"outlinewidth\":0,\"ticks\":\"\"}},\"type\":\"scattergeo\"}],\"scattergl\":[{\"marker\":{\"colorbar\":{\"outlinewidth\":0,\"ticks\":\"\"}},\"type\":\"scattergl\"}],\"scattermapbox\":[{\"marker\":{\"colorbar\":{\"outlinewidth\":0,\"ticks\":\"\"}},\"type\":\"scattermapbox\"}],\"scatterpolar\":[{\"marker\":{\"colorbar\":{\"outlinewidth\":0,\"ticks\":\"\"}},\"type\":\"scatterpolar\"}],\"scatterpolargl\":[{\"marker\":{\"colorbar\":{\"outlinewidth\":0,\"ticks\":\"\"}},\"type\":\"scatterpolargl\"}],\"scatterternary\":[{\"marker\":{\"colorbar\":{\"outlinewidth\":0,\"ticks\":\"\"}},\"type\":\"scatterternary\"}],\"surface\":[{\"colorbar\":{\"outlinewidth\":0,\"ticks\":\"\"},\"colorscale\":[[0.0,\"#0d0887\"],[0.1111111111111111,\"#46039f\"],[0.2222222222222222,\"#7201a8\"],[0.3333333333333333,\"#9c179e\"],[0.4444444444444444,\"#bd3786\"],[0.5555555555555556,\"#d8576b\"],[0.6666666666666666,\"#ed7953\"],[0.7777777777777778,\"#fb9f3a\"],[0.8888888888888888,\"#fdca26\"],[1.0,\"#f0f921\"]],\"type\":\"surface\"}],\"table\":[{\"cells\":{\"fill\":{\"color\":\"#EBF0F8\"},\"line\":{\"color\":\"white\"}},\"header\":{\"fill\":{\"color\":\"#C8D4E3\"},\"line\":{\"color\":\"white\"}},\"type\":\"table\"}]},\"layout\":{\"annotationdefaults\":{\"arrowcolor\":\"#2a3f5f\",\"arrowhead\":0,\"arrowwidth\":1},\"autotypenumbers\":\"strict\",\"coloraxis\":{\"colorbar\":{\"outlinewidth\":0,\"ticks\":\"\"}},\"colorscale\":{\"diverging\":[[0,\"#8e0152\"],[0.1,\"#c51b7d\"],[0.2,\"#de77ae\"],[0.3,\"#f1b6da\"],[0.4,\"#fde0ef\"],[0.5,\"#f7f7f7\"],[0.6,\"#e6f5d0\"],[0.7,\"#b8e186\"],[0.8,\"#7fbc41\"],[0.9,\"#4d9221\"],[1,\"#276419\"]],\"sequential\":[[0.0,\"#0d0887\"],[0.1111111111111111,\"#46039f\"],[0.2222222222222222,\"#7201a8\"],[0.3333333333333333,\"#9c179e\"],[0.4444444444444444,\"#bd3786\"],[0.5555555555555556,\"#d8576b\"],[0.6666666666666666,\"#ed7953\"],[0.7777777777777778,\"#fb9f3a\"],[0.8888888888888888,\"#fdca26\"],[1.0,\"#f0f921\"]],\"sequentialminus\":[[0.0,\"#0d0887\"],[0.1111111111111111,\"#46039f\"],[0.2222222222222222,\"#7201a8\"],[0.3333333333333333,\"#9c179e\"],[0.4444444444444444,\"#bd3786\"],[0.5555555555555556,\"#d8576b\"],[0.6666666666666666,\"#ed7953\"],[0.7777777777777778,\"#fb9f3a\"],[0.8888888888888888,\"#fdca26\"],[1.0,\"#f0f921\"]]},\"colorway\":[\"#636efa\",\"#EF553B\",\"#00cc96\",\"#ab63fa\",\"#FFA15A\",\"#19d3f3\",\"#FF6692\",\"#B6E880\",\"#FF97FF\",\"#FECB52\"],\"font\":{\"color\":\"#2a3f5f\"},\"geo\":{\"bgcolor\":\"white\",\"lakecolor\":\"white\",\"landcolor\":\"#E5ECF6\",\"showlakes\":true,\"showland\":true,\"subunitcolor\":\"white\"},\"hoverlabel\":{\"align\":\"left\"},\"hovermode\":\"closest\",\"mapbox\":{\"style\":\"light\"},\"paper_bgcolor\":\"white\",\"plot_bgcolor\":\"#E5ECF6\",\"polar\":{\"angularaxis\":{\"gridcolor\":\"white\",\"linecolor\":\"white\",\"ticks\":\"\"},\"bgcolor\":\"#E5ECF6\",\"radialaxis\":{\"gridcolor\":\"white\",\"linecolor\":\"white\",\"ticks\":\"\"}},\"scene\":{\"xaxis\":{\"backgroundcolor\":\"#E5ECF6\",\"gridcolor\":\"white\",\"gridwidth\":2,\"linecolor\":\"white\",\"showbackground\":true,\"ticks\":\"\",\"zerolinecolor\":\"white\"},\"yaxis\":{\"backgroundcolor\":\"#E5ECF6\",\"gridcolor\":\"white\",\"gridwidth\":2,\"linecolor\":\"white\",\"showbackground\":true,\"ticks\":\"\",\"zerolinecolor\":\"white\"},\"zaxis\":{\"backgroundcolor\":\"#E5ECF6\",\"gridcolor\":\"white\",\"gridwidth\":2,\"linecolor\":\"white\",\"showbackground\":true,\"ticks\":\"\",\"zerolinecolor\":\"white\"}},\"shapedefaults\":{\"line\":{\"color\":\"#2a3f5f\"}},\"ternary\":{\"aaxis\":{\"gridcolor\":\"white\",\"linecolor\":\"white\",\"ticks\":\"\"},\"baxis\":{\"gridcolor\":\"white\",\"linecolor\":\"white\",\"ticks\":\"\"},\"bgcolor\":\"#E5ECF6\",\"caxis\":{\"gridcolor\":\"white\",\"linecolor\":\"white\",\"ticks\":\"\"}},\"title\":{\"x\":0.05},\"xaxis\":{\"automargin\":true,\"gridcolor\":\"white\",\"linecolor\":\"white\",\"ticks\":\"\",\"title\":{\"standoff\":15},\"zerolinecolor\":\"white\",\"zerolinewidth\":2},\"yaxis\":{\"automargin\":true,\"gridcolor\":\"white\",\"linecolor\":\"white\",\"ticks\":\"\",\"title\":{\"standoff\":15},\"zerolinecolor\":\"white\",\"zerolinewidth\":2}}},\"xaxis\":{\"anchor\":\"y\",\"domain\":[0.0,1.0],\"title\":{\"text\":\"variable\"}},\"yaxis\":{\"anchor\":\"x\",\"domain\":[0.0,1.0],\"title\":{\"text\":\"value\"}}},                        {\"responsive\": true}                    ).then(function(){\n",
       "                            \n",
       "var gd = document.getElementById('b4b1f400-d143-4d69-b8f9-c3f8caeb71ba');\n",
       "var x = new MutationObserver(function (mutations, observer) {{\n",
       "        var display = window.getComputedStyle(gd).display;\n",
       "        if (!display || display === 'none') {{\n",
       "            console.log([gd, 'removed!']);\n",
       "            Plotly.purge(gd);\n",
       "            observer.disconnect();\n",
       "        }}\n",
       "}});\n",
       "\n",
       "// Listen for the removal of the full notebook cells\n",
       "var notebookContainer = gd.closest('#notebook-container');\n",
       "if (notebookContainer) {{\n",
       "    x.observe(notebookContainer, {childList: true});\n",
       "}}\n",
       "\n",
       "// Listen for the clearing of the current output cell\n",
       "var outputEl = gd.closest('.output');\n",
       "if (outputEl) {{\n",
       "    x.observe(outputEl, {childList: true});\n",
       "}}\n",
       "\n",
       "                        })                };                });            </script>        </div>"
      ]
     },
     "metadata": {},
     "output_type": "display_data"
    }
   ],
   "source": [
    "px.box(c_sg_tweets_pst['count'])"
   ]
  },
  {
   "cell_type": "code",
   "execution_count": 235,
   "id": "b826b7d1-3259-4e4f-81c9-edd4e0d363b4",
   "metadata": {},
   "outputs": [
    {
     "data": {
      "application/vnd.plotly.v1+json": {
       "config": {
        "plotlyServerURL": "https://plot.ly"
       },
       "data": [
        {
         "alignmentgroup": "True",
         "hovertemplate": "color=green<br>tweet_date=%{x}<br>count=%{y}<extra></extra>",
         "legendgroup": "green",
         "marker": {
          "color": "#636efa",
          "pattern": {
           "shape": ""
          }
         },
         "name": "green",
         "offsetgroup": "green",
         "orientation": "v",
         "showlegend": true,
         "textposition": "auto",
         "type": "bar",
         "x": [
          "2021-09-23",
          "2021-09-22",
          "2021-09-21",
          "2021-09-19",
          "2021-09-18",
          "2021-09-16",
          "2021-09-15",
          "2021-09-14",
          "2021-09-13",
          "2021-09-12",
          "2021-09-11",
          "2021-09-10",
          "2021-09-08",
          "2021-09-07",
          "2021-09-04",
          "2021-09-03",
          "2021-09-02",
          "2021-09-01",
          "2021-08-31",
          "2021-08-30",
          "2021-08-28",
          "2021-08-27",
          "2021-08-26",
          "2021-08-25",
          "2021-08-24",
          "2021-08-22",
          "2021-08-21",
          "2021-08-20",
          "2021-08-19",
          "2021-08-18",
          "2021-08-17",
          "2021-08-16",
          "2021-08-15",
          "2021-08-14",
          "2021-08-12",
          "2021-08-11",
          "2021-08-09",
          "2021-08-08",
          "2021-08-07",
          "2021-08-06",
          "2021-08-05",
          "2021-08-04"
         ],
         "xaxis": "x",
         "y": [
          15,
          114,
          116,
          200,
          199,
          222,
          12,
          91,
          1,
          108,
          32,
          169,
          7,
          176,
          55,
          17,
          36,
          54,
          382,
          162,
          270,
          459,
          340,
          99,
          87,
          364,
          246,
          267,
          405,
          282,
          281,
          139,
          314,
          337,
          239,
          104,
          211,
          122,
          90,
          511,
          205,
          5
         ],
         "yaxis": "y"
        },
        {
         "alignmentgroup": "True",
         "hovertemplate": "color=red<br>tweet_date=%{x}<br>count=%{y}<extra></extra>",
         "legendgroup": "red",
         "marker": {
          "color": "#EF553B",
          "pattern": {
           "shape": ""
          }
         },
         "name": "red",
         "offsetgroup": "red",
         "orientation": "v",
         "showlegend": true,
         "textposition": "auto",
         "type": "bar",
         "x": [
          "2021-08-23",
          "2021-08-13",
          "2021-08-10"
         ],
         "xaxis": "x",
         "y": [
          514,
          569,
          584
         ],
         "yaxis": "y"
        }
       ],
       "layout": {
        "autosize": true,
        "barmode": "relative",
        "legend": {
         "title": {
          "text": "color"
         },
         "tracegroupgap": 0
        },
        "margin": {
         "t": 60
        },
        "showlegend": false,
        "template": {
         "data": {
          "bar": [
           {
            "error_x": {
             "color": "#2a3f5f"
            },
            "error_y": {
             "color": "#2a3f5f"
            },
            "marker": {
             "line": {
              "color": "white",
              "width": 0.5
             },
             "pattern": {
              "fillmode": "overlay",
              "size": 10,
              "solidity": 0.2
             }
            },
            "type": "bar"
           }
          ],
          "barpolar": [
           {
            "marker": {
             "line": {
              "color": "white",
              "width": 0.5
             },
             "pattern": {
              "fillmode": "overlay",
              "size": 10,
              "solidity": 0.2
             }
            },
            "type": "barpolar"
           }
          ],
          "carpet": [
           {
            "aaxis": {
             "endlinecolor": "#2a3f5f",
             "gridcolor": "#C8D4E3",
             "linecolor": "#C8D4E3",
             "minorgridcolor": "#C8D4E3",
             "startlinecolor": "#2a3f5f"
            },
            "baxis": {
             "endlinecolor": "#2a3f5f",
             "gridcolor": "#C8D4E3",
             "linecolor": "#C8D4E3",
             "minorgridcolor": "#C8D4E3",
             "startlinecolor": "#2a3f5f"
            },
            "type": "carpet"
           }
          ],
          "choropleth": [
           {
            "colorbar": {
             "outlinewidth": 0,
             "ticks": ""
            },
            "type": "choropleth"
           }
          ],
          "contour": [
           {
            "colorbar": {
             "outlinewidth": 0,
             "ticks": ""
            },
            "colorscale": [
             [
              0,
              "#0d0887"
             ],
             [
              0.1111111111111111,
              "#46039f"
             ],
             [
              0.2222222222222222,
              "#7201a8"
             ],
             [
              0.3333333333333333,
              "#9c179e"
             ],
             [
              0.4444444444444444,
              "#bd3786"
             ],
             [
              0.5555555555555556,
              "#d8576b"
             ],
             [
              0.6666666666666666,
              "#ed7953"
             ],
             [
              0.7777777777777778,
              "#fb9f3a"
             ],
             [
              0.8888888888888888,
              "#fdca26"
             ],
             [
              1,
              "#f0f921"
             ]
            ],
            "type": "contour"
           }
          ],
          "contourcarpet": [
           {
            "colorbar": {
             "outlinewidth": 0,
             "ticks": ""
            },
            "type": "contourcarpet"
           }
          ],
          "heatmap": [
           {
            "colorbar": {
             "outlinewidth": 0,
             "ticks": ""
            },
            "colorscale": [
             [
              0,
              "#0d0887"
             ],
             [
              0.1111111111111111,
              "#46039f"
             ],
             [
              0.2222222222222222,
              "#7201a8"
             ],
             [
              0.3333333333333333,
              "#9c179e"
             ],
             [
              0.4444444444444444,
              "#bd3786"
             ],
             [
              0.5555555555555556,
              "#d8576b"
             ],
             [
              0.6666666666666666,
              "#ed7953"
             ],
             [
              0.7777777777777778,
              "#fb9f3a"
             ],
             [
              0.8888888888888888,
              "#fdca26"
             ],
             [
              1,
              "#f0f921"
             ]
            ],
            "type": "heatmap"
           }
          ],
          "heatmapgl": [
           {
            "colorbar": {
             "outlinewidth": 0,
             "ticks": ""
            },
            "colorscale": [
             [
              0,
              "#0d0887"
             ],
             [
              0.1111111111111111,
              "#46039f"
             ],
             [
              0.2222222222222222,
              "#7201a8"
             ],
             [
              0.3333333333333333,
              "#9c179e"
             ],
             [
              0.4444444444444444,
              "#bd3786"
             ],
             [
              0.5555555555555556,
              "#d8576b"
             ],
             [
              0.6666666666666666,
              "#ed7953"
             ],
             [
              0.7777777777777778,
              "#fb9f3a"
             ],
             [
              0.8888888888888888,
              "#fdca26"
             ],
             [
              1,
              "#f0f921"
             ]
            ],
            "type": "heatmapgl"
           }
          ],
          "histogram": [
           {
            "marker": {
             "pattern": {
              "fillmode": "overlay",
              "size": 10,
              "solidity": 0.2
             }
            },
            "type": "histogram"
           }
          ],
          "histogram2d": [
           {
            "colorbar": {
             "outlinewidth": 0,
             "ticks": ""
            },
            "colorscale": [
             [
              0,
              "#0d0887"
             ],
             [
              0.1111111111111111,
              "#46039f"
             ],
             [
              0.2222222222222222,
              "#7201a8"
             ],
             [
              0.3333333333333333,
              "#9c179e"
             ],
             [
              0.4444444444444444,
              "#bd3786"
             ],
             [
              0.5555555555555556,
              "#d8576b"
             ],
             [
              0.6666666666666666,
              "#ed7953"
             ],
             [
              0.7777777777777778,
              "#fb9f3a"
             ],
             [
              0.8888888888888888,
              "#fdca26"
             ],
             [
              1,
              "#f0f921"
             ]
            ],
            "type": "histogram2d"
           }
          ],
          "histogram2dcontour": [
           {
            "colorbar": {
             "outlinewidth": 0,
             "ticks": ""
            },
            "colorscale": [
             [
              0,
              "#0d0887"
             ],
             [
              0.1111111111111111,
              "#46039f"
             ],
             [
              0.2222222222222222,
              "#7201a8"
             ],
             [
              0.3333333333333333,
              "#9c179e"
             ],
             [
              0.4444444444444444,
              "#bd3786"
             ],
             [
              0.5555555555555556,
              "#d8576b"
             ],
             [
              0.6666666666666666,
              "#ed7953"
             ],
             [
              0.7777777777777778,
              "#fb9f3a"
             ],
             [
              0.8888888888888888,
              "#fdca26"
             ],
             [
              1,
              "#f0f921"
             ]
            ],
            "type": "histogram2dcontour"
           }
          ],
          "mesh3d": [
           {
            "colorbar": {
             "outlinewidth": 0,
             "ticks": ""
            },
            "type": "mesh3d"
           }
          ],
          "parcoords": [
           {
            "line": {
             "colorbar": {
              "outlinewidth": 0,
              "ticks": ""
             }
            },
            "type": "parcoords"
           }
          ],
          "pie": [
           {
            "automargin": true,
            "type": "pie"
           }
          ],
          "scatter": [
           {
            "marker": {
             "colorbar": {
              "outlinewidth": 0,
              "ticks": ""
             }
            },
            "type": "scatter"
           }
          ],
          "scatter3d": [
           {
            "line": {
             "colorbar": {
              "outlinewidth": 0,
              "ticks": ""
             }
            },
            "marker": {
             "colorbar": {
              "outlinewidth": 0,
              "ticks": ""
             }
            },
            "type": "scatter3d"
           }
          ],
          "scattercarpet": [
           {
            "marker": {
             "colorbar": {
              "outlinewidth": 0,
              "ticks": ""
             }
            },
            "type": "scattercarpet"
           }
          ],
          "scattergeo": [
           {
            "marker": {
             "colorbar": {
              "outlinewidth": 0,
              "ticks": ""
             }
            },
            "type": "scattergeo"
           }
          ],
          "scattergl": [
           {
            "marker": {
             "colorbar": {
              "outlinewidth": 0,
              "ticks": ""
             }
            },
            "type": "scattergl"
           }
          ],
          "scattermapbox": [
           {
            "marker": {
             "colorbar": {
              "outlinewidth": 0,
              "ticks": ""
             }
            },
            "type": "scattermapbox"
           }
          ],
          "scatterpolar": [
           {
            "marker": {
             "colorbar": {
              "outlinewidth": 0,
              "ticks": ""
             }
            },
            "type": "scatterpolar"
           }
          ],
          "scatterpolargl": [
           {
            "marker": {
             "colorbar": {
              "outlinewidth": 0,
              "ticks": ""
             }
            },
            "type": "scatterpolargl"
           }
          ],
          "scatterternary": [
           {
            "marker": {
             "colorbar": {
              "outlinewidth": 0,
              "ticks": ""
             }
            },
            "type": "scatterternary"
           }
          ],
          "surface": [
           {
            "colorbar": {
             "outlinewidth": 0,
             "ticks": ""
            },
            "colorscale": [
             [
              0,
              "#0d0887"
             ],
             [
              0.1111111111111111,
              "#46039f"
             ],
             [
              0.2222222222222222,
              "#7201a8"
             ],
             [
              0.3333333333333333,
              "#9c179e"
             ],
             [
              0.4444444444444444,
              "#bd3786"
             ],
             [
              0.5555555555555556,
              "#d8576b"
             ],
             [
              0.6666666666666666,
              "#ed7953"
             ],
             [
              0.7777777777777778,
              "#fb9f3a"
             ],
             [
              0.8888888888888888,
              "#fdca26"
             ],
             [
              1,
              "#f0f921"
             ]
            ],
            "type": "surface"
           }
          ],
          "table": [
           {
            "cells": {
             "fill": {
              "color": "#EBF0F8"
             },
             "line": {
              "color": "white"
             }
            },
            "header": {
             "fill": {
              "color": "#C8D4E3"
             },
             "line": {
              "color": "white"
             }
            },
            "type": "table"
           }
          ]
         },
         "layout": {
          "annotationdefaults": {
           "arrowcolor": "#2a3f5f",
           "arrowhead": 0,
           "arrowwidth": 1
          },
          "autotypenumbers": "strict",
          "coloraxis": {
           "colorbar": {
            "outlinewidth": 0,
            "ticks": ""
           }
          },
          "colorscale": {
           "diverging": [
            [
             0,
             "#8e0152"
            ],
            [
             0.1,
             "#c51b7d"
            ],
            [
             0.2,
             "#de77ae"
            ],
            [
             0.3,
             "#f1b6da"
            ],
            [
             0.4,
             "#fde0ef"
            ],
            [
             0.5,
             "#f7f7f7"
            ],
            [
             0.6,
             "#e6f5d0"
            ],
            [
             0.7,
             "#b8e186"
            ],
            [
             0.8,
             "#7fbc41"
            ],
            [
             0.9,
             "#4d9221"
            ],
            [
             1,
             "#276419"
            ]
           ],
           "sequential": [
            [
             0,
             "#0d0887"
            ],
            [
             0.1111111111111111,
             "#46039f"
            ],
            [
             0.2222222222222222,
             "#7201a8"
            ],
            [
             0.3333333333333333,
             "#9c179e"
            ],
            [
             0.4444444444444444,
             "#bd3786"
            ],
            [
             0.5555555555555556,
             "#d8576b"
            ],
            [
             0.6666666666666666,
             "#ed7953"
            ],
            [
             0.7777777777777778,
             "#fb9f3a"
            ],
            [
             0.8888888888888888,
             "#fdca26"
            ],
            [
             1,
             "#f0f921"
            ]
           ],
           "sequentialminus": [
            [
             0,
             "#0d0887"
            ],
            [
             0.1111111111111111,
             "#46039f"
            ],
            [
             0.2222222222222222,
             "#7201a8"
            ],
            [
             0.3333333333333333,
             "#9c179e"
            ],
            [
             0.4444444444444444,
             "#bd3786"
            ],
            [
             0.5555555555555556,
             "#d8576b"
            ],
            [
             0.6666666666666666,
             "#ed7953"
            ],
            [
             0.7777777777777778,
             "#fb9f3a"
            ],
            [
             0.8888888888888888,
             "#fdca26"
            ],
            [
             1,
             "#f0f921"
            ]
           ]
          },
          "colorway": [
           "#636efa",
           "#EF553B",
           "#00cc96",
           "#ab63fa",
           "#FFA15A",
           "#19d3f3",
           "#FF6692",
           "#B6E880",
           "#FF97FF",
           "#FECB52"
          ],
          "font": {
           "color": "#2a3f5f"
          },
          "geo": {
           "bgcolor": "white",
           "lakecolor": "white",
           "landcolor": "white",
           "showlakes": true,
           "showland": true,
           "subunitcolor": "#C8D4E3"
          },
          "hoverlabel": {
           "align": "left"
          },
          "hovermode": "closest",
          "mapbox": {
           "style": "light"
          },
          "paper_bgcolor": "white",
          "plot_bgcolor": "white",
          "polar": {
           "angularaxis": {
            "gridcolor": "#EBF0F8",
            "linecolor": "#EBF0F8",
            "ticks": ""
           },
           "bgcolor": "white",
           "radialaxis": {
            "gridcolor": "#EBF0F8",
            "linecolor": "#EBF0F8",
            "ticks": ""
           }
          },
          "scene": {
           "xaxis": {
            "backgroundcolor": "white",
            "gridcolor": "#DFE8F3",
            "gridwidth": 2,
            "linecolor": "#EBF0F8",
            "showbackground": true,
            "ticks": "",
            "zerolinecolor": "#EBF0F8"
           },
           "yaxis": {
            "backgroundcolor": "white",
            "gridcolor": "#DFE8F3",
            "gridwidth": 2,
            "linecolor": "#EBF0F8",
            "showbackground": true,
            "ticks": "",
            "zerolinecolor": "#EBF0F8"
           },
           "zaxis": {
            "backgroundcolor": "white",
            "gridcolor": "#DFE8F3",
            "gridwidth": 2,
            "linecolor": "#EBF0F8",
            "showbackground": true,
            "ticks": "",
            "zerolinecolor": "#EBF0F8"
           }
          },
          "shapedefaults": {
           "line": {
            "color": "#2a3f5f"
           }
          },
          "ternary": {
           "aaxis": {
            "gridcolor": "#DFE8F3",
            "linecolor": "#A2B1C6",
            "ticks": ""
           },
           "baxis": {
            "gridcolor": "#DFE8F3",
            "linecolor": "#A2B1C6",
            "ticks": ""
           },
           "bgcolor": "white",
           "caxis": {
            "gridcolor": "#DFE8F3",
            "linecolor": "#A2B1C6",
            "ticks": ""
           }
          },
          "title": {
           "x": 0.05
          },
          "xaxis": {
           "automargin": true,
           "gridcolor": "#EBF0F8",
           "linecolor": "#EBF0F8",
           "ticks": "",
           "title": {
            "standoff": 15
           },
           "zerolinecolor": "#EBF0F8",
           "zerolinewidth": 2
          },
          "yaxis": {
           "automargin": true,
           "gridcolor": "#EBF0F8",
           "linecolor": "#EBF0F8",
           "ticks": "",
           "title": {
            "standoff": 15
           },
           "zerolinecolor": "#EBF0F8",
           "zerolinewidth": 2
          }
         }
        },
        "xaxis": {
         "anchor": "y",
         "autorange": true,
         "domain": [
          0,
          1
         ],
         "range": [
          "2021-08-03 12:00",
          "2021-09-23 12:00"
         ],
         "title": {
          "text": "tweet_date"
         },
         "type": "date"
        },
        "yaxis": {
         "anchor": "x",
         "autorange": true,
         "domain": [
          0,
          1
         ],
         "range": [
          0,
          614.7368421052631
         ],
         "title": {
          "text": "count"
         },
         "type": "linear"
        }
       }
      },
      "image/png": "[encoded data removed]",
      "text/html": [
       "<div>                            <div id=\"630b1b76-ffba-45b0-8725-a30f8f3c84ac\" class=\"plotly-graph-div\" style=\"height:513.4px; width:100%;\"></div>            <script type=\"text/javascript\">                require([\"plotly\"], function(Plotly) {                    window.PLOTLYENV=window.PLOTLYENV || {};                                    if (document.getElementById(\"630b1b76-ffba-45b0-8725-a30f8f3c84ac\")) {                    Plotly.newPlot(                        \"630b1b76-ffba-45b0-8725-a30f8f3c84ac\",                        [{\"alignmentgroup\":\"True\",\"hovertemplate\":\"color=green<br>tweet_date=%{x}<br>count=%{y}<extra></extra>\",\"legendgroup\":\"green\",\"marker\":{\"color\":\"#636efa\",\"pattern\":{\"shape\":\"\"}},\"name\":\"green\",\"offsetgroup\":\"green\",\"orientation\":\"v\",\"showlegend\":true,\"textposition\":\"auto\",\"type\":\"bar\",\"x\":[\"2021-09-23\",\"2021-09-22\",\"2021-09-21\",\"2021-09-19\",\"2021-09-18\",\"2021-09-16\",\"2021-09-15\",\"2021-09-14\",\"2021-09-13\",\"2021-09-12\",\"2021-09-11\",\"2021-09-10\",\"2021-09-08\",\"2021-09-07\",\"2021-09-04\",\"2021-09-03\",\"2021-09-02\",\"2021-09-01\",\"2021-08-31\",\"2021-08-30\",\"2021-08-28\",\"2021-08-27\",\"2021-08-26\",\"2021-08-25\",\"2021-08-24\",\"2021-08-22\",\"2021-08-21\",\"2021-08-20\",\"2021-08-19\",\"2021-08-18\",\"2021-08-17\",\"2021-08-16\",\"2021-08-15\",\"2021-08-14\",\"2021-08-12\",\"2021-08-11\",\"2021-08-09\",\"2021-08-08\",\"2021-08-07\",\"2021-08-06\",\"2021-08-05\",\"2021-08-04\"],\"xaxis\":\"x\",\"y\":[15,114,116,200,199,222,12,91,1,108,32,169,7,176,55,17,36,54,382,162,270,459,340,99,87,364,246,267,405,282,281,139,314,337,239,104,211,122,90,511,205,5],\"yaxis\":\"y\"},{\"alignmentgroup\":\"True\",\"hovertemplate\":\"color=red<br>tweet_date=%{x}<br>count=%{y}<extra></extra>\",\"legendgroup\":\"red\",\"marker\":{\"color\":\"#EF553B\",\"pattern\":{\"shape\":\"\"}},\"name\":\"red\",\"offsetgroup\":\"red\",\"orientation\":\"v\",\"showlegend\":true,\"textposition\":\"auto\",\"type\":\"bar\",\"x\":[\"2021-08-23\",\"2021-08-13\",\"2021-08-10\"],\"xaxis\":\"x\",\"y\":[514,569,584],\"yaxis\":\"y\"}],                        {\"barmode\":\"relative\",\"height\":513.4,\"legend\":{\"title\":{\"text\":\"color\"},\"tracegroupgap\":0},\"margin\":{\"t\":60},\"showlegend\":false,\"template\":{\"data\":{\"bar\":[{\"error_x\":{\"color\":\"#2a3f5f\"},\"error_y\":{\"color\":\"#2a3f5f\"},\"marker\":{\"line\":{\"color\":\"white\",\"width\":0.5},\"pattern\":{\"fillmode\":\"overlay\",\"size\":10,\"solidity\":0.2}},\"type\":\"bar\"}],\"barpolar\":[{\"marker\":{\"line\":{\"color\":\"white\",\"width\":0.5},\"pattern\":{\"fillmode\":\"overlay\",\"size\":10,\"solidity\":0.2}},\"type\":\"barpolar\"}],\"carpet\":[{\"aaxis\":{\"endlinecolor\":\"#2a3f5f\",\"gridcolor\":\"#C8D4E3\",\"linecolor\":\"#C8D4E3\",\"minorgridcolor\":\"#C8D4E3\",\"startlinecolor\":\"#2a3f5f\"},\"baxis\":{\"endlinecolor\":\"#2a3f5f\",\"gridcolor\":\"#C8D4E3\",\"linecolor\":\"#C8D4E3\",\"minorgridcolor\":\"#C8D4E3\",\"startlinecolor\":\"#2a3f5f\"},\"type\":\"carpet\"}],\"choropleth\":[{\"colorbar\":{\"outlinewidth\":0,\"ticks\":\"\"},\"type\":\"choropleth\"}],\"contour\":[{\"colorbar\":{\"outlinewidth\":0,\"ticks\":\"\"},\"colorscale\":[[0.0,\"#0d0887\"],[0.1111111111111111,\"#46039f\"],[0.2222222222222222,\"#7201a8\"],[0.3333333333333333,\"#9c179e\"],[0.4444444444444444,\"#bd3786\"],[0.5555555555555556,\"#d8576b\"],[0.6666666666666666,\"#ed7953\"],[0.7777777777777778,\"#fb9f3a\"],[0.8888888888888888,\"#fdca26\"],[1.0,\"#f0f921\"]],\"type\":\"contour\"}],\"contourcarpet\":[{\"colorbar\":{\"outlinewidth\":0,\"ticks\":\"\"},\"type\":\"contourcarpet\"}],\"heatmap\":[{\"colorbar\":{\"outlinewidth\":0,\"ticks\":\"\"},\"colorscale\":[[0.0,\"#0d0887\"],[0.1111111111111111,\"#46039f\"],[0.2222222222222222,\"#7201a8\"],[0.3333333333333333,\"#9c179e\"],[0.4444444444444444,\"#bd3786\"],[0.5555555555555556,\"#d8576b\"],[0.6666666666666666,\"#ed7953\"],[0.7777777777777778,\"#fb9f3a\"],[0.8888888888888888,\"#fdca26\"],[1.0,\"#f0f921\"]],\"type\":\"heatmap\"}],\"heatmapgl\":[{\"colorbar\":{\"outlinewidth\":0,\"ticks\":\"\"},\"colorscale\":[[0.0,\"#0d0887\"],[0.1111111111111111,\"#46039f\"],[0.2222222222222222,\"#7201a8\"],[0.3333333333333333,\"#9c179e\"],[0.4444444444444444,\"#bd3786\"],[0.5555555555555556,\"#d8576b\"],[0.6666666666666666,\"#ed7953\"],[0.7777777777777778,\"#fb9f3a\"],[0.8888888888888888,\"#fdca26\"],[1.0,\"#f0f921\"]],\"type\":\"heatmapgl\"}],\"histogram\":[{\"marker\":{\"pattern\":{\"fillmode\":\"overlay\",\"size\":10,\"solidity\":0.2}},\"type\":\"histogram\"}],\"histogram2d\":[{\"colorbar\":{\"outlinewidth\":0,\"ticks\":\"\"},\"colorscale\":[[0.0,\"#0d0887\"],[0.1111111111111111,\"#46039f\"],[0.2222222222222222,\"#7201a8\"],[0.3333333333333333,\"#9c179e\"],[0.4444444444444444,\"#bd3786\"],[0.5555555555555556,\"#d8576b\"],[0.6666666666666666,\"#ed7953\"],[0.7777777777777778,\"#fb9f3a\"],[0.8888888888888888,\"#fdca26\"],[1.0,\"#f0f921\"]],\"type\":\"histogram2d\"}],\"histogram2dcontour\":[{\"colorbar\":{\"outlinewidth\":0,\"ticks\":\"\"},\"colorscale\":[[0.0,\"#0d0887\"],[0.1111111111111111,\"#46039f\"],[0.2222222222222222,\"#7201a8\"],[0.3333333333333333,\"#9c179e\"],[0.4444444444444444,\"#bd3786\"],[0.5555555555555556,\"#d8576b\"],[0.6666666666666666,\"#ed7953\"],[0.7777777777777778,\"#fb9f3a\"],[0.8888888888888888,\"#fdca26\"],[1.0,\"#f0f921\"]],\"type\":\"histogram2dcontour\"}],\"mesh3d\":[{\"colorbar\":{\"outlinewidth\":0,\"ticks\":\"\"},\"type\":\"mesh3d\"}],\"parcoords\":[{\"line\":{\"colorbar\":{\"outlinewidth\":0,\"ticks\":\"\"}},\"type\":\"parcoords\"}],\"pie\":[{\"automargin\":true,\"type\":\"pie\"}],\"scatter\":[{\"marker\":{\"colorbar\":{\"outlinewidth\":0,\"ticks\":\"\"}},\"type\":\"scatter\"}],\"scatter3d\":[{\"line\":{\"colorbar\":{\"outlinewidth\":0,\"ticks\":\"\"}},\"marker\":{\"colorbar\":{\"outlinewidth\":0,\"ticks\":\"\"}},\"type\":\"scatter3d\"}],\"scattercarpet\":[{\"marker\":{\"colorbar\":{\"outlinewidth\":0,\"ticks\":\"\"}},\"type\":\"scattercarpet\"}],\"scattergeo\":[{\"marker\":{\"colorbar\":{\"outlinewidth\":0,\"ticks\":\"\"}},\"type\":\"scattergeo\"}],\"scattergl\":[{\"marker\":{\"colorbar\":{\"outlinewidth\":0,\"ticks\":\"\"}},\"type\":\"scattergl\"}],\"scattermapbox\":[{\"marker\":{\"colorbar\":{\"outlinewidth\":0,\"ticks\":\"\"}},\"type\":\"scattermapbox\"}],\"scatterpolar\":[{\"marker\":{\"colorbar\":{\"outlinewidth\":0,\"ticks\":\"\"}},\"type\":\"scatterpolar\"}],\"scatterpolargl\":[{\"marker\":{\"colorbar\":{\"outlinewidth\":0,\"ticks\":\"\"}},\"type\":\"scatterpolargl\"}],\"scatterternary\":[{\"marker\":{\"colorbar\":{\"outlinewidth\":0,\"ticks\":\"\"}},\"type\":\"scatterternary\"}],\"surface\":[{\"colorbar\":{\"outlinewidth\":0,\"ticks\":\"\"},\"colorscale\":[[0.0,\"#0d0887\"],[0.1111111111111111,\"#46039f\"],[0.2222222222222222,\"#7201a8\"],[0.3333333333333333,\"#9c179e\"],[0.4444444444444444,\"#bd3786\"],[0.5555555555555556,\"#d8576b\"],[0.6666666666666666,\"#ed7953\"],[0.7777777777777778,\"#fb9f3a\"],[0.8888888888888888,\"#fdca26\"],[1.0,\"#f0f921\"]],\"type\":\"surface\"}],\"table\":[{\"cells\":{\"fill\":{\"color\":\"#EBF0F8\"},\"line\":{\"color\":\"white\"}},\"header\":{\"fill\":{\"color\":\"#C8D4E3\"},\"line\":{\"color\":\"white\"}},\"type\":\"table\"}]},\"layout\":{\"annotationdefaults\":{\"arrowcolor\":\"#2a3f5f\",\"arrowhead\":0,\"arrowwidth\":1},\"autotypenumbers\":\"strict\",\"coloraxis\":{\"colorbar\":{\"outlinewidth\":0,\"ticks\":\"\"}},\"colorscale\":{\"diverging\":[[0,\"#8e0152\"],[0.1,\"#c51b7d\"],[0.2,\"#de77ae\"],[0.3,\"#f1b6da\"],[0.4,\"#fde0ef\"],[0.5,\"#f7f7f7\"],[0.6,\"#e6f5d0\"],[0.7,\"#b8e186\"],[0.8,\"#7fbc41\"],[0.9,\"#4d9221\"],[1,\"#276419\"]],\"sequential\":[[0.0,\"#0d0887\"],[0.1111111111111111,\"#46039f\"],[0.2222222222222222,\"#7201a8\"],[0.3333333333333333,\"#9c179e\"],[0.4444444444444444,\"#bd3786\"],[0.5555555555555556,\"#d8576b\"],[0.6666666666666666,\"#ed7953\"],[0.7777777777777778,\"#fb9f3a\"],[0.8888888888888888,\"#fdca26\"],[1.0,\"#f0f921\"]],\"sequentialminus\":[[0.0,\"#0d0887\"],[0.1111111111111111,\"#46039f\"],[0.2222222222222222,\"#7201a8\"],[0.3333333333333333,\"#9c179e\"],[0.4444444444444444,\"#bd3786\"],[0.5555555555555556,\"#d8576b\"],[0.6666666666666666,\"#ed7953\"],[0.7777777777777778,\"#fb9f3a\"],[0.8888888888888888,\"#fdca26\"],[1.0,\"#f0f921\"]]},\"colorway\":[\"#636efa\",\"#EF553B\",\"#00cc96\",\"#ab63fa\",\"#FFA15A\",\"#19d3f3\",\"#FF6692\",\"#B6E880\",\"#FF97FF\",\"#FECB52\"],\"font\":{\"color\":\"#2a3f5f\"},\"geo\":{\"bgcolor\":\"white\",\"lakecolor\":\"white\",\"landcolor\":\"white\",\"showlakes\":true,\"showland\":true,\"subunitcolor\":\"#C8D4E3\"},\"hoverlabel\":{\"align\":\"left\"},\"hovermode\":\"closest\",\"mapbox\":{\"style\":\"light\"},\"paper_bgcolor\":\"white\",\"plot_bgcolor\":\"white\",\"polar\":{\"angularaxis\":{\"gridcolor\":\"#EBF0F8\",\"linecolor\":\"#EBF0F8\",\"ticks\":\"\"},\"bgcolor\":\"white\",\"radialaxis\":{\"gridcolor\":\"#EBF0F8\",\"linecolor\":\"#EBF0F8\",\"ticks\":\"\"}},\"scene\":{\"xaxis\":{\"backgroundcolor\":\"white\",\"gridcolor\":\"#DFE8F3\",\"gridwidth\":2,\"linecolor\":\"#EBF0F8\",\"showbackground\":true,\"ticks\":\"\",\"zerolinecolor\":\"#EBF0F8\"},\"yaxis\":{\"backgroundcolor\":\"white\",\"gridcolor\":\"#DFE8F3\",\"gridwidth\":2,\"linecolor\":\"#EBF0F8\",\"showbackground\":true,\"ticks\":\"\",\"zerolinecolor\":\"#EBF0F8\"},\"zaxis\":{\"backgroundcolor\":\"white\",\"gridcolor\":\"#DFE8F3\",\"gridwidth\":2,\"linecolor\":\"#EBF0F8\",\"showbackground\":true,\"ticks\":\"\",\"zerolinecolor\":\"#EBF0F8\"}},\"shapedefaults\":{\"line\":{\"color\":\"#2a3f5f\"}},\"ternary\":{\"aaxis\":{\"gridcolor\":\"#DFE8F3\",\"linecolor\":\"#A2B1C6\",\"ticks\":\"\"},\"baxis\":{\"gridcolor\":\"#DFE8F3\",\"linecolor\":\"#A2B1C6\",\"ticks\":\"\"},\"bgcolor\":\"white\",\"caxis\":{\"gridcolor\":\"#DFE8F3\",\"linecolor\":\"#A2B1C6\",\"ticks\":\"\"}},\"title\":{\"x\":0.05},\"xaxis\":{\"automargin\":true,\"gridcolor\":\"#EBF0F8\",\"linecolor\":\"#EBF0F8\",\"ticks\":\"\",\"title\":{\"standoff\":15},\"zerolinecolor\":\"#EBF0F8\",\"zerolinewidth\":2},\"yaxis\":{\"automargin\":true,\"gridcolor\":\"#EBF0F8\",\"linecolor\":\"#EBF0F8\",\"ticks\":\"\",\"title\":{\"standoff\":15},\"zerolinecolor\":\"#EBF0F8\",\"zerolinewidth\":2}}},\"xaxis\":{\"anchor\":\"y\",\"domain\":[0.0,1.0],\"title\":{\"text\":\"tweet_date\"}},\"yaxis\":{\"anchor\":\"x\",\"domain\":[0.0,1.0],\"title\":{\"text\":\"count\"}}},                        {\"responsive\": true}                    ).then(function(){\n",
       "                            \n",
       "var gd = document.getElementById('630b1b76-ffba-45b0-8725-a30f8f3c84ac');\n",
       "var x = new MutationObserver(function (mutations, observer) {{\n",
       "        var display = window.getComputedStyle(gd).display;\n",
       "        if (!display || display === 'none') {{\n",
       "            console.log([gd, 'removed!']);\n",
       "            Plotly.purge(gd);\n",
       "            observer.disconnect();\n",
       "        }}\n",
       "}});\n",
       "\n",
       "// Listen for the removal of the full notebook cells\n",
       "var notebookContainer = gd.closest('#notebook-container');\n",
       "if (notebookContainer) {{\n",
       "    x.observe(notebookContainer, {childList: true});\n",
       "}}\n",
       "\n",
       "// Listen for the clearing of the current output cell\n",
       "var outputEl = gd.closest('.output');\n",
       "if (outputEl) {{\n",
       "    x.observe(outputEl, {childList: true});\n",
       "}}\n",
       "\n",
       "                        })                };                });            </script>        </div>"
      ]
     },
     "metadata": {},
     "output_type": "display_data"
    }
   ],
   "source": [
    "colors = [\"red\" if cc > spike_value else \"green\" for cc in c_sg_tweets_pst['count']]\n",
    "fig = px.bar(c_sg_tweets_pst, x=\"tweet_date\", y=\"count\", template='plotly_white', color=colors,\n",
    "             height = spike_value)\n",
    "fig.update_layout(showlegend=False)\n",
    "fig.show()"
   ]
  },
  {
   "cell_type": "code",
   "execution_count": 225,
   "id": "6029c20e-e6ee-4493-a6d3-4cc31d215eaf",
   "metadata": {},
   "outputs": [],
   "source": [
    "# from_d = '2021-08-10'\n",
    "# to_d = '2021-08-10'\n",
    "\n",
    "# sg_tweets_pst[sg_tweets_pst['entity_hashtags'].notna() & sg_tweets_pst['tweet_date'].between(from_d, to_d, inclusive='both')]['entity_hashtags'].unique()"
   ]
  },
  {
   "cell_type": "code",
   "execution_count": 202,
   "id": "9e6dbd3a-9abf-4465-8cdd-f92b2d148b29",
   "metadata": {},
   "outputs": [
    {
     "data": {
      "text/plain": [
       "array(['2021-08-06', '2021-09-14', '2021-09-15', '2021-08-15',\n",
       "       '2021-08-16', '2021-08-04', '2021-08-05', '2021-08-10',\n",
       "       '2021-08-11', '2021-08-07', '2021-09-16', '2021-08-14',\n",
       "       '2021-08-18', '2021-08-08', '2021-08-09', '2021-08-13',\n",
       "       '2021-09-11', '2021-09-12', '2021-08-17', '2021-08-12',\n",
       "       '2021-09-13', '2021-08-24', '2021-08-25', '2021-08-28',\n",
       "       '2021-08-21', '2021-08-22', '2021-09-23', '2021-09-22',\n",
       "       '2021-08-23', '2021-08-29', '2021-09-03', '2021-09-04',\n",
       "       '2021-09-17', '2021-09-18', '2021-09-21', '2021-08-30',\n",
       "       '2021-09-01', '2021-09-02', '2021-09-24', '2021-09-07',\n",
       "       '2021-09-08', '2021-09-06', '2021-08-19', '2021-09-19',\n",
       "       '2021-09-20', '2021-08-31', '2021-08-26', '2021-08-20',\n",
       "       '2021-08-27', '2021-09-05', '2021-09-09', '2021-09-10'],\n",
       "      dtype=object)"
      ]
     },
     "execution_count": 202,
     "metadata": {},
     "output_type": "execute_result"
    }
   ],
   "source": [
    "sg_tweets[sg_tweets['entity_hashtags'].notna()]['tweet_date'].unique()"
   ]
  },
  {
   "cell_type": "markdown",
   "id": "328c3b30-4ae9-4696-a644-d7c53f29d47a",
   "metadata": {},
   "source": [
    "##### Dates with high PSTs"
   ]
  },
  {
   "cell_type": "code",
   "execution_count": 55,
   "id": "6dd36ff9-5970-4314-b531-cadc183e3f13",
   "metadata": {},
   "outputs": [
    {
     "data": {
      "text/plain": [
       "['2021-08-27',\n",
       " '2021-08-23',\n",
       " '2021-08-19',\n",
       " '2021-08-13',\n",
       " '2021-08-10',\n",
       " '2021-08-06']"
      ]
     },
     "execution_count": 55,
     "metadata": {},
     "output_type": "execute_result"
    }
   ],
   "source": [
    "tweet_date_high_pst = c_sg_tweets_pst[c_sg_tweets_pst['count'] > PST_THRESHOLD]['tweet_date']\n",
    "list(tweet_date_high_pst)"
   ]
  },
  {
   "cell_type": "markdown",
   "id": "6c429375-78ac-4001-92cd-296d19e74777",
   "metadata": {},
   "source": [
    "### 4.5.  Popular hashtags <a id=\"cell45\"></a>"
   ]
  },
  {
   "cell_type": "code",
   "execution_count": 154,
   "id": "1f487a46-85be-4aa5-94c3-3db31601e036",
   "metadata": {},
   "outputs": [],
   "source": [
    "def generate_dash_hashtags(hashtags_save_path, from_date=MIN_DATE, to_date=MAX_DATE, top_hash_count=20):\n",
    "    sg_tweets_hashtags = sg_tweets[sg_tweets['entity_hashtags'].notna() & sg_tweets['tweet_date'].between(from_date, to_date, inclusive='both')]\\\n",
    "                                                                                                          ['entity_hashtags']\n",
    "\n",
    "    print(\"Count of tweets with hashtags {}\".format(len(sg_tweets_hashtags)))\n",
    "    print(\"% of tweets with hashtags {}\".format(len(sg_tweets_hashtags)/len(sg_tweets)*100))\n",
    "    \n",
    "    hashtags = []\n",
    "\n",
    "    for h in sg_tweets_hashtags:\n",
    "        h_list = [hh for hh in h.split('|') if hh not in ['Singapore', 'singapore', 'sg']]\n",
    "        hashtags.extend(h_list)\n",
    "\n",
    "    print(\"Total hashtags:\", len(hashtags))\n",
    "    print(\"Total unique hashtags:\", len(set(hashtags)))\n",
    "    \n",
    "    count_hashtags = col.Counter(hashtags).most_common()\n",
    "    hashtags = [c[0] for c in count_hashtags[:top_hash_count]]\n",
    "    counts = [c[1] for c in count_hashtags[:top_hash_count]]\n",
    "    \n",
    "    plot_hashtags(hashtags, counts)\n",
    "    \n",
    "    # Saving data for the dashboard\n",
    "    hashtags_data = {\n",
    "        \"counts\": counts[::-1],\n",
    "        \"hashtag\": hashtags[::-1]\n",
    "    }\n",
    "\n",
    "    df_hashtags_data = pd.DataFrame(data=hashtags_data)\n",
    "    pd.DataFrame.to_csv(df_hashtags_data)\n",
    "    \n",
    "    \n",
    "def plot_hashtags(hashtags, counts):\n",
    "    # count_hashtags\n",
    "    plt.barh(hashtags[::-1], counts[::-1])\n",
    "\n",
    "    plt.ylabel(\"hashtags\")\n",
    "    plt.xlabel(\"Count\")\n",
    "    plt.xticks(rotation=45)\n",
    "    plt.title(\"Distribution of hashtags\")\n",
    "    plt.show()"
   ]
  },
  {
   "cell_type": "code",
   "execution_count": 155,
   "id": "38b15c96-04bf-42c2-b7ed-3004dee810e5",
   "metadata": {},
   "outputs": [
    {
     "name": "stdout",
     "output_type": "stream",
     "text": [
      "Count of tweets with hashtags 43083\n",
      "% of tweets with hashtags 23.747264679781505\n",
      "Total hashtags: 89848\n",
      "Total unique hashtags: 12737\n"
     ]
    },
    {
     "data": {
      "image/png": "[encoded data removed]",
      "text/plain": [
       "<Figure size 432x288 with 1 Axes>"
      ]
     },
     "metadata": {
      "needs_background": "light"
     },
     "output_type": "display_data"
    }
   ],
   "source": [
    "hashtags_save_path = DATA_PATH + \"output/basics/hashtags.csv\"\n",
    "generate_dash_hashtags(hashtags_save_path)"
   ]
  },
  {
   "cell_type": "markdown",
   "id": "755c1b68-a5ee-4224-87dc-8626bfa8bfdf",
   "metadata": {},
   "source": [
    "### 4.6. Popular mentions <a id=\"cell46\"></a>"
   ]
  },
  {
   "cell_type": "code",
   "execution_count": 150,
   "id": "b2eeb437-3613-4848-9620-7247c2a868b8",
   "metadata": {},
   "outputs": [],
   "source": [
    "def generate_dash_mentions(mentions_save_path, from_date=MIN_DATE, to_date=MAX_DATE, top_mentions_count=20):\n",
    "    sg_tweets_mentions = sg_tweets[sg_tweets['entity_mentions'].notna() & sg_tweets['tweet_date'].between(from_date, to_date, inclusive='both')] \\\n",
    "                         ['entity_mentions']\n",
    "    \n",
    "    print(\"Count of tweets with mentions {}\".format(len(sg_tweets_mentions)))\n",
    "    print(\"% tweets with mentions {}\".format(len(sg_tweets_mentions)/len(sg_tweets)*100))\n",
    "    \n",
    "    mentions = []\n",
    "\n",
    "    for m in sg_tweets_mentions:\n",
    "        m_list = [mm for mm in m.split('|')]\n",
    "        mentions.extend(m_list)\n",
    "\n",
    "    print(\"Total mentions:\", len(mentions))\n",
    "    print(\"Total unique mentions:\", len(set(mentions)))\n",
    "    \n",
    "    count_mentions = col.Counter(mentions).most_common()\n",
    "\n",
    "    mentions = [c[0] for c in count_mentions[:top_mentions_count]]\n",
    "    counts = [c[1] for c in count_mentions[:top_mentions_count]]\n",
    "    \n",
    "    plot_mentions(mentions, counts)\n",
    "    \n",
    "    # Saving data for the dashboard\n",
    "    mentions_data = {\n",
    "        \"counts\": counts[::-1],\n",
    "        \"mention\": mentions[::-1]\n",
    "    }\n",
    "\n",
    "    df_mentions_data = pd.DataFrame(data=mentions_data)\n",
    "    pd.DataFrame.to_csv(df_mentions_data, mentions_save_path)\n",
    "    \n",
    "    \n",
    "def plot_mentions(mentions, counts):\n",
    "    # count_mentions\n",
    "    plt.barh(mentions[::-1], counts[::-1])\n",
    "\n",
    "    plt.ylabel(\"Screen_name\")\n",
    "    plt.xlabel(\"Count\")\n",
    "    plt.xticks(rotation=45)\n",
    "    plt.title(\"Distribution of mentions\")\n",
    "    plt.show()"
   ]
  },
  {
   "cell_type": "code",
   "execution_count": 151,
   "id": "e6ff0106-b335-469a-ab74-209d6f7e9dd3",
   "metadata": {},
   "outputs": [
    {
     "name": "stdout",
     "output_type": "stream",
     "text": [
      "Count of tweets with mentions 91955\n",
      "% tweets with mentions 50.68541474895686\n",
      "Total mentions: 116606\n",
      "Total unique mentions: 37576\n"
     ]
    },
    {
     "data": {
      "image/png": "[encoded data removed]",
      "text/plain": [
       "<Figure size 432x288 with 1 Axes>"
      ]
     },
     "metadata": {
      "needs_background": "light"
     },
     "output_type": "display_data"
    }
   ],
   "source": [
    "mentions_save_path = DATA_PATH + \"output/basics/mentions.csv\"\n",
    "generate_dash_mentions(mentions_save_path)"
   ]
  },
  {
   "cell_type": "markdown",
   "id": "b009f2ef-329a-4acc-9efc-91dd8fb3a6c2",
   "metadata": {},
   "source": [
    "### 4.7. Regional analysis  <a id=\"cell47\"></a>\n",
    "\n",
    "Singapore is divided in 5 regions.Checking the distribution of tweets at regional level. \n",
    "**Only a subset of tweets is taken containing regional information in the location description**\n",
    "\n",
    "**Factual**:Population by region:\n",
    "- **Central Region**\t922,580\n",
    "\n",
    "- **East Region** 685,890\n",
    "\n",
    "- **North Region** 582,330 \n",
    "\n",
    "- **North-East Region** 930,910 \n",
    "\n",
    "- **West Region** 922,540 "
   ]
  },
  {
   "cell_type": "code",
   "execution_count": 64,
   "id": "f21a77ee-581a-40e5-8782-5f3b428d6210",
   "metadata": {},
   "outputs": [
    {
     "data": {
      "text/plain": [
       "2471"
      ]
     },
     "execution_count": 64,
     "metadata": {},
     "output_type": "execute_result"
    }
   ],
   "source": [
    "tw_user_location_containing_place = list(sg_tweets[sg_tweets['user_geo_tagging'].str.contains('PLACE', na=False, regex=True)]['user_geo_tagging'])\n",
    "len(tw_user_location_containing_place)"
   ]
  },
  {
   "cell_type": "code",
   "execution_count": 65,
   "id": "60d18fbd-4e3e-4e28-a3c1-56c5b0212c35",
   "metadata": {},
   "outputs": [
    {
     "name": "stdout",
     "output_type": "stream",
     "text": [
      "Number of tweets from Central:  757\n",
      "Number of tweets from West:  298\n",
      "Number of tweets from East:  571\n",
      "Number of tweets from North-East:  371\n",
      "Number of tweets from North:  133\n",
      "----------\n",
      "% of tweets from Central:  30.63537029542695\n",
      "% of tweets from West:  12.059894779441521\n",
      "% of tweets from North-East:  15.01416430594901\n",
      "% of tweets from North:  5.382436260623229\n",
      "% of tweets from East:  23.108053419668153\n"
     ]
    }
   ],
   "source": [
    "print(\"Number of tweets from Central: \", sum('Central' in s for s in tw_user_location_containing_place))\n",
    "print(\"Number of tweets from West: \", sum('West' in s for s in tw_user_location_containing_place))\n",
    "print(\"Number of tweets from East: \", sum('East ' in s for s in tw_user_location_containing_place))\n",
    "print(\"Number of tweets from North-East: \", sum('North-East' in s for s in tw_user_location_containing_place))\n",
    "print(\"Number of tweets from North: \", sum('North ' in s for s in tw_user_location_containing_place))\n",
    "print(\"-\"*10)\n",
    "print(\"% of tweets from Central: \", sum('Central' in s for s in tw_user_location_containing_place)/len(tw_user_location_containing_place)*100)\n",
    "print(\"% of tweets from West: \", sum('West' in s for s in tw_user_location_containing_place)/len(tw_user_location_containing_place)*100)\n",
    "print(\"% of tweets from North-East: \", sum('North-East' in s for s in tw_user_location_containing_place)/len(tw_user_location_containing_place)*100)\n",
    "print(\"% of tweets from North: \", sum('North ' in s for s in tw_user_location_containing_place)/len(tw_user_location_containing_place)*100)\n",
    "print(\"% of tweets from East: \", sum('East ' in s for s in tw_user_location_containing_place)/len(tw_user_location_containing_place)*100)"
   ]
  },
  {
   "cell_type": "markdown",
   "id": "586479f0-8830-43ec-a4dc-437b8a6cae27",
   "metadata": {},
   "source": [
    "### 4.8. Others <a id=\"cell48\"></a>"
   ]
  },
  {
   "cell_type": "markdown",
   "id": "a954accb-9196-4a65-ad22-a9200ee05dc7",
   "metadata": {},
   "source": [
    "#### Fake news"
   ]
  },
  {
   "cell_type": "code",
   "execution_count": 66,
   "id": "f8b754be-107f-4088-9c4f-f6114da55b60",
   "metadata": {},
   "outputs": [],
   "source": [
    "fake_news_sources = []\n",
    "with open(\"../data/fake_news_sources.txt\", 'r') as f:\n",
    "    for line in f:\n",
    "        fake_news_sources.append(line.strip('\\n'))\n",
    "\n",
    "fake_news_sources_reg = '|'.join(fake_news_sources)"
   ]
  },
  {
   "cell_type": "code",
   "execution_count": 67,
   "id": "e5961c0e-168d-4f50-be16-677c7a2e626f",
   "metadata": {},
   "outputs": [
    {
     "data": {
      "text/plain": [
       "998"
      ]
     },
     "execution_count": 67,
     "metadata": {},
     "output_type": "execute_result"
    }
   ],
   "source": [
    "len(fake_news_sources)"
   ]
  },
  {
   "cell_type": "code",
   "execution_count": 68,
   "id": "31b0b990-b5d6-4111-a00c-dea7ddc464fa",
   "metadata": {},
   "outputs": [],
   "source": [
    "sg_fake_news = sg_tweets[sg_tweets['entity_link_url'].str.lower().str.contains(fake_news_sources_reg, na=False, regex=True, case=False)]"
   ]
  },
  {
   "cell_type": "code",
   "execution_count": 69,
   "id": "f71d3d8f-9deb-47ca-9215-10818881d080",
   "metadata": {},
   "outputs": [
    {
     "data": {
      "text/html": [
       "<div>\n",
       "<style scoped>\n",
       "    .dataframe tbody tr th:only-of-type {\n",
       "        vertical-align: middle;\n",
       "    }\n",
       "\n",
       "    .dataframe tbody tr th {\n",
       "        vertical-align: top;\n",
       "    }\n",
       "\n",
       "    .dataframe thead th {\n",
       "        text-align: right;\n",
       "    }\n",
       "</style>\n",
       "<table border=\"1\" class=\"dataframe\">\n",
       "  <thead>\n",
       "    <tr style=\"text-align: right;\">\n",
       "      <th></th>\n",
       "      <th>tweet_text</th>\n",
       "      <th>tweet_time</th>\n",
       "      <th>tweet_id</th>\n",
       "      <th>tweet_lang</th>\n",
       "      <th>tweet_possibly_sensitive</th>\n",
       "      <th>entity_image_url</th>\n",
       "      <th>entity_mentions</th>\n",
       "      <th>entity_hashtags</th>\n",
       "      <th>entity_link_url</th>\n",
       "      <th>user_id_x</th>\n",
       "      <th>...</th>\n",
       "      <th>quoted_user_geo_coding</th>\n",
       "      <th>quoted_user_geo_coding_type</th>\n",
       "      <th>quoted_retweet_count</th>\n",
       "      <th>quoted_favorite_count</th>\n",
       "      <th>tweet_datetime</th>\n",
       "      <th>tweet_date</th>\n",
       "      <th>processed_tweet_text</th>\n",
       "      <th>processed_quoted_tweet_text</th>\n",
       "      <th>tweet_sentiment</th>\n",
       "      <th>quoted_tweet_sentiment</th>\n",
       "    </tr>\n",
       "  </thead>\n",
       "  <tbody>\n",
       "  </tbody>\n",
       "</table>\n",
       "<p>0 rows × 53 columns</p>\n",
       "</div>"
      ],
      "text/plain": [
       "Empty DataFrame\n",
       "Columns: [tweet_text, tweet_time, tweet_id, tweet_lang, tweet_possibly_sensitive, entity_image_url, entity_mentions, entity_hashtags, entity_link_url, user_id_x, user_name_x, user_screenname_x, user_friends_count, user_followers_count, user_verified, user_location, user_desc, user_geo_coding, user_geo_tagging, user_id_y, user_name_y, user_screenname_y, tweet_enagagement_type, replied_to_tweet_id, replied_to_user_id, replied_to_user_screenname, retweeted_tweet_id, retweeted_tweet_time, retweeted_user_id, retweeted_user_name, retweeted_user_verified, retweeted_user_screenname, retweeted_user_geo_coding, retweeted_user_geo_coding_type, retweeted_retweet_count, retweeted_favorite_count, quoted_tweet_text, quoted_tweet_id, quoted_tweet_time, quoted_user_id, quoted_user_name, quoted_user_verified, quoted_user_screenname, quoted_user_geo_coding, quoted_user_geo_coding_type, quoted_retweet_count, quoted_favorite_count, tweet_datetime, tweet_date, processed_tweet_text, processed_quoted_tweet_text, tweet_sentiment, quoted_tweet_sentiment]\n",
       "Index: []\n",
       "\n",
       "[0 rows x 53 columns]"
      ]
     },
     "execution_count": 69,
     "metadata": {},
     "output_type": "execute_result"
    }
   ],
   "source": [
    "sg_fake_news"
   ]
  },
  {
   "cell_type": "markdown",
   "id": "d249cbf4-9ad0-4c94-80aa-3a26d516ae41",
   "metadata": {},
   "source": [
    "#### Images shared on twitter "
   ]
  },
  {
   "cell_type": "code",
   "execution_count": 70,
   "id": "6c506988-4305-41ab-ba3a-b18c5b548eed",
   "metadata": {},
   "outputs": [
    {
     "data": {
      "text/plain": [
       "9         https://pbs.twimg.com/media/E71g09BVkAQ9wGv.jpg\n",
       "21        https://pbs.twimg.com/media/E8FPGNyVIAAsIzr.png\n",
       "27        https://pbs.twimg.com/media/E8CUEqGXsAAwEZ6.jpg\n",
       "57        https://pbs.twimg.com/media/E8FExRBUUAYg2Pn.jpg\n",
       "65        https://pbs.twimg.com/media/E8BVOYcVgAIH4_j.png\n",
       "                               ...                       \n",
       "429548    https://pbs.twimg.com/media/E-9VwiGUcAA-lDW.jpg\n",
       "429713    https://pbs.twimg.com/media/E-6cVEUVIAA-tKw.jpg\n",
       "429748    https://pbs.twimg.com/media/E-7oiBSVUAMZvgH.jpg\n",
       "429777    https://pbs.twimg.com/media/E-90ZjPXEC8zY81.jpg\n",
       "429825    https://pbs.twimg.com/media/E-lvmKhXIAcsDYw.jpg\n",
       "Name: entity_image_url, Length: 13166, dtype: object"
      ]
     },
     "execution_count": 70,
     "metadata": {},
     "output_type": "execute_result"
    }
   ],
   "source": [
    "imgs_sg_tweets = sg_tweets[(sg_tweets['entity_image_url'].notna())]\n",
    "imgs_sg_tweets['entity_image_url']"
   ]
  },
  {
   "cell_type": "markdown",
   "id": "0c4f1fb2-958c-4b34-84ca-49e336b460a7",
   "metadata": {},
   "source": [
    "#### Listing tweets with random hate words"
   ]
  },
  {
   "cell_type": "code",
   "execution_count": 71,
   "id": "835e3bec-2c4f-4a4f-bc0a-11519a35f153",
   "metadata": {},
   "outputs": [
    {
     "data": {
      "text/plain": [
       "(268, 53)"
      ]
     },
     "execution_count": 71,
     "metadata": {},
     "output_type": "execute_result"
    }
   ],
   "source": [
    "hate_sg_tweets = sg_tweets[(sg_tweets['tweet_text'].str.contains('racism|racist|xeno', case=False, regex=True))]\n",
    "hate_sg_tweets.shape"
   ]
  },
  {
   "cell_type": "code",
   "execution_count": 72,
   "id": "9619de7d-e4e8-4975-b3c0-bdacc24779fa",
   "metadata": {},
   "outputs": [
    {
     "data": {
      "text/plain": [
       "['RT @fuhduhduhh: imagine seeing chinese singaporeans being racist and thinking \"how far singapore has fallen without lky\\'s authority\"',\n",
       " 'No but wait what do you mean racism doesn’t exist in Singapore? I don’t care if you haven’t faced it bro I’ve known… https://t.co/Qgv6JpNCcX',\n",
       " '@PeterFl13201217 @Inseer_ @Dominic2306 Do you think Singapore is not xenophobic. \\n\\nSingapore is far more xenophobic… https://t.co/P5ABrH4GiE',\n",
       " 'Tik Tok series: Racism in Singapore\\nEP 3: What is your view on xenophobia in Singapore?\\n\\nWatch here: https://t.co/M49Ui7Ns2A',\n",
       " \"Well won't this be very interesting. Covid safety & health vs the 'racism' debate. Quite the conundrum and a true t… https://t.co/GXHWi74aBz\",\n",
       " 'RT @sara_sailesh: Racism in Singapore against Indians are so bad that I worry for my children in the future . \\n\\nSuch a small country but so…',\n",
       " '@BahrSinan @Xeno_Imperial @MegaManMain @DudespostingWs Probably holiday... there was soccer events in Singapore but… https://t.co/SSVWE2fQKb',\n",
       " 'Racist policies and racist bigots: Does Singapore need all Singaporeans or just some of us?\\n\\nDropping the masks of xenophobia in SG govt.',\n",
       " \"Most Singaporeans: We aren't racist, we are xenophobic, there's a big difference!\\n\\nXenophobia is the fine art of re… https://t.co/djBY8XEFZF\",\n",
       " 'RT @MichaelPSenger: The CCP also makes use of modern wokeism to deflect criticism as “racist.” Eg, this is what allows for the question of…']"
      ]
     },
     "execution_count": 72,
     "metadata": {},
     "output_type": "execute_result"
    }
   ],
   "source": [
    "list(hate_sg_tweets['tweet_text'])[:10]"
   ]
  },
  {
   "cell_type": "markdown",
   "id": "aa2cf481-3c6c-4a31-a8ef-41dba9b51c3b",
   "metadata": {},
   "source": [
    "#### Local news Singapore reporters "
   ]
  },
  {
   "cell_type": "code",
   "execution_count": 73,
   "id": "6b38249c-7cd8-49d7-afd7-da8ebb3a9893",
   "metadata": {},
   "outputs": [
    {
     "data": {
      "text/plain": [
       "13989     \"To my shock and disbelief, an animal that I h...\n",
       "32831     The Singaporean father is accused of four coun...\n",
       "115130    \"Despite the pandemic and struggles by some st...\n",
       "298814    If you have any information regarding the inci...\n",
       "301049    “Her blatant disregard for the law and selfish...\n",
       "315649    Preliminary investigations revealed that the u...\n",
       "Name: tweet_text, dtype: object"
      ]
     },
     "execution_count": 73,
     "metadata": {},
     "output_type": "execute_result"
    }
   ],
   "source": [
    "sg_tweets[sg_tweets['user_screenname_x'].isin(['stompsingapore'])]['tweet_text']"
   ]
  },
  {
   "cell_type": "code",
   "execution_count": 25,
   "id": "937c96e0-cc22-4bd7-b581-5f5078cc7b84",
   "metadata": {},
   "outputs": [
    {
     "data": {
      "application/vnd.plotly.v1+json": {
       "config": {
        "plotlyServerURL": "https://plot.ly"
       },
       "data": [
        {
         "domain": {
          "x": [
           0,
           1
          ],
          "y": [
           0,
           1
          ]
         },
         "hovertemplate": "label=%{label}<br>parent=%{parent}<extra></extra>",
         "labels": [
          "Oops! There are not enough tweets."
         ],
         "name": "",
         "parents": [
          ""
         ],
         "root": {
          "color": "lightblue"
         },
         "type": "treemap"
        }
       ],
       "layout": {
        "autosize": true,
        "font": {
         "family": "Verdana, monospace",
         "size": 20
        },
        "legend": {
         "tracegroupgap": 0
        },
        "margin": {
         "t": 60
        },
        "template": {
         "data": {
          "bar": [
           {
            "error_x": {
             "color": "#2a3f5f"
            },
            "error_y": {
             "color": "#2a3f5f"
            },
            "marker": {
             "line": {
              "color": "#E5ECF6",
              "width": 0.5
             },
             "pattern": {
              "fillmode": "overlay",
              "size": 10,
              "solidity": 0.2
             }
            },
            "type": "bar"
           }
          ],
          "barpolar": [
           {
            "marker": {
             "line": {
              "color": "#E5ECF6",
              "width": 0.5
             },
             "pattern": {
              "fillmode": "overlay",
              "size": 10,
              "solidity": 0.2
             }
            },
            "type": "barpolar"
           }
          ],
          "carpet": [
           {
            "aaxis": {
             "endlinecolor": "#2a3f5f",
             "gridcolor": "white",
             "linecolor": "white",
             "minorgridcolor": "white",
             "startlinecolor": "#2a3f5f"
            },
            "baxis": {
             "endlinecolor": "#2a3f5f",
             "gridcolor": "white",
             "linecolor": "white",
             "minorgridcolor": "white",
             "startlinecolor": "#2a3f5f"
            },
            "type": "carpet"
           }
          ],
          "choropleth": [
           {
            "colorbar": {
             "outlinewidth": 0,
             "ticks": ""
            },
            "type": "choropleth"
           }
          ],
          "contour": [
           {
            "colorbar": {
             "outlinewidth": 0,
             "ticks": ""
            },
            "colorscale": [
             [
              0,
              "#0d0887"
             ],
             [
              0.1111111111111111,
              "#46039f"
             ],
             [
              0.2222222222222222,
              "#7201a8"
             ],
             [
              0.3333333333333333,
              "#9c179e"
             ],
             [
              0.4444444444444444,
              "#bd3786"
             ],
             [
              0.5555555555555556,
              "#d8576b"
             ],
             [
              0.6666666666666666,
              "#ed7953"
             ],
             [
              0.7777777777777778,
              "#fb9f3a"
             ],
             [
              0.8888888888888888,
              "#fdca26"
             ],
             [
              1,
              "#f0f921"
             ]
            ],
            "type": "contour"
           }
          ],
          "contourcarpet": [
           {
            "colorbar": {
             "outlinewidth": 0,
             "ticks": ""
            },
            "type": "contourcarpet"
           }
          ],
          "heatmap": [
           {
            "colorbar": {
             "outlinewidth": 0,
             "ticks": ""
            },
            "colorscale": [
             [
              0,
              "#0d0887"
             ],
             [
              0.1111111111111111,
              "#46039f"
             ],
             [
              0.2222222222222222,
              "#7201a8"
             ],
             [
              0.3333333333333333,
              "#9c179e"
             ],
             [
              0.4444444444444444,
              "#bd3786"
             ],
             [
              0.5555555555555556,
              "#d8576b"
             ],
             [
              0.6666666666666666,
              "#ed7953"
             ],
             [
              0.7777777777777778,
              "#fb9f3a"
             ],
             [
              0.8888888888888888,
              "#fdca26"
             ],
             [
              1,
              "#f0f921"
             ]
            ],
            "type": "heatmap"
           }
          ],
          "heatmapgl": [
           {
            "colorbar": {
             "outlinewidth": 0,
             "ticks": ""
            },
            "colorscale": [
             [
              0,
              "#0d0887"
             ],
             [
              0.1111111111111111,
              "#46039f"
             ],
             [
              0.2222222222222222,
              "#7201a8"
             ],
             [
              0.3333333333333333,
              "#9c179e"
             ],
             [
              0.4444444444444444,
              "#bd3786"
             ],
             [
              0.5555555555555556,
              "#d8576b"
             ],
             [
              0.6666666666666666,
              "#ed7953"
             ],
             [
              0.7777777777777778,
              "#fb9f3a"
             ],
             [
              0.8888888888888888,
              "#fdca26"
             ],
             [
              1,
              "#f0f921"
             ]
            ],
            "type": "heatmapgl"
           }
          ],
          "histogram": [
           {
            "marker": {
             "pattern": {
              "fillmode": "overlay",
              "size": 10,
              "solidity": 0.2
             }
            },
            "type": "histogram"
           }
          ],
          "histogram2d": [
           {
            "colorbar": {
             "outlinewidth": 0,
             "ticks": ""
            },
            "colorscale": [
             [
              0,
              "#0d0887"
             ],
             [
              0.1111111111111111,
              "#46039f"
             ],
             [
              0.2222222222222222,
              "#7201a8"
             ],
             [
              0.3333333333333333,
              "#9c179e"
             ],
             [
              0.4444444444444444,
              "#bd3786"
             ],
             [
              0.5555555555555556,
              "#d8576b"
             ],
             [
              0.6666666666666666,
              "#ed7953"
             ],
             [
              0.7777777777777778,
              "#fb9f3a"
             ],
             [
              0.8888888888888888,
              "#fdca26"
             ],
             [
              1,
              "#f0f921"
             ]
            ],
            "type": "histogram2d"
           }
          ],
          "histogram2dcontour": [
           {
            "colorbar": {
             "outlinewidth": 0,
             "ticks": ""
            },
            "colorscale": [
             [
              0,
              "#0d0887"
             ],
             [
              0.1111111111111111,
              "#46039f"
             ],
             [
              0.2222222222222222,
              "#7201a8"
             ],
             [
              0.3333333333333333,
              "#9c179e"
             ],
             [
              0.4444444444444444,
              "#bd3786"
             ],
             [
              0.5555555555555556,
              "#d8576b"
             ],
             [
              0.6666666666666666,
              "#ed7953"
             ],
             [
              0.7777777777777778,
              "#fb9f3a"
             ],
             [
              0.8888888888888888,
              "#fdca26"
             ],
             [
              1,
              "#f0f921"
             ]
            ],
            "type": "histogram2dcontour"
           }
          ],
          "mesh3d": [
           {
            "colorbar": {
             "outlinewidth": 0,
             "ticks": ""
            },
            "type": "mesh3d"
           }
          ],
          "parcoords": [
           {
            "line": {
             "colorbar": {
              "outlinewidth": 0,
              "ticks": ""
             }
            },
            "type": "parcoords"
           }
          ],
          "pie": [
           {
            "automargin": true,
            "type": "pie"
           }
          ],
          "scatter": [
           {
            "marker": {
             "colorbar": {
              "outlinewidth": 0,
              "ticks": ""
             }
            },
            "type": "scatter"
           }
          ],
          "scatter3d": [
           {
            "line": {
             "colorbar": {
              "outlinewidth": 0,
              "ticks": ""
             }
            },
            "marker": {
             "colorbar": {
              "outlinewidth": 0,
              "ticks": ""
             }
            },
            "type": "scatter3d"
           }
          ],
          "scattercarpet": [
           {
            "marker": {
             "colorbar": {
              "outlinewidth": 0,
              "ticks": ""
             }
            },
            "type": "scattercarpet"
           }
          ],
          "scattergeo": [
           {
            "marker": {
             "colorbar": {
              "outlinewidth": 0,
              "ticks": ""
             }
            },
            "type": "scattergeo"
           }
          ],
          "scattergl": [
           {
            "marker": {
             "colorbar": {
              "outlinewidth": 0,
              "ticks": ""
             }
            },
            "type": "scattergl"
           }
          ],
          "scattermapbox": [
           {
            "marker": {
             "colorbar": {
              "outlinewidth": 0,
              "ticks": ""
             }
            },
            "type": "scattermapbox"
           }
          ],
          "scatterpolar": [
           {
            "marker": {
             "colorbar": {
              "outlinewidth": 0,
              "ticks": ""
             }
            },
            "type": "scatterpolar"
           }
          ],
          "scatterpolargl": [
           {
            "marker": {
             "colorbar": {
              "outlinewidth": 0,
              "ticks": ""
             }
            },
            "type": "scatterpolargl"
           }
          ],
          "scatterternary": [
           {
            "marker": {
             "colorbar": {
              "outlinewidth": 0,
              "ticks": ""
             }
            },
            "type": "scatterternary"
           }
          ],
          "surface": [
           {
            "colorbar": {
             "outlinewidth": 0,
             "ticks": ""
            },
            "colorscale": [
             [
              0,
              "#0d0887"
             ],
             [
              0.1111111111111111,
              "#46039f"
             ],
             [
              0.2222222222222222,
              "#7201a8"
             ],
             [
              0.3333333333333333,
              "#9c179e"
             ],
             [
              0.4444444444444444,
              "#bd3786"
             ],
             [
              0.5555555555555556,
              "#d8576b"
             ],
             [
              0.6666666666666666,
              "#ed7953"
             ],
             [
              0.7777777777777778,
              "#fb9f3a"
             ],
             [
              0.8888888888888888,
              "#fdca26"
             ],
             [
              1,
              "#f0f921"
             ]
            ],
            "type": "surface"
           }
          ],
          "table": [
           {
            "cells": {
             "fill": {
              "color": "#EBF0F8"
             },
             "line": {
              "color": "white"
             }
            },
            "header": {
             "fill": {
              "color": "#C8D4E3"
             },
             "line": {
              "color": "white"
             }
            },
            "type": "table"
           }
          ]
         },
         "layout": {
          "annotationdefaults": {
           "arrowcolor": "#2a3f5f",
           "arrowhead": 0,
           "arrowwidth": 1
          },
          "autotypenumbers": "strict",
          "coloraxis": {
           "colorbar": {
            "outlinewidth": 0,
            "ticks": ""
           }
          },
          "colorscale": {
           "diverging": [
            [
             0,
             "#8e0152"
            ],
            [
             0.1,
             "#c51b7d"
            ],
            [
             0.2,
             "#de77ae"
            ],
            [
             0.3,
             "#f1b6da"
            ],
            [
             0.4,
             "#fde0ef"
            ],
            [
             0.5,
             "#f7f7f7"
            ],
            [
             0.6,
             "#e6f5d0"
            ],
            [
             0.7,
             "#b8e186"
            ],
            [
             0.8,
             "#7fbc41"
            ],
            [
             0.9,
             "#4d9221"
            ],
            [
             1,
             "#276419"
            ]
           ],
           "sequential": [
            [
             0,
             "#0d0887"
            ],
            [
             0.1111111111111111,
             "#46039f"
            ],
            [
             0.2222222222222222,
             "#7201a8"
            ],
            [
             0.3333333333333333,
             "#9c179e"
            ],
            [
             0.4444444444444444,
             "#bd3786"
            ],
            [
             0.5555555555555556,
             "#d8576b"
            ],
            [
             0.6666666666666666,
             "#ed7953"
            ],
            [
             0.7777777777777778,
             "#fb9f3a"
            ],
            [
             0.8888888888888888,
             "#fdca26"
            ],
            [
             1,
             "#f0f921"
            ]
           ],
           "sequentialminus": [
            [
             0,
             "#0d0887"
            ],
            [
             0.1111111111111111,
             "#46039f"
            ],
            [
             0.2222222222222222,
             "#7201a8"
            ],
            [
             0.3333333333333333,
             "#9c179e"
            ],
            [
             0.4444444444444444,
             "#bd3786"
            ],
            [
             0.5555555555555556,
             "#d8576b"
            ],
            [
             0.6666666666666666,
             "#ed7953"
            ],
            [
             0.7777777777777778,
             "#fb9f3a"
            ],
            [
             0.8888888888888888,
             "#fdca26"
            ],
            [
             1,
             "#f0f921"
            ]
           ]
          },
          "colorway": [
           "#636efa",
           "#EF553B",
           "#00cc96",
           "#ab63fa",
           "#FFA15A",
           "#19d3f3",
           "#FF6692",
           "#B6E880",
           "#FF97FF",
           "#FECB52"
          ],
          "font": {
           "color": "#2a3f5f"
          },
          "geo": {
           "bgcolor": "white",
           "lakecolor": "white",
           "landcolor": "#E5ECF6",
           "showlakes": true,
           "showland": true,
           "subunitcolor": "white"
          },
          "hoverlabel": {
           "align": "left"
          },
          "hovermode": "closest",
          "mapbox": {
           "style": "light"
          },
          "paper_bgcolor": "white",
          "plot_bgcolor": "#E5ECF6",
          "polar": {
           "angularaxis": {
            "gridcolor": "white",
            "linecolor": "white",
            "ticks": ""
           },
           "bgcolor": "#E5ECF6",
           "radialaxis": {
            "gridcolor": "white",
            "linecolor": "white",
            "ticks": ""
           }
          },
          "scene": {
           "xaxis": {
            "backgroundcolor": "#E5ECF6",
            "gridcolor": "white",
            "gridwidth": 2,
            "linecolor": "white",
            "showbackground": true,
            "ticks": "",
            "zerolinecolor": "white"
           },
           "yaxis": {
            "backgroundcolor": "#E5ECF6",
            "gridcolor": "white",
            "gridwidth": 2,
            "linecolor": "white",
            "showbackground": true,
            "ticks": "",
            "zerolinecolor": "white"
           },
           "zaxis": {
            "backgroundcolor": "#E5ECF6",
            "gridcolor": "white",
            "gridwidth": 2,
            "linecolor": "white",
            "showbackground": true,
            "ticks": "",
            "zerolinecolor": "white"
           }
          },
          "shapedefaults": {
           "line": {
            "color": "#2a3f5f"
           }
          },
          "ternary": {
           "aaxis": {
            "gridcolor": "white",
            "linecolor": "white",
            "ticks": ""
           },
           "baxis": {
            "gridcolor": "white",
            "linecolor": "white",
            "ticks": ""
           },
           "bgcolor": "#E5ECF6",
           "caxis": {
            "gridcolor": "white",
            "linecolor": "white",
            "ticks": ""
           }
          },
          "title": {
           "x": 0.05
          },
          "xaxis": {
           "automargin": true,
           "gridcolor": "white",
           "linecolor": "white",
           "ticks": "",
           "title": {
            "standoff": 15
           },
           "zerolinecolor": "white",
           "zerolinewidth": 2
          },
          "yaxis": {
           "automargin": true,
           "gridcolor": "white",
           "linecolor": "white",
           "ticks": "",
           "title": {
            "standoff": 15
           },
           "zerolinecolor": "white",
           "zerolinewidth": 2
          }
         }
        }
       }
      },
      "image/png": "[encoded data removed]",
      "text/html": [
       "<div>                            <div id=\"92ffab6f-7b7f-494c-8e53-698bf52bc6ce\" class=\"plotly-graph-div\" style=\"height:525px; width:100%;\"></div>            <script type=\"text/javascript\">                require([\"plotly\"], function(Plotly) {                    window.PLOTLYENV=window.PLOTLYENV || {};                                    if (document.getElementById(\"92ffab6f-7b7f-494c-8e53-698bf52bc6ce\")) {                    Plotly.newPlot(                        \"92ffab6f-7b7f-494c-8e53-698bf52bc6ce\",                        [{\"domain\":{\"x\":[0.0,1.0],\"y\":[0.0,1.0]},\"hovertemplate\":\"label=%{label}<br>parent=%{parent}<extra></extra>\",\"labels\":[\"Oops! There are not enough tweets.\"],\"name\":\"\",\"parents\":[\"\"],\"root\":{\"color\":\"lightblue\"},\"type\":\"treemap\"}],                        {\"font\":{\"family\":\"Verdana, monospace\",\"size\":20},\"legend\":{\"tracegroupgap\":0},\"margin\":{\"t\":60},\"template\":{\"data\":{\"bar\":[{\"error_x\":{\"color\":\"#2a3f5f\"},\"error_y\":{\"color\":\"#2a3f5f\"},\"marker\":{\"line\":{\"color\":\"#E5ECF6\",\"width\":0.5},\"pattern\":{\"fillmode\":\"overlay\",\"size\":10,\"solidity\":0.2}},\"type\":\"bar\"}],\"barpolar\":[{\"marker\":{\"line\":{\"color\":\"#E5ECF6\",\"width\":0.5},\"pattern\":{\"fillmode\":\"overlay\",\"size\":10,\"solidity\":0.2}},\"type\":\"barpolar\"}],\"carpet\":[{\"aaxis\":{\"endlinecolor\":\"#2a3f5f\",\"gridcolor\":\"white\",\"linecolor\":\"white\",\"minorgridcolor\":\"white\",\"startlinecolor\":\"#2a3f5f\"},\"baxis\":{\"endlinecolor\":\"#2a3f5f\",\"gridcolor\":\"white\",\"linecolor\":\"white\",\"minorgridcolor\":\"white\",\"startlinecolor\":\"#2a3f5f\"},\"type\":\"carpet\"}],\"choropleth\":[{\"colorbar\":{\"outlinewidth\":0,\"ticks\":\"\"},\"type\":\"choropleth\"}],\"contour\":[{\"colorbar\":{\"outlinewidth\":0,\"ticks\":\"\"},\"colorscale\":[[0.0,\"#0d0887\"],[0.1111111111111111,\"#46039f\"],[0.2222222222222222,\"#7201a8\"],[0.3333333333333333,\"#9c179e\"],[0.4444444444444444,\"#bd3786\"],[0.5555555555555556,\"#d8576b\"],[0.6666666666666666,\"#ed7953\"],[0.7777777777777778,\"#fb9f3a\"],[0.8888888888888888,\"#fdca26\"],[1.0,\"#f0f921\"]],\"type\":\"contour\"}],\"contourcarpet\":[{\"colorbar\":{\"outlinewidth\":0,\"ticks\":\"\"},\"type\":\"contourcarpet\"}],\"heatmap\":[{\"colorbar\":{\"outlinewidth\":0,\"ticks\":\"\"},\"colorscale\":[[0.0,\"#0d0887\"],[0.1111111111111111,\"#46039f\"],[0.2222222222222222,\"#7201a8\"],[0.3333333333333333,\"#9c179e\"],[0.4444444444444444,\"#bd3786\"],[0.5555555555555556,\"#d8576b\"],[0.6666666666666666,\"#ed7953\"],[0.7777777777777778,\"#fb9f3a\"],[0.8888888888888888,\"#fdca26\"],[1.0,\"#f0f921\"]],\"type\":\"heatmap\"}],\"heatmapgl\":[{\"colorbar\":{\"outlinewidth\":0,\"ticks\":\"\"},\"colorscale\":[[0.0,\"#0d0887\"],[0.1111111111111111,\"#46039f\"],[0.2222222222222222,\"#7201a8\"],[0.3333333333333333,\"#9c179e\"],[0.4444444444444444,\"#bd3786\"],[0.5555555555555556,\"#d8576b\"],[0.6666666666666666,\"#ed7953\"],[0.7777777777777778,\"#fb9f3a\"],[0.8888888888888888,\"#fdca26\"],[1.0,\"#f0f921\"]],\"type\":\"heatmapgl\"}],\"histogram\":[{\"marker\":{\"pattern\":{\"fillmode\":\"overlay\",\"size\":10,\"solidity\":0.2}},\"type\":\"histogram\"}],\"histogram2d\":[{\"colorbar\":{\"outlinewidth\":0,\"ticks\":\"\"},\"colorscale\":[[0.0,\"#0d0887\"],[0.1111111111111111,\"#46039f\"],[0.2222222222222222,\"#7201a8\"],[0.3333333333333333,\"#9c179e\"],[0.4444444444444444,\"#bd3786\"],[0.5555555555555556,\"#d8576b\"],[0.6666666666666666,\"#ed7953\"],[0.7777777777777778,\"#fb9f3a\"],[0.8888888888888888,\"#fdca26\"],[1.0,\"#f0f921\"]],\"type\":\"histogram2d\"}],\"histogram2dcontour\":[{\"colorbar\":{\"outlinewidth\":0,\"ticks\":\"\"},\"colorscale\":[[0.0,\"#0d0887\"],[0.1111111111111111,\"#46039f\"],[0.2222222222222222,\"#7201a8\"],[0.3333333333333333,\"#9c179e\"],[0.4444444444444444,\"#bd3786\"],[0.5555555555555556,\"#d8576b\"],[0.6666666666666666,\"#ed7953\"],[0.7777777777777778,\"#fb9f3a\"],[0.8888888888888888,\"#fdca26\"],[1.0,\"#f0f921\"]],\"type\":\"histogram2dcontour\"}],\"mesh3d\":[{\"colorbar\":{\"outlinewidth\":0,\"ticks\":\"\"},\"type\":\"mesh3d\"}],\"parcoords\":[{\"line\":{\"colorbar\":{\"outlinewidth\":0,\"ticks\":\"\"}},\"type\":\"parcoords\"}],\"pie\":[{\"automargin\":true,\"type\":\"pie\"}],\"scatter\":[{\"marker\":{\"colorbar\":{\"outlinewidth\":0,\"ticks\":\"\"}},\"type\":\"scatter\"}],\"scatter3d\":[{\"line\":{\"colorbar\":{\"outlinewidth\":0,\"ticks\":\"\"}},\"marker\":{\"colorbar\":{\"outlinewidth\":0,\"ticks\":\"\"}},\"type\":\"scatter3d\"}],\"scattercarpet\":[{\"marker\":{\"colorbar\":{\"outlinewidth\":0,\"ticks\":\"\"}},\"type\":\"scattercarpet\"}],\"scattergeo\":[{\"marker\":{\"colorbar\":{\"outlinewidth\":0,\"ticks\":\"\"}},\"type\":\"scattergeo\"}],\"scattergl\":[{\"marker\":{\"colorbar\":{\"outlinewidth\":0,\"ticks\":\"\"}},\"type\":\"scattergl\"}],\"scattermapbox\":[{\"marker\":{\"colorbar\":{\"outlinewidth\":0,\"ticks\":\"\"}},\"type\":\"scattermapbox\"}],\"scatterpolar\":[{\"marker\":{\"colorbar\":{\"outlinewidth\":0,\"ticks\":\"\"}},\"type\":\"scatterpolar\"}],\"scatterpolargl\":[{\"marker\":{\"colorbar\":{\"outlinewidth\":0,\"ticks\":\"\"}},\"type\":\"scatterpolargl\"}],\"scatterternary\":[{\"marker\":{\"colorbar\":{\"outlinewidth\":0,\"ticks\":\"\"}},\"type\":\"scatterternary\"}],\"surface\":[{\"colorbar\":{\"outlinewidth\":0,\"ticks\":\"\"},\"colorscale\":[[0.0,\"#0d0887\"],[0.1111111111111111,\"#46039f\"],[0.2222222222222222,\"#7201a8\"],[0.3333333333333333,\"#9c179e\"],[0.4444444444444444,\"#bd3786\"],[0.5555555555555556,\"#d8576b\"],[0.6666666666666666,\"#ed7953\"],[0.7777777777777778,\"#fb9f3a\"],[0.8888888888888888,\"#fdca26\"],[1.0,\"#f0f921\"]],\"type\":\"surface\"}],\"table\":[{\"cells\":{\"fill\":{\"color\":\"#EBF0F8\"},\"line\":{\"color\":\"white\"}},\"header\":{\"fill\":{\"color\":\"#C8D4E3\"},\"line\":{\"color\":\"white\"}},\"type\":\"table\"}]},\"layout\":{\"annotationdefaults\":{\"arrowcolor\":\"#2a3f5f\",\"arrowhead\":0,\"arrowwidth\":1},\"autotypenumbers\":\"strict\",\"coloraxis\":{\"colorbar\":{\"outlinewidth\":0,\"ticks\":\"\"}},\"colorscale\":{\"diverging\":[[0,\"#8e0152\"],[0.1,\"#c51b7d\"],[0.2,\"#de77ae\"],[0.3,\"#f1b6da\"],[0.4,\"#fde0ef\"],[0.5,\"#f7f7f7\"],[0.6,\"#e6f5d0\"],[0.7,\"#b8e186\"],[0.8,\"#7fbc41\"],[0.9,\"#4d9221\"],[1,\"#276419\"]],\"sequential\":[[0.0,\"#0d0887\"],[0.1111111111111111,\"#46039f\"],[0.2222222222222222,\"#7201a8\"],[0.3333333333333333,\"#9c179e\"],[0.4444444444444444,\"#bd3786\"],[0.5555555555555556,\"#d8576b\"],[0.6666666666666666,\"#ed7953\"],[0.7777777777777778,\"#fb9f3a\"],[0.8888888888888888,\"#fdca26\"],[1.0,\"#f0f921\"]],\"sequentialminus\":[[0.0,\"#0d0887\"],[0.1111111111111111,\"#46039f\"],[0.2222222222222222,\"#7201a8\"],[0.3333333333333333,\"#9c179e\"],[0.4444444444444444,\"#bd3786\"],[0.5555555555555556,\"#d8576b\"],[0.6666666666666666,\"#ed7953\"],[0.7777777777777778,\"#fb9f3a\"],[0.8888888888888888,\"#fdca26\"],[1.0,\"#f0f921\"]]},\"colorway\":[\"#636efa\",\"#EF553B\",\"#00cc96\",\"#ab63fa\",\"#FFA15A\",\"#19d3f3\",\"#FF6692\",\"#B6E880\",\"#FF97FF\",\"#FECB52\"],\"font\":{\"color\":\"#2a3f5f\"},\"geo\":{\"bgcolor\":\"white\",\"lakecolor\":\"white\",\"landcolor\":\"#E5ECF6\",\"showlakes\":true,\"showland\":true,\"subunitcolor\":\"white\"},\"hoverlabel\":{\"align\":\"left\"},\"hovermode\":\"closest\",\"mapbox\":{\"style\":\"light\"},\"paper_bgcolor\":\"white\",\"plot_bgcolor\":\"#E5ECF6\",\"polar\":{\"angularaxis\":{\"gridcolor\":\"white\",\"linecolor\":\"white\",\"ticks\":\"\"},\"bgcolor\":\"#E5ECF6\",\"radialaxis\":{\"gridcolor\":\"white\",\"linecolor\":\"white\",\"ticks\":\"\"}},\"scene\":{\"xaxis\":{\"backgroundcolor\":\"#E5ECF6\",\"gridcolor\":\"white\",\"gridwidth\":2,\"linecolor\":\"white\",\"showbackground\":true,\"ticks\":\"\",\"zerolinecolor\":\"white\"},\"yaxis\":{\"backgroundcolor\":\"#E5ECF6\",\"gridcolor\":\"white\",\"gridwidth\":2,\"linecolor\":\"white\",\"showbackground\":true,\"ticks\":\"\",\"zerolinecolor\":\"white\"},\"zaxis\":{\"backgroundcolor\":\"#E5ECF6\",\"gridcolor\":\"white\",\"gridwidth\":2,\"linecolor\":\"white\",\"showbackground\":true,\"ticks\":\"\",\"zerolinecolor\":\"white\"}},\"shapedefaults\":{\"line\":{\"color\":\"#2a3f5f\"}},\"ternary\":{\"aaxis\":{\"gridcolor\":\"white\",\"linecolor\":\"white\",\"ticks\":\"\"},\"baxis\":{\"gridcolor\":\"white\",\"linecolor\":\"white\",\"ticks\":\"\"},\"bgcolor\":\"#E5ECF6\",\"caxis\":{\"gridcolor\":\"white\",\"linecolor\":\"white\",\"ticks\":\"\"}},\"title\":{\"x\":0.05},\"xaxis\":{\"automargin\":true,\"gridcolor\":\"white\",\"linecolor\":\"white\",\"ticks\":\"\",\"title\":{\"standoff\":15},\"zerolinecolor\":\"white\",\"zerolinewidth\":2},\"yaxis\":{\"automargin\":true,\"gridcolor\":\"white\",\"linecolor\":\"white\",\"ticks\":\"\",\"title\":{\"standoff\":15},\"zerolinecolor\":\"white\",\"zerolinewidth\":2}}}},                        {\"responsive\": true}                    ).then(function(){\n",
       "                            \n",
       "var gd = document.getElementById('92ffab6f-7b7f-494c-8e53-698bf52bc6ce');\n",
       "var x = new MutationObserver(function (mutations, observer) {{\n",
       "        var display = window.getComputedStyle(gd).display;\n",
       "        if (!display || display === 'none') {{\n",
       "            console.log([gd, 'removed!']);\n",
       "            Plotly.purge(gd);\n",
       "            observer.disconnect();\n",
       "        }}\n",
       "}});\n",
       "\n",
       "// Listen for the removal of the full notebook cells\n",
       "var notebookContainer = gd.closest('#notebook-container');\n",
       "if (notebookContainer) {{\n",
       "    x.observe(notebookContainer, {childList: true});\n",
       "}}\n",
       "\n",
       "// Listen for the clearing of the current output cell\n",
       "var outputEl = gd.closest('.output');\n",
       "if (outputEl) {{\n",
       "    x.observe(outputEl, {childList: true});\n",
       "}}\n",
       "\n",
       "                        })                };                });            </script>        </div>"
      ]
     },
     "metadata": {},
     "output_type": "display_data"
    }
   ],
   "source": [
    "MARGIN = 100\n",
    "import plotly.express as px\n",
    "fig = px.treemap(\n",
    "    names = [\"Oops! There are not enough tweets.\"],\n",
    "    parents = [\"\",]\n",
    ")\n",
    "fig.update_traces(root_color=\"lightblue\")\n",
    "fig.update_layout(font=dict(\n",
    "                           family=\"Verdana, monospace\",\n",
    "                           size=20\n",
    "                       ),)"
   ]
  },
  {
   "cell_type": "code",
   "execution_count": null,
   "id": "dfe849a9-8d52-480b-8cf7-c42d6a76d404",
   "metadata": {},
   "outputs": [],
   "source": []
  }
 ],
 "metadata": {
  "kernelspec": {
   "display_name": "Python 3 (ipykernel)",
   "language": "python",
   "name": "python3"
  },
  "language_info": {
   "codemirror_mode": {
    "name": "ipython",
    "version": 3
   },
   "file_extension": ".py",
   "mimetype": "text/x-python",
   "name": "python",
   "nbconvert_exporter": "python",
   "pygments_lexer": "ipython3",
   "version": "3.8.11"
  }
 },
 "nbformat": 4,
 "nbformat_minor": 5
}
