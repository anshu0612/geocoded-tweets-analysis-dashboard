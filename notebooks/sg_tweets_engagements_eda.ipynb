{
 "cells": [
  {
   "cell_type": "markdown",
   "id": "a3a9a52f-2ef2-4dd1-a66b-bc8078ab5718",
   "metadata": {
    "tags": []
   },
   "source": [
    "# Endorsements and reactions - Retweets and Quoted tweets \n",
    "\n",
    "Plausible assumptions from existing research:\n",
    "1. **Retweets** are **endorsements** \n",
    "2. **Quoted tweets** are **reactions** - can be positive, negative or neutral "
   ]
  },
  {
   "cell_type": "markdown",
   "id": "cf9a5c70-8dd8-4c16-bf80-50e88a83bb71",
   "metadata": {},
   "source": [
    "### [Table of Contents](#cell2)\n",
    "\n",
    "* 1\\. [Distribution of retweets, replies and quoted tweets](#cell1)\n",
    "* 2\\. [Foreign influence: Inferring the influential countries](#cell2)\n",
    "* 3\\. [Bursty tweets: Inferring tweets with high intensity of extreme sentiments](#cell3)\n",
    "    * 3.1. [Inferring viral quoted tweets](#cell31)\n",
    "    * 3.2. [Sentiment analysis of the viral quoted tweets](#cell32)\n",
    "    * 3.3. [Inferring viral quoted tweets with extreme intensity of sentiments](#cell33)\n",
    "* 4\\. [Viral local retweets: Local news feed](#cell4)\n",
    "    * 4.1. [Viral local retweets with negative sentiment](#cell41)\n",
    "    * 4.2. [Viral local retweets with positive sentiment](#cell42)\n",
    "<!--     * 4.3. [Viral local retweets with all sentiments (general)](#cell43) -->\n",
    "* 5\\. [Viral global retweets: Global news feed](#cell5)\n",
    "    * 5.1. [Viral global retweets with negative sentiment](#cell51)\n",
    "    * 5.2. [Viral global retweets with positive sentiment](#cell52)\n",
    "<!--     * 5.3. [Viral global retweets with all sentiments (general)](#cell53) -->"
   ]
  },
  {
   "cell_type": "code",
   "execution_count": 1,
   "id": "c85c8df4-1eb8-43d0-97ca-c55ec570d59a",
   "metadata": {},
   "outputs": [],
   "source": [
    "import re\n",
    "import os\n",
    "import time\n",
    "import glob \n",
    "from datetime import datetime  as dt\n",
    "\n",
    "import collections as col\n",
    "import functools as ft\n",
    "import itertools as it\n",
    "\n",
    "import numpy as np\n",
    "import pandas as pd\n",
    "\n",
    "# visualizations\n",
    "import plotly.express as px\n",
    "import plotly.graph_objects as go\n",
    "import matplotlib.pyplot as plt"
   ]
  },
  {
   "cell_type": "code",
   "execution_count": 2,
   "id": "a1d09c58-1abf-439c-83ad-97faa2c199aa",
   "metadata": {},
   "outputs": [],
   "source": [
    "import warnings\n",
    "warnings.filterwarnings(\"ignore\")"
   ]
  },
  {
   "cell_type": "code",
   "execution_count": 3,
   "id": "15046278-0b72-4c80-99d5-e3a748127a09",
   "metadata": {},
   "outputs": [],
   "source": [
    "pd.set_option('display.max_colwidth', None)"
   ]
  },
  {
   "cell_type": "code",
   "execution_count": 4,
   "id": "6040b02a-c129-4f9b-ba23-ed0ac6bb1c2c",
   "metadata": {},
   "outputs": [],
   "source": [
    "BASE_PATH = '../data/'"
   ]
  },
  {
   "cell_type": "markdown",
   "id": "e12694ba-c7de-476a-a2ea-4434713e80be",
   "metadata": {},
   "source": [
    "##### Loading the processed Singapore-based data "
   ]
  },
  {
   "cell_type": "code",
   "execution_count": 5,
   "id": "4874fc8e-7613-4e48-a0ed-7058da86f011",
   "metadata": {},
   "outputs": [
    {
     "data": {
      "text/plain": [
       "(345201, 54)"
      ]
     },
     "execution_count": 5,
     "metadata": {},
     "output_type": "execute_result"
    }
   ],
   "source": [
    "sg_tweets = pd.read_csv(BASE_PATH + \"sg.csv\")\n",
    "sg_tweets.shape"
   ]
  },
  {
   "cell_type": "code",
   "execution_count": 6,
   "id": "23fcd3a2-a8c9-4665-9e1f-d01687705c2b",
   "metadata": {},
   "outputs": [
    {
     "data": {
      "text/plain": [
       "Index(['Unnamed: 0', 'tweet_text', 'tweet_time', 'tweet_id', 'tweet_lang',\n",
       "       'tweet_possibly_sensitive', 'entity_image_url', 'entity_mentions',\n",
       "       'entity_hashtags', 'entity_link_url', 'user_id_x', 'user_name_x',\n",
       "       'user_screenname_x', 'user_friends_count', 'user_followers_count',\n",
       "       'user_verified', 'user_location', 'user_desc', 'user_geo_coding',\n",
       "       'user_geo_tagging', 'user_id_y', 'user_name_y', 'user_screenname_y',\n",
       "       'tweet_enagagement_type', 'replied_to_tweet_id', 'replied_to_user_id',\n",
       "       'replied_to_user_screenname', 'retweeted_tweet_id',\n",
       "       'retweeted_tweet_time', 'retweeted_user_id', 'retweeted_user_name',\n",
       "       'retweeted_user_verified', 'retweeted_user_screenname',\n",
       "       'retweeted_user_geo_coding', 'retweeted_user_geo_coding_type',\n",
       "       'retweeted_retweet_count', 'retweeted_favorite_count',\n",
       "       'quoted_tweet_text', 'quoted_tweet_id', 'quoted_tweet_time',\n",
       "       'quoted_user_id', 'quoted_user_name', 'quoted_user_verified',\n",
       "       'quoted_user_screenname', 'quoted_user_geo_coding',\n",
       "       'quoted_user_geo_coding_type', 'quoted_retweet_count',\n",
       "       'quoted_favorite_count', 'tweet_datetime', 'tweet_date',\n",
       "       'processed_tweet_text', 'processed_quoted_tweet_text',\n",
       "       'tweet_sentiment', 'quoted_tweet_sentiment'],\n",
       "      dtype='object')"
      ]
     },
     "execution_count": 6,
     "metadata": {},
     "output_type": "execute_result"
    }
   ],
   "source": [
    "sg_tweets.columns"
   ]
  },
  {
   "cell_type": "code",
   "execution_count": 7,
   "id": "c154755d-02be-443b-8d8c-2fd7cf87a1f6",
   "metadata": {},
   "outputs": [
    {
     "data": {
      "text/plain": [
       "('2021-08-04', '2021-09-24')"
      ]
     },
     "execution_count": 7,
     "metadata": {},
     "output_type": "execute_result"
    }
   ],
   "source": [
    "MAX_DATE = sg_tweets['tweet_date'].max()\n",
    "MIN_DATE = sg_tweets['tweet_date'].min()\n",
    "MIN_DATE, MAX_DATE"
   ]
  },
  {
   "cell_type": "markdown",
   "id": "7af5bc35-9784-4ad8-b8ee-4a7f4d35444a",
   "metadata": {},
   "source": [
    "# 1. Distribution of retweets, replies and quoted tweets  <a id=\"cell1\"></a>"
   ]
  },
  {
   "cell_type": "code",
   "execution_count": 8,
   "id": "5288cf42-29bf-41d8-be9e-a7dae82cb916",
   "metadata": {},
   "outputs": [
    {
     "name": "stdout",
     "output_type": "stream",
     "text": [
      "Count of engaged tweets 254900\n",
      "% of engaged tweets 73.84103754044745\n"
     ]
    }
   ],
   "source": [
    "tweet_enagagement_type = sg_tweets[sg_tweets['tweet_enagagement_type'].notna()]\n",
    "\n",
    "print(\"Count of engaged tweets {}\".format(len(tweet_enagagement_type)))\n",
    "print(\"% of engaged tweets {}\".format(len(tweet_enagagement_type)/len(sg_tweets)*100))"
   ]
  },
  {
   "cell_type": "code",
   "execution_count": 9,
   "id": "1e6b223f-cabf-49a8-976a-e291721b9869",
   "metadata": {},
   "outputs": [
    {
     "data": {
      "text/plain": [
       "[('Retweet', 146084), ('Quote', 71847), ('Reply', 36969)]"
      ]
     },
     "execution_count": 9,
     "metadata": {},
     "output_type": "execute_result"
    }
   ],
   "source": [
    "count_tweet_enagagement_type = col.Counter(tweet_enagagement_type['tweet_enagagement_type']).most_common()\n",
    "count_tweet_enagagement_type"
   ]
  },
  {
   "cell_type": "code",
   "execution_count": 10,
   "id": "ce4b8de2-a3de-45a1-a71d-bbc3dcbcf0cb",
   "metadata": {},
   "outputs": [
    {
     "data": {
      "image/png": "[encoded data removed]",
      "text/plain": [
       "<Figure size 432x288 with 1 Axes>"
      ]
     },
     "metadata": {
      "needs_background": "light"
     },
     "output_type": "display_data"
    }
   ],
   "source": [
    "enagagement_type = [c[0] for c in count_tweet_enagagement_type]\n",
    "counts = [c[1] for c in count_tweet_enagagement_type]\n",
    "\n",
    "plt.barh(enagagement_type[::-1], counts[::-1])\n",
    " \n",
    "plt.ylabel(\"enagagement_type\")\n",
    "plt.xlabel(\"Count\")\n",
    "plt.xticks(rotation=45)\n",
    "plt.title(\"Distribution of enagagement_type\")\n",
    "plt.show()"
   ]
  },
  {
   "cell_type": "code",
   "execution_count": 11,
   "id": "69ec07f5-843c-4b26-a28a-ecc858785d61",
   "metadata": {},
   "outputs": [],
   "source": [
    "# constants\n",
    "COUNTRY = 'Singapore'\n",
    "TOP_RTS_POS_NEG = 5"
   ]
  },
  {
   "cell_type": "markdown",
   "id": "96648ec4-b891-4848-be73-6363ef65bdbb",
   "metadata": {
    "tags": []
   },
   "source": [
    "# 2. Foreign influence: Inferring the influential countries <a id=\"cell2\"></a>\n",
    "\n",
    "**Influential countries**: Tweets by non-Singapore based users with a high number of engagements - retweets and quoted tweets, by Singapore users. "
   ]
  },
  {
   "cell_type": "markdown",
   "id": "1d70a784-3e81-4f40-97fc-7c59d0157828",
   "metadata": {},
   "source": [
    "##### Selecting tweets created by non-Singapore based users and known geocoding. "
   ]
  },
  {
   "cell_type": "code",
   "execution_count": 12,
   "id": "ec21d7e7-6c13-47a3-a907-ad7bf8186d6e",
   "metadata": {},
   "outputs": [],
   "source": [
    "quoted_sg_tweets = sg_tweets[(sg_tweets['tweet_enagagement_type'] == 'Quote') & \n",
    "                             (sg_tweets['quoted_user_geo_coding'] != 'Unknown') & \n",
    "                            (sg_tweets['quoted_user_geo_coding'] != 'Singapore')]\n",
    "\n",
    "rts_sg_tweets = sg_tweets[(sg_tweets['tweet_enagagement_type'] == 'Retweet') & \n",
    "                          (sg_tweets['retweeted_user_geo_coding'] != 'Unknown') & \n",
    "                          (sg_tweets['retweeted_user_geo_coding'] != 'Singapore')]\n"
   ]
  },
  {
   "cell_type": "markdown",
   "id": "ec3fd408-de81-48f7-b1f3-122a36746aa3",
   "metadata": {},
   "source": [
    "##### Merging quoted tweets and retweets"
   ]
  },
  {
   "cell_type": "code",
   "execution_count": 13,
   "id": "65b7796e-bd15-48d9-92ae-93977a1d45b9",
   "metadata": {},
   "outputs": [
    {
     "data": {
      "text/plain": [
       "[('United States', 26699),\n",
       " ('Myanmar', 13061),\n",
       " ('Malaysia', 9716),\n",
       " ('United Kingdom', 6745),\n",
       " ('India', 6367),\n",
       " ('Australia', 3257),\n",
       " ('Philippines', 3169),\n",
       " ('China', 3065),\n",
       " ('Thailand', 2449),\n",
       " ('Indonesia', 2404),\n",
       " ('Japan', 2154),\n",
       " ('Canada', 1815),\n",
       " ('France', 1754),\n",
       " ('Switzerland', 808),\n",
       " ('Viet Nam', 713),\n",
       " ('Germany', 683),\n",
       " ('New Zealand', 622),\n",
       " ('South Africa', 556),\n",
       " ('Korea, Republic of', 387),\n",
       " ('Pakistan', 364),\n",
       " ('Spain', 356),\n",
       " ('Taiwan, Province of China', 316),\n",
       " ('Israel', 291),\n",
       " ('Ireland', 285),\n",
       " ('Netherlands', 276)]"
      ]
     },
     "execution_count": 13,
     "metadata": {},
     "output_type": "execute_result"
    }
   ],
   "source": [
    "quoted_rts_geo = list(quoted_sg_tweets['quoted_user_geo_coding']) + \\\n",
    "                list(rts_sg_tweets['retweeted_user_geo_coding'])\n",
    "c_quoted_rts_geo = col.Counter(quoted_rts_geo).most_common()\n",
    "c_quoted_rts_geo[:25]"
   ]
  },
  {
   "cell_type": "code",
   "execution_count": 14,
   "id": "3c0f3b4f-36e3-4da6-98db-4cb59fd8972e",
   "metadata": {},
   "outputs": [
    {
     "data": {
      "image/png": "[encoded data removed]",
      "text/plain": [
       "<Figure size 432x288 with 1 Axes>"
      ]
     },
     "metadata": {
      "needs_background": "light"
     },
     "output_type": "display_data"
    }
   ],
   "source": [
    "x_top = 10\n",
    "\n",
    "quoted_rts_geo = [c[0] for c in c_quoted_rts_geo[:x_top]]\n",
    "quoted_rts_geo_count = [c[1] for c in c_quoted_rts_geo[:x_top]]\n",
    "\n",
    "plt.barh(quoted_rts_geo[::-1], quoted_rts_geo_count[::-1])\n",
    " \n",
    "plt.ylabel(\"rts_quoted_geo\")\n",
    "plt.xlabel(\"Count\")\n",
    "plt.xticks(rotation=45)\n",
    "plt.title(\"Distribution of retweeted & quoted users' location\")\n",
    "plt.show()"
   ]
  },
  {
   "cell_type": "markdown",
   "id": "c84bc34e-b60f-434f-b920-f2415393d947",
   "metadata": {},
   "source": [
    "##### Loading data containing counties' geolocation and code"
   ]
  },
  {
   "cell_type": "code",
   "execution_count": 15,
   "id": "2a9b0968-f41f-4592-a603-b5e0c87d6439",
   "metadata": {},
   "outputs": [
    {
     "data": {
      "text/html": [
       "<div>\n",
       "<style scoped>\n",
       "    .dataframe tbody tr th:only-of-type {\n",
       "        vertical-align: middle;\n",
       "    }\n",
       "\n",
       "    .dataframe tbody tr th {\n",
       "        vertical-align: top;\n",
       "    }\n",
       "\n",
       "    .dataframe thead th {\n",
       "        text-align: right;\n",
       "    }\n",
       "</style>\n",
       "<table border=\"1\" class=\"dataframe\">\n",
       "  <thead>\n",
       "    <tr style=\"text-align: right;\">\n",
       "      <th></th>\n",
       "      <th>Country</th>\n",
       "      <th>Alpha-2 code</th>\n",
       "      <th>Alpha-3 code</th>\n",
       "      <th>Numeric code</th>\n",
       "      <th>Latitude (average)</th>\n",
       "      <th>Longitude (average)</th>\n",
       "    </tr>\n",
       "  </thead>\n",
       "  <tbody>\n",
       "    <tr>\n",
       "      <th>0</th>\n",
       "      <td>Afghanistan</td>\n",
       "      <td>\"AF\"</td>\n",
       "      <td>\"AFG\"</td>\n",
       "      <td>\"4\"</td>\n",
       "      <td>\"33\"</td>\n",
       "      <td>\"65\"</td>\n",
       "    </tr>\n",
       "    <tr>\n",
       "      <th>1</th>\n",
       "      <td>Albania</td>\n",
       "      <td>\"AL\"</td>\n",
       "      <td>\"ALB\"</td>\n",
       "      <td>\"8\"</td>\n",
       "      <td>\"41\"</td>\n",
       "      <td>\"20\"</td>\n",
       "    </tr>\n",
       "    <tr>\n",
       "      <th>2</th>\n",
       "      <td>Algeria</td>\n",
       "      <td>\"DZ\"</td>\n",
       "      <td>\"DZA\"</td>\n",
       "      <td>\"12\"</td>\n",
       "      <td>\"28\"</td>\n",
       "      <td>\"3\"</td>\n",
       "    </tr>\n",
       "    <tr>\n",
       "      <th>3</th>\n",
       "      <td>American Samoa</td>\n",
       "      <td>\"AS\"</td>\n",
       "      <td>\"ASM\"</td>\n",
       "      <td>\"16\"</td>\n",
       "      <td>\"-14.3333\"</td>\n",
       "      <td>\"-170\"</td>\n",
       "    </tr>\n",
       "    <tr>\n",
       "      <th>4</th>\n",
       "      <td>Andorra</td>\n",
       "      <td>\"AD\"</td>\n",
       "      <td>\"AND\"</td>\n",
       "      <td>\"20\"</td>\n",
       "      <td>\"42.5\"</td>\n",
       "      <td>\"1.6\"</td>\n",
       "    </tr>\n",
       "    <tr>\n",
       "      <th>...</th>\n",
       "      <td>...</td>\n",
       "      <td>...</td>\n",
       "      <td>...</td>\n",
       "      <td>...</td>\n",
       "      <td>...</td>\n",
       "      <td>...</td>\n",
       "    </tr>\n",
       "    <tr>\n",
       "      <th>251</th>\n",
       "      <td>Wallis and Futuna</td>\n",
       "      <td>\"WF\"</td>\n",
       "      <td>\"WLF\"</td>\n",
       "      <td>\"876\"</td>\n",
       "      <td>\"-13.3\"</td>\n",
       "      <td>\"-176.2\"</td>\n",
       "    </tr>\n",
       "    <tr>\n",
       "      <th>252</th>\n",
       "      <td>Western Sahara</td>\n",
       "      <td>\"EH\"</td>\n",
       "      <td>\"ESH\"</td>\n",
       "      <td>\"732\"</td>\n",
       "      <td>\"24.5\"</td>\n",
       "      <td>\"-13\"</td>\n",
       "    </tr>\n",
       "    <tr>\n",
       "      <th>253</th>\n",
       "      <td>Yemen</td>\n",
       "      <td>\"YE\"</td>\n",
       "      <td>\"YEM\"</td>\n",
       "      <td>\"887\"</td>\n",
       "      <td>\"15\"</td>\n",
       "      <td>\"48\"</td>\n",
       "    </tr>\n",
       "    <tr>\n",
       "      <th>254</th>\n",
       "      <td>Zambia</td>\n",
       "      <td>\"ZM\"</td>\n",
       "      <td>\"ZMB\"</td>\n",
       "      <td>\"894\"</td>\n",
       "      <td>\"-15\"</td>\n",
       "      <td>\"30\"</td>\n",
       "    </tr>\n",
       "    <tr>\n",
       "      <th>255</th>\n",
       "      <td>Zimbabwe</td>\n",
       "      <td>\"ZW\"</td>\n",
       "      <td>\"ZWE\"</td>\n",
       "      <td>\"716\"</td>\n",
       "      <td>\"-20\"</td>\n",
       "      <td>\"30\"</td>\n",
       "    </tr>\n",
       "  </tbody>\n",
       "</table>\n",
       "<p>256 rows × 6 columns</p>\n",
       "</div>"
      ],
      "text/plain": [
       "               Country Alpha-2 code Alpha-3 code Numeric code  \\\n",
       "0          Afghanistan         \"AF\"        \"AFG\"          \"4\"   \n",
       "1              Albania         \"AL\"        \"ALB\"          \"8\"   \n",
       "2              Algeria         \"DZ\"        \"DZA\"         \"12\"   \n",
       "3       American Samoa         \"AS\"        \"ASM\"         \"16\"   \n",
       "4              Andorra         \"AD\"        \"AND\"         \"20\"   \n",
       "..                 ...          ...          ...          ...   \n",
       "251  Wallis and Futuna         \"WF\"        \"WLF\"        \"876\"   \n",
       "252     Western Sahara         \"EH\"        \"ESH\"        \"732\"   \n",
       "253              Yemen         \"YE\"        \"YEM\"        \"887\"   \n",
       "254             Zambia         \"ZM\"        \"ZMB\"        \"894\"   \n",
       "255           Zimbabwe         \"ZW\"        \"ZWE\"        \"716\"   \n",
       "\n",
       "    Latitude (average) Longitude (average)  \n",
       "0                 \"33\"                \"65\"  \n",
       "1                 \"41\"                \"20\"  \n",
       "2                 \"28\"                 \"3\"  \n",
       "3           \"-14.3333\"              \"-170\"  \n",
       "4               \"42.5\"               \"1.6\"  \n",
       "..                 ...                 ...  \n",
       "251            \"-13.3\"            \"-176.2\"  \n",
       "252             \"24.5\"               \"-13\"  \n",
       "253               \"15\"                \"48\"  \n",
       "254              \"-15\"                \"30\"  \n",
       "255              \"-20\"                \"30\"  \n",
       "\n",
       "[256 rows x 6 columns]"
      ]
     },
     "execution_count": 15,
     "metadata": {},
     "output_type": "execute_result"
    }
   ],
   "source": [
    "countries_data = pd.read_csv(\"../data/countries_geolocation.csv\")\n",
    "countries_data"
   ]
  },
  {
   "cell_type": "code",
   "execution_count": 16,
   "id": "2e77e36b-42e5-425d-b735-1b6aa5a4d4d9",
   "metadata": {},
   "outputs": [
    {
     "data": {
      "text/plain": [
       "(103.8, 1.3667)"
      ]
     },
     "execution_count": 16,
     "metadata": {},
     "output_type": "execute_result"
    }
   ],
   "source": [
    "SINGAPORE_LONG_LAT = countries_data[countries_data['Country'] == 'Singapore']\n",
    "\n",
    "sg_long = float(SINGAPORE_LONG_LAT.iloc[0]['Longitude (average)'].strip().strip('\"'))  #.iloc(0)['Longitude (average)']\n",
    "sg_lat = float(SINGAPORE_LONG_LAT.iloc[0]['Latitude (average)'].strip().strip('\"'))\n",
    "\n",
    "sg_long, sg_lat"
   ]
  },
  {
   "cell_type": "code",
   "execution_count": 17,
   "id": "8592b2fd-50a9-4083-9975-6f7da4205ffc",
   "metadata": {},
   "outputs": [
    {
     "data": {
      "text/plain": [
       "[('United States', 26699),\n",
       " ('Myanmar', 13061),\n",
       " ('Malaysia', 9716),\n",
       " ('United Kingdom', 6745),\n",
       " ('India', 6367),\n",
       " ('Australia', 3257),\n",
       " ('Philippines', 3169),\n",
       " ('China', 3065),\n",
       " ('Thailand', 2449),\n",
       " ('Indonesia', 2404)]"
      ]
     },
     "execution_count": 17,
     "metadata": {},
     "output_type": "execute_result"
    }
   ],
   "source": [
    "top_country_influencer = c_quoted_rts_geo[:10]\n",
    "top_country_influencer"
   ]
  },
  {
   "cell_type": "code",
   "execution_count": 18,
   "id": "6616cabd-8794-4197-9085-feaae99b5b5c",
   "metadata": {},
   "outputs": [
    {
     "data": {
      "text/plain": [
       "[26699, 13061, 9716, 6745, 6367, 3257, 3169, 3065, 2449, 2404]"
      ]
     },
     "execution_count": 18,
     "metadata": {},
     "output_type": "execute_result"
    }
   ],
   "source": [
    "quoted_rts_geo_count"
   ]
  },
  {
   "cell_type": "code",
   "execution_count": 19,
   "id": "fca230d7-9cff-402a-a87e-db123ba9f507",
   "metadata": {},
   "outputs": [],
   "source": [
    "# preparing data for the dashboard\n",
    "top_influential_countries_data = {\n",
    "    'country': [],\n",
    "    'lat': [],\n",
    "    'long': [],\n",
    "    'count': [],\n",
    "    'size': []\n",
    "}\n",
    "\n",
    "sum_influence = sum([c[1] for c in top_country_influencer])\n",
    "\n",
    "for i in top_country_influencer:\n",
    "    top_influential_countries_data['country'].append(i[0])\n",
    "    top_influential_countries_data['count'].append(i[1])\n",
    "    top_influential_countries_data['size'].append(round(i[1]/sum_influence*150, 2))\n",
    "    country_loc = countries_data[countries_data['Country'] == i[0]]\n",
    "    top_influential_countries_data['long'].append(float(country_loc.iloc[0]['Longitude (average)'].strip().strip('\"')))\n",
    "    top_influential_countries_data['lat'].append(float(country_loc.iloc[0]['Latitude (average)'].strip().strip('\"')))\n",
    "    "
   ]
  },
  {
   "cell_type": "code",
   "execution_count": 20,
   "id": "7ec623d0-c772-46b4-b276-d16c0e9159ca",
   "metadata": {},
   "outputs": [
    {
     "data": {
      "text/html": [
       "<div>\n",
       "<style scoped>\n",
       "    .dataframe tbody tr th:only-of-type {\n",
       "        vertical-align: middle;\n",
       "    }\n",
       "\n",
       "    .dataframe tbody tr th {\n",
       "        vertical-align: top;\n",
       "    }\n",
       "\n",
       "    .dataframe thead th {\n",
       "        text-align: right;\n",
       "    }\n",
       "</style>\n",
       "<table border=\"1\" class=\"dataframe\">\n",
       "  <thead>\n",
       "    <tr style=\"text-align: right;\">\n",
       "      <th></th>\n",
       "      <th>country</th>\n",
       "      <th>lat</th>\n",
       "      <th>long</th>\n",
       "      <th>count</th>\n",
       "      <th>size</th>\n",
       "    </tr>\n",
       "  </thead>\n",
       "  <tbody>\n",
       "    <tr>\n",
       "      <th>0</th>\n",
       "      <td>United States</td>\n",
       "      <td>38.0</td>\n",
       "      <td>-97.0</td>\n",
       "      <td>26699</td>\n",
       "      <td>52.06</td>\n",
       "    </tr>\n",
       "    <tr>\n",
       "      <th>1</th>\n",
       "      <td>Myanmar</td>\n",
       "      <td>22.0</td>\n",
       "      <td>98.0</td>\n",
       "      <td>13061</td>\n",
       "      <td>25.47</td>\n",
       "    </tr>\n",
       "    <tr>\n",
       "      <th>2</th>\n",
       "      <td>Malaysia</td>\n",
       "      <td>2.5</td>\n",
       "      <td>112.5</td>\n",
       "      <td>9716</td>\n",
       "      <td>18.94</td>\n",
       "    </tr>\n",
       "    <tr>\n",
       "      <th>3</th>\n",
       "      <td>United Kingdom</td>\n",
       "      <td>54.0</td>\n",
       "      <td>-2.0</td>\n",
       "      <td>6745</td>\n",
       "      <td>13.15</td>\n",
       "    </tr>\n",
       "    <tr>\n",
       "      <th>4</th>\n",
       "      <td>India</td>\n",
       "      <td>20.0</td>\n",
       "      <td>77.0</td>\n",
       "      <td>6367</td>\n",
       "      <td>12.41</td>\n",
       "    </tr>\n",
       "    <tr>\n",
       "      <th>5</th>\n",
       "      <td>Australia</td>\n",
       "      <td>-27.0</td>\n",
       "      <td>133.0</td>\n",
       "      <td>3257</td>\n",
       "      <td>6.35</td>\n",
       "    </tr>\n",
       "    <tr>\n",
       "      <th>6</th>\n",
       "      <td>Philippines</td>\n",
       "      <td>13.0</td>\n",
       "      <td>122.0</td>\n",
       "      <td>3169</td>\n",
       "      <td>6.18</td>\n",
       "    </tr>\n",
       "    <tr>\n",
       "      <th>7</th>\n",
       "      <td>China</td>\n",
       "      <td>35.0</td>\n",
       "      <td>105.0</td>\n",
       "      <td>3065</td>\n",
       "      <td>5.98</td>\n",
       "    </tr>\n",
       "    <tr>\n",
       "      <th>8</th>\n",
       "      <td>Thailand</td>\n",
       "      <td>15.0</td>\n",
       "      <td>100.0</td>\n",
       "      <td>2449</td>\n",
       "      <td>4.77</td>\n",
       "    </tr>\n",
       "    <tr>\n",
       "      <th>9</th>\n",
       "      <td>Indonesia</td>\n",
       "      <td>-5.0</td>\n",
       "      <td>120.0</td>\n",
       "      <td>2404</td>\n",
       "      <td>4.69</td>\n",
       "    </tr>\n",
       "  </tbody>\n",
       "</table>\n",
       "</div>"
      ],
      "text/plain": [
       "          country   lat   long  count   size\n",
       "0   United States  38.0  -97.0  26699  52.06\n",
       "1         Myanmar  22.0   98.0  13061  25.47\n",
       "2        Malaysia   2.5  112.5   9716  18.94\n",
       "3  United Kingdom  54.0   -2.0   6745  13.15\n",
       "4           India  20.0   77.0   6367  12.41\n",
       "5       Australia -27.0  133.0   3257   6.35\n",
       "6     Philippines  13.0  122.0   3169   6.18\n",
       "7           China  35.0  105.0   3065   5.98\n",
       "8        Thailand  15.0  100.0   2449   4.77\n",
       "9       Indonesia  -5.0  120.0   2404   4.69"
      ]
     },
     "execution_count": 20,
     "metadata": {},
     "output_type": "execute_result"
    }
   ],
   "source": [
    "top_influential_countries_df = pd.DataFrame(top_influential_countries_data)\n",
    "pd.DataFrame.to_csv(top_influential_countries_df, '../data/output/influencers/top_countries.csv')\n",
    "top_influential_countries_df"
   ]
  },
  {
   "cell_type": "markdown",
   "id": "b0f01889-9590-46b4-874f-72d6c07f511e",
   "metadata": {},
   "source": [
    "##### Saving tweets from the top influential countries for word frequencies analysis "
   ]
  },
  {
   "cell_type": "code",
   "execution_count": 21,
   "id": "2d5988df-0dc7-4660-bb85-06ce09e085b6",
   "metadata": {},
   "outputs": [],
   "source": [
    "top_influential_countries = top_influential_countries_df['country']\n",
    "top_countries_tweets = sg_tweets[(sg_tweets['retweeted_user_geo_coding'].isin(top_influential_countries))\n",
    "                                & (sg_tweets['processed_tweet_text'].notna())] \\\n",
    "                        [['retweeted_user_geo_coding', 'processed_tweet_text']]\n",
    "pd.DataFrame.to_csv(top_countries_tweets, '../data/output/influencers/top_countries_data.csv')"
   ]
  },
  {
   "cell_type": "code",
   "execution_count": 22,
   "id": "3193254a-ec51-4a52-8374-2307c84c1c5b",
   "metadata": {},
   "outputs": [
    {
     "data": {
      "text/html": [
       "<div>\n",
       "<style scoped>\n",
       "    .dataframe tbody tr th:only-of-type {\n",
       "        vertical-align: middle;\n",
       "    }\n",
       "\n",
       "    .dataframe tbody tr th {\n",
       "        vertical-align: top;\n",
       "    }\n",
       "\n",
       "    .dataframe thead th {\n",
       "        text-align: right;\n",
       "    }\n",
       "</style>\n",
       "<table border=\"1\" class=\"dataframe\">\n",
       "  <thead>\n",
       "    <tr style=\"text-align: right;\">\n",
       "      <th></th>\n",
       "      <th>retweeted_user_geo_coding</th>\n",
       "      <th>processed_tweet_text</th>\n",
       "    </tr>\n",
       "  </thead>\n",
       "  <tbody>\n",
       "    <tr>\n",
       "      <th>11</th>\n",
       "      <td>United States</td>\n",
       "      <td>evidence coronavirus came natureit genetically modified came</td>\n",
       "    </tr>\n",
       "    <tr>\n",
       "      <th>12</th>\n",
       "      <td>United States</td>\n",
       "      <td>took daughter kindergarten orientation vaccine passport admission let sink</td>\n",
       "    </tr>\n",
       "    <tr>\n",
       "      <th>13</th>\n",
       "      <td>Indonesia</td>\n",
       "      <td>progam unggulan ternak ikan yonif 126 / tingkatkan ketahanan pangan warga papua tengah pandemi covid</td>\n",
       "    </tr>\n",
       "    <tr>\n",
       "      <th>19</th>\n",
       "      <td>United States</td>\n",
       "      <td>months colleagues calling investigation ccps role origins</td>\n",
       "    </tr>\n",
       "    <tr>\n",
       "      <th>21</th>\n",
       "      <td>United States</td>\n",
       "      <td>covid policies matter test positivity rates alabama % florida % texas % california % massach</td>\n",
       "    </tr>\n",
       "    <tr>\n",
       "      <th>...</th>\n",
       "      <td>...</td>\n",
       "      <td>...</td>\n",
       "    </tr>\n",
       "    <tr>\n",
       "      <th>345180</th>\n",
       "      <td>United States</td>\n",
       "      <td>remember expression door closes door opens healthy ppl forced sell</td>\n",
       "    </tr>\n",
       "    <tr>\n",
       "      <th>345182</th>\n",
       "      <td>Malaysia</td>\n",
       "      <td>daily vaccination report states september 2021</td>\n",
       "    </tr>\n",
       "    <tr>\n",
       "      <th>345184</th>\n",
       "      <td>Malaysia</td>\n",
       "      <td>cumulative vaccination report state september 2021</td>\n",
       "    </tr>\n",
       "    <tr>\n",
       "      <th>345195</th>\n",
       "      <td>United Kingdom</td>\n",
       "      <td>watch military walk outs occurred biden mandates vaccines federal employees military fighter jet pilots</td>\n",
       "    </tr>\n",
       "    <tr>\n",
       "      <th>345196</th>\n",
       "      <td>United States</td>\n",
       "      <td>republicans think new vaccine requirements overreach health american people isn</td>\n",
       "    </tr>\n",
       "  </tbody>\n",
       "</table>\n",
       "<p>47813 rows × 2 columns</p>\n",
       "</div>"
      ],
      "text/plain": [
       "       retweeted_user_geo_coding  \\\n",
       "11                 United States   \n",
       "12                 United States   \n",
       "13                     Indonesia   \n",
       "19                 United States   \n",
       "21                 United States   \n",
       "...                          ...   \n",
       "345180             United States   \n",
       "345182                  Malaysia   \n",
       "345184                  Malaysia   \n",
       "345195            United Kingdom   \n",
       "345196             United States   \n",
       "\n",
       "                                                                                           processed_tweet_text  \n",
       "11                                                 evidence coronavirus came natureit genetically modified came  \n",
       "12                                   took daughter kindergarten orientation vaccine passport admission let sink  \n",
       "13         progam unggulan ternak ikan yonif 126 / tingkatkan ketahanan pangan warga papua tengah pandemi covid  \n",
       "19                                                    months colleagues calling investigation ccps role origins  \n",
       "21                 covid policies matter test positivity rates alabama % florida % texas % california % massach  \n",
       "...                                                                                                         ...  \n",
       "345180                                       remember expression door closes door opens healthy ppl forced sell  \n",
       "345182                                                           daily vaccination report states september 2021  \n",
       "345184                                                       cumulative vaccination report state september 2021  \n",
       "345195  watch military walk outs occurred biden mandates vaccines federal employees military fighter jet pilots  \n",
       "345196                          republicans think new vaccine requirements overreach health american people isn  \n",
       "\n",
       "[47813 rows x 2 columns]"
      ]
     },
     "execution_count": 22,
     "metadata": {},
     "output_type": "execute_result"
    }
   ],
   "source": [
    "top_countries_tweets"
   ]
  },
  {
   "cell_type": "markdown",
   "id": "f30e6716-0744-446f-aa19-3a4d94ac07bb",
   "metadata": {},
   "source": [
    "# 3. Bursty tweets: Inferring tweets with high intensity of extreme sentiments <a id=\"cell3\"></a>"
   ]
  },
  {
   "cell_type": "markdown",
   "id": "0c310b33-c624-4dc1-b217-12cde943097a",
   "metadata": {},
   "source": [
    "**Viral quoted tweets**:\n",
    "Tweets created between MIN_DATE and MAX_DATE that are (1) highly quoted by count or (2) received an unusual number of endorsements - retweets and favorites\n",
    "\n",
    "**Bursty tweets**: Viral quoted tweets with high intensity ( >= 80% ) of extreme sentiments (positive and negative sentiments)"
   ]
  },
  {
   "cell_type": "markdown",
   "id": "cf3fe2f6-7e9e-4cb5-bad1-83d4bd6a7b65",
   "metadata": {},
   "source": [
    "### 3.1. Inferring viral quoted tweets <a id=\"cell31\"></a>"
   ]
  },
  {
   "cell_type": "markdown",
   "id": "32d2a035-44b4-4d2d-9a05-48383a0b4a00",
   "metadata": {},
   "source": [
    "##### Filtering quoted tweets "
   ]
  },
  {
   "cell_type": "markdown",
   "id": "40806b74-6c0e-496e-99ed-59d84f449735",
   "metadata": {},
   "source": [
    "##### Cleaning and formatting tweets"
   ]
  },
  {
   "cell_type": "code",
   "execution_count": 23,
   "id": "2b60dce5-caf8-4073-8f32-8564ee944fb5",
   "metadata": {},
   "outputs": [
    {
     "data": {
      "text/plain": [
       "(71847, 54)"
      ]
     },
     "execution_count": 23,
     "metadata": {},
     "output_type": "execute_result"
    }
   ],
   "source": [
    "tweet_enagagement_quotes = sg_tweets[sg_tweets['tweet_enagagement_type'] == 'Quote']\n",
    "tweet_enagagement_quotes.shape"
   ]
  },
  {
   "cell_type": "markdown",
   "id": "4582b381-aef6-4559-9ab3-78358ba3bbb4",
   "metadata": {},
   "source": [
    "##### Formating `quoted_tweet_time` and adding `quoted_tweet_date`"
   ]
  },
  {
   "cell_type": "code",
   "execution_count": 24,
   "id": "4d351dbd-9e54-4919-b124-beb73c8d7079",
   "metadata": {},
   "outputs": [],
   "source": [
    "tweet_enagagement_quotes['quoted_tweet_time'] = pd.to_datetime(tweet_enagagement_quotes['quoted_tweet_time'], errors='coerce')\n",
    "tweet_enagagement_quotes = tweet_enagagement_quotes.dropna(subset=['quoted_tweet_time'])\n",
    "tweet_enagagement_quotes['quoted_tweet_date'] = tweet_enagagement_quotes.quoted_tweet_time.dt.strftime('%Y-%m-%d')"
   ]
  },
  {
   "cell_type": "markdown",
   "id": "e3cbd4b6-5bf2-4106-8a4f-d00dce5ddd63",
   "metadata": {},
   "source": [
    "##### Adding `total_engagement` = `quoted_retweet_count` + `quoted_favorite_count`"
   ]
  },
  {
   "cell_type": "markdown",
   "id": "80d34ff2-50c4-4acb-8133-c331b45ef4bb",
   "metadata": {},
   "source": [
    "##### Quoted tweets created between MIN_DATE and MAX_DATE"
   ]
  },
  {
   "cell_type": "code",
   "execution_count": 25,
   "id": "e1bebe14-2445-48d5-be5a-dcee2e086773",
   "metadata": {},
   "outputs": [],
   "source": [
    "tweet_enagagement_quotes['total_engagement'] = tweet_enagagement_quotes['quoted_retweet_count']  + tweet_enagagement_quotes['quoted_favorite_count'] \n",
    "\n",
    "tweet_enagagement_quotes[['quoted_tweet_id', 'total_engagement']] = tweet_enagagement_quotes[['quoted_tweet_id', 'total_engagement']].astype(int)\n",
    "tweet_enagagement_quotes = tweet_enagagement_quotes.loc[:, ~tweet_enagagement_quotes.columns.str.contains('^Unnamed')]"
   ]
  },
  {
   "cell_type": "markdown",
   "id": "f5376a83-d287-40c2-880e-2d8d8b8b7814",
   "metadata": {},
   "source": [
    "##### (1) Filtering quoted tweets created between `MIN_DATE` and `MAX_DATE`"
   ]
  },
  {
   "cell_type": "code",
   "execution_count": 26,
   "id": "4a34ed96-356c-4f73-b8b0-5474d3a73d11",
   "metadata": {},
   "outputs": [],
   "source": [
    "quoted_tweets = tweet_enagagement_quotes[(tweet_enagagement_quotes['quoted_tweet_date'].between(MIN_DATE, MAX_DATE, inclusive=True))]"
   ]
  },
  {
   "cell_type": "markdown",
   "id": "f773aed2-8e84-468b-a107-7234b4b669b3",
   "metadata": {},
   "source": [
    "##### (2) Filtering highly quoted by count "
   ]
  },
  {
   "cell_type": "markdown",
   "id": "e001896f-f721-4107-bbe3-3c66352dc2d4",
   "metadata": {},
   "source": [
    "##### Top quoted tweets by spike in engagements"
   ]
  },
  {
   "cell_type": "code",
   "execution_count": 27,
   "id": "caf4f35a-cdb7-4160-b811-1705aee58275",
   "metadata": {},
   "outputs": [],
   "source": [
    "# count of RTs\n",
    "c_quoted = quoted_tweets.value_counts(subset=['quoted_tweet_id']).reset_index(name='local_count').sort_values('local_count', ascending=False)\n",
    "# top RTs by count\n",
    "quoted_qids_by_count = list(c_quoted[:10]['quoted_tweet_id'])"
   ]
  },
  {
   "cell_type": "markdown",
   "id": "ff79ac95-e330-4125-8a61-f07d71b532d3",
   "metadata": {},
   "source": [
    "##### (3) Filtering anomalous quoted tweets - with an unusual number of engagements."
   ]
  },
  {
   "cell_type": "code",
   "execution_count": 203,
   "id": "5956915c-ad3d-4c64-bf42-173595a4348e",
   "metadata": {},
   "outputs": [],
   "source": [
    "SPIKE_THRESHOLD = 300 # TODO: Find a threshold using stats (like from outliers)\n",
    "grouped_sorted_date = quoted_tweets.groupby(['quoted_tweet_id', 'quoted_tweet_date']).apply(pd.DataFrame.sort_values, 'quoted_tweet_date').reset_index(drop=True)\n",
    "max_grouped_sorted_date = grouped_sorted_date.groupby(['quoted_tweet_id', 'quoted_tweet_date'])['total_engagement'].max().reset_index()\n",
    "max_grouped_sorted_date['delta_engagement'] = max_grouped_sorted_date.groupby(['quoted_tweet_id'])['total_engagement'].diff().fillna(0).astype(int)\n",
    "spike = max_grouped_sorted_date.groupby('quoted_tweet_id').nth(0)\n",
    "spike = list(spike[spike['delta_engagement'] > SPIKE_THRESHOLD].reset_index()['quoted_tweet_id'])"
   ]
  },
  {
   "cell_type": "markdown",
   "id": "7f64484a-e88a-4468-a8ab-f597614ce7c5",
   "metadata": {},
   "source": [
    "##### Get viral RTs by count and spiky engagements"
   ]
  },
  {
   "cell_type": "code",
   "execution_count": 204,
   "id": "2aceeb9e-0dea-47fc-a876-3c2c8218ea97",
   "metadata": {},
   "outputs": [],
   "source": [
    "viral_quoted_tweets = quoted_tweets[quoted_tweets['quoted_tweet_id'].isin(quoted_qids_by_count + spike)]"
   ]
  },
  {
   "cell_type": "markdown",
   "id": "ab071963-6cf8-4bec-b6cf-341df2f0d67c",
   "metadata": {},
   "source": [
    "##### get data for delta and cumulative graphs\n"
   ]
  },
  {
   "cell_type": "code",
   "execution_count": 167,
   "id": "5b43f985-0b5b-4ca4-95e3-0cdaff7a0531",
   "metadata": {},
   "outputs": [],
   "source": [
    "grouped_sorted_date = viral_quoted_tweets.groupby(['quoted_tweet_id', 'tweet_date', 'quoted_user_screenname']).apply(pd.DataFrame.sort_values, 'tweet_date').reset_index(drop=True)\n",
    "max_grouped_sorted_date = grouped_sorted_date.groupby(['quoted_tweet_id', 'tweet_date', 'quoted_user_screenname'])['total_engagement'].max().reset_index()\n",
    "max_grouped_sorted_date['delta_engagement'] = max_grouped_sorted_date.groupby(['quoted_user_screenname'])['total_engagement'].diff().fillna(0).astype(int)"
   ]
  },
  {
   "cell_type": "markdown",
   "id": "29f9c5ba-e728-4274-8dea-052da25fd4dd",
   "metadata": {},
   "source": [
    "### 3.2. Sentiment analysis of the viral quoted tweets <a id=\"cell32\"></a>"
   ]
  },
  {
   "cell_type": "code",
   "execution_count": 168,
   "id": "c64edcf2-24de-4461-91e3-eb841a79edc9",
   "metadata": {},
   "outputs": [
    {
     "data": {
      "text/html": [
       "<div>\n",
       "<style scoped>\n",
       "    .dataframe tbody tr th:only-of-type {\n",
       "        vertical-align: middle;\n",
       "    }\n",
       "\n",
       "    .dataframe tbody tr th {\n",
       "        vertical-align: top;\n",
       "    }\n",
       "\n",
       "    .dataframe thead th {\n",
       "        text-align: right;\n",
       "    }\n",
       "</style>\n",
       "<table border=\"1\" class=\"dataframe\">\n",
       "  <thead>\n",
       "    <tr style=\"text-align: right;\">\n",
       "      <th>tweet_sentiment</th>\n",
       "      <th>quoted_tweet_id</th>\n",
       "      <th>negative</th>\n",
       "      <th>neutral</th>\n",
       "      <th>positive</th>\n",
       "    </tr>\n",
       "  </thead>\n",
       "  <tbody>\n",
       "    <tr>\n",
       "      <th>0</th>\n",
       "      <td>1424662560909922304</td>\n",
       "      <td>3</td>\n",
       "      <td>7</td>\n",
       "      <td>96</td>\n",
       "    </tr>\n",
       "    <tr>\n",
       "      <th>1</th>\n",
       "      <td>1426481587437260800</td>\n",
       "      <td>102</td>\n",
       "      <td>17</td>\n",
       "      <td>91</td>\n",
       "    </tr>\n",
       "    <tr>\n",
       "      <th>2</th>\n",
       "      <td>1426774237096812288</td>\n",
       "      <td>1</td>\n",
       "      <td>94</td>\n",
       "      <td>0</td>\n",
       "    </tr>\n",
       "    <tr>\n",
       "      <th>3</th>\n",
       "      <td>1427581320822104064</td>\n",
       "      <td>0</td>\n",
       "      <td>101</td>\n",
       "      <td>0</td>\n",
       "    </tr>\n",
       "    <tr>\n",
       "      <th>4</th>\n",
       "      <td>1428304817970040832</td>\n",
       "      <td>1</td>\n",
       "      <td>23</td>\n",
       "      <td>72</td>\n",
       "    </tr>\n",
       "    <tr>\n",
       "      <th>5</th>\n",
       "      <td>1428675725645819904</td>\n",
       "      <td>43</td>\n",
       "      <td>36</td>\n",
       "      <td>25</td>\n",
       "    </tr>\n",
       "    <tr>\n",
       "      <th>6</th>\n",
       "      <td>1431940550656081920</td>\n",
       "      <td>21</td>\n",
       "      <td>81</td>\n",
       "      <td>86</td>\n",
       "    </tr>\n",
       "    <tr>\n",
       "      <th>7</th>\n",
       "      <td>1437736253563162624</td>\n",
       "      <td>5</td>\n",
       "      <td>92</td>\n",
       "      <td>8</td>\n",
       "    </tr>\n",
       "    <tr>\n",
       "      <th>8</th>\n",
       "      <td>1438395703185735680</td>\n",
       "      <td>252</td>\n",
       "      <td>26</td>\n",
       "      <td>8</td>\n",
       "    </tr>\n",
       "    <tr>\n",
       "      <th>9</th>\n",
       "      <td>1439236328772669440</td>\n",
       "      <td>85</td>\n",
       "      <td>7</td>\n",
       "      <td>0</td>\n",
       "    </tr>\n",
       "  </tbody>\n",
       "</table>\n",
       "</div>"
      ],
      "text/plain": [
       "tweet_sentiment      quoted_tweet_id  negative  neutral  positive\n",
       "0                1424662560909922304         3        7        96\n",
       "1                1426481587437260800       102       17        91\n",
       "2                1426774237096812288         1       94         0\n",
       "3                1427581320822104064         0      101         0\n",
       "4                1428304817970040832         1       23        72\n",
       "5                1428675725645819904        43       36        25\n",
       "6                1431940550656081920        21       81        86\n",
       "7                1437736253563162624         5       92         8\n",
       "8                1438395703185735680       252       26         8\n",
       "9                1439236328772669440        85        7         0"
      ]
     },
     "execution_count": 168,
     "metadata": {},
     "output_type": "execute_result"
    }
   ],
   "source": [
    "quoted_by_sentiment = viral_quoted_tweets.groupby(['quoted_tweet_id', 'tweet_sentiment']).size()\\\n",
    "                        .unstack(fill_value=0).reset_index()\n",
    "quoted_by_sentiment"
   ]
  },
  {
   "cell_type": "code",
   "execution_count": 170,
   "id": "52159e1e-22c1-4190-96a2-4c92804f0139",
   "metadata": {},
   "outputs": [],
   "source": [
    "quoted_by_sentiment['pos_count'] = quoted_by_sentiment['positive'] / (quoted_by_sentiment['positive'] + \n",
    "                                                                      quoted_by_sentiment['negative'] + \n",
    "                                                                      quoted_by_sentiment['neutral'])*100 \n",
    "\n",
    "\n",
    "quoted_by_sentiment['neg_count'] = quoted_by_sentiment['negative'] / (quoted_by_sentiment['positive'] + \n",
    "                                                                      quoted_by_sentiment['negative'] + \n",
    "                                                                      quoted_by_sentiment['neutral'])*100 "
   ]
  },
  {
   "cell_type": "markdown",
   "id": "b692d1e3-08a9-43cc-ace3-124acc202c16",
   "metadata": {},
   "source": [
    "### 3.3. Inferring viral quoted tweets with extreme intensity of sentiments (>= 80% of postive or negative sentiment) <a id=\"cell33\"></a>"
   ]
  },
  {
   "cell_type": "code",
   "execution_count": 171,
   "id": "927f10cf-197c-4d1e-9315-41705862ce60",
   "metadata": {},
   "outputs": [
    {
     "data": {
      "text/html": [
       "<div>\n",
       "<style scoped>\n",
       "    .dataframe tbody tr th:only-of-type {\n",
       "        vertical-align: middle;\n",
       "    }\n",
       "\n",
       "    .dataframe tbody tr th {\n",
       "        vertical-align: top;\n",
       "    }\n",
       "\n",
       "    .dataframe thead th {\n",
       "        text-align: right;\n",
       "    }\n",
       "</style>\n",
       "<table border=\"1\" class=\"dataframe\">\n",
       "  <thead>\n",
       "    <tr style=\"text-align: right;\">\n",
       "      <th>tweet_sentiment</th>\n",
       "      <th>quoted_tweet_id</th>\n",
       "      <th>negative</th>\n",
       "      <th>neutral</th>\n",
       "      <th>positive</th>\n",
       "      <th>pos_count</th>\n",
       "      <th>neg_count</th>\n",
       "    </tr>\n",
       "  </thead>\n",
       "  <tbody>\n",
       "    <tr>\n",
       "      <th>0</th>\n",
       "      <td>1424662560909922304</td>\n",
       "      <td>3</td>\n",
       "      <td>7</td>\n",
       "      <td>96</td>\n",
       "      <td>90.566038</td>\n",
       "      <td>2.830189</td>\n",
       "    </tr>\n",
       "    <tr>\n",
       "      <th>8</th>\n",
       "      <td>1438395703185735680</td>\n",
       "      <td>252</td>\n",
       "      <td>26</td>\n",
       "      <td>8</td>\n",
       "      <td>2.797203</td>\n",
       "      <td>88.111888</td>\n",
       "    </tr>\n",
       "    <tr>\n",
       "      <th>9</th>\n",
       "      <td>1439236328772669440</td>\n",
       "      <td>85</td>\n",
       "      <td>7</td>\n",
       "      <td>0</td>\n",
       "      <td>0.000000</td>\n",
       "      <td>92.391304</td>\n",
       "    </tr>\n",
       "  </tbody>\n",
       "</table>\n",
       "</div>"
      ],
      "text/plain": [
       "tweet_sentiment      quoted_tweet_id  negative  neutral  positive  pos_count  \\\n",
       "0                1424662560909922304         3        7        96  90.566038   \n",
       "8                1438395703185735680       252       26         8   2.797203   \n",
       "9                1439236328772669440        85        7         0   0.000000   \n",
       "\n",
       "tweet_sentiment  neg_count  \n",
       "0                 2.830189  \n",
       "8                88.111888  \n",
       "9                92.391304  "
      ]
     },
     "execution_count": 171,
     "metadata": {},
     "output_type": "execute_result"
    }
   ],
   "source": [
    "most_spread_quoted_by_sentiment_with_rate = quoted_by_sentiment[(quoted_by_sentiment['pos_count'] >= 80) | (quoted_by_sentiment['neg_count'] >= 80)]\n",
    "most_spread_quoted_by_sentiment_with_rate"
   ]
  },
  {
   "cell_type": "code",
   "execution_count": 172,
   "id": "bdfa2170-ca11-4596-9777-dea62b7e57a2",
   "metadata": {},
   "outputs": [
    {
     "data": {
      "text/plain": [
       "[1424662560909922304, 1438395703185735680, 1439236328772669440]"
      ]
     },
     "execution_count": 172,
     "metadata": {},
     "output_type": "execute_result"
    }
   ],
   "source": [
    "most_spread_quoted_ids = list(most_spread_quoted_by_sentiment_with_rate['quoted_tweet_id'])\n",
    "most_spread_quoted_ids"
   ]
  },
  {
   "cell_type": "code",
   "execution_count": 173,
   "id": "c29de7a5-9997-4156-a150-0b04a10ec821",
   "metadata": {},
   "outputs": [],
   "source": [
    "most_spread_quoted_info = viral_quoted_tweets[viral_quoted_tweets['quoted_tweet_id'].isin(most_spread_quoted_ids)]"
   ]
  },
  {
   "cell_type": "code",
   "execution_count": 174,
   "id": "9f1aa963-f799-4062-95b0-460f35170412",
   "metadata": {},
   "outputs": [],
   "source": [
    "most_spread_quoted_info = most_spread_quoted_info[['quoted_tweet_id', 'quoted_tweet_text', 'quoted_user_screenname', 'quoted_user_geo_coding', 'quoted_tweet_date', 'quoted_user_verified', 'total_engagement']]"
   ]
  },
  {
   "cell_type": "code",
   "execution_count": 175,
   "id": "e84babb0-5fa1-4f43-af80-ffa57a82b4f1",
   "metadata": {},
   "outputs": [
    {
     "data": {
      "text/html": [
       "<div>\n",
       "<style scoped>\n",
       "    .dataframe tbody tr th:only-of-type {\n",
       "        vertical-align: middle;\n",
       "    }\n",
       "\n",
       "    .dataframe tbody tr th {\n",
       "        vertical-align: top;\n",
       "    }\n",
       "\n",
       "    .dataframe thead th {\n",
       "        text-align: right;\n",
       "    }\n",
       "</style>\n",
       "<table border=\"1\" class=\"dataframe\">\n",
       "  <thead>\n",
       "    <tr style=\"text-align: right;\">\n",
       "      <th></th>\n",
       "      <th>quoted_tweet_id</th>\n",
       "      <th>quoted_tweet_text</th>\n",
       "      <th>quoted_user_screenname</th>\n",
       "      <th>quoted_user_geo_coding</th>\n",
       "      <th>quoted_tweet_date</th>\n",
       "      <th>quoted_user_verified</th>\n",
       "      <th>total_engagement</th>\n",
       "    </tr>\n",
       "  </thead>\n",
       "  <tbody>\n",
       "    <tr>\n",
       "      <th>50103</th>\n",
       "      <td>1424662560909922304</td>\n",
       "      <td>Pro tip for all our F&amp;B friends:\\nFrom tomorrow, some anti-vax mooks might try to pull a fast one by screenshotting… https://t.co/jpiukrblZl</td>\n",
       "      <td>muttons</td>\n",
       "      <td>Unknown</td>\n",
       "      <td>2021-08-09</td>\n",
       "      <td>True</td>\n",
       "      <td>2188</td>\n",
       "    </tr>\n",
       "    <tr>\n",
       "      <th>89270</th>\n",
       "      <td>1438395703185735680</td>\n",
       "      <td>Endemic Covid-19: Expect to get infected sooner or later: https://t.co/xnmNTPRbyz https://t.co/CiEfVTeEJu</td>\n",
       "      <td>MothershipSG</td>\n",
       "      <td>Singapore</td>\n",
       "      <td>2021-09-16</td>\n",
       "      <td>True</td>\n",
       "      <td>964</td>\n",
       "    </tr>\n",
       "    <tr>\n",
       "      <th>171855</th>\n",
       "      <td>1439236328772669440</td>\n",
       "      <td>According to local media The Chinland Post, over 19 houses were burnt down by junta forces’ shelling in Thantlang,… https://t.co/TXpdBe9MAa</td>\n",
       "      <td>Shoon_Naing</td>\n",
       "      <td>Myanmar</td>\n",
       "      <td>2021-09-18</td>\n",
       "      <td>True</td>\n",
       "      <td>3882</td>\n",
       "    </tr>\n",
       "  </tbody>\n",
       "</table>\n",
       "</div>"
      ],
      "text/plain": [
       "            quoted_tweet_id  \\\n",
       "50103   1424662560909922304   \n",
       "89270   1438395703185735680   \n",
       "171855  1439236328772669440   \n",
       "\n",
       "                                                                                                                                   quoted_tweet_text  \\\n",
       "50103   Pro tip for all our F&B friends:\\nFrom tomorrow, some anti-vax mooks might try to pull a fast one by screenshotting… https://t.co/jpiukrblZl   \n",
       "89270                                      Endemic Covid-19: Expect to get infected sooner or later: https://t.co/xnmNTPRbyz https://t.co/CiEfVTeEJu   \n",
       "171855   According to local media The Chinland Post, over 19 houses were burnt down by junta forces’ shelling in Thantlang,… https://t.co/TXpdBe9MAa   \n",
       "\n",
       "       quoted_user_screenname quoted_user_geo_coding quoted_tweet_date  \\\n",
       "50103                 muttons                Unknown        2021-08-09   \n",
       "89270            MothershipSG              Singapore        2021-09-16   \n",
       "171855            Shoon_Naing                Myanmar        2021-09-18   \n",
       "\n",
       "       quoted_user_verified  total_engagement  \n",
       "50103                  True              2188  \n",
       "89270                  True               964  \n",
       "171855                 True              3882  "
      ]
     },
     "execution_count": 175,
     "metadata": {},
     "output_type": "execute_result"
    }
   ],
   "source": [
    "most_spread_quoted_info = most_spread_quoted_info.loc[most_spread_quoted_info.groupby([\"quoted_tweet_id\"])[\"total_engagement\"].idxmax()]  \n",
    "most_spread_quoted_info"
   ]
  },
  {
   "cell_type": "code",
   "execution_count": 176,
   "id": "5076af3d-c1be-49c5-92e0-4ae8496b99d0",
   "metadata": {},
   "outputs": [
    {
     "data": {
      "text/plain": [
       "(3, 12)"
      ]
     },
     "execution_count": 176,
     "metadata": {},
     "output_type": "execute_result"
    }
   ],
   "source": [
    "final_most_spread_quoted = most_spread_quoted_info.merge(most_spread_quoted_by_sentiment_with_rate, on=\"quoted_tweet_id\", how = 'inner')\n",
    "final_most_spread_quoted.shape"
   ]
  },
  {
   "cell_type": "code",
   "execution_count": 177,
   "id": "ee563ead-fc9f-4758-a524-19ea063cd816",
   "metadata": {},
   "outputs": [],
   "source": [
    "final_most_spread_quoted.drop(['negative', 'positive', 'neutral'], 1, inplace=True) "
   ]
  },
  {
   "cell_type": "markdown",
   "id": "5ae6a158-08be-4d3c-9b54-718820c6148e",
   "metadata": {},
   "source": [
    "##### Adding `spread_type` and `spread_rate`. 80% <= positivity spread and 80% <= negativity spread"
   ]
  },
  {
   "cell_type": "code",
   "execution_count": 178,
   "id": "67777729-4101-411b-b685-b0dfcd9784d9",
   "metadata": {},
   "outputs": [],
   "source": [
    "final_most_spread_quoted['spread_type'] = ['positive' if spread_rate >= 80 else 'negative' for spread_rate in final_most_spread_quoted['pos_count']]\n",
    "final_most_spread_quoted['spread_rate'] = [round(row['pos_count'], 2) if row['spread_type'] == 'positive' \n",
    "                                           else round(row['neg_count'], 2) for _, row in final_most_spread_quoted.iterrows()]"
   ]
  },
  {
   "cell_type": "code",
   "execution_count": 179,
   "id": "0baf4dc8-fa24-44d6-9344-b517efc0bdce",
   "metadata": {},
   "outputs": [],
   "source": [
    "final_most_spread_quoted.drop(['pos_count', 'neg_count'], 1, inplace=True) \n",
    "pd.DataFrame.to_csv(final_most_spread_quoted, '../data/output/quoted/sentiment_spread.csv')"
   ]
  },
  {
   "cell_type": "markdown",
   "id": "4df54f95-6862-4bc2-8acb-8cb78ed5c4db",
   "metadata": {},
   "source": [
    "## 4. Viral local retweets: Local news feed <a id=\"cell4\"></a>\n",
    "\n",
    "##### Viral local retweets:Tweets created between MIN_DATE and MAX_DATE that are (1) by Singapore geocoded accounts (2) highly retweeted by count or (3) received an unusual number of endorsements - retweets and favorites\n"
   ]
  },
  {
   "cell_type": "code",
   "execution_count": 23,
   "id": "11debf78-bff3-47cc-bfff-b2821267854f",
   "metadata": {},
   "outputs": [],
   "source": [
    "tweet_enagagement_retweet = sg_tweets[sg_tweets['tweet_enagagement_type'] == 'Retweet']"
   ]
  },
  {
   "cell_type": "code",
   "execution_count": 24,
   "id": "aa1cfc2c-0740-4d13-ae73-01c8e1040d36",
   "metadata": {},
   "outputs": [],
   "source": [
    "## retweet time processing\n",
    "tweet_enagagement_retweet['retweeted_tweet_time'] = pd.to_datetime(tweet_enagagement_retweet['retweeted_tweet_time'], errors='coerce')\n",
    "tweet_enagagement_retweet = tweet_enagagement_retweet.dropna(subset=['retweeted_tweet_time'])\n",
    "tweet_enagagement_retweet['retweeted_tweet_date'] = tweet_enagagement_retweet.retweeted_tweet_time.dt.strftime('%Y-%m-%d')"
   ]
  },
  {
   "cell_type": "code",
   "execution_count": 25,
   "id": "89642469-9907-49ef-9e40-1cb1ae63ee03",
   "metadata": {},
   "outputs": [],
   "source": [
    "rts_geo = tweet_enagagement_retweet['retweeted_user_geo_coding']\n",
    "\n",
    "c_rts_geo = col.Counter(rts_geo).most_common()\n",
    "# c_rts_geo"
   ]
  },
  {
   "cell_type": "code",
   "execution_count": 26,
   "id": "4d614127-8a56-4be1-88da-4a8d26613517",
   "metadata": {},
   "outputs": [
    {
     "data": {
      "image/png": "[encoded data removed]",
      "text/plain": [
       "<Figure size 432x288 with 1 Axes>"
      ]
     },
     "metadata": {
      "needs_background": "light"
     },
     "output_type": "display_data"
    }
   ],
   "source": [
    "x_top = 20\n",
    "\n",
    "rts_geo = [c[0] for c in c_rts_geo[:x_top]]\n",
    "counts = [c[1] for c in c_rts_geo[:x_top]]\n",
    "\n",
    "plt.barh(rts_geo[::-1], counts[::-1])\n",
    " \n",
    "plt.ylabel(\"rts_quoted_geo\")\n",
    "plt.xlabel(\"Count\")\n",
    "plt.xticks(rotation=45)\n",
    "plt.title(\"Distribution of retweeted location\")\n",
    "plt.show()\n"
   ]
  },
  {
   "cell_type": "code",
   "execution_count": 27,
   "id": "3866737e-f5f3-48de-9f0a-238df0137ef1",
   "metadata": {},
   "outputs": [],
   "source": [
    "tweet_enagagement_retweet['total_engagement'] = tweet_enagagement_retweet['retweeted_retweet_count']  + tweet_enagagement_retweet['retweeted_favorite_count'] \n",
    "tweet_enagagement_retweet[['retweeted_tweet_id', 'total_engagement']] = tweet_enagagement_retweet[['retweeted_tweet_id', 'total_engagement']].astype(int)\n",
    "\n",
    "tweet_enagagement_retweet = tweet_enagagement_retweet.loc[:, ~tweet_enagagement_retweet.columns.str.contains('^Unnamed')]"
   ]
  },
  {
   "cell_type": "markdown",
   "id": "3690f656-3b4f-41d7-bd06-54d42f8f72a4",
   "metadata": {},
   "source": [
    "##### Filtering tweets (1) by sentiment, (2) by Singapore-based user and (3) created between MIN_DATE and MAX_DATE"
   ]
  },
  {
   "cell_type": "code",
   "execution_count": 28,
   "id": "afd2191b-b6f9-47fc-8cf7-943071f87610",
   "metadata": {},
   "outputs": [],
   "source": [
    "neg_local_retweet = tweet_enagagement_retweet[(tweet_enagagement_retweet['tweet_sentiment'] == 'negative') & \\\n",
    "                                                    (tweet_enagagement_retweet['retweeted_user_geo_coding'] ==  COUNTRY) & \\\n",
    "                                                    (tweet_enagagement_retweet['retweeted_tweet_date'].between(MIN_DATE, MAX_DATE, inclusive=True))]\n",
    "\n",
    "pos_local_retweet = tweet_enagagement_retweet[(tweet_enagagement_retweet['tweet_sentiment'] == 'positive') & \\\n",
    "                                                    (tweet_enagagement_retweet['retweeted_user_geo_coding'] ==  COUNTRY) & \\\n",
    "                                                    (tweet_enagagement_retweet['retweeted_tweet_date'].between(MIN_DATE, MAX_DATE, inclusive=True))]\n",
    "\n",
    "all_local_retweet = tweet_enagagement_retweet[(tweet_enagagement_retweet['retweeted_user_geo_coding'] ==  COUNTRY) & \\\n",
    "                                                    (tweet_enagagement_retweet['retweeted_tweet_date'].between(MIN_DATE, MAX_DATE, inclusive=True))]"
   ]
  },
  {
   "cell_type": "markdown",
   "id": "fffc0a02-1771-4bf2-9576-7e6b1ab607ea",
   "metadata": {},
   "source": [
    "### 4.1. Viral local retweets with negative sentiment <a id=\"cell41\"></a>"
   ]
  },
  {
   "cell_type": "code",
   "execution_count": 186,
   "id": "b5f3628c-1539-4c9d-b9b5-407138625ff1",
   "metadata": {},
   "outputs": [
    {
     "data": {
      "text/html": [
       "<div>\n",
       "<style scoped>\n",
       "    .dataframe tbody tr th:only-of-type {\n",
       "        vertical-align: middle;\n",
       "    }\n",
       "\n",
       "    .dataframe tbody tr th {\n",
       "        vertical-align: top;\n",
       "    }\n",
       "\n",
       "    .dataframe thead th {\n",
       "        text-align: right;\n",
       "    }\n",
       "</style>\n",
       "<table border=\"1\" class=\"dataframe\">\n",
       "  <thead>\n",
       "    <tr style=\"text-align: right;\">\n",
       "      <th></th>\n",
       "      <th>retweeted_tweet_id</th>\n",
       "      <th>local_count</th>\n",
       "    </tr>\n",
       "  </thead>\n",
       "  <tbody>\n",
       "    <tr>\n",
       "      <th>0</th>\n",
       "      <td>1440562070898962432</td>\n",
       "      <td>100</td>\n",
       "    </tr>\n",
       "    <tr>\n",
       "      <th>1</th>\n",
       "      <td>1424598213856620288</td>\n",
       "      <td>68</td>\n",
       "    </tr>\n",
       "    <tr>\n",
       "      <th>2</th>\n",
       "      <td>1438395703185735680</td>\n",
       "      <td>35</td>\n",
       "    </tr>\n",
       "    <tr>\n",
       "      <th>3</th>\n",
       "      <td>1425698659115491328</td>\n",
       "      <td>31</td>\n",
       "    </tr>\n",
       "    <tr>\n",
       "      <th>4</th>\n",
       "      <td>1434725178240499712</td>\n",
       "      <td>31</td>\n",
       "    </tr>\n",
       "    <tr>\n",
       "      <th>...</th>\n",
       "      <td>...</td>\n",
       "      <td>...</td>\n",
       "    </tr>\n",
       "    <tr>\n",
       "      <th>1780</th>\n",
       "      <td>1428891365992144896</td>\n",
       "      <td>1</td>\n",
       "    </tr>\n",
       "    <tr>\n",
       "      <th>1781</th>\n",
       "      <td>1428844814909333504</td>\n",
       "      <td>1</td>\n",
       "    </tr>\n",
       "    <tr>\n",
       "      <th>1782</th>\n",
       "      <td>1428841803126435840</td>\n",
       "      <td>1</td>\n",
       "    </tr>\n",
       "    <tr>\n",
       "      <th>1783</th>\n",
       "      <td>1428840278648004608</td>\n",
       "      <td>1</td>\n",
       "    </tr>\n",
       "    <tr>\n",
       "      <th>1784</th>\n",
       "      <td>1441222370304266240</td>\n",
       "      <td>1</td>\n",
       "    </tr>\n",
       "  </tbody>\n",
       "</table>\n",
       "<p>1785 rows × 2 columns</p>\n",
       "</div>"
      ],
      "text/plain": [
       "       retweeted_tweet_id  local_count\n",
       "0     1440562070898962432          100\n",
       "1     1424598213856620288           68\n",
       "2     1438395703185735680           35\n",
       "3     1425698659115491328           31\n",
       "4     1434725178240499712           31\n",
       "...                   ...          ...\n",
       "1780  1428891365992144896            1\n",
       "1781  1428844814909333504            1\n",
       "1782  1428841803126435840            1\n",
       "1783  1428840278648004608            1\n",
       "1784  1441222370304266240            1\n",
       "\n",
       "[1785 rows x 2 columns]"
      ]
     },
     "execution_count": 186,
     "metadata": {},
     "output_type": "execute_result"
    }
   ],
   "source": [
    "neg_local_retweet.value_counts(subset=['retweeted_tweet_id']).reset_index(name='local_count')"
   ]
  },
  {
   "cell_type": "code",
   "execution_count": 30,
   "id": "fe44b980-a319-42ba-a713-9c7097faaca4",
   "metadata": {},
   "outputs": [],
   "source": [
    "# count of RTs\n",
    "SPIKE_THRESHOLD = 600 # TODO: Find a threshold using stats (like from outliers)\n",
    "c_neg_local_retweet = neg_local_retweet.value_counts(subset=['retweeted_tweet_id']).reset_index(name='local_count').sort_values('local_count', ascending=False)\n",
    "\n",
    "# top RTs by count\n",
    "neg_local_rtids_by_count = list(c_neg_local_retweet[:TOP_RTS_POS_NEG]['retweeted_tweet_id'])\n",
    "\n",
    "# top RTs by spike in engagements\n",
    "grouped_sorted_date = neg_local_retweet.groupby(['retweeted_tweet_id', 'tweet_date']).apply(pd.DataFrame.sort_values, 'tweet_date').reset_index(drop=True)\n",
    "max_grouped_sorted_date = grouped_sorted_date.groupby(['retweeted_tweet_id', 'tweet_date'])['total_engagement'].max().reset_index()\n",
    "max_grouped_sorted_date['delta_engagement'] = max_grouped_sorted_date.groupby(['retweeted_tweet_id'])['total_engagement'].diff().fillna(0).astype(int)\n",
    "spike = max_grouped_sorted_date.groupby('retweeted_tweet_id').nth(1)\n",
    "spike = list(spike[spike['delta_engagement'] > SPIKE_THRESHOLD].reset_index()['retweeted_tweet_id'])\n",
    "\n",
    "# get viral RTs by count and spiky engagements\n",
    "viral_neg_local_rts = neg_local_retweet[neg_local_retweet['retweeted_tweet_id'].isin(set(neg_local_rtids_by_count + spike))]\n",
    "\n",
    "# get data for delta and cumulative graphs\n",
    "grouped_sorted_date = viral_neg_local_rts.groupby(['retweeted_tweet_id', 'tweet_date', 'retweeted_user_screenname']).apply(pd.DataFrame.sort_values, 'tweet_date').reset_index(drop=True)\n",
    "max_grouped_sorted_date = grouped_sorted_date.groupby(['retweeted_tweet_id', 'tweet_date', 'retweeted_user_screenname'])['total_engagement'].max().reset_index()\n",
    "max_grouped_sorted_date['delta_engagement'] = max_grouped_sorted_date.groupby(['retweeted_tweet_id'])['total_engagement'].diff().fillna(0).astype(int)\n",
    "\n",
    "pd.DataFrame.to_csv(max_grouped_sorted_date, '../data/output/rts/local/neg_local_rts_trend.csv')"
   ]
  },
  {
   "cell_type": "code",
   "execution_count": 34,
   "id": "f70a856f-dc76-4a8d-bba9-ee0860a44b21",
   "metadata": {},
   "outputs": [
    {
     "data": {
      "text/plain": [
       "count    1785.000000\n",
       "mean        1.661064\n",
       "std         3.562852\n",
       "min         1.000000\n",
       "25%         1.000000\n",
       "50%         1.000000\n",
       "75%         1.000000\n",
       "max       100.000000\n",
       "Name: local_count, dtype: float64"
      ]
     },
     "execution_count": 34,
     "metadata": {},
     "output_type": "execute_result"
    }
   ],
   "source": [
    "c_neg_local_retweet['local_count'].describe()"
   ]
  },
  {
   "cell_type": "code",
   "execution_count": 44,
   "id": "aef41746-694a-4c7e-9a35-2c1af63f3f92",
   "metadata": {},
   "outputs": [
    {
     "data": {
      "application/vnd.plotly.v1+json": {
       "config": {
        "plotlyServerURL": "https://plot.ly"
       },
       "data": [
        {
         "alignmentgroup": "True",
         "hovertemplate": "local_count=%{y}<extra></extra>",
         "legendgroup": "",
         "marker": {
          "color": "#636efa"
         },
         "name": "",
         "notched": false,
         "offsetgroup": "",
         "orientation": "v",
         "showlegend": false,
         "type": "box",
         "x0": " ",
         "xaxis": "x",
         "y": [
          100,
          68,
          35,
          31,
          31,
          24,
          23,
          19,
          19,
          18,
          17,
          17,
          15,
          14,
          14,
          13,
          13,
          12,
          12,
          11,
          11
         ],
         "y0": " ",
         "yaxis": "y"
        }
       ],
       "layout": {
        "autosize": true,
        "boxmode": "group",
        "legend": {
         "tracegroupgap": 0
        },
        "margin": {
         "t": 60
        },
        "template": {
         "data": {
          "bar": [
           {
            "error_x": {
             "color": "#2a3f5f"
            },
            "error_y": {
             "color": "#2a3f5f"
            },
            "marker": {
             "line": {
              "color": "#E5ECF6",
              "width": 0.5
             },
             "pattern": {
              "fillmode": "overlay",
              "size": 10,
              "solidity": 0.2
             }
            },
            "type": "bar"
           }
          ],
          "barpolar": [
           {
            "marker": {
             "line": {
              "color": "#E5ECF6",
              "width": 0.5
             },
             "pattern": {
              "fillmode": "overlay",
              "size": 10,
              "solidity": 0.2
             }
            },
            "type": "barpolar"
           }
          ],
          "carpet": [
           {
            "aaxis": {
             "endlinecolor": "#2a3f5f",
             "gridcolor": "white",
             "linecolor": "white",
             "minorgridcolor": "white",
             "startlinecolor": "#2a3f5f"
            },
            "baxis": {
             "endlinecolor": "#2a3f5f",
             "gridcolor": "white",
             "linecolor": "white",
             "minorgridcolor": "white",
             "startlinecolor": "#2a3f5f"
            },
            "type": "carpet"
           }
          ],
          "choropleth": [
           {
            "colorbar": {
             "outlinewidth": 0,
             "ticks": ""
            },
            "type": "choropleth"
           }
          ],
          "contour": [
           {
            "colorbar": {
             "outlinewidth": 0,
             "ticks": ""
            },
            "colorscale": [
             [
              0,
              "#0d0887"
             ],
             [
              0.1111111111111111,
              "#46039f"
             ],
             [
              0.2222222222222222,
              "#7201a8"
             ],
             [
              0.3333333333333333,
              "#9c179e"
             ],
             [
              0.4444444444444444,
              "#bd3786"
             ],
             [
              0.5555555555555556,
              "#d8576b"
             ],
             [
              0.6666666666666666,
              "#ed7953"
             ],
             [
              0.7777777777777778,
              "#fb9f3a"
             ],
             [
              0.8888888888888888,
              "#fdca26"
             ],
             [
              1,
              "#f0f921"
             ]
            ],
            "type": "contour"
           }
          ],
          "contourcarpet": [
           {
            "colorbar": {
             "outlinewidth": 0,
             "ticks": ""
            },
            "type": "contourcarpet"
           }
          ],
          "heatmap": [
           {
            "colorbar": {
             "outlinewidth": 0,
             "ticks": ""
            },
            "colorscale": [
             [
              0,
              "#0d0887"
             ],
             [
              0.1111111111111111,
              "#46039f"
             ],
             [
              0.2222222222222222,
              "#7201a8"
             ],
             [
              0.3333333333333333,
              "#9c179e"
             ],
             [
              0.4444444444444444,
              "#bd3786"
             ],
             [
              0.5555555555555556,
              "#d8576b"
             ],
             [
              0.6666666666666666,
              "#ed7953"
             ],
             [
              0.7777777777777778,
              "#fb9f3a"
             ],
             [
              0.8888888888888888,
              "#fdca26"
             ],
             [
              1,
              "#f0f921"
             ]
            ],
            "type": "heatmap"
           }
          ],
          "heatmapgl": [
           {
            "colorbar": {
             "outlinewidth": 0,
             "ticks": ""
            },
            "colorscale": [
             [
              0,
              "#0d0887"
             ],
             [
              0.1111111111111111,
              "#46039f"
             ],
             [
              0.2222222222222222,
              "#7201a8"
             ],
             [
              0.3333333333333333,
              "#9c179e"
             ],
             [
              0.4444444444444444,
              "#bd3786"
             ],
             [
              0.5555555555555556,
              "#d8576b"
             ],
             [
              0.6666666666666666,
              "#ed7953"
             ],
             [
              0.7777777777777778,
              "#fb9f3a"
             ],
             [
              0.8888888888888888,
              "#fdca26"
             ],
             [
              1,
              "#f0f921"
             ]
            ],
            "type": "heatmapgl"
           }
          ],
          "histogram": [
           {
            "marker": {
             "pattern": {
              "fillmode": "overlay",
              "size": 10,
              "solidity": 0.2
             }
            },
            "type": "histogram"
           }
          ],
          "histogram2d": [
           {
            "colorbar": {
             "outlinewidth": 0,
             "ticks": ""
            },
            "colorscale": [
             [
              0,
              "#0d0887"
             ],
             [
              0.1111111111111111,
              "#46039f"
             ],
             [
              0.2222222222222222,
              "#7201a8"
             ],
             [
              0.3333333333333333,
              "#9c179e"
             ],
             [
              0.4444444444444444,
              "#bd3786"
             ],
             [
              0.5555555555555556,
              "#d8576b"
             ],
             [
              0.6666666666666666,
              "#ed7953"
             ],
             [
              0.7777777777777778,
              "#fb9f3a"
             ],
             [
              0.8888888888888888,
              "#fdca26"
             ],
             [
              1,
              "#f0f921"
             ]
            ],
            "type": "histogram2d"
           }
          ],
          "histogram2dcontour": [
           {
            "colorbar": {
             "outlinewidth": 0,
             "ticks": ""
            },
            "colorscale": [
             [
              0,
              "#0d0887"
             ],
             [
              0.1111111111111111,
              "#46039f"
             ],
             [
              0.2222222222222222,
              "#7201a8"
             ],
             [
              0.3333333333333333,
              "#9c179e"
             ],
             [
              0.4444444444444444,
              "#bd3786"
             ],
             [
              0.5555555555555556,
              "#d8576b"
             ],
             [
              0.6666666666666666,
              "#ed7953"
             ],
             [
              0.7777777777777778,
              "#fb9f3a"
             ],
             [
              0.8888888888888888,
              "#fdca26"
             ],
             [
              1,
              "#f0f921"
             ]
            ],
            "type": "histogram2dcontour"
           }
          ],
          "mesh3d": [
           {
            "colorbar": {
             "outlinewidth": 0,
             "ticks": ""
            },
            "type": "mesh3d"
           }
          ],
          "parcoords": [
           {
            "line": {
             "colorbar": {
              "outlinewidth": 0,
              "ticks": ""
             }
            },
            "type": "parcoords"
           }
          ],
          "pie": [
           {
            "automargin": true,
            "type": "pie"
           }
          ],
          "scatter": [
           {
            "marker": {
             "colorbar": {
              "outlinewidth": 0,
              "ticks": ""
             }
            },
            "type": "scatter"
           }
          ],
          "scatter3d": [
           {
            "line": {
             "colorbar": {
              "outlinewidth": 0,
              "ticks": ""
             }
            },
            "marker": {
             "colorbar": {
              "outlinewidth": 0,
              "ticks": ""
             }
            },
            "type": "scatter3d"
           }
          ],
          "scattercarpet": [
           {
            "marker": {
             "colorbar": {
              "outlinewidth": 0,
              "ticks": ""
             }
            },
            "type": "scattercarpet"
           }
          ],
          "scattergeo": [
           {
            "marker": {
             "colorbar": {
              "outlinewidth": 0,
              "ticks": ""
             }
            },
            "type": "scattergeo"
           }
          ],
          "scattergl": [
           {
            "marker": {
             "colorbar": {
              "outlinewidth": 0,
              "ticks": ""
             }
            },
            "type": "scattergl"
           }
          ],
          "scattermapbox": [
           {
            "marker": {
             "colorbar": {
              "outlinewidth": 0,
              "ticks": ""
             }
            },
            "type": "scattermapbox"
           }
          ],
          "scatterpolar": [
           {
            "marker": {
             "colorbar": {
              "outlinewidth": 0,
              "ticks": ""
             }
            },
            "type": "scatterpolar"
           }
          ],
          "scatterpolargl": [
           {
            "marker": {
             "colorbar": {
              "outlinewidth": 0,
              "ticks": ""
             }
            },
            "type": "scatterpolargl"
           }
          ],
          "scatterternary": [
           {
            "marker": {
             "colorbar": {
              "outlinewidth": 0,
              "ticks": ""
             }
            },
            "type": "scatterternary"
           }
          ],
          "surface": [
           {
            "colorbar": {
             "outlinewidth": 0,
             "ticks": ""
            },
            "colorscale": [
             [
              0,
              "#0d0887"
             ],
             [
              0.1111111111111111,
              "#46039f"
             ],
             [
              0.2222222222222222,
              "#7201a8"
             ],
             [
              0.3333333333333333,
              "#9c179e"
             ],
             [
              0.4444444444444444,
              "#bd3786"
             ],
             [
              0.5555555555555556,
              "#d8576b"
             ],
             [
              0.6666666666666666,
              "#ed7953"
             ],
             [
              0.7777777777777778,
              "#fb9f3a"
             ],
             [
              0.8888888888888888,
              "#fdca26"
             ],
             [
              1,
              "#f0f921"
             ]
            ],
            "type": "surface"
           }
          ],
          "table": [
           {
            "cells": {
             "fill": {
              "color": "#EBF0F8"
             },
             "line": {
              "color": "white"
             }
            },
            "header": {
             "fill": {
              "color": "#C8D4E3"
             },
             "line": {
              "color": "white"
             }
            },
            "type": "table"
           }
          ]
         },
         "layout": {
          "annotationdefaults": {
           "arrowcolor": "#2a3f5f",
           "arrowhead": 0,
           "arrowwidth": 1
          },
          "autotypenumbers": "strict",
          "coloraxis": {
           "colorbar": {
            "outlinewidth": 0,
            "ticks": ""
           }
          },
          "colorscale": {
           "diverging": [
            [
             0,
             "#8e0152"
            ],
            [
             0.1,
             "#c51b7d"
            ],
            [
             0.2,
             "#de77ae"
            ],
            [
             0.3,
             "#f1b6da"
            ],
            [
             0.4,
             "#fde0ef"
            ],
            [
             0.5,
             "#f7f7f7"
            ],
            [
             0.6,
             "#e6f5d0"
            ],
            [
             0.7,
             "#b8e186"
            ],
            [
             0.8,
             "#7fbc41"
            ],
            [
             0.9,
             "#4d9221"
            ],
            [
             1,
             "#276419"
            ]
           ],
           "sequential": [
            [
             0,
             "#0d0887"
            ],
            [
             0.1111111111111111,
             "#46039f"
            ],
            [
             0.2222222222222222,
             "#7201a8"
            ],
            [
             0.3333333333333333,
             "#9c179e"
            ],
            [
             0.4444444444444444,
             "#bd3786"
            ],
            [
             0.5555555555555556,
             "#d8576b"
            ],
            [
             0.6666666666666666,
             "#ed7953"
            ],
            [
             0.7777777777777778,
             "#fb9f3a"
            ],
            [
             0.8888888888888888,
             "#fdca26"
            ],
            [
             1,
             "#f0f921"
            ]
           ],
           "sequentialminus": [
            [
             0,
             "#0d0887"
            ],
            [
             0.1111111111111111,
             "#46039f"
            ],
            [
             0.2222222222222222,
             "#7201a8"
            ],
            [
             0.3333333333333333,
             "#9c179e"
            ],
            [
             0.4444444444444444,
             "#bd3786"
            ],
            [
             0.5555555555555556,
             "#d8576b"
            ],
            [
             0.6666666666666666,
             "#ed7953"
            ],
            [
             0.7777777777777778,
             "#fb9f3a"
            ],
            [
             0.8888888888888888,
             "#fdca26"
            ],
            [
             1,
             "#f0f921"
            ]
           ]
          },
          "colorway": [
           "#636efa",
           "#EF553B",
           "#00cc96",
           "#ab63fa",
           "#FFA15A",
           "#19d3f3",
           "#FF6692",
           "#B6E880",
           "#FF97FF",
           "#FECB52"
          ],
          "font": {
           "color": "#2a3f5f"
          },
          "geo": {
           "bgcolor": "white",
           "lakecolor": "white",
           "landcolor": "#E5ECF6",
           "showlakes": true,
           "showland": true,
           "subunitcolor": "white"
          },
          "hoverlabel": {
           "align": "left"
          },
          "hovermode": "closest",
          "mapbox": {
           "style": "light"
          },
          "paper_bgcolor": "white",
          "plot_bgcolor": "#E5ECF6",
          "polar": {
           "angularaxis": {
            "gridcolor": "white",
            "linecolor": "white",
            "ticks": ""
           },
           "bgcolor": "#E5ECF6",
           "radialaxis": {
            "gridcolor": "white",
            "linecolor": "white",
            "ticks": ""
           }
          },
          "scene": {
           "xaxis": {
            "backgroundcolor": "#E5ECF6",
            "gridcolor": "white",
            "gridwidth": 2,
            "linecolor": "white",
            "showbackground": true,
            "ticks": "",
            "zerolinecolor": "white"
           },
           "yaxis": {
            "backgroundcolor": "#E5ECF6",
            "gridcolor": "white",
            "gridwidth": 2,
            "linecolor": "white",
            "showbackground": true,
            "ticks": "",
            "zerolinecolor": "white"
           },
           "zaxis": {
            "backgroundcolor": "#E5ECF6",
            "gridcolor": "white",
            "gridwidth": 2,
            "linecolor": "white",
            "showbackground": true,
            "ticks": "",
            "zerolinecolor": "white"
           }
          },
          "shapedefaults": {
           "line": {
            "color": "#2a3f5f"
           }
          },
          "ternary": {
           "aaxis": {
            "gridcolor": "white",
            "linecolor": "white",
            "ticks": ""
           },
           "baxis": {
            "gridcolor": "white",
            "linecolor": "white",
            "ticks": ""
           },
           "bgcolor": "#E5ECF6",
           "caxis": {
            "gridcolor": "white",
            "linecolor": "white",
            "ticks": ""
           }
          },
          "title": {
           "x": 0.05
          },
          "xaxis": {
           "automargin": true,
           "gridcolor": "white",
           "linecolor": "white",
           "ticks": "",
           "title": {
            "standoff": 15
           },
           "zerolinecolor": "white",
           "zerolinewidth": 2
          },
          "yaxis": {
           "automargin": true,
           "gridcolor": "white",
           "linecolor": "white",
           "ticks": "",
           "title": {
            "standoff": 15
           },
           "zerolinecolor": "white",
           "zerolinewidth": 2
          }
         }
        },
        "xaxis": {
         "anchor": "y",
         "autorange": true,
         "domain": [
          0,
          1
         ],
         "range": [
          -0.5,
          0.5
         ],
         "type": "category"
        },
        "yaxis": {
         "anchor": "x",
         "autorange": true,
         "domain": [
          0,
          1
         ],
         "range": [
          6.055555555555555,
          104.94444444444444
         ],
         "title": {
          "text": "local_count"
         },
         "type": "linear"
        }
       }
      },
      "image/png": "[encoded data removed]",
      "text/html": [
       "<div>                            <div id=\"7388e8e5-9e22-4632-973c-13c1a5683d29\" class=\"plotly-graph-div\" style=\"height:525px; width:100%;\"></div>            <script type=\"text/javascript\">                require([\"plotly\"], function(Plotly) {                    window.PLOTLYENV=window.PLOTLYENV || {};                                    if (document.getElementById(\"7388e8e5-9e22-4632-973c-13c1a5683d29\")) {                    Plotly.newPlot(                        \"7388e8e5-9e22-4632-973c-13c1a5683d29\",                        [{\"alignmentgroup\":\"True\",\"hovertemplate\":\"local_count=%{y}<extra></extra>\",\"legendgroup\":\"\",\"marker\":{\"color\":\"#636efa\"},\"name\":\"\",\"notched\":false,\"offsetgroup\":\"\",\"orientation\":\"v\",\"showlegend\":false,\"type\":\"box\",\"x0\":\" \",\"xaxis\":\"x\",\"y\":[100,68,35,31,31,24,23,19,19,18,17,17,15,14,14,13,13,12,12,11,11],\"y0\":\" \",\"yaxis\":\"y\"}],                        {\"boxmode\":\"group\",\"legend\":{\"tracegroupgap\":0},\"margin\":{\"t\":60},\"template\":{\"data\":{\"bar\":[{\"error_x\":{\"color\":\"#2a3f5f\"},\"error_y\":{\"color\":\"#2a3f5f\"},\"marker\":{\"line\":{\"color\":\"#E5ECF6\",\"width\":0.5},\"pattern\":{\"fillmode\":\"overlay\",\"size\":10,\"solidity\":0.2}},\"type\":\"bar\"}],\"barpolar\":[{\"marker\":{\"line\":{\"color\":\"#E5ECF6\",\"width\":0.5},\"pattern\":{\"fillmode\":\"overlay\",\"size\":10,\"solidity\":0.2}},\"type\":\"barpolar\"}],\"carpet\":[{\"aaxis\":{\"endlinecolor\":\"#2a3f5f\",\"gridcolor\":\"white\",\"linecolor\":\"white\",\"minorgridcolor\":\"white\",\"startlinecolor\":\"#2a3f5f\"},\"baxis\":{\"endlinecolor\":\"#2a3f5f\",\"gridcolor\":\"white\",\"linecolor\":\"white\",\"minorgridcolor\":\"white\",\"startlinecolor\":\"#2a3f5f\"},\"type\":\"carpet\"}],\"choropleth\":[{\"colorbar\":{\"outlinewidth\":0,\"ticks\":\"\"},\"type\":\"choropleth\"}],\"contour\":[{\"colorbar\":{\"outlinewidth\":0,\"ticks\":\"\"},\"colorscale\":[[0.0,\"#0d0887\"],[0.1111111111111111,\"#46039f\"],[0.2222222222222222,\"#7201a8\"],[0.3333333333333333,\"#9c179e\"],[0.4444444444444444,\"#bd3786\"],[0.5555555555555556,\"#d8576b\"],[0.6666666666666666,\"#ed7953\"],[0.7777777777777778,\"#fb9f3a\"],[0.8888888888888888,\"#fdca26\"],[1.0,\"#f0f921\"]],\"type\":\"contour\"}],\"contourcarpet\":[{\"colorbar\":{\"outlinewidth\":0,\"ticks\":\"\"},\"type\":\"contourcarpet\"}],\"heatmap\":[{\"colorbar\":{\"outlinewidth\":0,\"ticks\":\"\"},\"colorscale\":[[0.0,\"#0d0887\"],[0.1111111111111111,\"#46039f\"],[0.2222222222222222,\"#7201a8\"],[0.3333333333333333,\"#9c179e\"],[0.4444444444444444,\"#bd3786\"],[0.5555555555555556,\"#d8576b\"],[0.6666666666666666,\"#ed7953\"],[0.7777777777777778,\"#fb9f3a\"],[0.8888888888888888,\"#fdca26\"],[1.0,\"#f0f921\"]],\"type\":\"heatmap\"}],\"heatmapgl\":[{\"colorbar\":{\"outlinewidth\":0,\"ticks\":\"\"},\"colorscale\":[[0.0,\"#0d0887\"],[0.1111111111111111,\"#46039f\"],[0.2222222222222222,\"#7201a8\"],[0.3333333333333333,\"#9c179e\"],[0.4444444444444444,\"#bd3786\"],[0.5555555555555556,\"#d8576b\"],[0.6666666666666666,\"#ed7953\"],[0.7777777777777778,\"#fb9f3a\"],[0.8888888888888888,\"#fdca26\"],[1.0,\"#f0f921\"]],\"type\":\"heatmapgl\"}],\"histogram\":[{\"marker\":{\"pattern\":{\"fillmode\":\"overlay\",\"size\":10,\"solidity\":0.2}},\"type\":\"histogram\"}],\"histogram2d\":[{\"colorbar\":{\"outlinewidth\":0,\"ticks\":\"\"},\"colorscale\":[[0.0,\"#0d0887\"],[0.1111111111111111,\"#46039f\"],[0.2222222222222222,\"#7201a8\"],[0.3333333333333333,\"#9c179e\"],[0.4444444444444444,\"#bd3786\"],[0.5555555555555556,\"#d8576b\"],[0.6666666666666666,\"#ed7953\"],[0.7777777777777778,\"#fb9f3a\"],[0.8888888888888888,\"#fdca26\"],[1.0,\"#f0f921\"]],\"type\":\"histogram2d\"}],\"histogram2dcontour\":[{\"colorbar\":{\"outlinewidth\":0,\"ticks\":\"\"},\"colorscale\":[[0.0,\"#0d0887\"],[0.1111111111111111,\"#46039f\"],[0.2222222222222222,\"#7201a8\"],[0.3333333333333333,\"#9c179e\"],[0.4444444444444444,\"#bd3786\"],[0.5555555555555556,\"#d8576b\"],[0.6666666666666666,\"#ed7953\"],[0.7777777777777778,\"#fb9f3a\"],[0.8888888888888888,\"#fdca26\"],[1.0,\"#f0f921\"]],\"type\":\"histogram2dcontour\"}],\"mesh3d\":[{\"colorbar\":{\"outlinewidth\":0,\"ticks\":\"\"},\"type\":\"mesh3d\"}],\"parcoords\":[{\"line\":{\"colorbar\":{\"outlinewidth\":0,\"ticks\":\"\"}},\"type\":\"parcoords\"}],\"pie\":[{\"automargin\":true,\"type\":\"pie\"}],\"scatter\":[{\"marker\":{\"colorbar\":{\"outlinewidth\":0,\"ticks\":\"\"}},\"type\":\"scatter\"}],\"scatter3d\":[{\"line\":{\"colorbar\":{\"outlinewidth\":0,\"ticks\":\"\"}},\"marker\":{\"colorbar\":{\"outlinewidth\":0,\"ticks\":\"\"}},\"type\":\"scatter3d\"}],\"scattercarpet\":[{\"marker\":{\"colorbar\":{\"outlinewidth\":0,\"ticks\":\"\"}},\"type\":\"scattercarpet\"}],\"scattergeo\":[{\"marker\":{\"colorbar\":{\"outlinewidth\":0,\"ticks\":\"\"}},\"type\":\"scattergeo\"}],\"scattergl\":[{\"marker\":{\"colorbar\":{\"outlinewidth\":0,\"ticks\":\"\"}},\"type\":\"scattergl\"}],\"scattermapbox\":[{\"marker\":{\"colorbar\":{\"outlinewidth\":0,\"ticks\":\"\"}},\"type\":\"scattermapbox\"}],\"scatterpolar\":[{\"marker\":{\"colorbar\":{\"outlinewidth\":0,\"ticks\":\"\"}},\"type\":\"scatterpolar\"}],\"scatterpolargl\":[{\"marker\":{\"colorbar\":{\"outlinewidth\":0,\"ticks\":\"\"}},\"type\":\"scatterpolargl\"}],\"scatterternary\":[{\"marker\":{\"colorbar\":{\"outlinewidth\":0,\"ticks\":\"\"}},\"type\":\"scatterternary\"}],\"surface\":[{\"colorbar\":{\"outlinewidth\":0,\"ticks\":\"\"},\"colorscale\":[[0.0,\"#0d0887\"],[0.1111111111111111,\"#46039f\"],[0.2222222222222222,\"#7201a8\"],[0.3333333333333333,\"#9c179e\"],[0.4444444444444444,\"#bd3786\"],[0.5555555555555556,\"#d8576b\"],[0.6666666666666666,\"#ed7953\"],[0.7777777777777778,\"#fb9f3a\"],[0.8888888888888888,\"#fdca26\"],[1.0,\"#f0f921\"]],\"type\":\"surface\"}],\"table\":[{\"cells\":{\"fill\":{\"color\":\"#EBF0F8\"},\"line\":{\"color\":\"white\"}},\"header\":{\"fill\":{\"color\":\"#C8D4E3\"},\"line\":{\"color\":\"white\"}},\"type\":\"table\"}]},\"layout\":{\"annotationdefaults\":{\"arrowcolor\":\"#2a3f5f\",\"arrowhead\":0,\"arrowwidth\":1},\"autotypenumbers\":\"strict\",\"coloraxis\":{\"colorbar\":{\"outlinewidth\":0,\"ticks\":\"\"}},\"colorscale\":{\"diverging\":[[0,\"#8e0152\"],[0.1,\"#c51b7d\"],[0.2,\"#de77ae\"],[0.3,\"#f1b6da\"],[0.4,\"#fde0ef\"],[0.5,\"#f7f7f7\"],[0.6,\"#e6f5d0\"],[0.7,\"#b8e186\"],[0.8,\"#7fbc41\"],[0.9,\"#4d9221\"],[1,\"#276419\"]],\"sequential\":[[0.0,\"#0d0887\"],[0.1111111111111111,\"#46039f\"],[0.2222222222222222,\"#7201a8\"],[0.3333333333333333,\"#9c179e\"],[0.4444444444444444,\"#bd3786\"],[0.5555555555555556,\"#d8576b\"],[0.6666666666666666,\"#ed7953\"],[0.7777777777777778,\"#fb9f3a\"],[0.8888888888888888,\"#fdca26\"],[1.0,\"#f0f921\"]],\"sequentialminus\":[[0.0,\"#0d0887\"],[0.1111111111111111,\"#46039f\"],[0.2222222222222222,\"#7201a8\"],[0.3333333333333333,\"#9c179e\"],[0.4444444444444444,\"#bd3786\"],[0.5555555555555556,\"#d8576b\"],[0.6666666666666666,\"#ed7953\"],[0.7777777777777778,\"#fb9f3a\"],[0.8888888888888888,\"#fdca26\"],[1.0,\"#f0f921\"]]},\"colorway\":[\"#636efa\",\"#EF553B\",\"#00cc96\",\"#ab63fa\",\"#FFA15A\",\"#19d3f3\",\"#FF6692\",\"#B6E880\",\"#FF97FF\",\"#FECB52\"],\"font\":{\"color\":\"#2a3f5f\"},\"geo\":{\"bgcolor\":\"white\",\"lakecolor\":\"white\",\"landcolor\":\"#E5ECF6\",\"showlakes\":true,\"showland\":true,\"subunitcolor\":\"white\"},\"hoverlabel\":{\"align\":\"left\"},\"hovermode\":\"closest\",\"mapbox\":{\"style\":\"light\"},\"paper_bgcolor\":\"white\",\"plot_bgcolor\":\"#E5ECF6\",\"polar\":{\"angularaxis\":{\"gridcolor\":\"white\",\"linecolor\":\"white\",\"ticks\":\"\"},\"bgcolor\":\"#E5ECF6\",\"radialaxis\":{\"gridcolor\":\"white\",\"linecolor\":\"white\",\"ticks\":\"\"}},\"scene\":{\"xaxis\":{\"backgroundcolor\":\"#E5ECF6\",\"gridcolor\":\"white\",\"gridwidth\":2,\"linecolor\":\"white\",\"showbackground\":true,\"ticks\":\"\",\"zerolinecolor\":\"white\"},\"yaxis\":{\"backgroundcolor\":\"#E5ECF6\",\"gridcolor\":\"white\",\"gridwidth\":2,\"linecolor\":\"white\",\"showbackground\":true,\"ticks\":\"\",\"zerolinecolor\":\"white\"},\"zaxis\":{\"backgroundcolor\":\"#E5ECF6\",\"gridcolor\":\"white\",\"gridwidth\":2,\"linecolor\":\"white\",\"showbackground\":true,\"ticks\":\"\",\"zerolinecolor\":\"white\"}},\"shapedefaults\":{\"line\":{\"color\":\"#2a3f5f\"}},\"ternary\":{\"aaxis\":{\"gridcolor\":\"white\",\"linecolor\":\"white\",\"ticks\":\"\"},\"baxis\":{\"gridcolor\":\"white\",\"linecolor\":\"white\",\"ticks\":\"\"},\"bgcolor\":\"#E5ECF6\",\"caxis\":{\"gridcolor\":\"white\",\"linecolor\":\"white\",\"ticks\":\"\"}},\"title\":{\"x\":0.05},\"xaxis\":{\"automargin\":true,\"gridcolor\":\"white\",\"linecolor\":\"white\",\"ticks\":\"\",\"title\":{\"standoff\":15},\"zerolinecolor\":\"white\",\"zerolinewidth\":2},\"yaxis\":{\"automargin\":true,\"gridcolor\":\"white\",\"linecolor\":\"white\",\"ticks\":\"\",\"title\":{\"standoff\":15},\"zerolinecolor\":\"white\",\"zerolinewidth\":2}}},\"xaxis\":{\"anchor\":\"y\",\"domain\":[0.0,1.0]},\"yaxis\":{\"anchor\":\"x\",\"domain\":[0.0,1.0],\"title\":{\"text\":\"local_count\"}}},                        {\"responsive\": true}                    ).then(function(){\n",
       "                            \n",
       "var gd = document.getElementById('7388e8e5-9e22-4632-973c-13c1a5683d29');\n",
       "var x = new MutationObserver(function (mutations, observer) {{\n",
       "        var display = window.getComputedStyle(gd).display;\n",
       "        if (!display || display === 'none') {{\n",
       "            console.log([gd, 'removed!']);\n",
       "            Plotly.purge(gd);\n",
       "            observer.disconnect();\n",
       "        }}\n",
       "}});\n",
       "\n",
       "// Listen for the removal of the full notebook cells\n",
       "var notebookContainer = gd.closest('#notebook-container');\n",
       "if (notebookContainer) {{\n",
       "    x.observe(notebookContainer, {childList: true});\n",
       "}}\n",
       "\n",
       "// Listen for the clearing of the current output cell\n",
       "var outputEl = gd.closest('.output');\n",
       "if (outputEl) {{\n",
       "    x.observe(outputEl, {childList: true});\n",
       "}}\n",
       "\n",
       "                        })                };                });            </script>        </div>"
      ]
     },
     "metadata": {},
     "output_type": "display_data"
    }
   ],
   "source": [
    "c_neg_local_retweet[['local_count']] = c_neg_local_retweet[['local_count']].astype(int)\n",
    "sub_neg_local_retweet = c_neg_local_retweet[c_neg_local_retweet['local_count'] > 10]\n",
    "fig = px.box(sub_neg_local_retweet, y=\"local_count\")\n",
    "fig.show()"
   ]
  },
  {
   "cell_type": "code",
   "execution_count": 209,
   "id": "18c3b0bc-920f-4ad3-9c15-28f015517924",
   "metadata": {},
   "outputs": [],
   "source": [
    "viral_neg_local_rts['tweet_text_'] = [re.sub(\"RT @[A-Z_a-z_0-9:]+\",\"\", txt).strip() for txt in viral_neg_local_rts['tweet_text'] ]\n",
    "\n",
    "details_viral_neg_local_rts = viral_neg_local_rts[['tweet_text_', 'tweet_date', 'tweet_sentiment','retweeted_user_screenname', 'total_engagement',\n",
    "                                                   'retweeted_user_verified', 'retweeted_tweet_id']] \\\n",
    "                                                .groupby('retweeted_tweet_id') \\\n",
    "                                                .apply(pd.DataFrame.sort_values, 'total_engagement') \\\n",
    "                                                .reset_index(drop=True).groupby('retweeted_tweet_id').last().reset_index()\n",
    "\n",
    "\n",
    "details_viral_neg_local_rts = details_viral_neg_local_rts.loc[:, ~details_viral_neg_local_rts.columns.str.contains('^Unnamed')]\n",
    "\n",
    "details_viral_neg_local_rts\n",
    "\n",
    "k = px.colors.qualitative.Pastel[:details_viral_neg_local_rts.shape[0]]\n",
    "details_viral_neg_local_rts['color'] = k\n",
    "\n",
    "pd.DataFrame.to_csv(details_viral_neg_local_rts, '../data/output/rts/local/neg_local_rts_info.csv')"
   ]
  },
  {
   "cell_type": "markdown",
   "id": "8f32f0e2-f761-4978-abeb-6abebaa16986",
   "metadata": {},
   "source": [
    "### 4.2. Viral local retweets with positive sentiment <a id=\"cell42\"></a>"
   ]
  },
  {
   "cell_type": "code",
   "execution_count": 119,
   "id": "49ef7dec-9a0e-4fd5-aafd-29438a4b4445",
   "metadata": {},
   "outputs": [],
   "source": [
    "# count of RTs\n",
    "SPIKE_THRESHOLD = 1500 # TODO: Find a threshold using stats (like from outliers)\n",
    "c_pos_local_retweet = pos_local_retweet.value_counts(subset=['retweeted_tweet_id']).reset_index(name='local_count').sort_values('local_count', ascending=False)\n",
    "\n",
    "# top RTs by count\n",
    "pos_local_rtids_by_count = list(c_pos_local_retweet[:TOP_RTS_POS_NEG]['retweeted_tweet_id'])\n",
    "\n",
    "# top RTs by spike in engagements\n",
    "grouped_sorted_date = pos_local_retweet.groupby(['retweeted_tweet_id', 'tweet_date']).apply(pd.DataFrame.sort_values, 'tweet_date').reset_index(drop=True)\n",
    "max_grouped_sorted_date = grouped_sorted_date.groupby(['retweeted_tweet_id', 'tweet_date'])['total_engagement'].max().reset_index()\n",
    "max_grouped_sorted_date['delta_engagement'] = max_grouped_sorted_date.groupby(['retweeted_tweet_id'])['total_engagement'].diff().fillna(0).astype(int)\n",
    "spike_ = max_grouped_sorted_date.groupby('retweeted_tweet_id').nth(1)\n",
    "spike = list(spike_[spike_['delta_engagement'] >= SPIKE_THRESHOLD].reset_index()['retweeted_tweet_id'])\n",
    "\n",
    "# print(\"By count: \", len(pos_local_rtids_by_count))\n",
    "# print(\"By spike: \", len(spike))\n",
    "# get viral RTs by count and spiky engagements\n",
    "viral_pos_local_rts = pos_local_retweet[pos_local_retweet['retweeted_tweet_id'].isin(set(pos_local_rtids_by_count + spike))]\n",
    "\n",
    "# get data for delta and cumulative graphs\n",
    "grouped_sorted_date = viral_pos_local_rts.groupby(['retweeted_tweet_id', 'tweet_date', 'retweeted_user_screenname']).apply(pd.DataFrame.sort_values, 'tweet_date').reset_index(drop=True)\n",
    "max_grouped_sorted_date = grouped_sorted_date.groupby(['retweeted_tweet_id', 'tweet_date', 'retweeted_user_screenname'])['total_engagement'].max().reset_index()\n",
    "max_grouped_sorted_date['delta_engagement'] = max_grouped_sorted_date.groupby(['retweeted_tweet_id'])['total_engagement'].diff().fillna(0).astype(int)\n",
    "\n",
    "pd.DataFrame.to_csv(max_grouped_sorted_date, '../data/output/rts/local/pos_local_rts_trend.csv')\n",
    "\n"
   ]
  },
  {
   "cell_type": "code",
   "execution_count": 120,
   "id": "3513dd30-eb75-44ec-a1f9-ae4641d54170",
   "metadata": {},
   "outputs": [
    {
     "data": {
      "text/plain": [
       "count     243.000000\n",
       "mean      121.094650\n",
       "std       357.087315\n",
       "min         0.000000\n",
       "25%         8.000000\n",
       "50%        30.000000\n",
       "75%        87.500000\n",
       "max      4443.000000\n",
       "Name: delta_engagement, dtype: float64"
      ]
     },
     "execution_count": 120,
     "metadata": {},
     "output_type": "execute_result"
    }
   ],
   "source": [
    "spike_['delta_engagement'].describe()"
   ]
  },
  {
   "cell_type": "code",
   "execution_count": 121,
   "id": "ee1cc2cd-7883-498a-abde-f257fbcdc323",
   "metadata": {},
   "outputs": [
    {
     "name": "stdout",
     "output_type": "stream",
     "text": [
      "quantile 956.4399999999999\n",
      "sub_spike.shape (5, 3)\n",
      "       total_engagement  delta_engagement\n",
      "count          5.000000          5.000000\n",
      "mean        5702.800000       1930.400000\n",
      "std         4941.306022       1486.876525\n",
      "min         1354.000000        964.000000\n",
      "25%         2486.000000       1005.000000\n",
      "50%         4504.000000       1097.000000\n",
      "75%         6306.000000       2143.000000\n",
      "max        13864.000000       4443.000000\n"
     ]
    },
    {
     "data": {
      "application/vnd.plotly.v1+json": {
       "config": {
        "plotlyServerURL": "https://plot.ly"
       },
       "data": [
        {
         "alignmentgroup": "True",
         "hovertemplate": "retweeted_tweet_id=%{x}<br>delta_engagement=%{y}<extra></extra>",
         "legendgroup": "",
         "marker": {
          "color": "#636efa",
          "pattern": {
           "shape": ""
          }
         },
         "name": "",
         "offsetgroup": "",
         "orientation": "v",
         "showlegend": false,
         "textposition": "auto",
         "type": "bar",
         "x": [
          1425644918920208400,
          1430151046886613000,
          1437582428579582000,
          1438703201415418000,
          1440302153449369600
         ],
         "xaxis": "x",
         "y": [
          4443,
          2143,
          964,
          1097,
          1005
         ],
         "yaxis": "y"
        }
       ],
       "layout": {
        "autosize": true,
        "barmode": "relative",
        "legend": {
         "tracegroupgap": 0
        },
        "margin": {
         "t": 60
        },
        "template": {
         "data": {
          "bar": [
           {
            "error_x": {
             "color": "#2a3f5f"
            },
            "error_y": {
             "color": "#2a3f5f"
            },
            "marker": {
             "line": {
              "color": "#E5ECF6",
              "width": 0.5
             },
             "pattern": {
              "fillmode": "overlay",
              "size": 10,
              "solidity": 0.2
             }
            },
            "type": "bar"
           }
          ],
          "barpolar": [
           {
            "marker": {
             "line": {
              "color": "#E5ECF6",
              "width": 0.5
             },
             "pattern": {
              "fillmode": "overlay",
              "size": 10,
              "solidity": 0.2
             }
            },
            "type": "barpolar"
           }
          ],
          "carpet": [
           {
            "aaxis": {
             "endlinecolor": "#2a3f5f",
             "gridcolor": "white",
             "linecolor": "white",
             "minorgridcolor": "white",
             "startlinecolor": "#2a3f5f"
            },
            "baxis": {
             "endlinecolor": "#2a3f5f",
             "gridcolor": "white",
             "linecolor": "white",
             "minorgridcolor": "white",
             "startlinecolor": "#2a3f5f"
            },
            "type": "carpet"
           }
          ],
          "choropleth": [
           {
            "colorbar": {
             "outlinewidth": 0,
             "ticks": ""
            },
            "type": "choropleth"
           }
          ],
          "contour": [
           {
            "colorbar": {
             "outlinewidth": 0,
             "ticks": ""
            },
            "colorscale": [
             [
              0,
              "#0d0887"
             ],
             [
              0.1111111111111111,
              "#46039f"
             ],
             [
              0.2222222222222222,
              "#7201a8"
             ],
             [
              0.3333333333333333,
              "#9c179e"
             ],
             [
              0.4444444444444444,
              "#bd3786"
             ],
             [
              0.5555555555555556,
              "#d8576b"
             ],
             [
              0.6666666666666666,
              "#ed7953"
             ],
             [
              0.7777777777777778,
              "#fb9f3a"
             ],
             [
              0.8888888888888888,
              "#fdca26"
             ],
             [
              1,
              "#f0f921"
             ]
            ],
            "type": "contour"
           }
          ],
          "contourcarpet": [
           {
            "colorbar": {
             "outlinewidth": 0,
             "ticks": ""
            },
            "type": "contourcarpet"
           }
          ],
          "heatmap": [
           {
            "colorbar": {
             "outlinewidth": 0,
             "ticks": ""
            },
            "colorscale": [
             [
              0,
              "#0d0887"
             ],
             [
              0.1111111111111111,
              "#46039f"
             ],
             [
              0.2222222222222222,
              "#7201a8"
             ],
             [
              0.3333333333333333,
              "#9c179e"
             ],
             [
              0.4444444444444444,
              "#bd3786"
             ],
             [
              0.5555555555555556,
              "#d8576b"
             ],
             [
              0.6666666666666666,
              "#ed7953"
             ],
             [
              0.7777777777777778,
              "#fb9f3a"
             ],
             [
              0.8888888888888888,
              "#fdca26"
             ],
             [
              1,
              "#f0f921"
             ]
            ],
            "type": "heatmap"
           }
          ],
          "heatmapgl": [
           {
            "colorbar": {
             "outlinewidth": 0,
             "ticks": ""
            },
            "colorscale": [
             [
              0,
              "#0d0887"
             ],
             [
              0.1111111111111111,
              "#46039f"
             ],
             [
              0.2222222222222222,
              "#7201a8"
             ],
             [
              0.3333333333333333,
              "#9c179e"
             ],
             [
              0.4444444444444444,
              "#bd3786"
             ],
             [
              0.5555555555555556,
              "#d8576b"
             ],
             [
              0.6666666666666666,
              "#ed7953"
             ],
             [
              0.7777777777777778,
              "#fb9f3a"
             ],
             [
              0.8888888888888888,
              "#fdca26"
             ],
             [
              1,
              "#f0f921"
             ]
            ],
            "type": "heatmapgl"
           }
          ],
          "histogram": [
           {
            "marker": {
             "pattern": {
              "fillmode": "overlay",
              "size": 10,
              "solidity": 0.2
             }
            },
            "type": "histogram"
           }
          ],
          "histogram2d": [
           {
            "colorbar": {
             "outlinewidth": 0,
             "ticks": ""
            },
            "colorscale": [
             [
              0,
              "#0d0887"
             ],
             [
              0.1111111111111111,
              "#46039f"
             ],
             [
              0.2222222222222222,
              "#7201a8"
             ],
             [
              0.3333333333333333,
              "#9c179e"
             ],
             [
              0.4444444444444444,
              "#bd3786"
             ],
             [
              0.5555555555555556,
              "#d8576b"
             ],
             [
              0.6666666666666666,
              "#ed7953"
             ],
             [
              0.7777777777777778,
              "#fb9f3a"
             ],
             [
              0.8888888888888888,
              "#fdca26"
             ],
             [
              1,
              "#f0f921"
             ]
            ],
            "type": "histogram2d"
           }
          ],
          "histogram2dcontour": [
           {
            "colorbar": {
             "outlinewidth": 0,
             "ticks": ""
            },
            "colorscale": [
             [
              0,
              "#0d0887"
             ],
             [
              0.1111111111111111,
              "#46039f"
             ],
             [
              0.2222222222222222,
              "#7201a8"
             ],
             [
              0.3333333333333333,
              "#9c179e"
             ],
             [
              0.4444444444444444,
              "#bd3786"
             ],
             [
              0.5555555555555556,
              "#d8576b"
             ],
             [
              0.6666666666666666,
              "#ed7953"
             ],
             [
              0.7777777777777778,
              "#fb9f3a"
             ],
             [
              0.8888888888888888,
              "#fdca26"
             ],
             [
              1,
              "#f0f921"
             ]
            ],
            "type": "histogram2dcontour"
           }
          ],
          "mesh3d": [
           {
            "colorbar": {
             "outlinewidth": 0,
             "ticks": ""
            },
            "type": "mesh3d"
           }
          ],
          "parcoords": [
           {
            "line": {
             "colorbar": {
              "outlinewidth": 0,
              "ticks": ""
             }
            },
            "type": "parcoords"
           }
          ],
          "pie": [
           {
            "automargin": true,
            "type": "pie"
           }
          ],
          "scatter": [
           {
            "marker": {
             "colorbar": {
              "outlinewidth": 0,
              "ticks": ""
             }
            },
            "type": "scatter"
           }
          ],
          "scatter3d": [
           {
            "line": {
             "colorbar": {
              "outlinewidth": 0,
              "ticks": ""
             }
            },
            "marker": {
             "colorbar": {
              "outlinewidth": 0,
              "ticks": ""
             }
            },
            "type": "scatter3d"
           }
          ],
          "scattercarpet": [
           {
            "marker": {
             "colorbar": {
              "outlinewidth": 0,
              "ticks": ""
             }
            },
            "type": "scattercarpet"
           }
          ],
          "scattergeo": [
           {
            "marker": {
             "colorbar": {
              "outlinewidth": 0,
              "ticks": ""
             }
            },
            "type": "scattergeo"
           }
          ],
          "scattergl": [
           {
            "marker": {
             "colorbar": {
              "outlinewidth": 0,
              "ticks": ""
             }
            },
            "type": "scattergl"
           }
          ],
          "scattermapbox": [
           {
            "marker": {
             "colorbar": {
              "outlinewidth": 0,
              "ticks": ""
             }
            },
            "type": "scattermapbox"
           }
          ],
          "scatterpolar": [
           {
            "marker": {
             "colorbar": {
              "outlinewidth": 0,
              "ticks": ""
             }
            },
            "type": "scatterpolar"
           }
          ],
          "scatterpolargl": [
           {
            "marker": {
             "colorbar": {
              "outlinewidth": 0,
              "ticks": ""
             }
            },
            "type": "scatterpolargl"
           }
          ],
          "scatterternary": [
           {
            "marker": {
             "colorbar": {
              "outlinewidth": 0,
              "ticks": ""
             }
            },
            "type": "scatterternary"
           }
          ],
          "surface": [
           {
            "colorbar": {
             "outlinewidth": 0,
             "ticks": ""
            },
            "colorscale": [
             [
              0,
              "#0d0887"
             ],
             [
              0.1111111111111111,
              "#46039f"
             ],
             [
              0.2222222222222222,
              "#7201a8"
             ],
             [
              0.3333333333333333,
              "#9c179e"
             ],
             [
              0.4444444444444444,
              "#bd3786"
             ],
             [
              0.5555555555555556,
              "#d8576b"
             ],
             [
              0.6666666666666666,
              "#ed7953"
             ],
             [
              0.7777777777777778,
              "#fb9f3a"
             ],
             [
              0.8888888888888888,
              "#fdca26"
             ],
             [
              1,
              "#f0f921"
             ]
            ],
            "type": "surface"
           }
          ],
          "table": [
           {
            "cells": {
             "fill": {
              "color": "#EBF0F8"
             },
             "line": {
              "color": "white"
             }
            },
            "header": {
             "fill": {
              "color": "#C8D4E3"
             },
             "line": {
              "color": "white"
             }
            },
            "type": "table"
           }
          ]
         },
         "layout": {
          "annotationdefaults": {
           "arrowcolor": "#2a3f5f",
           "arrowhead": 0,
           "arrowwidth": 1
          },
          "autotypenumbers": "strict",
          "coloraxis": {
           "colorbar": {
            "outlinewidth": 0,
            "ticks": ""
           }
          },
          "colorscale": {
           "diverging": [
            [
             0,
             "#8e0152"
            ],
            [
             0.1,
             "#c51b7d"
            ],
            [
             0.2,
             "#de77ae"
            ],
            [
             0.3,
             "#f1b6da"
            ],
            [
             0.4,
             "#fde0ef"
            ],
            [
             0.5,
             "#f7f7f7"
            ],
            [
             0.6,
             "#e6f5d0"
            ],
            [
             0.7,
             "#b8e186"
            ],
            [
             0.8,
             "#7fbc41"
            ],
            [
             0.9,
             "#4d9221"
            ],
            [
             1,
             "#276419"
            ]
           ],
           "sequential": [
            [
             0,
             "#0d0887"
            ],
            [
             0.1111111111111111,
             "#46039f"
            ],
            [
             0.2222222222222222,
             "#7201a8"
            ],
            [
             0.3333333333333333,
             "#9c179e"
            ],
            [
             0.4444444444444444,
             "#bd3786"
            ],
            [
             0.5555555555555556,
             "#d8576b"
            ],
            [
             0.6666666666666666,
             "#ed7953"
            ],
            [
             0.7777777777777778,
             "#fb9f3a"
            ],
            [
             0.8888888888888888,
             "#fdca26"
            ],
            [
             1,
             "#f0f921"
            ]
           ],
           "sequentialminus": [
            [
             0,
             "#0d0887"
            ],
            [
             0.1111111111111111,
             "#46039f"
            ],
            [
             0.2222222222222222,
             "#7201a8"
            ],
            [
             0.3333333333333333,
             "#9c179e"
            ],
            [
             0.4444444444444444,
             "#bd3786"
            ],
            [
             0.5555555555555556,
             "#d8576b"
            ],
            [
             0.6666666666666666,
             "#ed7953"
            ],
            [
             0.7777777777777778,
             "#fb9f3a"
            ],
            [
             0.8888888888888888,
             "#fdca26"
            ],
            [
             1,
             "#f0f921"
            ]
           ]
          },
          "colorway": [
           "#636efa",
           "#EF553B",
           "#00cc96",
           "#ab63fa",
           "#FFA15A",
           "#19d3f3",
           "#FF6692",
           "#B6E880",
           "#FF97FF",
           "#FECB52"
          ],
          "font": {
           "color": "#2a3f5f"
          },
          "geo": {
           "bgcolor": "white",
           "lakecolor": "white",
           "landcolor": "#E5ECF6",
           "showlakes": true,
           "showland": true,
           "subunitcolor": "white"
          },
          "hoverlabel": {
           "align": "left"
          },
          "hovermode": "closest",
          "mapbox": {
           "style": "light"
          },
          "paper_bgcolor": "white",
          "plot_bgcolor": "#E5ECF6",
          "polar": {
           "angularaxis": {
            "gridcolor": "white",
            "linecolor": "white",
            "ticks": ""
           },
           "bgcolor": "#E5ECF6",
           "radialaxis": {
            "gridcolor": "white",
            "linecolor": "white",
            "ticks": ""
           }
          },
          "scene": {
           "xaxis": {
            "backgroundcolor": "#E5ECF6",
            "gridcolor": "white",
            "gridwidth": 2,
            "linecolor": "white",
            "showbackground": true,
            "ticks": "",
            "zerolinecolor": "white"
           },
           "yaxis": {
            "backgroundcolor": "#E5ECF6",
            "gridcolor": "white",
            "gridwidth": 2,
            "linecolor": "white",
            "showbackground": true,
            "ticks": "",
            "zerolinecolor": "white"
           },
           "zaxis": {
            "backgroundcolor": "#E5ECF6",
            "gridcolor": "white",
            "gridwidth": 2,
            "linecolor": "white",
            "showbackground": true,
            "ticks": "",
            "zerolinecolor": "white"
           }
          },
          "shapedefaults": {
           "line": {
            "color": "#2a3f5f"
           }
          },
          "ternary": {
           "aaxis": {
            "gridcolor": "white",
            "linecolor": "white",
            "ticks": ""
           },
           "baxis": {
            "gridcolor": "white",
            "linecolor": "white",
            "ticks": ""
           },
           "bgcolor": "#E5ECF6",
           "caxis": {
            "gridcolor": "white",
            "linecolor": "white",
            "ticks": ""
           }
          },
          "title": {
           "x": 0.05
          },
          "xaxis": {
           "automargin": true,
           "gridcolor": "white",
           "linecolor": "white",
           "ticks": "",
           "title": {
            "standoff": 15
           },
           "zerolinecolor": "white",
           "zerolinewidth": 2
          },
          "yaxis": {
           "automargin": true,
           "gridcolor": "white",
           "linecolor": "white",
           "ticks": "",
           "title": {
            "standoff": 15
           },
           "zerolinecolor": "white",
           "zerolinewidth": 2
          }
         }
        },
        "xaxis": {
         "anchor": "y",
         "autorange": true,
         "domain": [
          0,
          1
         ],
         "range": [
          1425084532502290400,
          1440862539867287600
         ],
         "title": {
          "text": "retweeted_tweet_id"
         },
         "type": "linear"
        },
        "yaxis": {
         "anchor": "x",
         "autorange": true,
         "domain": [
          0,
          1
         ],
         "range": [
          0,
          4676.8421052631575
         ],
         "title": {
          "text": "delta_engagement"
         },
         "type": "linear"
        }
       }
      },
      "image/png": "[encoded data removed]",
      "text/html": [
       "<div>                            <div id=\"adf0cc66-2dd7-49a2-a8a7-6fbad7b4e5e8\" class=\"plotly-graph-div\" style=\"height:525px; width:100%;\"></div>            <script type=\"text/javascript\">                require([\"plotly\"], function(Plotly) {                    window.PLOTLYENV=window.PLOTLYENV || {};                                    if (document.getElementById(\"adf0cc66-2dd7-49a2-a8a7-6fbad7b4e5e8\")) {                    Plotly.newPlot(                        \"adf0cc66-2dd7-49a2-a8a7-6fbad7b4e5e8\",                        [{\"alignmentgroup\":\"True\",\"hovertemplate\":\"retweeted_tweet_id=%{x}<br>delta_engagement=%{y}<extra></extra>\",\"legendgroup\":\"\",\"marker\":{\"color\":\"#636efa\",\"pattern\":{\"shape\":\"\"}},\"name\":\"\",\"offsetgroup\":\"\",\"orientation\":\"v\",\"showlegend\":false,\"textposition\":\"auto\",\"type\":\"bar\",\"x\":[1425644918920208384,1430151046886612992,1437582428579581952,1438703201415418112,1440302153449369600],\"xaxis\":\"x\",\"y\":[4443,2143,964,1097,1005],\"yaxis\":\"y\"}],                        {\"barmode\":\"relative\",\"legend\":{\"tracegroupgap\":0},\"margin\":{\"t\":60},\"template\":{\"data\":{\"bar\":[{\"error_x\":{\"color\":\"#2a3f5f\"},\"error_y\":{\"color\":\"#2a3f5f\"},\"marker\":{\"line\":{\"color\":\"#E5ECF6\",\"width\":0.5},\"pattern\":{\"fillmode\":\"overlay\",\"size\":10,\"solidity\":0.2}},\"type\":\"bar\"}],\"barpolar\":[{\"marker\":{\"line\":{\"color\":\"#E5ECF6\",\"width\":0.5},\"pattern\":{\"fillmode\":\"overlay\",\"size\":10,\"solidity\":0.2}},\"type\":\"barpolar\"}],\"carpet\":[{\"aaxis\":{\"endlinecolor\":\"#2a3f5f\",\"gridcolor\":\"white\",\"linecolor\":\"white\",\"minorgridcolor\":\"white\",\"startlinecolor\":\"#2a3f5f\"},\"baxis\":{\"endlinecolor\":\"#2a3f5f\",\"gridcolor\":\"white\",\"linecolor\":\"white\",\"minorgridcolor\":\"white\",\"startlinecolor\":\"#2a3f5f\"},\"type\":\"carpet\"}],\"choropleth\":[{\"colorbar\":{\"outlinewidth\":0,\"ticks\":\"\"},\"type\":\"choropleth\"}],\"contour\":[{\"colorbar\":{\"outlinewidth\":0,\"ticks\":\"\"},\"colorscale\":[[0.0,\"#0d0887\"],[0.1111111111111111,\"#46039f\"],[0.2222222222222222,\"#7201a8\"],[0.3333333333333333,\"#9c179e\"],[0.4444444444444444,\"#bd3786\"],[0.5555555555555556,\"#d8576b\"],[0.6666666666666666,\"#ed7953\"],[0.7777777777777778,\"#fb9f3a\"],[0.8888888888888888,\"#fdca26\"],[1.0,\"#f0f921\"]],\"type\":\"contour\"}],\"contourcarpet\":[{\"colorbar\":{\"outlinewidth\":0,\"ticks\":\"\"},\"type\":\"contourcarpet\"}],\"heatmap\":[{\"colorbar\":{\"outlinewidth\":0,\"ticks\":\"\"},\"colorscale\":[[0.0,\"#0d0887\"],[0.1111111111111111,\"#46039f\"],[0.2222222222222222,\"#7201a8\"],[0.3333333333333333,\"#9c179e\"],[0.4444444444444444,\"#bd3786\"],[0.5555555555555556,\"#d8576b\"],[0.6666666666666666,\"#ed7953\"],[0.7777777777777778,\"#fb9f3a\"],[0.8888888888888888,\"#fdca26\"],[1.0,\"#f0f921\"]],\"type\":\"heatmap\"}],\"heatmapgl\":[{\"colorbar\":{\"outlinewidth\":0,\"ticks\":\"\"},\"colorscale\":[[0.0,\"#0d0887\"],[0.1111111111111111,\"#46039f\"],[0.2222222222222222,\"#7201a8\"],[0.3333333333333333,\"#9c179e\"],[0.4444444444444444,\"#bd3786\"],[0.5555555555555556,\"#d8576b\"],[0.6666666666666666,\"#ed7953\"],[0.7777777777777778,\"#fb9f3a\"],[0.8888888888888888,\"#fdca26\"],[1.0,\"#f0f921\"]],\"type\":\"heatmapgl\"}],\"histogram\":[{\"marker\":{\"pattern\":{\"fillmode\":\"overlay\",\"size\":10,\"solidity\":0.2}},\"type\":\"histogram\"}],\"histogram2d\":[{\"colorbar\":{\"outlinewidth\":0,\"ticks\":\"\"},\"colorscale\":[[0.0,\"#0d0887\"],[0.1111111111111111,\"#46039f\"],[0.2222222222222222,\"#7201a8\"],[0.3333333333333333,\"#9c179e\"],[0.4444444444444444,\"#bd3786\"],[0.5555555555555556,\"#d8576b\"],[0.6666666666666666,\"#ed7953\"],[0.7777777777777778,\"#fb9f3a\"],[0.8888888888888888,\"#fdca26\"],[1.0,\"#f0f921\"]],\"type\":\"histogram2d\"}],\"histogram2dcontour\":[{\"colorbar\":{\"outlinewidth\":0,\"ticks\":\"\"},\"colorscale\":[[0.0,\"#0d0887\"],[0.1111111111111111,\"#46039f\"],[0.2222222222222222,\"#7201a8\"],[0.3333333333333333,\"#9c179e\"],[0.4444444444444444,\"#bd3786\"],[0.5555555555555556,\"#d8576b\"],[0.6666666666666666,\"#ed7953\"],[0.7777777777777778,\"#fb9f3a\"],[0.8888888888888888,\"#fdca26\"],[1.0,\"#f0f921\"]],\"type\":\"histogram2dcontour\"}],\"mesh3d\":[{\"colorbar\":{\"outlinewidth\":0,\"ticks\":\"\"},\"type\":\"mesh3d\"}],\"parcoords\":[{\"line\":{\"colorbar\":{\"outlinewidth\":0,\"ticks\":\"\"}},\"type\":\"parcoords\"}],\"pie\":[{\"automargin\":true,\"type\":\"pie\"}],\"scatter\":[{\"marker\":{\"colorbar\":{\"outlinewidth\":0,\"ticks\":\"\"}},\"type\":\"scatter\"}],\"scatter3d\":[{\"line\":{\"colorbar\":{\"outlinewidth\":0,\"ticks\":\"\"}},\"marker\":{\"colorbar\":{\"outlinewidth\":0,\"ticks\":\"\"}},\"type\":\"scatter3d\"}],\"scattercarpet\":[{\"marker\":{\"colorbar\":{\"outlinewidth\":0,\"ticks\":\"\"}},\"type\":\"scattercarpet\"}],\"scattergeo\":[{\"marker\":{\"colorbar\":{\"outlinewidth\":0,\"ticks\":\"\"}},\"type\":\"scattergeo\"}],\"scattergl\":[{\"marker\":{\"colorbar\":{\"outlinewidth\":0,\"ticks\":\"\"}},\"type\":\"scattergl\"}],\"scattermapbox\":[{\"marker\":{\"colorbar\":{\"outlinewidth\":0,\"ticks\":\"\"}},\"type\":\"scattermapbox\"}],\"scatterpolar\":[{\"marker\":{\"colorbar\":{\"outlinewidth\":0,\"ticks\":\"\"}},\"type\":\"scatterpolar\"}],\"scatterpolargl\":[{\"marker\":{\"colorbar\":{\"outlinewidth\":0,\"ticks\":\"\"}},\"type\":\"scatterpolargl\"}],\"scatterternary\":[{\"marker\":{\"colorbar\":{\"outlinewidth\":0,\"ticks\":\"\"}},\"type\":\"scatterternary\"}],\"surface\":[{\"colorbar\":{\"outlinewidth\":0,\"ticks\":\"\"},\"colorscale\":[[0.0,\"#0d0887\"],[0.1111111111111111,\"#46039f\"],[0.2222222222222222,\"#7201a8\"],[0.3333333333333333,\"#9c179e\"],[0.4444444444444444,\"#bd3786\"],[0.5555555555555556,\"#d8576b\"],[0.6666666666666666,\"#ed7953\"],[0.7777777777777778,\"#fb9f3a\"],[0.8888888888888888,\"#fdca26\"],[1.0,\"#f0f921\"]],\"type\":\"surface\"}],\"table\":[{\"cells\":{\"fill\":{\"color\":\"#EBF0F8\"},\"line\":{\"color\":\"white\"}},\"header\":{\"fill\":{\"color\":\"#C8D4E3\"},\"line\":{\"color\":\"white\"}},\"type\":\"table\"}]},\"layout\":{\"annotationdefaults\":{\"arrowcolor\":\"#2a3f5f\",\"arrowhead\":0,\"arrowwidth\":1},\"autotypenumbers\":\"strict\",\"coloraxis\":{\"colorbar\":{\"outlinewidth\":0,\"ticks\":\"\"}},\"colorscale\":{\"diverging\":[[0,\"#8e0152\"],[0.1,\"#c51b7d\"],[0.2,\"#de77ae\"],[0.3,\"#f1b6da\"],[0.4,\"#fde0ef\"],[0.5,\"#f7f7f7\"],[0.6,\"#e6f5d0\"],[0.7,\"#b8e186\"],[0.8,\"#7fbc41\"],[0.9,\"#4d9221\"],[1,\"#276419\"]],\"sequential\":[[0.0,\"#0d0887\"],[0.1111111111111111,\"#46039f\"],[0.2222222222222222,\"#7201a8\"],[0.3333333333333333,\"#9c179e\"],[0.4444444444444444,\"#bd3786\"],[0.5555555555555556,\"#d8576b\"],[0.6666666666666666,\"#ed7953\"],[0.7777777777777778,\"#fb9f3a\"],[0.8888888888888888,\"#fdca26\"],[1.0,\"#f0f921\"]],\"sequentialminus\":[[0.0,\"#0d0887\"],[0.1111111111111111,\"#46039f\"],[0.2222222222222222,\"#7201a8\"],[0.3333333333333333,\"#9c179e\"],[0.4444444444444444,\"#bd3786\"],[0.5555555555555556,\"#d8576b\"],[0.6666666666666666,\"#ed7953\"],[0.7777777777777778,\"#fb9f3a\"],[0.8888888888888888,\"#fdca26\"],[1.0,\"#f0f921\"]]},\"colorway\":[\"#636efa\",\"#EF553B\",\"#00cc96\",\"#ab63fa\",\"#FFA15A\",\"#19d3f3\",\"#FF6692\",\"#B6E880\",\"#FF97FF\",\"#FECB52\"],\"font\":{\"color\":\"#2a3f5f\"},\"geo\":{\"bgcolor\":\"white\",\"lakecolor\":\"white\",\"landcolor\":\"#E5ECF6\",\"showlakes\":true,\"showland\":true,\"subunitcolor\":\"white\"},\"hoverlabel\":{\"align\":\"left\"},\"hovermode\":\"closest\",\"mapbox\":{\"style\":\"light\"},\"paper_bgcolor\":\"white\",\"plot_bgcolor\":\"#E5ECF6\",\"polar\":{\"angularaxis\":{\"gridcolor\":\"white\",\"linecolor\":\"white\",\"ticks\":\"\"},\"bgcolor\":\"#E5ECF6\",\"radialaxis\":{\"gridcolor\":\"white\",\"linecolor\":\"white\",\"ticks\":\"\"}},\"scene\":{\"xaxis\":{\"backgroundcolor\":\"#E5ECF6\",\"gridcolor\":\"white\",\"gridwidth\":2,\"linecolor\":\"white\",\"showbackground\":true,\"ticks\":\"\",\"zerolinecolor\":\"white\"},\"yaxis\":{\"backgroundcolor\":\"#E5ECF6\",\"gridcolor\":\"white\",\"gridwidth\":2,\"linecolor\":\"white\",\"showbackground\":true,\"ticks\":\"\",\"zerolinecolor\":\"white\"},\"zaxis\":{\"backgroundcolor\":\"#E5ECF6\",\"gridcolor\":\"white\",\"gridwidth\":2,\"linecolor\":\"white\",\"showbackground\":true,\"ticks\":\"\",\"zerolinecolor\":\"white\"}},\"shapedefaults\":{\"line\":{\"color\":\"#2a3f5f\"}},\"ternary\":{\"aaxis\":{\"gridcolor\":\"white\",\"linecolor\":\"white\",\"ticks\":\"\"},\"baxis\":{\"gridcolor\":\"white\",\"linecolor\":\"white\",\"ticks\":\"\"},\"bgcolor\":\"#E5ECF6\",\"caxis\":{\"gridcolor\":\"white\",\"linecolor\":\"white\",\"ticks\":\"\"}},\"title\":{\"x\":0.05},\"xaxis\":{\"automargin\":true,\"gridcolor\":\"white\",\"linecolor\":\"white\",\"ticks\":\"\",\"title\":{\"standoff\":15},\"zerolinecolor\":\"white\",\"zerolinewidth\":2},\"yaxis\":{\"automargin\":true,\"gridcolor\":\"white\",\"linecolor\":\"white\",\"ticks\":\"\",\"title\":{\"standoff\":15},\"zerolinecolor\":\"white\",\"zerolinewidth\":2}}},\"xaxis\":{\"anchor\":\"y\",\"domain\":[0.0,1.0],\"title\":{\"text\":\"retweeted_tweet_id\"}},\"yaxis\":{\"anchor\":\"x\",\"domain\":[0.0,1.0],\"title\":{\"text\":\"delta_engagement\"}}},                        {\"responsive\": true}                    ).then(function(){\n",
       "                            \n",
       "var gd = document.getElementById('adf0cc66-2dd7-49a2-a8a7-6fbad7b4e5e8');\n",
       "var x = new MutationObserver(function (mutations, observer) {{\n",
       "        var display = window.getComputedStyle(gd).display;\n",
       "        if (!display || display === 'none') {{\n",
       "            console.log([gd, 'removed!']);\n",
       "            Plotly.purge(gd);\n",
       "            observer.disconnect();\n",
       "        }}\n",
       "}});\n",
       "\n",
       "// Listen for the removal of the full notebook cells\n",
       "var notebookContainer = gd.closest('#notebook-container');\n",
       "if (notebookContainer) {{\n",
       "    x.observe(notebookContainer, {childList: true});\n",
       "}}\n",
       "\n",
       "// Listen for the clearing of the current output cell\n",
       "var outputEl = gd.closest('.output');\n",
       "if (outputEl) {{\n",
       "    x.observe(outputEl, {childList: true});\n",
       "}}\n",
       "\n",
       "                        })                };                });            </script>        </div>"
      ]
     },
     "metadata": {},
     "output_type": "display_data"
    }
   ],
   "source": [
    "t = spike_['delta_engagement']\n",
    "sub_spike_2 = t.quantile(.98)\n",
    "print(\"quantile\", sub_spike_2)\n",
    "sub_spike = spike_[spike_['delta_engagement'] > sub_spike_2]\n",
    "print(\"sub_spike.shape\", sub_spike.shape)\n",
    "print(sub_spike.describe())\n",
    "fig = px.bar(sub_spike, y=\"delta_engagement\")\n",
    "fig.show()"
   ]
  },
  {
   "cell_type": "code",
   "execution_count": 49,
   "id": "b481c213-86b1-4821-ad79-e27e858d03c0",
   "metadata": {},
   "outputs": [],
   "source": [
    "# c_pos_local_retweet[['local_count']] = c_pos_local_retweet[['local_count']].astype(int)\n",
    "# sub_c_pos_local_retweet = c_pos_local_retweet[c_pos_local_retweet['local_count'] > 10]\n",
    "# fig = px.box(sub_c_pos_local_retweet, y=\"local_count\")\n",
    "# fig.show()"
   ]
  },
  {
   "cell_type": "code",
   "execution_count": 211,
   "id": "08d2fc14-25b7-4560-bfa6-03016d7b48de",
   "metadata": {},
   "outputs": [],
   "source": [
    "viral_pos_local_rts['tweet_text_'] = [re.sub(\"RT @[A-Z_a-z_0-9:]+\",\"\", txt).strip() for txt in viral_pos_local_rts['tweet_text'] ]\n",
    "\n",
    "details_viral_pos_local_rts = viral_pos_local_rts[['tweet_text_', 'tweet_date', 'tweet_sentiment', 'retweeted_user_screenname', 'total_engagement',\n",
    "                                                   'retweeted_user_verified', 'retweeted_tweet_id']] \\\n",
    "                                                .groupby('retweeted_tweet_id') \\\n",
    "                                                .apply(pd.DataFrame.sort_values, 'total_engagement') \\\n",
    "                                                .reset_index(drop=True).groupby('retweeted_tweet_id').last().reset_index()\n",
    "\n",
    "\n",
    "details_viral_pos_local_rts = details_viral_pos_local_rts.loc[:, ~details_viral_pos_local_rts.columns.str.contains('^Unnamed')]\n",
    "\n",
    "details_viral_pos_local_rts\n",
    "\n",
    "\n",
    "# details_viral_pos_local_rts.index.name = 'index'\n",
    "\n",
    "k = px.colors.qualitative.Pastel[:details_viral_pos_local_rts.shape[0]]\n",
    "details_viral_pos_local_rts['color'] = k\n",
    "\n",
    "\n",
    "pd.DataFrame.to_csv(details_viral_pos_local_rts, '../data/output/rts/local/pos_local_rts_info.csv')"
   ]
  },
  {
   "cell_type": "markdown",
   "id": "35e78168-f87d-4591-b3e5-a96f53c6ab59",
   "metadata": {},
   "source": [
    "## 5. Viral global retweets: Global news feed <a id=\"cell5\"></a>\n",
    "\n",
    "Viral global retweets:Tweets created between MIN_DATE and MAX_DATE that are (1) by Non-Singapore geocoded accounts (2) highly retweeted by count or (3) received an unusual number of endorsements - retweets and favorites"
   ]
  },
  {
   "cell_type": "code",
   "execution_count": 110,
   "id": "d0aff669-3c75-4c35-a75d-06adcc94226a",
   "metadata": {},
   "outputs": [],
   "source": [
    "neg_global_retweet = tweet_enagagement_retweet[(tweet_enagagement_retweet['tweet_sentiment'] == 'negative') & \\\n",
    "                                                    (tweet_enagagement_retweet['retweeted_user_geo_coding'] !=  COUNTRY) & \\\n",
    "                                                    (tweet_enagagement_retweet['retweeted_tweet_date'].between(MIN_DATE, MAX_DATE, inclusive=True))]\n",
    "\n",
    "pos_global_retweet = tweet_enagagement_retweet[(tweet_enagagement_retweet['tweet_sentiment'] == 'positive') & \\\n",
    "                                                    (tweet_enagagement_retweet['retweeted_user_geo_coding'] !=  COUNTRY) & \\\n",
    "                                                    (tweet_enagagement_retweet['retweeted_tweet_date'].between(MIN_DATE, MAX_DATE, inclusive=True))]\n",
    "\n",
    "all_global_retweet = tweet_enagagement_retweet[(tweet_enagagement_retweet['retweeted_user_geo_coding'] !=  COUNTRY) & \\\n",
    "                                               (tweet_enagagement_retweet['retweeted_tweet_date'].between(MIN_DATE, MAX_DATE, inclusive=True))]"
   ]
  },
  {
   "cell_type": "markdown",
   "id": "3270e9a9-e74f-4588-8e46-077b8e13970d",
   "metadata": {},
   "source": [
    "### 5.1. Viral global retweets with negative sentiment <a id=\"cell51\"></a>"
   ]
  },
  {
   "cell_type": "code",
   "execution_count": 115,
   "id": "e9dd84a8-0786-44bd-b96b-ee021a30f3a3",
   "metadata": {},
   "outputs": [],
   "source": [
    "# count of RTs\n",
    "SPIKE_THRESHOLD = 240000 # TODO: Find a threshold using stats (like from outliers)\n",
    "\n",
    "c_neg_global_retweet = neg_global_retweet.value_counts(subset=['retweeted_tweet_id']) \\\n",
    "                        .reset_index(name='global_count').sort_values('global_count', ascending=False)\n",
    "\n",
    "# top RTs by count\n",
    "neg_global_rtids_by_count = list(c_neg_global_retweet[:TOP_RTS_POS_NEG]['retweeted_tweet_id'])\n",
    "\n",
    "# top RTs by spike in engagements\n",
    "grouped_sorted_date = neg_global_retweet.groupby(['retweeted_tweet_id', 'tweet_date']).apply(pd.DataFrame.sort_values, 'tweet_date').reset_index(drop=True)\n",
    "max_grouped_sorted_date = grouped_sorted_date.groupby(['retweeted_tweet_id', 'tweet_date'])['total_engagement'].max().reset_index()\n",
    "max_grouped_sorted_date['delta_engagement'] = max_grouped_sorted_date.groupby(['retweeted_tweet_id'])['total_engagement'].diff().fillna(0).astype(int)\n",
    "spike_ = max_grouped_sorted_date.groupby('retweeted_tweet_id').nth(1)\n",
    "spike = list(spike_[spike_['delta_engagement'] > SPIKE_THRESHOLD].reset_index()['retweeted_tweet_id'])\n",
    "\n",
    "# get viral RTs by count and spiky engagements\n",
    "viral_neg_global_rts = neg_global_retweet[neg_global_retweet['retweeted_tweet_id'].isin(set(neg_global_rtids_by_count + spike))]\n",
    "\n",
    "# get data for delta and cumulative graphs\n",
    "grouped_sorted_date = viral_neg_global_rts.groupby(['retweeted_tweet_id', 'tweet_date', 'retweeted_user_screenname']).apply(pd.DataFrame.sort_values, 'tweet_date').reset_index(drop=True)\n",
    "max_grouped_sorted_date = grouped_sorted_date.groupby(['retweeted_tweet_id', 'tweet_date', 'retweeted_user_screenname'])['total_engagement'].max().reset_index()\n",
    "max_grouped_sorted_date['delta_engagement'] = max_grouped_sorted_date.groupby(['retweeted_tweet_id'])['total_engagement'].diff().fillna(0).astype(int)\n",
    "\n",
    "pd.DataFrame.to_csv(max_grouped_sorted_date, '../data/output/rts/global/neg_global_rts_trend.csv')"
   ]
  },
  {
   "cell_type": "code",
   "execution_count": 116,
   "id": "75030aa9-7e6a-41b4-ae0c-fb995008a3a9",
   "metadata": {},
   "outputs": [
    {
     "name": "stdout",
     "output_type": "stream",
     "text": [
      "quantile 87422.51999999996\n",
      "sub_spike.shape (10, 3)\n",
      "       total_engagement  delta_engagement\n",
      "count         10.000000         10.000000\n",
      "mean      260923.700000     135514.700000\n",
      "std       122922.190009      42114.479326\n",
      "min        96988.000000      90881.000000\n",
      "25%       179418.250000     102511.750000\n",
      "50%       254212.000000     121175.000000\n",
      "75%       301147.750000     169337.500000\n",
      "max       478264.000000     211428.000000\n"
     ]
    },
    {
     "data": {
      "application/vnd.plotly.v1+json": {
       "config": {
        "plotlyServerURL": "https://plot.ly"
       },
       "data": [
        {
         "alignmentgroup": "True",
         "hovertemplate": "retweeted_tweet_id=%{x}<br>delta_engagement=%{y}<extra></extra>",
         "legendgroup": "",
         "marker": {
          "color": "#636efa",
          "pattern": {
           "shape": ""
          }
         },
         "name": "",
         "offsetgroup": "",
         "orientation": "v",
         "showlegend": false,
         "textposition": "auto",
         "type": "bar",
         "x": [
          1423994472526979000,
          1425474232167796700,
          1425621156112052200,
          1426331257659592700,
          1426863428564668400,
          1430264566013911000,
          1436158174252318700,
          1436507765091053600,
          1438867142628102000,
          1439680123645665300
         ],
         "xaxis": "x",
         "y": [
          101269,
          152866,
          180276,
          174828,
          95009,
          211428,
          109433,
          106240,
          90881,
          132917
         ],
         "yaxis": "y"
        }
       ],
       "layout": {
        "autosize": true,
        "barmode": "relative",
        "legend": {
         "tracegroupgap": 0
        },
        "margin": {
         "t": 60
        },
        "template": {
         "data": {
          "bar": [
           {
            "error_x": {
             "color": "#2a3f5f"
            },
            "error_y": {
             "color": "#2a3f5f"
            },
            "marker": {
             "line": {
              "color": "#E5ECF6",
              "width": 0.5
             },
             "pattern": {
              "fillmode": "overlay",
              "size": 10,
              "solidity": 0.2
             }
            },
            "type": "bar"
           }
          ],
          "barpolar": [
           {
            "marker": {
             "line": {
              "color": "#E5ECF6",
              "width": 0.5
             },
             "pattern": {
              "fillmode": "overlay",
              "size": 10,
              "solidity": 0.2
             }
            },
            "type": "barpolar"
           }
          ],
          "carpet": [
           {
            "aaxis": {
             "endlinecolor": "#2a3f5f",
             "gridcolor": "white",
             "linecolor": "white",
             "minorgridcolor": "white",
             "startlinecolor": "#2a3f5f"
            },
            "baxis": {
             "endlinecolor": "#2a3f5f",
             "gridcolor": "white",
             "linecolor": "white",
             "minorgridcolor": "white",
             "startlinecolor": "#2a3f5f"
            },
            "type": "carpet"
           }
          ],
          "choropleth": [
           {
            "colorbar": {
             "outlinewidth": 0,
             "ticks": ""
            },
            "type": "choropleth"
           }
          ],
          "contour": [
           {
            "colorbar": {
             "outlinewidth": 0,
             "ticks": ""
            },
            "colorscale": [
             [
              0,
              "#0d0887"
             ],
             [
              0.1111111111111111,
              "#46039f"
             ],
             [
              0.2222222222222222,
              "#7201a8"
             ],
             [
              0.3333333333333333,
              "#9c179e"
             ],
             [
              0.4444444444444444,
              "#bd3786"
             ],
             [
              0.5555555555555556,
              "#d8576b"
             ],
             [
              0.6666666666666666,
              "#ed7953"
             ],
             [
              0.7777777777777778,
              "#fb9f3a"
             ],
             [
              0.8888888888888888,
              "#fdca26"
             ],
             [
              1,
              "#f0f921"
             ]
            ],
            "type": "contour"
           }
          ],
          "contourcarpet": [
           {
            "colorbar": {
             "outlinewidth": 0,
             "ticks": ""
            },
            "type": "contourcarpet"
           }
          ],
          "heatmap": [
           {
            "colorbar": {
             "outlinewidth": 0,
             "ticks": ""
            },
            "colorscale": [
             [
              0,
              "#0d0887"
             ],
             [
              0.1111111111111111,
              "#46039f"
             ],
             [
              0.2222222222222222,
              "#7201a8"
             ],
             [
              0.3333333333333333,
              "#9c179e"
             ],
             [
              0.4444444444444444,
              "#bd3786"
             ],
             [
              0.5555555555555556,
              "#d8576b"
             ],
             [
              0.6666666666666666,
              "#ed7953"
             ],
             [
              0.7777777777777778,
              "#fb9f3a"
             ],
             [
              0.8888888888888888,
              "#fdca26"
             ],
             [
              1,
              "#f0f921"
             ]
            ],
            "type": "heatmap"
           }
          ],
          "heatmapgl": [
           {
            "colorbar": {
             "outlinewidth": 0,
             "ticks": ""
            },
            "colorscale": [
             [
              0,
              "#0d0887"
             ],
             [
              0.1111111111111111,
              "#46039f"
             ],
             [
              0.2222222222222222,
              "#7201a8"
             ],
             [
              0.3333333333333333,
              "#9c179e"
             ],
             [
              0.4444444444444444,
              "#bd3786"
             ],
             [
              0.5555555555555556,
              "#d8576b"
             ],
             [
              0.6666666666666666,
              "#ed7953"
             ],
             [
              0.7777777777777778,
              "#fb9f3a"
             ],
             [
              0.8888888888888888,
              "#fdca26"
             ],
             [
              1,
              "#f0f921"
             ]
            ],
            "type": "heatmapgl"
           }
          ],
          "histogram": [
           {
            "marker": {
             "pattern": {
              "fillmode": "overlay",
              "size": 10,
              "solidity": 0.2
             }
            },
            "type": "histogram"
           }
          ],
          "histogram2d": [
           {
            "colorbar": {
             "outlinewidth": 0,
             "ticks": ""
            },
            "colorscale": [
             [
              0,
              "#0d0887"
             ],
             [
              0.1111111111111111,
              "#46039f"
             ],
             [
              0.2222222222222222,
              "#7201a8"
             ],
             [
              0.3333333333333333,
              "#9c179e"
             ],
             [
              0.4444444444444444,
              "#bd3786"
             ],
             [
              0.5555555555555556,
              "#d8576b"
             ],
             [
              0.6666666666666666,
              "#ed7953"
             ],
             [
              0.7777777777777778,
              "#fb9f3a"
             ],
             [
              0.8888888888888888,
              "#fdca26"
             ],
             [
              1,
              "#f0f921"
             ]
            ],
            "type": "histogram2d"
           }
          ],
          "histogram2dcontour": [
           {
            "colorbar": {
             "outlinewidth": 0,
             "ticks": ""
            },
            "colorscale": [
             [
              0,
              "#0d0887"
             ],
             [
              0.1111111111111111,
              "#46039f"
             ],
             [
              0.2222222222222222,
              "#7201a8"
             ],
             [
              0.3333333333333333,
              "#9c179e"
             ],
             [
              0.4444444444444444,
              "#bd3786"
             ],
             [
              0.5555555555555556,
              "#d8576b"
             ],
             [
              0.6666666666666666,
              "#ed7953"
             ],
             [
              0.7777777777777778,
              "#fb9f3a"
             ],
             [
              0.8888888888888888,
              "#fdca26"
             ],
             [
              1,
              "#f0f921"
             ]
            ],
            "type": "histogram2dcontour"
           }
          ],
          "mesh3d": [
           {
            "colorbar": {
             "outlinewidth": 0,
             "ticks": ""
            },
            "type": "mesh3d"
           }
          ],
          "parcoords": [
           {
            "line": {
             "colorbar": {
              "outlinewidth": 0,
              "ticks": ""
             }
            },
            "type": "parcoords"
           }
          ],
          "pie": [
           {
            "automargin": true,
            "type": "pie"
           }
          ],
          "scatter": [
           {
            "marker": {
             "colorbar": {
              "outlinewidth": 0,
              "ticks": ""
             }
            },
            "type": "scatter"
           }
          ],
          "scatter3d": [
           {
            "line": {
             "colorbar": {
              "outlinewidth": 0,
              "ticks": ""
             }
            },
            "marker": {
             "colorbar": {
              "outlinewidth": 0,
              "ticks": ""
             }
            },
            "type": "scatter3d"
           }
          ],
          "scattercarpet": [
           {
            "marker": {
             "colorbar": {
              "outlinewidth": 0,
              "ticks": ""
             }
            },
            "type": "scattercarpet"
           }
          ],
          "scattergeo": [
           {
            "marker": {
             "colorbar": {
              "outlinewidth": 0,
              "ticks": ""
             }
            },
            "type": "scattergeo"
           }
          ],
          "scattergl": [
           {
            "marker": {
             "colorbar": {
              "outlinewidth": 0,
              "ticks": ""
             }
            },
            "type": "scattergl"
           }
          ],
          "scattermapbox": [
           {
            "marker": {
             "colorbar": {
              "outlinewidth": 0,
              "ticks": ""
             }
            },
            "type": "scattermapbox"
           }
          ],
          "scatterpolar": [
           {
            "marker": {
             "colorbar": {
              "outlinewidth": 0,
              "ticks": ""
             }
            },
            "type": "scatterpolar"
           }
          ],
          "scatterpolargl": [
           {
            "marker": {
             "colorbar": {
              "outlinewidth": 0,
              "ticks": ""
             }
            },
            "type": "scatterpolargl"
           }
          ],
          "scatterternary": [
           {
            "marker": {
             "colorbar": {
              "outlinewidth": 0,
              "ticks": ""
             }
            },
            "type": "scatterternary"
           }
          ],
          "surface": [
           {
            "colorbar": {
             "outlinewidth": 0,
             "ticks": ""
            },
            "colorscale": [
             [
              0,
              "#0d0887"
             ],
             [
              0.1111111111111111,
              "#46039f"
             ],
             [
              0.2222222222222222,
              "#7201a8"
             ],
             [
              0.3333333333333333,
              "#9c179e"
             ],
             [
              0.4444444444444444,
              "#bd3786"
             ],
             [
              0.5555555555555556,
              "#d8576b"
             ],
             [
              0.6666666666666666,
              "#ed7953"
             ],
             [
              0.7777777777777778,
              "#fb9f3a"
             ],
             [
              0.8888888888888888,
              "#fdca26"
             ],
             [
              1,
              "#f0f921"
             ]
            ],
            "type": "surface"
           }
          ],
          "table": [
           {
            "cells": {
             "fill": {
              "color": "#EBF0F8"
             },
             "line": {
              "color": "white"
             }
            },
            "header": {
             "fill": {
              "color": "#C8D4E3"
             },
             "line": {
              "color": "white"
             }
            },
            "type": "table"
           }
          ]
         },
         "layout": {
          "annotationdefaults": {
           "arrowcolor": "#2a3f5f",
           "arrowhead": 0,
           "arrowwidth": 1
          },
          "autotypenumbers": "strict",
          "coloraxis": {
           "colorbar": {
            "outlinewidth": 0,
            "ticks": ""
           }
          },
          "colorscale": {
           "diverging": [
            [
             0,
             "#8e0152"
            ],
            [
             0.1,
             "#c51b7d"
            ],
            [
             0.2,
             "#de77ae"
            ],
            [
             0.3,
             "#f1b6da"
            ],
            [
             0.4,
             "#fde0ef"
            ],
            [
             0.5,
             "#f7f7f7"
            ],
            [
             0.6,
             "#e6f5d0"
            ],
            [
             0.7,
             "#b8e186"
            ],
            [
             0.8,
             "#7fbc41"
            ],
            [
             0.9,
             "#4d9221"
            ],
            [
             1,
             "#276419"
            ]
           ],
           "sequential": [
            [
             0,
             "#0d0887"
            ],
            [
             0.1111111111111111,
             "#46039f"
            ],
            [
             0.2222222222222222,
             "#7201a8"
            ],
            [
             0.3333333333333333,
             "#9c179e"
            ],
            [
             0.4444444444444444,
             "#bd3786"
            ],
            [
             0.5555555555555556,
             "#d8576b"
            ],
            [
             0.6666666666666666,
             "#ed7953"
            ],
            [
             0.7777777777777778,
             "#fb9f3a"
            ],
            [
             0.8888888888888888,
             "#fdca26"
            ],
            [
             1,
             "#f0f921"
            ]
           ],
           "sequentialminus": [
            [
             0,
             "#0d0887"
            ],
            [
             0.1111111111111111,
             "#46039f"
            ],
            [
             0.2222222222222222,
             "#7201a8"
            ],
            [
             0.3333333333333333,
             "#9c179e"
            ],
            [
             0.4444444444444444,
             "#bd3786"
            ],
            [
             0.5555555555555556,
             "#d8576b"
            ],
            [
             0.6666666666666666,
             "#ed7953"
            ],
            [
             0.7777777777777778,
             "#fb9f3a"
            ],
            [
             0.8888888888888888,
             "#fdca26"
            ],
            [
             1,
             "#f0f921"
            ]
           ]
          },
          "colorway": [
           "#636efa",
           "#EF553B",
           "#00cc96",
           "#ab63fa",
           "#FFA15A",
           "#19d3f3",
           "#FF6692",
           "#B6E880",
           "#FF97FF",
           "#FECB52"
          ],
          "font": {
           "color": "#2a3f5f"
          },
          "geo": {
           "bgcolor": "white",
           "lakecolor": "white",
           "landcolor": "#E5ECF6",
           "showlakes": true,
           "showland": true,
           "subunitcolor": "white"
          },
          "hoverlabel": {
           "align": "left"
          },
          "hovermode": "closest",
          "mapbox": {
           "style": "light"
          },
          "paper_bgcolor": "white",
          "plot_bgcolor": "#E5ECF6",
          "polar": {
           "angularaxis": {
            "gridcolor": "white",
            "linecolor": "white",
            "ticks": ""
           },
           "bgcolor": "#E5ECF6",
           "radialaxis": {
            "gridcolor": "white",
            "linecolor": "white",
            "ticks": ""
           }
          },
          "scene": {
           "xaxis": {
            "backgroundcolor": "#E5ECF6",
            "gridcolor": "white",
            "gridwidth": 2,
            "linecolor": "white",
            "showbackground": true,
            "ticks": "",
            "zerolinecolor": "white"
           },
           "yaxis": {
            "backgroundcolor": "#E5ECF6",
            "gridcolor": "white",
            "gridwidth": 2,
            "linecolor": "white",
            "showbackground": true,
            "ticks": "",
            "zerolinecolor": "white"
           },
           "zaxis": {
            "backgroundcolor": "#E5ECF6",
            "gridcolor": "white",
            "gridwidth": 2,
            "linecolor": "white",
            "showbackground": true,
            "ticks": "",
            "zerolinecolor": "white"
           }
          },
          "shapedefaults": {
           "line": {
            "color": "#2a3f5f"
           }
          },
          "ternary": {
           "aaxis": {
            "gridcolor": "white",
            "linecolor": "white",
            "ticks": ""
           },
           "baxis": {
            "gridcolor": "white",
            "linecolor": "white",
            "ticks": ""
           },
           "bgcolor": "#E5ECF6",
           "caxis": {
            "gridcolor": "white",
            "linecolor": "white",
            "ticks": ""
           }
          },
          "title": {
           "x": 0.05
          },
          "xaxis": {
           "automargin": true,
           "gridcolor": "white",
           "linecolor": "white",
           "ticks": "",
           "title": {
            "standoff": 15
           },
           "zerolinecolor": "white",
           "zerolinewidth": 2
          },
          "yaxis": {
           "automargin": true,
           "gridcolor": "white",
           "linecolor": "white",
           "ticks": "",
           "title": {
            "standoff": 15
           },
           "zerolinecolor": "white",
           "zerolinewidth": 2
          }
         }
        },
        "xaxis": {
         "anchor": "y",
         "autorange": true,
         "domain": [
          0,
          1
         ],
         "range": [
          1423921010554851300,
          1439753585617793000
         ],
         "title": {
          "text": "retweeted_tweet_id"
         },
         "type": "linear"
        },
        "yaxis": {
         "anchor": "x",
         "autorange": true,
         "domain": [
          0,
          1
         ],
         "range": [
          0,
          222555.7894736842
         ],
         "title": {
          "text": "delta_engagement"
         },
         "type": "linear"
        }
       }
      },
      "image/png": "[encoded data removed]",
      "text/html": [
       "<div>                            <div id=\"4212b1dd-55b6-47ad-847c-84499932efaa\" class=\"plotly-graph-div\" style=\"height:525px; width:100%;\"></div>            <script type=\"text/javascript\">                require([\"plotly\"], function(Plotly) {                    window.PLOTLYENV=window.PLOTLYENV || {};                                    if (document.getElementById(\"4212b1dd-55b6-47ad-847c-84499932efaa\")) {                    Plotly.newPlot(                        \"4212b1dd-55b6-47ad-847c-84499932efaa\",                        [{\"alignmentgroup\":\"True\",\"hovertemplate\":\"retweeted_tweet_id=%{x}<br>delta_engagement=%{y}<extra></extra>\",\"legendgroup\":\"\",\"marker\":{\"color\":\"#636efa\",\"pattern\":{\"shape\":\"\"}},\"name\":\"\",\"offsetgroup\":\"\",\"orientation\":\"v\",\"showlegend\":false,\"textposition\":\"auto\",\"type\":\"bar\",\"x\":[1423994472526979072,1425474232167796736,1425621156112052224,1426331257659592704,1426863428564668416,1430264566013911040,1436158174252318720,1436507765091053568,1438867142628101888,1439680123645665280],\"xaxis\":\"x\",\"y\":[101269,152866,180276,174828,95009,211428,109433,106240,90881,132917],\"yaxis\":\"y\"}],                        {\"barmode\":\"relative\",\"legend\":{\"tracegroupgap\":0},\"margin\":{\"t\":60},\"template\":{\"data\":{\"bar\":[{\"error_x\":{\"color\":\"#2a3f5f\"},\"error_y\":{\"color\":\"#2a3f5f\"},\"marker\":{\"line\":{\"color\":\"#E5ECF6\",\"width\":0.5},\"pattern\":{\"fillmode\":\"overlay\",\"size\":10,\"solidity\":0.2}},\"type\":\"bar\"}],\"barpolar\":[{\"marker\":{\"line\":{\"color\":\"#E5ECF6\",\"width\":0.5},\"pattern\":{\"fillmode\":\"overlay\",\"size\":10,\"solidity\":0.2}},\"type\":\"barpolar\"}],\"carpet\":[{\"aaxis\":{\"endlinecolor\":\"#2a3f5f\",\"gridcolor\":\"white\",\"linecolor\":\"white\",\"minorgridcolor\":\"white\",\"startlinecolor\":\"#2a3f5f\"},\"baxis\":{\"endlinecolor\":\"#2a3f5f\",\"gridcolor\":\"white\",\"linecolor\":\"white\",\"minorgridcolor\":\"white\",\"startlinecolor\":\"#2a3f5f\"},\"type\":\"carpet\"}],\"choropleth\":[{\"colorbar\":{\"outlinewidth\":0,\"ticks\":\"\"},\"type\":\"choropleth\"}],\"contour\":[{\"colorbar\":{\"outlinewidth\":0,\"ticks\":\"\"},\"colorscale\":[[0.0,\"#0d0887\"],[0.1111111111111111,\"#46039f\"],[0.2222222222222222,\"#7201a8\"],[0.3333333333333333,\"#9c179e\"],[0.4444444444444444,\"#bd3786\"],[0.5555555555555556,\"#d8576b\"],[0.6666666666666666,\"#ed7953\"],[0.7777777777777778,\"#fb9f3a\"],[0.8888888888888888,\"#fdca26\"],[1.0,\"#f0f921\"]],\"type\":\"contour\"}],\"contourcarpet\":[{\"colorbar\":{\"outlinewidth\":0,\"ticks\":\"\"},\"type\":\"contourcarpet\"}],\"heatmap\":[{\"colorbar\":{\"outlinewidth\":0,\"ticks\":\"\"},\"colorscale\":[[0.0,\"#0d0887\"],[0.1111111111111111,\"#46039f\"],[0.2222222222222222,\"#7201a8\"],[0.3333333333333333,\"#9c179e\"],[0.4444444444444444,\"#bd3786\"],[0.5555555555555556,\"#d8576b\"],[0.6666666666666666,\"#ed7953\"],[0.7777777777777778,\"#fb9f3a\"],[0.8888888888888888,\"#fdca26\"],[1.0,\"#f0f921\"]],\"type\":\"heatmap\"}],\"heatmapgl\":[{\"colorbar\":{\"outlinewidth\":0,\"ticks\":\"\"},\"colorscale\":[[0.0,\"#0d0887\"],[0.1111111111111111,\"#46039f\"],[0.2222222222222222,\"#7201a8\"],[0.3333333333333333,\"#9c179e\"],[0.4444444444444444,\"#bd3786\"],[0.5555555555555556,\"#d8576b\"],[0.6666666666666666,\"#ed7953\"],[0.7777777777777778,\"#fb9f3a\"],[0.8888888888888888,\"#fdca26\"],[1.0,\"#f0f921\"]],\"type\":\"heatmapgl\"}],\"histogram\":[{\"marker\":{\"pattern\":{\"fillmode\":\"overlay\",\"size\":10,\"solidity\":0.2}},\"type\":\"histogram\"}],\"histogram2d\":[{\"colorbar\":{\"outlinewidth\":0,\"ticks\":\"\"},\"colorscale\":[[0.0,\"#0d0887\"],[0.1111111111111111,\"#46039f\"],[0.2222222222222222,\"#7201a8\"],[0.3333333333333333,\"#9c179e\"],[0.4444444444444444,\"#bd3786\"],[0.5555555555555556,\"#d8576b\"],[0.6666666666666666,\"#ed7953\"],[0.7777777777777778,\"#fb9f3a\"],[0.8888888888888888,\"#fdca26\"],[1.0,\"#f0f921\"]],\"type\":\"histogram2d\"}],\"histogram2dcontour\":[{\"colorbar\":{\"outlinewidth\":0,\"ticks\":\"\"},\"colorscale\":[[0.0,\"#0d0887\"],[0.1111111111111111,\"#46039f\"],[0.2222222222222222,\"#7201a8\"],[0.3333333333333333,\"#9c179e\"],[0.4444444444444444,\"#bd3786\"],[0.5555555555555556,\"#d8576b\"],[0.6666666666666666,\"#ed7953\"],[0.7777777777777778,\"#fb9f3a\"],[0.8888888888888888,\"#fdca26\"],[1.0,\"#f0f921\"]],\"type\":\"histogram2dcontour\"}],\"mesh3d\":[{\"colorbar\":{\"outlinewidth\":0,\"ticks\":\"\"},\"type\":\"mesh3d\"}],\"parcoords\":[{\"line\":{\"colorbar\":{\"outlinewidth\":0,\"ticks\":\"\"}},\"type\":\"parcoords\"}],\"pie\":[{\"automargin\":true,\"type\":\"pie\"}],\"scatter\":[{\"marker\":{\"colorbar\":{\"outlinewidth\":0,\"ticks\":\"\"}},\"type\":\"scatter\"}],\"scatter3d\":[{\"line\":{\"colorbar\":{\"outlinewidth\":0,\"ticks\":\"\"}},\"marker\":{\"colorbar\":{\"outlinewidth\":0,\"ticks\":\"\"}},\"type\":\"scatter3d\"}],\"scattercarpet\":[{\"marker\":{\"colorbar\":{\"outlinewidth\":0,\"ticks\":\"\"}},\"type\":\"scattercarpet\"}],\"scattergeo\":[{\"marker\":{\"colorbar\":{\"outlinewidth\":0,\"ticks\":\"\"}},\"type\":\"scattergeo\"}],\"scattergl\":[{\"marker\":{\"colorbar\":{\"outlinewidth\":0,\"ticks\":\"\"}},\"type\":\"scattergl\"}],\"scattermapbox\":[{\"marker\":{\"colorbar\":{\"outlinewidth\":0,\"ticks\":\"\"}},\"type\":\"scattermapbox\"}],\"scatterpolar\":[{\"marker\":{\"colorbar\":{\"outlinewidth\":0,\"ticks\":\"\"}},\"type\":\"scatterpolar\"}],\"scatterpolargl\":[{\"marker\":{\"colorbar\":{\"outlinewidth\":0,\"ticks\":\"\"}},\"type\":\"scatterpolargl\"}],\"scatterternary\":[{\"marker\":{\"colorbar\":{\"outlinewidth\":0,\"ticks\":\"\"}},\"type\":\"scatterternary\"}],\"surface\":[{\"colorbar\":{\"outlinewidth\":0,\"ticks\":\"\"},\"colorscale\":[[0.0,\"#0d0887\"],[0.1111111111111111,\"#46039f\"],[0.2222222222222222,\"#7201a8\"],[0.3333333333333333,\"#9c179e\"],[0.4444444444444444,\"#bd3786\"],[0.5555555555555556,\"#d8576b\"],[0.6666666666666666,\"#ed7953\"],[0.7777777777777778,\"#fb9f3a\"],[0.8888888888888888,\"#fdca26\"],[1.0,\"#f0f921\"]],\"type\":\"surface\"}],\"table\":[{\"cells\":{\"fill\":{\"color\":\"#EBF0F8\"},\"line\":{\"color\":\"white\"}},\"header\":{\"fill\":{\"color\":\"#C8D4E3\"},\"line\":{\"color\":\"white\"}},\"type\":\"table\"}]},\"layout\":{\"annotationdefaults\":{\"arrowcolor\":\"#2a3f5f\",\"arrowhead\":0,\"arrowwidth\":1},\"autotypenumbers\":\"strict\",\"coloraxis\":{\"colorbar\":{\"outlinewidth\":0,\"ticks\":\"\"}},\"colorscale\":{\"diverging\":[[0,\"#8e0152\"],[0.1,\"#c51b7d\"],[0.2,\"#de77ae\"],[0.3,\"#f1b6da\"],[0.4,\"#fde0ef\"],[0.5,\"#f7f7f7\"],[0.6,\"#e6f5d0\"],[0.7,\"#b8e186\"],[0.8,\"#7fbc41\"],[0.9,\"#4d9221\"],[1,\"#276419\"]],\"sequential\":[[0.0,\"#0d0887\"],[0.1111111111111111,\"#46039f\"],[0.2222222222222222,\"#7201a8\"],[0.3333333333333333,\"#9c179e\"],[0.4444444444444444,\"#bd3786\"],[0.5555555555555556,\"#d8576b\"],[0.6666666666666666,\"#ed7953\"],[0.7777777777777778,\"#fb9f3a\"],[0.8888888888888888,\"#fdca26\"],[1.0,\"#f0f921\"]],\"sequentialminus\":[[0.0,\"#0d0887\"],[0.1111111111111111,\"#46039f\"],[0.2222222222222222,\"#7201a8\"],[0.3333333333333333,\"#9c179e\"],[0.4444444444444444,\"#bd3786\"],[0.5555555555555556,\"#d8576b\"],[0.6666666666666666,\"#ed7953\"],[0.7777777777777778,\"#fb9f3a\"],[0.8888888888888888,\"#fdca26\"],[1.0,\"#f0f921\"]]},\"colorway\":[\"#636efa\",\"#EF553B\",\"#00cc96\",\"#ab63fa\",\"#FFA15A\",\"#19d3f3\",\"#FF6692\",\"#B6E880\",\"#FF97FF\",\"#FECB52\"],\"font\":{\"color\":\"#2a3f5f\"},\"geo\":{\"bgcolor\":\"white\",\"lakecolor\":\"white\",\"landcolor\":\"#E5ECF6\",\"showlakes\":true,\"showland\":true,\"subunitcolor\":\"white\"},\"hoverlabel\":{\"align\":\"left\"},\"hovermode\":\"closest\",\"mapbox\":{\"style\":\"light\"},\"paper_bgcolor\":\"white\",\"plot_bgcolor\":\"#E5ECF6\",\"polar\":{\"angularaxis\":{\"gridcolor\":\"white\",\"linecolor\":\"white\",\"ticks\":\"\"},\"bgcolor\":\"#E5ECF6\",\"radialaxis\":{\"gridcolor\":\"white\",\"linecolor\":\"white\",\"ticks\":\"\"}},\"scene\":{\"xaxis\":{\"backgroundcolor\":\"#E5ECF6\",\"gridcolor\":\"white\",\"gridwidth\":2,\"linecolor\":\"white\",\"showbackground\":true,\"ticks\":\"\",\"zerolinecolor\":\"white\"},\"yaxis\":{\"backgroundcolor\":\"#E5ECF6\",\"gridcolor\":\"white\",\"gridwidth\":2,\"linecolor\":\"white\",\"showbackground\":true,\"ticks\":\"\",\"zerolinecolor\":\"white\"},\"zaxis\":{\"backgroundcolor\":\"#E5ECF6\",\"gridcolor\":\"white\",\"gridwidth\":2,\"linecolor\":\"white\",\"showbackground\":true,\"ticks\":\"\",\"zerolinecolor\":\"white\"}},\"shapedefaults\":{\"line\":{\"color\":\"#2a3f5f\"}},\"ternary\":{\"aaxis\":{\"gridcolor\":\"white\",\"linecolor\":\"white\",\"ticks\":\"\"},\"baxis\":{\"gridcolor\":\"white\",\"linecolor\":\"white\",\"ticks\":\"\"},\"bgcolor\":\"#E5ECF6\",\"caxis\":{\"gridcolor\":\"white\",\"linecolor\":\"white\",\"ticks\":\"\"}},\"title\":{\"x\":0.05},\"xaxis\":{\"automargin\":true,\"gridcolor\":\"white\",\"linecolor\":\"white\",\"ticks\":\"\",\"title\":{\"standoff\":15},\"zerolinecolor\":\"white\",\"zerolinewidth\":2},\"yaxis\":{\"automargin\":true,\"gridcolor\":\"white\",\"linecolor\":\"white\",\"ticks\":\"\",\"title\":{\"standoff\":15},\"zerolinecolor\":\"white\",\"zerolinewidth\":2}}},\"xaxis\":{\"anchor\":\"y\",\"domain\":[0.0,1.0],\"title\":{\"text\":\"retweeted_tweet_id\"}},\"yaxis\":{\"anchor\":\"x\",\"domain\":[0.0,1.0],\"title\":{\"text\":\"delta_engagement\"}}},                        {\"responsive\": true}                    ).then(function(){\n",
       "                            \n",
       "var gd = document.getElementById('4212b1dd-55b6-47ad-847c-84499932efaa');\n",
       "var x = new MutationObserver(function (mutations, observer) {{\n",
       "        var display = window.getComputedStyle(gd).display;\n",
       "        if (!display || display === 'none') {{\n",
       "            console.log([gd, 'removed!']);\n",
       "            Plotly.purge(gd);\n",
       "            observer.disconnect();\n",
       "        }}\n",
       "}});\n",
       "\n",
       "// Listen for the removal of the full notebook cells\n",
       "var notebookContainer = gd.closest('#notebook-container');\n",
       "if (notebookContainer) {{\n",
       "    x.observe(notebookContainer, {childList: true});\n",
       "}}\n",
       "\n",
       "// Listen for the clearing of the current output cell\n",
       "var outputEl = gd.closest('.output');\n",
       "if (outputEl) {{\n",
       "    x.observe(outputEl, {childList: true});\n",
       "}}\n",
       "\n",
       "                        })                };                });            </script>        </div>"
      ]
     },
     "metadata": {},
     "output_type": "display_data"
    }
   ],
   "source": [
    "t = spike_['delta_engagement']\n",
    "sub_spike_2 = t.quantile(.98)\n",
    "print(\"quantile\", sub_spike_2)\n",
    "sub_spike = spike_[spike_['delta_engagement'] > sub_spike_2]\n",
    "print(\"sub_spike.shape\", sub_spike.shape)\n",
    "print(sub_spike.describe())\n",
    "fig = px.bar(sub_spike, y=\"delta_engagement\")\n",
    "fig.show()"
   ]
  },
  {
   "cell_type": "code",
   "execution_count": 214,
   "id": "7ffb8497-fda8-4fd4-84f6-559713d0555d",
   "metadata": {},
   "outputs": [],
   "source": [
    "viral_neg_global_rts['tweet_text_'] = [re.sub(\"RT @[A-Z_a-z_0-9:]+\",\"\", txt).strip() for txt in viral_neg_global_rts['tweet_text'] ]\n",
    "\n",
    "details_viral_neg_global_rts = viral_neg_global_rts[['tweet_text_', 'tweet_date', 'tweet_sentiment','retweeted_user_screenname', 'total_engagement',\n",
    "                                                   'retweeted_user_verified', 'retweeted_tweet_id']] \\\n",
    "                                                .groupby('retweeted_tweet_id') \\\n",
    "                                                .apply(pd.DataFrame.sort_values, 'total_engagement') \\\n",
    "                                                .reset_index(drop=True).groupby('retweeted_tweet_id').last().reset_index()\n",
    "\n",
    "\n",
    "details_viral_neg_global_rts = details_viral_neg_global_rts.loc[:, ~details_viral_neg_global_rts.columns.str.contains('^Unnamed')]\n",
    "k = px.colors.qualitative.Pastel[:details_viral_neg_global_rts.shape[0]]\n",
    "\n",
    "details_viral_neg_global_rts['color'] = k\n",
    "\n",
    "pd.DataFrame.to_csv(details_viral_neg_global_rts, '../data/output/rts/global/neg_global_rts_info.csv')"
   ]
  },
  {
   "cell_type": "markdown",
   "id": "f455b5a7-39bb-4410-b436-c3149c406488",
   "metadata": {},
   "source": [
    "### 5.2. Viral global retweets with positive sentiment <a id=\"cell52\"></a>"
   ]
  },
  {
   "cell_type": "code",
   "execution_count": 117,
   "id": "9be95830-a06f-4a01-bef2-bf156ae14c29",
   "metadata": {},
   "outputs": [],
   "source": [
    "# count of RTs\n",
    "SPIKE_THRESHOLD = 280000 # TODO: Find a threshold using stats (like from outliers)\n",
    "\n",
    "c_pos_global_retweet = pos_global_retweet.value_counts(subset=['retweeted_tweet_id']) \\\n",
    "                        .reset_index(name='global_count').sort_values('global_count', ascending=False)\n",
    "\n",
    "# top RTs by count\n",
    "pos_global_rtids_by_count = list(c_pos_global_retweet[:TOP_RTS_POS_NEG]['retweeted_tweet_id'])\n",
    "\n",
    "# top RTs by spike in engagements\n",
    "grouped_sorted_date = pos_global_retweet.groupby(['retweeted_tweet_id', 'tweet_date']).apply(pd.DataFrame.sort_values, 'tweet_date').reset_index(drop=True)\n",
    "max_grouped_sorted_date = grouped_sorted_date.groupby(['retweeted_tweet_id', 'tweet_date'])['total_engagement'].max().reset_index()\n",
    "max_grouped_sorted_date['delta_engagement'] = max_grouped_sorted_date.groupby(['retweeted_tweet_id'])['total_engagement'].diff().fillna(0).astype(int)\n",
    "spike_ = max_grouped_sorted_date.groupby('retweeted_tweet_id').nth(1)\n",
    "spike = list(spike_[spike_['delta_engagement'] > SPIKE_THRESHOLD].reset_index()['retweeted_tweet_id'])\n",
    "\n",
    "# get viral RTs by count and spiky engagements\n",
    "viral_pos_global_rts = pos_global_retweet[pos_global_retweet['retweeted_tweet_id'].isin(set(pos_global_rtids_by_count + spike))]\n",
    "\n",
    "# get data for delta and cumulative graphs\n",
    "grouped_sorted_date = viral_pos_global_rts.groupby(['retweeted_tweet_id', 'tweet_date', 'retweeted_user_screenname']).apply(pd.DataFrame.sort_values, 'tweet_date').reset_index(drop=True)\n",
    "max_grouped_sorted_date = grouped_sorted_date.groupby(['retweeted_tweet_id', 'tweet_date', 'retweeted_user_screenname'])['total_engagement'].max().reset_index()\n",
    "max_grouped_sorted_date['delta_engagement'] = max_grouped_sorted_date.groupby(['retweeted_tweet_id'])['total_engagement'].diff().fillna(0).astype(int)\n",
    "\n",
    "pd.DataFrame.to_csv(max_grouped_sorted_date, '../data/output/rts/global/pos_global_rts_trend.csv')"
   ]
  },
  {
   "cell_type": "code",
   "execution_count": 118,
   "id": "02b0b969-3d27-407e-a25c-a36384e2391e",
   "metadata": {},
   "outputs": [
    {
     "name": "stdout",
     "output_type": "stream",
     "text": [
      "quantile 106560.27999999996\n",
      "sub_spike.shape (13, 3)\n",
      "       total_engagement  delta_engagement\n",
      "count         13.000000         13.000000\n",
      "mean      275269.538462     165792.076923\n",
      "std       115784.795665      60295.265133\n",
      "min       113891.000000     110466.000000\n",
      "25%       175035.000000     121274.000000\n",
      "50%       279969.000000     129446.000000\n",
      "75%       339695.000000     217940.000000\n",
      "max       445093.000000     281020.000000\n"
     ]
    },
    {
     "data": {
      "application/vnd.plotly.v1+json": {
       "config": {
        "plotlyServerURL": "https://plot.ly"
       },
       "data": [
        {
         "alignmentgroup": "True",
         "hovertemplate": "retweeted_tweet_id=%{x}<br>delta_engagement=%{y}<extra></extra>",
         "legendgroup": "",
         "marker": {
          "color": "#636efa",
          "pattern": {
           "shape": ""
          }
         },
         "name": "",
         "offsetgroup": "",
         "orientation": "v",
         "showlegend": false,
         "textposition": "auto",
         "type": "bar",
         "x": [
          1422920033597116400,
          1423027044212830200,
          1424416621683150800,
          1425267281202909200,
          1425282056154718200,
          1426566836028645400,
          1428040593825927200,
          1428336682756096000,
          1428505566821892000,
          1429914079192354800,
          1430640456933720000,
          1435693932667617300,
          1437538520923443200
         ],
         "xaxis": "x",
         "y": [
          122671,
          123572,
          221301,
          121274,
          112854,
          115255,
          247065,
          281020,
          110466,
          129446,
          141842,
          217940,
          210591
         ],
         "yaxis": "y"
        }
       ],
       "layout": {
        "autosize": true,
        "barmode": "relative",
        "legend": {
         "tracegroupgap": 0
        },
        "margin": {
         "t": 60
        },
        "template": {
         "data": {
          "bar": [
           {
            "error_x": {
             "color": "#2a3f5f"
            },
            "error_y": {
             "color": "#2a3f5f"
            },
            "marker": {
             "line": {
              "color": "#E5ECF6",
              "width": 0.5
             },
             "pattern": {
              "fillmode": "overlay",
              "size": 10,
              "solidity": 0.2
             }
            },
            "type": "bar"
           }
          ],
          "barpolar": [
           {
            "marker": {
             "line": {
              "color": "#E5ECF6",
              "width": 0.5
             },
             "pattern": {
              "fillmode": "overlay",
              "size": 10,
              "solidity": 0.2
             }
            },
            "type": "barpolar"
           }
          ],
          "carpet": [
           {
            "aaxis": {
             "endlinecolor": "#2a3f5f",
             "gridcolor": "white",
             "linecolor": "white",
             "minorgridcolor": "white",
             "startlinecolor": "#2a3f5f"
            },
            "baxis": {
             "endlinecolor": "#2a3f5f",
             "gridcolor": "white",
             "linecolor": "white",
             "minorgridcolor": "white",
             "startlinecolor": "#2a3f5f"
            },
            "type": "carpet"
           }
          ],
          "choropleth": [
           {
            "colorbar": {
             "outlinewidth": 0,
             "ticks": ""
            },
            "type": "choropleth"
           }
          ],
          "contour": [
           {
            "colorbar": {
             "outlinewidth": 0,
             "ticks": ""
            },
            "colorscale": [
             [
              0,
              "#0d0887"
             ],
             [
              0.1111111111111111,
              "#46039f"
             ],
             [
              0.2222222222222222,
              "#7201a8"
             ],
             [
              0.3333333333333333,
              "#9c179e"
             ],
             [
              0.4444444444444444,
              "#bd3786"
             ],
             [
              0.5555555555555556,
              "#d8576b"
             ],
             [
              0.6666666666666666,
              "#ed7953"
             ],
             [
              0.7777777777777778,
              "#fb9f3a"
             ],
             [
              0.8888888888888888,
              "#fdca26"
             ],
             [
              1,
              "#f0f921"
             ]
            ],
            "type": "contour"
           }
          ],
          "contourcarpet": [
           {
            "colorbar": {
             "outlinewidth": 0,
             "ticks": ""
            },
            "type": "contourcarpet"
           }
          ],
          "heatmap": [
           {
            "colorbar": {
             "outlinewidth": 0,
             "ticks": ""
            },
            "colorscale": [
             [
              0,
              "#0d0887"
             ],
             [
              0.1111111111111111,
              "#46039f"
             ],
             [
              0.2222222222222222,
              "#7201a8"
             ],
             [
              0.3333333333333333,
              "#9c179e"
             ],
             [
              0.4444444444444444,
              "#bd3786"
             ],
             [
              0.5555555555555556,
              "#d8576b"
             ],
             [
              0.6666666666666666,
              "#ed7953"
             ],
             [
              0.7777777777777778,
              "#fb9f3a"
             ],
             [
              0.8888888888888888,
              "#fdca26"
             ],
             [
              1,
              "#f0f921"
             ]
            ],
            "type": "heatmap"
           }
          ],
          "heatmapgl": [
           {
            "colorbar": {
             "outlinewidth": 0,
             "ticks": ""
            },
            "colorscale": [
             [
              0,
              "#0d0887"
             ],
             [
              0.1111111111111111,
              "#46039f"
             ],
             [
              0.2222222222222222,
              "#7201a8"
             ],
             [
              0.3333333333333333,
              "#9c179e"
             ],
             [
              0.4444444444444444,
              "#bd3786"
             ],
             [
              0.5555555555555556,
              "#d8576b"
             ],
             [
              0.6666666666666666,
              "#ed7953"
             ],
             [
              0.7777777777777778,
              "#fb9f3a"
             ],
             [
              0.8888888888888888,
              "#fdca26"
             ],
             [
              1,
              "#f0f921"
             ]
            ],
            "type": "heatmapgl"
           }
          ],
          "histogram": [
           {
            "marker": {
             "pattern": {
              "fillmode": "overlay",
              "size": 10,
              "solidity": 0.2
             }
            },
            "type": "histogram"
           }
          ],
          "histogram2d": [
           {
            "colorbar": {
             "outlinewidth": 0,
             "ticks": ""
            },
            "colorscale": [
             [
              0,
              "#0d0887"
             ],
             [
              0.1111111111111111,
              "#46039f"
             ],
             [
              0.2222222222222222,
              "#7201a8"
             ],
             [
              0.3333333333333333,
              "#9c179e"
             ],
             [
              0.4444444444444444,
              "#bd3786"
             ],
             [
              0.5555555555555556,
              "#d8576b"
             ],
             [
              0.6666666666666666,
              "#ed7953"
             ],
             [
              0.7777777777777778,
              "#fb9f3a"
             ],
             [
              0.8888888888888888,
              "#fdca26"
             ],
             [
              1,
              "#f0f921"
             ]
            ],
            "type": "histogram2d"
           }
          ],
          "histogram2dcontour": [
           {
            "colorbar": {
             "outlinewidth": 0,
             "ticks": ""
            },
            "colorscale": [
             [
              0,
              "#0d0887"
             ],
             [
              0.1111111111111111,
              "#46039f"
             ],
             [
              0.2222222222222222,
              "#7201a8"
             ],
             [
              0.3333333333333333,
              "#9c179e"
             ],
             [
              0.4444444444444444,
              "#bd3786"
             ],
             [
              0.5555555555555556,
              "#d8576b"
             ],
             [
              0.6666666666666666,
              "#ed7953"
             ],
             [
              0.7777777777777778,
              "#fb9f3a"
             ],
             [
              0.8888888888888888,
              "#fdca26"
             ],
             [
              1,
              "#f0f921"
             ]
            ],
            "type": "histogram2dcontour"
           }
          ],
          "mesh3d": [
           {
            "colorbar": {
             "outlinewidth": 0,
             "ticks": ""
            },
            "type": "mesh3d"
           }
          ],
          "parcoords": [
           {
            "line": {
             "colorbar": {
              "outlinewidth": 0,
              "ticks": ""
             }
            },
            "type": "parcoords"
           }
          ],
          "pie": [
           {
            "automargin": true,
            "type": "pie"
           }
          ],
          "scatter": [
           {
            "marker": {
             "colorbar": {
              "outlinewidth": 0,
              "ticks": ""
             }
            },
            "type": "scatter"
           }
          ],
          "scatter3d": [
           {
            "line": {
             "colorbar": {
              "outlinewidth": 0,
              "ticks": ""
             }
            },
            "marker": {
             "colorbar": {
              "outlinewidth": 0,
              "ticks": ""
             }
            },
            "type": "scatter3d"
           }
          ],
          "scattercarpet": [
           {
            "marker": {
             "colorbar": {
              "outlinewidth": 0,
              "ticks": ""
             }
            },
            "type": "scattercarpet"
           }
          ],
          "scattergeo": [
           {
            "marker": {
             "colorbar": {
              "outlinewidth": 0,
              "ticks": ""
             }
            },
            "type": "scattergeo"
           }
          ],
          "scattergl": [
           {
            "marker": {
             "colorbar": {
              "outlinewidth": 0,
              "ticks": ""
             }
            },
            "type": "scattergl"
           }
          ],
          "scattermapbox": [
           {
            "marker": {
             "colorbar": {
              "outlinewidth": 0,
              "ticks": ""
             }
            },
            "type": "scattermapbox"
           }
          ],
          "scatterpolar": [
           {
            "marker": {
             "colorbar": {
              "outlinewidth": 0,
              "ticks": ""
             }
            },
            "type": "scatterpolar"
           }
          ],
          "scatterpolargl": [
           {
            "marker": {
             "colorbar": {
              "outlinewidth": 0,
              "ticks": ""
             }
            },
            "type": "scatterpolargl"
           }
          ],
          "scatterternary": [
           {
            "marker": {
             "colorbar": {
              "outlinewidth": 0,
              "ticks": ""
             }
            },
            "type": "scatterternary"
           }
          ],
          "surface": [
           {
            "colorbar": {
             "outlinewidth": 0,
             "ticks": ""
            },
            "colorscale": [
             [
              0,
              "#0d0887"
             ],
             [
              0.1111111111111111,
              "#46039f"
             ],
             [
              0.2222222222222222,
              "#7201a8"
             ],
             [
              0.3333333333333333,
              "#9c179e"
             ],
             [
              0.4444444444444444,
              "#bd3786"
             ],
             [
              0.5555555555555556,
              "#d8576b"
             ],
             [
              0.6666666666666666,
              "#ed7953"
             ],
             [
              0.7777777777777778,
              "#fb9f3a"
             ],
             [
              0.8888888888888888,
              "#fdca26"
             ],
             [
              1,
              "#f0f921"
             ]
            ],
            "type": "surface"
           }
          ],
          "table": [
           {
            "cells": {
             "fill": {
              "color": "#EBF0F8"
             },
             "line": {
              "color": "white"
             }
            },
            "header": {
             "fill": {
              "color": "#C8D4E3"
             },
             "line": {
              "color": "white"
             }
            },
            "type": "table"
           }
          ]
         },
         "layout": {
          "annotationdefaults": {
           "arrowcolor": "#2a3f5f",
           "arrowhead": 0,
           "arrowwidth": 1
          },
          "autotypenumbers": "strict",
          "coloraxis": {
           "colorbar": {
            "outlinewidth": 0,
            "ticks": ""
           }
          },
          "colorscale": {
           "diverging": [
            [
             0,
             "#8e0152"
            ],
            [
             0.1,
             "#c51b7d"
            ],
            [
             0.2,
             "#de77ae"
            ],
            [
             0.3,
             "#f1b6da"
            ],
            [
             0.4,
             "#fde0ef"
            ],
            [
             0.5,
             "#f7f7f7"
            ],
            [
             0.6,
             "#e6f5d0"
            ],
            [
             0.7,
             "#b8e186"
            ],
            [
             0.8,
             "#7fbc41"
            ],
            [
             0.9,
             "#4d9221"
            ],
            [
             1,
             "#276419"
            ]
           ],
           "sequential": [
            [
             0,
             "#0d0887"
            ],
            [
             0.1111111111111111,
             "#46039f"
            ],
            [
             0.2222222222222222,
             "#7201a8"
            ],
            [
             0.3333333333333333,
             "#9c179e"
            ],
            [
             0.4444444444444444,
             "#bd3786"
            ],
            [
             0.5555555555555556,
             "#d8576b"
            ],
            [
             0.6666666666666666,
             "#ed7953"
            ],
            [
             0.7777777777777778,
             "#fb9f3a"
            ],
            [
             0.8888888888888888,
             "#fdca26"
            ],
            [
             1,
             "#f0f921"
            ]
           ],
           "sequentialminus": [
            [
             0,
             "#0d0887"
            ],
            [
             0.1111111111111111,
             "#46039f"
            ],
            [
             0.2222222222222222,
             "#7201a8"
            ],
            [
             0.3333333333333333,
             "#9c179e"
            ],
            [
             0.4444444444444444,
             "#bd3786"
            ],
            [
             0.5555555555555556,
             "#d8576b"
            ],
            [
             0.6666666666666666,
             "#ed7953"
            ],
            [
             0.7777777777777778,
             "#fb9f3a"
            ],
            [
             0.8888888888888888,
             "#fdca26"
            ],
            [
             1,
             "#f0f921"
            ]
           ]
          },
          "colorway": [
           "#636efa",
           "#EF553B",
           "#00cc96",
           "#ab63fa",
           "#FFA15A",
           "#19d3f3",
           "#FF6692",
           "#B6E880",
           "#FF97FF",
           "#FECB52"
          ],
          "font": {
           "color": "#2a3f5f"
          },
          "geo": {
           "bgcolor": "white",
           "lakecolor": "white",
           "landcolor": "#E5ECF6",
           "showlakes": true,
           "showland": true,
           "subunitcolor": "white"
          },
          "hoverlabel": {
           "align": "left"
          },
          "hovermode": "closest",
          "mapbox": {
           "style": "light"
          },
          "paper_bgcolor": "white",
          "plot_bgcolor": "#E5ECF6",
          "polar": {
           "angularaxis": {
            "gridcolor": "white",
            "linecolor": "white",
            "ticks": ""
           },
           "bgcolor": "#E5ECF6",
           "radialaxis": {
            "gridcolor": "white",
            "linecolor": "white",
            "ticks": ""
           }
          },
          "scene": {
           "xaxis": {
            "backgroundcolor": "#E5ECF6",
            "gridcolor": "white",
            "gridwidth": 2,
            "linecolor": "white",
            "showbackground": true,
            "ticks": "",
            "zerolinecolor": "white"
           },
           "yaxis": {
            "backgroundcolor": "#E5ECF6",
            "gridcolor": "white",
            "gridwidth": 2,
            "linecolor": "white",
            "showbackground": true,
            "ticks": "",
            "zerolinecolor": "white"
           },
           "zaxis": {
            "backgroundcolor": "#E5ECF6",
            "gridcolor": "white",
            "gridwidth": 2,
            "linecolor": "white",
            "showbackground": true,
            "ticks": "",
            "zerolinecolor": "white"
           }
          },
          "shapedefaults": {
           "line": {
            "color": "#2a3f5f"
           }
          },
          "ternary": {
           "aaxis": {
            "gridcolor": "white",
            "linecolor": "white",
            "ticks": ""
           },
           "baxis": {
            "gridcolor": "white",
            "linecolor": "white",
            "ticks": ""
           },
           "bgcolor": "#E5ECF6",
           "caxis": {
            "gridcolor": "white",
            "linecolor": "white",
            "ticks": ""
           }
          },
          "title": {
           "x": 0.05
          },
          "xaxis": {
           "automargin": true,
           "gridcolor": "white",
           "linecolor": "white",
           "ticks": "",
           "title": {
            "standoff": 15
           },
           "zerolinecolor": "white",
           "zerolinewidth": 2
          },
          "yaxis": {
           "automargin": true,
           "gridcolor": "white",
           "linecolor": "white",
           "ticks": "",
           "title": {
            "standoff": 15
           },
           "zerolinecolor": "white",
           "zerolinewidth": 2
          }
         }
        },
        "xaxis": {
         "anchor": "y",
         "autorange": true,
         "domain": [
          0,
          1
         ],
         "range": [
          1422912646121212000,
          1437545908399347700
         ],
         "title": {
          "text": "retweeted_tweet_id"
         },
         "type": "linear"
        },
        "yaxis": {
         "anchor": "x",
         "autorange": true,
         "domain": [
          0,
          1
         ],
         "range": [
          0,
          295810.5263157895
         ],
         "title": {
          "text": "delta_engagement"
         },
         "type": "linear"
        }
       }
      },
      "image/png": "[encoded data removed]",
      "text/html": [
       "<div>                            <div id=\"377b5f94-417d-4b2a-9658-ef80c5fc02ed\" class=\"plotly-graph-div\" style=\"height:525px; width:100%;\"></div>            <script type=\"text/javascript\">                require([\"plotly\"], function(Plotly) {                    window.PLOTLYENV=window.PLOTLYENV || {};                                    if (document.getElementById(\"377b5f94-417d-4b2a-9658-ef80c5fc02ed\")) {                    Plotly.newPlot(                        \"377b5f94-417d-4b2a-9658-ef80c5fc02ed\",                        [{\"alignmentgroup\":\"True\",\"hovertemplate\":\"retweeted_tweet_id=%{x}<br>delta_engagement=%{y}<extra></extra>\",\"legendgroup\":\"\",\"marker\":{\"color\":\"#636efa\",\"pattern\":{\"shape\":\"\"}},\"name\":\"\",\"offsetgroup\":\"\",\"orientation\":\"v\",\"showlegend\":false,\"textposition\":\"auto\",\"type\":\"bar\",\"x\":[1422920033597116416,1423027044212830208,1424416621683150848,1425267281202909184,1425282056154718208,1426566836028645376,1428040593825927168,1428336682756096000,1428505566821892096,1429914079192354816,1430640456933720064,1435693932667617280,1437538520923443200],\"xaxis\":\"x\",\"y\":[122671,123572,221301,121274,112854,115255,247065,281020,110466,129446,141842,217940,210591],\"yaxis\":\"y\"}],                        {\"barmode\":\"relative\",\"legend\":{\"tracegroupgap\":0},\"margin\":{\"t\":60},\"template\":{\"data\":{\"bar\":[{\"error_x\":{\"color\":\"#2a3f5f\"},\"error_y\":{\"color\":\"#2a3f5f\"},\"marker\":{\"line\":{\"color\":\"#E5ECF6\",\"width\":0.5},\"pattern\":{\"fillmode\":\"overlay\",\"size\":10,\"solidity\":0.2}},\"type\":\"bar\"}],\"barpolar\":[{\"marker\":{\"line\":{\"color\":\"#E5ECF6\",\"width\":0.5},\"pattern\":{\"fillmode\":\"overlay\",\"size\":10,\"solidity\":0.2}},\"type\":\"barpolar\"}],\"carpet\":[{\"aaxis\":{\"endlinecolor\":\"#2a3f5f\",\"gridcolor\":\"white\",\"linecolor\":\"white\",\"minorgridcolor\":\"white\",\"startlinecolor\":\"#2a3f5f\"},\"baxis\":{\"endlinecolor\":\"#2a3f5f\",\"gridcolor\":\"white\",\"linecolor\":\"white\",\"minorgridcolor\":\"white\",\"startlinecolor\":\"#2a3f5f\"},\"type\":\"carpet\"}],\"choropleth\":[{\"colorbar\":{\"outlinewidth\":0,\"ticks\":\"\"},\"type\":\"choropleth\"}],\"contour\":[{\"colorbar\":{\"outlinewidth\":0,\"ticks\":\"\"},\"colorscale\":[[0.0,\"#0d0887\"],[0.1111111111111111,\"#46039f\"],[0.2222222222222222,\"#7201a8\"],[0.3333333333333333,\"#9c179e\"],[0.4444444444444444,\"#bd3786\"],[0.5555555555555556,\"#d8576b\"],[0.6666666666666666,\"#ed7953\"],[0.7777777777777778,\"#fb9f3a\"],[0.8888888888888888,\"#fdca26\"],[1.0,\"#f0f921\"]],\"type\":\"contour\"}],\"contourcarpet\":[{\"colorbar\":{\"outlinewidth\":0,\"ticks\":\"\"},\"type\":\"contourcarpet\"}],\"heatmap\":[{\"colorbar\":{\"outlinewidth\":0,\"ticks\":\"\"},\"colorscale\":[[0.0,\"#0d0887\"],[0.1111111111111111,\"#46039f\"],[0.2222222222222222,\"#7201a8\"],[0.3333333333333333,\"#9c179e\"],[0.4444444444444444,\"#bd3786\"],[0.5555555555555556,\"#d8576b\"],[0.6666666666666666,\"#ed7953\"],[0.7777777777777778,\"#fb9f3a\"],[0.8888888888888888,\"#fdca26\"],[1.0,\"#f0f921\"]],\"type\":\"heatmap\"}],\"heatmapgl\":[{\"colorbar\":{\"outlinewidth\":0,\"ticks\":\"\"},\"colorscale\":[[0.0,\"#0d0887\"],[0.1111111111111111,\"#46039f\"],[0.2222222222222222,\"#7201a8\"],[0.3333333333333333,\"#9c179e\"],[0.4444444444444444,\"#bd3786\"],[0.5555555555555556,\"#d8576b\"],[0.6666666666666666,\"#ed7953\"],[0.7777777777777778,\"#fb9f3a\"],[0.8888888888888888,\"#fdca26\"],[1.0,\"#f0f921\"]],\"type\":\"heatmapgl\"}],\"histogram\":[{\"marker\":{\"pattern\":{\"fillmode\":\"overlay\",\"size\":10,\"solidity\":0.2}},\"type\":\"histogram\"}],\"histogram2d\":[{\"colorbar\":{\"outlinewidth\":0,\"ticks\":\"\"},\"colorscale\":[[0.0,\"#0d0887\"],[0.1111111111111111,\"#46039f\"],[0.2222222222222222,\"#7201a8\"],[0.3333333333333333,\"#9c179e\"],[0.4444444444444444,\"#bd3786\"],[0.5555555555555556,\"#d8576b\"],[0.6666666666666666,\"#ed7953\"],[0.7777777777777778,\"#fb9f3a\"],[0.8888888888888888,\"#fdca26\"],[1.0,\"#f0f921\"]],\"type\":\"histogram2d\"}],\"histogram2dcontour\":[{\"colorbar\":{\"outlinewidth\":0,\"ticks\":\"\"},\"colorscale\":[[0.0,\"#0d0887\"],[0.1111111111111111,\"#46039f\"],[0.2222222222222222,\"#7201a8\"],[0.3333333333333333,\"#9c179e\"],[0.4444444444444444,\"#bd3786\"],[0.5555555555555556,\"#d8576b\"],[0.6666666666666666,\"#ed7953\"],[0.7777777777777778,\"#fb9f3a\"],[0.8888888888888888,\"#fdca26\"],[1.0,\"#f0f921\"]],\"type\":\"histogram2dcontour\"}],\"mesh3d\":[{\"colorbar\":{\"outlinewidth\":0,\"ticks\":\"\"},\"type\":\"mesh3d\"}],\"parcoords\":[{\"line\":{\"colorbar\":{\"outlinewidth\":0,\"ticks\":\"\"}},\"type\":\"parcoords\"}],\"pie\":[{\"automargin\":true,\"type\":\"pie\"}],\"scatter\":[{\"marker\":{\"colorbar\":{\"outlinewidth\":0,\"ticks\":\"\"}},\"type\":\"scatter\"}],\"scatter3d\":[{\"line\":{\"colorbar\":{\"outlinewidth\":0,\"ticks\":\"\"}},\"marker\":{\"colorbar\":{\"outlinewidth\":0,\"ticks\":\"\"}},\"type\":\"scatter3d\"}],\"scattercarpet\":[{\"marker\":{\"colorbar\":{\"outlinewidth\":0,\"ticks\":\"\"}},\"type\":\"scattercarpet\"}],\"scattergeo\":[{\"marker\":{\"colorbar\":{\"outlinewidth\":0,\"ticks\":\"\"}},\"type\":\"scattergeo\"}],\"scattergl\":[{\"marker\":{\"colorbar\":{\"outlinewidth\":0,\"ticks\":\"\"}},\"type\":\"scattergl\"}],\"scattermapbox\":[{\"marker\":{\"colorbar\":{\"outlinewidth\":0,\"ticks\":\"\"}},\"type\":\"scattermapbox\"}],\"scatterpolar\":[{\"marker\":{\"colorbar\":{\"outlinewidth\":0,\"ticks\":\"\"}},\"type\":\"scatterpolar\"}],\"scatterpolargl\":[{\"marker\":{\"colorbar\":{\"outlinewidth\":0,\"ticks\":\"\"}},\"type\":\"scatterpolargl\"}],\"scatterternary\":[{\"marker\":{\"colorbar\":{\"outlinewidth\":0,\"ticks\":\"\"}},\"type\":\"scatterternary\"}],\"surface\":[{\"colorbar\":{\"outlinewidth\":0,\"ticks\":\"\"},\"colorscale\":[[0.0,\"#0d0887\"],[0.1111111111111111,\"#46039f\"],[0.2222222222222222,\"#7201a8\"],[0.3333333333333333,\"#9c179e\"],[0.4444444444444444,\"#bd3786\"],[0.5555555555555556,\"#d8576b\"],[0.6666666666666666,\"#ed7953\"],[0.7777777777777778,\"#fb9f3a\"],[0.8888888888888888,\"#fdca26\"],[1.0,\"#f0f921\"]],\"type\":\"surface\"}],\"table\":[{\"cells\":{\"fill\":{\"color\":\"#EBF0F8\"},\"line\":{\"color\":\"white\"}},\"header\":{\"fill\":{\"color\":\"#C8D4E3\"},\"line\":{\"color\":\"white\"}},\"type\":\"table\"}]},\"layout\":{\"annotationdefaults\":{\"arrowcolor\":\"#2a3f5f\",\"arrowhead\":0,\"arrowwidth\":1},\"autotypenumbers\":\"strict\",\"coloraxis\":{\"colorbar\":{\"outlinewidth\":0,\"ticks\":\"\"}},\"colorscale\":{\"diverging\":[[0,\"#8e0152\"],[0.1,\"#c51b7d\"],[0.2,\"#de77ae\"],[0.3,\"#f1b6da\"],[0.4,\"#fde0ef\"],[0.5,\"#f7f7f7\"],[0.6,\"#e6f5d0\"],[0.7,\"#b8e186\"],[0.8,\"#7fbc41\"],[0.9,\"#4d9221\"],[1,\"#276419\"]],\"sequential\":[[0.0,\"#0d0887\"],[0.1111111111111111,\"#46039f\"],[0.2222222222222222,\"#7201a8\"],[0.3333333333333333,\"#9c179e\"],[0.4444444444444444,\"#bd3786\"],[0.5555555555555556,\"#d8576b\"],[0.6666666666666666,\"#ed7953\"],[0.7777777777777778,\"#fb9f3a\"],[0.8888888888888888,\"#fdca26\"],[1.0,\"#f0f921\"]],\"sequentialminus\":[[0.0,\"#0d0887\"],[0.1111111111111111,\"#46039f\"],[0.2222222222222222,\"#7201a8\"],[0.3333333333333333,\"#9c179e\"],[0.4444444444444444,\"#bd3786\"],[0.5555555555555556,\"#d8576b\"],[0.6666666666666666,\"#ed7953\"],[0.7777777777777778,\"#fb9f3a\"],[0.8888888888888888,\"#fdca26\"],[1.0,\"#f0f921\"]]},\"colorway\":[\"#636efa\",\"#EF553B\",\"#00cc96\",\"#ab63fa\",\"#FFA15A\",\"#19d3f3\",\"#FF6692\",\"#B6E880\",\"#FF97FF\",\"#FECB52\"],\"font\":{\"color\":\"#2a3f5f\"},\"geo\":{\"bgcolor\":\"white\",\"lakecolor\":\"white\",\"landcolor\":\"#E5ECF6\",\"showlakes\":true,\"showland\":true,\"subunitcolor\":\"white\"},\"hoverlabel\":{\"align\":\"left\"},\"hovermode\":\"closest\",\"mapbox\":{\"style\":\"light\"},\"paper_bgcolor\":\"white\",\"plot_bgcolor\":\"#E5ECF6\",\"polar\":{\"angularaxis\":{\"gridcolor\":\"white\",\"linecolor\":\"white\",\"ticks\":\"\"},\"bgcolor\":\"#E5ECF6\",\"radialaxis\":{\"gridcolor\":\"white\",\"linecolor\":\"white\",\"ticks\":\"\"}},\"scene\":{\"xaxis\":{\"backgroundcolor\":\"#E5ECF6\",\"gridcolor\":\"white\",\"gridwidth\":2,\"linecolor\":\"white\",\"showbackground\":true,\"ticks\":\"\",\"zerolinecolor\":\"white\"},\"yaxis\":{\"backgroundcolor\":\"#E5ECF6\",\"gridcolor\":\"white\",\"gridwidth\":2,\"linecolor\":\"white\",\"showbackground\":true,\"ticks\":\"\",\"zerolinecolor\":\"white\"},\"zaxis\":{\"backgroundcolor\":\"#E5ECF6\",\"gridcolor\":\"white\",\"gridwidth\":2,\"linecolor\":\"white\",\"showbackground\":true,\"ticks\":\"\",\"zerolinecolor\":\"white\"}},\"shapedefaults\":{\"line\":{\"color\":\"#2a3f5f\"}},\"ternary\":{\"aaxis\":{\"gridcolor\":\"white\",\"linecolor\":\"white\",\"ticks\":\"\"},\"baxis\":{\"gridcolor\":\"white\",\"linecolor\":\"white\",\"ticks\":\"\"},\"bgcolor\":\"#E5ECF6\",\"caxis\":{\"gridcolor\":\"white\",\"linecolor\":\"white\",\"ticks\":\"\"}},\"title\":{\"x\":0.05},\"xaxis\":{\"automargin\":true,\"gridcolor\":\"white\",\"linecolor\":\"white\",\"ticks\":\"\",\"title\":{\"standoff\":15},\"zerolinecolor\":\"white\",\"zerolinewidth\":2},\"yaxis\":{\"automargin\":true,\"gridcolor\":\"white\",\"linecolor\":\"white\",\"ticks\":\"\",\"title\":{\"standoff\":15},\"zerolinecolor\":\"white\",\"zerolinewidth\":2}}},\"xaxis\":{\"anchor\":\"y\",\"domain\":[0.0,1.0],\"title\":{\"text\":\"retweeted_tweet_id\"}},\"yaxis\":{\"anchor\":\"x\",\"domain\":[0.0,1.0],\"title\":{\"text\":\"delta_engagement\"}}},                        {\"responsive\": true}                    ).then(function(){\n",
       "                            \n",
       "var gd = document.getElementById('377b5f94-417d-4b2a-9658-ef80c5fc02ed');\n",
       "var x = new MutationObserver(function (mutations, observer) {{\n",
       "        var display = window.getComputedStyle(gd).display;\n",
       "        if (!display || display === 'none') {{\n",
       "            console.log([gd, 'removed!']);\n",
       "            Plotly.purge(gd);\n",
       "            observer.disconnect();\n",
       "        }}\n",
       "}});\n",
       "\n",
       "// Listen for the removal of the full notebook cells\n",
       "var notebookContainer = gd.closest('#notebook-container');\n",
       "if (notebookContainer) {{\n",
       "    x.observe(notebookContainer, {childList: true});\n",
       "}}\n",
       "\n",
       "// Listen for the clearing of the current output cell\n",
       "var outputEl = gd.closest('.output');\n",
       "if (outputEl) {{\n",
       "    x.observe(outputEl, {childList: true});\n",
       "}}\n",
       "\n",
       "                        })                };                });            </script>        </div>"
      ]
     },
     "metadata": {},
     "output_type": "display_data"
    }
   ],
   "source": [
    "t = spike_['delta_engagement']\n",
    "sub_spike_2 = t.quantile(.98)\n",
    "print(\"quantile\", sub_spike_2)\n",
    "sub_spike = spike_[spike_['delta_engagement'] > sub_spike_2]\n",
    "print(\"sub_spike.shape\", sub_spike.shape)\n",
    "print(sub_spike.describe())\n",
    "fig = px.bar(sub_spike, y=\"delta_engagement\")\n",
    "fig.show()"
   ]
  },
  {
   "cell_type": "code",
   "execution_count": 216,
   "id": "dcb180eb-469b-40b6-a5cb-25718df018f2",
   "metadata": {},
   "outputs": [],
   "source": [
    "viral_pos_global_rts['tweet_text_'] = [re.sub(\"RT @[A-Z_a-z_0-9:]+\",\"\", txt).strip() for txt in viral_pos_global_rts['tweet_text'] ]\n",
    "\n",
    "details_viral_pos_global_rts = viral_pos_global_rts[['tweet_text_', 'tweet_date', 'tweet_sentiment','retweeted_user_screenname', 'total_engagement',\n",
    "                                                   'retweeted_user_verified', 'retweeted_tweet_id']] \\\n",
    "                                                .groupby('retweeted_tweet_id') \\\n",
    "                                                .apply(pd.DataFrame.sort_values, 'total_engagement') \\\n",
    "                                                .reset_index(drop=True).groupby('retweeted_tweet_id').last().reset_index()\n",
    "\n",
    "\n",
    "details_viral_pos_global_rts = details_viral_pos_global_rts.loc[:, ~details_viral_pos_global_rts.columns.str.contains('^Unnamed')]\n",
    "k = px.colors.qualitative.Pastel[:details_viral_pos_global_rts.shape[0]]\n",
    "\n",
    "details_viral_pos_global_rts['color'] = k\n",
    "\n",
    "pd.DataFrame.to_csv(details_viral_pos_global_rts, '../data/output/rts/global/pos_global_rts_info.csv')"
   ]
  },
  {
   "cell_type": "code",
   "execution_count": null,
   "id": "098930b7-bd46-4d50-800e-696db6592f2a",
   "metadata": {},
   "outputs": [],
   "source": []
  }
 ],
 "metadata": {
  "kernelspec": {
   "display_name": "Python 3 (ipykernel)",
   "language": "python",
   "name": "python3"
  },
  "language_info": {
   "codemirror_mode": {
    "name": "ipython",
    "version": 3
   },
   "file_extension": ".py",
   "mimetype": "text/x-python",
   "name": "python",
   "nbconvert_exporter": "python",
   "pygments_lexer": "ipython3",
   "version": "3.8.11"
  }
 },
 "nbformat": 4,
 "nbformat_minor": 5
}
