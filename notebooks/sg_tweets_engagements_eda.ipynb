{
 "cells": [
  {
   "cell_type": "markdown",
   "id": "a3a9a52f-2ef2-4dd1-a66b-bc8078ab5718",
   "metadata": {
    "tags": []
   },
   "source": [
    "# Endorsements and reactions - Retweets and Quoted tweets \n",
    "\n",
    "Plausible assumptions from existing research:\n",
    "1. **Retweets** are **endorsements** \n",
    "2. **Quoted tweets** are **reactions** - can be positive, negative or neutral "
   ]
  },
  {
   "cell_type": "markdown",
   "id": "cf9a5c70-8dd8-4c16-bf80-50e88a83bb71",
   "metadata": {},
   "source": [
    "### [Table of Contents](#cell2)\n",
    "\n",
    "* 1\\. [Distribution of retweets, replies and quoted tweets](#cell1)\n",
    "* 2\\. [Foreign influence: Inferring the influential countries](#cell2)\n",
    "* 3\\. [Bursty tweets: Inferring tweets with high intensity of extreme sentiments](#cell3)\n",
    "    * 3.1. [Inferring viral quoted tweets](#cell31)\n",
    "    * 3.2. [Sentiment analysis of the viral quoted tweets](#cell32)\n",
    "    * 3.3. [Inferring viral quoted tweets with extreme intensity of sentiments](#cell33)\n",
    "* 4\\. [Viral local retweets: Local news feed](#cell4)\n",
    "    * 4.1. [Viral local retweets with negative sentiment](#cell41)\n",
    "    * 4.2. [Viral local retweets with positive sentiment](#cell42)\n",
    "<!--     * 4.3. [Viral local retweets with all sentiments (general)](#cell43) -->\n",
    "* 5\\. [Viral global retweets: Global news feed](#cell5)\n",
    "    * 5.1. [Viral global retweets with negative sentiment](#cell51)\n",
    "    * 5.2. [Viral global retweets with positive sentiment](#cell52)\n",
    "<!--     * 5.3. [Viral global retweets with all sentiments (general)](#cell53) -->"
   ]
  },
  {
   "cell_type": "code",
   "execution_count": 28,
   "id": "c85c8df4-1eb8-43d0-97ca-c55ec570d59a",
   "metadata": {},
   "outputs": [],
   "source": [
    "import re\n",
    "import os\n",
    "import time\n",
    "import glob \n",
    "from datetime import datetime  as dt\n",
    "\n",
    "import collections as col\n",
    "import functools as ft\n",
    "import itertools as it\n",
    "\n",
    "import numpy as np\n",
    "import pandas as pd\n",
    "\n",
    "# visualizations\n",
    "import plotly.express as px\n",
    "import plotly.graph_objects as go\n",
    "import matplotlib.pyplot as plt"
   ]
  },
  {
   "cell_type": "code",
   "execution_count": 29,
   "id": "a1d09c58-1abf-439c-83ad-97faa2c199aa",
   "metadata": {},
   "outputs": [],
   "source": [
    "import warnings\n",
    "warnings.filterwarnings(\"ignore\")"
   ]
  },
  {
   "cell_type": "code",
   "execution_count": 30,
   "id": "15046278-0b72-4c80-99d5-e3a748127a09",
   "metadata": {},
   "outputs": [],
   "source": [
    "pd.set_option('display.max_colwidth', None)"
   ]
  },
  {
   "cell_type": "code",
   "execution_count": 31,
   "id": "6040b02a-c129-4f9b-ba23-ed0ac6bb1c2c",
   "metadata": {},
   "outputs": [],
   "source": [
    "BASE_PATH = '../data/'"
   ]
  },
  {
   "cell_type": "markdown",
   "id": "e12694ba-c7de-476a-a2ea-4434713e80be",
   "metadata": {},
   "source": [
    "##### Loading the processed Singapore-based data "
   ]
  },
  {
   "cell_type": "code",
   "execution_count": 32,
   "id": "4874fc8e-7613-4e48-a0ed-7058da86f011",
   "metadata": {},
   "outputs": [
    {
     "data": {
      "text/plain": [
       "(181423, 54)"
      ]
     },
     "execution_count": 32,
     "metadata": {},
     "output_type": "execute_result"
    }
   ],
   "source": [
    "sg_tweets = pd.read_csv(BASE_PATH + \"sg.csv\")\n",
    "sg_tweets.shape"
   ]
  },
  {
   "cell_type": "code",
   "execution_count": 33,
   "id": "23fcd3a2-a8c9-4665-9e1f-d01687705c2b",
   "metadata": {},
   "outputs": [
    {
     "data": {
      "text/plain": [
       "Index(['Unnamed: 0', 'tweet_text', 'tweet_time', 'tweet_id', 'tweet_lang',\n",
       "       'tweet_possibly_sensitive', 'entity_image_url', 'entity_mentions',\n",
       "       'entity_hashtags', 'entity_link_url', 'user_id_x', 'user_name_x',\n",
       "       'user_screenname_x', 'user_friends_count', 'user_followers_count',\n",
       "       'user_verified', 'user_location', 'user_desc', 'user_geo_coding',\n",
       "       'user_geo_tagging', 'user_id_y', 'user_name_y', 'user_screenname_y',\n",
       "       'tweet_enagagement_type', 'replied_to_tweet_id', 'replied_to_user_id',\n",
       "       'replied_to_user_screenname', 'retweeted_tweet_id',\n",
       "       'retweeted_tweet_time', 'retweeted_user_id', 'retweeted_user_name',\n",
       "       'retweeted_user_verified', 'retweeted_user_screenname',\n",
       "       'retweeted_user_geo_coding', 'retweeted_user_geo_coding_type',\n",
       "       'retweeted_retweet_count', 'retweeted_favorite_count',\n",
       "       'quoted_tweet_text', 'quoted_tweet_id', 'quoted_tweet_time',\n",
       "       'quoted_user_id', 'quoted_user_name', 'quoted_user_verified',\n",
       "       'quoted_user_screenname', 'quoted_user_geo_coding',\n",
       "       'quoted_user_geo_coding_type', 'quoted_retweet_count',\n",
       "       'quoted_favorite_count', 'tweet_datetime', 'tweet_date',\n",
       "       'processed_tweet_text', 'processed_quoted_tweet_text',\n",
       "       'tweet_sentiment', 'quoted_tweet_sentiment'],\n",
       "      dtype='object')"
      ]
     },
     "execution_count": 33,
     "metadata": {},
     "output_type": "execute_result"
    }
   ],
   "source": [
    "sg_tweets.columns"
   ]
  },
  {
   "cell_type": "code",
   "execution_count": 7,
   "id": "c154755d-02be-443b-8d8c-2fd7cf87a1f6",
   "metadata": {},
   "outputs": [
    {
     "data": {
      "text/plain": [
       "('2021-08-04', '2021-09-24')"
      ]
     },
     "execution_count": 7,
     "metadata": {},
     "output_type": "execute_result"
    }
   ],
   "source": [
    "MAX_DATE = sg_tweets['tweet_date'].max()\n",
    "MIN_DATE = sg_tweets['tweet_date'].min()\n",
    "MIN_DATE, MAX_DATE"
   ]
  },
  {
   "cell_type": "markdown",
   "id": "7af5bc35-9784-4ad8-b8ee-4a7f4d35444a",
   "metadata": {},
   "source": [
    "# 1. Distribution of retweets, replies and quoted tweets  <a id=\"cell1\"></a>"
   ]
  },
  {
   "cell_type": "code",
   "execution_count": 8,
   "id": "5288cf42-29bf-41d8-be9e-a7dae82cb916",
   "metadata": {},
   "outputs": [
    {
     "name": "stdout",
     "output_type": "stream",
     "text": [
      "Count of engaged tweets 254900\n",
      "% of engaged tweets 73.84103754044745\n"
     ]
    }
   ],
   "source": [
    "tweet_enagagement_type = sg_tweets[sg_tweets['tweet_enagagement_type'].notna()]\n",
    "\n",
    "print(\"Count of engaged tweets {}\".format(len(tweet_enagagement_type)))\n",
    "print(\"% of engaged tweets {}\".format(len(tweet_enagagement_type)/len(sg_tweets)*100))"
   ]
  },
  {
   "cell_type": "code",
   "execution_count": 36,
   "id": "1e6b223f-cabf-49a8-976a-e291721b9869",
   "metadata": {},
   "outputs": [
    {
     "data": {
      "text/plain": [
       "[('Retweet', 146084), ('Quote', 71847), ('Reply', 36969)]"
      ]
     },
     "execution_count": 36,
     "metadata": {},
     "output_type": "execute_result"
    }
   ],
   "source": [
    "count_tweet_enagagement_type = col.Counter(tweet_enagagement_type['tweet_enagagement_type']).most_common()\n",
    "count_tweet_enagagement_type"
   ]
  },
  {
   "cell_type": "code",
   "execution_count": 37,
   "id": "ce4b8de2-a3de-45a1-a71d-bbc3dcbcf0cb",
   "metadata": {},
   "outputs": [
    {
     "data": {
      "image/png": "[encoded data removed]",
      "text/plain": [
       "<Figure size 432x288 with 1 Axes>"
      ]
     },
     "metadata": {
      "needs_background": "light"
     },
     "output_type": "display_data"
    }
   ],
   "source": [
    "enagagement_type = [c[0] for c in count_tweet_enagagement_type]\n",
    "counts = [c[1] for c in count_tweet_enagagement_type]\n",
    "\n",
    "plt.barh(enagagement_type[::-1], counts[::-1])\n",
    " \n",
    "plt.ylabel(\"enagagement_type\")\n",
    "plt.xlabel(\"Count\")\n",
    "plt.xticks(rotation=45)\n",
    "plt.title(\"Distribution of enagagement_type\")\n",
    "plt.show()"
   ]
  },
  {
   "cell_type": "code",
   "execution_count": 38,
   "id": "69ec07f5-843c-4b26-a28a-ecc858785d61",
   "metadata": {},
   "outputs": [],
   "source": [
    "# constants\n",
    "COUNTRY = 'Singapore'\n",
    "TOP_RTS_POS_NEG = 5"
   ]
  },
  {
   "cell_type": "markdown",
   "id": "96648ec4-b891-4848-be73-6363ef65bdbb",
   "metadata": {
    "tags": []
   },
   "source": [
    "# 2. Foreign influence: Inferring the influential countries <a id=\"cell2\"></a>\n",
    "\n",
    "**Influential countries**: Tweets by non-Singapore based users with a high number of engagements - retweets and quoted tweets, by Singapore users. "
   ]
  },
  {
   "cell_type": "code",
   "execution_count": 249,
   "id": "7484abd0-f1e6-4530-913f-8eda61b64461",
   "metadata": {},
   "outputs": [
    {
     "data": {
      "text/plain": [
       "(103.8, 1.3667)"
      ]
     },
     "execution_count": 249,
     "metadata": {},
     "output_type": "execute_result"
    }
   ],
   "source": [
    "countries_data = pd.read_csv(BASE_PATH + \"countries_geolocation.csv\")\n",
    "\n",
    "SINGAPORE_LONG_LAT = countries_data[countries_data['Country'] == 'Singapore']\n",
    "\n",
    "sg_long = float(SINGAPORE_LONG_LAT.iloc[0]['Longitude (average)'].strip().strip('\"'))  #.iloc(0)['Longitude (average)']\n",
    "sg_lat = float(SINGAPORE_LONG_LAT.iloc[0]['Latitude (average)'].strip().strip('\"'))\n",
    "\n",
    "sg_long, sg_lat"
   ]
  },
  {
   "cell_type": "code",
   "execution_count": 254,
   "id": "9f910deb-0796-4238-860c-6865f9397b2e",
   "metadata": {},
   "outputs": [],
   "source": [
    "def plot_top_influential_countries(c_quoted_rts_geo):\n",
    "    x_top = 10\n",
    "    quoted_rts_geo = [c[0] for c in c_quoted_rts_geo[:x_top]]\n",
    "    quoted_rts_geo_count = [c[1] for c in c_quoted_rts_geo[:x_top]]\n",
    "\n",
    "    plt.barh(quoted_rts_geo[::-1], quoted_rts_geo_count[::-1])\n",
    "\n",
    "    plt.ylabel(\"rts_quoted_geo\")\n",
    "    plt.xlabel(\"Count\")\n",
    "    plt.xticks(rotation=45)\n",
    "    plt.title(\"Distribution of retweeted & quoted users' location\")\n",
    "    plt.show()\n",
    "\n",
    "\n",
    "def get_top_influential_countries(top_countries_count=10):\n",
    "    # Selecting tweets created by non-Singapore based users and known geocoding.  \n",
    "    quoted_sg_tweets = sg_tweets[(sg_tweets['tweet_enagagement_type'] == 'Quote') & \n",
    "                             (sg_tweets['quoted_user_geo_coding'] != 'Unknown') & \n",
    "                            (sg_tweets['quoted_user_geo_coding'] != 'Singapore')]\n",
    "\n",
    "    rts_sg_tweets = sg_tweets[(sg_tweets['tweet_enagagement_type'] == 'Retweet') & \n",
    "                              (sg_tweets['retweeted_user_geo_coding'] != 'Unknown') & \n",
    "                              (sg_tweets['retweeted_user_geo_coding'] != 'Singapore')]\n",
    "\n",
    "    quoted_rts_geo = list(quoted_sg_tweets['quoted_user_geo_coding']) + \\\n",
    "                    list(rts_sg_tweets['retweeted_user_geo_coding'])\n",
    "    c_quoted_rts_geo = col.Counter(quoted_rts_geo).most_common()\n",
    "    plot_top_influential_countries(c_quoted_rts_geo)\n",
    "    return c_quoted_rts_geo[:top_countries_count]"
   ]
  },
  {
   "cell_type": "markdown",
   "id": "c84bc34e-b60f-434f-b920-f2415393d947",
   "metadata": {},
   "source": [
    "##### Loading data containing counties' geolocation and code"
   ]
  },
  {
   "cell_type": "code",
   "execution_count": 305,
   "id": "5096fc2f-a0c7-4dd1-8d50-704d26c21c0e",
   "metadata": {},
   "outputs": [],
   "source": [
    "def generate_dash_influential_countries(top_country_influencer, top_country_influencer_csv_path):\n",
    "    top_influential_countries_data = {\n",
    "        'country': [],\n",
    "        'lat': [],\n",
    "        'long': [],\n",
    "        'count': [],\n",
    "        'size': []\n",
    "    }\n",
    "\n",
    "    sum_influence = sum([c[1] for c in top_country_influencer])\n",
    "\n",
    "    for i in top_country_influencer:\n",
    "        top_influential_countries_data['country'].append(i[0])\n",
    "        top_influential_countries_data['count'].append(i[1])\n",
    "        top_influential_countries_data['size'].append(round(i[1]/sum_influence*150, 2))\n",
    "        country_loc = countries_data[countries_data['Country'] == i[0]]\n",
    "        top_influential_countries_data['long'].append(float(country_loc.iloc[0]['Longitude (average)'].strip().strip('\"')))\n",
    "        top_influential_countries_data['lat'].append(float(country_loc.iloc[0]['Latitude (average)'].strip().strip('\"')))\n",
    "\n",
    "    top_influential_countries_df = pd.DataFrame(top_influential_countries_data)\n",
    "    pd.DataFrame.to_csv(top_influential_countries_df, top_country_influencer_csv_path)\n",
    "    return top_influential_countries_df"
   ]
  },
  {
   "cell_type": "code",
   "execution_count": 306,
   "id": "0b1be784-064a-4558-b8b3-4b1df35bec52",
   "metadata": {},
   "outputs": [],
   "source": [
    "def generate_dash_influential_countries_tweets(top_influential_countries_df, top_country_influencer_tweets_csv_path):\n",
    "    top_influential_countries = top_influential_countries_df['country']\n",
    "    top_countries_tweets = sg_tweets[(sg_tweets['retweeted_user_geo_coding'].isin(top_influential_countries))\n",
    "                                    & (sg_tweets['processed_tweet_text'].notna())] \\\n",
    "                            [['retweeted_user_geo_coding', 'processed_tweet_text']]\n",
    "    pd.DataFrame.to_csv(top_countries_tweets, top_country_influencer_tweets_csv_path)"
   ]
  },
  {
   "cell_type": "code",
   "execution_count": 307,
   "id": "0ef14124-4ac8-48c2-b31d-b241b311e18f",
   "metadata": {},
   "outputs": [
    {
     "data": {
      "image/png": "[encoded data removed]",
      "text/plain": [
       "<Figure size 432x288 with 1 Axes>"
      ]
     },
     "metadata": {
      "needs_background": "light"
     },
     "output_type": "display_data"
    }
   ],
   "source": [
    "top_country_influencer_csv_path = BASE_PATH + 'output/influencers/top_countries.csv'\n",
    "top_country_influencer_tweets_csv_path = BASE_PATH + 'output/influencers/top_countries_tweets.csv'\n",
    "\n",
    "top_country_influencer = get_top_influential_countries()\n",
    "top_influential_countries_df = generate_dash_influential_countries(top_country_influencer, top_country_influencer_csv_path)\n",
    "\n",
    "# Saving tweets from the top influential countries for word frequencies analysis \n",
    "generate_dash_influential_countries_tweets(top_influential_countries_df, top_country_influencer_tweets_csv_path)"
   ]
  },
  {
   "cell_type": "markdown",
   "id": "66f01408-6d94-4e5e-ad41-117bef88644b",
   "metadata": {},
   "source": [
    "# Engagements Analysis"
   ]
  },
  {
   "cell_type": "code",
   "execution_count": 267,
   "id": "6dba839a-96b1-4d25-8403-3f98260278d9",
   "metadata": {},
   "outputs": [],
   "source": [
    "PERCENTILE = .90\n",
    "TOP_RTS_POS_NEG = 10\n",
    "\n",
    "RT_TWEET_ID_LABEL = 'retweeted_tweet_id'\n",
    "RT_TWEET_DATE_LABEL = 'retweeted_tweet_date'\n",
    "RT_TWEET_USER_LABEL = 'retweeted_user_screenname'\n",
    "RT_TWEET_USER_VERIFIED_LABEL = 'retweeted_user_verified'\n",
    "\n",
    "Q_TWEET_ID_LABEL = 'quoted_tweet_id'\n",
    "Q_TWEET_DATE_LABEL = 'quoted_tweet_date'\n",
    "Q_TWEET_USER_LABEL = 'quoted_user_screenname'\n",
    "Q_TWEET_USER_VERIFIED_LABEL = 'quoted_user_verified'\n",
    "SENTIMENT_SPREAD_THRESHOLD = 80\n",
    "\n",
    "RETWEET = 'retweet'\n",
    "QUOTED = 'quoted'"
   ]
  },
  {
   "cell_type": "code",
   "execution_count": 329,
   "id": "a538e131-c7a1-4f97-9ae3-69bf533e72b6",
   "metadata": {},
   "outputs": [],
   "source": [
    "# (3) Filtering anomalous tweets - with an unusual number of engagements.\n",
    "def get_tweet_id_by_count(tweets_df, engagement_type, tweets_count=TOP_RTS_POS_NEG):\n",
    "    engagement_id_label = RT_TWEET_ID_LABEL if engagement_type == RETWEET else Q_TWEET_ID_LABEL\n",
    "    \n",
    "    # count of RTs\n",
    "    c_tweets_df = tweets_df.value_counts(subset=[engagement_id_label]).reset_index(name='local_count').sort_values('local_count', ascending=False)\n",
    "    return list(c_tweets_df[:tweets_count][engagement_id_label])\n",
    "\n",
    "\n",
    "def get_tweet_id_by_spike(tweets_df, engagement_type, percentile=PERCENTILE):\n",
    "    engagement_id_label = RT_TWEET_ID_LABEL if engagement_type == RETWEET else Q_TWEET_ID_LABEL\n",
    "    \n",
    "    grouped_sorted_date = tweets_df.groupby([engagement_id_label, 'tweet_date']).apply(pd.DataFrame.sort_values, 'tweet_date').reset_index(drop=True)\n",
    "    max_grouped_sorted_date = grouped_sorted_date.groupby([engagement_id_label, 'tweet_date'])['total_engagement'].max().reset_index()\n",
    "    max_grouped_sorted_date['delta_engagement'] = max_grouped_sorted_date.groupby([engagement_id_label])['total_engagement'].diff().fillna(0).astype(int)\n",
    "    spike_df = max_grouped_sorted_date.groupby(engagement_id_label).nth(1)\n",
    "\n",
    "    spike_value = spike_df['delta_engagement'].quantile(percentile)\n",
    "    spike_ids = list(spike_df[spike_df['delta_engagement'] > spike_value].reset_index()[engagement_id_label])\n",
    "    print(\"Total spiky tweets:\", len(spike_ids))\n",
    "    return spike_ids\n",
    "\n",
    "\n",
    "def get_bursty_tweets(tweets_df, ids, engagement_type, get_trend = False):\n",
    "    engagement_id_label = RT_TWEET_ID_LABEL if engagement_type == RETWEET else Q_TWEET_ID_LABEL\n",
    "    engagement_date_label = RT_TWEET_DATE_LABEL if engagement_type == RETWEET else Q_TWEET_DATE_LABEL\n",
    "    engagement_user_label = RT_TWEET_USER_LABEL if engagement_type == RETWEET else Q_TWEET_USER_LABEL\n",
    "    \n",
    "    viral_tweets = tweets_df[tweets_df[engagement_id_label].isin(ids)]\n",
    "\n",
    "    # get data for delta and cumulative graphs\n",
    "    grouped_sorted_date = viral_tweets.groupby([engagement_id_label, engagement_date_label, 'tweet_date', engagement_user_label]).apply(pd.DataFrame.sort_values, 'tweet_date').reset_index(drop=True)\n",
    "    \n",
    "    max_grouped_sorted_date = None\n",
    "    if get_trend:\n",
    "        max_grouped_sorted_date = grouped_sorted_date.groupby([engagement_id_label, engagement_date_label, 'tweet_date', engagement_user_label])['total_engagement'].max().reset_index()\n",
    "        max_grouped_sorted_date['delta_engagement'] = max_grouped_sorted_date.groupby([engagement_id_label])['total_engagement'].diff().fillna(0).astype(int)\n",
    "\n",
    "    return max_grouped_sorted_date, viral_tweets\n",
    "\n",
    "\n",
    "def save_csv(df, path):\n",
    "    pd.DataFrame.to_csv(df, path)\n",
    "\n",
    "    \n",
    "def get_bursty_tweets_info(tweets_df, engagement_type):\n",
    "    engagement_id_label = RT_TWEET_ID_LABEL if engagement_type == RETWEET else Q_TWEET_ID_LABEL\n",
    "#     engagement_date_label = RT_TWEET_DATE_LABEL if engagement_type == RETWEET else Q_TWEET_DATE_LABEL\n",
    "    engagement_user_label = RT_TWEET_USER_LABEL if engagement_type == RETWEET else Q_TWEET_USER_LABEL\n",
    "    engagement_user_verified_label = RT_TWEET_USER_LABEL if engagement_type == RETWEET else Q_TWEET_USER_LABEL\n",
    "    \n",
    "    # remove @ from RTs\n",
    "    tweets_df['tweet_text_'] = [re.sub(\"RT @[A-Z_a-z_0-9:]+\",\"\", txt).strip() for txt in tweets_df['tweet_text'] ]\n",
    "    details_tweets_df = tweets_df[['tweet_text_', 'tweet_date', 'tweet_sentiment',engagement_user_label, 'total_engagement',\n",
    "                                                   engagement_user_verified_label, engagement_id_label]] \\\n",
    "                                                .groupby(engagement_id_label) \\\n",
    "                                                .apply(pd.DataFrame.sort_values, 'total_engagement') \\\n",
    "                                                .reset_index(drop=True).groupby(engagement_id_label).last().reset_index()\n",
    "    details_tweets_df = details_tweets_df.loc[:, ~details_tweets_df.columns.str.contains('^Unnamed')]\n",
    "    k = px.colors.qualitative.Pastel[:details_tweets_df.shape[0]]\n",
    "#     print( print(\"pastel \"*5, len(px.colors.qualitative.Pastel)))\n",
    "    \n",
    "#     print( print(\"Alphabet \"*5, len(px.colors.qualitative.Alphabet)))\n",
    "#     print( print(\"Dark24 \"*5, len(px.colors.qualitative.Dark24)))\n",
    "#     print( print(\"pastel \"*5, len(px.colors.qualitative.Light24)))\n",
    "    \n",
    "    details_tweets_df['color'] = k\n",
    "    return details_tweets_df\n",
    "\n",
    "    \n",
    "def generate_dash_bursty_retweets(eng_tweets, save_trend_csv_path, save_info_csv_path, percentile=PERCENTILE, top_tweets_count=TOP_RTS_POS_NEG):  \n",
    "    c_ids = get_tweet_id_by_count(eng_tweets, RETWEET, top_tweets_count)\n",
    "    s_ids = get_tweet_id_by_spike(eng_tweets, RETWEET, percentile)\n",
    "    \n",
    "    # temp fix to get only 10\n",
    "    bursty_trend_df, bursty_tweets_df = get_bursty_tweets(eng_tweets, list(set(c_ids + s_ids))[:10], RETWEET, True)\n",
    "    save_csv(bursty_trend_df, save_trend_csv_path)\n",
    "    \n",
    "    bursty_info_df = get_bursty_tweets_info(bursty_tweets_df, RETWEET)\n",
    "    save_csv(bursty_info_df, save_info_csv_path)\n",
    "    \n",
    "    print(\"Saved trend and info!\")\n",
    "    \n",
    "    \n",
    "def get_bursty_quoted_tweets(eng_tweets, percentile=PERCENTILE, top_tweets_count=TOP_RTS_POS_NEG):\n",
    "    c_ids = get_tweet_id_by_count(eng_tweets, QUOTED, top_tweets_count)\n",
    "    s_ids = get_tweet_id_by_spike(eng_tweets, QUOTED, percentile)\n",
    "    \n",
    "    # temp fix to get only 10\n",
    "    _, bursty_tweets_df = get_bursty_tweets(eng_tweets, list(set(c_ids + s_ids)), QUOTED, True)\n",
    "    return bursty_tweets_df"
   ]
  },
  {
   "cell_type": "markdown",
   "id": "f30e6716-0744-446f-aa19-3a4d94ac07bb",
   "metadata": {},
   "source": [
    "# 3. Quoted Tweets"
   ]
  },
  {
   "cell_type": "markdown",
   "id": "cf3fe2f6-7e9e-4cb5-bad1-83d4bd6a7b65",
   "metadata": {},
   "source": [
    "### 3.1. Bursty tweets: Inferring tweets with high intensity of extreme sentiments <a id=\"cell3\"></a>\n",
    "\n",
    "**Viral quoted tweets**:\n",
    "Tweets created between MIN_DATE and MAX_DATE that are (1) highly quoted by count or (2) received an unusual number of endorsements - retweets and favorites\n",
    "\n",
    "**Bursty tweets**: Viral quoted tweets with high intensity ( >= 80% ) of extreme sentiments (positive and negative sentiments)"
   ]
  },
  {
   "cell_type": "code",
   "execution_count": 330,
   "id": "2b60dce5-caf8-4073-8f32-8564ee944fb5",
   "metadata": {},
   "outputs": [
    {
     "data": {
      "text/plain": [
       "(39918, 55)"
      ]
     },
     "execution_count": 330,
     "metadata": {},
     "output_type": "execute_result"
    }
   ],
   "source": [
    "tweet_enagagement_quotes.shape"
   ]
  },
  {
   "cell_type": "code",
   "execution_count": 331,
   "id": "e1bebe14-2445-48d5-be5a-dcee2e086773",
   "metadata": {},
   "outputs": [],
   "source": [
    "def get_formatted_quoted_tweets():\n",
    "    tweet_enagagement_quotes = sg_tweets[sg_tweets['tweet_enagagement_type'] == 'Quote']\n",
    "\n",
    "    tweet_enagagement_quotes['quoted_tweet_time'] = pd.to_datetime(tweet_enagagement_quotes['quoted_tweet_time'], errors='coerce')\n",
    "    tweet_enagagement_quotes = tweet_enagagement_quotes.dropna(subset=['quoted_tweet_time'])\n",
    "    tweet_enagagement_quotes['quoted_tweet_date'] = tweet_enagagement_quotes.quoted_tweet_time.dt.strftime('%Y-%m-%d')\n",
    "\n",
    "    tweet_enagagement_quotes['total_engagement'] = tweet_enagagement_quotes['quoted_retweet_count']  + tweet_enagagement_quotes['quoted_favorite_count'] \n",
    "\n",
    "    tweet_enagagement_quotes[['quoted_tweet_id', 'total_engagement']] = tweet_enagagement_quotes[['quoted_tweet_id', 'total_engagement']].astype(int)\n",
    "    tweet_enagagement_quotes = tweet_enagagement_quotes.loc[:, ~tweet_enagagement_quotes.columns.str.contains('^Unnamed')]\n",
    "    return tweet_enagagement_quotes\n",
    "\n",
    "#Filtering quoted tweets created between `MIN_DATE` and `MAX_DATE`\n",
    "def get_quoted_tweets_by_date(tweet_enagagement_quotes, from_date=MIN_DATE, to_date=MAX_DATE):\n",
    "    return tweet_enagagement_quotes[(tweet_enagagement_quotes['quoted_tweet_date'].between(from_date, to_date, inclusive='both'))]"
   ]
  },
  {
   "cell_type": "code",
   "execution_count": 332,
   "id": "43b023df-f3a8-4a8e-ac9a-cfee43b65833",
   "metadata": {},
   "outputs": [
    {
     "name": "stdout",
     "output_type": "stream",
     "text": [
      "Total spiky tweets: 107\n"
     ]
    }
   ],
   "source": [
    "tweet_enagagement_quotes = get_formatted_quoted_tweets()\n",
    "quoted_tweets = get_quoted_tweets_by_date(tweet_enagagement_quotes)\n",
    "#Get viral RTs by count and spiky engagements\n",
    "bursty_quoted_tweets = get_bursty_quoted_tweets(quoted_tweets)"
   ]
  },
  {
   "cell_type": "markdown",
   "id": "29f9c5ba-e728-4274-8dea-052da25fd4dd",
   "metadata": {},
   "source": [
    "### 3.2. Sentiment analysis of the viral quoted tweets <a id=\"cell32\"></a>"
   ]
  },
  {
   "cell_type": "markdown",
   "id": "b0d5c9d5-3b30-430f-8751-a0a5fe9974a0",
   "metadata": {},
   "source": [
    "#### 3.3. Inferring viral quoted tweets with extreme intensity of sentiments (>= SENTIMENT_SPREAD_THRESHOLD% of postive or negative sentiment) <a id=\"cell33\"></a>"
   ]
  },
  {
   "cell_type": "code",
   "execution_count": 341,
   "id": "52159e1e-22c1-4190-96a2-4c92804f0139",
   "metadata": {},
   "outputs": [],
   "source": [
    "def get_most_spread_quoted_by_sentiment_with_rate(tweets_df, rate):\n",
    "    quoted_by_sentiment = tweets_df.groupby(['quoted_tweet_id', 'tweet_sentiment']).size()\\\n",
    "                            .unstack(fill_value=0).reset_index()\n",
    "\n",
    "    quoted_by_sentiment['pos_count'] = quoted_by_sentiment['positive'] / (quoted_by_sentiment['positive'] + \n",
    "                                                                          quoted_by_sentiment['negative'] + \n",
    "                                                                          quoted_by_sentiment['neutral'])*100 \n",
    "\n",
    "\n",
    "    quoted_by_sentiment['neg_count'] = quoted_by_sentiment['negative'] / (quoted_by_sentiment['positive'] + \n",
    "                                                                          quoted_by_sentiment['negative'] + \n",
    "                                                                          quoted_by_sentiment['neutral'])*100 \n",
    "\n",
    "    print(quoted_by_sentiment)\n",
    "    quoted_by_sentiment = quoted_by_sentiment[quoted_by_sentiment['pos_count'] > 10 or quoted_by_sentiment['neg_count']]\n",
    "    return quoted_by_sentiment[(quoted_by_sentiment['pos_count'] >= rate) | (quoted_by_sentiment['neg_count'] >= rate)]\n",
    "\n",
    "\n",
    "def generate_dash_bursty_quotes_by_sentiment(bursty_quoted_tweets, most_spread_quoted_by_sentiment_with_rate, sentiment_spread_csv_path):\n",
    "    most_spread_quoted_ids = list(most_spread_quoted_by_sentiment_with_rate['quoted_tweet_id'])\n",
    "    most_spread_quoted_info = bursty_quoted_tweets[bursty_quoted_tweets['quoted_tweet_id'].isin(most_spread_quoted_ids)]\n",
    "    most_spread_quoted_info = most_spread_quoted_info[['quoted_tweet_id', 'quoted_tweet_text', 'quoted_user_screenname', 'quoted_user_geo_coding', 'quoted_tweet_date', 'quoted_user_verified', 'total_engagement']]\n",
    "    most_spread_quoted_info = most_spread_quoted_info.loc[most_spread_quoted_info.groupby([\"quoted_tweet_id\"])[\"total_engagement\"].idxmax()]  \n",
    "    \n",
    "    final_most_spread_quoted = most_spread_quoted_info.merge(most_spread_quoted_by_sentiment_with_rate, on=\"quoted_tweet_id\", how = 'inner')\n",
    "    print(final_most_spread_quoted.shape)\n",
    "\n",
    "    final_most_spread_quoted.drop(['negative', 'positive', 'neutral'], 1, inplace=True) \n",
    "\n",
    "    # Adding `spread_type` and `spread_rate`. SENTIMENT_SPREAD_THRESHOLD% <= positivity spread and SENTIMENT_SPREAD_THRESHOLD% <= negativity spread\n",
    "    final_most_spread_quoted['spread_type'] = ['positive' if spread_rate >= SENTIMENT_SPREAD_THRESHOLD else 'negative' for spread_rate in final_most_spread_quoted['pos_count']]\n",
    "    final_most_spread_quoted['spread_rate'] = [round(row['pos_count'], 2) if row['spread_type'] == 'positive' \n",
    "                                               else round(row['neg_count'], 2) for _, row in final_most_spread_quoted.iterrows()]\n",
    "\n",
    "    final_most_spread_quoted.drop(['pos_count', 'neg_count'], 1, inplace=True)     \n",
    "    pd.DataFrame.to_csv(final_most_spread_quoted, sentiment_spread_csv_path)\n",
    "    "
   ]
  },
  {
   "cell_type": "code",
   "execution_count": 342,
   "id": "eb9f2c89-e7d3-4d2d-87ec-47e329704cde",
   "metadata": {},
   "outputs": [
    {
     "name": "stdout",
     "output_type": "stream",
     "text": [
      "tweet_sentiment      quoted_tweet_id  negative  neutral  positive   pos_count  \\\n",
      "0                1423107220636508160         1        1         0    0.000000   \n",
      "1                1423157419706707968         0        0         2  100.000000   \n",
      "2                1423177255342067712         5       11         0    0.000000   \n",
      "3                1423182704497946624         1        3         5   55.555556   \n",
      "4                1423185288663273472         4        4         0    0.000000   \n",
      "..                               ...       ...      ...       ...         ...   \n",
      "111              1438950618224279552         1        1         1   33.333333   \n",
      "112              1438973758342062080        18       22         0    0.000000   \n",
      "113              1439013064351834112         0        3         0    0.000000   \n",
      "114              1439236328772669440        85        7         0    0.000000   \n",
      "115              1441131300883075072         0        3         0    0.000000   \n",
      "\n",
      "tweet_sentiment  neg_count  \n",
      "0                50.000000  \n",
      "1                 0.000000  \n",
      "2                31.250000  \n",
      "3                11.111111  \n",
      "4                50.000000  \n",
      "..                     ...  \n",
      "111              33.333333  \n",
      "112              45.000000  \n",
      "113               0.000000  \n",
      "114              92.391304  \n",
      "115               0.000000  \n",
      "\n",
      "[116 rows x 6 columns]\n"
     ]
    },
    {
     "ename": "ValueError",
     "evalue": "The truth value of a Series is ambiguous. Use a.empty, a.bool(), a.item(), a.any() or a.all().",
     "output_type": "error",
     "traceback": [
      "\u001b[0;31m---------------------------------------------------------------------------\u001b[0m",
      "\u001b[0;31mValueError\u001b[0m                                Traceback (most recent call last)",
      "\u001b[0;32m/var/folders/mv/c151lb7j7xx6ff_q9_85p_pc0000gn/T/ipykernel_41049/865380335.py\u001b[0m in \u001b[0;36m<module>\u001b[0;34m\u001b[0m\n\u001b[1;32m      1\u001b[0m \u001b[0msentiment_spread_csv_path\u001b[0m \u001b[0;34m=\u001b[0m \u001b[0mBASE_PATH\u001b[0m \u001b[0;34m+\u001b[0m \u001b[0;34m'output/quoted/sentiment_spread.csv'\u001b[0m\u001b[0;34m\u001b[0m\u001b[0;34m\u001b[0m\u001b[0m\n\u001b[1;32m      2\u001b[0m \u001b[0;34m\u001b[0m\u001b[0m\n\u001b[0;32m----> 3\u001b[0;31m \u001b[0mmost_spread_quoted_by_sentiment_with_rate\u001b[0m \u001b[0;34m=\u001b[0m \u001b[0mget_most_spread_quoted_by_sentiment_with_rate\u001b[0m\u001b[0;34m(\u001b[0m\u001b[0mbursty_quoted_tweets\u001b[0m\u001b[0;34m,\u001b[0m \u001b[0mrate\u001b[0m\u001b[0;34m=\u001b[0m\u001b[0mSENTIMENT_SPREAD_THRESHOLD\u001b[0m\u001b[0;34m)\u001b[0m\u001b[0;34m\u001b[0m\u001b[0;34m\u001b[0m\u001b[0m\n\u001b[0m\u001b[1;32m      4\u001b[0m \u001b[0mgenerate_dash_bursty_quotes_by_sentiment\u001b[0m\u001b[0;34m(\u001b[0m\u001b[0mbursty_quoted_tweets\u001b[0m\u001b[0;34m,\u001b[0m \u001b[0mmost_spread_quoted_by_sentiment_with_rate\u001b[0m\u001b[0;34m,\u001b[0m \u001b[0msentiment_spread_csv_path\u001b[0m\u001b[0;34m)\u001b[0m\u001b[0;34m\u001b[0m\u001b[0;34m\u001b[0m\u001b[0m\n",
      "\u001b[0;32m/var/folders/mv/c151lb7j7xx6ff_q9_85p_pc0000gn/T/ipykernel_41049/852146242.py\u001b[0m in \u001b[0;36mget_most_spread_quoted_by_sentiment_with_rate\u001b[0;34m(tweets_df, rate)\u001b[0m\n\u001b[1;32m     13\u001b[0m \u001b[0;34m\u001b[0m\u001b[0m\n\u001b[1;32m     14\u001b[0m     \u001b[0mprint\u001b[0m\u001b[0;34m(\u001b[0m\u001b[0mquoted_by_sentiment\u001b[0m\u001b[0;34m)\u001b[0m\u001b[0;34m\u001b[0m\u001b[0;34m\u001b[0m\u001b[0m\n\u001b[0;32m---> 15\u001b[0;31m     \u001b[0mquoted_by_sentiment\u001b[0m \u001b[0;34m=\u001b[0m \u001b[0mquoted_by_sentiment\u001b[0m\u001b[0;34m[\u001b[0m\u001b[0mquoted_by_sentiment\u001b[0m\u001b[0;34m[\u001b[0m\u001b[0;34m'pos_count'\u001b[0m\u001b[0;34m]\u001b[0m \u001b[0;34m>\u001b[0m \u001b[0;36m10\u001b[0m \u001b[0;32mor\u001b[0m \u001b[0mquoted_by_sentiment\u001b[0m\u001b[0;34m[\u001b[0m\u001b[0;34m'neg_count'\u001b[0m\u001b[0;34m]\u001b[0m\u001b[0;34m]\u001b[0m\u001b[0;34m\u001b[0m\u001b[0;34m\u001b[0m\u001b[0m\n\u001b[0m\u001b[1;32m     16\u001b[0m     \u001b[0;32mreturn\u001b[0m \u001b[0mquoted_by_sentiment\u001b[0m\u001b[0;34m[\u001b[0m\u001b[0;34m(\u001b[0m\u001b[0mquoted_by_sentiment\u001b[0m\u001b[0;34m[\u001b[0m\u001b[0;34m'pos_count'\u001b[0m\u001b[0;34m]\u001b[0m \u001b[0;34m>=\u001b[0m \u001b[0mrate\u001b[0m\u001b[0;34m)\u001b[0m \u001b[0;34m|\u001b[0m \u001b[0;34m(\u001b[0m\u001b[0mquoted_by_sentiment\u001b[0m\u001b[0;34m[\u001b[0m\u001b[0;34m'neg_count'\u001b[0m\u001b[0;34m]\u001b[0m \u001b[0;34m>=\u001b[0m \u001b[0mrate\u001b[0m\u001b[0;34m)\u001b[0m\u001b[0;34m]\u001b[0m\u001b[0;34m\u001b[0m\u001b[0;34m\u001b[0m\u001b[0m\n\u001b[1;32m     17\u001b[0m \u001b[0;34m\u001b[0m\u001b[0m\n",
      "\u001b[0;32m~/opt/anaconda3/lib/python3.8/site-packages/pandas/core/generic.py\u001b[0m in \u001b[0;36m__nonzero__\u001b[0;34m(self)\u001b[0m\n\u001b[1;32m   1535\u001b[0m     \u001b[0;34m@\u001b[0m\u001b[0mfinal\u001b[0m\u001b[0;34m\u001b[0m\u001b[0;34m\u001b[0m\u001b[0m\n\u001b[1;32m   1536\u001b[0m     \u001b[0;32mdef\u001b[0m \u001b[0m__nonzero__\u001b[0m\u001b[0;34m(\u001b[0m\u001b[0mself\u001b[0m\u001b[0;34m)\u001b[0m\u001b[0;34m:\u001b[0m\u001b[0;34m\u001b[0m\u001b[0;34m\u001b[0m\u001b[0m\n\u001b[0;32m-> 1537\u001b[0;31m         raise ValueError(\n\u001b[0m\u001b[1;32m   1538\u001b[0m             \u001b[0;34mf\"The truth value of a {type(self).__name__} is ambiguous. \"\u001b[0m\u001b[0;34m\u001b[0m\u001b[0;34m\u001b[0m\u001b[0m\n\u001b[1;32m   1539\u001b[0m             \u001b[0;34m\"Use a.empty, a.bool(), a.item(), a.any() or a.all().\"\u001b[0m\u001b[0;34m\u001b[0m\u001b[0;34m\u001b[0m\u001b[0m\n",
      "\u001b[0;31mValueError\u001b[0m: The truth value of a Series is ambiguous. Use a.empty, a.bool(), a.item(), a.any() or a.all()."
     ]
    }
   ],
   "source": [
    "sentiment_spread_csv_path = BASE_PATH + 'output/quoted/sentiment_spread.csv'\n",
    "\n",
    "most_spread_quoted_by_sentiment_with_rate = get_most_spread_quoted_by_sentiment_with_rate(bursty_quoted_tweets, rate=SENTIMENT_SPREAD_THRESHOLD)\n",
    "generate_dash_bursty_quotes_by_sentiment(bursty_quoted_tweets, most_spread_quoted_by_sentiment_with_rate, sentiment_spread_csv_path)"
   ]
  },
  {
   "cell_type": "code",
   "execution_count": 336,
   "id": "bc7b8045-745d-40a4-a2ef-306c03b9e2e0",
   "metadata": {},
   "outputs": [
    {
     "data": {
      "text/html": [
       "<div>\n",
       "<style scoped>\n",
       "    .dataframe tbody tr th:only-of-type {\n",
       "        vertical-align: middle;\n",
       "    }\n",
       "\n",
       "    .dataframe tbody tr th {\n",
       "        vertical-align: top;\n",
       "    }\n",
       "\n",
       "    .dataframe thead th {\n",
       "        text-align: right;\n",
       "    }\n",
       "</style>\n",
       "<table border=\"1\" class=\"dataframe\">\n",
       "  <thead>\n",
       "    <tr style=\"text-align: right;\">\n",
       "      <th>tweet_sentiment</th>\n",
       "      <th>quoted_tweet_id</th>\n",
       "      <th>negative</th>\n",
       "      <th>neutral</th>\n",
       "      <th>positive</th>\n",
       "      <th>pos_count</th>\n",
       "      <th>neg_count</th>\n",
       "    </tr>\n",
       "  </thead>\n",
       "  <tbody>\n",
       "    <tr>\n",
       "      <th>1</th>\n",
       "      <td>1423157419706707968</td>\n",
       "      <td>0</td>\n",
       "      <td>0</td>\n",
       "      <td>2</td>\n",
       "      <td>100.000000</td>\n",
       "      <td>0.000000</td>\n",
       "    </tr>\n",
       "    <tr>\n",
       "      <th>6</th>\n",
       "      <td>1423220657848942592</td>\n",
       "      <td>5</td>\n",
       "      <td>0</td>\n",
       "      <td>1</td>\n",
       "      <td>16.666667</td>\n",
       "      <td>83.333333</td>\n",
       "    </tr>\n",
       "    <tr>\n",
       "      <th>8</th>\n",
       "      <td>1423505130444394496</td>\n",
       "      <td>0</td>\n",
       "      <td>0</td>\n",
       "      <td>9</td>\n",
       "      <td>100.000000</td>\n",
       "      <td>0.000000</td>\n",
       "    </tr>\n",
       "    <tr>\n",
       "      <th>15</th>\n",
       "      <td>1424514936902848512</td>\n",
       "      <td>0</td>\n",
       "      <td>0</td>\n",
       "      <td>3</td>\n",
       "      <td>100.000000</td>\n",
       "      <td>0.000000</td>\n",
       "    </tr>\n",
       "    <tr>\n",
       "      <th>22</th>\n",
       "      <td>1424662560909922304</td>\n",
       "      <td>3</td>\n",
       "      <td>7</td>\n",
       "      <td>96</td>\n",
       "      <td>90.566038</td>\n",
       "      <td>2.830189</td>\n",
       "    </tr>\n",
       "    <tr>\n",
       "      <th>28</th>\n",
       "      <td>1425231934536491008</td>\n",
       "      <td>0</td>\n",
       "      <td>0</td>\n",
       "      <td>2</td>\n",
       "      <td>100.000000</td>\n",
       "      <td>0.000000</td>\n",
       "    </tr>\n",
       "    <tr>\n",
       "      <th>30</th>\n",
       "      <td>1425657422471856128</td>\n",
       "      <td>13</td>\n",
       "      <td>0</td>\n",
       "      <td>0</td>\n",
       "      <td>0.000000</td>\n",
       "      <td>100.000000</td>\n",
       "    </tr>\n",
       "    <tr>\n",
       "      <th>39</th>\n",
       "      <td>1427022075743539200</td>\n",
       "      <td>0</td>\n",
       "      <td>0</td>\n",
       "      <td>10</td>\n",
       "      <td>100.000000</td>\n",
       "      <td>0.000000</td>\n",
       "    </tr>\n",
       "    <tr>\n",
       "      <th>41</th>\n",
       "      <td>1427579429165748224</td>\n",
       "      <td>0</td>\n",
       "      <td>0</td>\n",
       "      <td>2</td>\n",
       "      <td>100.000000</td>\n",
       "      <td>0.000000</td>\n",
       "    </tr>\n",
       "    <tr>\n",
       "      <th>43</th>\n",
       "      <td>1427984293553340416</td>\n",
       "      <td>0</td>\n",
       "      <td>0</td>\n",
       "      <td>2</td>\n",
       "      <td>100.000000</td>\n",
       "      <td>0.000000</td>\n",
       "    </tr>\n",
       "    <tr>\n",
       "      <th>46</th>\n",
       "      <td>1428250377246285824</td>\n",
       "      <td>0</td>\n",
       "      <td>0</td>\n",
       "      <td>2</td>\n",
       "      <td>100.000000</td>\n",
       "      <td>0.000000</td>\n",
       "    </tr>\n",
       "    <tr>\n",
       "      <th>53</th>\n",
       "      <td>1428584131835748352</td>\n",
       "      <td>0</td>\n",
       "      <td>0</td>\n",
       "      <td>4</td>\n",
       "      <td>100.000000</td>\n",
       "      <td>0.000000</td>\n",
       "    </tr>\n",
       "    <tr>\n",
       "      <th>63</th>\n",
       "      <td>1429571845930594304</td>\n",
       "      <td>0</td>\n",
       "      <td>0</td>\n",
       "      <td>2</td>\n",
       "      <td>100.000000</td>\n",
       "      <td>0.000000</td>\n",
       "    </tr>\n",
       "    <tr>\n",
       "      <th>67</th>\n",
       "      <td>1430152923325997056</td>\n",
       "      <td>0</td>\n",
       "      <td>0</td>\n",
       "      <td>3</td>\n",
       "      <td>100.000000</td>\n",
       "      <td>0.000000</td>\n",
       "    </tr>\n",
       "    <tr>\n",
       "      <th>74</th>\n",
       "      <td>1430841139184144384</td>\n",
       "      <td>0</td>\n",
       "      <td>0</td>\n",
       "      <td>2</td>\n",
       "      <td>100.000000</td>\n",
       "      <td>0.000000</td>\n",
       "    </tr>\n",
       "    <tr>\n",
       "      <th>76</th>\n",
       "      <td>1431517279859224576</td>\n",
       "      <td>3</td>\n",
       "      <td>0</td>\n",
       "      <td>0</td>\n",
       "      <td>0.000000</td>\n",
       "      <td>100.000000</td>\n",
       "    </tr>\n",
       "    <tr>\n",
       "      <th>79</th>\n",
       "      <td>1431647857883459584</td>\n",
       "      <td>2</td>\n",
       "      <td>0</td>\n",
       "      <td>0</td>\n",
       "      <td>0.000000</td>\n",
       "      <td>100.000000</td>\n",
       "    </tr>\n",
       "    <tr>\n",
       "      <th>85</th>\n",
       "      <td>1432782488825470976</td>\n",
       "      <td>0</td>\n",
       "      <td>0</td>\n",
       "      <td>3</td>\n",
       "      <td>100.000000</td>\n",
       "      <td>0.000000</td>\n",
       "    </tr>\n",
       "    <tr>\n",
       "      <th>95</th>\n",
       "      <td>1435244109241913088</td>\n",
       "      <td>0</td>\n",
       "      <td>0</td>\n",
       "      <td>2</td>\n",
       "      <td>100.000000</td>\n",
       "      <td>0.000000</td>\n",
       "    </tr>\n",
       "    <tr>\n",
       "      <th>96</th>\n",
       "      <td>1435656454355050496</td>\n",
       "      <td>20</td>\n",
       "      <td>0</td>\n",
       "      <td>0</td>\n",
       "      <td>0.000000</td>\n",
       "      <td>100.000000</td>\n",
       "    </tr>\n",
       "    <tr>\n",
       "      <th>99</th>\n",
       "      <td>1436366439901024512</td>\n",
       "      <td>0</td>\n",
       "      <td>0</td>\n",
       "      <td>2</td>\n",
       "      <td>100.000000</td>\n",
       "      <td>0.000000</td>\n",
       "    </tr>\n",
       "    <tr>\n",
       "      <th>109</th>\n",
       "      <td>1438280206696042496</td>\n",
       "      <td>21</td>\n",
       "      <td>1</td>\n",
       "      <td>0</td>\n",
       "      <td>0.000000</td>\n",
       "      <td>95.454545</td>\n",
       "    </tr>\n",
       "    <tr>\n",
       "      <th>110</th>\n",
       "      <td>1438395703185735680</td>\n",
       "      <td>252</td>\n",
       "      <td>26</td>\n",
       "      <td>8</td>\n",
       "      <td>2.797203</td>\n",
       "      <td>88.111888</td>\n",
       "    </tr>\n",
       "    <tr>\n",
       "      <th>114</th>\n",
       "      <td>1439236328772669440</td>\n",
       "      <td>85</td>\n",
       "      <td>7</td>\n",
       "      <td>0</td>\n",
       "      <td>0.000000</td>\n",
       "      <td>92.391304</td>\n",
       "    </tr>\n",
       "  </tbody>\n",
       "</table>\n",
       "</div>"
      ],
      "text/plain": [
       "tweet_sentiment      quoted_tweet_id  negative  neutral  positive   pos_count  \\\n",
       "1                1423157419706707968         0        0         2  100.000000   \n",
       "6                1423220657848942592         5        0         1   16.666667   \n",
       "8                1423505130444394496         0        0         9  100.000000   \n",
       "15               1424514936902848512         0        0         3  100.000000   \n",
       "22               1424662560909922304         3        7        96   90.566038   \n",
       "28               1425231934536491008         0        0         2  100.000000   \n",
       "30               1425657422471856128        13        0         0    0.000000   \n",
       "39               1427022075743539200         0        0        10  100.000000   \n",
       "41               1427579429165748224         0        0         2  100.000000   \n",
       "43               1427984293553340416         0        0         2  100.000000   \n",
       "46               1428250377246285824         0        0         2  100.000000   \n",
       "53               1428584131835748352         0        0         4  100.000000   \n",
       "63               1429571845930594304         0        0         2  100.000000   \n",
       "67               1430152923325997056         0        0         3  100.000000   \n",
       "74               1430841139184144384         0        0         2  100.000000   \n",
       "76               1431517279859224576         3        0         0    0.000000   \n",
       "79               1431647857883459584         2        0         0    0.000000   \n",
       "85               1432782488825470976         0        0         3  100.000000   \n",
       "95               1435244109241913088         0        0         2  100.000000   \n",
       "96               1435656454355050496        20        0         0    0.000000   \n",
       "99               1436366439901024512         0        0         2  100.000000   \n",
       "109              1438280206696042496        21        1         0    0.000000   \n",
       "110              1438395703185735680       252       26         8    2.797203   \n",
       "114              1439236328772669440        85        7         0    0.000000   \n",
       "\n",
       "tweet_sentiment   neg_count  \n",
       "1                  0.000000  \n",
       "6                 83.333333  \n",
       "8                  0.000000  \n",
       "15                 0.000000  \n",
       "22                 2.830189  \n",
       "28                 0.000000  \n",
       "30               100.000000  \n",
       "39                 0.000000  \n",
       "41                 0.000000  \n",
       "43                 0.000000  \n",
       "46                 0.000000  \n",
       "53                 0.000000  \n",
       "63                 0.000000  \n",
       "67                 0.000000  \n",
       "74                 0.000000  \n",
       "76               100.000000  \n",
       "79               100.000000  \n",
       "85                 0.000000  \n",
       "95                 0.000000  \n",
       "96               100.000000  \n",
       "99                 0.000000  \n",
       "109               95.454545  \n",
       "110               88.111888  \n",
       "114               92.391304  "
      ]
     },
     "execution_count": 336,
     "metadata": {},
     "output_type": "execute_result"
    }
   ],
   "source": [
    "most_spread_quoted_by_sentiment_with_rate"
   ]
  },
  {
   "cell_type": "markdown",
   "id": "d4a4eda5-2e8f-4911-891a-9052f00b2bc8",
   "metadata": {},
   "source": [
    "# Retweets"
   ]
  },
  {
   "cell_type": "code",
   "execution_count": 314,
   "id": "96f7aad5-ed69-4bc4-ba2c-82fcbe064533",
   "metadata": {},
   "outputs": [],
   "source": [
    "def get_formatted_retweets():\n",
    "    tweet_enagagement_retweet = sg_tweets[sg_tweets['tweet_enagagement_type'] == 'Retweet']\n",
    "\n",
    "    # retweet time processing\n",
    "    tweet_enagagement_retweet['retweeted_tweet_time'] = pd.to_datetime(tweet_enagagement_retweet['retweeted_tweet_time'], errors='coerce')\n",
    "    tweet_enagagement_retweet = tweet_enagagement_retweet.dropna(subset=['retweeted_tweet_time'])\n",
    "    tweet_enagagement_retweet['retweeted_tweet_date'] = tweet_enagagement_retweet.retweeted_tweet_time.dt.strftime('%Y-%m-%d')\n",
    "\n",
    "    # summing RTs + <3\n",
    "    tweet_enagagement_retweet['total_engagement'] = tweet_enagagement_retweet['retweeted_retweet_count']  + tweet_enagagement_retweet['retweeted_favorite_count'] \n",
    "    tweet_enagagement_retweet[['retweeted_tweet_id', 'total_engagement']] = tweet_enagagement_retweet[['retweeted_tweet_id', 'total_engagement']].astype(int)\n",
    "    tweet_enagagement_retweet = tweet_enagagement_retweet.loc[:, ~tweet_enagagement_retweet.columns.str.contains('^Unnamed')]\n",
    "    return tweet_enagagement_retweet\n",
    "\n",
    "def plot_countries_with_most_rts_creators(get_formatted_retweets):\n",
    "    rts_geo = tweet_enagagement_retweet['retweeted_user_geo_coding']\n",
    "    c_rts_geo = col.Counter(rts_geo).most_common()\n",
    "\n",
    "    x_top = 20\n",
    "\n",
    "    rts_geo = [c[0] for c in c_rts_geo[:x_top]]\n",
    "    counts = [c[1] for c in c_rts_geo[:x_top]]\n",
    "\n",
    "    plt.barh(rts_geo[::-1], counts[::-1])\n",
    "\n",
    "    plt.ylabel(\"rts_quoted_geo\")\n",
    "    plt.xlabel(\"Count\")\n",
    "    plt.xticks(rotation=45)\n",
    "    plt.title(\"Distribution of original retweet location\")\n",
    "    plt.show()"
   ]
  },
  {
   "cell_type": "code",
   "execution_count": 315,
   "id": "c82fbc7f-46ee-424a-a600-a6df9afb6069",
   "metadata": {},
   "outputs": [],
   "source": [
    "tweet_enagagement_retweet = get_formatted_retweets()"
   ]
  },
  {
   "cell_type": "code",
   "execution_count": 316,
   "id": "a7db35e1-27dd-43d8-aa84-cb65dbcf495b",
   "metadata": {},
   "outputs": [
    {
     "data": {
      "image/png": "[encoded data removed]",
      "text/plain": [
       "<Figure size 432x288 with 1 Axes>"
      ]
     },
     "metadata": {
      "needs_background": "light"
     },
     "output_type": "display_data"
    }
   ],
   "source": [
    "plot_countries_with_most_rts_creators(tweet_enagagement_retweet)"
   ]
  },
  {
   "cell_type": "markdown",
   "id": "94c33b8f-7879-4a92-9128-f9e2bb957158",
   "metadata": {},
   "source": [
    "## 4. Viral local retweets: Local news feed <a id=\"cell4\"></a>\n",
    "\n",
    "##### Viral local retweets:Tweets created between MIN_DATE and MAX_DATE that are (1) by Singapore geocoded accounts (2) highly retweeted by count or (3) received an unusual number of endorsements - retweets and favorites\n"
   ]
  },
  {
   "cell_type": "code",
   "execution_count": 317,
   "id": "93170247-f8aa-4d85-913f-839649821e7a",
   "metadata": {},
   "outputs": [],
   "source": [
    "neg_local_retweet = tweet_enagagement_retweet[(tweet_enagagement_retweet['tweet_sentiment'] == 'negative') & \\\n",
    "                                                    (tweet_enagagement_retweet['retweeted_user_geo_coding'] ==  COUNTRY) & \\\n",
    "                                                    (tweet_enagagement_retweet['retweeted_tweet_date'].between(MIN_DATE, MAX_DATE, inclusive='both'))]\n",
    "\n",
    "pos_local_retweet = tweet_enagagement_retweet[(tweet_enagagement_retweet['tweet_sentiment'] == 'positive') & \\\n",
    "                                                    (tweet_enagagement_retweet['retweeted_user_geo_coding'] ==  COUNTRY) & \\\n",
    "                                                    (tweet_enagagement_retweet['retweeted_tweet_date'].between(MIN_DATE, MAX_DATE, inclusive='both'))]\n",
    "\n",
    "all_local_retweet = tweet_enagagement_retweet[(tweet_enagagement_retweet['retweeted_user_geo_coding'] ==  COUNTRY) & \\\n",
    "                                                    (tweet_enagagement_retweet['retweeted_tweet_date'].between(MIN_DATE, MAX_DATE, inclusive='both'))]"
   ]
  },
  {
   "cell_type": "code",
   "execution_count": 318,
   "id": "9abc9516-bde9-4145-8c6d-9f473adaa3ca",
   "metadata": {},
   "outputs": [],
   "source": [
    "# neg_local_retweet.value_counts(subset=['retweeted_tweet_id']).reset_index(name='local_count')"
   ]
  },
  {
   "cell_type": "code",
   "execution_count": 335,
   "id": "2f15f6ee-5ca0-47d6-9c5e-1cac48b6ea45",
   "metadata": {},
   "outputs": [
    {
     "name": "stdout",
     "output_type": "stream",
     "text": [
      "Total spiky tweets: 6\n",
      "Alphabet Alphabet Alphabet Alphabet Alphabet  26\n",
      "None\n",
      "Dark24 Dark24 Dark24 Dark24 Dark24  24\n",
      "None\n",
      "pastel pastel pastel pastel pastel  24\n",
      "None\n",
      "Saved trend and info!\n",
      "Total spiky tweets: 10\n",
      "Alphabet Alphabet Alphabet Alphabet Alphabet  26\n",
      "None\n",
      "Dark24 Dark24 Dark24 Dark24 Dark24  24\n",
      "None\n",
      "pastel pastel pastel pastel pastel  24\n",
      "None\n",
      "Saved trend and info!\n",
      "Total spiky tweets: 25\n",
      "Alphabet Alphabet Alphabet Alphabet Alphabet  26\n",
      "None\n",
      "Dark24 Dark24 Dark24 Dark24 Dark24  24\n",
      "None\n",
      "pastel pastel pastel pastel pastel  24\n",
      "None\n",
      "Saved trend and info!\n"
     ]
    }
   ],
   "source": [
    "neg_local_rts_trend_path = BASE_PATH + 'output/rts/local/neg_local_rts_trend.csv'\n",
    "neg_local_rts_info_path = BASE_PATH + 'output/rts/local/neg_local_rts_info.csv'\n",
    "\n",
    "generate_dash_bursty_retweets(neg_local_retweet, neg_local_rts_trend_path, neg_local_rts_info_path, .95)\n",
    "\n",
    "pos_local_rts_trend_path = BASE_PATH + 'output/rts/local/pos_local_rts_trend.csv'\n",
    "pos_local_rts_info_path = BASE_PATH + 'output/rts/local/pos_local_rts_info.csv'\n",
    "\n",
    "generate_dash_bursty_retweets(pos_local_retweet, pos_local_rts_trend_path, pos_local_rts_info_path,.96)\n",
    "\n",
    "\n",
    "all_local_rts_trend_path = BASE_PATH + 'output/rts/local/all_local_rts_trend.csv'\n",
    "all_local_rts_info_path = BASE_PATH + 'output/rts/local/all_local_rts_info.csv'\n",
    "\n",
    "generate_dash_bursty_retweets(all_local_retweet, all_local_rts_trend_path, all_local_rts_info_path,.96)"
   ]
  },
  {
   "cell_type": "markdown",
   "id": "35e78168-f87d-4591-b3e5-a96f53c6ab59",
   "metadata": {},
   "source": [
    "## 5. Viral global retweets: Global news feed <a id=\"cell5\"></a>\n",
    "\n",
    "Viral global retweets:Tweets created between MIN_DATE and MAX_DATE that are (1) by Non-Singapore geocoded accounts (2) highly retweeted by count or (3) received an unusual number of endorsements - retweets and favorites"
   ]
  },
  {
   "cell_type": "code",
   "execution_count": 320,
   "id": "d0aff669-3c75-4c35-a75d-06adcc94226a",
   "metadata": {},
   "outputs": [],
   "source": [
    "neg_global_retweet = tweet_enagagement_retweet[(tweet_enagagement_retweet['tweet_sentiment'] == 'negative') & \\\n",
    "                                                    (tweet_enagagement_retweet['retweeted_user_geo_coding'] !=  COUNTRY) & \\\n",
    "                                                    (tweet_enagagement_retweet['retweeted_tweet_date'].between(MIN_DATE, MAX_DATE, inclusive='both'))]\n",
    "\n",
    "pos_global_retweet = tweet_enagagement_retweet[(tweet_enagagement_retweet['tweet_sentiment'] == 'positive') & \\\n",
    "                                                    (tweet_enagagement_retweet['retweeted_user_geo_coding'] !=  COUNTRY) & \\\n",
    "                                                    (tweet_enagagement_retweet['retweeted_tweet_date'].between(MIN_DATE, MAX_DATE, inclusive='both'))]\n",
    "\n",
    "all_global_retweet = tweet_enagagement_retweet[(tweet_enagagement_retweet['retweeted_user_geo_coding'] !=  COUNTRY) & \\\n",
    "                                               (tweet_enagagement_retweet['retweeted_tweet_date'].between(MIN_DATE, MAX_DATE, inclusive='both'))]"
   ]
  },
  {
   "cell_type": "code",
   "execution_count": 321,
   "id": "f5705b6e-6803-48b1-bb14-391a15adf71a",
   "metadata": {},
   "outputs": [
    {
     "name": "stdout",
     "output_type": "stream",
     "text": [
      "Total spiky tweets: 32\n",
      "Saved trend and info!\n",
      "Total spiky tweets: 20\n",
      "Saved trend and info!\n",
      "Total spiky tweets: 71\n",
      "Saved trend and info!\n"
     ]
    }
   ],
   "source": [
    "neg_global_rts_trend_path = BASE_PATH + 'output/rts/global/neg_global_rts_trend.csv'\n",
    "neg_global_rts_info_path = BASE_PATH + 'output/rts/global/neg_global_rts_info.csv'\n",
    "\n",
    "generate_dash_bursty_retweets(pos_global_retweet, neg_global_rts_trend_path, neg_global_rts_info_path, .95)\n",
    "\n",
    "pos_global_rts_trend_path = BASE_PATH + 'output/rts/global/pos_global_rts_trend.csv'\n",
    "pos_global_rts_info_path = BASE_PATH + 'output/rts/global/pos_global_rts_info.csv'\n",
    "\n",
    "generate_dash_bursty_retweets(neg_global_retweet, pos_global_rts_trend_path, pos_global_rts_info_path,.96)\n",
    "\n",
    "all_global_rts_trend_path = BASE_PATH + 'output/rts/global/all_global_rts_trend.csv'\n",
    "all_global_rts_info_path = BASE_PATH + 'output/rts/global/all_global_rts_info.csv'\n",
    "generate_dash_bursty_retweets(all_global_retweet, all_global_rts_trend_path, all_global_rts_info_path, .96)"
   ]
  },
  {
   "cell_type": "code",
   "execution_count": null,
   "id": "22c0f269-6f45-4296-a3d9-a7906c295077",
   "metadata": {},
   "outputs": [],
   "source": []
  },
  {
   "cell_type": "code",
   "execution_count": null,
   "id": "b030bd72-128d-4e4e-b224-6b6ec0125e32",
   "metadata": {},
   "outputs": [],
   "source": []
  },
  {
   "cell_type": "code",
   "execution_count": null,
   "id": "e33075eb-1f9c-4414-bea9-cdc7755843cb",
   "metadata": {},
   "outputs": [],
   "source": []
  },
  {
   "cell_type": "code",
   "execution_count": null,
   "id": "3df40aaf-4082-407a-9b4c-b91bde65bc39",
   "metadata": {},
   "outputs": [],
   "source": []
  },
  {
   "cell_type": "code",
   "execution_count": null,
   "id": "b0760cbb-aa7b-48d1-a1ac-21a34536fecc",
   "metadata": {},
   "outputs": [],
   "source": []
  },
  {
   "cell_type": "code",
   "execution_count": null,
   "id": "b1f3a204-8a31-4a74-86d9-841c1487ef10",
   "metadata": {},
   "outputs": [],
   "source": [
    "# print(\"spike_value: \", spike_value)\n",
    "# sub_spike = spike_df[spike_df['delta_engagement'] > spike_value]\n",
    "# print(\"sub_spike.shape\", sub_spike.shape)\n",
    "# print(sub_spike.describe())\n",
    "# fig = px.bar(sub_spike, y=\"delta_engagement\")\n",
    "# fig.show()\n",
    "\n",
    "# c_neg_local_retweet[['local_count']] = c_neg_local_retweet[['local_count']].astype(int)\n",
    "# sub_neg_local_retweet = c_neg_local_retweet[c_neg_local_retweet['local_count'] > 10]\n",
    "# fig = px.box(sub_neg_local_retweet, y=\"local_count\")\n",
    "# fig.show()"
   ]
  },
  {
   "cell_type": "code",
   "execution_count": 218,
   "id": "bead5edd-fee2-44d7-b97e-4e745ab654cf",
   "metadata": {},
   "outputs": [],
   "source": [
    "\n",
    "#, percentile=PERCENTILE, top_tweets_count=TOP_RTS_POS_NEG):\n",
    "# # count of RTs\n",
    "# c_quoted = quoted_tweets.value_counts(subset=['quoted_tweet_id']).reset_index(name='local_count').sort_values('local_count', ascending=False)\n",
    "# # top RTs by count\n",
    "# quoted_qids_by_count = list(c_quoted[:10]['quoted_tweet_id'])\n",
    "\n",
    "# SPIKE_THRESHOLD = 300 # TODO: Find a threshold using stats (like from outliers)\n",
    "# grouped_sorted_date = quoted_tweets.groupby(['quoted_tweet_id', 'quoted_tweet_date']).apply(pd.DataFrame.sort_values, 'quoted_tweet_date').reset_index(drop=True)\n",
    "# max_grouped_sorted_date = grouped_sorted_date.groupby(['quoted_tweet_id', 'quoted_tweet_date'])['total_engagement'].max().reset_index()\n",
    "# max_grouped_sorted_date['delta_engagement'] = max_grouped_sorted_date.groupby(['quoted_tweet_id'])['total_engagement'].diff().fillna(0).astype(int)\n",
    "# spike = max_grouped_sorted_date.groupby('quoted_tweet_id').nth(0)\n",
    "# spike = list(spike[spike['delta_engagement'] > SPIKE_THRESHOLD].reset_index()['quoted_tweet_id'])\n",
    "\n",
    "# viral_quoted_tweets = quoted_tweets[quoted_tweets['quoted_tweet_id'].isin(quoted_qids_by_count + spike)]"
   ]
  },
  {
   "cell_type": "code",
   "execution_count": null,
   "id": "a7fb0132-6a46-43ce-af00-998e3f8bacd3",
   "metadata": {},
   "outputs": [],
   "source": []
  }
 ],
 "metadata": {
  "kernelspec": {
   "display_name": "Python 3 (ipykernel)",
   "language": "python",
   "name": "python3"
  },
  "language_info": {
   "codemirror_mode": {
    "name": "ipython",
    "version": 3
   },
   "file_extension": ".py",
   "mimetype": "text/x-python",
   "name": "python",
   "nbconvert_exporter": "python",
   "pygments_lexer": "ipython3",
   "version": "3.8.11"
  }
 },
 "nbformat": 4,
 "nbformat_minor": 5
}
