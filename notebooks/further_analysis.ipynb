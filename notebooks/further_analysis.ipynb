{
 "cells": [
  {
   "cell_type": "code",
   "execution_count": 81,
   "id": "a6b3390e-60ad-415b-8146-1847452e1f19",
   "metadata": {},
   "outputs": [],
   "source": [
    "import re\n",
    "import os\n",
    "import time\n",
    "import sys\n",
    "import glob \n",
    "from datetime import datetime  as dt\n",
    "\n",
    "import collections as col\n",
    "import functools as ft\n",
    "import itertools as it\n",
    "\n",
    "import numpy as np\n",
    "import pandas as pd\n",
    "\n",
    "# visualizations\n",
    "import plotly.express as px\n",
    "import plotly.graph_objects as go\n",
    "import matplotlib.pyplot as plt"
   ]
  },
  {
   "cell_type": "code",
   "execution_count": 82,
   "id": "29b02096-8eb0-425b-97bc-c04621b52e72",
   "metadata": {},
   "outputs": [],
   "source": [
    "# to import the desired function from the module hierarchy\n",
    "module_path = os.path.abspath(os.path.join('..'))\n",
    "if module_path not in sys.path:\n",
    "    sys.path.append(module_path)"
   ]
  },
  {
   "cell_type": "code",
   "execution_count": 2,
   "id": "3f669329-2595-4942-adc0-7142a69dd842",
   "metadata": {},
   "outputs": [],
   "source": [
    "pd.set_option('display.max_colwidth', None)"
   ]
  },
  {
   "cell_type": "code",
   "execution_count": 3,
   "id": "bb550ef0-8374-4539-b2ba-24ac05dc7d7a",
   "metadata": {},
   "outputs": [],
   "source": [
    "DATA_PATH = '../data/'"
   ]
  },
  {
   "cell_type": "code",
   "execution_count": 4,
   "id": "50269641-65d9-4963-af9f-8683aa2627d2",
   "metadata": {},
   "outputs": [
    {
     "data": {
      "text/plain": [
       "(181423, 54)"
      ]
     },
     "execution_count": 4,
     "metadata": {},
     "output_type": "execute_result"
    }
   ],
   "source": [
    "tweets = pd.read_csv(DATA_PATH + \"sg.csv\")\n",
    "tweets.shape"
   ]
  },
  {
   "cell_type": "code",
   "execution_count": 209,
   "id": "266e8cd0-fc5e-4061-9eb5-07505b73ff64",
   "metadata": {},
   "outputs": [],
   "source": [
    "# tweets[tweets['tweet_possibly_sensitive'] == True]['tweet_text'].unique().tolist()"
   ]
  },
  {
   "cell_type": "code",
   "execution_count": 5,
   "id": "651c77a9-d434-4a12-8151-4a950ec8942e",
   "metadata": {},
   "outputs": [
    {
     "data": {
      "text/plain": [
       "Index(['Unnamed: 0', 'tweet_text', 'tweet_time', 'tweet_id', 'tweet_lang',\n",
       "       'tweet_possibly_sensitive', 'entity_image_url', 'entity_mentions',\n",
       "       'entity_hashtags', 'entity_link_url', 'user_id_x', 'user_name_x',\n",
       "       'user_screenname_x', 'user_friends_count', 'user_followers_count',\n",
       "       'user_verified', 'user_location', 'user_desc', 'user_geo_coding',\n",
       "       'user_geo_tagging', 'user_id_y', 'user_name_y', 'user_screenname_y',\n",
       "       'tweet_enagagement_type', 'replied_to_tweet_id', 'replied_to_user_id',\n",
       "       'replied_to_user_screenname', 'retweeted_tweet_id',\n",
       "       'retweeted_tweet_time', 'retweeted_user_id', 'retweeted_user_name',\n",
       "       'retweeted_user_verified', 'retweeted_user_screenname',\n",
       "       'retweeted_user_geo_coding', 'retweeted_user_geo_coding_type',\n",
       "       'retweeted_retweet_count', 'retweeted_favorite_count',\n",
       "       'quoted_tweet_text', 'quoted_tweet_id', 'quoted_tweet_time',\n",
       "       'quoted_user_id', 'quoted_user_name', 'quoted_user_verified',\n",
       "       'quoted_user_screenname', 'quoted_user_geo_coding',\n",
       "       'quoted_user_geo_coding_type', 'quoted_retweet_count',\n",
       "       'quoted_favorite_count', 'tweet_datetime', 'tweet_date',\n",
       "       'processed_tweet_text', 'processed_quoted_tweet_text',\n",
       "       'tweet_sentiment', 'quoted_tweet_sentiment'],\n",
       "      dtype='object')"
      ]
     },
     "execution_count": 5,
     "metadata": {},
     "output_type": "execute_result"
    }
   ],
   "source": [
    "tweets.columns"
   ]
  },
  {
   "cell_type": "code",
   "execution_count": 13,
   "id": "85c3f7bd-9789-4e61-a67f-73959069d1e8",
   "metadata": {},
   "outputs": [],
   "source": [
    "link_data = tweets[tweets['entity_link_url'].notna()]['entity_link_url']"
   ]
  },
  {
   "cell_type": "code",
   "execution_count": 14,
   "id": "73f351da-0092-4bb3-99c5-cbed66e0e936",
   "metadata": {},
   "outputs": [
    {
     "data": {
      "text/plain": [
       "(95409,)"
      ]
     },
     "execution_count": 14,
     "metadata": {},
     "output_type": "execute_result"
    }
   ],
   "source": [
    "link_data.shape"
   ]
  },
  {
   "cell_type": "code",
   "execution_count": 313,
   "id": "a547a6dc-4594-47e8-938c-07969a0e90ea",
   "metadata": {},
   "outputs": [],
   "source": [
    "import pytesseract\n",
    "import urllib.request\n",
    "\n",
    "IMG_PATH = \"../data/img/\"\n",
    "\n",
    "img_content = {\"tweet_id\": [], \"img_content\": [], \"tweet_date\": []}"
   ]
  },
  {
   "cell_type": "code",
   "execution_count": 314,
   "id": "c3c79dd5-1d7e-4dcf-8fc8-fe851cd5b97f",
   "metadata": {},
   "outputs": [],
   "source": [
    "# def get_image_content():\n",
    "#     files = glob.glob(IMG_PATH + \"*.jpg\")\n",
    "    \n",
    "#     for i in files:\n",
    "#         try:\n",
    "#             text = pytesseract.image_to_string(i)\n",
    "#         except Exception as e:\n",
    "#             print(e)\n",
    "#             continue\n",
    "#         img_content[\"tweet_id\"] = \n",
    "    \n",
    "def save_images():\n",
    "    img_data = tweets[tweets['entity_image_url'].notna()][['entity_image_url', 'tweet_id']]\n",
    "    print(\"Total images\", img_data.shape)\n",
    "    img_count = 0\n",
    "    for path, tid in zip(img_data['entity_image_url'], img_data['tweet_id']):\n",
    "        try:\n",
    "            a = urllib.request.urlretrieve(path, IMG_PATH + str(tid) + \".jpg\")\n",
    "            img_count += 1\n",
    "        except Exception as e:\n",
    "            print(e)\n",
    "    print(\"Total images saved\", img_count)\n",
    "            \n",
    "            "
   ]
  },
  {
   "cell_type": "code",
   "execution_count": null,
   "id": "a4aaa834-8629-45be-8dee-14900885ca3d",
   "metadata": {},
   "outputs": [
    {
     "name": "stdout",
     "output_type": "stream",
     "text": [
      "Total images (13166, 2)\n",
      "HTTP Error 404: Not Found\n",
      "HTTP Error 404: Not Found\n",
      "HTTP Error 404: Not Found\n",
      "HTTP Error 404: Not Found\n",
      "HTTP Error 404: Not Found\n",
      "HTTP Error 404: Not Found\n",
      "HTTP Error 404: Not Found\n",
      "HTTP Error 404: Not Found\n",
      "HTTP Error 404: Not Found\n",
      "HTTP Error 404: Not Found\n",
      "HTTP Error 404: Not Found\n",
      "HTTP Error 404: Not Found\n",
      "HTTP Error 404: Not Found\n",
      "HTTP Error 404: Not Found\n",
      "HTTP Error 404: Not Found\n",
      "HTTP Error 404: Not Found\n",
      "HTTP Error 404: Not Found\n",
      "HTTP Error 404: Not Found\n",
      "HTTP Error 404: Not Found\n",
      "HTTP Error 404: Not Found\n",
      "HTTP Error 404: Not Found\n",
      "HTTP Error 403: Forbidden\n",
      "HTTP Error 404: Not Found\n",
      "HTTP Error 404: Not Found\n",
      "HTTP Error 404: Not Found\n",
      "HTTP Error 404: Not Found\n",
      "HTTP Error 404: Not Found\n",
      "HTTP Error 403: Forbidden\n",
      "HTTP Error 403: Forbidden\n",
      "HTTP Error 404: Not Found\n",
      "HTTP Error 404: Not Found\n",
      "HTTP Error 403: Forbidden\n",
      "HTTP Error 404: Not Found\n",
      "HTTP Error 404: Not Found\n",
      "HTTP Error 404: Not Found\n",
      "HTTP Error 404: Not Found\n",
      "HTTP Error 404: Not Found\n",
      "HTTP Error 404: Not Found\n",
      "HTTP Error 404: Not Found\n",
      "HTTP Error 404: Not Found\n",
      "HTTP Error 403: Forbidden\n",
      "HTTP Error 403: Forbidden\n",
      "HTTP Error 404: Not Found\n",
      "HTTP Error 404: Not Found\n",
      "HTTP Error 404: Not Found\n",
      "HTTP Error 403: Forbidden\n",
      "HTTP Error 404: Not Found\n",
      "HTTP Error 404: Not Found\n",
      "HTTP Error 404: Not Found\n",
      "HTTP Error 403: Forbidden\n",
      "HTTP Error 404: Not Found\n",
      "HTTP Error 404: Not Found\n",
      "HTTP Error 404: Not Found\n",
      "HTTP Error 403: Forbidden\n",
      "HTTP Error 404: Not Found\n",
      "HTTP Error 404: Not Found\n",
      "HTTP Error 404: Not Found\n",
      "HTTP Error 404: Not Found\n",
      "HTTP Error 404: Not Found\n",
      "HTTP Error 404: Not Found\n",
      "HTTP Error 403: Forbidden\n",
      "HTTP Error 403: Forbidden\n",
      "HTTP Error 403: Forbidden\n",
      "HTTP Error 504: Gateway Timeout\n",
      "HTTP Error 404: Not Found\n",
      "HTTP Error 404: Not Found\n",
      "HTTP Error 404: Not Found\n",
      "HTTP Error 403: Forbidden\n",
      "HTTP Error 404: Not Found\n",
      "HTTP Error 404: Not Found\n",
      "HTTP Error 404: Not Found\n",
      "HTTP Error 404: Not Found\n",
      "HTTP Error 404: Not Found\n",
      "HTTP Error 403: Forbidden\n",
      "HTTP Error 404: Not Found\n",
      "HTTP Error 403: Forbidden\n",
      "HTTP Error 404: Not Found\n",
      "HTTP Error 404: Not Found\n",
      "HTTP Error 403: Forbidden\n",
      "HTTP Error 404: Not Found\n",
      "HTTP Error 404: Not Found\n",
      "HTTP Error 404: Not Found\n",
      "HTTP Error 404: Not Found\n",
      "HTTP Error 404: Not Found\n",
      "HTTP Error 404: Not Found\n",
      "HTTP Error 404: Not Found\n",
      "HTTP Error 404: Not Found\n",
      "HTTP Error 404: Not Found\n",
      "HTTP Error 404: Not Found\n",
      "HTTP Error 404: Not Found\n",
      "HTTP Error 404: Not Found\n",
      "HTTP Error 404: Not Found\n",
      "HTTP Error 404: Not Found\n",
      "HTTP Error 404: Not Found\n",
      "HTTP Error 404: Not Found\n",
      "HTTP Error 404: Not Found\n",
      "HTTP Error 404: Not Found\n",
      "HTTP Error 404: Not Found\n",
      "HTTP Error 404: Not Found\n",
      "HTTP Error 404: Not Found\n",
      "HTTP Error 404: Not Found\n",
      "HTTP Error 403: Forbidden\n",
      "HTTP Error 404: Not Found\n",
      "HTTP Error 404: Not Found\n",
      "HTTP Error 404: Not Found\n",
      "HTTP Error 404: Not Found\n",
      "HTTP Error 404: Not Found\n",
      "HTTP Error 404: Not Found\n",
      "HTTP Error 404: Not Found\n",
      "HTTP Error 404: Not Found\n",
      "HTTP Error 404: Not Found\n",
      "HTTP Error 404: Not Found\n",
      "HTTP Error 404: Not Found\n",
      "HTTP Error 404: Not Found\n",
      "HTTP Error 404: Not Found\n",
      "HTTP Error 404: Not Found\n",
      "HTTP Error 404: Not Found\n",
      "HTTP Error 404: Not Found\n",
      "HTTP Error 403: Forbidden\n",
      "HTTP Error 404: Not Found\n",
      "HTTP Error 404: Not Found\n",
      "HTTP Error 404: Not Found\n",
      "HTTP Error 504: Gateway Timeout\n",
      "HTTP Error 404: Not Found\n",
      "HTTP Error 403: Forbidden\n",
      "HTTP Error 404: Not Found\n",
      "HTTP Error 404: Not Found\n",
      "HTTP Error 404: Not Found\n",
      "HTTP Error 404: Not Found\n",
      "HTTP Error 404: Not Found\n",
      "HTTP Error 404: Not Found\n",
      "HTTP Error 404: Not Found\n",
      "HTTP Error 404: Not Found\n",
      "HTTP Error 404: Not Found\n",
      "HTTP Error 404: Not Found\n",
      "HTTP Error 404: Not Found\n",
      "HTTP Error 404: Not Found\n",
      "HTTP Error 404: Not Found\n",
      "HTTP Error 404: Not Found\n",
      "HTTP Error 404: Not Found\n",
      "HTTP Error 404: Not Found\n",
      "HTTP Error 404: Not Found\n",
      "HTTP Error 404: Not Found\n",
      "HTTP Error 404: Not Found\n",
      "HTTP Error 404: Not Found\n",
      "HTTP Error 404: Not Found\n",
      "HTTP Error 404: Not Found\n",
      "HTTP Error 404: Not Found\n",
      "HTTP Error 404: Not Found\n",
      "HTTP Error 404: Not Found\n",
      "HTTP Error 404: Not Found\n",
      "HTTP Error 404: Not Found\n",
      "HTTP Error 404: Not Found\n",
      "HTTP Error 404: Not Found\n",
      "HTTP Error 404: Not Found\n",
      "HTTP Error 404: Not Found\n",
      "HTTP Error 404: Not Found\n",
      "HTTP Error 403: Forbidden\n",
      "HTTP Error 404: Not Found\n",
      "HTTP Error 404: Not Found\n",
      "HTTP Error 404: Not Found\n",
      "HTTP Error 403: Forbidden\n",
      "HTTP Error 404: Not Found\n",
      "HTTP Error 404: Not Found\n",
      "HTTP Error 403: Forbidden\n",
      "HTTP Error 404: Not Found\n",
      "HTTP Error 404: Not Found\n",
      "HTTP Error 404: Not Found\n",
      "HTTP Error 404: Not Found\n",
      "HTTP Error 404: Not Found\n",
      "HTTP Error 403: Forbidden\n",
      "HTTP Error 404: Not Found\n",
      "HTTP Error 404: Not Found\n",
      "HTTP Error 403: Forbidden\n",
      "HTTP Error 404: Not Found\n",
      "HTTP Error 403: Forbidden\n",
      "HTTP Error 404: Not Found\n",
      "HTTP Error 404: Not Found\n",
      "HTTP Error 404: Not Found\n",
      "HTTP Error 404: Not Found\n",
      "HTTP Error 404: Not Found\n",
      "HTTP Error 404: Not Found\n",
      "HTTP Error 404: Not Found\n",
      "HTTP Error 404: Not Found\n",
      "HTTP Error 403: Forbidden\n",
      "HTTP Error 404: Not Found\n",
      "HTTP Error 404: Not Found\n",
      "HTTP Error 404: Not Found\n",
      "HTTP Error 404: Not Found\n",
      "HTTP Error 404: Not Found\n",
      "HTTP Error 404: Not Found\n",
      "HTTP Error 404: Not Found\n",
      "HTTP Error 404: Not Found\n",
      "HTTP Error 404: Not Found\n",
      "HTTP Error 404: Not Found\n",
      "HTTP Error 404: Not Found\n",
      "HTTP Error 403: Forbidden\n",
      "HTTP Error 404: Not Found\n",
      "HTTP Error 404: Not Found\n",
      "HTTP Error 403: Forbidden\n",
      "HTTP Error 403: Forbidden\n",
      "HTTP Error 403: Forbidden\n",
      "HTTP Error 404: Not Found\n",
      "HTTP Error 404: Not Found\n",
      "<urlopen error [Errno 60] Operation timed out>\n",
      "HTTP Error 404: Not Found\n",
      "HTTP Error 404: Not Found\n",
      "HTTP Error 404: Not Found\n",
      "HTTP Error 404: Not Found\n",
      "HTTP Error 403: Forbidden\n",
      "HTTP Error 403: Forbidden\n",
      "HTTP Error 404: Not Found\n",
      "HTTP Error 404: Not Found\n",
      "HTTP Error 404: Not Found\n",
      "HTTP Error 404: Not Found\n",
      "HTTP Error 404: Not Found\n",
      "HTTP Error 404: Not Found\n",
      "HTTP Error 404: Not Found\n",
      "HTTP Error 404: Not Found\n",
      "HTTP Error 404: Not Found\n",
      "HTTP Error 404: Not Found\n",
      "HTTP Error 404: Not Found\n",
      "HTTP Error 404: Not Found\n",
      "HTTP Error 404: Not Found\n",
      "HTTP Error 404: Not Found\n",
      "HTTP Error 404: Not Found\n",
      "HTTP Error 404: Not Found\n",
      "HTTP Error 404: Not Found\n",
      "HTTP Error 404: Not Found\n",
      "HTTP Error 404: Not Found\n",
      "HTTP Error 404: Not Found\n",
      "HTTP Error 404: Not Found\n",
      "HTTP Error 403: Forbidden\n",
      "HTTP Error 404: Not Found\n",
      "HTTP Error 404: Not Found\n",
      "HTTP Error 404: Not Found\n",
      "HTTP Error 404: Not Found\n",
      "HTTP Error 404: Not Found\n",
      "HTTP Error 404: Not Found\n",
      "HTTP Error 404: Not Found\n",
      "HTTP Error 403: Forbidden\n",
      "HTTP Error 403: Forbidden\n",
      "HTTP Error 404: Not Found\n",
      "HTTP Error 404: Not Found\n",
      "HTTP Error 404: Not Found\n",
      "HTTP Error 404: Not Found\n",
      "HTTP Error 404: Not Found\n",
      "HTTP Error 403: Forbidden\n",
      "HTTP Error 404: Not Found\n",
      "HTTP Error 404: Not Found\n",
      "HTTP Error 403: Forbidden\n",
      "HTTP Error 404: Not Found\n",
      "HTTP Error 404: Not Found\n",
      "HTTP Error 403: Forbidden\n",
      "HTTP Error 404: Not Found\n",
      "HTTP Error 404: Not Found\n",
      "HTTP Error 404: Not Found\n",
      "HTTP Error 404: Not Found\n",
      "HTTP Error 404: Not Found\n",
      "HTTP Error 403: Forbidden\n",
      "HTTP Error 404: Not Found\n",
      "HTTP Error 404: Not Found\n",
      "HTTP Error 404: Not Found\n",
      "HTTP Error 404: Not Found\n",
      "HTTP Error 404: Not Found\n",
      "HTTP Error 404: Not Found\n",
      "HTTP Error 404: Not Found\n",
      "HTTP Error 404: Not Found\n",
      "HTTP Error 404: Not Found\n",
      "HTTP Error 404: Not Found\n",
      "HTTP Error 403: Forbidden\n",
      "HTTP Error 404: Not Found\n",
      "HTTP Error 404: Not Found\n",
      "HTTP Error 404: Not Found\n",
      "HTTP Error 403: Forbidden\n",
      "HTTP Error 404: Not Found\n",
      "HTTP Error 404: Not Found\n",
      "HTTP Error 404: Not Found\n",
      "HTTP Error 404: Not Found\n",
      "HTTP Error 404: Not Found\n",
      "HTTP Error 403: Forbidden\n",
      "HTTP Error 403: Forbidden\n",
      "HTTP Error 404: Not Found\n",
      "HTTP Error 404: Not Found\n",
      "HTTP Error 404: Not Found\n",
      "HTTP Error 404: Not Found\n",
      "HTTP Error 404: Not Found\n",
      "HTTP Error 404: Not Found\n",
      "HTTP Error 404: Not Found\n",
      "HTTP Error 404: Not Found\n",
      "HTTP Error 404: Not Found\n",
      "HTTP Error 404: Not Found\n",
      "HTTP Error 404: Not Found\n",
      "HTTP Error 404: Not Found\n",
      "HTTP Error 404: Not Found\n",
      "HTTP Error 404: Not Found\n",
      "HTTP Error 404: Not Found\n",
      "HTTP Error 403: Forbidden\n",
      "HTTP Error 404: Not Found\n",
      "HTTP Error 404: Not Found\n",
      "HTTP Error 404: Not Found\n",
      "HTTP Error 404: Not Found\n",
      "HTTP Error 404: Not Found\n",
      "HTTP Error 404: Not Found\n",
      "HTTP Error 404: Not Found\n",
      "HTTP Error 404: Not Found\n",
      "HTTP Error 404: Not Found\n",
      "HTTP Error 404: Not Found\n",
      "HTTP Error 404: Not Found\n",
      "HTTP Error 404: Not Found\n",
      "HTTP Error 403: Forbidden\n",
      "HTTP Error 404: Not Found\n",
      "HTTP Error 404: Not Found\n",
      "HTTP Error 404: Not Found\n",
      "HTTP Error 404: Not Found\n",
      "HTTP Error 403: Forbidden\n",
      "HTTP Error 404: Not Found\n",
      "HTTP Error 404: Not Found\n",
      "HTTP Error 404: Not Found\n",
      "HTTP Error 404: Not Found\n",
      "HTTP Error 404: Not Found\n",
      "HTTP Error 504: Gateway Timeout\n",
      "HTTP Error 404: Not Found\n",
      "HTTP Error 404: Not Found\n",
      "HTTP Error 404: Not Found\n",
      "HTTP Error 404: Not Found\n",
      "HTTP Error 404: Not Found\n",
      "HTTP Error 404: Not Found\n",
      "HTTP Error 404: Not Found\n",
      "HTTP Error 403: Forbidden\n",
      "HTTP Error 404: Not Found\n",
      "HTTP Error 404: Not Found\n",
      "HTTP Error 404: Not Found\n",
      "HTTP Error 404: Not Found\n",
      "HTTP Error 404: Not Found\n",
      "HTTP Error 404: Not Found\n",
      "HTTP Error 404: Not Found\n",
      "HTTP Error 403: Forbidden\n",
      "HTTP Error 404: Not Found\n",
      "HTTP Error 404: Not Found\n",
      "HTTP Error 404: Not Found\n",
      "HTTP Error 403: Forbidden\n",
      "HTTP Error 403: Forbidden\n",
      "HTTP Error 404: Not Found\n",
      "HTTP Error 403: Forbidden\n",
      "HTTP Error 403: Forbidden\n",
      "HTTP Error 403: Forbidden\n",
      "HTTP Error 403: Forbidden\n",
      "HTTP Error 404: Not Found\n",
      "HTTP Error 403: Forbidden\n",
      "HTTP Error 404: Not Found\n",
      "HTTP Error 403: Forbidden\n",
      "HTTP Error 403: Forbidden\n",
      "HTTP Error 404: Not Found\n",
      "HTTP Error 404: Not Found\n",
      "HTTP Error 403: Forbidden\n",
      "HTTP Error 404: Not Found\n",
      "HTTP Error 404: Not Found\n",
      "HTTP Error 404: Not Found\n",
      "HTTP Error 404: Not Found\n",
      "HTTP Error 404: Not Found\n",
      "HTTP Error 404: Not Found\n",
      "HTTP Error 404: Not Found\n",
      "HTTP Error 404: Not Found\n",
      "HTTP Error 404: Not Found\n",
      "HTTP Error 404: Not Found\n",
      "HTTP Error 404: Not Found\n",
      "HTTP Error 404: Not Found\n",
      "HTTP Error 404: Not Found\n",
      "HTTP Error 404: Not Found\n",
      "HTTP Error 404: Not Found\n"
     ]
    }
   ],
   "source": [
    "# img_data.shape\n",
    "save_images()"
   ]
  },
  {
   "cell_type": "code",
   "execution_count": 44,
   "id": "88a94d80-45b3-4254-8bd7-c5251ba36e46",
   "metadata": {},
   "outputs": [],
   "source": [
    "img_data = list(img_data)[:50]"
   ]
  },
  {
   "cell_type": "code",
   "execution_count": 45,
   "id": "72a77480-c619-49bb-b992-0be1bd18e282",
   "metadata": {},
   "outputs": [],
   "source": []
  },
  {
   "cell_type": "code",
   "execution_count": 46,
   "id": "91e4843b-1654-406a-98ea-32ea891cbf01",
   "metadata": {},
   "outputs": [],
   "source": []
  },
  {
   "cell_type": "code",
   "execution_count": 47,
   "id": "b1309f3e-b69b-4edf-9a87-26993e801c63",
   "metadata": {},
   "outputs": [
    {
     "name": "stdout",
     "output_type": "stream",
     "text": [
      "HTTP Error 404: Not Found\n",
      "HTTP Error 404: Not Found\n",
      "HTTP Error 404: Not Found\n",
      "HTTP Error 404: Not Found\n",
      "HTTP Error 404: Not Found\n",
      "HTTP Error 404: Not Found\n",
      "HTTP Error 404: Not Found\n",
      "HTTP Error 404: Not Found\n"
     ]
    }
   ],
   "source": [
    "\n"
   ]
  },
  {
   "cell_type": "code",
   "execution_count": 48,
   "id": "0bab09cc-ed4a-47d8-8e3c-62360e4ed802",
   "metadata": {},
   "outputs": [],
   "source": []
  },
  {
   "cell_type": "code",
   "execution_count": 50,
   "id": "1e4c849c-f54d-4567-982b-381d8778da6e",
   "metadata": {},
   "outputs": [],
   "source": []
  },
  {
   "cell_type": "markdown",
   "id": "edf7c7e5-7da1-49a1-b02c-6c31bbc57320",
   "metadata": {},
   "source": [
    "# Article extractor"
   ]
  },
  {
   "cell_type": "code",
   "execution_count": 52,
   "id": "9f55f1a7-59fe-403f-bb70-80a566ef46e4",
   "metadata": {},
   "outputs": [],
   "source": [
    "from boilerpy3 import extractors"
   ]
  },
  {
   "cell_type": "code",
   "execution_count": 53,
   "id": "53a1be6e-1521-4b72-81ee-f78c752cf4a7",
   "metadata": {},
   "outputs": [],
   "source": [
    "e = extractors.ArticleExtractor() "
   ]
  },
  {
   "cell_type": "code",
   "execution_count": 63,
   "id": "943c06ae-918d-4e5f-8ebf-9b8e0499fa9a",
   "metadata": {},
   "outputs": [],
   "source": [
    "content = e.get_content_from_url(\"https://news.nus.edu.sg/serving-the-community-as-one\")"
   ]
  },
  {
   "cell_type": "code",
   "execution_count": 64,
   "id": "e6aaf999-6cac-44ed-938b-cb028918a743",
   "metadata": {},
   "outputs": [],
   "source": [
    "doc = e.get_doc_from_url(\"https://news.nus.edu.sg/serving-the-community-as-one\")\n",
    "content = doc.content\n",
    "title = doc.title"
   ]
  },
  {
   "cell_type": "markdown",
   "id": "4cf8b190-0517-478b-bde9-360e03995a4f",
   "metadata": {},
   "source": [
    "# text embedding using GloVE"
   ]
  },
  {
   "cell_type": "code",
   "execution_count": null,
   "id": "b5183174-4440-4218-a003-a05a569e24c1",
   "metadata": {},
   "outputs": [],
   "source": [
    "model = "
   ]
  },
  {
   "cell_type": "code",
   "execution_count": 70,
   "id": "d7aa1668-1f4a-4664-aaf2-c367a74f860c",
   "metadata": {},
   "outputs": [],
   "source": [
    "def loadGloveModel(gloveFile):\n",
    "    print(\"Loading Glove Model\")\n",
    "    with open(gloveFile, encoding=\"utf8\") as f:\n",
    "        content = f.readlines()\n",
    "    model = {}\n",
    "    \n",
    "    for line in content:\n",
    "        splitLine = line.split()\n",
    "        word = splitLine[0]\n",
    "        embedding = np.array([float(val) for val in splitLine[1:]])\n",
    "        model[word] = embedding\n",
    "    print(\"Done,\", len(model), \"words loaded!\")\n",
    "    return model"
   ]
  },
  {
   "cell_type": "code",
   "execution_count": 116,
   "id": "707bf7c2-3851-46cf-8b9f-f761a0e22da0",
   "metadata": {},
   "outputs": [
    {
     "name": "stdout",
     "output_type": "stream",
     "text": [
      "Loading Glove Model\n",
      "Done, 1193514 words loaded!\n"
     ]
    }
   ],
   "source": [
    "embedding_model = loadGloveModel(\"../glove.twitter.27B.100d.txt\")"
   ]
  },
  {
   "cell_type": "code",
   "execution_count": 152,
   "id": "f04663d9-9c90-4ba5-9150-c77337a4896c",
   "metadata": {},
   "outputs": [],
   "source": [
    "from nltk.corpus import stopwords\n",
    "def preprocess(raw_text):\n",
    "    # keep only words\n",
    "    letters_only_text = re.sub(\"[^a-zA-Z]\", \" \", raw_text)\n",
    "    # convert to lower case and split\n",
    "    words = letters_only_text.lower().split()\n",
    "    # remove stopwords\n",
    "    stopword_set = set(stopwords.words(\"english\"))\n",
    "    cleaned_words = list(set([w for w in words if w not in stopword_set]))\n",
    "    return cleaned_words"
   ]
  },
  {
   "cell_type": "code",
   "execution_count": 196,
   "id": "b54fe0d6-68cb-4b0f-a249-f0bf40b9db28",
   "metadata": {},
   "outputs": [],
   "source": [
    "# embedding_model"
   ]
  },
  {
   "cell_type": "code",
   "execution_count": 153,
   "id": "3f39206b-8b76-48e5-a559-e93467ed9e19",
   "metadata": {},
   "outputs": [],
   "source": [
    "from scipy import spatial"
   ]
  },
  {
   "cell_type": "code",
   "execution_count": 247,
   "id": "e28709a5-5064-4e55-bbfb-86d7a3faab54",
   "metadata": {},
   "outputs": [],
   "source": [
    "from utils.process_text import TwitterDataProcessing\n",
    "pre = TwitterDataProcessing()"
   ]
  },
  {
   "cell_type": "code",
   "execution_count": 290,
   "id": "75345e42-8179-4b1a-bbf1-530bb5c0895a",
   "metadata": {},
   "outputs": [],
   "source": [
    "def cosine_distance_between_two_words(w1, w2):\n",
    "#     print(\"w1\", w1)\n",
    "    try:\n",
    "        e1 = embedding_model[w1]\n",
    "    #     print(\"e1\", e1)\n",
    "\n",
    "    #     print(\"w2\", w2)\n",
    "        e2 = embedding_model[w2]\n",
    "        k = (1 - spatial.distance.cosine(embedding_model[w1], embedding_model[w2]))\n",
    "    #     print(\"e2\", e2)\n",
    "    except Exception as e:\n",
    "        print(\"*\"*10)\n",
    "    \n",
    "    return (1 - spatial.distance.cosine(embedding_model[w1], embedding_model[w2]))\n",
    "    \n",
    "def calculate_heat_matrix_for_two_sentences(s1, s2):\n",
    "#     s1 = preprocess(s1)\n",
    "#     s2 = preprocess(s2)\n",
    "    result_list = [[cosine_distance_between_two_words(w1, w2) for w2 in s2] for w1 in s1]\n",
    "    print(\"*\", result_list)\n",
    "    result_df = pd.DataFrame(result_list)\n",
    "    result_df.columns = s2\n",
    "    result_df.index = s1 \n",
    "    return result_df\n",
    "    \n",
    "def cosine_distance_wordembedding_method(s1, s2):\n",
    "    import scipy\n",
    "    try:\n",
    "        vector_1 = np.mean([model[word] for word in s1],axis=0)\n",
    "#         print(vector_1)\n",
    "        vector_2 = np.mean([model[word] for word in s2],axis=0)\n",
    "        cosine = spatial.distance.cosine(vector_1, vector_2)\n",
    "        return (1-cosine)\n",
    "    except Exception as e:\n",
    "        return 0\n",
    "#     print('Word Embedding method with a cosine distance asses that our two sentences are similar to',round((1-cosine)*100,2),'%')\n",
    "def heat_map_matrix_between_two_sentences(s1,s2):\n",
    "#     print(s1, s2)\n",
    "    df = calculate_heat_matrix_for_two_sentences(s1,s2)\n",
    "    import seaborn as sns\n",
    "    import matplotlib.pyplot as plt\n",
    "    fig, ax = plt.subplots(figsize=(5,5))\n",
    "    ax_blue = sns.heatmap(df, cmap=\"YlGnBu\")\n",
    "    ax_red = sns.heatmap(df)\n",
    "#     print(cosine_distance_wordembedding_method(s1, s2))\n",
    "    return ax_blue"
   ]
  },
  {
   "cell_type": "code",
   "execution_count": null,
   "id": "b095c169-cd23-4ff2-a8a8-cb0ad64cfcf3",
   "metadata": {},
   "outputs": [],
   "source": []
  },
  {
   "cell_type": "code",
   "execution_count": 306,
   "id": "e4380a7e-b5c2-4e39-9643-c9627c28bd21",
   "metadata": {},
   "outputs": [],
   "source": [
    "t1 = \"queen is the king\"\n",
    "t2 =  \"man in the wild\""
   ]
  },
  {
   "cell_type": "code",
   "execution_count": 307,
   "id": "1c6e3cfe-7f80-4470-9f27-cbb8a1add555",
   "metadata": {},
   "outputs": [
    {
     "data": {
      "text/plain": [
       "(['queen', 'king'], ['man', 'wild'])"
      ]
     },
     "execution_count": 307,
     "metadata": {},
     "output_type": "execute_result"
    }
   ],
   "source": [
    "# p1 = preprocess(t1) # pre.clean_text(t1)\n",
    "# p2 = preprocess(t2) #pre.clean_text(t2)\n",
    "\n",
    "p1 = pre.clean_text(t1).split(' ')\n",
    "p2 = pre.clean_text(t2).split(' ')\n",
    "\n",
    "p1, p2"
   ]
  },
  {
   "cell_type": "code",
   "execution_count": 308,
   "id": "40e285bc-f028-43b2-9e53-ef9aeb62f1fd",
   "metadata": {},
   "outputs": [
    {
     "name": "stdout",
     "output_type": "stream",
     "text": [
      "* [[0.3937556046202797, 0.5502640512416858], [0.4730334244494645, 0.5329535748289091]]\n"
     ]
    },
    {
     "data": {
      "text/html": [
       "<div>\n",
       "<style scoped>\n",
       "    .dataframe tbody tr th:only-of-type {\n",
       "        vertical-align: middle;\n",
       "    }\n",
       "\n",
       "    .dataframe tbody tr th {\n",
       "        vertical-align: top;\n",
       "    }\n",
       "\n",
       "    .dataframe thead th {\n",
       "        text-align: right;\n",
       "    }\n",
       "</style>\n",
       "<table border=\"1\" class=\"dataframe\">\n",
       "  <thead>\n",
       "    <tr style=\"text-align: right;\">\n",
       "      <th></th>\n",
       "      <th>queen</th>\n",
       "      <th>king</th>\n",
       "    </tr>\n",
       "  </thead>\n",
       "  <tbody>\n",
       "    <tr>\n",
       "      <th>man</th>\n",
       "      <td>0.393756</td>\n",
       "      <td>0.550264</td>\n",
       "    </tr>\n",
       "    <tr>\n",
       "      <th>wild</th>\n",
       "      <td>0.473033</td>\n",
       "      <td>0.532954</td>\n",
       "    </tr>\n",
       "  </tbody>\n",
       "</table>\n",
       "</div>"
      ],
      "text/plain": [
       "         queen      king\n",
       "man   0.393756  0.550264\n",
       "wild  0.473033  0.532954"
      ]
     },
     "execution_count": 308,
     "metadata": {},
     "output_type": "execute_result"
    }
   ],
   "source": [
    "calculate_heat_matrix_for_two_sentences(p2, p1)"
   ]
  },
  {
   "cell_type": "markdown",
   "id": "609a8ed7-9c89-4deb-8f8e-38fca78a8356",
   "metadata": {},
   "source": [
    "## multiprocessing"
   ]
  },
  {
   "cell_type": "code",
   "execution_count": 200,
   "id": "9402d523-d4a7-4da1-9be4-e42560d11c8d",
   "metadata": {},
   "outputs": [],
   "source": [
    "import timeit\n",
    "from joblib import parallel_backend"
   ]
  },
  {
   "cell_type": "code",
   "execution_count": 201,
   "id": "30a50ba3-9c67-468a-b3f7-bf85d86669df",
   "metadata": {},
   "outputs": [],
   "source": [
    "start_time = timeit.default_timer()"
   ]
  },
  {
   "cell_type": "code",
   "execution_count": 139,
   "id": "aab0fbd4-6ad9-4e9f-8e24-1d18e9879335",
   "metadata": {},
   "outputs": [
    {
     "ename": "NameError",
     "evalue": "name 'data' is not defined",
     "output_type": "error",
     "traceback": [
      "\u001b[0;31m---------------------------------------------------------------------------\u001b[0m",
      "\u001b[0;31mNameError\u001b[0m                                 Traceback (most recent call last)",
      "\u001b[0;32m/var/folders/mv/c151lb7j7xx6ff_q9_85p_pc0000gn/T/ipykernel_45113/24627248.py\u001b[0m in \u001b[0;36m<module>\u001b[0;34m\u001b[0m\n\u001b[1;32m      1\u001b[0m \u001b[0;32mwith\u001b[0m \u001b[0mparallel_backend\u001b[0m\u001b[0;34m(\u001b[0m\u001b[0;34m'threading'\u001b[0m\u001b[0;34m)\u001b[0m\u001b[0;34m:\u001b[0m\u001b[0;34m\u001b[0m\u001b[0;34m\u001b[0m\u001b[0m\n\u001b[0;32m----> 2\u001b[0;31m     \u001b[0mdata\u001b[0m\u001b[0;34m[\u001b[0m\u001b[0;34m'processed'\u001b[0m\u001b[0;34m]\u001b[0m \u001b[0;34m=\u001b[0m \u001b[0mdata\u001b[0m\u001b[0;34m[\u001b[0m\u001b[0;34m'Tweet'\u001b[0m\u001b[0;34m]\u001b[0m\u001b[0;34m.\u001b[0m\u001b[0mapply\u001b[0m\u001b[0;34m(\u001b[0m\u001b[0;32mlambda\u001b[0m \u001b[0mx\u001b[0m\u001b[0;34m:\u001b[0m \u001b[0mprocess\u001b[0m\u001b[0;34m(\u001b[0m\u001b[0mx\u001b[0m\u001b[0;34m)\u001b[0m\u001b[0;34m)\u001b[0m\u001b[0;34m\u001b[0m\u001b[0;34m\u001b[0m\u001b[0m\n\u001b[0m\u001b[1;32m      3\u001b[0m \u001b[0;34m\u001b[0m\u001b[0m\n\u001b[1;32m      4\u001b[0m \u001b[0mprint\u001b[0m\u001b[0;34m(\u001b[0m\u001b[0mtimeit\u001b[0m\u001b[0;34m.\u001b[0m\u001b[0mdefault_timer\u001b[0m\u001b[0;34m(\u001b[0m\u001b[0;34m)\u001b[0m \u001b[0;34m-\u001b[0m \u001b[0mstart_time\u001b[0m\u001b[0;34m)\u001b[0m\u001b[0;34m\u001b[0m\u001b[0;34m\u001b[0m\u001b[0m\n",
      "\u001b[0;31mNameError\u001b[0m: name 'data' is not defined"
     ]
    }
   ],
   "source": [
    "with parallel_backend('threading'):\n",
    "    data['processed'] = data['Tweet'].apply(lambda x: process(x))\n",
    "\n",
    "print(timeit.default_timer() - start_time)"
   ]
  },
  {
   "cell_type": "code",
   "execution_count": 294,
   "id": "ea93e034-2bf4-4491-82aa-f808291b5466",
   "metadata": {},
   "outputs": [
    {
     "ename": "ModuleNotFoundError",
     "evalue": "No module named 'torch'",
     "output_type": "error",
     "traceback": [
      "\u001b[0;31m---------------------------------------------------------------------------\u001b[0m",
      "\u001b[0;31mModuleNotFoundError\u001b[0m                       Traceback (most recent call last)",
      "\u001b[0;32m/var/folders/mv/c151lb7j7xx6ff_q9_85p_pc0000gn/T/ipykernel_45113/4265195184.py\u001b[0m in \u001b[0;36m<module>\u001b[0;34m\u001b[0m\n\u001b[0;32m----> 1\u001b[0;31m \u001b[0;32mimport\u001b[0m \u001b[0mtorch\u001b[0m\u001b[0;34m\u001b[0m\u001b[0;34m\u001b[0m\u001b[0m\n\u001b[0m",
      "\u001b[0;31mModuleNotFoundError\u001b[0m: No module named 'torch'"
     ]
    }
   ],
   "source": [
    "import torch"
   ]
  },
  {
   "cell_type": "markdown",
   "id": "3def4c5c-621a-423f-b9cc-7a2cee660bb4",
   "metadata": {},
   "source": [
    "## sampling data "
   ]
  },
  {
   "cell_type": "code",
   "execution_count": null,
   "id": "0812a4f2-cd71-4673-adc8-94b9ecc51cf4",
   "metadata": {},
   "outputs": [],
   "source": [
    "data = data.sample(frac=1)"
   ]
  },
  {
   "cell_type": "code",
   "execution_count": 122,
   "id": "ddaf09ed-aff7-4f75-b3b5-65fc8e733f5b",
   "metadata": {},
   "outputs": [],
   "source": [
    "## softmax"
   ]
  },
  {
   "cell_type": "code",
   "execution_count": null,
   "id": "6be70ef1-1028-46bf-a7c4-fec91f268a5f",
   "metadata": {},
   "outputs": [],
   "source": [
    "def softmax(logit):\n",
    "    return np.exp(logit)/np.sum(np.exp(logit))"
   ]
  },
  {
   "cell_type": "code",
   "execution_count": null,
   "id": "edc8b3b0-6e50-4057-b29b-39067d992802",
   "metadata": {},
   "outputs": [],
   "source": []
  },
  {
   "cell_type": "code",
   "execution_count": 217,
   "id": "7b969b5d-f7d1-49d4-9372-520a1ed5a232",
   "metadata": {},
   "outputs": [],
   "source": [
    "tagged = tweets[tweets['user_geo_tagging'].notna()]['user_geo_tagging']"
   ]
  },
  {
   "cell_type": "code",
   "execution_count": 218,
   "id": "d0097465-63f5-4b39-a21b-720499d265d3",
   "metadata": {},
   "outputs": [
    {
     "data": {
      "text/plain": [
       "(5652,)"
      ]
     },
     "execution_count": 218,
     "metadata": {},
     "output_type": "execute_result"
    }
   ],
   "source": [
    "tagged.shape"
   ]
  },
  {
   "cell_type": "code",
   "execution_count": 216,
   "id": "5eca13e0-84f9-4e3d-b198-dad7aa157812",
   "metadata": {},
   "outputs": [],
   "source": [
    "# places[places.str.contains('PLACE')].tolist()"
   ]
  },
  {
   "cell_type": "code",
   "execution_count": 224,
   "id": "3334f2ab-0faf-4e38-8f00-8ff5501de252",
   "metadata": {},
   "outputs": [],
   "source": [
    "places = tagged[tagged.str.contains('PLACE')]"
   ]
  },
  {
   "cell_type": "code",
   "execution_count": 225,
   "id": "1fa109b1-72dc-4519-9799-9f4387025a06",
   "metadata": {},
   "outputs": [
    {
     "data": {
      "text/plain": [
       "(2471,)"
      ]
     },
     "execution_count": 225,
     "metadata": {},
     "output_type": "execute_result"
    }
   ],
   "source": [
    "places.shape"
   ]
  },
  {
   "cell_type": "code",
   "execution_count": 226,
   "id": "94810d0c-6fda-4a6d-923d-838996fde40d",
   "metadata": {},
   "outputs": [],
   "source": [
    "loc = tagged[tagged.str.contains('LOC')]"
   ]
  },
  {
   "cell_type": "code",
   "execution_count": 228,
   "id": "c303e7a7-db63-403e-8ddd-6c56d75209ff",
   "metadata": {},
   "outputs": [
    {
     "data": {
      "text/plain": [
       "(3181,)"
      ]
     },
     "execution_count": 228,
     "metadata": {},
     "output_type": "execute_result"
    }
   ],
   "source": [
    "loc.shape"
   ]
  },
  {
   "cell_type": "code",
   "execution_count": 229,
   "id": "b2efb431-abe5-4fcd-8cb5-0ecf4b6de3da",
   "metadata": {},
   "outputs": [
    {
     "data": {
      "text/plain": [
       "34                LOC|103.856|1.29306\n",
       "44            LOC|103.96249|1.3342204\n",
       "48            LOC|103.78281|1.2880261\n",
       "93                LOC|103.856|1.29306\n",
       "187       LOC|103.84911723|1.33242843\n",
       "                     ...             \n",
       "181334    LOC|103.81622328|1.31518183\n",
       "181340    LOC|103.85102816|1.29297758\n",
       "181341            LOC|103.856|1.29306\n",
       "181342    LOC|103.85102816|1.29297758\n",
       "181350            LOC|103.856|1.29306\n",
       "Name: user_geo_tagging, Length: 3181, dtype: object"
      ]
     },
     "execution_count": 229,
     "metadata": {},
     "output_type": "execute_result"
    }
   ],
   "source": [
    "loc"
   ]
  },
  {
   "cell_type": "code",
   "execution_count": 232,
   "id": "9f18b59d-bfc5-4323-9e70-7959b7fce292",
   "metadata": {},
   "outputs": [
    {
     "ename": "ImportError",
     "evalue": "cannot import name 'get_geo_rawaddress' from 'utils.detect_place' (/Users/anshu/Work/Code/Projects/singapore-geocoded-tweets-analysis/utils/detect_place.py)",
     "output_type": "error",
     "traceback": [
      "\u001b[0;31m---------------------------------------------------------------------------\u001b[0m",
      "\u001b[0;31mImportError\u001b[0m                               Traceback (most recent call last)",
      "\u001b[0;32m/var/folders/mv/c151lb7j7xx6ff_q9_85p_pc0000gn/T/ipykernel_45113/832047882.py\u001b[0m in \u001b[0;36m<module>\u001b[0;34m\u001b[0m\n\u001b[0;32m----> 1\u001b[0;31m \u001b[0;32mfrom\u001b[0m \u001b[0mutils\u001b[0m\u001b[0;34m.\u001b[0m\u001b[0mdetect_place\u001b[0m \u001b[0;32mimport\u001b[0m \u001b[0mget_geo_rawaddress\u001b[0m\u001b[0;34m\u001b[0m\u001b[0;34m\u001b[0m\u001b[0m\n\u001b[0m",
      "\u001b[0;31mImportError\u001b[0m: cannot import name 'get_geo_rawaddress' from 'utils.detect_place' (/Users/anshu/Work/Code/Projects/singapore-geocoded-tweets-analysis/utils/detect_place.py)"
     ]
    }
   ],
   "source": [
    "from utils.detect_place import get_geo_rawaddress\n"
   ]
  },
  {
   "cell_type": "code",
   "execution_count": 234,
   "id": "c7775232-d864-4ce1-8cbd-9f8d64e903f8",
   "metadata": {},
   "outputs": [],
   "source": [
    "from geopy.geocoders import Nominatim\n",
    "locator = Nominatim(user_agent=\"anshu\")"
   ]
  },
  {
   "cell_type": "code",
   "execution_count": 243,
   "id": "188344f3-cabb-4438-b97e-e8cb3e4cd931",
   "metadata": {},
   "outputs": [
    {
     "name": "stdout",
     "output_type": "stream",
     "text": [
      "Esplanade Xchange, Raffles Link, Downtown Core, Singapore, Central, 039393, Singapore\n",
      "Changi City Point, Changi Business Park Central 1, Changi Business Park, Tampines, Southeast, 486037, Singapore\n",
      "The Aries, Science Park Road, Singapore Science Park II, Queenstown, Southwest, 117611, Singapore\n",
      "Esplanade Xchange, Raffles Link, Downtown Core, Singapore, Central, 039393, Singapore\n",
      "HDB Hub, 480, Lorong 6 Toa Payoh, Toa Payoh, Singapore, Central, 310480, Singapore\n",
      "Tanjong Pagar Plaza, 5, Tanjong Pagar Road, Outram, Singapore, Central, 081005, Singapore\n",
      "Indian Grill & Bar, 18, Raffles Quay, Golden Shoe, Downtown Core, Singapore, Central, 048582, Singapore\n",
      "146, Jalan Bukit Merah, Radin Mas, Bukit Merah, Singapore, Central, 160146, Singapore\n",
      "Singapore Changi Airport, Toh Drive, Changi, Southeast, 507707, Singapore\n",
      "24, Ghim Moh Link, Ghim Moh Valley, Queenstown, Singapore, Southwest, 270024, Singapore\n"
     ]
    }
   ],
   "source": [
    "loc = list(loc)\n",
    "for l in loc[:10]:\n",
    "    ll = l.split(\"|\")\n",
    "    coordinates = ll[2] + \",\" + ll[1]\n",
    "#     print(coordinates)\n",
    "    location = locator.reverse(coordinates)\n",
    "    print(location)"
   ]
  },
  {
   "cell_type": "code",
   "execution_count": null,
   "id": "ceaaee82-6215-4d7d-89c3-a18f0ba3bf17",
   "metadata": {},
   "outputs": [],
   "source": []
  }
 ],
 "metadata": {
  "kernelspec": {
   "display_name": "Python 3 (ipykernel)",
   "language": "python",
   "name": "python3"
  },
  "language_info": {
   "codemirror_mode": {
    "name": "ipython",
    "version": 3
   },
   "file_extension": ".py",
   "mimetype": "text/x-python",
   "name": "python",
   "nbconvert_exporter": "python",
   "pygments_lexer": "ipython3",
   "version": "3.8.11"
  }
 },
 "nbformat": 4,
 "nbformat_minor": 5
}
