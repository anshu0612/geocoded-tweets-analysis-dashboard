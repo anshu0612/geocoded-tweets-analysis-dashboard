{
 "cells": [
  {
   "cell_type": "markdown",
   "id": "a3a9a52f-2ef2-4dd1-a66b-bc8078ab5718",
   "metadata": {},
   "source": [
    "# Endorsements and reactions - Retweets and Quoted tweets \n",
    "\n",
    "Plausible assumptions from existing research:\n",
    "1. **Retweets** are **endorsements** \n",
    "2. **Quoted tweets** are **reactions** - can be positive, negative or neutral "
   ]
  },
  {
   "cell_type": "markdown",
   "id": "cf9a5c70-8dd8-4c16-bf80-50e88a83bb71",
   "metadata": {},
   "source": [
    "### [Table of Contents](#cell2)\n",
    "\n",
    "* 1\\. [Distribution of retweets, replies and quoted tweets](#cell1)\n",
    "* 2\\. [Foreign influence: Inferring the influential countries](#cell2)\n",
    "* 3\\. [Bursty tweets: Inferring tweets with high intensity of extreme sentiments](#cell3)\n",
    "    * 3.1. [Inferring viral quoted tweets](#cell31)\n",
    "    * 3.2. [Sentiment analysis of the viral quoted tweets](#cell32)\n",
    "    * 3.3. [Inferring viral quoted tweets with extreme intensity of sentiments](#cell33)\n",
    "* 4\\. [Viral local retweets: Local news feed](#cell4)\n",
    "    * 4.1. [Viral local retweets with positive sentiment](#cell41)\n",
    "    * 4.2. [Viral local retweets with negative sentiment](#cell42)\n",
    "    * 4.3. [Viral local retweets with all sentiments (general)](#cell43)\n",
    "* 5\\. [Viral global retweets: Global news feed](#cell5)\n",
    "    * 5.1. [Viral global retweets with positive sentiment](#cell51)\n",
    "    * 5.2. [Viral global retweets with negative sentiment](#cell52)\n",
    "    * 5.3. [Viral global retweets with all sentiments (general)](#cell53)"
   ]
  },
  {
   "cell_type": "code",
   "execution_count": 86,
   "id": "c85c8df4-1eb8-43d0-97ca-c55ec570d59a",
   "metadata": {},
   "outputs": [],
   "source": [
    "import re\n",
    "import os\n",
    "import time\n",
    "import glob \n",
    "from datetime import datetime  as dt\n",
    "\n",
    "import collections as col\n",
    "import functools as ft\n",
    "import itertools as it\n",
    "\n",
    "import numpy as np\n",
    "import pandas as pd\n",
    "\n",
    "# visualizations\n",
    "import plotly.express as px\n",
    "import plotly.graph_objects as go\n",
    "import matplotlib.pyplot as plt"
   ]
  },
  {
   "cell_type": "code",
   "execution_count": 87,
   "id": "a1d09c58-1abf-439c-83ad-97faa2c199aa",
   "metadata": {},
   "outputs": [],
   "source": [
    "import warnings\n",
    "warnings.filterwarnings(\"ignore\")"
   ]
  },
  {
   "cell_type": "code",
   "execution_count": 97,
   "id": "15046278-0b72-4c80-99d5-e3a748127a09",
   "metadata": {},
   "outputs": [],
   "source": [
    "pd.set_option('display.max_colwidth', None)"
   ]
  },
  {
   "cell_type": "code",
   "execution_count": 88,
   "id": "6040b02a-c129-4f9b-ba23-ed0ac6bb1c2c",
   "metadata": {},
   "outputs": [],
   "source": [
    "BASE_PATH = '/Users/anshu/Work/Code/rpm-v2/data/v2/'"
   ]
  },
  {
   "cell_type": "markdown",
   "id": "e12694ba-c7de-476a-a2ea-4434713e80be",
   "metadata": {},
   "source": [
    "##### Loading the processed Singapore-based data "
   ]
  },
  {
   "cell_type": "code",
   "execution_count": 89,
   "id": "4874fc8e-7613-4e48-a0ed-7058da86f011",
   "metadata": {},
   "outputs": [
    {
     "data": {
      "text/plain": [
       "(181423, 54)"
      ]
     },
     "execution_count": 89,
     "metadata": {},
     "output_type": "execute_result"
    }
   ],
   "source": [
    "sg_tweets = pd.read_csv(BASE_PATH + \"sg.csv\")\n",
    "sg_tweets.shape"
   ]
  },
  {
   "cell_type": "code",
   "execution_count": 90,
   "id": "c154755d-02be-443b-8d8c-2fd7cf87a1f6",
   "metadata": {},
   "outputs": [
    {
     "data": {
      "text/plain": [
       "('2021-08-04', '2021-09-24')"
      ]
     },
     "execution_count": 90,
     "metadata": {},
     "output_type": "execute_result"
    }
   ],
   "source": [
    "MAX_DATE = sg_tweets['tweet_date'].max()\n",
    "MIN_DATE = sg_tweets['tweet_date'].min()\n",
    "MIN_DATE, MAX_DATE"
   ]
  },
  {
   "cell_type": "markdown",
   "id": "7af5bc35-9784-4ad8-b8ee-4a7f4d35444a",
   "metadata": {},
   "source": [
    "# 1. Distribution of retweets, replies and quoted tweets"
   ]
  },
  {
   "cell_type": "code",
   "execution_count": 58,
   "id": "5288cf42-29bf-41d8-be9e-a7dae82cb916",
   "metadata": {},
   "outputs": [
    {
     "name": "stdout",
     "output_type": "stream",
     "text": [
      "Count of engaged tweets 114499\n",
      "% of engaged tweets 63.111623112835744\n"
     ]
    }
   ],
   "source": [
    "tweet_enagagement_type = sg_tweets[sg_tweets['tweet_enagagement_type'].notna()]\n",
    "\n",
    "print(\"Count of engaged tweets {}\".format(len(tweet_enagagement_type)))\n",
    "print(\"% of engaged tweets {}\".format(len(tweet_enagagement_type)/len(sg_tweets)*100))"
   ]
  },
  {
   "cell_type": "code",
   "execution_count": 59,
   "id": "1e6b223f-cabf-49a8-976a-e291721b9869",
   "metadata": {},
   "outputs": [
    {
     "data": {
      "text/plain": [
       "[('Retweet', 57393), ('Quote', 39921), ('Reply', 17185)]"
      ]
     },
     "execution_count": 59,
     "metadata": {},
     "output_type": "execute_result"
    }
   ],
   "source": [
    "count_tweet_enagagement_type = col.Counter(tweet_enagagement_type['tweet_enagagement_type']).most_common()\n",
    "count_tweet_enagagement_type"
   ]
  },
  {
   "cell_type": "code",
   "execution_count": 60,
   "id": "ce4b8de2-a3de-45a1-a71d-bbc3dcbcf0cb",
   "metadata": {},
   "outputs": [
    {
     "data": {
      "image/png": "[encoded data removed]",
      "text/plain": [
       "<Figure size 432x288 with 1 Axes>"
      ]
     },
     "metadata": {
      "needs_background": "light"
     },
     "output_type": "display_data"
    }
   ],
   "source": [
    "enagagement_type = [c[0] for c in count_tweet_enagagement_type]\n",
    "counts = [c[1] for c in count_tweet_enagagement_type]\n",
    "\n",
    "plt.barh(enagagement_type[::-1], counts[::-1])\n",
    " \n",
    "plt.ylabel(\"enagagement_type\")\n",
    "plt.xlabel(\"Count\")\n",
    "plt.xticks(rotation=45)\n",
    "plt.title(\"Distribution of enagagement_type\")\n",
    "plt.show()"
   ]
  },
  {
   "cell_type": "code",
   "execution_count": 61,
   "id": "69ec07f5-843c-4b26-a28a-ecc858785d61",
   "metadata": {},
   "outputs": [],
   "source": [
    "# constants\n",
    "COUNTRY = 'Singapore'\n",
    "TOP_RTS_POS_NEG = 5"
   ]
  },
  {
   "cell_type": "markdown",
   "id": "96648ec4-b891-4848-be73-6363ef65bdbb",
   "metadata": {
    "tags": []
   },
   "source": [
    "# 2. Foreign influence: Inferring the influential countries\n",
    "\n",
    "**Influential countries**: Tweets by non-Singapore based users with a high number of engagements - retweets and quoted tweets, by Singapore users. "
   ]
  },
  {
   "cell_type": "markdown",
   "id": "1d70a784-3e81-4f40-97fc-7c59d0157828",
   "metadata": {},
   "source": [
    "##### Selecting tweets created by non-Singapore based users and known geocoding. "
   ]
  },
  {
   "cell_type": "code",
   "execution_count": 92,
   "id": "ec21d7e7-6c13-47a3-a907-ad7bf8186d6e",
   "metadata": {},
   "outputs": [],
   "source": [
    "quoted_sg_tweets = sg_tweets[(sg_tweets['tweet_enagagement_type'] == 'Quote') & \n",
    "                             (sg_tweets['quoted_user_geo_coding'] != 'Unknown') & \n",
    "                            (sg_tweets['quoted_user_geo_coding'] != 'Singapore')]\n",
    "\n",
    "rts_sg_tweets = sg_tweets[(sg_tweets['tweet_enagagement_type'] == 'Retweet') & \n",
    "                          (sg_tweets['retweeted_user_geo_coding'] != 'Unknown') & \n",
    "                          (sg_tweets['retweeted_user_geo_coding'] != 'Singapore')]\n"
   ]
  },
  {
   "cell_type": "markdown",
   "id": "ec3fd408-de81-48f7-b1f3-122a36746aa3",
   "metadata": {},
   "source": [
    "##### Merging quoted tweets and retweets"
   ]
  },
  {
   "cell_type": "code",
   "execution_count": 93,
   "id": "65b7796e-bd15-48d9-92ae-93977a1d45b9",
   "metadata": {},
   "outputs": [],
   "source": [
    "quoted_rts_geo = list(quoted_sg_tweets['quoted_user_geo_coding']) + \\\n",
    "                list(rts_sg_tweets['retweeted_user_geo_coding'])\n",
    "c_quoted_rts_geo = col.Counter(quoted_rts_geo).most_common()"
   ]
  },
  {
   "cell_type": "code",
   "execution_count": 94,
   "id": "3c0f3b4f-36e3-4da6-98db-4cb59fd8972e",
   "metadata": {},
   "outputs": [
    {
     "data": {
      "image/png": "[encoded data removed]",
      "text/plain": [
       "<Figure size 432x288 with 1 Axes>"
      ]
     },
     "metadata": {
      "needs_background": "light"
     },
     "output_type": "display_data"
    }
   ],
   "source": [
    "x_top = 10\n",
    "\n",
    "quoted_rts_geo = [c[0] for c in c_quoted_rts_geo[:x_top]]\n",
    "counts = [c[1] for c in c_quoted_rts_geo[:x_top]]\n",
    "\n",
    "plt.barh(quoted_rts_geo[::-1], counts[::-1])\n",
    " \n",
    "plt.ylabel(\"rts_quoted_geo\")\n",
    "plt.xlabel(\"Count\")\n",
    "plt.xticks(rotation=45)\n",
    "plt.title(\"Distribution of retweeted & quoted users' location\")\n",
    "plt.show()"
   ]
  },
  {
   "cell_type": "code",
   "execution_count": 95,
   "id": "2a9b0968-f41f-4592-a603-b5e0c87d6439",
   "metadata": {},
   "outputs": [
    {
     "data": {
      "text/html": [
       "<div>\n",
       "<style scoped>\n",
       "    .dataframe tbody tr th:only-of-type {\n",
       "        vertical-align: middle;\n",
       "    }\n",
       "\n",
       "    .dataframe tbody tr th {\n",
       "        vertical-align: top;\n",
       "    }\n",
       "\n",
       "    .dataframe thead th {\n",
       "        text-align: right;\n",
       "    }\n",
       "</style>\n",
       "<table border=\"1\" class=\"dataframe\">\n",
       "  <thead>\n",
       "    <tr style=\"text-align: right;\">\n",
       "      <th></th>\n",
       "      <th>Country</th>\n",
       "      <th>Alpha-2 code</th>\n",
       "      <th>Alpha-3 code</th>\n",
       "      <th>Numeric code</th>\n",
       "      <th>Latitude (average)</th>\n",
       "      <th>Longitude (average)</th>\n",
       "    </tr>\n",
       "  </thead>\n",
       "  <tbody>\n",
       "    <tr>\n",
       "      <th>0</th>\n",
       "      <td>Afghanistan</td>\n",
       "      <td>\"AF\"</td>\n",
       "      <td>\"AFG\"</td>\n",
       "      <td>\"4\"</td>\n",
       "      <td>\"33\"</td>\n",
       "      <td>\"65\"</td>\n",
       "    </tr>\n",
       "    <tr>\n",
       "      <th>1</th>\n",
       "      <td>Albania</td>\n",
       "      <td>\"AL\"</td>\n",
       "      <td>\"ALB\"</td>\n",
       "      <td>\"8\"</td>\n",
       "      <td>\"41\"</td>\n",
       "      <td>\"20\"</td>\n",
       "    </tr>\n",
       "    <tr>\n",
       "      <th>2</th>\n",
       "      <td>Algeria</td>\n",
       "      <td>\"DZ\"</td>\n",
       "      <td>\"DZA\"</td>\n",
       "      <td>\"12\"</td>\n",
       "      <td>\"28\"</td>\n",
       "      <td>\"3\"</td>\n",
       "    </tr>\n",
       "    <tr>\n",
       "      <th>3</th>\n",
       "      <td>American Samoa</td>\n",
       "      <td>\"AS\"</td>\n",
       "      <td>\"ASM\"</td>\n",
       "      <td>\"16\"</td>\n",
       "      <td>\"-14.3333\"</td>\n",
       "      <td>\"-170\"</td>\n",
       "    </tr>\n",
       "    <tr>\n",
       "      <th>4</th>\n",
       "      <td>Andorra</td>\n",
       "      <td>\"AD\"</td>\n",
       "      <td>\"AND\"</td>\n",
       "      <td>\"20\"</td>\n",
       "      <td>\"42.5\"</td>\n",
       "      <td>\"1.6\"</td>\n",
       "    </tr>\n",
       "    <tr>\n",
       "      <th>...</th>\n",
       "      <td>...</td>\n",
       "      <td>...</td>\n",
       "      <td>...</td>\n",
       "      <td>...</td>\n",
       "      <td>...</td>\n",
       "      <td>...</td>\n",
       "    </tr>\n",
       "    <tr>\n",
       "      <th>251</th>\n",
       "      <td>Wallis and Futuna</td>\n",
       "      <td>\"WF\"</td>\n",
       "      <td>\"WLF\"</td>\n",
       "      <td>\"876\"</td>\n",
       "      <td>\"-13.3\"</td>\n",
       "      <td>\"-176.2\"</td>\n",
       "    </tr>\n",
       "    <tr>\n",
       "      <th>252</th>\n",
       "      <td>Western Sahara</td>\n",
       "      <td>\"EH\"</td>\n",
       "      <td>\"ESH\"</td>\n",
       "      <td>\"732\"</td>\n",
       "      <td>\"24.5\"</td>\n",
       "      <td>\"-13\"</td>\n",
       "    </tr>\n",
       "    <tr>\n",
       "      <th>253</th>\n",
       "      <td>Yemen</td>\n",
       "      <td>\"YE\"</td>\n",
       "      <td>\"YEM\"</td>\n",
       "      <td>\"887\"</td>\n",
       "      <td>\"15\"</td>\n",
       "      <td>\"48\"</td>\n",
       "    </tr>\n",
       "    <tr>\n",
       "      <th>254</th>\n",
       "      <td>Zambia</td>\n",
       "      <td>\"ZM\"</td>\n",
       "      <td>\"ZMB\"</td>\n",
       "      <td>\"894\"</td>\n",
       "      <td>\"-15\"</td>\n",
       "      <td>\"30\"</td>\n",
       "    </tr>\n",
       "    <tr>\n",
       "      <th>255</th>\n",
       "      <td>Zimbabwe</td>\n",
       "      <td>\"ZW\"</td>\n",
       "      <td>\"ZWE\"</td>\n",
       "      <td>\"716\"</td>\n",
       "      <td>\"-20\"</td>\n",
       "      <td>\"30\"</td>\n",
       "    </tr>\n",
       "  </tbody>\n",
       "</table>\n",
       "<p>256 rows × 6 columns</p>\n",
       "</div>"
      ],
      "text/plain": [
       "               Country Alpha-2 code Alpha-3 code Numeric code  \\\n",
       "0          Afghanistan         \"AF\"        \"AFG\"          \"4\"   \n",
       "1              Albania         \"AL\"        \"ALB\"          \"8\"   \n",
       "2              Algeria         \"DZ\"        \"DZA\"         \"12\"   \n",
       "3       American Samoa         \"AS\"        \"ASM\"         \"16\"   \n",
       "4              Andorra         \"AD\"        \"AND\"         \"20\"   \n",
       "..                 ...          ...          ...          ...   \n",
       "251  Wallis and Futuna         \"WF\"        \"WLF\"        \"876\"   \n",
       "252     Western Sahara         \"EH\"        \"ESH\"        \"732\"   \n",
       "253              Yemen         \"YE\"        \"YEM\"        \"887\"   \n",
       "254             Zambia         \"ZM\"        \"ZMB\"        \"894\"   \n",
       "255           Zimbabwe         \"ZW\"        \"ZWE\"        \"716\"   \n",
       "\n",
       "    Latitude (average) Longitude (average)  \n",
       "0                 \"33\"                \"65\"  \n",
       "1                 \"41\"                \"20\"  \n",
       "2                 \"28\"                 \"3\"  \n",
       "3           \"-14.3333\"              \"-170\"  \n",
       "4               \"42.5\"               \"1.6\"  \n",
       "..                 ...                 ...  \n",
       "251            \"-13.3\"            \"-176.2\"  \n",
       "252             \"24.5\"               \"-13\"  \n",
       "253               \"15\"                \"48\"  \n",
       "254              \"-15\"                \"30\"  \n",
       "255              \"-20\"                \"30\"  \n",
       "\n",
       "[256 rows x 6 columns]"
      ]
     },
     "execution_count": 95,
     "metadata": {},
     "output_type": "execute_result"
    }
   ],
   "source": [
    "countries_data = pd.read_csv(\"data/countries.csv\")\n",
    "countries_data"
   ]
  },
  {
   "cell_type": "code",
   "execution_count": 68,
   "id": "2e77e36b-42e5-425d-b735-1b6aa5a4d4d9",
   "metadata": {},
   "outputs": [
    {
     "data": {
      "text/plain": [
       "(103.8, 1.3667)"
      ]
     },
     "execution_count": 68,
     "metadata": {},
     "output_type": "execute_result"
    }
   ],
   "source": [
    "SINGAPORE_LONG_LAT = countries_data[countries_data['Country'] == 'Singapore']\n",
    "\n",
    "sg_long = float(SINGAPORE_LONG_LAT.iloc[0]['Longitude (average)'].strip().strip('\"'))  #.iloc(0)['Longitude (average)']\n",
    "sg_lat = float(SINGAPORE_LONG_LAT.iloc[0]['Latitude (average)'].strip().strip('\"'))\n",
    "\n",
    "sg_long, sg_lat"
   ]
  },
  {
   "cell_type": "code",
   "execution_count": 78,
   "id": "fca230d7-9cff-402a-a87e-db123ba9f507",
   "metadata": {},
   "outputs": [],
   "source": [
    "top_influential_countries_data = {\n",
    "    'country': [],\n",
    "    'lat': [],\n",
    "    'long': [],\n",
    "    'count': [],\n",
    "    'size': []\n",
    "}\n",
    "\n",
    "sum_influence = sum([c[1] for c in top_country_influencer])\n",
    "\n",
    "for i in top_country_influencer:\n",
    "    top_influential_countries_data['country'].append(i[0])\n",
    "    top_influential_countries_data['count'].append(i[1])\n",
    "    top_influential_countries_data['size'].append(round(i[1]/sum_influence*150, 2))\n",
    "    country_loc = countries_data[countries_data['Country'] == i[0]]\n",
    "    top_influential_countries_data['long'].append(float(country_loc.iloc[0]['Longitude (average)'].strip().strip('\"')))\n",
    "    top_influential_countries_data['lat'].append(float(country_loc.iloc[0]['Latitude (average)'].strip().strip('\"')))\n",
    "    "
   ]
  },
  {
   "cell_type": "code",
   "execution_count": 79,
   "id": "7ec623d0-c772-46b4-b276-d16c0e9159ca",
   "metadata": {},
   "outputs": [
    {
     "data": {
      "text/html": [
       "<div>\n",
       "<style scoped>\n",
       "    .dataframe tbody tr th:only-of-type {\n",
       "        vertical-align: middle;\n",
       "    }\n",
       "\n",
       "    .dataframe tbody tr th {\n",
       "        vertical-align: top;\n",
       "    }\n",
       "\n",
       "    .dataframe thead th {\n",
       "        text-align: right;\n",
       "    }\n",
       "</style>\n",
       "<table border=\"1\" class=\"dataframe\">\n",
       "  <thead>\n",
       "    <tr style=\"text-align: right;\">\n",
       "      <th></th>\n",
       "      <th>country</th>\n",
       "      <th>lat</th>\n",
       "      <th>long</th>\n",
       "      <th>count</th>\n",
       "      <th>size</th>\n",
       "    </tr>\n",
       "  </thead>\n",
       "  <tbody>\n",
       "    <tr>\n",
       "      <th>0</th>\n",
       "      <td>Myanmar</td>\n",
       "      <td>22.0</td>\n",
       "      <td>98.0</td>\n",
       "      <td>11400</td>\n",
       "      <td>50.15</td>\n",
       "    </tr>\n",
       "    <tr>\n",
       "      <th>1</th>\n",
       "      <td>United States</td>\n",
       "      <td>38.0</td>\n",
       "      <td>-97.0</td>\n",
       "      <td>10804</td>\n",
       "      <td>47.53</td>\n",
       "    </tr>\n",
       "    <tr>\n",
       "      <th>2</th>\n",
       "      <td>United Kingdom</td>\n",
       "      <td>54.0</td>\n",
       "      <td>-2.0</td>\n",
       "      <td>2821</td>\n",
       "      <td>12.41</td>\n",
       "    </tr>\n",
       "    <tr>\n",
       "      <th>3</th>\n",
       "      <td>India</td>\n",
       "      <td>20.0</td>\n",
       "      <td>77.0</td>\n",
       "      <td>2271</td>\n",
       "      <td>9.99</td>\n",
       "    </tr>\n",
       "    <tr>\n",
       "      <th>4</th>\n",
       "      <td>Malaysia</td>\n",
       "      <td>2.5</td>\n",
       "      <td>112.5</td>\n",
       "      <td>2180</td>\n",
       "      <td>9.59</td>\n",
       "    </tr>\n",
       "    <tr>\n",
       "      <th>5</th>\n",
       "      <td>Thailand</td>\n",
       "      <td>15.0</td>\n",
       "      <td>100.0</td>\n",
       "      <td>1221</td>\n",
       "      <td>5.37</td>\n",
       "    </tr>\n",
       "    <tr>\n",
       "      <th>6</th>\n",
       "      <td>Japan</td>\n",
       "      <td>36.0</td>\n",
       "      <td>138.0</td>\n",
       "      <td>1020</td>\n",
       "      <td>4.49</td>\n",
       "    </tr>\n",
       "    <tr>\n",
       "      <th>7</th>\n",
       "      <td>Philippines</td>\n",
       "      <td>13.0</td>\n",
       "      <td>122.0</td>\n",
       "      <td>884</td>\n",
       "      <td>3.89</td>\n",
       "    </tr>\n",
       "    <tr>\n",
       "      <th>8</th>\n",
       "      <td>China</td>\n",
       "      <td>35.0</td>\n",
       "      <td>105.0</td>\n",
       "      <td>751</td>\n",
       "      <td>3.30</td>\n",
       "    </tr>\n",
       "    <tr>\n",
       "      <th>9</th>\n",
       "      <td>Australia</td>\n",
       "      <td>-27.0</td>\n",
       "      <td>133.0</td>\n",
       "      <td>744</td>\n",
       "      <td>3.27</td>\n",
       "    </tr>\n",
       "  </tbody>\n",
       "</table>\n",
       "</div>"
      ],
      "text/plain": [
       "          country   lat   long  count   size\n",
       "0         Myanmar  22.0   98.0  11400  50.15\n",
       "1   United States  38.0  -97.0  10804  47.53\n",
       "2  United Kingdom  54.0   -2.0   2821  12.41\n",
       "3           India  20.0   77.0   2271   9.99\n",
       "4        Malaysia   2.5  112.5   2180   9.59\n",
       "5        Thailand  15.0  100.0   1221   5.37\n",
       "6           Japan  36.0  138.0   1020   4.49\n",
       "7     Philippines  13.0  122.0    884   3.89\n",
       "8           China  35.0  105.0    751   3.30\n",
       "9       Australia -27.0  133.0    744   3.27"
      ]
     },
     "execution_count": 79,
     "metadata": {},
     "output_type": "execute_result"
    }
   ],
   "source": [
    "df = pd.DataFrame(data)\n",
    "pd.DataFrame.to_csv(df, 'data/output/influencers/top_countries.csv')\n",
    "df"
   ]
  },
  {
   "cell_type": "code",
   "execution_count": 96,
   "id": "2d5988df-0dc7-4660-bb85-06ce09e085b6",
   "metadata": {},
   "outputs": [],
   "source": [
    "# saving tweets from influential countries\n",
    "top_influential_countries = country_data['Country']\n",
    "top_countries_tweets = sg_tweets[(sg_tweets['retweeted_user_geo_coding'].isin(top_influential_countries))\n",
    "                                & (sg_tweets['processed_tweet_text'].notna())] \\\n",
    "                        [['retweeted_user_geo_coding', 'processed_tweet_text']]\n",
    "pd.DataFrame.to_csv(top_countries_tweets, 'data/output/influencers/top_countries_data.csv')"
   ]
  },
  {
   "cell_type": "code",
   "execution_count": 84,
   "id": "3193254a-ec51-4a52-8374-2307c84c1c5b",
   "metadata": {},
   "outputs": [
    {
     "data": {
      "text/html": [
       "<div>\n",
       "<style scoped>\n",
       "    .dataframe tbody tr th:only-of-type {\n",
       "        vertical-align: middle;\n",
       "    }\n",
       "\n",
       "    .dataframe tbody tr th {\n",
       "        vertical-align: top;\n",
       "    }\n",
       "\n",
       "    .dataframe thead th {\n",
       "        text-align: right;\n",
       "    }\n",
       "</style>\n",
       "<table border=\"1\" class=\"dataframe\">\n",
       "  <thead>\n",
       "    <tr style=\"text-align: right;\">\n",
       "      <th></th>\n",
       "      <th>retweeted_user_geo_coding</th>\n",
       "      <th>processed_tweet_text</th>\n",
       "    </tr>\n",
       "  </thead>\n",
       "  <tbody>\n",
       "    <tr>\n",
       "      <th>7</th>\n",
       "      <td>United States</td>\n",
       "      <td>took daughter kindergarten orientation vaccine...</td>\n",
       "    </tr>\n",
       "    <tr>\n",
       "      <th>8</th>\n",
       "      <td>Singapore</td>\n",
       "      <td>wishing singapore happy 56th birthday advance ...</td>\n",
       "    </tr>\n",
       "    <tr>\n",
       "      <th>13</th>\n",
       "      <td>United Kingdom</td>\n",
       "      <td>set shot</td>\n",
       "    </tr>\n",
       "    <tr>\n",
       "      <th>19</th>\n",
       "      <td>United States</td>\n",
       "      <td>took daughter kindergarten orientation vaccine...</td>\n",
       "    </tr>\n",
       "    <tr>\n",
       "      <th>20</th>\n",
       "      <td>India</td>\n",
       "      <td>americas refusal mandate vaccines worst sort w...</td>\n",
       "    </tr>\n",
       "    <tr>\n",
       "      <th>...</th>\n",
       "      <td>...</td>\n",
       "      <td>...</td>\n",
       "    </tr>\n",
       "    <tr>\n",
       "      <th>181398</th>\n",
       "      <td>United States</td>\n",
       "      <td>#</td>\n",
       "    </tr>\n",
       "    <tr>\n",
       "      <th>181399</th>\n",
       "      <td>India</td>\n",
       "      <td># immanuvel devendrar later took immanuel seka...</td>\n",
       "    </tr>\n",
       "    <tr>\n",
       "      <th>181400</th>\n",
       "      <td>Myanmar</td>\n",
       "      <td>/ junta military troops shot civilians husband...</td>\n",
       "    </tr>\n",
       "    <tr>\n",
       "      <th>181404</th>\n",
       "      <td>Singapore</td>\n",
       "      <td>glance diagnosed case identified close contact...</td>\n",
       "    </tr>\n",
       "    <tr>\n",
       "      <th>181406</th>\n",
       "      <td>Singapore</td>\n",
       "      <td>singapore reports local infections friday part...</td>\n",
       "    </tr>\n",
       "  </tbody>\n",
       "</table>\n",
       "<p>33575 rows × 2 columns</p>\n",
       "</div>"
      ],
      "text/plain": [
       "       retweeted_user_geo_coding  \\\n",
       "7                  United States   \n",
       "8                      Singapore   \n",
       "13                United Kingdom   \n",
       "19                 United States   \n",
       "20                         India   \n",
       "...                          ...   \n",
       "181398             United States   \n",
       "181399                     India   \n",
       "181400                   Myanmar   \n",
       "181404                 Singapore   \n",
       "181406                 Singapore   \n",
       "\n",
       "                                     processed_tweet_text  \n",
       "7       took daughter kindergarten orientation vaccine...  \n",
       "8       wishing singapore happy 56th birthday advance ...  \n",
       "13                                               set shot  \n",
       "19      took daughter kindergarten orientation vaccine...  \n",
       "20      americas refusal mandate vaccines worst sort w...  \n",
       "...                                                   ...  \n",
       "181398                                                  #  \n",
       "181399  # immanuvel devendrar later took immanuel seka...  \n",
       "181400  / junta military troops shot civilians husband...  \n",
       "181404  glance diagnosed case identified close contact...  \n",
       "181406  singapore reports local infections friday part...  \n",
       "\n",
       "[33575 rows x 2 columns]"
      ]
     },
     "execution_count": 84,
     "metadata": {},
     "output_type": "execute_result"
    }
   ],
   "source": [
    "top_countries_tweets"
   ]
  },
  {
   "cell_type": "markdown",
   "id": "f30e6716-0744-446f-aa19-3a4d94ac07bb",
   "metadata": {},
   "source": [
    "# 3. Bursty tweets: Inferring tweets with high intensity of extreme sentiments"
   ]
  },
  {
   "cell_type": "markdown",
   "id": "0c310b33-c624-4dc1-b217-12cde943097a",
   "metadata": {},
   "source": [
    "**Viral quoted tweets**:\n",
    "Tweets created between MIN_DATE and MAX_DATE that are (1) highly quoted by count or (2) received an unusual number of endorsements - retweets and favorites\n",
    "\n",
    "**Bursty tweets**: Viral quoted tweets with high intensity ( >= 80% ) of extreme sentiments (positive and negative sentiments)"
   ]
  },
  {
   "cell_type": "markdown",
   "id": "cf3fe2f6-7e9e-4cb5-bad1-83d4bd6a7b65",
   "metadata": {},
   "source": [
    "### 3.1. Inferring viral quoted tweets"
   ]
  },
  {
   "cell_type": "markdown",
   "id": "32d2a035-44b4-4d2d-9a05-48383a0b4a00",
   "metadata": {},
   "source": [
    "##### Filtering quoted tweets "
   ]
  },
  {
   "cell_type": "code",
   "execution_count": 125,
   "id": "2b60dce5-caf8-4073-8f32-8564ee944fb5",
   "metadata": {},
   "outputs": [
    {
     "data": {
      "text/plain": [
       "(39921, 54)"
      ]
     },
     "execution_count": 125,
     "metadata": {},
     "output_type": "execute_result"
    }
   ],
   "source": [
    "tweet_enagagement_quotes = sg_tweets[sg_tweets['tweet_enagagement_type'] == 'Quote']\n",
    "tweet_enagagement_quotes.shape"
   ]
  },
  {
   "cell_type": "markdown",
   "id": "4582b381-aef6-4559-9ab3-78358ba3bbb4",
   "metadata": {},
   "source": [
    "##### Formating `quoted_tweet_time` and adding `quoted_tweet_date`"
   ]
  },
  {
   "cell_type": "code",
   "execution_count": 126,
   "id": "4d351dbd-9e54-4919-b124-beb73c8d7079",
   "metadata": {},
   "outputs": [],
   "source": [
    "tweet_enagagement_quotes['quoted_tweet_time'] = pd.to_datetime(tweet_enagagement_quotes['quoted_tweet_time'], errors='coerce')\n",
    "tweet_enagagement_quotes = tweet_enagagement_quotes.dropna(subset=['quoted_tweet_time'])\n",
    "tweet_enagagement_quotes['quoted_tweet_date'] = tweet_enagagement_quotes.quoted_tweet_time.dt.strftime('%Y-%m-%d')"
   ]
  },
  {
   "cell_type": "markdown",
   "id": "e3cbd4b6-5bf2-4106-8a4f-d00dce5ddd63",
   "metadata": {},
   "source": [
    "##### Adding `total_engagement` = `quoted_retweet_count` + `quoted_favorite_count`"
   ]
  },
  {
   "cell_type": "code",
   "execution_count": 127,
   "id": "e1bebe14-2445-48d5-be5a-dcee2e086773",
   "metadata": {},
   "outputs": [],
   "source": [
    "tweet_enagagement_quotes['total_engagement'] = tweet_enagagement_quotes['quoted_retweet_count']  + tweet_enagagement_quotes['quoted_favorite_count'] \n",
    "\n",
    "tweet_enagagement_quotes[['quoted_tweet_id', 'total_engagement']] = tweet_enagagement_quotes[['quoted_tweet_id', 'total_engagement']].astype(int)\n",
    "tweet_enagagement_quotes = tweet_enagagement_quotes.loc[:, ~tweet_enagagement_quotes.columns.str.contains('^Unnamed')]"
   ]
  },
  {
   "cell_type": "markdown",
   "id": "f5376a83-d287-40c2-880e-2d8d8b8b7814",
   "metadata": {},
   "source": [
    "##### (1) Filtering quoted tweets created between `MIN_DATE` and `MAX_DATE`"
   ]
  },
  {
   "cell_type": "code",
   "execution_count": 128,
   "id": "4a34ed96-356c-4f73-b8b0-5474d3a73d11",
   "metadata": {},
   "outputs": [],
   "source": [
    "quoted_tweets = tweet_enagagement_quotes[(tweet_enagagement_quotes['quoted_tweet_date'].between(MIN_DATE, MAX_DATE, inclusive=True))]"
   ]
  },
  {
   "cell_type": "markdown",
   "id": "f773aed2-8e84-468b-a107-7234b4b669b3",
   "metadata": {},
   "source": [
    "##### (2) Filtering highly quoted by count "
   ]
  },
  {
   "cell_type": "code",
   "execution_count": null,
   "id": "caf4f35a-cdb7-4160-b811-1705aee58275",
   "metadata": {},
   "outputs": [],
   "source": [
    "# count of RTs\n",
    "c_quoted = quoted_tweets.value_counts(subset=['quoted_tweet_id']).reset_index(name='local_count').sort_values('local_count', ascending=False)\n",
    "# top RTs by count\n",
    "quoted_qids_by_count = list(c_quoted[:10]['quoted_tweet_id'])"
   ]
  },
  {
   "cell_type": "markdown",
   "id": "ff79ac95-e330-4125-8a61-f07d71b532d3",
   "metadata": {},
   "source": [
    "##### (3) Filtering anomalous quoted tweets - with an unusual number of engagements."
   ]
  },
  {
   "cell_type": "code",
   "execution_count": 129,
   "id": "5956915c-ad3d-4c64-bf42-173595a4348e",
   "metadata": {},
   "outputs": [],
   "source": [
    "# top quoted tweets by spike in engagements\n",
    "grouped_sorted_date = quoted_tweets.groupby(['quoted_tweet_id', 'quoted_tweet_date']).apply(pd.DataFrame.sort_values, 'quoted_tweet_date').reset_index(drop=True)\n",
    "max_grouped_sorted_date = grouped_sorted_date.groupby(['quoted_tweet_id', 'quoted_tweet_date'])['total_engagement'].max().reset_index()\n",
    "max_grouped_sorted_date['delta_engagement'] = max_grouped_sorted_date.groupby(['quoted_tweet_id'])['total_engagement'].diff().fillna(0).astype(int)\n",
    "spike = max_grouped_sorted_date.groupby('quoted_tweet_id').nth(0)\n",
    "spike = list(spike[spike['delta_engagement'] > 300].reset_index()['quoted_tweet_id'])"
   ]
  },
  {
   "cell_type": "markdown",
   "id": "7f64484a-e88a-4468-a8ab-f597614ce7c5",
   "metadata": {},
   "source": [
    "##### Get viral RTs by count and spiky engagements"
   ]
  },
  {
   "cell_type": "code",
   "execution_count": 130,
   "id": "2aceeb9e-0dea-47fc-a876-3c2c8218ea97",
   "metadata": {},
   "outputs": [],
   "source": [
    "viral_quoted_tweets = quoted_tweets[quoted_tweets['quoted_tweet_id'].isin(quoted_qids_by_count + spike)]"
   ]
  },
  {
   "cell_type": "markdown",
   "id": "ab071963-6cf8-4bec-b6cf-341df2f0d67c",
   "metadata": {},
   "source": [
    "##### get data for delta and cumulative graphs\n"
   ]
  },
  {
   "cell_type": "code",
   "execution_count": null,
   "id": "5b43f985-0b5b-4ca4-95e3-0cdaff7a0531",
   "metadata": {},
   "outputs": [],
   "source": [
    "grouped_sorted_date = viral_quoted_tweets.groupby(['quoted_tweet_id', 'tweet_date', 'quoted_user_screenname']).apply(pd.DataFrame.sort_values, 'tweet_date').reset_index(drop=True)\n",
    "max_grouped_sorted_date = grouped_sorted_date.groupby(['quoted_tweet_id', 'tweet_date', 'quoted_user_screenname'])['total_engagement'].max().reset_index()\n",
    "max_grouped_sorted_date['delta_engagement'] = max_grouped_sorted_date.groupby(['quoted_user_screenname'])['total_engagement'].diff().fillna(0).astype(int)"
   ]
  },
  {
   "cell_type": "markdown",
   "id": "29f9c5ba-e728-4274-8dea-052da25fd4dd",
   "metadata": {},
   "source": [
    "### 3.2. Sentiment analysis of the viral quoted tweets"
   ]
  },
  {
   "cell_type": "code",
   "execution_count": 131,
   "id": "c64edcf2-24de-4461-91e3-eb841a79edc9",
   "metadata": {},
   "outputs": [],
   "source": [
    "quoted_by_sentiment = viral_quoted_tweets.groupby(['quoted_tweet_id', 'tweet_sentiment']).size()\\\n",
    "                        .unstack(fill_value=0).reset_index()\n",
    "quoted_by_sentiment"
   ]
  },
  {
   "cell_type": "code",
   "execution_count": 132,
   "id": "52159e1e-22c1-4190-96a2-4c92804f0139",
   "metadata": {},
   "outputs": [],
   "source": [
    "quoted_by_sentiment['pos_count'] = quoted_by_sentiment['positive'] / (quoted_by_sentiment['positive'] + \n",
    "                                                                      quoted_by_sentiment['negative'] + \n",
    "                                                                      quoted_by_sentiment['neutral'])*100 \n",
    "\n",
    "\n",
    "quoted_by_sentiment['neg_count'] = quoted_by_sentiment['negative'] / (quoted_by_sentiment['positive'] + \n",
    "                                                                      quoted_by_sentiment['negative'] + \n",
    "                                                                      quoted_by_sentiment['neutral'])*100 "
   ]
  },
  {
   "cell_type": "markdown",
   "id": "b692d1e3-08a9-43cc-ace3-124acc202c16",
   "metadata": {},
   "source": [
    "### 3.3. Inferring viral quoted tweets with extreme intensity of sentiments"
   ]
  },
  {
   "cell_type": "code",
   "execution_count": 133,
   "id": "927f10cf-197c-4d1e-9315-41705862ce60",
   "metadata": {},
   "outputs": [
    {
     "data": {
      "text/html": [
       "<div>\n",
       "<style scoped>\n",
       "    .dataframe tbody tr th:only-of-type {\n",
       "        vertical-align: middle;\n",
       "    }\n",
       "\n",
       "    .dataframe tbody tr th {\n",
       "        vertical-align: top;\n",
       "    }\n",
       "\n",
       "    .dataframe thead th {\n",
       "        text-align: right;\n",
       "    }\n",
       "</style>\n",
       "<table border=\"1\" class=\"dataframe\">\n",
       "  <thead>\n",
       "    <tr style=\"text-align: right;\">\n",
       "      <th>tweet_sentiment</th>\n",
       "      <th>quoted_tweet_id</th>\n",
       "      <th>negative</th>\n",
       "      <th>neutral</th>\n",
       "      <th>positive</th>\n",
       "      <th>pos_count</th>\n",
       "      <th>neg_count</th>\n",
       "    </tr>\n",
       "  </thead>\n",
       "  <tbody>\n",
       "    <tr>\n",
       "      <th>0</th>\n",
       "      <td>1424662560909922304</td>\n",
       "      <td>3</td>\n",
       "      <td>7</td>\n",
       "      <td>96</td>\n",
       "      <td>90.566038</td>\n",
       "      <td>2.830189</td>\n",
       "    </tr>\n",
       "    <tr>\n",
       "      <th>8</th>\n",
       "      <td>1438395703185735680</td>\n",
       "      <td>252</td>\n",
       "      <td>26</td>\n",
       "      <td>8</td>\n",
       "      <td>2.797203</td>\n",
       "      <td>88.111888</td>\n",
       "    </tr>\n",
       "    <tr>\n",
       "      <th>9</th>\n",
       "      <td>1439236328772669440</td>\n",
       "      <td>85</td>\n",
       "      <td>7</td>\n",
       "      <td>0</td>\n",
       "      <td>0.000000</td>\n",
       "      <td>92.391304</td>\n",
       "    </tr>\n",
       "  </tbody>\n",
       "</table>\n",
       "</div>"
      ],
      "text/plain": [
       "tweet_sentiment      quoted_tweet_id  negative  neutral  positive  pos_count  \\\n",
       "0                1424662560909922304         3        7        96  90.566038   \n",
       "8                1438395703185735680       252       26         8   2.797203   \n",
       "9                1439236328772669440        85        7         0   0.000000   \n",
       "\n",
       "tweet_sentiment  neg_count  \n",
       "0                 2.830189  \n",
       "8                88.111888  \n",
       "9                92.391304  "
      ]
     },
     "execution_count": 133,
     "metadata": {},
     "output_type": "execute_result"
    }
   ],
   "source": [
    "most_spread_quoted_by_sentiment_with_rate = quoted_by_sentiment[(quoted_by_sentiment['pos_count'] >= 80) | (quoted_by_sentiment['neg_count'] >= 80)]\n",
    "most_spread_quoted_by_sentiment_with_rate"
   ]
  },
  {
   "cell_type": "code",
   "execution_count": 113,
   "id": "bdfa2170-ca11-4596-9777-dea62b7e57a2",
   "metadata": {},
   "outputs": [
    {
     "data": {
      "text/plain": [
       "[1424662560909922304, 1438395703185735680, 1439236328772669440]"
      ]
     },
     "execution_count": 113,
     "metadata": {},
     "output_type": "execute_result"
    }
   ],
   "source": [
    "most_spread_quoted_ids = list(most_spread_quoted_by_sentiment_with_rate['quoted_tweet_id'])\n",
    "most_spread_quoted_ids"
   ]
  },
  {
   "cell_type": "code",
   "execution_count": 115,
   "id": "c29de7a5-9997-4156-a150-0b04a10ec821",
   "metadata": {},
   "outputs": [],
   "source": [
    "most_spread_quoted_info = viral_quoted_tweets[viral_quoted_tweets['quoted_tweet_id'].isin(most_spread_quoted_ids)]"
   ]
  },
  {
   "cell_type": "code",
   "execution_count": 116,
   "id": "9f1aa963-f799-4062-95b0-460f35170412",
   "metadata": {},
   "outputs": [],
   "source": [
    "most_spread_quoted_info = most_spread_quoted_info[['quoted_tweet_id', 'quoted_tweet_text', 'quoted_user_screenname', 'quoted_user_geo_coding', 'quoted_tweet_date', 'quoted_user_verified', 'total_engagement']]"
   ]
  },
  {
   "cell_type": "code",
   "execution_count": 117,
   "id": "e84babb0-5fa1-4f43-af80-ffa57a82b4f1",
   "metadata": {},
   "outputs": [],
   "source": [
    "most_spread_quoted_info = most_spread_quoted_info.loc[most_spread_quoted_info.groupby([\"quoted_tweet_id\"])[\"total_engagement\"].idxmax()]  "
   ]
  },
  {
   "cell_type": "code",
   "execution_count": 118,
   "id": "5076af3d-c1be-49c5-92e0-4ae8496b99d0",
   "metadata": {},
   "outputs": [
    {
     "data": {
      "text/plain": [
       "(3, 12)"
      ]
     },
     "execution_count": 118,
     "metadata": {},
     "output_type": "execute_result"
    }
   ],
   "source": [
    "final_most_spread_quoted = most_spread_quoted_info.merge(most_spread_quoted_by_sentiment_with_rate, on=\"quoted_tweet_id\", how = 'inner')\n",
    "final_most_spread_quoted.shape"
   ]
  },
  {
   "cell_type": "code",
   "execution_count": 119,
   "id": "ee563ead-fc9f-4758-a524-19ea063cd816",
   "metadata": {},
   "outputs": [],
   "source": [
    "final_most_spread_quoted.drop(['negative', 'positive', 'neutral'], 1, inplace=True) "
   ]
  },
  {
   "cell_type": "markdown",
   "id": "5ae6a158-08be-4d3c-9b54-718820c6148e",
   "metadata": {},
   "source": [
    "##### Adding `spread_type` and `spread_rate`. 80% > positivity spread and 80% > negativity spread"
   ]
  },
  {
   "cell_type": "code",
   "execution_count": 120,
   "id": "67777729-4101-411b-b685-b0dfcd9784d9",
   "metadata": {},
   "outputs": [],
   "source": [
    "final_most_spread_quoted['spread_type'] = ['positive' if spread_rate >= 80 else 'negative' for spread_rate in final_most_spread_quoted['pos_count']]\n",
    "final_most_spread_quoted['spread_rate'] = [round(row['pos_count'], 2) if row['spread_type'] == 'positive' \n",
    "                                           else round(row['neg_count'], 2) for _, row in final_most_spread_quoted.iterrows()]"
   ]
  },
  {
   "cell_type": "code",
   "execution_count": 121,
   "id": "0baf4dc8-fa24-44d6-9344-b517efc0bdce",
   "metadata": {},
   "outputs": [],
   "source": [
    "final_most_spread_quoted.drop(['pos_count', 'neg_count'], 1, inplace=True) \n",
    "pd.DataFrame.to_csv(final_most_spread_quoted, 'data/output/quoted/sentiment_spread.csv')"
   ]
  },
  {
   "cell_type": "code",
   "execution_count": 122,
   "id": "cc97b0d3-d75d-480e-bbf5-701801b9ed3c",
   "metadata": {},
   "outputs": [],
   "source": []
  },
  {
   "cell_type": "code",
   "execution_count": null,
   "id": "5d7fdecf-74b5-4e39-9126-a0c4152ee135",
   "metadata": {},
   "outputs": [],
   "source": []
  },
  {
   "cell_type": "code",
   "execution_count": null,
   "id": "433031a2-ed59-4ee3-94b9-8e8c9a5454bb",
   "metadata": {},
   "outputs": [],
   "source": [
    "# popular_quoted_first = viral_quoted_tweets[['tweet_text', 'tweet_sentiment', 'quoted_user_screenname', 'quoted_user_verified', 'quoted_user_geo_coding', 'quoted_tweet_id']].groupby('quoted_tweet_id').nth(0)\n",
    "# dfs = [popular_quoted_first]\n",
    "# popular_quoted_data = ft.reduce(lambda left,right: pd.merge(left,right,on='quoted_tweet_id'), dfs)\n",
    "\n",
    "# quoted_sentiments =  viral_quoted_tweets[['user_screenname_x', 'user_geo_coding', 'tweet_text', 'tweet_sentiment', \n",
    "#                 'quoted_tweet_sentiment', 'quoted_tweet_text', 'quoted_user_screenname', 'quoted_user_geo_coding']]\n",
    "\n",
    "# quoted_tweets_with_sentiment = sg_tweets[(sg_tweets['tweet_enagagement_type'] == 'Quote') & (sg_tweets['quoted_tweet_sentiment'].notna())]\n",
    "# sentiments = ['positive', 'negative', 'neutral']\n",
    "# sentiments_comb = it.product(sentiments, sentiments)\n",
    "# sentiments_comb = list(sentiments_comb)\n",
    "# sentiments_comb"
   ]
  },
  {
   "cell_type": "markdown",
   "id": "4df54f95-6862-4bc2-8acb-8cb78ed5c4db",
   "metadata": {},
   "source": [
    "## Retweets - Popular tweets in SG and global influence"
   ]
  },
  {
   "cell_type": "code",
   "execution_count": 13,
   "id": "11debf78-bff3-47cc-bfff-b2821267854f",
   "metadata": {},
   "outputs": [],
   "source": [
    "tweet_enagagement_retweet = sg_tweets[sg_tweets['tweet_enagagement_type'] == 'Retweet']"
   ]
  },
  {
   "cell_type": "code",
   "execution_count": 16,
   "id": "aa1cfc2c-0740-4d13-ae73-01c8e1040d36",
   "metadata": {},
   "outputs": [],
   "source": [
    "## retweet time processing\n",
    "tweet_enagagement_retweet['retweeted_tweet_time'] = pd.to_datetime(tweet_enagagement_retweet['retweeted_tweet_time'], errors='coerce')\n",
    "tweet_enagagement_retweet = tweet_enagagement_retweet.dropna(subset=['retweeted_tweet_time'])\n",
    "tweet_enagagement_retweet['retweeted_tweet_date'] = tweet_enagagement_retweet.retweeted_tweet_time.dt.strftime('%Y-%m-%d')"
   ]
  },
  {
   "cell_type": "code",
   "execution_count": 25,
   "id": "89642469-9907-49ef-9e40-1cb1ae63ee03",
   "metadata": {},
   "outputs": [],
   "source": [
    "rts_geo = tweet_enagagement_retweet['retweeted_user_geo_coding']\n",
    "\n",
    "c_rts_geo = col.Counter(rts_geo).most_common()\n",
    "# c_rts_geo"
   ]
  },
  {
   "cell_type": "code",
   "execution_count": 18,
   "id": "4d614127-8a56-4be1-88da-4a8d26613517",
   "metadata": {},
   "outputs": [
    {
     "data": {
      "image/png": "[encoded data removed]",
      "text/plain": [
       "<Figure size 432x288 with 1 Axes>"
      ]
     },
     "metadata": {
      "needs_background": "light"
     },
     "output_type": "display_data"
    }
   ],
   "source": [
    "x_top = 20\n",
    "\n",
    "rts_geo = [c[0] for c in c_rts_geo[:x_top]]\n",
    "counts = [c[1] for c in c_rts_geo[:x_top]]\n",
    "\n",
    "plt.barh(rts_geo[::-1], counts[::-1])\n",
    " \n",
    "plt.ylabel(\"rts_quoted_geo\")\n",
    "plt.xlabel(\"Count\")\n",
    "plt.xticks(rotation=45)\n",
    "plt.title(\"Distribution of retweeted location\")\n",
    "plt.show()\n"
   ]
  },
  {
   "cell_type": "code",
   "execution_count": 32,
   "id": "3866737e-f5f3-48de-9f0a-238df0137ef1",
   "metadata": {},
   "outputs": [],
   "source": [
    "tweet_enagagement_retweet['total_engagement'] = tweet_enagagement_retweet['retweeted_retweet_count']  + tweet_enagagement_retweet['retweeted_favorite_count'] \n",
    "tweet_enagagement_retweet[['retweeted_tweet_id', 'total_engagement']] = tweet_enagagement_retweet[['retweeted_tweet_id', 'total_engagement']].astype(int)\n",
    "\n",
    "tweet_enagagement_retweet = tweet_enagagement_retweet.loc[:, ~tweet_enagagement_retweet.columns.str.contains('^Unnamed')]"
   ]
  },
  {
   "cell_type": "markdown",
   "id": "3690f656-3b4f-41d7-bd06-54d42f8f72a4",
   "metadata": {},
   "source": [
    "## 1. Local News -- creator SG user"
   ]
  },
  {
   "cell_type": "code",
   "execution_count": 33,
   "id": "afd2191b-b6f9-47fc-8cf7-943071f87610",
   "metadata": {},
   "outputs": [],
   "source": [
    "neg_local_retweet = tweet_enagagement_retweet[(tweet_enagagement_retweet['tweet_sentiment'] == 'negative') & \\\n",
    "                                                    (tweet_enagagement_retweet['retweeted_user_geo_coding'] ==  COUNTRY) & \\\n",
    "                                                    (tweet_enagagement_retweet['retweeted_tweet_date'].between(MIN_DATE, MAX_DATE, inclusive=True))]\n",
    "\n",
    "pos_local_retweet = tweet_enagagement_retweet[(tweet_enagagement_retweet['tweet_sentiment'] == 'positive') & \\\n",
    "                                                    (tweet_enagagement_retweet['retweeted_user_geo_coding'] ==  COUNTRY) & \\\n",
    "                                                    (tweet_enagagement_retweet['retweeted_tweet_date'].between(MIN_DATE, MAX_DATE, inclusive=True))]\n",
    "\n",
    "all_local_retweet = tweet_enagagement_retweet[(tweet_enagagement_retweet['retweeted_user_geo_coding'] ==  COUNTRY) & \\\n",
    "                                                    (tweet_enagagement_retweet['retweeted_tweet_date'].between(MIN_DATE, MAX_DATE, inclusive=True))]"
   ]
  },
  {
   "cell_type": "markdown",
   "id": "fffc0a02-1771-4bf2-9576-7e6b1ab607ea",
   "metadata": {},
   "source": [
    "#### Negative Local "
   ]
  },
  {
   "cell_type": "code",
   "execution_count": 38,
   "id": "b5f3628c-1539-4c9d-b9b5-407138625ff1",
   "metadata": {},
   "outputs": [
    {
     "data": {
      "text/html": [
       "<div>\n",
       "<style scoped>\n",
       "    .dataframe tbody tr th:only-of-type {\n",
       "        vertical-align: middle;\n",
       "    }\n",
       "\n",
       "    .dataframe tbody tr th {\n",
       "        vertical-align: top;\n",
       "    }\n",
       "\n",
       "    .dataframe thead th {\n",
       "        text-align: right;\n",
       "    }\n",
       "</style>\n",
       "<table border=\"1\" class=\"dataframe\">\n",
       "  <thead>\n",
       "    <tr style=\"text-align: right;\">\n",
       "      <th></th>\n",
       "      <th>retweeted_tweet_id</th>\n",
       "      <th>local_count</th>\n",
       "    </tr>\n",
       "  </thead>\n",
       "  <tbody>\n",
       "    <tr>\n",
       "      <th>0</th>\n",
       "      <td>1440562070898962432</td>\n",
       "      <td>100</td>\n",
       "    </tr>\n",
       "    <tr>\n",
       "      <th>1</th>\n",
       "      <td>1424598213856620288</td>\n",
       "      <td>68</td>\n",
       "    </tr>\n",
       "    <tr>\n",
       "      <th>2</th>\n",
       "      <td>1438395703185735680</td>\n",
       "      <td>35</td>\n",
       "    </tr>\n",
       "    <tr>\n",
       "      <th>3</th>\n",
       "      <td>1434725178240499712</td>\n",
       "      <td>31</td>\n",
       "    </tr>\n",
       "    <tr>\n",
       "      <th>4</th>\n",
       "      <td>1425698659115491328</td>\n",
       "      <td>31</td>\n",
       "    </tr>\n",
       "    <tr>\n",
       "      <th>...</th>\n",
       "      <td>...</td>\n",
       "      <td>...</td>\n",
       "    </tr>\n",
       "    <tr>\n",
       "      <th>1779</th>\n",
       "      <td>1428893502033649664</td>\n",
       "      <td>1</td>\n",
       "    </tr>\n",
       "    <tr>\n",
       "      <th>1780</th>\n",
       "      <td>1428891365992144896</td>\n",
       "      <td>1</td>\n",
       "    </tr>\n",
       "    <tr>\n",
       "      <th>1781</th>\n",
       "      <td>1428844814909333504</td>\n",
       "      <td>1</td>\n",
       "    </tr>\n",
       "    <tr>\n",
       "      <th>1782</th>\n",
       "      <td>1428841803126435840</td>\n",
       "      <td>1</td>\n",
       "    </tr>\n",
       "    <tr>\n",
       "      <th>1783</th>\n",
       "      <td>1441222370304266240</td>\n",
       "      <td>1</td>\n",
       "    </tr>\n",
       "  </tbody>\n",
       "</table>\n",
       "<p>1784 rows × 2 columns</p>\n",
       "</div>"
      ],
      "text/plain": [
       "       retweeted_tweet_id  local_count\n",
       "0     1440562070898962432          100\n",
       "1     1424598213856620288           68\n",
       "2     1438395703185735680           35\n",
       "3     1434725178240499712           31\n",
       "4     1425698659115491328           31\n",
       "...                   ...          ...\n",
       "1779  1428893502033649664            1\n",
       "1780  1428891365992144896            1\n",
       "1781  1428844814909333504            1\n",
       "1782  1428841803126435840            1\n",
       "1783  1441222370304266240            1\n",
       "\n",
       "[1784 rows x 2 columns]"
      ]
     },
     "execution_count": 38,
     "metadata": {},
     "output_type": "execute_result"
    }
   ],
   "source": [
    "neg_local_retweet.value_counts(subset=['retweeted_tweet_id']).reset_index(name='local_count')"
   ]
  },
  {
   "cell_type": "code",
   "execution_count": 41,
   "id": "fe44b980-a319-42ba-a713-9c7097faaca4",
   "metadata": {},
   "outputs": [],
   "source": [
    "# count of RTs\n",
    "c_neg_local_retweet = neg_local_retweet.value_counts(subset=['retweeted_tweet_id']).reset_index(name='local_count').sort_values('local_count', ascending=False)\n",
    "\n",
    "# top RTs by count\n",
    "neg_local_rtids_by_count = list(c_neg_local_retweet[:TOP_RTS_POS_NEG]['retweeted_tweet_id'])\n",
    "\n",
    "# top RTs by spike in engagements\n",
    "grouped_sorted_date = neg_local_retweet.groupby(['retweeted_tweet_id', 'tweet_date']).apply(pd.DataFrame.sort_values, 'tweet_date').reset_index(drop=True)\n",
    "max_grouped_sorted_date = grouped_sorted_date.groupby(['retweeted_tweet_id', 'tweet_date'])['total_engagement'].max().reset_index()\n",
    "max_grouped_sorted_date['delta_engagement'] = max_grouped_sorted_date.groupby(['retweeted_tweet_id'])['total_engagement'].diff().fillna(0).astype(int)\n",
    "spike = max_grouped_sorted_date.groupby('retweeted_tweet_id').nth(1)\n",
    "spike = list(spike[spike['delta_engagement'] > 600].reset_index()['retweeted_tweet_id'])\n",
    "\n",
    "# get viral RTs by count and spiky engagements\n",
    "viral_neg_local_rts = neg_local_retweet[neg_local_retweet['retweeted_tweet_id'].isin(set(neg_local_rtids_by_count + spike))]\n",
    "\n",
    "# get data for delta and cumulative graphs\n",
    "grouped_sorted_date = viral_neg_local_rts.groupby(['retweeted_tweet_id', 'tweet_date', 'retweeted_user_screenname']).apply(pd.DataFrame.sort_values, 'tweet_date').reset_index(drop=True)\n",
    "max_grouped_sorted_date = grouped_sorted_date.groupby(['retweeted_tweet_id', 'tweet_date', 'retweeted_user_screenname'])['total_engagement'].max().reset_index()\n",
    "max_grouped_sorted_date['delta_engagement'] = max_grouped_sorted_date.groupby(['retweeted_tweet_id'])['total_engagement'].diff().fillna(0).astype(int)\n",
    "\n",
    "pd.DataFrame.to_csv(max_grouped_sorted_date, 'data/output/rts/local/neg_local_rts_trend.csv')"
   ]
  },
  {
   "cell_type": "code",
   "execution_count": 42,
   "id": "18c3b0bc-920f-4ad3-9c15-28f015517924",
   "metadata": {},
   "outputs": [],
   "source": [
    "viral_neg_local_rts['tweet_text_'] = [re.sub(\"RT @[A-Z_a-z_0-9:]+\",\"\", txt).strip() for txt in viral_neg_local_rts['tweet_text'] ]\n",
    "\n",
    "details_viral_neg_local_rts = viral_neg_local_rts[['tweet_text_', 'tweet_date', 'tweet_sentiment','retweeted_user_screenname', 'total_engagement',\n",
    "                                                   'retweeted_user_verified', 'retweeted_tweet_id']] \\\n",
    "                                                .groupby('retweeted_tweet_id') \\\n",
    "                                                .apply(pd.DataFrame.sort_values, 'total_engagement') \\\n",
    "                                                .reset_index(drop=True).groupby('retweeted_tweet_id').last().reset_index()\n",
    "\n",
    "\n",
    "details_viral_neg_local_rts = details_viral_neg_local_rts.loc[:, ~details_viral_neg_local_rts.columns.str.contains('^Unnamed')]\n",
    "\n",
    "details_viral_neg_local_rts\n",
    "\n",
    "k = px.colors.qualitative.Pastel[:details_viral_neg_local_rts.shape[0]]\n",
    "details_viral_neg_local_rts['color'] = k\n",
    "\n",
    "pd.DataFrame.to_csv(details_viral_neg_local_rts, 'data/output/rts/local/neg_local_rts_info.csv')"
   ]
  },
  {
   "cell_type": "markdown",
   "id": "8f32f0e2-f761-4978-abeb-6abebaa16986",
   "metadata": {},
   "source": [
    "#### Positive Local "
   ]
  },
  {
   "cell_type": "code",
   "execution_count": 43,
   "id": "49ef7dec-9a0e-4fd5-aafd-29438a4b4445",
   "metadata": {},
   "outputs": [],
   "source": [
    "# count of RTs\n",
    "c_pos_local_retweet = pos_local_retweet.value_counts(subset=['retweeted_tweet_id']).reset_index(name='local_count').sort_values('local_count', ascending=False)\n",
    "\n",
    "# top RTs by count\n",
    "pos_local_rtids_by_count = list(c_pos_local_retweet[:TOP_RTS_POS_NEG]['retweeted_tweet_id'])\n",
    "\n",
    "# top RTs by spike in engagements\n",
    "grouped_sorted_date = pos_local_retweet.groupby(['retweeted_tweet_id', 'tweet_date']).apply(pd.DataFrame.sort_values, 'tweet_date').reset_index(drop=True)\n",
    "max_grouped_sorted_date = grouped_sorted_date.groupby(['retweeted_tweet_id', 'tweet_date'])['total_engagement'].max().reset_index()\n",
    "max_grouped_sorted_date['delta_engagement'] = max_grouped_sorted_date.groupby(['retweeted_tweet_id'])['total_engagement'].diff().fillna(0).astype(int)\n",
    "spike = max_grouped_sorted_date.groupby('retweeted_tweet_id').nth(1)\n",
    "spike = list(spike[spike['delta_engagement'] >= 1500].reset_index()['retweeted_tweet_id'])\n",
    "\n",
    "# print(\"By count: \", len(pos_local_rtids_by_count))\n",
    "# print(\"By spike: \", len(spike))\n",
    "# get viral RTs by count and spiky engagements\n",
    "viral_pos_local_rts = pos_local_retweet[pos_local_retweet['retweeted_tweet_id'].isin(set(pos_local_rtids_by_count + spike))]\n",
    "\n",
    "# get data for delta and cumulative graphs\n",
    "grouped_sorted_date = viral_pos_local_rts.groupby(['retweeted_tweet_id', 'tweet_date', 'retweeted_user_screenname']).apply(pd.DataFrame.sort_values, 'tweet_date').reset_index(drop=True)\n",
    "max_grouped_sorted_date = grouped_sorted_date.groupby(['retweeted_tweet_id', 'tweet_date', 'retweeted_user_screenname'])['total_engagement'].max().reset_index()\n",
    "max_grouped_sorted_date['delta_engagement'] = max_grouped_sorted_date.groupby(['retweeted_tweet_id'])['total_engagement'].diff().fillna(0).astype(int)\n",
    "\n",
    "pd.DataFrame.to_csv(max_grouped_sorted_date, 'data/output/rts/local/pos_local_rts_trend.csv')\n",
    "\n"
   ]
  },
  {
   "cell_type": "code",
   "execution_count": 44,
   "id": "08d2fc14-25b7-4560-bfa6-03016d7b48de",
   "metadata": {},
   "outputs": [],
   "source": [
    "viral_pos_local_rts['tweet_text_'] = [re.sub(\"RT @[A-Z_a-z_0-9:]+\",\"\", txt).strip() for txt in viral_pos_local_rts['tweet_text'] ]\n",
    "\n",
    "details_viral_pos_local_rts = viral_pos_local_rts[['tweet_text_', 'tweet_date', 'tweet_sentiment', 'retweeted_user_screenname', 'total_engagement',\n",
    "                                                   'retweeted_user_verified', 'retweeted_tweet_id']] \\\n",
    "                                                .groupby('retweeted_tweet_id') \\\n",
    "                                                .apply(pd.DataFrame.sort_values, 'total_engagement') \\\n",
    "                                                .reset_index(drop=True).groupby('retweeted_tweet_id').last().reset_index()\n",
    "\n",
    "\n",
    "details_viral_pos_local_rts = details_viral_pos_local_rts.loc[:, ~details_viral_pos_local_rts.columns.str.contains('^Unnamed')]\n",
    "\n",
    "details_viral_pos_local_rts\n",
    "\n",
    "\n",
    "# details_viral_pos_local_rts.index.name = 'index'\n",
    "\n",
    "k = px.colors.qualitative.Pastel[:details_viral_pos_local_rts.shape[0]]\n",
    "details_viral_pos_local_rts['color'] = k\n",
    "\n",
    "\n",
    "pd.DataFrame.to_csv(details_viral_pos_local_rts, 'data/output/rts/local/pos_local_rts_info.csv')"
   ]
  },
  {
   "cell_type": "markdown",
   "id": "35e78168-f87d-4591-b3e5-a96f53c6ab59",
   "metadata": {},
   "source": [
    "## 2. Global News -- creator SG user"
   ]
  },
  {
   "cell_type": "code",
   "execution_count": 45,
   "id": "d0aff669-3c75-4c35-a75d-06adcc94226a",
   "metadata": {},
   "outputs": [],
   "source": [
    "neg_global_retweet = tweet_enagagement_retweet[(tweet_enagagement_retweet['tweet_sentiment'] == 'negative') & \\\n",
    "                                                    (tweet_enagagement_retweet['retweeted_user_geo_coding'] !=  COUNTRY) & \\\n",
    "                                                    (tweet_enagagement_retweet['retweeted_tweet_date'].between(MIN_DATE, MAX_DATE, inclusive=True))]\n",
    "\n",
    "pos_global_retweet = tweet_enagagement_retweet[(tweet_enagagement_retweet['tweet_sentiment'] == 'positive') & \\\n",
    "                                                    (tweet_enagagement_retweet['retweeted_user_geo_coding'] !=  COUNTRY) & \\\n",
    "                                                    (tweet_enagagement_retweet['retweeted_tweet_date'].between(MIN_DATE, MAX_DATE, inclusive=True))]\n",
    "\n",
    "all_global_retweet = tweet_enagagement_retweet[(tweet_enagagement_retweet['retweeted_user_geo_coding'] !=  COUNTRY) & \\\n",
    "                                               (tweet_enagagement_retweet['retweeted_tweet_date'].between(MIN_DATE, MAX_DATE, inclusive=True))]"
   ]
  },
  {
   "cell_type": "markdown",
   "id": "3270e9a9-e74f-4588-8e46-077b8e13970d",
   "metadata": {},
   "source": [
    "#### Positive Global "
   ]
  },
  {
   "cell_type": "code",
   "execution_count": 46,
   "id": "e9dd84a8-0786-44bd-b96b-ee021a30f3a3",
   "metadata": {},
   "outputs": [],
   "source": [
    "# count of RTs\n",
    "c_neg_global_retweet = neg_global_retweet.value_counts(subset=['retweeted_tweet_id']) \\\n",
    "                        .reset_index(name='global_count').sort_values('global_count', ascending=False)\n",
    "\n",
    "# top RTs by count\n",
    "neg_global_rtids_by_count = list(c_neg_global_retweet[:TOP_RTS_POS_NEG]['retweeted_tweet_id'])\n",
    "\n",
    "# top RTs by spike in engagements\n",
    "grouped_sorted_date = neg_global_retweet.groupby(['retweeted_tweet_id', 'tweet_date']).apply(pd.DataFrame.sort_values, 'tweet_date').reset_index(drop=True)\n",
    "max_grouped_sorted_date = grouped_sorted_date.groupby(['retweeted_tweet_id', 'tweet_date'])['total_engagement'].max().reset_index()\n",
    "max_grouped_sorted_date['delta_engagement'] = max_grouped_sorted_date.groupby(['retweeted_tweet_id'])['total_engagement'].diff().fillna(0).astype(int)\n",
    "spike = max_grouped_sorted_date.groupby('retweeted_tweet_id').nth(1)\n",
    "spike = list(spike[spike['delta_engagement'] > 240000].reset_index()['retweeted_tweet_id'])\n",
    "\n",
    "# get viral RTs by count and spiky engagements\n",
    "viral_neg_global_rts = neg_global_retweet[neg_global_retweet['retweeted_tweet_id'].isin(set(neg_global_rtids_by_count + spike))]\n",
    "\n",
    "# get data for delta and cumulative graphs\n",
    "grouped_sorted_date = viral_neg_global_rts.groupby(['retweeted_tweet_id', 'tweet_date', 'retweeted_user_screenname']).apply(pd.DataFrame.sort_values, 'tweet_date').reset_index(drop=True)\n",
    "max_grouped_sorted_date = grouped_sorted_date.groupby(['retweeted_tweet_id', 'tweet_date', 'retweeted_user_screenname'])['total_engagement'].max().reset_index()\n",
    "max_grouped_sorted_date['delta_engagement'] = max_grouped_sorted_date.groupby(['retweeted_tweet_id'])['total_engagement'].diff().fillna(0).astype(int)\n",
    "\n",
    "pd.DataFrame.to_csv(max_grouped_sorted_date, 'data/output/rts/global/neg_global_rts_trend.csv')"
   ]
  },
  {
   "cell_type": "code",
   "execution_count": 47,
   "id": "7ffb8497-fda8-4fd4-84f6-559713d0555d",
   "metadata": {},
   "outputs": [],
   "source": [
    "viral_neg_global_rts['tweet_text_'] = [re.sub(\"RT @[A-Z_a-z_0-9:]+\",\"\", txt).strip() for txt in viral_neg_global_rts['tweet_text'] ]\n",
    "\n",
    "details_viral_neg_global_rts = viral_neg_global_rts[['tweet_text_', 'tweet_date', 'tweet_sentiment','retweeted_user_screenname', 'total_engagement',\n",
    "                                                   'retweeted_user_verified', 'retweeted_tweet_id']] \\\n",
    "                                                .groupby('retweeted_tweet_id') \\\n",
    "                                                .apply(pd.DataFrame.sort_values, 'total_engagement') \\\n",
    "                                                .reset_index(drop=True).groupby('retweeted_tweet_id').last().reset_index()\n",
    "\n",
    "\n",
    "details_viral_neg_global_rts = details_viral_neg_global_rts.loc[:, ~details_viral_neg_global_rts.columns.str.contains('^Unnamed')]\n",
    "k = px.colors.qualitative.Pastel[:details_viral_neg_global_rts.shape[0]]\n",
    "\n",
    "details_viral_neg_global_rts['color'] = k\n",
    "\n",
    "pd.DataFrame.to_csv(details_viral_neg_global_rts, 'data/output/rts/global/neg_global_rts_info.csv')"
   ]
  },
  {
   "cell_type": "markdown",
   "id": "f455b5a7-39bb-4410-b436-c3149c406488",
   "metadata": {},
   "source": [
    "#### Negative Global"
   ]
  },
  {
   "cell_type": "code",
   "execution_count": 48,
   "id": "9be95830-a06f-4a01-bef2-bf156ae14c29",
   "metadata": {},
   "outputs": [],
   "source": [
    "# count of RTs\n",
    "c_pos_global_retweet = pos_global_retweet.value_counts(subset=['retweeted_tweet_id']) \\\n",
    "                        .reset_index(name='global_count').sort_values('global_count', ascending=False)\n",
    "\n",
    "# top RTs by count\n",
    "pos_global_rtids_by_count = list(c_pos_global_retweet[:TOP_RTS_POS_NEG]['retweeted_tweet_id'])\n",
    "\n",
    "# top RTs by spike in engagements\n",
    "grouped_sorted_date = pos_global_retweet.groupby(['retweeted_tweet_id', 'tweet_date']).apply(pd.DataFrame.sort_values, 'tweet_date').reset_index(drop=True)\n",
    "max_grouped_sorted_date = grouped_sorted_date.groupby(['retweeted_tweet_id', 'tweet_date'])['total_engagement'].max().reset_index()\n",
    "max_grouped_sorted_date['delta_engagement'] = max_grouped_sorted_date.groupby(['retweeted_tweet_id'])['total_engagement'].diff().fillna(0).astype(int)\n",
    "spike = max_grouped_sorted_date.groupby('retweeted_tweet_id').nth(1)\n",
    "spike = list(spike[spike['delta_engagement'] > 280000].reset_index()['retweeted_tweet_id'])\n",
    "\n",
    "# get viral RTs by count and spiky engagements\n",
    "viral_pos_global_rts = pos_global_retweet[pos_global_retweet['retweeted_tweet_id'].isin(set(pos_global_rtids_by_count + spike))]\n",
    "\n",
    "# get data for delta and cumulative graphs\n",
    "grouped_sorted_date = viral_pos_global_rts.groupby(['retweeted_tweet_id', 'tweet_date', 'retweeted_user_screenname']).apply(pd.DataFrame.sort_values, 'tweet_date').reset_index(drop=True)\n",
    "max_grouped_sorted_date = grouped_sorted_date.groupby(['retweeted_tweet_id', 'tweet_date', 'retweeted_user_screenname'])['total_engagement'].max().reset_index()\n",
    "max_grouped_sorted_date['delta_engagement'] = max_grouped_sorted_date.groupby(['retweeted_tweet_id'])['total_engagement'].diff().fillna(0).astype(int)\n",
    "\n",
    "pd.DataFrame.to_csv(max_grouped_sorted_date, 'data/output/rts/global/pos_global_rts_trend.csv')"
   ]
  },
  {
   "cell_type": "code",
   "execution_count": 49,
   "id": "dcb180eb-469b-40b6-a5cb-25718df018f2",
   "metadata": {},
   "outputs": [],
   "source": [
    "viral_pos_global_rts['tweet_text_'] = [re.sub(\"RT @[A-Z_a-z_0-9:]+\",\"\", txt).strip() for txt in viral_pos_global_rts['tweet_text'] ]\n",
    "\n",
    "details_viral_pos_global_rts = viral_pos_global_rts[['tweet_text_', 'tweet_date', 'tweet_sentiment','retweeted_user_screenname', 'total_engagement',\n",
    "                                                   'retweeted_user_verified', 'retweeted_tweet_id']] \\\n",
    "                                                .groupby('retweeted_tweet_id') \\\n",
    "                                                .apply(pd.DataFrame.sort_values, 'total_engagement') \\\n",
    "                                                .reset_index(drop=True).groupby('retweeted_tweet_id').last().reset_index()\n",
    "\n",
    "\n",
    "details_viral_pos_global_rts = details_viral_pos_global_rts.loc[:, ~details_viral_pos_global_rts.columns.str.contains('^Unnamed')]\n",
    "k = px.colors.qualitative.Pastel[:details_viral_pos_global_rts.shape[0]]\n",
    "\n",
    "details_viral_pos_global_rts['color'] = k\n",
    "\n",
    "pd.DataFrame.to_csv(details_viral_pos_global_rts, 'data/output/rts/global/pos_global_rts_info.csv')"
   ]
  },
  {
   "cell_type": "code",
   "execution_count": null,
   "id": "70fbd68c-b900-4952-998e-a7f0d26bd59d",
   "metadata": {},
   "outputs": [],
   "source": []
  },
  {
   "cell_type": "code",
   "execution_count": null,
   "id": "5991c4c5-15f5-4c18-b859-b76295042441",
   "metadata": {},
   "outputs": [],
   "source": []
  },
  {
   "cell_type": "code",
   "execution_count": null,
   "id": "04ea48fc-dc7d-495e-9201-6a200acee9f4",
   "metadata": {},
   "outputs": [],
   "source": []
  },
  {
   "cell_type": "markdown",
   "id": "2f595d05-ca84-4984-b9ba-140caa6c0836",
   "metadata": {},
   "source": [
    "## Sentiment Analysis "
   ]
  },
  {
   "cell_type": "code",
   "execution_count": 63,
   "id": "75d10ce2-15bf-493d-bd5a-3b05c0ebdc89",
   "metadata": {},
   "outputs": [
    {
     "ename": "NameError",
     "evalue": "name 'viral_quoted_tweets' is not defined",
     "output_type": "error",
     "traceback": [
      "\u001b[0;31m---------------------------------------------------------------------------\u001b[0m",
      "\u001b[0;31mNameError\u001b[0m                                 Traceback (most recent call last)",
      "\u001b[0;32m/var/folders/mv/c151lb7j7xx6ff_q9_85p_pc0000gn/T/ipykernel_8549/1928006615.py\u001b[0m in \u001b[0;36m<module>\u001b[0;34m\u001b[0m\n\u001b[1;32m      1\u001b[0m \u001b[0;31m# from functools import reduce\u001b[0m\u001b[0;34m\u001b[0m\u001b[0;34m\u001b[0m\u001b[0;34m\u001b[0m\u001b[0m\n\u001b[1;32m      2\u001b[0m \u001b[0;34m\u001b[0m\u001b[0m\n\u001b[0;32m----> 3\u001b[0;31m \u001b[0mpopular_quoted_first\u001b[0m \u001b[0;34m=\u001b[0m \u001b[0mviral_quoted_tweets\u001b[0m\u001b[0;34m[\u001b[0m\u001b[0;34m[\u001b[0m\u001b[0;34m'tweet_text'\u001b[0m\u001b[0;34m,\u001b[0m \u001b[0;34m'tweet_sentiment'\u001b[0m\u001b[0;34m,\u001b[0m \u001b[0;34m'quoted_user_screenname'\u001b[0m\u001b[0;34m,\u001b[0m \u001b[0;34m'quoted_user_verified'\u001b[0m\u001b[0;34m,\u001b[0m \u001b[0;34m'quoted_user_geo_coding'\u001b[0m\u001b[0;34m,\u001b[0m \u001b[0;34m'quoted_tweet_id'\u001b[0m\u001b[0;34m]\u001b[0m\u001b[0;34m]\u001b[0m\u001b[0;34m.\u001b[0m\u001b[0mgroupby\u001b[0m\u001b[0;34m(\u001b[0m\u001b[0;34m'quoted_tweet_id'\u001b[0m\u001b[0;34m)\u001b[0m\u001b[0;34m.\u001b[0m\u001b[0mnth\u001b[0m\u001b[0;34m(\u001b[0m\u001b[0;36m0\u001b[0m\u001b[0;34m)\u001b[0m\u001b[0;34m\u001b[0m\u001b[0;34m\u001b[0m\u001b[0m\n\u001b[0m\u001b[1;32m      4\u001b[0m \u001b[0;34m\u001b[0m\u001b[0m\n\u001b[1;32m      5\u001b[0m \u001b[0mdfs\u001b[0m \u001b[0;34m=\u001b[0m \u001b[0;34m[\u001b[0m\u001b[0mpopular_quoted_first\u001b[0m\u001b[0;34m]\u001b[0m\u001b[0;34m\u001b[0m\u001b[0;34m\u001b[0m\u001b[0m\n",
      "\u001b[0;31mNameError\u001b[0m: name 'viral_quoted_tweets' is not defined"
     ]
    }
   ],
   "source": [
    "# from functools import reduce\n",
    "\n",
    "popular_quoted_first = viral_quoted_tweets[['tweet_text', 'tweet_sentiment', 'quoted_user_screenname', 'quoted_user_verified', 'quoted_user_geo_coding', 'quoted_tweet_id']].groupby('quoted_tweet_id').nth(0)\n",
    "\n",
    "dfs = [popular_quoted_first]\n",
    "\n",
    "popular_quoted_data = ft.reduce(lambda left,right: pd.merge(left,right,on='quoted_tweet_id'), dfs)\n",
    "# popular_quoted_data"
   ]
  },
  {
   "cell_type": "code",
   "execution_count": null,
   "id": "424a63b3-9059-4175-8b12-b6f53d42b270",
   "metadata": {},
   "outputs": [],
   "source": [
    "quoted_sentiments =  viral_quoted_tweets[['user_screenname_x', 'user_geo_coding', 'tweet_text', 'tweet_sentiment', \n",
    "                'quoted_tweet_sentiment', 'quoted_tweet_text', 'quoted_user_screenname', 'quoted_user_geo_coding']]"
   ]
  },
  {
   "cell_type": "code",
   "execution_count": null,
   "id": "a576c53f-51f3-4131-a57e-3b30842bb19f",
   "metadata": {},
   "outputs": [],
   "source": [
    "quoted_tweets_with_sentiment = sg_tweets[(sg_tweets['tweet_enagagement_type'] == 'Quote') & (sg_tweets['quoted_tweet_sentiment'].notna())]\n",
    "sentiments = ['positive', 'negative', 'neutral']\n",
    "sentiments_comb = it.product(sentiments, sentiments)\n",
    "sentiments_comb = list(sentiments_comb)\n",
    "sentiments_comb"
   ]
  },
  {
   "cell_type": "code",
   "execution_count": null,
   "id": "47f2fccc-8baa-4c9c-b38a-b285684765c4",
   "metadata": {},
   "outputs": [],
   "source": [
    "# sentiments of viral quoted tweets\n",
    "\n",
    "\n",
    "quoted_by_sentiment = viral_quoted_tweets.groupby(['quoted_tweet_id', 'tweet_sentiment']).size()\\\n",
    "                        .unstack(fill_value=0).reset_index()\n",
    "\n",
    "# viral_quoted_tweets.groupby('quoted_tweet_id').apply(pd.DataFrame.count_values, 'tweet_sentiment') \\\n",
    "#                                             .reset_index(drop=True)#.groupby('retweeted_tweet_id').last().reset_index()\n",
    "quoted_by_sentiment"
   ]
  },
  {
   "cell_type": "code",
   "execution_count": null,
   "id": "6931854d-7668-4f90-8c5c-f571efaec318",
   "metadata": {},
   "outputs": [],
   "source": []
  },
  {
   "cell_type": "code",
   "execution_count": null,
   "id": "7db61401-13b0-41b3-b8eb-62a62d1cb30d",
   "metadata": {},
   "outputs": [],
   "source": []
  },
  {
   "cell_type": "markdown",
   "id": "fc6dd7b2-8537-4fee-b74c-e7e0f63aea21",
   "metadata": {},
   "source": [
    "## Good stuff: 80% > positivity spread and 80% > negativity spread"
   ]
  },
  {
   "cell_type": "code",
   "execution_count": 64,
   "id": "94563412-8655-40cd-ad1f-9e727966ab5e",
   "metadata": {},
   "outputs": [
    {
     "ename": "NameError",
     "evalue": "name 'quoted_by_sentiment' is not defined",
     "output_type": "error",
     "traceback": [
      "\u001b[0;31m---------------------------------------------------------------------------\u001b[0m",
      "\u001b[0;31mNameError\u001b[0m                                 Traceback (most recent call last)",
      "\u001b[0;32m/var/folders/mv/c151lb7j7xx6ff_q9_85p_pc0000gn/T/ipykernel_8549/1139483917.py\u001b[0m in \u001b[0;36m<module>\u001b[0;34m\u001b[0m\n\u001b[0;32m----> 1\u001b[0;31m \u001b[0mmost_spread_quoted_by_sentiment_with_rate\u001b[0m \u001b[0;34m=\u001b[0m \u001b[0mquoted_by_sentiment\u001b[0m\u001b[0;34m[\u001b[0m\u001b[0;34m(\u001b[0m\u001b[0mquoted_by_sentiment\u001b[0m\u001b[0;34m[\u001b[0m\u001b[0;34m'pos_count'\u001b[0m\u001b[0;34m]\u001b[0m \u001b[0;34m>=\u001b[0m \u001b[0;36m80\u001b[0m\u001b[0;34m)\u001b[0m \u001b[0;34m|\u001b[0m \u001b[0;34m(\u001b[0m\u001b[0mquoted_by_sentiment\u001b[0m\u001b[0;34m[\u001b[0m\u001b[0;34m'neg_count'\u001b[0m\u001b[0;34m]\u001b[0m \u001b[0;34m>=\u001b[0m \u001b[0;36m80\u001b[0m\u001b[0;34m)\u001b[0m\u001b[0;34m]\u001b[0m\u001b[0;34m\u001b[0m\u001b[0;34m\u001b[0m\u001b[0m\n\u001b[0m\u001b[1;32m      2\u001b[0m \u001b[0mmost_spread_quoted_by_sentiment_with_rate\u001b[0m\u001b[0;34m\u001b[0m\u001b[0;34m\u001b[0m\u001b[0m\n",
      "\u001b[0;31mNameError\u001b[0m: name 'quoted_by_sentiment' is not defined"
     ]
    }
   ],
   "source": [
    "most_spread_quoted_by_sentiment_with_rate = quoted_by_sentiment[(quoted_by_sentiment['pos_count'] >= 80) | (quoted_by_sentiment['neg_count'] >= 80)]\n",
    "most_spread_quoted_by_sentiment_with_rate"
   ]
  },
  {
   "cell_type": "code",
   "execution_count": null,
   "id": "60ab7726-d9d2-4f16-9b94-f1a7f0bc161c",
   "metadata": {},
   "outputs": [],
   "source": [
    "most_spread_quoted_ids = list(most_spread_quoted_by_sentiment_with_rate['quoted_tweet_id'])\n",
    "most_spread_quoted_ids"
   ]
  },
  {
   "cell_type": "code",
   "execution_count": null,
   "id": "3ff4bb50-4eb1-46ea-a4ef-1c87c4b4e3a9",
   "metadata": {},
   "outputs": [],
   "source": [
    "most_spread_quoted_info = viral_quoted_tweets[viral_quoted_tweets['quoted_tweet_id'].isin(most_spread_quoted_ids)]\n",
    "most_spread_quoted_info.columns"
   ]
  },
  {
   "cell_type": "code",
   "execution_count": null,
   "id": "615c755e-d360-40b1-82ce-78509fe5a60b",
   "metadata": {},
   "outputs": [],
   "source": [
    "most_spread_quoted_info = most_spread_quoted_info[['quoted_tweet_id', 'quoted_tweet_text', 'quoted_user_screenname', 'quoted_user_geo_coding', 'quoted_tweet_date', 'quoted_user_verified', 'total_engagement']]"
   ]
  },
  {
   "cell_type": "code",
   "execution_count": null,
   "id": "ee821aca-618d-4285-bdb1-f122b9916091",
   "metadata": {},
   "outputs": [],
   "source": [
    "most_spread_quoted_info = most_spread_quoted_info.loc[most_spread_quoted_info.groupby([\"quoted_tweet_id\"])[\"total_engagement\"].idxmax()]  "
   ]
  },
  {
   "cell_type": "code",
   "execution_count": null,
   "id": "2271211c-ed13-4f84-a1b8-a31a7a071cdb",
   "metadata": {},
   "outputs": [],
   "source": [
    "final_most_spread_quoted = most_spread_quoted_info.merge(most_spread_quoted_by_sentiment_with_rate, on=\"quoted_tweet_id\", how = 'inner')\n",
    "final_most_spread_quoted.shape"
   ]
  },
  {
   "cell_type": "code",
   "execution_count": null,
   "id": "dcf5d2b8-8f4e-404b-b8f5-773235404f59",
   "metadata": {},
   "outputs": [],
   "source": [
    "final_most_spread_quoted.drop(['negative', 'positive', 'neutral'], 1, inplace=True) "
   ]
  },
  {
   "cell_type": "code",
   "execution_count": null,
   "id": "bdf96bac-f977-463e-adf1-457554866147",
   "metadata": {},
   "outputs": [],
   "source": []
  },
  {
   "cell_type": "code",
   "execution_count": null,
   "id": "26833275-e143-418a-9195-81b99956e6ec",
   "metadata": {},
   "outputs": [],
   "source": [
    "final_most_spread_quoted['spread_type'] = ['positive' if spread_rate >= 80 else 'negative' for spread_rate in final_most_spread_quoted['pos_count']]"
   ]
  },
  {
   "cell_type": "code",
   "execution_count": null,
   "id": "13d1b955-424d-4789-87ed-c0cb74121451",
   "metadata": {},
   "outputs": [],
   "source": [
    "final_most_spread_quoted['spread_rate'] = [round(row['pos_count'], 2) if row['spread_type'] == 'positive' else round(row['neg_count'], 2) for _, row in final_most_spread_quoted.iterrows()]"
   ]
  },
  {
   "cell_type": "code",
   "execution_count": null,
   "id": "d0a0bd14-d014-4c6b-8400-fe9f0a82eb29",
   "metadata": {},
   "outputs": [],
   "source": [
    "final_most_spread_quoted.drop(['pos_count', 'neg_count'], 1, inplace=True) "
   ]
  },
  {
   "cell_type": "code",
   "execution_count": null,
   "id": "56c6c880-2083-422a-8330-646aea36f383",
   "metadata": {},
   "outputs": [],
   "source": [
    "final_most_spread_quoted"
   ]
  },
  {
   "cell_type": "code",
   "execution_count": null,
   "id": "ab0332e0-f449-4a81-96e0-f595956b8d0f",
   "metadata": {},
   "outputs": [],
   "source": []
  },
  {
   "cell_type": "code",
   "execution_count": null,
   "id": "deff96e6-e2fc-4d62-8983-55dd04dd1c1d",
   "metadata": {},
   "outputs": [],
   "source": [
    "most_spread_quoted_info[most_spread_quoted_info['quoted_tweet_id'] == 1438395703185735680]['total_engagement'].max()"
   ]
  },
  {
   "cell_type": "code",
   "execution_count": null,
   "id": "56664ae0-8038-4f49-978c-9132159e616a",
   "metadata": {},
   "outputs": [],
   "source": [
    "pd.set_option('display.max_colwidth', None)"
   ]
  },
  {
   "cell_type": "code",
   "execution_count": null,
   "id": "1b2b1a42-a3b3-4387-9f6f-2f1b9d799216",
   "metadata": {},
   "outputs": [],
   "source": [
    "test_q = 1438395703185735680\n",
    "print(tweet_enagagement_quotes[tweet_enagagement_quotes['quoted_tweet_id'] == test_q][['quoted_tweet_sentiment', 'quoted_tweet_text']].head(1))\n",
    "tweet_enagagement_quotes[tweet_enagagement_quotes['quoted_tweet_id'] == test_q].value_counts(subset=['tweet_sentiment']).reset_index(name='count')\n"
   ]
  },
  {
   "cell_type": "code",
   "execution_count": null,
   "id": "2598ab49-e097-4fbb-979e-00951847383b",
   "metadata": {},
   "outputs": [],
   "source": [
    "print(list(tweet_enagagement_quotes[tweet_enagagement_quotes['quoted_tweet_id'] == test_q]['quoted_tweet_text'])[0])\n"
   ]
  },
  {
   "cell_type": "code",
   "execution_count": null,
   "id": "37674bf8-a70b-424b-ac3b-5a52527ac95f",
   "metadata": {},
   "outputs": [],
   "source": []
  },
  {
   "cell_type": "markdown",
   "id": "85f6b06a-1c1b-449b-9e66-acb40e9d973d",
   "metadata": {},
   "source": [
    "# Another version "
   ]
  },
  {
   "cell_type": "code",
   "execution_count": 5,
   "id": "b7c8acc6-bec9-40a4-8eb2-10c7def7a20f",
   "metadata": {},
   "outputs": [
    {
     "ename": "NameError",
     "evalue": "name 'sg_tweets' is not defined",
     "output_type": "error",
     "traceback": [
      "\u001b[0;31m---------------------------------------------------------------------------\u001b[0m",
      "\u001b[0;31mNameError\u001b[0m                                 Traceback (most recent call last)",
      "\u001b[0;32m/var/folders/mv/c151lb7j7xx6ff_q9_85p_pc0000gn/T/ipykernel_8549/3444642118.py\u001b[0m in \u001b[0;36m<module>\u001b[0;34m\u001b[0m\n\u001b[1;32m      1\u001b[0m \u001b[0mTOP_RTS\u001b[0m \u001b[0;34m=\u001b[0m \u001b[0;36m8\u001b[0m\u001b[0;34m\u001b[0m\u001b[0;34m\u001b[0m\u001b[0m\n\u001b[1;32m      2\u001b[0m \u001b[0;34m\u001b[0m\u001b[0m\n\u001b[0;32m----> 3\u001b[0;31m \u001b[0mpos_tweet_enagagement_retweet\u001b[0m \u001b[0;34m=\u001b[0m \u001b[0msg_tweets\u001b[0m\u001b[0;34m[\u001b[0m\u001b[0;34m(\u001b[0m\u001b[0msg_tweets\u001b[0m\u001b[0;34m[\u001b[0m\u001b[0;34m'tweet_enagagement_type'\u001b[0m\u001b[0;34m]\u001b[0m \u001b[0;34m==\u001b[0m \u001b[0;34m'Retweet'\u001b[0m\u001b[0;34m)\u001b[0m \u001b[0;34m&\u001b[0m \u001b[0;34m(\u001b[0m\u001b[0msg_tweets\u001b[0m\u001b[0;34m[\u001b[0m\u001b[0;34m'tweet_sentiment'\u001b[0m\u001b[0;34m]\u001b[0m \u001b[0;34m==\u001b[0m \u001b[0;34m'positive'\u001b[0m\u001b[0;34m)\u001b[0m\u001b[0;34m]\u001b[0m\u001b[0;34m\u001b[0m\u001b[0;34m\u001b[0m\u001b[0m\n\u001b[0m\u001b[1;32m      4\u001b[0m \u001b[0mpos_tweet_enagagement_retweet\u001b[0m\u001b[0;34m[\u001b[0m\u001b[0;34m'retweeted_tweet_time'\u001b[0m\u001b[0;34m]\u001b[0m \u001b[0;34m=\u001b[0m \u001b[0mpd\u001b[0m\u001b[0;34m.\u001b[0m\u001b[0mto_datetime\u001b[0m\u001b[0;34m(\u001b[0m\u001b[0mpos_tweet_enagagement_retweet\u001b[0m\u001b[0;34m[\u001b[0m\u001b[0;34m'retweeted_tweet_time'\u001b[0m\u001b[0;34m]\u001b[0m\u001b[0;34m,\u001b[0m \u001b[0merrors\u001b[0m\u001b[0;34m=\u001b[0m\u001b[0;34m'coerce'\u001b[0m\u001b[0;34m)\u001b[0m\u001b[0;34m\u001b[0m\u001b[0;34m\u001b[0m\u001b[0m\n\u001b[1;32m      5\u001b[0m \u001b[0mpos_tweet_enagagement_retweet\u001b[0m \u001b[0;34m=\u001b[0m \u001b[0mpos_tweet_enagagement_retweet\u001b[0m\u001b[0;34m.\u001b[0m\u001b[0mdropna\u001b[0m\u001b[0;34m(\u001b[0m\u001b[0msubset\u001b[0m\u001b[0;34m=\u001b[0m\u001b[0;34m[\u001b[0m\u001b[0;34m'retweeted_tweet_time'\u001b[0m\u001b[0;34m]\u001b[0m\u001b[0;34m)\u001b[0m\u001b[0;34m\u001b[0m\u001b[0;34m\u001b[0m\u001b[0m\n",
      "\u001b[0;31mNameError\u001b[0m: name 'sg_tweets' is not defined"
     ]
    }
   ],
   "source": [
    "TOP_RTS = 8\n",
    "\n",
    "pos_tweet_enagagement_retweet = sg_tweets[(sg_tweets['tweet_enagagement_type'] == 'Retweet') & (sg_tweets['tweet_sentiment'] == 'positive')]\n",
    "pos_tweet_enagagement_retweet['retweeted_tweet_time'] = pd.to_datetime(pos_tweet_enagagement_retweet['retweeted_tweet_time'], errors='coerce')\n",
    "pos_tweet_enagagement_retweet = pos_tweet_enagagement_retweet.dropna(subset=['retweeted_tweet_time'])\n",
    "pos_tweet_enagagement_retweet['retweeted_tweet_date'] = pos_tweet_enagagement_retweet.retweeted_tweet_time.dt.strftime('%Y-%m-%d')\n",
    "\n",
    "\n",
    "pos_tweet_enagagement_retweet = pos_tweet_enagagement_retweet[pos_tweet_enagagement_retweet['retweeted_tweet_date'].between(MIN_DATE, MAX_DATE, inclusive=True)]\n",
    "pos_local_rts = pos_tweet_enagagement_retweet.value_counts(subset=['retweeted_tweet_id']).reset_index(name='local_count').sort_values('local_count', ascending=False)\n",
    "pos_local_rts['retweeted_tweet_id'] = pos_local_rts['retweeted_tweet_id'].apply(int).apply(str)\n",
    "pos_local_rts = pos_local_rts[:20]\n",
    "pos_local_rts = [int(i) for i in list(pos_local_rts['retweeted_tweet_id'])]\n",
    "\n",
    "pos_local_rts = sg_tweets[sg_tweets['retweeted_tweet_id'].isin(pos_local_rts)]"
   ]
  },
  {
   "cell_type": "markdown",
   "id": "11d3d90c-d46a-4417-af80-d124dc986269",
   "metadata": {},
   "source": [
    "#### Negative tweets circulating the most"
   ]
  },
  {
   "cell_type": "code",
   "execution_count": null,
   "id": "6ebf8594-f459-4265-8af2-57e947254db0",
   "metadata": {},
   "outputs": [],
   "source": [
    "TOP_RTS = 10\n",
    "neg_tweet_enagagement_retweet = sg_tweets[(sg_tweets['tweet_enagagement_type'] == 'Retweet') & (sg_tweets['tweet_sentiment'] == 'negative')]\n",
    "neg_tweet_enagagement_retweet['retweeted_tweet_time'] = pd.to_datetime(neg_tweet_enagagement_retweet['retweeted_tweet_time'], errors='coerce')\n",
    "neg_tweet_enagagement_retweet = neg_tweet_enagagement_retweet.dropna(subset=['retweeted_tweet_time'])\n",
    "neg_tweet_enagagement_retweet['retweeted_tweet_date'] = neg_tweet_enagagement_retweet.retweeted_tweet_time.dt.strftime('%Y-%m-%d')"
   ]
  },
  {
   "cell_type": "code",
   "execution_count": null,
   "id": "0614acd4-00a9-4eac-a57c-26e85283e915",
   "metadata": {},
   "outputs": [],
   "source": [
    "neg_tweet_enagagement_retweet = neg_tweet_enagagement_retweet[neg_tweet_enagagement_retweet['retweeted_tweet_date'].between(MIN_DATE, MAX_DATE, inclusive=True)]\n",
    "neg_local_rts = neg_tweet_enagagement_retweet.value_counts(subset=['retweeted_tweet_id']).reset_index(name='local_count').sort_values('local_count', ascending=False)\n",
    "neg_local_rts['retweeted_tweet_id'] = neg_local_rts['retweeted_tweet_id'].apply(int).apply(str)\n",
    "neg_local_rts = neg_local_rts[:10]\n",
    "neg_top_rts_list = [int(i) for i in list(neg_local_rts['retweeted_tweet_id'])]\n",
    "\n",
    "neg_popular_rts = sg_tweets[sg_tweets['retweeted_tweet_id'].isin(neg_top_rts_list)]\n",
    "neg_popular_rts"
   ]
  },
  {
   "cell_type": "code",
   "execution_count": null,
   "id": "da0a04a3-d577-4286-a076-2496d944775b",
   "metadata": {},
   "outputs": [],
   "source": [
    "neg_global_rts = tw_data[tw_data['retweeted_tweet_id'].isin(neg_top_rts_list)]\n",
    "neg_global_rts = neg_global_rts.value_counts(subset=['retweeted_tweet_id']).reset_index(name='global_count').sort_values('global_count', ascending=False)\n",
    "neg_global_rts"
   ]
  },
  {
   "cell_type": "code",
   "execution_count": null,
   "id": "670eeb1e-8d7e-4585-8bf5-928ea60c442c",
   "metadata": {},
   "outputs": [],
   "source": [
    "neg_global_rts.sort_values(by='retweeted_tweet_id')['global_count'] - neg_local_rts.sort_values(by='retweeted_tweet_id')['local_count']"
   ]
  },
  {
   "cell_type": "code",
   "execution_count": null,
   "id": "ff6b90cc-6d78-45ca-b18a-3b889dd62b75",
   "metadata": {},
   "outputs": [],
   "source": [
    "#### General RTs"
   ]
  },
  {
   "cell_type": "code",
   "execution_count": null,
   "id": "c9ca9952-4f4a-4f30-9112-07c99449c558",
   "metadata": {},
   "outputs": [],
   "source": [
    "gen_tweet_enagagement_retweet = sg_tweets[(sg_tweets['tweet_enagagement_type'] == 'Retweet')]\n",
    "gen_tweet_enagagement_retweet['retweeted_tweet_time'] = pd.to_datetime(gen_tweet_enagagement_retweet['retweeted_tweet_time'], errors='coerce')\n",
    "gen_tweet_enagagement_retweet = gen_tweet_enagagement_retweet.dropna(subset=['retweeted_tweet_time'])\n",
    "gen_tweet_enagagement_retweet['retweeted_tweet_date'] = gen_tweet_enagagement_retweet.retweeted_tweet_time.dt.strftime('%Y-%m-%d')"
   ]
  },
  {
   "cell_type": "code",
   "execution_count": null,
   "id": "7b319673-c666-4e9c-b9ba-bec8fc971dc6",
   "metadata": {},
   "outputs": [],
   "source": [
    "gen_tweet_enagagement_retweet = gen_tweet_enagagement_retweet[gen_tweet_enagagement_retweet['retweeted_tweet_date'].between(MIN_DATE, MAX_DATE, inclusive=True)]\n",
    "genral_local_rts = gen_tweet_enagagement_retweet.value_counts(subset=['retweeted_tweet_id']).reset_index(name='local_count').sort_values('local_count', ascending=False)\n",
    "genral_local_rts['retweeted_tweet_id'] = genral_local_rts['retweeted_tweet_id'].apply(int).apply(str)\n",
    "genral_local_rts = genral_local_rts[:10]\n",
    "genral_local_rts_list = [int(i) for i in list(genral_local_rts['retweeted_tweet_id'])]\n",
    "genral_local_rts_ = sg_tweets[sg_tweets['retweeted_tweet_id'].isin(genral_local_rts_list)]"
   ]
  },
  {
   "cell_type": "code",
   "execution_count": null,
   "id": "b12d1e9e-300c-4e52-b8b8-5b2c2922ad41",
   "metadata": {},
   "outputs": [],
   "source": [
    "global_rts = tw_data[tw_data['retweeted_tweet_id'].isin(genral_local_rts_list)]\n",
    "global_rts = global_rts.value_counts(subset=['retweeted_tweet_id']).reset_index(name='global_count').sort_values('global_count', ascending=False)\n",
    "global_rts"
   ]
  },
  {
   "cell_type": "code",
   "execution_count": null,
   "id": "88157fd9-4bbc-4ddd-8e0b-a90a83b30804",
   "metadata": {},
   "outputs": [],
   "source": [
    "popular_rts['engagement_counts'] = popular_rts['retweeted_favorite_count'].apply(int) + popular_rts['retweeted_retweet_count'].apply(int)\n",
    "popular_rts['retweeted_tweet_id'] = popular_rts['retweeted_tweet_id'].apply(int).apply(str)\n",
    "popular_rts['retweeted_user_geo_coding'].fillna(value='Unknown', inplace=True)"
   ]
  },
  {
   "cell_type": "code",
   "execution_count": null,
   "id": "9478c089-65a0-46e5-84dd-b4765c63969d",
   "metadata": {},
   "outputs": [],
   "source": [
    "import plotly.graph_objects as go\n",
    "import plotly.express as px\n",
    "import pandas as pd\n",
    "import math\n",
    "\n",
    "hover_text = []\n",
    "bubble_size = []\n",
    "\n",
    "for index, row in popular_rts.iterrows():\n",
    "    hover_text.append(('Country: {country}<br>'+\n",
    "                      'Engagement counts: {engagement_counts}<br>'\n",
    "                      ).format(country=row['retweeted_user_geo_coding'].split('|')[0],\n",
    "                                engagement_counts=row['engagement_counts']))\n",
    "    bubble_size.append(math.sqrt(row['engagement_counts']))\n",
    "\n",
    "popular_rts['hover_text'] = hover_text\n",
    "popular_rts['size'] = bubble_size\n",
    "sizeref = 2.*max(popular_rts['size'])/(100**2)\n",
    "\n",
    "# Dictionary with dataframes for each continent\n",
    "rts_names = top_rts#['Africa', 'Americas', 'Asia', 'Europe', 'Oceania']\n",
    "rt_data = {rtid:popular_rts.query(\"retweeted_tweet_id == '%s'\" %rtid)\n",
    "                              for rtid in rts_names}\n",
    "# Create figure\n",
    "fig = go.Figure()\n",
    "\n",
    "for rtid, rt in rt_data.items():\n",
    "    fig.add_trace(go.Scatter(\n",
    "        x=rt['tweet_date'], y=rt['engagement_counts'],\n",
    "        name=rtid, text=rt['hover_text'],\n",
    "        marker_size=rt['size'],\n",
    "        ))\n",
    "\n",
    "# Tune marker appearance and layout\n",
    "fig.update_traces(mode='markers', marker=dict(sizemode='area', sizeref=sizeref, line_width=2))\n",
    "\n",
    "fig.update_layout(\n",
    "    template=\"plotly_white\",\n",
    "    showlegend=True, \n",
    "    title=\"Most retweeted tweets' propagation across days\",\n",
    "    xaxis=dict(\n",
    "        title=\"\",\n",
    "#         gridcolor='white',\n",
    "#         type='log',\n",
    "        gridwidth=1,\n",
    "    ),\n",
    "    yaxis=dict(\n",
    "        title=\"Users' engagement (RTs + Favorites)\",\n",
    "        gridwidth=1,\n",
    "    )\n",
    ")\n",
    "fig.show()"
   ]
  },
  {
   "cell_type": "code",
   "execution_count": null,
   "id": "053b65f9-2c8e-4c0b-b938-172b27fc1a00",
   "metadata": {},
   "outputs": [],
   "source": [
    "from functools import reduce\n",
    "popular_rts_first = popular_rts[['tweet_text', 'tweet_sentiment', 'retweeted_user_screenname', 'retweeted_user_verified', 'retweeted_user_geo_coding', 'retweeted_tweet_id']].groupby('retweeted_tweet_id').nth(0)\n",
    "dfs = [popular_rts_first, local_rts, global_rts]\n",
    "popular_rts_data = reduce(lambda left,right: pd.merge(left,right,on='retweeted_tweet_id'), dfs)"
   ]
  },
  {
   "cell_type": "code",
   "execution_count": null,
   "id": "d15cb0fb-0a3b-4bf1-af5b-f2eac6caba01",
   "metadata": {},
   "outputs": [],
   "source": []
  },
  {
   "cell_type": "markdown",
   "id": "c9589359-8274-4df0-9a56-544d48e51178",
   "metadata": {},
   "source": [
    "## Quoted - Popular tweets in SG and global influence"
   ]
  },
  {
   "cell_type": "code",
   "execution_count": null,
   "id": "89ca976a-5822-415d-88a8-af01a46958ec",
   "metadata": {},
   "outputs": [],
   "source": [
    "tweet_enagagement_quote = sg_tweets[sg_tweets['tweet_enagagement_type'] == 'Quote']\n"
   ]
  },
  {
   "cell_type": "code",
   "execution_count": null,
   "id": "05b7a754-ce50-495f-93cb-951e16aaa065",
   "metadata": {},
   "outputs": [],
   "source": [
    "TOP_QUOTES = 8\n",
    "local_quoted = tweet_enagagement_quote.value_counts(subset=['quoted_tweet_id']).reset_index(name='local_count').sort_values('local_count', ascending=False)\n",
    "\n",
    "local_quoted['quoted_tweet_id'] = local_quoted['quoted_tweet_id'].apply(int).apply(str)\n",
    "\n",
    "local_quoted = local_quoted[:TOP_QUOTES]\n",
    "top_quoted = [int(i) for i in list(local_quoted['quoted_tweet_id'])]\n",
    "local_quoted"
   ]
  },
  {
   "cell_type": "code",
   "execution_count": null,
   "id": "86e449db-298d-4a5c-970f-175bc7d32389",
   "metadata": {},
   "outputs": [],
   "source": [
    "popular_quoted = tweet_enagagement_quote[tweet_enagagement_quote['quoted_tweet_id'].isin(top_quoted)]"
   ]
  },
  {
   "cell_type": "code",
   "execution_count": null,
   "id": "2f744f05-a1f5-416f-b9d8-3ab522f74adc",
   "metadata": {},
   "outputs": [],
   "source": [
    "global_quoted = tw_data[tw_data['quoted_tweet_id'].isin(top_quoted)]\n",
    "global_quoted = global_quoted.value_counts(subset=['quoted_tweet_id']).reset_index(name='global_count').sort_values('global_count', ascending=False)\n",
    "global_quoted['quoted_tweet_id'] = global_quoted['quoted_tweet_id'].apply(int).apply(str)\n",
    "global_quoted"
   ]
  },
  {
   "cell_type": "code",
   "execution_count": null,
   "id": "91fc298f-c35b-4f7b-b9ab-ae7dde9fe8b5",
   "metadata": {},
   "outputs": [],
   "source": [
    "popular_quoted['engagement_counts'] = popular_quoted['quoted_favorite_count'].apply(int) + popular_quoted['quoted_retweet_count'].apply(int)\n",
    "popular_quoted['quoted_tweet_id'] = popular_quoted['quoted_tweet_id'].apply(int).apply(str)\n",
    "popular_quoted['quoted_user_geo_coding'].fillna(value='Unknown', inplace=True)\n",
    "popular_quoted['user_geo_coding'].fillna(value='Unknown', inplace=True)"
   ]
  },
  {
   "cell_type": "code",
   "execution_count": null,
   "id": "b26b88bb-b9c9-4b54-b5a6-b287859919b7",
   "metadata": {},
   "outputs": [],
   "source": [
    "hover_text = []\n",
    "bubble_size = []\n",
    "\n",
    "for index, row in popular_quoted.iterrows():\n",
    "    hover_text.append(('Country: {country}<br>'+\n",
    "                      'Engagement counts: {engagement_counts}<br>'\n",
    "                      ).format(country=row['quoted_user_geo_coding'].split('|')[0],\n",
    "                                engagement_counts=row['engagement_counts']))\n",
    "    bubble_size.append(math.sqrt(row['engagement_counts']))\n",
    "\n",
    "popular_quoted['hover_text'] = hover_text\n",
    "popular_quoted['size'] = bubble_size\n",
    "sizeref = 2.*max(popular_quoted['size'])/(100**2)\n",
    "\n",
    "# Dictionary with dataframes for each continent\n",
    "# quoted_names = top_quoted#['Africa', 'Americas', 'Asia', 'Europe', 'Oceania']\n",
    "quoted_data = {quotedid:popular_quoted.query(\"quoted_tweet_id == '%s'\" %quotedid)\n",
    "                              for quotedid in top_quoted}\n",
    "# Create figure\n",
    "fig = go.Figure()\n",
    "\n",
    "for quotedid, quote in quoted_data.items():\n",
    "    fig.add_trace(go.Scatter(\n",
    "        x=quote['tweet_date'], y=quote['engagement_counts'],\n",
    "        name=quotedid, text=quote['hover_text'],\n",
    "        marker_size=quote['size'],\n",
    "        ))\n",
    "\n",
    "# Tune marker appearance and layout\n",
    "fig.update_traces(mode='markers', marker=dict(sizemode='area', sizeref=sizeref, line_width=2))\n",
    "\n",
    "fig.update_layout(\n",
    "    template=\"plotly_white\",\n",
    "    showlegend=True, \n",
    "    title=\"Most quoted tweets' propagation across days\",\n",
    "    xaxis=dict(\n",
    "        title=\"\",\n",
    "#         gridcolor='white',\n",
    "#         type='log',\n",
    "        gridwidth=1,\n",
    "    ),\n",
    "    yaxis=dict(\n",
    "        title=\"Users' engagement (RTs + Favorites)\",\n",
    "        gridwidth=1,\n",
    "    )\n",
    ")\n",
    "fig.show()"
   ]
  },
  {
   "cell_type": "code",
   "execution_count": null,
   "id": "5a4ee08d-85a0-48fb-a853-3b03d55780c8",
   "metadata": {},
   "outputs": [],
   "source": [
    "from functools import reduce\n",
    "\n",
    "popular_quoted_first = popular_quoted[['tweet_text', 'tweet_sentiment', 'quoted_user_screenname', 'quoted_user_verified', 'quoted_user_geo_coding', 'quoted_tweet_id']].groupby('quoted_tweet_id').nth(0)\n",
    "\n",
    "dfs = [popular_quoted_first, local_quoted, global_quoted]\n",
    "\n",
    "popular_quoted_data = reduce(lambda left,right: pd.merge(left,right,on='quoted_tweet_id'), dfs)"
   ]
  },
  {
   "cell_type": "markdown",
   "id": "3f94431b-7223-4efe-b025-8afa5dfdb446",
   "metadata": {},
   "source": [
    "# QUOTED SENTIMENT ANALYSIS"
   ]
  },
  {
   "cell_type": "code",
   "execution_count": null,
   "id": "d64f9f64-17ee-445e-9c9c-12601c7ad879",
   "metadata": {},
   "outputs": [],
   "source": [
    "quoted_tweets_with_sentiment = sg_tweets[(sg_tweets['tweet_enagagement_type'] == 'Quote') & (sg_tweets['quoted_tweet_sentiment'].notna())]\n",
    "sentiments = ['positive', 'negative', 'neutral']\n",
    "sentiments_comb = it.product(sentiments, sentiments)\n",
    "sentiments_comb = list(sentiments_comb)\n",
    "sentiments_comb"
   ]
  },
  {
   "cell_type": "code",
   "execution_count": null,
   "id": "71ed3592-0db1-42a9-b16a-a523c30c36d2",
   "metadata": {},
   "outputs": [],
   "source": [
    "for s1, s2 in sentiments_comb:\n",
    "    sc.append('{}_{}'.format(s1, s2))\n",
    "    print(\"Tweet: {} | Quoted: {} - {}\".format(s1, s2, len(sg_tweets[(sg_tweets['tweet_sentiment'] == s1) &  (sg_tweets['quoted_tweet_sentiment'] == s2)])))"
   ]
  },
  {
   "cell_type": "code",
   "execution_count": null,
   "id": "b4021a6e-adbd-466c-aa59-d89e92e6c356",
   "metadata": {},
   "outputs": [],
   "source": [
    "sc = []\n",
    "sc_count = []\n",
    "colors = []\n",
    "for s1, s2 in sentiments_comb:\n",
    "    sc.append('{}_{}'.format(s1, s2))\n",
    "    if s2 == 'negative': colors.append('red') \n",
    "    elif s2 == 'neutral': colors.append('#FFFF00')\n",
    "    else: colors.append('green')\n",
    "    sc_count.append( len(sg_tweets[(sg_tweets['tweet_sentiment'] == s1) &  (sg_tweets['quoted_tweet_sentiment'] == s2)]))\n",
    "    \n",
    "sentiment_count = {\n",
    "    'sentiment_trans': sc,\n",
    "    'sentiment_trans_count': sc_count\n",
    "}\n",
    "sentiment_count\n",
    "\n",
    "fig = px.bar(sentiment_count, x=\"sentiment_trans_count\", y=\"sentiment_trans\", template='plotly_white', color=colors, \n",
    "             height=400)\n",
    "fig.update_layout(showlegend=False, title=\"Sentiment propagation -- count of (root tweet sentiment, quoted tweet sentiment)\")\n",
    "fig.show()"
   ]
  },
  {
   "cell_type": "code",
   "execution_count": null,
   "id": "da0d98f8-b08b-42d9-97a3-203f10ed978d",
   "metadata": {},
   "outputs": [],
   "source": [
    "sg_tweets[(sg_tweets[\"tweet_sentiment\"] == 'negative') & \\\n",
    "          (sg_tweets[\"quoted_tweet_sentiment\"] == 'positive')][['tweet_text', 'quoted_tweet_text']]"
   ]
  },
  {
   "cell_type": "code",
   "execution_count": null,
   "id": "cc43a204-d7a6-49be-aeac-490c844b9f8b",
   "metadata": {},
   "outputs": [],
   "source": []
  }
 ],
 "metadata": {
  "kernelspec": {
   "display_name": "Python 3 (ipykernel)",
   "language": "python",
   "name": "python3"
  },
  "language_info": {
   "codemirror_mode": {
    "name": "ipython",
    "version": 3
   },
   "file_extension": ".py",
   "mimetype": "text/x-python",
   "name": "python",
   "nbconvert_exporter": "python",
   "pygments_lexer": "ipython3",
   "version": "3.8.11"
  }
 },
 "nbformat": 4,
 "nbformat_minor": 5
}
